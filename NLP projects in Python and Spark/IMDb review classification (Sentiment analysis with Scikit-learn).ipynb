{
 "cells": [
  {
   "cell_type": "markdown",
   "metadata": {},
   "source": [
    "# Data description & Problem statement: \n",
    "   The IMDB movie reviews dataset is a set of 50,000 reviews, half of which are positive and the other half negative. This dataset is widely used in sentiment analysis benchmarks, which makes it a convenient way to evaluate our own performance against existing models. The dataset is available online and can be either directly downloaded from Stanford’s website. \n",
    "\n",
    "# Workflow:\n",
    "- Load the training and test datasets\n",
    "- Data cleaning (e.g. remove formats and punctuations)\n",
    "- Text vectorization, using \"Bag of Words\" technique\n",
    "- Use \"tf-idf transformation\", and find the \"N-grams\" to improve the model performace\n",
    "- Use a supervised classifier (e.g. Logistic Regression, Naive Bayes, etc.) for text classification: Use Grid-Serach along with Cross-Validation technique for finding the optimal hyper-parameters of best classifier\n",
    "- Evaluate the performance of best classifier on the test data set, by calculating:\n",
    "     - Accuracy\n",
    "     - f1, Precision, Recall scores\n",
    "     - Confusion matrix\n",
    "     - ROC curve  \n",
    "- Finally, determine most important words/features during semantic analysis for both positive and negative reviews\n",
    "\n",
    "\n",
    "   * Note: I repeat abovementioned process with and without Word Normalization (i.e. using lammatization/stemming) for the sake of comparison. For the word normalization I use \"SpaCy\" library."
   ]
  },
  {
   "cell_type": "code",
   "execution_count": 1,
   "metadata": {},
   "outputs": [],
   "source": [
    "import sklearn\n",
    "import numpy as np\n",
    "import scipy as sc\n",
    "import pandas as pd\n",
    "import matplotlib.pyplot as plt\n",
    "\n",
    "import seaborn as sns\n",
    "from sklearn import preprocessing\n",
    "%matplotlib inline\n",
    "\n",
    "from scipy import stats\n",
    "\n",
    "import warnings\n",
    "warnings.filterwarnings(\"ignore\")\n",
    "\n",
    "# we insatll and import spacy package for some advanced tokenizaion techniques:\n",
    "import spacy\n",
    "\n",
    "# we also install and import mglearn package (using !pip install mglearn) for some interesting visualization of results:\n",
    "import mglearn"
   ]
  },
  {
   "cell_type": "code",
   "execution_count": 2,
   "metadata": {},
   "outputs": [
    {
     "name": "stdout",
     "output_type": "stream",
     "text": [
      "Folder PATH listing for volume OS\n",
      "Volume serial number is 3EA9-93A4\n",
      "C:\\USERS\\RHASH\\DOCUMENTS\\DATASETS\\NLP PROJECTS (SKLEARN & SPARK)\\ACLIMDB\n",
      "ÃÄÄÄtest\n",
      "³   ÃÄÄÄneg\n",
      "³   ÀÄÄÄpos\n",
      "ÃÄÄÄtrain\n",
      "³   ÃÄÄÄneg\n",
      "³   ÀÄÄÄpos\n",
      "ÀÄÄÄunsupervised\n",
      "    ÀÄÄÄunsup\n"
     ]
    }
   ],
   "source": [
    "!tree aclImdb"
   ]
  },
  {
   "cell_type": "markdown",
   "metadata": {},
   "source": [
    "# load and prepare the text data: "
   ]
  },
  {
   "cell_type": "code",
   "execution_count": 3,
   "metadata": {},
   "outputs": [
    {
     "name": "stdout",
     "output_type": "stream",
     "text": [
      "type of text_train: <class 'list'> \n",
      "\n",
      "length of text_train: 25000 \n",
      "\n",
      "Samples per class (training): [12500 12500] \n",
      "\n",
      "text_train[0]:\n",
      "b\"Zero Day leads you to think, even re-think why two boys/young men would do what they did - commit mutual suicide via slaughtering their classmates. It captures what must be beyond a bizarre mode of being for two humans who have decided to withdraw from common civility in order to define their own/mutual world via coupled destruction.<br /><br />It is not a perfect movie but given what money/time the filmmaker and actors had - it is a remarkable product. In terms of explaining the motives and actions of the two young suicide/murderers it is better than 'Elephant' - in terms of being a film that gets under our 'rationalistic' skin it is a far, far better film than almost anything you are likely to see. <br /><br />Flawed but honest with a terrible honesty.\"\n"
     ]
    }
   ],
   "source": [
    "# load the training data:\n",
    "from sklearn.datasets import load_files\n",
    "reviews_train = load_files(\"aclImdb/train/\") # load_files returns a bunch, containing training texts and training labels\n",
    "text_train, y_train = reviews_train.data, reviews_train.target \n",
    "\n",
    "print(\"type of text_train: {}\".format(type(text_train)), \"\\n\") \n",
    "print(\"length of text_train: {}\".format(len(text_train)), \"\\n\") \n",
    "print(\"Samples per class (training): {}\".format(np.bincount(y_train)), \"\\n\") \n",
    "\n",
    "print(\"text_train[0]:\\n{}\".format(text_train[0]))"
   ]
  },
  {
   "cell_type": "code",
   "execution_count": 4,
   "metadata": {},
   "outputs": [
    {
     "name": "stdout",
     "output_type": "stream",
     "text": [
      "Number of documents in test data: 25000\n",
      "Samples per class (test): [12500 12500]\n"
     ]
    }
   ],
   "source": [
    "# load the test data too:\n",
    "reviews_test = load_files(\"aclImdb/test/\") \n",
    "text_test, y_test = reviews_test.data, reviews_test.target \n",
    "print(\"Number of documents in test data: {}\".format(len(text_test))) \n",
    "print(\"Samples per class (test): {}\".format(np.bincount(y_test))) "
   ]
  },
  {
   "cell_type": "code",
   "execution_count": 5,
   "metadata": {},
   "outputs": [],
   "source": [
    "# text_train contains some HTML line breaks (<br />). \n",
    "# It is better to clean the data and remove this formatting before we proceed:\n",
    "\n",
    "text_train = [doc.replace(b\"<br />\", b\" \") for doc in text_train]\n",
    "text_test = [doc.replace(b\"<br />\", b\" \") for doc in text_test]"
   ]
  },
  {
   "cell_type": "markdown",
   "metadata": {},
   "source": [
    "# Semantic analysis with tf-idf and n-grams techniques using LR model: \n",
    "    * Approach 1: without word normalization (i.e. lammatization or stemming)"
   ]
  },
  {
   "cell_type": "code",
   "execution_count": 6,
   "metadata": {},
   "outputs": [
    {
     "data": {
      "text/html": [
       "<div>\n",
       "<style scoped>\n",
       "    .dataframe tbody tr th:only-of-type {\n",
       "        vertical-align: middle;\n",
       "    }\n",
       "\n",
       "    .dataframe tbody tr th {\n",
       "        vertical-align: top;\n",
       "    }\n",
       "\n",
       "    .dataframe thead th {\n",
       "        text-align: right;\n",
       "    }\n",
       "</style>\n",
       "<table border=\"1\" class=\"dataframe\">\n",
       "  <thead>\n",
       "    <tr style=\"text-align: right;\">\n",
       "      <th></th>\n",
       "      <th>mean_fit_time</th>\n",
       "      <th>std_fit_time</th>\n",
       "      <th>mean_score_time</th>\n",
       "      <th>std_score_time</th>\n",
       "      <th>param_logisticregression__C</th>\n",
       "      <th>param_tfidfvectorizer__ngram_range</th>\n",
       "      <th>params</th>\n",
       "      <th>split0_test_score</th>\n",
       "      <th>split1_test_score</th>\n",
       "      <th>mean_test_score</th>\n",
       "      <th>std_test_score</th>\n",
       "      <th>rank_test_score</th>\n",
       "      <th>split0_train_score</th>\n",
       "      <th>split1_train_score</th>\n",
       "      <th>mean_train_score</th>\n",
       "      <th>std_train_score</th>\n",
       "    </tr>\n",
       "  </thead>\n",
       "  <tbody>\n",
       "    <tr>\n",
       "      <th>11</th>\n",
       "      <td>67.400111</td>\n",
       "      <td>0.008758</td>\n",
       "      <td>17.423167</td>\n",
       "      <td>0.072951</td>\n",
       "      <td>100</td>\n",
       "      <td>(1, 3)</td>\n",
       "      <td>{'logisticregression__C': 100, 'tfidfvectorize...</td>\n",
       "      <td>0.89424</td>\n",
       "      <td>0.89824</td>\n",
       "      <td>0.89624</td>\n",
       "      <td>0.00200</td>\n",
       "      <td>1</td>\n",
       "      <td>1.00000</td>\n",
       "      <td>1.00000</td>\n",
       "      <td>1.00000</td>\n",
       "      <td>0.00000</td>\n",
       "    </tr>\n",
       "    <tr>\n",
       "      <th>9</th>\n",
       "      <td>66.495624</td>\n",
       "      <td>0.037763</td>\n",
       "      <td>24.096656</td>\n",
       "      <td>0.155499</td>\n",
       "      <td>10</td>\n",
       "      <td>(1, 3)</td>\n",
       "      <td>{'logisticregression__C': 10, 'tfidfvectorizer...</td>\n",
       "      <td>0.89288</td>\n",
       "      <td>0.89864</td>\n",
       "      <td>0.89576</td>\n",
       "      <td>0.00288</td>\n",
       "      <td>2</td>\n",
       "      <td>0.99952</td>\n",
       "      <td>0.99944</td>\n",
       "      <td>0.99948</td>\n",
       "      <td>0.00004</td>\n",
       "    </tr>\n",
       "    <tr>\n",
       "      <th>7</th>\n",
       "      <td>62.748390</td>\n",
       "      <td>0.060258</td>\n",
       "      <td>24.793252</td>\n",
       "      <td>0.069833</td>\n",
       "      <td>1</td>\n",
       "      <td>(1, 3)</td>\n",
       "      <td>{'logisticregression__C': 1, 'tfidfvectorizer_...</td>\n",
       "      <td>0.88232</td>\n",
       "      <td>0.88656</td>\n",
       "      <td>0.88444</td>\n",
       "      <td>0.00212</td>\n",
       "      <td>3</td>\n",
       "      <td>0.95840</td>\n",
       "      <td>0.95440</td>\n",
       "      <td>0.95640</td>\n",
       "      <td>0.00200</td>\n",
       "    </tr>\n",
       "  </tbody>\n",
       "</table>\n",
       "</div>"
      ],
      "text/plain": [
       "    mean_fit_time  std_fit_time  mean_score_time  std_score_time  \\\n",
       "11      67.400111      0.008758        17.423167        0.072951   \n",
       "9       66.495624      0.037763        24.096656        0.155499   \n",
       "7       62.748390      0.060258        24.793252        0.069833   \n",
       "\n",
       "   param_logisticregression__C param_tfidfvectorizer__ngram_range  \\\n",
       "11                         100                             (1, 3)   \n",
       "9                           10                             (1, 3)   \n",
       "7                            1                             (1, 3)   \n",
       "\n",
       "                                               params  split0_test_score  \\\n",
       "11  {'logisticregression__C': 100, 'tfidfvectorize...            0.89424   \n",
       "9   {'logisticregression__C': 10, 'tfidfvectorizer...            0.89288   \n",
       "7   {'logisticregression__C': 1, 'tfidfvectorizer_...            0.88232   \n",
       "\n",
       "    split1_test_score  mean_test_score  std_test_score  rank_test_score  \\\n",
       "11            0.89824          0.89624         0.00200                1   \n",
       "9             0.89864          0.89576         0.00288                2   \n",
       "7             0.88656          0.88444         0.00212                3   \n",
       "\n",
       "    split0_train_score  split1_train_score  mean_train_score  std_train_score  \n",
       "11             1.00000             1.00000           1.00000          0.00000  \n",
       "9              0.99952             0.99944           0.99948          0.00004  \n",
       "7              0.95840             0.95440           0.95640          0.00200  "
      ]
     },
     "execution_count": 6,
     "metadata": {},
     "output_type": "execute_result"
    }
   ],
   "source": [
    "# We find the best setting of n-gram range and logistic regression parameter using a grid search:\n",
    "from sklearn.feature_extraction.text import TfidfVectorizer \n",
    "from sklearn.pipeline import make_pipeline\n",
    "from sklearn.linear_model import LogisticRegression\n",
    "from sklearn.model_selection import GridSearchCV\n",
    "\n",
    "pipe = make_pipeline(TfidfVectorizer(min_df=5), \n",
    "                     LogisticRegression()) \n",
    "\n",
    "# running the grid search takes a long time because of the relatively large grid and the inclusion of trigrams \n",
    "param_grid = {\"logisticregression__C\": [0.001, 0.01, 0.1, 1, 10, 100],              \n",
    "              \"tfidfvectorizer__ngram_range\": [(1, 1), (1, 3)]}\n",
    "\n",
    "grid1 = GridSearchCV(pipe, param_grid, cv=2, n_jobs=-1) \n",
    "grid1.fit(text_train, y_train) \n",
    "\n",
    "G=pd.DataFrame(grid1.cv_results_)\n",
    "G.sort_values(\"rank_test_score\").head(3)"
   ]
  },
  {
   "cell_type": "code",
   "execution_count": 7,
   "metadata": {},
   "outputs": [
    {
     "name": "stdout",
     "output_type": "stream",
     "text": [
      "Best parameters:\n",
      "{'logisticregression__C': 100, 'tfidfvectorizer__ngram_range': (1, 3)} \n",
      "\n",
      "Best cross-validation score: 0.90\n",
      "Test score: 0.90\n"
     ]
    }
   ],
   "source": [
    "print(\"Best parameters:\\n{}\".format(grid1.best_params_), '\\n')\n",
    "print(\"Best cross-validation score: {:.2f}\".format(grid1.best_score_)) \n",
    "print(\"Test score: {:.2f}\".format(grid1.score(text_test, y_test)))"
   ]
  },
  {
   "cell_type": "code",
   "execution_count": 8,
   "metadata": {},
   "outputs": [
    {
     "data": {
      "image/png": "[encoded data removed]",
      "text/plain": [
       "<Figure size 864x216 with 2 Axes>"
      ]
     },
     "metadata": {},
     "output_type": "display_data"
    }
   ],
   "source": [
    "# extract scores from grid_search and visualize them for ranges of parametrs:\n",
    "plt.figure().set_size_inches(12, 3)\n",
    "h=G[[\"param_logisticregression__C\", \"param_tfidfvectorizer__ngram_range\", \"mean_test_score\"]] .pivot_table(index=\"param_tfidfvectorizer__ngram_range\", columns=\"param_logisticregression__C\", values=\"mean_test_score\")\n",
    "sns.heatmap(h, annot=True)\n",
    "plt.show()"
   ]
  },
  {
   "cell_type": "code",
   "execution_count": 9,
   "metadata": {},
   "outputs": [
    {
     "name": "stdout",
     "output_type": "stream",
     "text": [
      "             precision    recall  f1-score   support\n",
      "\n",
      "          0       0.90      0.91      0.91       498\n",
      "          1       0.91      0.90      0.90       502\n",
      "\n",
      "avg / total       0.91      0.91      0.90      1000\n",
      "\n"
     ]
    }
   ],
   "source": [
    "# Classification report:\n",
    "from sklearn.metrics import roc_curve, auc, confusion_matrix, classification_report\n",
    "\n",
    "report=classification_report(y_test[0:1000], grid1.predict(text_test[0:1000]))\n",
    "print(report)"
   ]
  },
  {
   "cell_type": "code",
   "execution_count": 10,
   "metadata": {},
   "outputs": [
    {
     "name": "stdout",
     "output_type": "stream",
     "text": [
      "Confusion matrix, without normalization\n",
      "[[455  43]\n",
      " [ 52 450]]\n",
      "Normalized confusion matrix\n",
      "[[0.91 0.09]\n",
      " [0.1  0.9 ]]\n"
     ]
    },
    {
     "data": {
      "image/png": "[encoded data removed]",
      "text/plain": [
       "<Figure size 432x288 with 2 Axes>"
      ]
     },
     "metadata": {},
     "output_type": "display_data"
    }
   ],
   "source": [
    "# Plot a confusion matrix.\n",
    "# cm is the confusion matrix, names are the names of the classes.\n",
    "def plot_confusion_matrix(cm, names, title='Confusion matrix', cmap=plt.cm.Blues):\n",
    "    plt.imshow(cm, interpolation='nearest', cmap=cmap)\n",
    "    plt.title(title)\n",
    "    plt.colorbar()\n",
    "    tick_marks = np.arange(len(names))\n",
    "    plt.xticks(tick_marks, names, rotation=45)\n",
    "    plt.yticks(tick_marks, names)\n",
    "    plt.tight_layout()\n",
    "    plt.ylabel('True label')\n",
    "    plt.xlabel('Predicted label')\n",
    "\n",
    "class_names=[\"0\", \"1\"]\n",
    "    \n",
    "# Compute confusion matrix\n",
    "cm = confusion_matrix(y_test[0:1000], grid1.predict(text_test[0:1000]))\n",
    "np.set_printoptions(precision=2)\n",
    "print('Confusion matrix, without normalization')\n",
    "print(cm)\n",
    "\n",
    "\n",
    "# Normalize the confusion matrix by row (i.e by the number of samples in each class)\n",
    "cm_normalized = cm.astype('float') / cm.sum(axis=1)[:, np.newaxis]\n",
    "print('Normalized confusion matrix')\n",
    "print(cm_normalized)\n",
    "plt.figure()\n",
    "plot_confusion_matrix(cm_normalized, class_names, title='Normalized confusion matrix')\n",
    "\n",
    "plt.show()"
   ]
  },
  {
   "cell_type": "code",
   "execution_count": 11,
   "metadata": {},
   "outputs": [
    {
     "data": {
      "image/png": "[encoded data removed]",
      "text/plain": [
       "<Figure size 432x288 with 1 Axes>"
      ]
     },
     "metadata": {},
     "output_type": "display_data"
    }
   ],
   "source": [
    "# ROC curve & auc:\n",
    "from  sklearn.metrics import precision_recall_curve, roc_curve, roc_auc_score, average_precision_score\n",
    "\n",
    "fpr, tpr, thresholds=roc_curve(np.array(y_test[0:1000]),grid1.predict_proba(text_test[0:1000])[:, 1] , pos_label=1)\n",
    "roc_auc=roc_auc_score(np.array(y_test[0:1000]), grid1.predict_proba(text_test[0:1000])[:, 1])\n",
    "\n",
    "plt.figure()\n",
    "\n",
    "plt.step(fpr, tpr, color='darkorange', lw=2, label='ROC curve (auc = %0.2f)' % roc_auc)\n",
    "plt.plot([0, 1], [0, 1], color='navy', alpha=0.4, lw=2, linestyle='--')\n",
    "plt.xlim([0.0, 1.0])\n",
    "plt.ylim([0.0, 1.05])\n",
    "plt.xlabel('False Positive Rate')\n",
    "plt.ylabel('True Positive Rate')\n",
    "plt.title('ROC curve')\n",
    "plt.legend(loc=\"lower right\")\n",
    "\n",
    "plt.plot([cm_normalized[0,1]], [cm_normalized[1,1]], 'or')\n",
    "plt.show()"
   ]
  },
  {
   "cell_type": "markdown",
   "metadata": {},
   "source": [
    "# Semantic analysis with tf-idf and n-grams techniques using LR model: \n",
    "    * Approach 2: with word normalization (i.e. using lammatization or stemming)"
   ]
  },
  {
   "cell_type": "code",
   "execution_count": 12,
   "metadata": {},
   "outputs": [],
   "source": [
    "# run following script in the command line with admin privilage, to load the english package in spaCy:\n",
    "# python -m spacy download en"
   ]
  },
  {
   "cell_type": "code",
   "execution_count": 13,
   "metadata": {},
   "outputs": [],
   "source": [
    "# Technicality: we want to use the regexp-based tokenizer that is used by CountVectorizer \n",
    "# and only use the lemmatization from spacy. \n",
    "# We replace en_nlp.tokenizer (the spacy tokenizer) with the regexp-based tokenization:\n",
    "\n",
    "from sklearn.feature_extraction.text import CountVectorizer\n",
    "import re \n",
    "\n",
    "# regexp used in CountVectorizer \n",
    "regexp = re.compile('(?u)\\\\b\\\\w\\\\w+\\\\b')\n",
    "\n",
    "# load spacy language model and save old tokenizer \n",
    "en_nlp = spacy.load('en') \n",
    "old_tokenizer = en_nlp.tokenizer \n",
    "\n",
    "# replace the tokenizer with the preceding regexp \n",
    "en_nlp.tokenizer = lambda string: old_tokenizer.tokens_from_list(regexp.findall(string))\n",
    "\n",
    "# create a custom tokenizer using the spacy document processing pipeline (now using our own tokenizer) \n",
    "def custom_tokenizer(document):    \n",
    "    doc_spacy = en_nlp(document)    \n",
    "    return [token.lemma_ for token in doc_spacy]\n",
    "\n",
    "# define a count vectorizer with the custom tokenizer \n",
    "lemma_vect = CountVectorizer(tokenizer=custom_tokenizer, \n",
    "                             min_df=5, \n",
    "                             max_features=10000,\n",
    "                             ngram_range=(1, 1)).fit(text_train)"
   ]
  },
  {
   "cell_type": "code",
   "execution_count": 14,
   "metadata": {},
   "outputs": [
    {
     "name": "stdout",
     "output_type": "stream",
     "text": [
      "X_train_lemma.shape: (25000, 10000)\n"
     ]
    }
   ],
   "source": [
    "# transform text_train using CountVectorizer with lemmatization \n",
    "X_train_lemma = lemma_vect.transform(text_train) \n",
    "X_test_lemma = lemma_vect.transform(text_test[0:2000]) \n",
    "\n",
    "print(\"X_train_lemma.shape: {}\".format(X_train_lemma.shape))"
   ]
  },
  {
   "cell_type": "code",
   "execution_count": 15,
   "metadata": {},
   "outputs": [
    {
     "data": {
      "text/html": [
       "<div>\n",
       "<style scoped>\n",
       "    .dataframe tbody tr th:only-of-type {\n",
       "        vertical-align: middle;\n",
       "    }\n",
       "\n",
       "    .dataframe tbody tr th {\n",
       "        vertical-align: top;\n",
       "    }\n",
       "\n",
       "    .dataframe thead th {\n",
       "        text-align: right;\n",
       "    }\n",
       "</style>\n",
       "<table border=\"1\" class=\"dataframe\">\n",
       "  <thead>\n",
       "    <tr style=\"text-align: right;\">\n",
       "      <th></th>\n",
       "      <th>mean_fit_time</th>\n",
       "      <th>std_fit_time</th>\n",
       "      <th>mean_score_time</th>\n",
       "      <th>std_score_time</th>\n",
       "      <th>param_logisticregression__C</th>\n",
       "      <th>params</th>\n",
       "      <th>split0_test_score</th>\n",
       "      <th>split1_test_score</th>\n",
       "      <th>mean_test_score</th>\n",
       "      <th>std_test_score</th>\n",
       "      <th>rank_test_score</th>\n",
       "      <th>split0_train_score</th>\n",
       "      <th>split1_train_score</th>\n",
       "      <th>mean_train_score</th>\n",
       "      <th>std_train_score</th>\n",
       "    </tr>\n",
       "  </thead>\n",
       "  <tbody>\n",
       "    <tr>\n",
       "      <th>4</th>\n",
       "      <td>1.359863</td>\n",
       "      <td>0.054354</td>\n",
       "      <td>0.116190</td>\n",
       "      <td>0.000498</td>\n",
       "      <td>10</td>\n",
       "      <td>{'logisticregression__C': 10}</td>\n",
       "      <td>0.87792</td>\n",
       "      <td>0.88072</td>\n",
       "      <td>0.87932</td>\n",
       "      <td>0.00140</td>\n",
       "      <td>1</td>\n",
       "      <td>0.97912</td>\n",
       "      <td>0.97880</td>\n",
       "      <td>0.97896</td>\n",
       "      <td>0.00016</td>\n",
       "    </tr>\n",
       "    <tr>\n",
       "      <th>3</th>\n",
       "      <td>0.800359</td>\n",
       "      <td>0.068317</td>\n",
       "      <td>0.120679</td>\n",
       "      <td>0.000997</td>\n",
       "      <td>1</td>\n",
       "      <td>{'logisticregression__C': 1}</td>\n",
       "      <td>0.87672</td>\n",
       "      <td>0.87688</td>\n",
       "      <td>0.87680</td>\n",
       "      <td>0.00008</td>\n",
       "      <td>2</td>\n",
       "      <td>0.91936</td>\n",
       "      <td>0.92080</td>\n",
       "      <td>0.92008</td>\n",
       "      <td>0.00072</td>\n",
       "    </tr>\n",
       "    <tr>\n",
       "      <th>5</th>\n",
       "      <td>1.956763</td>\n",
       "      <td>0.088763</td>\n",
       "      <td>0.080786</td>\n",
       "      <td>0.006981</td>\n",
       "      <td>100</td>\n",
       "      <td>{'logisticregression__C': 100}</td>\n",
       "      <td>0.86384</td>\n",
       "      <td>0.86688</td>\n",
       "      <td>0.86536</td>\n",
       "      <td>0.00152</td>\n",
       "      <td>3</td>\n",
       "      <td>1.00000</td>\n",
       "      <td>0.99952</td>\n",
       "      <td>0.99976</td>\n",
       "      <td>0.00024</td>\n",
       "    </tr>\n",
       "  </tbody>\n",
       "</table>\n",
       "</div>"
      ],
      "text/plain": [
       "   mean_fit_time  std_fit_time  mean_score_time  std_score_time  \\\n",
       "4       1.359863      0.054354         0.116190        0.000498   \n",
       "3       0.800359      0.068317         0.120679        0.000997   \n",
       "5       1.956763      0.088763         0.080786        0.006981   \n",
       "\n",
       "  param_logisticregression__C                          params  \\\n",
       "4                          10   {'logisticregression__C': 10}   \n",
       "3                           1    {'logisticregression__C': 1}   \n",
       "5                         100  {'logisticregression__C': 100}   \n",
       "\n",
       "   split0_test_score  split1_test_score  mean_test_score  std_test_score  \\\n",
       "4            0.87792            0.88072          0.87932         0.00140   \n",
       "3            0.87672            0.87688          0.87680         0.00008   \n",
       "5            0.86384            0.86688          0.86536         0.00152   \n",
       "\n",
       "   rank_test_score  split0_train_score  split1_train_score  mean_train_score  \\\n",
       "4                1             0.97912             0.97880           0.97896   \n",
       "3                2             0.91936             0.92080           0.92008   \n",
       "5                3             1.00000             0.99952           0.99976   \n",
       "\n",
       "   std_train_score  \n",
       "4          0.00016  \n",
       "3          0.00072  \n",
       "5          0.00024  "
      ]
     },
     "execution_count": 15,
     "metadata": {},
     "output_type": "execute_result"
    }
   ],
   "source": [
    "# We find the best logistic regression parameter using a grid search:\n",
    "from sklearn.feature_extraction.text import TfidfTransformer\n",
    "from sklearn.pipeline import make_pipeline\n",
    "from sklearn.linear_model import LogisticRegression\n",
    "from sklearn.model_selection import GridSearchCV\n",
    "\n",
    "pipe = make_pipeline(TfidfTransformer(), \n",
    "                     LogisticRegression()) \n",
    "\n",
    "# running the grid search takes a long time because of the relatively large grid and the inclusion of trigrams \n",
    "param_grid = {\"logisticregression__C\": [0.001, 0.01, 0.1, 1, 10, 100]}\n",
    "\n",
    "grid2 = GridSearchCV(pipe, param_grid, cv=2, n_jobs=-1) \n",
    "grid2.fit(X_train_lemma, y_train) \n",
    "\n",
    "G=pd.DataFrame(grid2.cv_results_)\n",
    "G.sort_values(\"rank_test_score\").head(3)"
   ]
  },
  {
   "cell_type": "code",
   "execution_count": 16,
   "metadata": {},
   "outputs": [
    {
     "name": "stdout",
     "output_type": "stream",
     "text": [
      "Best parameters:\n",
      "{'logisticregression__C': 10} \n",
      "\n",
      "Best cross-validation score: 0.88\n",
      "Test score: 0.88\n"
     ]
    }
   ],
   "source": [
    "print(\"Best parameters:\\n{}\".format(grid2.best_params_), '\\n')\n",
    "print(\"Best cross-validation score: {:.2f}\".format(grid2.best_score_)) \n",
    "print(\"Test score: {:.2f}\".format(grid2.score(X_test_lemma, y_test[0:2000])))"
   ]
  },
  {
   "cell_type": "code",
   "execution_count": 19,
   "metadata": {},
   "outputs": [
    {
     "name": "stdout",
     "output_type": "stream",
     "text": [
      "             precision    recall  f1-score   support\n",
      "\n",
      "       spam       0.87      0.88      0.88       995\n",
      "        ham       0.88      0.87      0.88      1005\n",
      "\n",
      "avg / total       0.88      0.88      0.88      2000\n",
      "\n"
     ]
    }
   ],
   "source": [
    "# Classification report:\n",
    "from sklearn.metrics import roc_curve, auc, confusion_matrix, classification_report\n",
    "\n",
    "report=classification_report(y_test[0:2000], grid2.predict(X_test_lemma), target_names=['spam', 'ham'])\n",
    "print(report)"
   ]
  },
  {
   "cell_type": "code",
   "execution_count": 20,
   "metadata": {},
   "outputs": [
    {
     "name": "stdout",
     "output_type": "stream",
     "text": [
      "Confusion matrix, without normalization\n",
      "[[874 121]\n",
      " [126 879]]\n",
      "Normalized confusion matrix\n",
      "[[0.88 0.12]\n",
      " [0.13 0.87]]\n"
     ]
    },
    {
     "data": {
      "image/png": "[encoded data removed]",
      "text/plain": [
       "<Figure size 432x288 with 2 Axes>"
      ]
     },
     "metadata": {},
     "output_type": "display_data"
    }
   ],
   "source": [
    "# Plot a confusion matrix.\n",
    "# cm is the confusion matrix, names are the names of the classes.\n",
    "def plot_confusion_matrix(cm, names, title='Confusion matrix', cmap=plt.cm.Blues):\n",
    "    plt.imshow(cm, interpolation='nearest', cmap=cmap)\n",
    "    plt.title(title)\n",
    "    plt.colorbar()\n",
    "    tick_marks = np.arange(len(names))\n",
    "    plt.xticks(tick_marks, names, rotation=45)\n",
    "    plt.yticks(tick_marks, names)\n",
    "    plt.tight_layout()\n",
    "    plt.ylabel('True label')\n",
    "    plt.xlabel('Predicted label')\n",
    "\n",
    "class_names=[\"spam\", \"ham\"]\n",
    "    \n",
    "# Compute confusion matrix\n",
    "cm = confusion_matrix(y_test[0:2000], grid2.predict(X_test_lemma))\n",
    "np.set_printoptions(precision=2)\n",
    "print('Confusion matrix, without normalization')\n",
    "print(cm)\n",
    "\n",
    "\n",
    "# Normalize the confusion matrix by row (i.e by the number of samples in each class)\n",
    "cm_normalized = cm.astype('float') / cm.sum(axis=1)[:, np.newaxis]\n",
    "print('Normalized confusion matrix')\n",
    "print(cm_normalized)\n",
    "plt.figure()\n",
    "plot_confusion_matrix(cm_normalized, class_names, title='Normalized confusion matrix')\n",
    "\n",
    "plt.show()"
   ]
  },
  {
   "cell_type": "code",
   "execution_count": 18,
   "metadata": {},
   "outputs": [
    {
     "name": "stdout",
     "output_type": "stream",
     "text": [
      "Most important features when using unigrams, bigrams, and trigrams with tf-idf rescaling\n"
     ]
    },
    {
     "data": {
      "image/png": "[encoded data removed]",
      "text/plain": [
       "<Figure size 1080x360 with 1 Axes>"
      ]
     },
     "metadata": {},
     "output_type": "display_data"
    }
   ],
   "source": [
    "# Most important features when using unigrams, bigrams: \n",
    "feature_names = np.array(lemma_vect.get_feature_names()) \n",
    "coef = grid2.best_estimator_.named_steps['logisticregression'].coef_ \n",
    "mglearn.tools.visualize_coefficients(coef, feature_names, n_top_features=40)\n",
    "print('Most important features when using unigrams, bigrams, and trigrams with tf-idf rescaling')"
   ]
  },
  {
   "cell_type": "code",
   "execution_count": null,
   "metadata": {},
   "outputs": [],
   "source": []
  }
 ],
 "metadata": {
  "kernelspec": {
   "display_name": "Python 3",
   "language": "python",
   "name": "python3"
  },
  "language_info": {
   "codemirror_mode": {
    "name": "ipython",
    "version": 3
   },
   "file_extension": ".py",
   "mimetype": "text/x-python",
   "name": "python",
   "nbconvert_exporter": "python",
   "pygments_lexer": "ipython3",
   "version": "3.6.5"
  }
 },
 "nbformat": 4,
 "nbformat_minor": 2
}
