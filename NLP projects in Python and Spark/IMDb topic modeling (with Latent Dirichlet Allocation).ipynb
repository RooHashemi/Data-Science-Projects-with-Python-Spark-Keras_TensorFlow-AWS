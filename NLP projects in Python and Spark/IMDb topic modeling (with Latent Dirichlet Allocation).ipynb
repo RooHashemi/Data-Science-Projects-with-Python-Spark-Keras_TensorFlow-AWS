{
 "cells": [
  {
   "cell_type": "markdown",
   "metadata": {},
   "source": [
    "# Data description & Problem statement: \n",
    "   The IMDB movie reviews dataset is a set of 50,000 reviews, half of which are positive and the other half negative. This dataset is widely used in sentiment analysis benchmarks, which makes it a convenient way to evaluate our own performance against existing models. The dataset is available online and can be either directly downloaded from Stanford’s website. \n",
    "\n",
    "# Workflow:\n",
    "- Load the dataset\n",
    "- Data cleaning (e.g. remove formats and punctuations)\n",
    "- Text vectorization, using \"Bag of Words\" technique\n",
    "- Use \"Latent Dirichlet Allocation\" for document clustering (i.e. topic modeling)\n",
    "- Determine, sort and print most important words/features for each topic"
   ]
  },
  {
   "cell_type": "code",
   "execution_count": 1,
   "metadata": {},
   "outputs": [],
   "source": [
    "import sklearn\n",
    "import numpy as np\n",
    "import scipy as sc\n",
    "import pandas as pd\n",
    "import matplotlib.pyplot as plt\n",
    "\n",
    "import seaborn as sns\n",
    "from sklearn import preprocessing\n",
    "%matplotlib inline\n",
    "\n",
    "from scipy import stats\n",
    "\n",
    "import warnings\n",
    "warnings.filterwarnings(\"ignore\")\n",
    "\n",
    "# we insatll and import spacy package for some advanced tokenizaion techniques:\n",
    "import spacy\n",
    "\n",
    "# we also install and import mglearn package (using !pip install mglearn) for some interesting visualization of results:\n",
    "import mglearn"
   ]
  },
  {
   "cell_type": "code",
   "execution_count": 2,
   "metadata": {},
   "outputs": [
    {
     "name": "stdout",
     "output_type": "stream",
     "text": [
      "Folder PATH listing for volume OS\n",
      "Volume serial number is 3EA9-93A4\n",
      "C:\\USERS\\RHASH\\DOCUMENTS\\DATASETS\\NLP PROJECTS (SKLEARN & SPARK)\\ACLIMDB\n",
      "ÃÄÄÄtest\n",
      "³   ÃÄÄÄneg\n",
      "³   ÀÄÄÄpos\n",
      "ÃÄÄÄtrain\n",
      "³   ÃÄÄÄneg\n",
      "³   ÀÄÄÄpos\n",
      "ÀÄÄÄunsupervised\n",
      "    ÀÄÄÄunsup\n"
     ]
    }
   ],
   "source": [
    "!tree aclImdb"
   ]
  },
  {
   "cell_type": "code",
   "execution_count": 3,
   "metadata": {},
   "outputs": [
    {
     "name": "stdout",
     "output_type": "stream",
     "text": [
      " Volume in drive C is OS\n",
      " Volume Serial Number is 3EA9-93A4\n",
      "\n",
      " Directory of C:\\Users\\rhash\\Documents\\Datasets\\NLP projects (sklearn & Spark)\n",
      "\n",
      "09/10/2018  06:38 PM    <DIR>          .\n",
      "09/10/2018  06:38 PM    <DIR>          ..\n",
      "09/10/2018  04:05 PM    <DIR>          .ipynb_checkpoints\n",
      "09/10/2018  11:29 AM    <DIR>          aclImdb\n",
      "09/10/2018  10:15 AM        84,125,825 aclImdb_v1.tar.gz\n",
      "09/10/2018  11:57 AM    <DIR>          cache\n",
      "09/10/2018  06:38 PM           144,551 IMDb movie review (sklearn).ipynb\n",
      "09/10/2018  05:35 PM             8,800 IMDb review (topic modeling, sklearn).ipynb\n",
      "               3 File(s)     84,279,176 bytes\n",
      "               5 Dir(s)  419,847,401,472 bytes free\n"
     ]
    }
   ],
   "source": [
    "ls"
   ]
  },
  {
   "cell_type": "markdown",
   "metadata": {},
   "source": [
    "# load and prepare the text data: "
   ]
  },
  {
   "cell_type": "code",
   "execution_count": 4,
   "metadata": {},
   "outputs": [
    {
     "name": "stdout",
     "output_type": "stream",
     "text": [
      "type of text_train: <class 'list'> \n",
      "\n",
      "length of text_train: 50000 \n",
      "\n",
      "text_train[0]:\n",
      "b'this is a passive movie by ace director anthony minghella, the movie has an awesome star cast and they all give competent performances early in their careers.<br /><br />the movie does not have much of a plot and though the story seems veers to a cliched and predictable end, there are enough minor twists that abound in the movie, making it quite an enjoyable watch. the standout features of the movie include its tight script, terrific lines and smart performances.<br /><br />the plot in itself is no great shakes but this movie is a fun watch for a relaxed evening.<br /><br />an enjoyable and pleasant 7!'\n"
     ]
    }
   ],
   "source": [
    "# load the training data:\n",
    "from sklearn.datasets import load_files\n",
    "reviews_train = load_files(\"aclImdb/unsupervised/\") # load_files returns a bunch, containing training texts and training labels\n",
    "text_train = reviews_train.data\n",
    "\n",
    "print(\"type of text_train: {}\".format(type(text_train)), \"\\n\") \n",
    "print(\"length of text_train: {}\".format(len(text_train)), \"\\n\")\n",
    "\n",
    "print(\"text_train[0]:\\n{}\".format(text_train[0]))"
   ]
  },
  {
   "cell_type": "code",
   "execution_count": 5,
   "metadata": {},
   "outputs": [],
   "source": [
    "# text_train contains some HTML line breaks (<br />). \n",
    "# It is better to clean the data and remove this formatting before we proceed:\n",
    "\n",
    "text_train = [doc.replace(b\"<br />\", b\" \") for doc in text_train]"
   ]
  },
  {
   "cell_type": "code",
   "execution_count": 6,
   "metadata": {},
   "outputs": [],
   "source": [
    "from sklearn.feature_extraction.text import CountVectorizer\n",
    "vect = CountVectorizer(max_features=12000, \n",
    "                       ngram_range=(1, 1),\n",
    "                       max_df=0.2)\n",
    "\n",
    "X = vect.fit_transform(text_train)"
   ]
  },
  {
   "cell_type": "markdown",
   "metadata": {},
   "source": [
    "# document clustering with Latent Dirichlet Allocation:  LDA"
   ]
  },
  {
   "cell_type": "code",
   "execution_count": 7,
   "metadata": {},
   "outputs": [],
   "source": [
    "from sklearn.decomposition import LatentDirichletAllocation \n",
    "lda = LatentDirichletAllocation(n_topics=10, learning_method=\"batch\",                                \n",
    "                                max_iter=25, random_state=0)\n",
    "\n",
    "# We build the model and transform the data in one step  \n",
    "document_topics = lda.fit_transform(X)"
   ]
  },
  {
   "cell_type": "code",
   "execution_count": 8,
   "metadata": {},
   "outputs": [],
   "source": [
    "# For each topic (a row in the components_), sort the features (ascending) \n",
    "sorting = np.argsort(lda.components_, axis=1)[:, ::-1] \n",
    "\n",
    "# Get the feature names from the vectorizer \n",
    "feature_names = np.array(vect.get_feature_names())"
   ]
  },
  {
   "cell_type": "code",
   "execution_count": 9,
   "metadata": {},
   "outputs": [
    {
     "name": "stdout",
     "output_type": "stream",
     "text": [
      "topic 0       topic 1       topic 2       topic 3       topic 4       \n",
      "--------      --------      --------      --------      --------      \n",
      "life          your          action        us            character     \n",
      "love          ever          game          world         actors        \n",
      "young         know          fight         war           director      \n",
      "world         why           war           these         films         \n",
      "man           ve            scenes        our           scenes        \n",
      "family        thing         hero          why           does          \n",
      "beautiful     worst         where         those         here          \n",
      "us            say           off           american      script        \n",
      "through       did           gun           know          better        \n",
      "between       didn          guy           did           work          \n",
      "\n",
      "\n",
      "topic 5       topic 6       topic 7       topic 8       topic 9       \n",
      "--------      --------      --------      --------      --------      \n",
      "role          man           show          horror        effects       \n",
      "performance   where         funny         series        films         \n",
      "best          off           comedy        films         fi            \n",
      "cast          gets          best          killer        sci           \n",
      "man           back          love          gore          special       \n",
      "plays         girl          series        dark          monster       \n",
      "character     while         tv            dead          alien         \n",
      "played        town          years         original      version       \n",
      "john          father        still         violence      king          \n",
      "wife          young         did           death         space         \n",
      "\n",
      "\n"
     ]
    }
   ],
   "source": [
    "# Print out the 10 topics: \n",
    "mglearn.tools.print_topics(topics=range(10), feature_names=feature_names,   \n",
    "                           sorting=sorting, topics_per_chunk=5, n_words=10)"
   ]
  }
 ],
 "metadata": {
  "kernelspec": {
   "display_name": "Python 3",
   "language": "python",
   "name": "python3"
  },
  "language_info": {
   "codemirror_mode": {
    "name": "ipython",
    "version": 3
   },
   "file_extension": ".py",
   "mimetype": "text/x-python",
   "name": "python",
   "nbconvert_exporter": "python",
   "pygments_lexer": "ipython3",
   "version": "3.6.5"
  }
 },
 "nbformat": 4,
 "nbformat_minor": 2
}
