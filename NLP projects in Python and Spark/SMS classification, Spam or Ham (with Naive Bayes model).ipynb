{
 "cells": [
  {
   "cell_type": "markdown",
   "metadata": {},
   "source": [
    "# Data description & Problem statement: \n",
    "The SMS Spam Collection is a set of SMS tagged messages that have been collected for SMS Spam research. It contains one set of SMS messages in English of 5,574 messages, tagged acording being ham (legitimate) or spam. I build a classifier using machine learning which will help in identifying whether a given SMS is a Spam or not.\n",
    "\n",
    "\n",
    "# Workflow:\n",
    "- Load the training and test datasets\n",
    "- Data cleaning (e.g. remove formats and punctuations)\n",
    "- Basic data exploration\n",
    "- Text vectorization, using \"Bag of Words\" technique\n",
    "- Use \"tf-idf transformation\", and find the \"N-grams\" to improve the model performace\n",
    "- Use a supervised classifier (e.g. Logistic Regression, Naive Bayes, etc.) for text classification: Use Grid-Serach along with Cross-Validation technique for finding the optimal hyper-parameters of best classifier\n",
    "- Evaluate the performance of best classifier on the test data set, by calculating:\n",
    "     - f1, Precision, Recall scores\n",
    "     - Confusion matrix\n",
    "     - ROC curve\n",
    "\n",
    "\n",
    "Note: I repeat abovementioned process with and without Word Normalization (i.e. using lammatization/stemming) for the sake of comparison. For the word normalization I use \"SpaCy\" library."
   ]
  },
  {
   "cell_type": "code",
   "execution_count": 1,
   "metadata": {},
   "outputs": [],
   "source": [
    "import sklearn\n",
    "import numpy as np\n",
    "import scipy as sc\n",
    "import pandas as pd\n",
    "import matplotlib.pyplot as plt\n",
    "\n",
    "import seaborn as sns\n",
    "from sklearn import preprocessing\n",
    "%matplotlib inline\n",
    "\n",
    "from scipy import stats\n",
    "\n",
    "import warnings\n",
    "warnings.filterwarnings(\"ignore\")\n",
    "\n",
    "# we insatll and import spacy package for some advanced tokenizaion techniques:\n",
    "import spacy\n",
    "\n",
    "# we also install and import mglearn package (using !pip install mglearn) for some interesting visualization of results:\n",
    "import mglearn"
   ]
  },
  {
   "cell_type": "code",
   "execution_count": 2,
   "metadata": {},
   "outputs": [
    {
     "name": "stdout",
     "output_type": "stream",
     "text": [
      " Volume in drive C is OS\n",
      " Volume Serial Number is 3EA9-93A4\n",
      "\n",
      " Directory of C:\\Users\\rhash\\Documents\\Datasets\\NLP projects (sklearn & Spark)\n",
      "\n",
      "12/29/2018  08:34 PM    <DIR>          .\n",
      "12/29/2018  08:34 PM    <DIR>          ..\n",
      "12/29/2018  08:33 PM    <DIR>          .ipynb_checkpoints\n",
      "09/10/2018  10:29 AM    <DIR>          aclImdb\n",
      "09/10/2018  10:57 AM    <DIR>          cache\n",
      "08/02/2018  05:00 PM           100,912 Dataset_Challenge_Dataset_Agreement.pdf\n",
      "12/29/2018  07:17 PM           150,838 IMDb review classification (Sentiment analysis with Scikit-learn).ipynb\n",
      "12/29/2018  06:59 PM             9,544 IMDb topic modeling (with Latent Dirichlet Allocation in Scikit-Learn).ipynb\n",
      "04/18/2011  01:53 PM             5,868 readme\n",
      "12/29/2018  08:28 PM           199,675 SMS classification, Spam or Ham (with Linear Regression).ipynb\n",
      "12/29/2018  08:34 PM            15,918 SMS classification, Spam or Ham (with Naive Bayes).ipynb\n",
      "12/29/2018  07:26 PM            28,567 SMS topic modeling (with Latent Dirichlet Allocation in Scikit-Learn).ipynb\n",
      "03/15/2011  09:36 PM           477,907 SMSSpamCollection\n",
      "12/29/2018  07:34 PM           325,889 Yelp customer review, 1 to 5 stars (with Scikit-Learn).ipynb\n",
      "12/29/2018  08:33 PM           325,734 Yelp review classification (with Scikit-Learn) - Copy.ipynb\n",
      "12/29/2018  07:40 PM             7,438 Yelp topic clustering (with Latent Dirichlet Allocation in Scikit-Learn).ipynb\n",
      "02/07/2018  12:02 AM     3,791,120,545 yelp_review.csv\n",
      "              12 File(s)  3,792,768,835 bytes\n",
      "               5 Dir(s)  393,237,872,640 bytes free\n"
     ]
    }
   ],
   "source": [
    "ls"
   ]
  },
  {
   "cell_type": "markdown",
   "metadata": {},
   "source": [
    "# load and prepare the text data: "
   ]
  },
  {
   "cell_type": "code",
   "execution_count": 3,
   "metadata": {},
   "outputs": [],
   "source": [
    "messages = [line.rstrip() for line in open('SMSSpamCollection')]"
   ]
  },
  {
   "cell_type": "code",
   "execution_count": 4,
   "metadata": {},
   "outputs": [],
   "source": [
    "#labels = [1 if m.split('\\t')[0]=='ham' else 0 for m in messages]\n",
    "#sms = [m.split('\\t')[1] for m in messages]"
   ]
  },
  {
   "cell_type": "code",
   "execution_count": 5,
   "metadata": {},
   "outputs": [],
   "source": [
    "messages = pd.read_csv('SMSSpamCollection', sep='\\t', names=['labels', 'sms'])"
   ]
  },
  {
   "cell_type": "code",
   "execution_count": 6,
   "metadata": {},
   "outputs": [
    {
     "data": {
      "text/html": [
       "<div>\n",
       "<style scoped>\n",
       "    .dataframe tbody tr th:only-of-type {\n",
       "        vertical-align: middle;\n",
       "    }\n",
       "\n",
       "    .dataframe tbody tr th {\n",
       "        vertical-align: top;\n",
       "    }\n",
       "\n",
       "    .dataframe thead th {\n",
       "        text-align: right;\n",
       "    }\n",
       "</style>\n",
       "<table border=\"1\" class=\"dataframe\">\n",
       "  <thead>\n",
       "    <tr style=\"text-align: right;\">\n",
       "      <th></th>\n",
       "      <th>labels</th>\n",
       "      <th>sms</th>\n",
       "    </tr>\n",
       "  </thead>\n",
       "  <tbody>\n",
       "    <tr>\n",
       "      <th>count</th>\n",
       "      <td>5572</td>\n",
       "      <td>5572</td>\n",
       "    </tr>\n",
       "    <tr>\n",
       "      <th>unique</th>\n",
       "      <td>2</td>\n",
       "      <td>5169</td>\n",
       "    </tr>\n",
       "    <tr>\n",
       "      <th>top</th>\n",
       "      <td>ham</td>\n",
       "      <td>Sorry, I'll call later</td>\n",
       "    </tr>\n",
       "    <tr>\n",
       "      <th>freq</th>\n",
       "      <td>4825</td>\n",
       "      <td>30</td>\n",
       "    </tr>\n",
       "  </tbody>\n",
       "</table>\n",
       "</div>"
      ],
      "text/plain": [
       "       labels                     sms\n",
       "count    5572                    5572\n",
       "unique      2                    5169\n",
       "top       ham  Sorry, I'll call later\n",
       "freq     4825                      30"
      ]
     },
     "execution_count": 6,
     "metadata": {},
     "output_type": "execute_result"
    }
   ],
   "source": [
    "messages.describe()"
   ]
  },
  {
   "cell_type": "code",
   "execution_count": 7,
   "metadata": {},
   "outputs": [
    {
     "data": {
      "text/html": [
       "<div>\n",
       "<style scoped>\n",
       "    .dataframe tbody tr th:only-of-type {\n",
       "        vertical-align: middle;\n",
       "    }\n",
       "\n",
       "    .dataframe tbody tr th {\n",
       "        vertical-align: top;\n",
       "    }\n",
       "\n",
       "    .dataframe thead tr th {\n",
       "        text-align: left;\n",
       "    }\n",
       "\n",
       "    .dataframe thead tr:last-of-type th {\n",
       "        text-align: right;\n",
       "    }\n",
       "</style>\n",
       "<table border=\"1\" class=\"dataframe\">\n",
       "  <thead>\n",
       "    <tr>\n",
       "      <th></th>\n",
       "      <th colspan=\"4\" halign=\"left\">sms</th>\n",
       "    </tr>\n",
       "    <tr>\n",
       "      <th></th>\n",
       "      <th>count</th>\n",
       "      <th>unique</th>\n",
       "      <th>top</th>\n",
       "      <th>freq</th>\n",
       "    </tr>\n",
       "    <tr>\n",
       "      <th>labels</th>\n",
       "      <th></th>\n",
       "      <th></th>\n",
       "      <th></th>\n",
       "      <th></th>\n",
       "    </tr>\n",
       "  </thead>\n",
       "  <tbody>\n",
       "    <tr>\n",
       "      <th>ham</th>\n",
       "      <td>4825</td>\n",
       "      <td>4516</td>\n",
       "      <td>Sorry, I'll call later</td>\n",
       "      <td>30</td>\n",
       "    </tr>\n",
       "    <tr>\n",
       "      <th>spam</th>\n",
       "      <td>747</td>\n",
       "      <td>653</td>\n",
       "      <td>Please call our customer service representativ...</td>\n",
       "      <td>4</td>\n",
       "    </tr>\n",
       "  </tbody>\n",
       "</table>\n",
       "</div>"
      ],
      "text/plain": [
       "         sms                                                               \n",
       "       count unique                                                top freq\n",
       "labels                                                                     \n",
       "ham     4825   4516                             Sorry, I'll call later   30\n",
       "spam     747    653  Please call our customer service representativ...    4"
      ]
     },
     "execution_count": 7,
     "metadata": {},
     "output_type": "execute_result"
    }
   ],
   "source": [
    "messages.groupby('labels').describe()"
   ]
  },
  {
   "cell_type": "code",
   "execution_count": 8,
   "metadata": {},
   "outputs": [],
   "source": [
    "messages['length']= messages['sms'].map(lambda x: len(x))"
   ]
  },
  {
   "cell_type": "code",
   "execution_count": 9,
   "metadata": {},
   "outputs": [
    {
     "data": {
      "image/png": "[encoded data removed]",
      "text/plain": [
       "<Figure size 432x288 with 1 Axes>"
      ]
     },
     "metadata": {},
     "output_type": "display_data"
    }
   ],
   "source": [
    "# histogram of length of ham messages:\n",
    "plt.hist(messages[messages['labels']=='ham']['length'], bins=150)\n",
    "plt.xlabel('length of ham messages')\n",
    "plt.ylabel('frequency')\n",
    "plt.show()"
   ]
  },
  {
   "cell_type": "code",
   "execution_count": 10,
   "metadata": {},
   "outputs": [
    {
     "data": {
      "image/png": "[encoded data removed]",
      "text/plain": [
       "<Figure size 432x288 with 1 Axes>"
      ]
     },
     "metadata": {},
     "output_type": "display_data"
    }
   ],
   "source": [
    "# histogram of length of spam messages:\n",
    "plt.hist(messages[messages['labels']=='spam']['length'], bins=80)\n",
    "plt.xlabel('length of spam messages')\n",
    "plt.ylabel('frequency')\n",
    "plt.show()"
   ]
  },
  {
   "cell_type": "code",
   "execution_count": 11,
   "metadata": {},
   "outputs": [],
   "source": [
    "messages['labels'] = messages['labels'].map({'ham':1, 'spam':0})"
   ]
  },
  {
   "cell_type": "code",
   "execution_count": 12,
   "metadata": {},
   "outputs": [],
   "source": [
    "from sklearn.model_selection import train_test_split\n",
    "text_train, text_test, y_train, y_test = train_test_split(messages['sms'], messages['labels'], test_size=0.2, random_state=42)"
   ]
  },
  {
   "cell_type": "markdown",
   "metadata": {},
   "source": [
    "# Semantic analysis with tf-idf and N-grams with Naive Bayes model: \n",
    "    * Approach 1: without word normalization (i.e. lammatization or stemming)"
   ]
  },
  {
   "cell_type": "code",
   "execution_count": 13,
   "metadata": {},
   "outputs": [
    {
     "data": {
      "text/html": [
       "<div>\n",
       "<style scoped>\n",
       "    .dataframe tbody tr th:only-of-type {\n",
       "        vertical-align: middle;\n",
       "    }\n",
       "\n",
       "    .dataframe tbody tr th {\n",
       "        vertical-align: top;\n",
       "    }\n",
       "\n",
       "    .dataframe thead th {\n",
       "        text-align: right;\n",
       "    }\n",
       "</style>\n",
       "<table border=\"1\" class=\"dataframe\">\n",
       "  <thead>\n",
       "    <tr style=\"text-align: right;\">\n",
       "      <th></th>\n",
       "      <th>mean_fit_time</th>\n",
       "      <th>std_fit_time</th>\n",
       "      <th>mean_score_time</th>\n",
       "      <th>std_score_time</th>\n",
       "      <th>param_tfidfvectorizer__ngram_range</th>\n",
       "      <th>params</th>\n",
       "      <th>split0_test_score</th>\n",
       "      <th>split1_test_score</th>\n",
       "      <th>split2_test_score</th>\n",
       "      <th>mean_test_score</th>\n",
       "      <th>std_test_score</th>\n",
       "      <th>rank_test_score</th>\n",
       "      <th>split0_train_score</th>\n",
       "      <th>split1_train_score</th>\n",
       "      <th>split2_train_score</th>\n",
       "      <th>mean_train_score</th>\n",
       "      <th>std_train_score</th>\n",
       "    </tr>\n",
       "  </thead>\n",
       "  <tbody>\n",
       "    <tr>\n",
       "      <th>1</th>\n",
       "      <td>0.557033</td>\n",
       "      <td>0.015479</td>\n",
       "      <td>0.143581</td>\n",
       "      <td>0.011855</td>\n",
       "      <td>(1, 2)</td>\n",
       "      <td>{'tfidfvectorizer__ngram_range': (1, 2)}</td>\n",
       "      <td>0.988850</td>\n",
       "      <td>0.986154</td>\n",
       "      <td>0.981623</td>\n",
       "      <td>0.985544</td>\n",
       "      <td>0.002982</td>\n",
       "      <td>1</td>\n",
       "      <td>0.987123</td>\n",
       "      <td>0.988842</td>\n",
       "      <td>0.989032</td>\n",
       "      <td>0.988332</td>\n",
       "      <td>0.000859</td>\n",
       "    </tr>\n",
       "    <tr>\n",
       "      <th>2</th>\n",
       "      <td>0.804910</td>\n",
       "      <td>0.120841</td>\n",
       "      <td>0.155928</td>\n",
       "      <td>0.019023</td>\n",
       "      <td>(1, 3)</td>\n",
       "      <td>{'tfidfvectorizer__ngram_range': (1, 3)}</td>\n",
       "      <td>0.988850</td>\n",
       "      <td>0.986154</td>\n",
       "      <td>0.981623</td>\n",
       "      <td>0.985544</td>\n",
       "      <td>0.002982</td>\n",
       "      <td>1</td>\n",
       "      <td>0.986744</td>\n",
       "      <td>0.988462</td>\n",
       "      <td>0.989032</td>\n",
       "      <td>0.988079</td>\n",
       "      <td>0.000973</td>\n",
       "    </tr>\n",
       "    <tr>\n",
       "      <th>0</th>\n",
       "      <td>0.167369</td>\n",
       "      <td>0.024616</td>\n",
       "      <td>0.055198</td>\n",
       "      <td>0.006894</td>\n",
       "      <td>(1, 1)</td>\n",
       "      <td>{'tfidfvectorizer__ngram_range': (1, 1)}</td>\n",
       "      <td>0.985063</td>\n",
       "      <td>0.983481</td>\n",
       "      <td>0.979748</td>\n",
       "      <td>0.982765</td>\n",
       "      <td>0.002228</td>\n",
       "      <td>3</td>\n",
       "      <td>0.984267</td>\n",
       "      <td>0.984863</td>\n",
       "      <td>0.986359</td>\n",
       "      <td>0.985163</td>\n",
       "      <td>0.000880</td>\n",
       "    </tr>\n",
       "  </tbody>\n",
       "</table>\n",
       "</div>"
      ],
      "text/plain": [
       "   mean_fit_time  std_fit_time  mean_score_time  std_score_time  \\\n",
       "1       0.557033      0.015479         0.143581        0.011855   \n",
       "2       0.804910      0.120841         0.155928        0.019023   \n",
       "0       0.167369      0.024616         0.055198        0.006894   \n",
       "\n",
       "  param_tfidfvectorizer__ngram_range  \\\n",
       "1                             (1, 2)   \n",
       "2                             (1, 3)   \n",
       "0                             (1, 1)   \n",
       "\n",
       "                                     params  split0_test_score  \\\n",
       "1  {'tfidfvectorizer__ngram_range': (1, 2)}           0.988850   \n",
       "2  {'tfidfvectorizer__ngram_range': (1, 3)}           0.988850   \n",
       "0  {'tfidfvectorizer__ngram_range': (1, 1)}           0.985063   \n",
       "\n",
       "   split1_test_score  split2_test_score  mean_test_score  std_test_score  \\\n",
       "1           0.986154           0.981623         0.985544        0.002982   \n",
       "2           0.986154           0.981623         0.985544        0.002982   \n",
       "0           0.983481           0.979748         0.982765        0.002228   \n",
       "\n",
       "   rank_test_score  split0_train_score  split1_train_score  \\\n",
       "1                1            0.987123            0.988842   \n",
       "2                1            0.986744            0.988462   \n",
       "0                3            0.984267            0.984863   \n",
       "\n",
       "   split2_train_score  mean_train_score  std_train_score  \n",
       "1            0.989032          0.988332         0.000859  \n",
       "2            0.989032          0.988079         0.000973  \n",
       "0            0.986359          0.985163         0.000880  "
      ]
     },
     "execution_count": 13,
     "metadata": {},
     "output_type": "execute_result"
    }
   ],
   "source": [
    "# We find the best setting of n-gram range and logistic regression parameter using a grid search:\n",
    "from sklearn.feature_extraction.text import TfidfVectorizer \n",
    "from sklearn.pipeline import make_pipeline\n",
    "from sklearn.naive_bayes import MultinomialNB\n",
    "from sklearn.model_selection import GridSearchCV, StratifiedKFold\n",
    "\n",
    "\n",
    "pipe = make_pipeline(TfidfVectorizer(min_df=10), \n",
    "                     MultinomialNB()) \n",
    "\n",
    "# running the grid search takes a long time because of the relatively large grid and the inclusion of trigrams \n",
    "param_grid = {\"tfidfvectorizer__ngram_range\": [(1, 1), (1, 2), (1, 3)]}\n",
    "\n",
    "kfold=StratifiedKFold(n_splits=3, shuffle=True, random_state=42)\n",
    "grid1 = GridSearchCV(pipe, param_grid, n_jobs=-1, cv=kfold, scoring='f1') \n",
    "grid1.fit(text_train, y_train) \n",
    "\n",
    "G=pd.DataFrame(grid1.cv_results_)\n",
    "G.sort_values(\"rank_test_score\").head(3)"
   ]
  },
  {
   "cell_type": "code",
   "execution_count": 14,
   "metadata": {},
   "outputs": [
    {
     "name": "stdout",
     "output_type": "stream",
     "text": [
      "Best parameters:\n",
      "{'tfidfvectorizer__ngram_range': (1, 2)} \n",
      "\n",
      "Best cross-validation score: 0.99\n",
      "Test score: 0.99\n"
     ]
    }
   ],
   "source": [
    "print(\"Best parameters:\\n{}\".format(grid1.best_params_), '\\n')\n",
    "print(\"Best cross-validation score: {:.2f}\".format(grid1.best_score_)) \n",
    "print(\"Test score: {:.2f}\".format(grid1.score(text_test, y_test)))"
   ]
  },
  {
   "cell_type": "code",
   "execution_count": 15,
   "metadata": {},
   "outputs": [
    {
     "name": "stdout",
     "output_type": "stream",
     "text": [
      "             precision    recall  f1-score   support\n",
      "\n",
      "       spam       1.00      0.91      0.95       149\n",
      "        ham       0.99      1.00      0.99       966\n",
      "\n",
      "avg / total       0.99      0.99      0.99      1115\n",
      "\n"
     ]
    }
   ],
   "source": [
    "# Classification report:\n",
    "from sklearn.metrics import roc_curve, auc, confusion_matrix, classification_report\n",
    "\n",
    "report=classification_report(y_test, grid1.predict(text_test), target_names=['spam', 'ham'])\n",
    "print(report)"
   ]
  },
  {
   "cell_type": "code",
   "execution_count": 16,
   "metadata": {},
   "outputs": [
    {
     "name": "stdout",
     "output_type": "stream",
     "text": [
      "Confusion matrix, without normalization\n",
      "[[136  13]\n",
      " [  0 966]]\n",
      "Normalized confusion matrix\n",
      "[[0.91 0.09]\n",
      " [0.   1.  ]]\n"
     ]
    },
    {
     "data": {
      "image/png": "[encoded data removed]",
      "text/plain": [
       "<Figure size 432x288 with 2 Axes>"
      ]
     },
     "metadata": {},
     "output_type": "display_data"
    }
   ],
   "source": [
    "# Plot a confusion matrix.\n",
    "# cm is the confusion matrix, names are the names of the classes.\n",
    "def plot_confusion_matrix(cm, names, title='Confusion matrix', cmap=plt.cm.Blues):\n",
    "    plt.imshow(cm, interpolation='nearest', cmap=cmap)\n",
    "    plt.title(title)\n",
    "    plt.colorbar()\n",
    "    tick_marks = np.arange(len(names))\n",
    "    plt.xticks(tick_marks, names, rotation=45)\n",
    "    plt.yticks(tick_marks, names)\n",
    "    plt.tight_layout()\n",
    "    plt.ylabel('True label')\n",
    "    plt.xlabel('Predicted label')\n",
    "\n",
    "class_names=[\"spam\", \"ham\"]\n",
    "    \n",
    "# Compute confusion matrix\n",
    "cm = confusion_matrix(y_test, grid1.predict(text_test))\n",
    "np.set_printoptions(precision=2)\n",
    "print('Confusion matrix, without normalization')\n",
    "print(cm)\n",
    "\n",
    "\n",
    "# Normalize the confusion matrix by row (i.e by the number of samples in each class)\n",
    "cm_normalized = cm.astype('float') / cm.sum(axis=1)[:, np.newaxis]\n",
    "print('Normalized confusion matrix')\n",
    "print(cm_normalized)\n",
    "plt.figure()\n",
    "plot_confusion_matrix(cm_normalized, class_names, title='Normalized confusion matrix')\n",
    "\n",
    "plt.show()"
   ]
  },
  {
   "cell_type": "code",
   "execution_count": 17,
   "metadata": {},
   "outputs": [
    {
     "data": {
      "image/png": "[encoded data removed]",
      "text/plain": [
       "<Figure size 432x288 with 1 Axes>"
      ]
     },
     "metadata": {},
     "output_type": "display_data"
    }
   ],
   "source": [
    "# ROC curve & auc:\n",
    "from  sklearn.metrics import precision_recall_curve, roc_curve, roc_auc_score, average_precision_score\n",
    "\n",
    "fpr, tpr, thresholds=roc_curve(np.array(y_test),grid1.predict_proba(text_test)[:, 1] , pos_label=1)\n",
    "roc_auc=roc_auc_score(np.array(y_test), grid1.predict_proba(text_test)[:, 1])\n",
    "\n",
    "plt.figure()\n",
    "\n",
    "plt.step(fpr, tpr, color='darkorange', lw=2, label='ROC curve (auc = %0.2f)' % roc_auc)\n",
    "plt.plot([0, 1], [0, 1], color='navy', alpha=0.4, lw=2, linestyle='--')\n",
    "plt.xlim([0.0, 1.0])\n",
    "plt.ylim([0.0, 1.05])\n",
    "plt.xlabel('False Positive Rate')\n",
    "plt.ylabel('True Positive Rate')\n",
    "plt.title('ROC curve')\n",
    "plt.legend(loc=\"lower right\")\n",
    "\n",
    "plt.plot([cm_normalized[0,1]], [cm_normalized[1,1]], 'or')\n",
    "plt.show()"
   ]
  },
  {
   "cell_type": "markdown",
   "metadata": {},
   "source": [
    "# Semantic analysis with tf-idf and N-grams using Naive Bayes model: \n",
    "    * Approach 2: with word normalization (i.e. using lammatization or stemming)"
   ]
  },
  {
   "cell_type": "code",
   "execution_count": 18,
   "metadata": {},
   "outputs": [],
   "source": [
    "# run following script in the command line with admin privilage, to load the english package in spaCy:\n",
    "# python -m spacy download en"
   ]
  },
  {
   "cell_type": "code",
   "execution_count": 20,
   "metadata": {},
   "outputs": [],
   "source": [
    "# Technicality: we want to use the regexp-based tokenizer that is used by CountVectorizer \n",
    "# and only use the lemmatization from spacy. \n",
    "# We replace en_nlp.tokenizer (the spacy tokenizer) with the regexp-based tokenization:\n",
    "\n",
    "from sklearn.feature_extraction.text import CountVectorizer\n",
    "import re \n",
    "\n",
    "# regexp used in CountVectorizer \n",
    "regexp = re.compile('(?u)\\\\b\\\\w\\\\w+\\\\b')\n",
    "\n",
    "# load spacy language model and save old tokenizer \n",
    "en_nlp = spacy.load('en') \n",
    "old_tokenizer = en_nlp.tokenizer \n",
    "\n",
    "# replace the tokenizer with the preceding regexp \n",
    "en_nlp.tokenizer = lambda string: old_tokenizer.tokens_from_list(regexp.findall(string))\n",
    "\n",
    "# create a custom tokenizer using the spacy document processing pipeline (now using our own tokenizer) \n",
    "def custom_tokenizer(document):    \n",
    "    doc_spacy = en_nlp(document)    \n",
    "    return [token.lemma_ for token in doc_spacy]\n",
    "\n",
    "# define a count vectorizer with the custom tokenizer \n",
    "lemma_vect = CountVectorizer(tokenizer=custom_tokenizer,\n",
    "                             min_df=5, \n",
    "                             max_features=500,\n",
    "                             ngram_range=(1, 2)).fit(text_train)"
   ]
  },
  {
   "cell_type": "code",
   "execution_count": 21,
   "metadata": {},
   "outputs": [
    {
     "name": "stdout",
     "output_type": "stream",
     "text": [
      "X_train_lemma.shape: (4457, 500)\n"
     ]
    }
   ],
   "source": [
    "# transform text_train using CountVectorizer with lemmatization \n",
    "X_train_lemma = lemma_vect.transform(text_train) \n",
    "X_test_lemma = lemma_vect.transform(text_test[0:1000])\n",
    "\n",
    "print(\"X_train_lemma.shape: {}\".format(X_train_lemma.shape))"
   ]
  },
  {
   "cell_type": "code",
   "execution_count": 22,
   "metadata": {},
   "outputs": [
    {
     "name": "stdout",
     "output_type": "stream",
     "text": [
      "[0.98 0.98 0.96] \n",
      "\n",
      "Accuracy: 0.97 (+/- 0.01)\n"
     ]
    }
   ],
   "source": [
    "# \n",
    "from sklearn.feature_extraction.text import TfidfTransformer\n",
    "from sklearn.pipeline import make_pipeline\n",
    "from sklearn.naive_bayes import MultinomialNB\n",
    "from sklearn.model_selection import cross_val_score\n",
    "\n",
    "pipe = make_pipeline(TfidfTransformer(), \n",
    "                    MultinomialNB(alpha=0.00001)) \n",
    "\n",
    "kfold=StratifiedKFold(n_splits=3, shuffle=True, random_state=42)\n",
    "scores=cross_val_score(pipe, X_train_lemma, y_train, cv=kfold, scoring=\"f1_weighted\")\n",
    "\n",
    "print(scores, \"\\n\")\n",
    "print(\"Accuracy: %0.2f (+/- %0.2f)\" % (scores.mean(), scores.std()))"
   ]
  },
  {
   "cell_type": "code",
   "execution_count": 23,
   "metadata": {},
   "outputs": [],
   "source": [
    "model_lemma=pipe.fit(X_train_lemma, y_train)"
   ]
  },
  {
   "cell_type": "code",
   "execution_count": 24,
   "metadata": {},
   "outputs": [
    {
     "name": "stdout",
     "output_type": "stream",
     "text": [
      "             precision    recall  f1-score   support\n",
      "\n",
      "       spam       0.98      0.86      0.92       127\n",
      "        ham       0.98      1.00      0.99       873\n",
      "\n",
      "avg / total       0.98      0.98      0.98      1000\n",
      "\n"
     ]
    }
   ],
   "source": [
    "# Classification report:\n",
    "from sklearn.metrics import roc_curve, auc, confusion_matrix, classification_report\n",
    "\n",
    "\n",
    "report=classification_report(y_test[0:1000], model_lemma.predict(X_test_lemma), target_names=['spam', 'ham'])\n",
    "print(report)"
   ]
  },
  {
   "cell_type": "code",
   "execution_count": 25,
   "metadata": {},
   "outputs": [
    {
     "name": "stdout",
     "output_type": "stream",
     "text": [
      "Confusion matrix, without normalization\n",
      "[[109  18]\n",
      " [  2 871]]\n",
      "Normalized confusion matrix\n",
      "[[0.86 0.14]\n",
      " [0.   1.  ]]\n"
     ]
    },
    {
     "data": {
      "image/png": "[encoded data removed]",
      "text/plain": [
       "<Figure size 432x288 with 2 Axes>"
      ]
     },
     "metadata": {},
     "output_type": "display_data"
    }
   ],
   "source": [
    "# Plot a confusion matrix.\n",
    "# cm is the confusion matrix, names are the names of the classes.\n",
    "def plot_confusion_matrix(cm, names, title='Confusion matrix', cmap=plt.cm.Blues):\n",
    "    plt.imshow(cm, interpolation='nearest', cmap=cmap)\n",
    "    plt.title(title)\n",
    "    plt.colorbar()\n",
    "    tick_marks = np.arange(len(names))\n",
    "    plt.xticks(tick_marks, names, rotation=45)\n",
    "    plt.yticks(tick_marks, names)\n",
    "    plt.tight_layout()\n",
    "    plt.ylabel('True label')\n",
    "    plt.xlabel('Predicted label')\n",
    "\n",
    "class_names=[\"spam\", \"ham\"]\n",
    "    \n",
    "# Compute confusion matrix\n",
    "cm = confusion_matrix(y_test[0:1000], model_lemma.predict(X_test_lemma))\n",
    "np.set_printoptions(precision=2)\n",
    "print('Confusion matrix, without normalization')\n",
    "print(cm)\n",
    "\n",
    "\n",
    "# Normalize the confusion matrix by row (i.e by the number of samples in each class)\n",
    "cm_normalized = cm.astype('float') / cm.sum(axis=1)[:, np.newaxis]\n",
    "print('Normalized confusion matrix')\n",
    "print(cm_normalized)\n",
    "plt.figure()\n",
    "plot_confusion_matrix(cm_normalized, class_names, title='Normalized confusion matrix')\n",
    "\n",
    "plt.show()"
   ]
  },
  {
   "cell_type": "code",
   "execution_count": 26,
   "metadata": {},
   "outputs": [
    {
     "data": {
      "image/png": "[encoded data removed]",
      "text/plain": [
       "<Figure size 432x288 with 1 Axes>"
      ]
     },
     "metadata": {},
     "output_type": "display_data"
    }
   ],
   "source": [
    "# ROC curve & auc:\n",
    "from  sklearn.metrics import precision_recall_curve, roc_curve, roc_auc_score, average_precision_score\n",
    "\n",
    "fpr, tpr, thresholds=roc_curve(np.array(y_test[0:1000]), model_lemma.predict_proba(X_test_lemma)[:, 1] , pos_label=1)\n",
    "roc_auc=roc_auc_score(np.array(y_test[0:1000]), model_lemma.predict_proba(X_test_lemma)[:, 1])\n",
    "\n",
    "plt.figure()\n",
    "\n",
    "plt.step(fpr, tpr, color='darkorange', lw=2, label='ROC curve (auc = %0.2f)' % roc_auc)\n",
    "plt.plot([0, 1], [0, 1], color='navy', alpha=0.4, lw=2, linestyle='--')\n",
    "plt.xlim([0.0, 1.0])\n",
    "plt.ylim([0.0, 1.05])\n",
    "plt.xlabel('False Positive Rate')\n",
    "plt.ylabel('True Positive Rate')\n",
    "plt.title('ROC curve')\n",
    "plt.legend(loc=\"lower right\")\n",
    "\n",
    "plt.plot([cm_normalized[0,1]], [cm_normalized[1,1]], 'or')\n",
    "plt.show()"
   ]
  },
  {
   "cell_type": "code",
   "execution_count": null,
   "metadata": {},
   "outputs": [],
   "source": []
  }
 ],
 "metadata": {
  "kernelspec": {
   "display_name": "Python 3",
   "language": "python",
   "name": "python3"
  },
  "language_info": {
   "codemirror_mode": {
    "name": "ipython",
    "version": 3
   },
   "file_extension": ".py",
   "mimetype": "text/x-python",
   "name": "python",
   "nbconvert_exporter": "python",
   "pygments_lexer": "ipython3",
   "version": "3.6.5"
  }
 },
 "nbformat": 4,
 "nbformat_minor": 2
}
