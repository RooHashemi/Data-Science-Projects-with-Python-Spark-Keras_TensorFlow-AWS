{
 "cells": [
  {
   "cell_type": "markdown",
   "metadata": {},
   "source": [
    "# Data description & Problem statement: \n",
    "This dataset is originally from the National Institute of Diabetes and Digestive and Kidney Diseases. The objective of the dataset is to diagnostically predict whether or not a patient has diabetes, based on certain diagnostic measurements included in the dataset. Several constraints were placed on the selection of these instances from a larger database. In particular, all patients here are females at least 21 years old of Pima Indian heritage.\n",
    "\n",
    "The type of dataset and problem is a classic supervised binary classification. Given a number of elements all with certain characteristics (features), we want to build a machine learning model to identify people affected by type 2 diabetes.\n",
    "\n",
    "# Workflow:\n",
    "- Load the dataset\n",
    "- Basic data processing\n",
    "\n",
    "## 1) Local mode training, by using a subset of large dataset\n",
    "\n",
    "## 2) Training on SageMaker Cloud:\n",
    "   - Prepare data for SageMaker cloud training:\n",
    "       - Convert data to .csv and .recordio types\n",
    "       - Upload training and validation datasets to S3 bucket\n",
    "       \n",
    "   - Specify training algorithm Docker Image\n",
    "   - Build the XGBoost model\n",
    "   - Specify training data location and optionally, validation data location\n",
    "   - Train the model on SageMaker cloud\n",
    "   - Deploy the model, and run real-time predictions\n",
    "   - Evaluate the initial model (by R^2, Lift chart, RMSE, Box-plot for prediction Vs. actual values, Distribution plot of residuals)\n",
    "\n",
    "## 3) Hyper-parameters tuning on SageMaker Cloud: Model Optimization\n",
    "   - Specify range/value of hyperparameters, and launch tuning\n",
    "   - Track hyper-parameter tuning job process\n",
    "   - Analyze the correlation between objective metric and individual parameters\n",
    "   - Deploy the best model, and run real-time predictions\n",
    "   - Evaluate the best model (by auc score, confusion matrix, f1 score, roc curve, etc.) \n",
    "\n",
    "\n"
   ]
  },
  {
   "cell_type": "code",
   "execution_count": 1,
   "metadata": {},
   "outputs": [
    {
     "name": "stdout",
     "output_type": "stream",
     "text": [
      "Solving environment: done\n",
      "\n",
      "\n",
      "==> WARNING: A newer version of conda exists. <==\n",
      "  current version: 4.4.10\n",
      "  latest version: 4.5.11\n",
      "\n",
      "Please update conda by running\n",
      "\n",
      "    $ conda update -n base conda\n",
      "\n",
      "\n",
      "\n",
      "## Package Plan ##\n",
      "\n",
      "  environment location: /home/ec2-user/anaconda3/envs/python3\n",
      "\n",
      "  added / updated specs: \n",
      "    - xgboost\n",
      "\n",
      "\n",
      "The following packages will be downloaded:\n",
      "\n",
      "    package                    |            build\n",
      "    ---------------------------|-----------------\n",
      "    certifi-2018.8.24          |           py36_1         139 KB  conda-forge\n",
      "\n",
      "The following packages will be UPDATED:\n",
      "\n",
      "    ca-certificates: 2018.03.07-0      --> 2018.8.24-ha4d7672_0 conda-forge\n",
      "    certifi:         2018.8.24-py36_1  --> 2018.8.24-py36_1     conda-forge\n",
      "    openssl:         1.0.2p-h14c3975_0 --> 1.0.2p-h470a237_0    conda-forge\n",
      "\n",
      "\n",
      "Downloading and Extracting Packages\n",
      "certifi 2018.8.24: ##################################################### | 100% \n",
      "Preparing transaction: done\n",
      "Verifying transaction: done\n",
      "Executing transaction: done\n",
      "Solving environment: done\n",
      "\n",
      "\n",
      "==> WARNING: A newer version of conda exists. <==\n",
      "  current version: 4.4.10\n",
      "  latest version: 4.5.11\n",
      "\n",
      "Please update conda by running\n",
      "\n",
      "    $ conda update -n base conda\n",
      "\n",
      "\n",
      "\n",
      "## Package Plan ##\n",
      "\n",
      "  environment location: /home/ec2-user/anaconda3/envs/python3\n",
      "\n",
      "  added / updated specs: \n",
      "    - numpy\n",
      "\n",
      "\n",
      "The following packages will be downloaded:\n",
      "\n",
      "    package                    |            build\n",
      "    ---------------------------|-----------------\n",
      "    certifi-2018.8.24          |           py36_1         140 KB\n",
      "\n",
      "The following packages will be UPDATED:\n",
      "\n",
      "    certifi:         2018.8.24-py36_1     conda-forge --> 2018.8.24-py36_1 \n",
      "    openssl:         1.0.2p-h470a237_0    conda-forge --> 1.0.2p-h14c3975_0\n",
      "\n",
      "The following packages will be DOWNGRADED:\n",
      "\n",
      "    ca-certificates: 2018.8.24-ha4d7672_0 conda-forge --> 2018.03.07-0     \n",
      "\n",
      "\n",
      "Downloading and Extracting Packages\n",
      "certifi 2018.8.24: ##################################################### | 100% \n",
      "Preparing transaction: done\n",
      "Verifying transaction: done\n",
      "Executing transaction: done\n"
     ]
    }
   ],
   "source": [
    "# Istall XGBoost package and update numpy (for the local mode):\n",
    "!conda install -y -c conda-forge xgboost\n",
    "!conda update -y numpy"
   ]
  },
  {
   "cell_type": "code",
   "execution_count": 2,
   "metadata": {},
   "outputs": [],
   "source": [
    "import sklearn\n",
    "import xgboost\n",
    "import numpy as np\n",
    "import pandas as pd\n",
    "import matplotlib.pyplot as plt\n",
    "import seaborn as sns\n",
    "from sklearn import preprocessing\n",
    "%matplotlib inline\n",
    "from scipy import stats\n",
    "\n",
    "import warnings\n",
    "warnings.filterwarnings(\"ignore\")\n",
    "\n",
    "import boto3\n",
    "import sagemaker\n",
    "import sagemaker.amazon.common as smac\n",
    "from sagemaker import get_execution_role"
   ]
  },
  {
   "cell_type": "code",
   "execution_count": 3,
   "metadata": {},
   "outputs": [
    {
     "name": "stdout",
     "output_type": "stream",
     "text": [
      "<class 'pandas.core.frame.DataFrame'>\n",
      "RangeIndex: 768 entries, 0 to 767\n",
      "Data columns (total 9 columns):\n",
      "Number of times pregnant                                                    768 non-null int64\n",
      "Plasma glucose concentration a 2 hours in an oral glucose tolerance test    768 non-null int64\n",
      "Diastolic blood pressure (mm Hg)                                            768 non-null int64\n",
      "Triceps skin fold thickness (mm)                                            768 non-null int64\n",
      "2-Hour serum insulin (mu U/ml)                                              768 non-null int64\n",
      "Body mass index                                                             768 non-null float64\n",
      "Diabetes pedigree function                                                  768 non-null float64\n",
      "age                                                                         768 non-null int64\n",
      "target                                                                      768 non-null int64\n",
      "dtypes: float64(2), int64(7)\n",
      "memory usage: 54.1 KB\n"
     ]
    }
   ],
   "source": [
    "df=pd.read_csv('indiansDiabetes_All.csv')\n",
    "\n",
    "# To Shuffle the data:\n",
    "np.random.seed(42)\n",
    "df=df.reindex(np.random.permutation(df.index))\n",
    "df.reset_index(inplace=True, drop=True)\n",
    "\n",
    "df.info()"
   ]
  },
  {
   "cell_type": "markdown",
   "metadata": {},
   "source": [
    "# Data Preparation/Cleaning:"
   ]
  },
  {
   "cell_type": "code",
   "execution_count": 4,
   "metadata": {},
   "outputs": [
    {
     "data": {
      "text/html": [
       "<div>\n",
       "<style scoped>\n",
       "    .dataframe tbody tr th:only-of-type {\n",
       "        vertical-align: middle;\n",
       "    }\n",
       "\n",
       "    .dataframe tbody tr th {\n",
       "        vertical-align: top;\n",
       "    }\n",
       "\n",
       "    .dataframe thead th {\n",
       "        text-align: right;\n",
       "    }\n",
       "</style>\n",
       "<table border=\"1\" class=\"dataframe\">\n",
       "  <thead>\n",
       "    <tr style=\"text-align: right;\">\n",
       "      <th></th>\n",
       "      <th>NP</th>\n",
       "      <th>GC</th>\n",
       "      <th>BP</th>\n",
       "      <th>ST</th>\n",
       "      <th>I</th>\n",
       "      <th>BMI</th>\n",
       "      <th>PF</th>\n",
       "      <th>Age</th>\n",
       "      <th>Class</th>\n",
       "    </tr>\n",
       "  </thead>\n",
       "  <tbody>\n",
       "    <tr>\n",
       "      <th>0</th>\n",
       "      <td>6</td>\n",
       "      <td>148.0</td>\n",
       "      <td>72.0</td>\n",
       "      <td>35.00000</td>\n",
       "      <td>155.548223</td>\n",
       "      <td>33.6</td>\n",
       "      <td>0.627</td>\n",
       "      <td>50</td>\n",
       "      <td>1</td>\n",
       "    </tr>\n",
       "    <tr>\n",
       "      <th>1</th>\n",
       "      <td>1</td>\n",
       "      <td>85.0</td>\n",
       "      <td>66.0</td>\n",
       "      <td>29.00000</td>\n",
       "      <td>155.548223</td>\n",
       "      <td>26.6</td>\n",
       "      <td>0.351</td>\n",
       "      <td>31</td>\n",
       "      <td>0</td>\n",
       "    </tr>\n",
       "    <tr>\n",
       "      <th>2</th>\n",
       "      <td>8</td>\n",
       "      <td>183.0</td>\n",
       "      <td>64.0</td>\n",
       "      <td>29.15342</td>\n",
       "      <td>155.548223</td>\n",
       "      <td>23.3</td>\n",
       "      <td>0.672</td>\n",
       "      <td>32</td>\n",
       "      <td>1</td>\n",
       "    </tr>\n",
       "    <tr>\n",
       "      <th>3</th>\n",
       "      <td>1</td>\n",
       "      <td>89.0</td>\n",
       "      <td>66.0</td>\n",
       "      <td>23.00000</td>\n",
       "      <td>94.000000</td>\n",
       "      <td>28.1</td>\n",
       "      <td>0.167</td>\n",
       "      <td>21</td>\n",
       "      <td>0</td>\n",
       "    </tr>\n",
       "    <tr>\n",
       "      <th>4</th>\n",
       "      <td>0</td>\n",
       "      <td>137.0</td>\n",
       "      <td>40.0</td>\n",
       "      <td>35.00000</td>\n",
       "      <td>168.000000</td>\n",
       "      <td>43.1</td>\n",
       "      <td>2.288</td>\n",
       "      <td>33</td>\n",
       "      <td>1</td>\n",
       "    </tr>\n",
       "  </tbody>\n",
       "</table>\n",
       "</div>"
      ],
      "text/plain": [
       "   NP     GC    BP        ST           I   BMI     PF  Age  Class\n",
       "0   6  148.0  72.0  35.00000  155.548223  33.6  0.627   50      1\n",
       "1   1   85.0  66.0  29.00000  155.548223  26.6  0.351   31      0\n",
       "2   8  183.0  64.0  29.15342  155.548223  23.3  0.672   32      1\n",
       "3   1   89.0  66.0  23.00000   94.000000  28.1  0.167   21      0\n",
       "4   0  137.0  40.0  35.00000  168.000000  43.1  2.288   33      1"
      ]
     },
     "execution_count": 4,
     "metadata": {},
     "output_type": "execute_result"
    }
   ],
   "source": [
    "df.columns=['NP', 'GC', 'BP', 'ST', 'I',  'BMI', 'PF', 'Age', 'Class']\n",
    "\n",
    "df['ST'].replace(0, df[df['ST']!=0]['ST'].mean(), inplace=True)\n",
    "df['GC'].replace(0, df[df['GC']!=0]['GC'].mean(), inplace=True)\n",
    "df['BP'].replace(0, df[df['BP']!=0]['BP'].mean(), inplace=True)\n",
    "df['BMI'].replace(0, df[df['BMI']!=0]['BMI'].mean(), inplace=True)\n",
    "df['I'].replace(0, df[df['I']!=0]['I'].mean(), inplace=True)\n",
    "\n",
    "df.head()"
   ]
  },
  {
   "cell_type": "code",
   "execution_count": 5,
   "metadata": {},
   "outputs": [],
   "source": [
    "X=df.drop('Class', axis=1)\n",
    "y=df['Class']\n",
    "\n",
    "# We initially devide data into training & test folds: We do the Grid-Search only on training part  \n",
    "from sklearn.model_selection import train_test_split\n",
    "X_train, X_test, y_train, y_test = train_test_split(X, y, test_size=0.25, random_state=42, shuffle=True, stratify=y)"
   ]
  },
  {
   "cell_type": "code",
   "execution_count": 6,
   "metadata": {},
   "outputs": [],
   "source": [
    "df_train = pd.concat([y_train, X_train], axis=1)\n",
    "df_test = pd.concat([y_test, X_test], axis=1) "
   ]
  },
  {
   "cell_type": "code",
   "execution_count": 7,
   "metadata": {},
   "outputs": [],
   "source": [
    "# Write to SageMaker Notebook Instance: It is saved in the folder where this ipynb was created\n",
    "\n",
    "df_train.to_csv('indiansDiabetes_train.csv', index=False, header=False)\n",
    "df_test.to_csv('indiansDiabetes_test.csv', index=False, header=False)"
   ]
  },
  {
   "cell_type": "markdown",
   "metadata": {},
   "source": [
    "#  1) Local Mode Training (usually on a subset of large dataset): "
   ]
  },
  {
   "cell_type": "code",
   "execution_count": 8,
   "metadata": {},
   "outputs": [
    {
     "name": "stdout",
     "output_type": "stream",
     "text": [
      "[0.75172414 0.77083333 0.76388889 0.79020979] \n",
      "\n",
      "Accuracy: 0.77 (+/- 0.01)\n"
     ]
    }
   ],
   "source": [
    "# Building the Initial Model & Cross-Validation: \n",
    "import xgboost\n",
    "from xgboost import XGBClassifier\n",
    "from sklearn.model_selection import cross_val_score\n",
    "from sklearn.model_selection import StratifiedKFold\n",
    "\n",
    "model=XGBClassifier() \n",
    "kfold=StratifiedKFold(n_splits=4, shuffle=True, random_state=42)\n",
    "scores=cross_val_score(model, X_train, y_train, cv=kfold)\n",
    "\n",
    "print(scores, \"\\n\")\n",
    "print(\"Accuracy: %0.2f (+/- %0.2f)\" % (scores.mean(), scores.std()))"
   ]
  },
  {
   "cell_type": "markdown",
   "metadata": {},
   "source": [
    "# 2)  Training on SageMaker Cloud"
   ]
  },
  {
   "cell_type": "markdown",
   "metadata": {},
   "source": [
    "# preparing data for SageMaker cloud training: \n",
    "    - Converting data to .csv or .recodio types\n",
    "    - Uploading training & validation datasets to S3 bucket"
   ]
  },
  {
   "cell_type": "code",
   "execution_count": 9,
   "metadata": {},
   "outputs": [],
   "source": [
    "# Specify the Keys and Location of Train & Test datasets in S3:\n",
    "bucket_name = 'roohi-ml-sagemaker'\n",
    "training_file_key = 'indiansDiabetes/diabetes_train.csv'\n",
    "test_file_key = 'indiansDiabetes/diabetes_test.csv'\n",
    "\n",
    "s3_model_output_location = r's3://{0}/indiansDiabetes/model'.format(bucket_name)\n",
    "s3_training_file_location = r's3://{0}/{1}'.format(bucket_name,training_file_key)\n",
    "s3_test_file_location = r's3://{0}/{1}'.format(bucket_name,test_file_key)"
   ]
  },
  {
   "cell_type": "code",
   "execution_count": 10,
   "metadata": {},
   "outputs": [],
   "source": [
    "# Write and Reading from S3 is just as easy\n",
    "# files are referred as objects in S3. File name is referred as key name in S3.\n",
    "# Files stored in S3 are automatically replicated across 3 different availability zones in the region where the bucket was created.\n",
    "# http://boto3.readthedocs.io/en/latest/guide/s3.html\n",
    "\n",
    "def write_to_s3(filename, bucket, key):\n",
    "    with open(filename,'rb') as f: # Read in binary mode\n",
    "        return boto3.Session().resource('s3').Bucket(bucket).Object(key).upload_fileobj(f)"
   ]
  },
  {
   "cell_type": "code",
   "execution_count": 11,
   "metadata": {},
   "outputs": [],
   "source": [
    "write_to_s3('indiansDiabetes_train.csv', bucket_name, training_file_key)\n",
    "write_to_s3('indiansDiabetes_test.csv', bucket_name, test_file_key)"
   ]
  },
  {
   "cell_type": "markdown",
   "metadata": {},
   "source": [
    "   # Training Algorithm Docker Image:  \n",
    "    Note: AWS Maintains a separate image for every region and algorithm"
   ]
  },
  {
   "cell_type": "code",
   "execution_count": 12,
   "metadata": {},
   "outputs": [],
   "source": [
    "# Registry Path for algorithms provided by SageMaker\n",
    "#  https://docs.aws.amazon.com/sagemaker/latest/dg/sagemaker-algo-docker-registry-paths.html\n",
    "containers = {'us-west-2': '433757028032.dkr.ecr.us-west-2.amazonaws.com/xgboost:latest',\n",
    "              'us-east-1': '811284229777.dkr.ecr.us-east-1.amazonaws.com/xgboost:latest',\n",
    "              'us-east-2': '825641698319.dkr.ecr.us-east-2.amazonaws.com/xgboost:latest',\n",
    "              'eu-west-1': '685385470294.dkr.ecr.eu-west-1.amazonaws.com/xgboost:latest'}"
   ]
  },
  {
   "cell_type": "code",
   "execution_count": 13,
   "metadata": {},
   "outputs": [
    {
     "name": "stdout",
     "output_type": "stream",
     "text": [
      "arn:aws:iam::928921801380:role/service-role/AmazonSageMaker-ExecutionRole-20180831T120207\n"
     ]
    }
   ],
   "source": [
    "role = get_execution_role()\n",
    "\n",
    "# This role contains the permissions needed to train, deploy models\n",
    "# SageMaker Service is trusted to assume this role\n",
    "print(role)"
   ]
  },
  {
   "cell_type": "markdown",
   "metadata": {},
   "source": [
    "# Build model: "
   ]
  },
  {
   "cell_type": "code",
   "execution_count": 14,
   "metadata": {},
   "outputs": [],
   "source": [
    "sess = sagemaker.Session()"
   ]
  },
  {
   "cell_type": "code",
   "execution_count": 15,
   "metadata": {},
   "outputs": [],
   "source": [
    "# Access appropriate algorithm container image\n",
    "#  Specify how many instances to use for distributed training and what type of machine to use\n",
    "#  Finally, specify where the trained model artifacts needs to be stored\n",
    "#   Reference: http://sagemaker.readthedocs.io/en/latest/estimators.html\n",
    "#    Optionally, give a name to the training job using base_job_name\n",
    "\n",
    "estimator = sagemaker.estimator.Estimator(containers[boto3.Session().region_name],\n",
    "                                       role,\n",
    "                                       train_instance_count=1, \n",
    "                                       train_instance_type='ml.m4.xlarge',\n",
    "                                       output_path=s3_model_output_location,\n",
    "                                       sagemaker_session=sess,\n",
    "                                       base_job_name ='xgboost-indiansDiabetes-Train')"
   ]
  },
  {
   "cell_type": "code",
   "execution_count": 16,
   "metadata": {},
   "outputs": [
    {
     "data": {
      "text/plain": [
       "{'eval_metric': 'auc',\n",
       " 'objective': 'binary:logistic',\n",
       " 'scale_pos_weight': 1.8656716417910448,\n",
       " 'min_child_weight': 2,\n",
       " 'subsample': 0.7,\n",
       " 'num_round': 100}"
      ]
     },
     "execution_count": 16,
     "metadata": {},
     "output_type": "execute_result"
    }
   ],
   "source": [
    "# Specify hyper parameters that appropriate for the training algorithm\n",
    "# Take a look this table for metrics & parameters:   https://docs.aws.amazon.com/sagemaker/latest/dg/xgboost-tuning.html\n",
    "\n",
    "classRatio=df_train['Class'].value_counts()[0]/df_train['Class'].value_counts()[1]\n",
    "\n",
    "param={'eval_metric':'auc', \n",
    "       'objective':'binary:logistic',\n",
    "       'scale_pos_weight': classRatio,\n",
    "       'min_child_weight': 2, \n",
    "       'subsample': 0.7,\n",
    "       'num_round':100}\n",
    "estimator.set_hyperparameters(**param)\n",
    "\n",
    "estimator.hyperparameters()"
   ]
  },
  {
   "cell_type": "markdown",
   "metadata": {},
   "source": [
    "#    Specify Training Data Location and Optionally, Validation Data Location:"
   ]
  },
  {
   "cell_type": "code",
   "execution_count": 18,
   "metadata": {},
   "outputs": [
    {
     "name": "stdout",
     "output_type": "stream",
     "text": [
      "{'DataSource': {'S3DataSource': {'S3DataDistributionType': 'FullyReplicated', 'S3DataType': 'S3Prefix', 'S3Uri': 's3://roohi-ml-sagemaker/indiansDiabetes/diabetes_train.csv'}}, 'ContentType': 'csv'}\n",
      "{'DataSource': {'S3DataSource': {'S3DataDistributionType': 'FullyReplicated', 'S3DataType': 'S3Prefix', 'S3Uri': 's3://roohi-ml-sagemaker/indiansDiabetes/diabetes_test.csv'}}, 'ContentType': 'csv'}\n"
     ]
    }
   ],
   "source": [
    "# content type can be libsvm or csv for XGBoost\n",
    "training_input_config = sagemaker.session.s3_input(s3_data=s3_training_file_location, content_type=\"csv\")\n",
    "test_input_config = sagemaker.session.s3_input(s3_data=s3_test_file_location, content_type=\"csv\")\n",
    "\n",
    "print(training_input_config.config)\n",
    "print(test_input_config.config)"
   ]
  },
  {
   "cell_type": "markdown",
   "metadata": {},
   "source": [
    "# Train the model on SM cloud:"
   ]
  },
  {
   "cell_type": "code",
   "execution_count": 19,
   "metadata": {},
   "outputs": [
    {
     "name": "stderr",
     "output_type": "stream",
     "text": [
      "INFO:sagemaker:Creating training-job with name: xgboost-indiansDiabetes-Train-2018-09-02-18-04-37-097\n"
     ]
    },
    {
     "name": "stdout",
     "output_type": "stream",
     "text": [
      ".....................\n",
      "\n",
      "\u001b[31mArguments: train\u001b[0m\n",
      "\u001b[31m[2018-09-02:18:07:51:INFO] Running standalone xgboost training.\u001b[0m\n",
      "\u001b[31m[2018-09-02:18:07:51:INFO] File size need to be processed in the node: 0.04mb. Available memory size in the node: 8594.73mb\u001b[0m\n",
      "\u001b[31m[2018-09-02:18:07:51:INFO] Determined delimiter of CSV input is ','\u001b[0m\n",
      "\u001b[31m[18:07:51] S3DistributionType set as FullyReplicated\u001b[0m\n",
      "\u001b[31m[18:07:51] 576x8 matrix with 4608 entries loaded from /opt/ml/input/data/train?format=csv&label_column=0&delimiter=,\u001b[0m\n",
      "\u001b[31m[2018-09-02:18:07:51:INFO] Determined delimiter of CSV input is ','\u001b[0m\n",
      "\u001b[31m[18:07:51] S3DistributionType set as FullyReplicated\u001b[0m\n",
      "\u001b[31m[18:07:51] 192x8 matrix with 1536 entries loaded from /opt/ml/input/data/validation?format=csv&label_column=0&delimiter=,\u001b[0m\n",
      "\u001b[31m[18:07:51] src/tree/updater_prune.cc:74: tree pruning end, 1 roots, 44 extra nodes, 0 pruned nodes, max_depth=6\u001b[0m\n",
      "\u001b[31m[0]#011train-auc:0.882726#011validation-auc:0.774687\u001b[0m\n",
      "\u001b[31m[18:07:51] src/tree/updater_prune.cc:74: tree pruning end, 1 roots, 44 extra nodes, 0 pruned nodes, max_depth=6\u001b[0m\n",
      "\u001b[31m[1]#011train-auc:0.911768#011validation-auc:0.795403\u001b[0m\n",
      "\u001b[31m[18:07:51] src/tree/updater_prune.cc:74: tree pruning end, 1 roots, 34 extra nodes, 0 pruned nodes, max_depth=6\u001b[0m\n",
      "\u001b[31m[2]#011train-auc:0.930886#011validation-auc:0.804955\u001b[0m\n",
      "\u001b[31m[18:07:51] src/tree/updater_prune.cc:74: tree pruning end, 1 roots, 34 extra nodes, 0 pruned nodes, max_depth=6\u001b[0m\n",
      "\u001b[31m[3]#011train-auc:0.9333#011validation-auc:0.798448\u001b[0m\n",
      "\u001b[31m[18:07:51] src/tree/updater_prune.cc:74: tree pruning end, 1 roots, 34 extra nodes, 0 pruned nodes, max_depth=6\u001b[0m\n",
      "\u001b[31m[4]#011train-auc:0.94264#011validation-auc:0.794985\u001b[0m\n",
      "\u001b[31m[18:07:51] src/tree/updater_prune.cc:74: tree pruning end, 1 roots, 36 extra nodes, 0 pruned nodes, max_depth=6\u001b[0m\n",
      "\u001b[31m[5]#011train-auc:0.949692#011validation-auc:0.791224\u001b[0m\n",
      "\u001b[31m[18:07:51] src/tree/updater_prune.cc:74: tree pruning end, 1 roots, 32 extra nodes, 0 pruned nodes, max_depth=6\u001b[0m\n",
      "\u001b[31m[6]#011train-auc:0.956398#011validation-auc:0.80203\u001b[0m\n",
      "\u001b[31m[18:07:51] src/tree/updater_prune.cc:74: tree pruning end, 1 roots, 40 extra nodes, 0 pruned nodes, max_depth=6\u001b[0m\n",
      "\u001b[31m[7]#011train-auc:0.962136#011validation-auc:0.807224\u001b[0m\n",
      "\u001b[31m[18:07:51] src/tree/updater_prune.cc:74: tree pruning end, 1 roots, 32 extra nodes, 0 pruned nodes, max_depth=6\u001b[0m\n",
      "\u001b[31m[8]#011train-auc:0.966514#011validation-auc:0.806627\u001b[0m\n",
      "\u001b[31m[18:07:51] src/tree/updater_prune.cc:74: tree pruning end, 1 roots, 24 extra nodes, 0 pruned nodes, max_depth=6\u001b[0m\n",
      "\u001b[31m[9]#011train-auc:0.967058#011validation-auc:0.807582\u001b[0m\n",
      "\u001b[31m[10]#011train-auc:0.970614#011validation-auc:0.800358\u001b[0m\n",
      "\u001b[31m[18:07:51] src/tree/updater_prune.cc:74: tree pruning end, 1 roots, 30 extra nodes, 0 pruned nodes, max_depth=6\u001b[0m\n",
      "\u001b[31m[18:07:51] src/tree/updater_prune.cc:74: tree pruning end, 1 roots, 24 extra nodes, 0 pruned nodes, max_depth=6\u001b[0m\n",
      "\u001b[31m[11]#011train-auc:0.972736#011validation-auc:0.799881\u001b[0m\n",
      "\u001b[31m[18:07:51] src/tree/updater_prune.cc:74: tree pruning end, 1 roots, 28 extra nodes, 0 pruned nodes, max_depth=6\u001b[0m\n",
      "\u001b[31m[12]#011train-auc:0.976643#011validation-auc:0.803104\u001b[0m\n",
      "\u001b[31m[18:07:51] src/tree/updater_prune.cc:74: tree pruning end, 1 roots, 24 extra nodes, 0 pruned nodes, max_depth=6\u001b[0m\n",
      "\u001b[31m[13]#011train-auc:0.978136#011validation-auc:0.802985\u001b[0m\n",
      "\u001b[31m[18:07:51] src/tree/updater_prune.cc:74: tree pruning end, 1 roots, 26 extra nodes, 0 pruned nodes, max_depth=6\u001b[0m\n",
      "\u001b[31m[14]#011train-auc:0.980285#011validation-auc:0.803343\u001b[0m\n",
      "\u001b[31m[18:07:51] src/tree/updater_prune.cc:74: tree pruning end, 1 roots, 20 extra nodes, 0 pruned nodes, max_depth=6\u001b[0m\n",
      "\u001b[31m[15]#011train-auc:0.981254#011validation-auc:0.803463\u001b[0m\n",
      "\u001b[31m[18:07:51] src/tree/updater_prune.cc:74: tree pruning end, 1 roots, 26 extra nodes, 0 pruned nodes, max_depth=6\u001b[0m\n",
      "\u001b[31m[16]#011train-auc:0.98331#011validation-auc:0.805851\u001b[0m\n",
      "\u001b[31m[18:07:51] src/tree/updater_prune.cc:74: tree pruning end, 1 roots, 36 extra nodes, 0 pruned nodes, max_depth=6\u001b[0m\n",
      "\u001b[31m[17]#011train-auc:0.985619#011validation-auc:0.809433\u001b[0m\n",
      "\u001b[31m[18:07:51] src/tree/updater_prune.cc:74: tree pruning end, 1 roots, 32 extra nodes, 0 pruned nodes, max_depth=6\u001b[0m\n",
      "\u001b[31m[18]#011train-auc:0.987662#011validation-auc:0.806925\u001b[0m\n",
      "\u001b[31m[18:07:51] src/tree/updater_prune.cc:74: tree pruning end, 1 roots, 34 extra nodes, 0 pruned nodes, max_depth=6\u001b[0m\n",
      "\u001b[31m[19]#011train-auc:0.988139#011validation-auc:0.810985\u001b[0m\n",
      "\u001b[31m[18:07:51] src/tree/updater_prune.cc:74: tree pruning end, 1 roots, 20 extra nodes, 0 pruned nodes, max_depth=6\u001b[0m\n",
      "\u001b[31m[20]#011train-auc:0.989121#011validation-auc:0.813493\u001b[0m\n",
      "\u001b[31m[18:07:51] src/tree/updater_prune.cc:74: tree pruning end, 1 roots, 24 extra nodes, 0 pruned nodes, max_depth=6\u001b[0m\n",
      "\u001b[31m[21]#011train-auc:0.989373#011validation-auc:0.814567\u001b[0m\n",
      "\u001b[31m[18:07:51] src/tree/updater_prune.cc:74: tree pruning end, 1 roots, 28 extra nodes, 0 pruned nodes, max_depth=6\u001b[0m\n",
      "\u001b[31m[22]#011train-auc:0.990939#011validation-auc:0.812299\u001b[0m\n",
      "\u001b[31m[18:07:51] src/tree/updater_prune.cc:74: tree pruning end, 1 roots, 24 extra nodes, 0 pruned nodes, max_depth=6\u001b[0m\n",
      "\u001b[31m[23]#011train-auc:0.991801#011validation-auc:0.810388\u001b[0m\n",
      "\u001b[31m[18:07:51] src/tree/updater_prune.cc:74: tree pruning end, 1 roots, 30 extra nodes, 0 pruned nodes, max_depth=6\u001b[0m\n",
      "\u001b[31m[24]#011train-auc:0.992637#011validation-auc:0.811821\u001b[0m\n",
      "\u001b[31m[18:07:51] src/tree/updater_prune.cc:74: tree pruning end, 1 roots, 30 extra nodes, 0 pruned nodes, max_depth=6\u001b[0m\n",
      "\u001b[31m[25]#011train-auc:0.994229#011validation-auc:0.807761\u001b[0m\n",
      "\u001b[31m[18:07:51] src/tree/updater_prune.cc:74: tree pruning end, 1 roots, 32 extra nodes, 0 pruned nodes, max_depth=6\u001b[0m\n",
      "\u001b[31m[26]#011train-auc:0.995768#011validation-auc:0.807522\u001b[0m\n",
      "\u001b[31m[18:07:51] src/tree/updater_prune.cc:74: tree pruning end, 1 roots, 24 extra nodes, 0 pruned nodes, max_depth=6\u001b[0m\n",
      "\u001b[31m[27]#011train-auc:0.996126#011validation-auc:0.80394\u001b[0m\n",
      "\u001b[31m[18:07:51] src/tree/updater_prune.cc:74: tree pruning end, 1 roots, 32 extra nodes, 0 pruned nodes, max_depth=6\u001b[0m\n",
      "\u001b[31m[28]#011train-auc:0.997161#011validation-auc:0.806328\u001b[0m\n",
      "\u001b[31m[18:07:51] src/tree/updater_prune.cc:74: tree pruning end, 1 roots, 26 extra nodes, 0 pruned nodes, max_depth=6\u001b[0m\n",
      "\u001b[31m[29]#011train-auc:0.997413#011validation-auc:0.806687\u001b[0m\n",
      "\u001b[31m[18:07:51] src/tree/updater_prune.cc:74: tree pruning end, 1 roots, 28 extra nodes, 0 pruned nodes, max_depth=6\u001b[0m\n",
      "\u001b[31m[30]#011train-auc:0.998315#011validation-auc:0.808836\u001b[0m\n",
      "\u001b[31m[18:07:51] src/tree/updater_prune.cc:74: tree pruning end, 1 roots, 22 extra nodes, 0 pruned nodes, max_depth=6\u001b[0m\n",
      "\u001b[31m[31]#011train-auc:0.998713#011validation-auc:0.808119\u001b[0m\n",
      "\u001b[31m[18:07:51] src/tree/updater_prune.cc:74: tree pruning end, 1 roots, 22 extra nodes, 0 pruned nodes, max_depth=6\u001b[0m\n",
      "\u001b[31m[32]#011train-auc:0.998846#011validation-auc:0.806328\u001b[0m\n",
      "\u001b[31m[18:07:51] src/tree/updater_prune.cc:74: tree pruning end, 1 roots, 26 extra nodes, 0 pruned nodes, max_depth=6\u001b[0m\n",
      "\u001b[31m[33]#011train-auc:0.998846#011validation-auc:0.806448\u001b[0m\n",
      "\u001b[31m[18:07:51] src/tree/updater_prune.cc:74: tree pruning end, 1 roots, 22 extra nodes, 0 pruned nodes, max_depth=6\u001b[0m\n",
      "\u001b[31m[34]#011train-auc:0.999098#011validation-auc:0.806328\u001b[0m\n",
      "\u001b[31m[18:07:51] src/tree/updater_prune.cc:74: tree pruning end, 1 roots, 28 extra nodes, 0 pruned nodes, max_depth=6\u001b[0m\n",
      "\u001b[31m[35]#011train-auc:0.99943#011validation-auc:0.807642\u001b[0m\n",
      "\u001b[31m[18:07:51] src/tree/updater_prune.cc:74: tree pruning end, 1 roots, 26 extra nodes, 0 pruned nodes, max_depth=6\u001b[0m\n",
      "\u001b[31m[36]#011train-auc:0.99943#011validation-auc:0.804537\u001b[0m\n",
      "\u001b[31m[18:07:51] src/tree/updater_prune.cc:74: tree pruning end, 1 roots, 28 extra nodes, 0 pruned nodes, max_depth=6\u001b[0m\n",
      "\u001b[31m[37]#011train-auc:0.999549#011validation-auc:0.802985\u001b[0m\n",
      "\u001b[31m[18:07:51] src/tree/updater_prune.cc:74: tree pruning end, 1 roots, 22 extra nodes, 0 pruned nodes, max_depth=6\u001b[0m\n",
      "\u001b[31m[38]#011train-auc:0.999602#011validation-auc:0.801075\u001b[0m\n",
      "\u001b[31m[18:07:51] src/tree/updater_prune.cc:74: tree pruning end, 1 roots, 20 extra nodes, 0 pruned nodes, max_depth=6\u001b[0m\n",
      "\u001b[31m[39]#011train-auc:0.999682#011validation-auc:0.801075\u001b[0m\n",
      "\u001b[31m[18:07:51] src/tree/updater_prune.cc:74: tree pruning end, 1 roots, 22 extra nodes, 0 pruned nodes, max_depth=6\u001b[0m\n",
      "\u001b[31m[40]#011train-auc:0.999761#011validation-auc:0.803582\u001b[0m\n",
      "\u001b[31m[18:07:51] src/tree/updater_prune.cc:74: tree pruning end, 1 roots, 24 extra nodes, 0 pruned nodes, max_depth=6\u001b[0m\n",
      "\u001b[31m[41]#011train-auc:0.999854#011validation-auc:0.801552\u001b[0m\n",
      "\u001b[31m[18:07:51] src/tree/updater_prune.cc:74: tree pruning end, 1 roots, 16 extra nodes, 0 pruned nodes, max_depth=6\u001b[0m\n",
      "\u001b[31m[42]#011train-auc:0.999867#011validation-auc:0.799881\u001b[0m\n",
      "\u001b[31m[18:07:51] src/tree/updater_prune.cc:74: tree pruning end, 1 roots, 20 extra nodes, 0 pruned nodes, max_depth=6\u001b[0m\n",
      "\u001b[31m[43]#011train-auc:0.999894#011validation-auc:0.801433\u001b[0m\n",
      "\u001b[31m[18:07:51] src/tree/updater_prune.cc:74: tree pruning end, 1 roots, 24 extra nodes, 0 pruned nodes, max_depth=6\u001b[0m\n",
      "\u001b[31m[44]#011train-auc:0.999841#011validation-auc:0.80203\u001b[0m\n",
      "\u001b[31m[18:07:51] src/tree/updater_prune.cc:74: tree pruning end, 1 roots, 24 extra nodes, 0 pruned nodes, max_depth=6\u001b[0m\n",
      "\u001b[31m[45]#011train-auc:0.999867#011validation-auc:0.804418\u001b[0m\n",
      "\u001b[31m[18:07:51] src/tree/updater_prune.cc:74: tree pruning end, 1 roots, 28 extra nodes, 0 pruned nodes, max_depth=6\u001b[0m\n",
      "\u001b[31m[46]#011train-auc:0.99996#011validation-auc:0.806448\u001b[0m\n",
      "\u001b[31m[18:07:51] src/tree/updater_prune.cc:74: tree pruning end, 1 roots, 22 extra nodes, 0 pruned nodes, max_depth=6\u001b[0m\n",
      "\u001b[31m[47]#011train-auc:1#011validation-auc:0.803224\u001b[0m\n",
      "\u001b[31m[18:07:51] src/tree/updater_prune.cc:74: tree pruning end, 1 roots, 24 extra nodes, 0 pruned nodes, max_depth=5\u001b[0m\n",
      "\u001b[31m[48]#011train-auc:1#011validation-auc:0.803582\u001b[0m\n",
      "\u001b[31m[18:07:51] src/tree/updater_prune.cc:74: tree pruning end, 1 roots, 24 extra nodes, 0 pruned nodes, max_depth=6\u001b[0m\n",
      "\u001b[31m[49]#011train-auc:1#011validation-auc:0.800836\u001b[0m\n",
      "\u001b[31m[18:07:51] src/tree/updater_prune.cc:74: tree pruning end, 1 roots, 20 extra nodes, 0 pruned nodes, max_depth=4\u001b[0m\n",
      "\u001b[31m[50]#011train-auc:1#011validation-auc:0.801313\u001b[0m\n",
      "\u001b[31m[18:07:51] src/tree/updater_prune.cc:74: tree pruning end, 1 roots, 22 extra nodes, 0 pruned nodes, max_depth=6\u001b[0m\n",
      "\u001b[31m[51]#011train-auc:1#011validation-auc:0.800358\u001b[0m\n",
      "\u001b[31m[18:07:51] src/tree/updater_prune.cc:74: tree pruning end, 1 roots, 16 extra nodes, 0 pruned nodes, max_depth=6\u001b[0m\n",
      "\u001b[31m[52]#011train-auc:1#011validation-auc:0.800358\u001b[0m\n",
      "\u001b[31m[18:07:51] src/tree/updater_prune.cc:74: tree pruning end, 1 roots, 26 extra nodes, 0 pruned nodes, max_depth=6\u001b[0m\n",
      "\u001b[31m[53]#011train-auc:1#011validation-auc:0.797731\u001b[0m\n",
      "\u001b[31m[18:07:51] src/tree/updater_prune.cc:74: tree pruning end, 1 roots, 24 extra nodes, 0 pruned nodes, max_depth=6\u001b[0m\n",
      "\u001b[31m[54]#011train-auc:1#011validation-auc:0.793552\u001b[0m\n",
      "\u001b[31m[18:07:51] src/tree/updater_prune.cc:74: tree pruning end, 1 roots, 22 extra nodes, 0 pruned nodes, max_depth=6\u001b[0m\n",
      "\u001b[31m[55]#011train-auc:1#011validation-auc:0.792119\u001b[0m\n",
      "\u001b[31m[18:07:51] src/tree/updater_prune.cc:74: tree pruning end, 1 roots, 22 extra nodes, 0 pruned nodes, max_depth=5\u001b[0m\n",
      "\u001b[31m[56]#011train-auc:1#011validation-auc:0.791761\u001b[0m\n",
      "\u001b[31m[18:07:51] src/tree/updater_prune.cc:74: tree pruning end, 1 roots, 18 extra nodes, 0 pruned nodes, max_depth=6\u001b[0m\n",
      "\u001b[31m[57]#011train-auc:1#011validation-auc:0.792716\u001b[0m\n",
      "\u001b[31m[18:07:51] src/tree/updater_prune.cc:74: tree pruning end, 1 roots, 20 extra nodes, 0 pruned nodes, max_depth=5\u001b[0m\n",
      "\u001b[31m[58]#011train-auc:1#011validation-auc:0.793672\u001b[0m\n",
      "\u001b[31m[18:07:51] src/tree/updater_prune.cc:74: tree pruning end, 1 roots, 22 extra nodes, 0 pruned nodes, max_depth=6\u001b[0m\n",
      "\u001b[31m[59]#011train-auc:1#011validation-auc:0.793313\u001b[0m\n",
      "\u001b[31m[18:07:51] src/tree/updater_prune.cc:74: tree pruning end, 1 roots, 18 extra nodes, 0 pruned nodes, max_depth=6\u001b[0m\n",
      "\u001b[31m[60]#011train-auc:1#011validation-auc:0.794627\u001b[0m\n",
      "\u001b[31m[18:07:51] src/tree/updater_prune.cc:74: tree pruning end, 1 roots, 22 extra nodes, 0 pruned nodes, max_depth=4\u001b[0m\n",
      "\u001b[31m[61]#011train-auc:1#011validation-auc:0.794985\u001b[0m\n",
      "\u001b[31m[18:07:51] src/tree/updater_prune.cc:74: tree pruning end, 1 roots, 20 extra nodes, 0 pruned nodes, max_depth=6\u001b[0m\n",
      "\u001b[31m[62]#011train-auc:1#011validation-auc:0.792478\u001b[0m\n",
      "\u001b[31m[18:07:51] src/tree/updater_prune.cc:74: tree pruning end, 1 roots, 18 extra nodes, 0 pruned nodes, max_depth=6\u001b[0m\n",
      "\u001b[31m[63]#011train-auc:1#011validation-auc:0.793194\u001b[0m\n",
      "\u001b[31m[18:07:51] src/tree/updater_prune.cc:74: tree pruning end, 1 roots, 20 extra nodes, 0 pruned nodes, max_depth=5\u001b[0m\n",
      "\u001b[31m[64]#011train-auc:1#011validation-auc:0.792597\u001b[0m\n",
      "\u001b[31m[18:07:51] src/tree/updater_prune.cc:74: tree pruning end, 1 roots, 20 extra nodes, 0 pruned nodes, max_depth=6\u001b[0m\n",
      "\u001b[31m[65]#011train-auc:1#011validation-auc:0.794866\u001b[0m\n",
      "\u001b[31m[18:07:51] src/tree/updater_prune.cc:74: tree pruning end, 1 roots, 18 extra nodes, 0 pruned nodes, max_depth=4\u001b[0m\n",
      "\u001b[31m[66]#011train-auc:1#011validation-auc:0.795224\u001b[0m\n",
      "\u001b[31m[18:07:51] src/tree/updater_prune.cc:74: tree pruning end, 1 roots, 20 extra nodes, 0 pruned nodes, max_depth=6\u001b[0m\n",
      "\u001b[31m[67]#011train-auc:1#011validation-auc:0.794507\u001b[0m\n",
      "\u001b[31m[18:07:51] src/tree/updater_prune.cc:74: tree pruning end, 1 roots, 16 extra nodes, 0 pruned nodes, max_depth=6\u001b[0m\n",
      "\u001b[31m[68]#011train-auc:1#011validation-auc:0.789612\u001b[0m\n",
      "\u001b[31m[18:07:51] src/tree/updater_prune.cc:74: tree pruning end, 1 roots, 16 extra nodes, 0 pruned nodes, max_depth=6\u001b[0m\n",
      "\u001b[31m[69]#011train-auc:1#011validation-auc:0.78794\u001b[0m\n",
      "\u001b[31m[18:07:51] src/tree/updater_prune.cc:74: tree pruning end, 1 roots, 18 extra nodes, 0 pruned nodes, max_depth=5\u001b[0m\n",
      "\u001b[31m[70]#011train-auc:1#011validation-auc:0.786866\u001b[0m\n",
      "\u001b[31m[18:07:51] src/tree/updater_prune.cc:74: tree pruning end, 1 roots, 18 extra nodes, 0 pruned nodes, max_depth=5\u001b[0m\n",
      "\u001b[31m[71]#011train-auc:1#011validation-auc:0.785672\u001b[0m\n",
      "\u001b[31m[18:07:51] src/tree/updater_prune.cc:74: tree pruning end, 1 roots, 18 extra nodes, 0 pruned nodes, max_depth=5\u001b[0m\n",
      "\u001b[31m[72]#011train-auc:1#011validation-auc:0.786866\u001b[0m\n",
      "\u001b[31m[18:07:51] src/tree/updater_prune.cc:74: tree pruning end, 1 roots, 18 extra nodes, 0 pruned nodes, max_depth=6\u001b[0m\n",
      "\u001b[31m[73]#011train-auc:1#011validation-auc:0.785552\u001b[0m\n",
      "\u001b[31m[18:07:51] src/tree/updater_prune.cc:74: tree pruning end, 1 roots, 18 extra nodes, 0 pruned nodes, max_depth=4\u001b[0m\n",
      "\u001b[31m[74]#011train-auc:1#011validation-auc:0.785075\u001b[0m\n",
      "\u001b[31m[18:07:51] src/tree/updater_prune.cc:74: tree pruning end, 1 roots, 18 extra nodes, 0 pruned nodes, max_depth=6\u001b[0m\n",
      "\u001b[31m[75]#011train-auc:1#011validation-auc:0.783642\u001b[0m\n",
      "\u001b[31m[76]#011train-auc:1#011validation-auc:0.784358\u001b[0m\n",
      "\u001b[31m[18:07:51] src/tree/updater_prune.cc:74: tree pruning end, 1 roots, 18 extra nodes, 0 pruned nodes, max_depth=6\u001b[0m\n",
      "\u001b[31m[18:07:51] src/tree/updater_prune.cc:74: tree pruning end, 1 roots, 20 extra nodes, 0 pruned nodes, max_depth=6\u001b[0m\n",
      "\u001b[31m[77]#011train-auc:1#011validation-auc:0.784716\u001b[0m\n",
      "\u001b[31m[18:07:51] src/tree/updater_prune.cc:74: tree pruning end, 1 roots, 14 extra nodes, 0 pruned nodes, max_depth=6\u001b[0m\n",
      "\u001b[31m[78]#011train-auc:1#011validation-auc:0.783403\u001b[0m\n",
      "\u001b[31m[18:07:51] src/tree/updater_prune.cc:74: tree pruning end, 1 roots, 16 extra nodes, 0 pruned nodes, max_depth=5\u001b[0m\n",
      "\u001b[31m[79]#011train-auc:1#011validation-auc:0.779343\u001b[0m\n",
      "\u001b[31m[18:07:51] src/tree/updater_prune.cc:74: tree pruning end, 1 roots, 14 extra nodes, 0 pruned nodes, max_depth=5\u001b[0m\n",
      "\u001b[31m[80]#011train-auc:1#011validation-auc:0.782567\u001b[0m\n",
      "\u001b[31m[18:07:51] src/tree/updater_prune.cc:74: tree pruning end, 1 roots, 16 extra nodes, 0 pruned nodes, max_depth=6\u001b[0m\n",
      "\u001b[31m[81]#011train-auc:1#011validation-auc:0.783045\u001b[0m\n",
      "\u001b[31m[18:07:51] src/tree/updater_prune.cc:74: tree pruning end, 1 roots, 18 extra nodes, 0 pruned nodes, max_depth=6\u001b[0m\n",
      "\u001b[31m[82]#011train-auc:1#011validation-auc:0.784836\u001b[0m\n",
      "\u001b[31m[18:07:51] src/tree/updater_prune.cc:74: tree pruning end, 1 roots, 16 extra nodes, 0 pruned nodes, max_depth=5\u001b[0m\n",
      "\u001b[31m[83]#011train-auc:1#011validation-auc:0.783164\u001b[0m\n",
      "\u001b[31m[18:07:51] src/tree/updater_prune.cc:74: tree pruning end, 1 roots, 16 extra nodes, 0 pruned nodes, max_depth=5\u001b[0m\n",
      "\u001b[31m[84]#011train-auc:1#011validation-auc:0.784716\u001b[0m\n",
      "\u001b[31m[18:07:51] src/tree/updater_prune.cc:74: tree pruning end, 1 roots, 14 extra nodes, 0 pruned nodes, max_depth=5\u001b[0m\n",
      "\u001b[31m[85]#011train-auc:1#011validation-auc:0.784358\u001b[0m\n",
      "\u001b[31m[18:07:51] src/tree/updater_prune.cc:74: tree pruning end, 1 roots, 16 extra nodes, 0 pruned nodes, max_depth=6\u001b[0m\n",
      "\u001b[31m[86]#011train-auc:1#011validation-auc:0.786149\u001b[0m\n",
      "\u001b[31m[18:07:51] src/tree/updater_prune.cc:74: tree pruning end, 1 roots, 14 extra nodes, 0 pruned nodes, max_depth=6\u001b[0m\n",
      "\u001b[31m[87]#011train-auc:1#011validation-auc:0.782806\u001b[0m\n",
      "\u001b[31m[18:07:51] src/tree/updater_prune.cc:74: tree pruning end, 1 roots, 16 extra nodes, 0 pruned nodes, max_depth=5\u001b[0m\n",
      "\u001b[31m[88]#011train-auc:1#011validation-auc:0.781254\u001b[0m\n",
      "\u001b[31m[18:07:51] src/tree/updater_prune.cc:74: tree pruning end, 1 roots, 14 extra nodes, 0 pruned nodes, max_depth=6\u001b[0m\n",
      "\u001b[31m[89]#011train-auc:1#011validation-auc:0.783284\u001b[0m\n",
      "\u001b[31m[18:07:51] src/tree/updater_prune.cc:74: tree pruning end, 1 roots, 14 extra nodes, 0 pruned nodes, max_depth=5\u001b[0m\n",
      "\u001b[31m[90]#011train-auc:1#011validation-auc:0.782328\u001b[0m\n",
      "\u001b[31m[18:07:51] src/tree/updater_prune.cc:74: tree pruning end, 1 roots, 16 extra nodes, 0 pruned nodes, max_depth=5\u001b[0m\n",
      "\u001b[31m[91]#011train-auc:1#011validation-auc:0.784\u001b[0m\n",
      "\u001b[31m[18:07:51] src/tree/updater_prune.cc:74: tree pruning end, 1 roots, 16 extra nodes, 0 pruned nodes, max_depth=6\u001b[0m\n",
      "\u001b[31m[92]#011train-auc:1#011validation-auc:0.784358\u001b[0m\n",
      "\u001b[31m[93]#011train-auc:1#011validation-auc:0.784358\u001b[0m\n",
      "\u001b[31m[18:07:51] src/tree/updater_prune.cc:74: tree pruning end, 1 roots, 16 extra nodes, 0 pruned nodes, max_depth=5\u001b[0m\n",
      "\u001b[31m[18:07:51] src/tree/updater_prune.cc:74: tree pruning end, 1 roots, 16 extra nodes, 0 pruned nodes, max_depth=6\u001b[0m\n",
      "\u001b[31m[94]#011train-auc:1#011validation-auc:0.78591\u001b[0m\n",
      "\u001b[31m[18:07:51] src/tree/updater_prune.cc:74: tree pruning end, 1 roots, 12 extra nodes, 0 pruned nodes, max_depth=5\u001b[0m\n",
      "\u001b[31m[95]#011train-auc:1#011validation-auc:0.785313\u001b[0m\n",
      "\u001b[31m[18:07:51] src/tree/updater_prune.cc:74: tree pruning end, 1 roots, 14 extra nodes, 0 pruned nodes, max_depth=5\u001b[0m\n",
      "\u001b[31m[96]#011train-auc:1#011validation-auc:0.784597\u001b[0m\n",
      "\u001b[31m[18:07:51] src/tree/updater_prune.cc:74: tree pruning end, 1 roots, 14 extra nodes, 0 pruned nodes, max_depth=5\u001b[0m\n",
      "\u001b[31m[97]#011train-auc:1#011validation-auc:0.782567\u001b[0m\n",
      "\u001b[31m[18:07:51] src/tree/updater_prune.cc:74: tree pruning end, 1 roots, 14 extra nodes, 0 pruned nodes, max_depth=5\u001b[0m\n",
      "\u001b[31m[98]#011train-auc:1#011validation-auc:0.780657\u001b[0m\n",
      "\u001b[31m[18:07:51] src/tree/updater_prune.cc:74: tree pruning end, 1 roots, 12 extra nodes, 0 pruned nodes, max_depth=3\u001b[0m\n",
      "\u001b[31m[99]#011train-auc:1#011validation-auc:0.778627\u001b[0m\n"
     ]
    },
    {
     "name": "stdout",
     "output_type": "stream",
     "text": [
      "Billable seconds: 87\n"
     ]
    }
   ],
   "source": [
    "# XGBoost supports \"train\", \"validation\" channels\n",
    "# Reference: Supported channels by algorithm    \n",
    "# https://docs.aws.amazon.com/sagemaker/latest/dg/sagemaker-algo-docker-registry-paths.html\n",
    "\n",
    "estimator.fit({'train': training_input_config, 'validation': test_input_config})"
   ]
  },
  {
   "cell_type": "markdown",
   "metadata": {},
   "source": [
    "## Deploy Model & Run Predictions:"
   ]
  },
  {
   "cell_type": "code",
   "execution_count": 20,
   "metadata": {},
   "outputs": [
    {
     "name": "stderr",
     "output_type": "stream",
     "text": [
      "INFO:sagemaker:Creating model with name: xgboost-2018-09-02-18-08-19-270\n",
      "INFO:sagemaker:Creating endpoint with name xgboost-indiansDiabetes-Train\n"
     ]
    },
    {
     "name": "stdout",
     "output_type": "stream",
     "text": [
      "--------------------------------------------------------------!"
     ]
    }
   ],
   "source": [
    "# Ref: http://sagemaker.readthedocs.io/en/latest/estimators.html\n",
    "predictor = estimator.deploy(initial_instance_count=1,\n",
    "                             instance_type='ml.m4.xlarge',\n",
    "                             endpoint_name = 'xgboost-indiansDiabetes-Train')"
   ]
  },
  {
   "cell_type": "code",
   "execution_count": 21,
   "metadata": {},
   "outputs": [],
   "source": [
    "# Run Predictions\n",
    "from sagemaker.predictor import csv_serializer, json_deserializer\n",
    "\n",
    "predictor.content_type = 'text/csv'\n",
    "predictor.serializer = csv_serializer\n",
    "predictor.deserializer = None"
   ]
  },
  {
   "cell_type": "code",
   "execution_count": 22,
   "metadata": {},
   "outputs": [],
   "source": [
    "df_test = pd.read_csv('indiansDiabetes_test.csv', header=None)\n",
    "\n",
    "X_test=df_test.loc[0:, 1:].as_matrix()\n",
    "y_test=df_test.loc[0:, 0].as_matrix()"
   ]
  },
  {
   "cell_type": "code",
   "execution_count": 23,
   "metadata": {},
   "outputs": [
    {
     "name": "stdout",
     "output_type": "stream",
     "text": [
      "(20, 8)\n",
      "(20, 8)\n",
      "(19, 8)\n",
      "(19, 8)\n",
      "(19, 8)\n",
      "(19, 8)\n",
      "(19, 8)\n",
      "(19, 8)\n",
      "(19, 8)\n",
      "(19, 8)\n"
     ]
    }
   ],
   "source": [
    "# For large number of predictions, we can split the input data and Query the prediction service.\n",
    "# array_split is convenient to specify how many splits are needed\n",
    "probability = []\n",
    "for arr in np.array_split(X_test,10):\n",
    "    result = predictor.predict(arr)\n",
    "    result = result.decode(\"utf-8\")\n",
    "    result = result.split(',')\n",
    "    print (arr.shape)\n",
    "    probability += [float(r) for r in result]\n",
    "    \n",
    "predictions=[0 if p<0.5 else 1 for p in probability]"
   ]
  },
  {
   "cell_type": "markdown",
   "metadata": {},
   "source": [
    "# Evaluate the initial model:"
   ]
  },
  {
   "cell_type": "code",
   "execution_count": 24,
   "metadata": {},
   "outputs": [
    {
     "name": "stdout",
     "output_type": "stream",
     "text": [
      "             precision    recall  f1-score   support\n",
      "\n",
      "          0       0.80      0.79      0.80       125\n",
      "          1       0.62      0.63      0.62        67\n",
      "\n",
      "avg / total       0.74      0.73      0.73       192\n",
      "\n"
     ]
    }
   ],
   "source": [
    "# Classification report:\n",
    "from sklearn.metrics import roc_curve, auc, confusion_matrix, classification_report, roc_auc_score\n",
    "\n",
    "report=classification_report(y_test, predictions)\n",
    "print(report)"
   ]
  },
  {
   "cell_type": "code",
   "execution_count": 25,
   "metadata": {},
   "outputs": [
    {
     "name": "stdout",
     "output_type": "stream",
     "text": [
      "Confusion matrix, without normalization\n",
      "[[99 26]\n",
      " [25 42]]\n",
      "Normalized confusion matrix\n",
      "[[0.79 0.21]\n",
      " [0.37 0.63]]\n"
     ]
    },
    {
     "data": {
      "image/png": "[encoded data removed]",
      "text/plain": [
       "<Figure size 432x288 with 2 Axes>"
      ]
     },
     "metadata": {},
     "output_type": "display_data"
    }
   ],
   "source": [
    "# Plot a confusion matrix.\n",
    "# cm is the confusion matrix, names are the names of the classes.\n",
    "def plot_confusion_matrix(cm, names, title='Confusion matrix', cmap=plt.cm.Blues):\n",
    "    plt.imshow(cm, interpolation='nearest', cmap=cmap)\n",
    "    plt.title(title)\n",
    "    plt.colorbar()\n",
    "    tick_marks = np.arange(len(names))\n",
    "    plt.xticks(tick_marks, names, rotation=45)\n",
    "    plt.yticks(tick_marks, names)\n",
    "    plt.tight_layout()\n",
    "    plt.ylabel('True label')\n",
    "    plt.xlabel('Predicted label')\n",
    "\n",
    "names = [\"0\", \"1\"]\n",
    "\n",
    "# Compute confusion matrix\n",
    "cm = confusion_matrix(y_test, predictions)\n",
    "np.set_printoptions(precision=2)\n",
    "print('Confusion matrix, without normalization')\n",
    "print(cm)\n",
    "\n",
    "# Normalize the confusion matrix by row (i.e by the number of samples in each class)\n",
    "cm_normalized = cm.astype('float') / cm.sum(axis=1)[:, np.newaxis]\n",
    "print('Normalized confusion matrix')\n",
    "print(cm_normalized)\n",
    "plt.figure()\n",
    "plot_confusion_matrix(cm_normalized, names, title='Normalized confusion matrix')\n",
    "\n",
    "plt.show()"
   ]
  },
  {
   "cell_type": "code",
   "execution_count": 26,
   "metadata": {},
   "outputs": [
    {
     "data": {
      "image/png": "[encoded data removed]",
      "text/plain": [
       "<Figure size 432x288 with 1 Axes>"
      ]
     },
     "metadata": {},
     "output_type": "display_data"
    }
   ],
   "source": [
    "# ROC curve & auc:\n",
    "from  sklearn.metrics import precision_recall_curve, roc_curve, roc_auc_score, average_precision_score\n",
    "\n",
    "fpr, tpr, thresholds=roc_curve(np.array(y_test), probability, pos_label=1)\n",
    "roc_auc=roc_auc_score(np.array(y_test), probability)\n",
    "\n",
    "plt.figure()\n",
    "\n",
    "plt.step(fpr, tpr, color='darkorange', lw=2, label='ROC curve (auc = %0.2f)' % roc_auc)\n",
    "plt.plot([0, 1], [0, 1], color='navy', alpha=0.4, lw=2, linestyle='--')\n",
    "plt.xlim([0.0, 1.0])\n",
    "plt.ylim([0.0, 1.05])\n",
    "plt.xlabel('False Positive Rate')\n",
    "plt.ylabel('True Positive Rate')\n",
    "plt.title('ROC curve')\n",
    "plt.legend(loc=\"lower right\")\n",
    "\n",
    "plt.plot([cm_normalized[0,1]], [cm_normalized[1,1]], 'or')\n",
    "plt.show()"
   ]
  },
  {
   "cell_type": "code",
   "execution_count": 28,
   "metadata": {},
   "outputs": [
    {
     "data": {
      "image/png": "[encoded data removed]",
      "text/plain": [
       "<Figure size 432x288 with 1 Axes>"
      ]
     },
     "metadata": {},
     "output_type": "display_data"
    }
   ],
   "source": [
    "# Precision-Recall trade-off:\n",
    "precision, recall, thresholds=precision_recall_curve(y_test, probability,  pos_label=1)\n",
    "ave_precision=average_precision_score(y_test, probability)\n",
    "\n",
    "plt.step(recall, precision, color='navy')\n",
    "\n",
    "plt.xlabel('Recall')\n",
    "plt.ylabel('Precision')\n",
    "plt.xlim([0, 1.001])\n",
    "plt.ylim([0, 1.02])\n",
    "plt.title('Precision-Recall curve: AP={0:0.2f}'.format(ave_precision))\n",
    "\n",
    "plt.plot(cm_normalized[1,1], cm[1,1]/(cm[1,1]+cm[0,1]), 'ob')\n",
    "plt.show()"
   ]
  },
  {
   "cell_type": "markdown",
   "metadata": {},
   "source": [
    "# 3) Hyperparameters tuning on SM cloud:   Model optimization"
   ]
  },
  {
   "cell_type": "code",
   "execution_count": 29,
   "metadata": {},
   "outputs": [],
   "source": [
    "#from sagemaker.amazon.amazon_estimator import get_image_uri\n",
    "\n",
    "estimatorOpt = sagemaker.estimator.Estimator(containers[boto3.Session().region_name],\n",
    "                                    role, \n",
    "                                    train_instance_count=1, \n",
    "                                    train_instance_type='ml.m4.xlarge',\n",
    "                                    output_path=s3_model_output_location,\n",
    "                                    sagemaker_session=sess,\n",
    "                                    base_job_name ='xgboost-indianDiabetes-paramTuning')"
   ]
  },
  {
   "cell_type": "markdown",
   "metadata": {},
   "source": [
    "# Specify the range/value of hyperparameters & Launch tuning:"
   ]
  },
  {
   "cell_type": "code",
   "execution_count": 30,
   "metadata": {},
   "outputs": [],
   "source": [
    "from sagemaker.tuner import IntegerParameter, CategoricalParameter, ContinuousParameter, HyperparameterTuner\n",
    "\n",
    "hyperparameter_ranges = {'eta':ContinuousParameter(0, 0.2),\n",
    "                        'min_child_weight':ContinuousParameter(2, 8),\n",
    "                        'alpha': ContinuousParameter(0, 1),\n",
    "                        'max_depth': IntegerParameter(2, 8),\n",
    "                        'subsample':ContinuousParameter(0.6, 1)}\n",
    "\n",
    "estimatorOpt.set_hyperparameters(eval_metric='auc',\n",
    "                        objective='binary:logistic',\n",
    "                        num_round=100,\n",
    "                        scale_pos_weight=classRatio)"
   ]
  },
  {
   "cell_type": "code",
   "execution_count": 31,
   "metadata": {},
   "outputs": [
    {
     "data": {
      "text/plain": [
       "{'eval_metric': 'auc',\n",
       " 'objective': 'binary:logistic',\n",
       " 'num_round': 100,\n",
       " 'scale_pos_weight': 1.8656716417910448}"
      ]
     },
     "execution_count": 31,
     "metadata": {},
     "output_type": "execute_result"
    }
   ],
   "source": [
    "estimatorOpt.hyperparameters()"
   ]
  },
  {
   "cell_type": "code",
   "execution_count": 32,
   "metadata": {},
   "outputs": [],
   "source": [
    "tuner = HyperparameterTuner(estimatorOpt,\n",
    "                            objective_metric_name='validation:auc',\n",
    "                            hyperparameter_ranges=hyperparameter_ranges,\n",
    "                            objective_type='Maximize',\n",
    "                            max_jobs=20,\n",
    "                            max_parallel_jobs=4)"
   ]
  },
  {
   "cell_type": "code",
   "execution_count": 33,
   "metadata": {},
   "outputs": [
    {
     "name": "stderr",
     "output_type": "stream",
     "text": [
      "INFO:sagemaker:Creating hyperparameter tuning job with name: xgboost-180902-1816\n"
     ]
    }
   ],
   "source": [
    "tuner.fit({'train': training_input_config, 'validation': test_input_config})"
   ]
  },
  {
   "cell_type": "markdown",
   "metadata": {},
   "source": [
    "# Track hyperparameter tuning job progress:"
   ]
  },
  {
   "cell_type": "code",
   "execution_count": 40,
   "metadata": {},
   "outputs": [
    {
     "name": "stdout",
     "output_type": "stream",
     "text": [
      "Reminder: the tuning job has not been completed.\n",
      "8 training jobs have completed\n",
      "\n",
      " Best parameters found so far:\n",
      "{'alpha': '0.6133592841841944',\n",
      " 'eta': '0.02411000308860878',\n",
      " 'max_depth': '3',\n",
      " 'min_child_weight': '7.359421238248649',\n",
      " 'subsample': '0.9693279004165054'}\n"
     ]
    }
   ],
   "source": [
    "sage_client = boto3.Session().client('sagemaker')\n",
    "HyperParameterTuningJobName=tuner.latest_tuning_job.job_name\n",
    "tuning_job_name = str(HyperParameterTuningJobName)\n",
    "\n",
    "tuning_job_result = sage_client.describe_hyper_parameter_tuning_job(HyperParameterTuningJobName=tuning_job_name)\n",
    "\n",
    "status = tuning_job_result['HyperParameterTuningJobStatus']\n",
    "if status != 'Completed':\n",
    "    print('Reminder: the tuning job has not been completed.')\n",
    "    \n",
    "job_count = tuning_job_result['TrainingJobStatusCounters']['Completed']\n",
    "print(\"%d training jobs have completed\" % job_count)\n",
    "    \n",
    "is_minimize = (tuning_job_result['HyperParameterTuningJobConfig']['HyperParameterTuningJobObjective']['Type'] != 'Maximize')\n",
    "objective_name = tuning_job_result['HyperParameterTuningJobConfig']['HyperParameterTuningJobObjective']['MetricName']\n",
    "\n",
    "# To see the best parameters found so far:\n",
    "from pprint import pprint\n",
    "if tuning_job_result.get('BestTrainingJob',None):\n",
    "    print('\\n',\"Best parameters found so far:\")\n",
    "    pprint(tuning_job_result['BestTrainingJob']['TunedHyperParameters'])\n",
    "else:\n",
    "    print(\"No training jobs have reported results yet.\")"
   ]
  },
  {
   "cell_type": "markdown",
   "metadata": {},
   "source": [
    "# Analyze the correlation between objective metric and individual parameters:"
   ]
  },
  {
   "cell_type": "code",
   "execution_count": 43,
   "metadata": {
    "scrolled": true
   },
   "outputs": [
    {
     "name": "stdout",
     "output_type": "stream",
     "text": [
      "Number of training jobs with valid objective: 20\n",
      "{'lowest': 0.7635220289230347, 'highest': 0.8314030170440674}\n"
     ]
    },
    {
     "data": {
      "text/html": [
       "<div>\n",
       "<style scoped>\n",
       "    .dataframe tbody tr th:only-of-type {\n",
       "        vertical-align: middle;\n",
       "    }\n",
       "\n",
       "    .dataframe tbody tr th {\n",
       "        vertical-align: top;\n",
       "    }\n",
       "\n",
       "    .dataframe thead th {\n",
       "        text-align: right;\n",
       "    }\n",
       "</style>\n",
       "<table border=\"1\" class=\"dataframe\">\n",
       "  <thead>\n",
       "    <tr style=\"text-align: right;\">\n",
       "      <th></th>\n",
       "      <th>FinalObjectiveValue</th>\n",
       "      <th>TrainingElapsedTimeSeconds</th>\n",
       "      <th>TrainingEndTime</th>\n",
       "      <th>TrainingJobName</th>\n",
       "      <th>TrainingJobStatus</th>\n",
       "      <th>TrainingStartTime</th>\n",
       "      <th>alpha</th>\n",
       "      <th>eta</th>\n",
       "      <th>max_depth</th>\n",
       "      <th>min_child_weight</th>\n",
       "      <th>subsample</th>\n",
       "    </tr>\n",
       "  </thead>\n",
       "  <tbody>\n",
       "    <tr>\n",
       "      <th>11</th>\n",
       "      <td>0.831403</td>\n",
       "      <td>89.0</td>\n",
       "      <td>2018-09-02 18:27:13+00:00</td>\n",
       "      <td>xgboost-180902-1816-009-28b39d1e</td>\n",
       "      <td>Completed</td>\n",
       "      <td>2018-09-02 18:25:44+00:00</td>\n",
       "      <td>0.888811</td>\n",
       "      <td>0.084889</td>\n",
       "      <td>2.0</td>\n",
       "      <td>5.520676</td>\n",
       "      <td>0.883805</td>\n",
       "    </tr>\n",
       "    <tr>\n",
       "      <th>3</th>\n",
       "      <td>0.830448</td>\n",
       "      <td>89.0</td>\n",
       "      <td>2018-09-02 18:34:26+00:00</td>\n",
       "      <td>xgboost-180902-1816-017-19fc219a</td>\n",
       "      <td>Completed</td>\n",
       "      <td>2018-09-02 18:32:57+00:00</td>\n",
       "      <td>0.881548</td>\n",
       "      <td>0.033021</td>\n",
       "      <td>3.0</td>\n",
       "      <td>5.807536</td>\n",
       "      <td>0.641260</td>\n",
       "    </tr>\n",
       "    <tr>\n",
       "      <th>10</th>\n",
       "      <td>0.828896</td>\n",
       "      <td>89.0</td>\n",
       "      <td>2018-09-02 18:27:31+00:00</td>\n",
       "      <td>xgboost-180902-1816-010-c62b0582</td>\n",
       "      <td>Completed</td>\n",
       "      <td>2018-09-02 18:26:02+00:00</td>\n",
       "      <td>0.951372</td>\n",
       "      <td>0.025697</td>\n",
       "      <td>3.0</td>\n",
       "      <td>8.000000</td>\n",
       "      <td>0.891252</td>\n",
       "    </tr>\n",
       "  </tbody>\n",
       "</table>\n",
       "</div>"
      ],
      "text/plain": [
       "    FinalObjectiveValue  TrainingElapsedTimeSeconds           TrainingEndTime  \\\n",
       "11  0.831403             89.0                       2018-09-02 18:27:13+00:00   \n",
       "3   0.830448             89.0                       2018-09-02 18:34:26+00:00   \n",
       "10  0.828896             89.0                       2018-09-02 18:27:31+00:00   \n",
       "\n",
       "                     TrainingJobName TrainingJobStatus  \\\n",
       "11  xgboost-180902-1816-009-28b39d1e  Completed          \n",
       "3   xgboost-180902-1816-017-19fc219a  Completed          \n",
       "10  xgboost-180902-1816-010-c62b0582  Completed          \n",
       "\n",
       "           TrainingStartTime     alpha       eta  max_depth  min_child_weight  \\\n",
       "11 2018-09-02 18:25:44+00:00  0.888811  0.084889  2.0        5.520676           \n",
       "3  2018-09-02 18:32:57+00:00  0.881548  0.033021  3.0        5.807536           \n",
       "10 2018-09-02 18:26:02+00:00  0.951372  0.025697  3.0        8.000000           \n",
       "\n",
       "    subsample  \n",
       "11  0.883805   \n",
       "3   0.641260   \n",
       "10  0.891252   "
      ]
     },
     "execution_count": 43,
     "metadata": {},
     "output_type": "execute_result"
    }
   ],
   "source": [
    "# Finally, print the tuning jobs with best scores:\n",
    "\n",
    "Tuner=sagemaker.HyperparameterTuningJobAnalytics(tuning_job_name)\n",
    "full_df = Tuner.dataframe()\n",
    "\n",
    "if len(full_df) > 0:\n",
    "    df = full_df[full_df['FinalObjectiveValue'] > -float('inf')]\n",
    "    if len(df) > 0:\n",
    "        df = df.sort_values('FinalObjectiveValue', ascending=is_minimize)\n",
    "        print(\"Number of training jobs with valid objective: %d\" % len(df))\n",
    "        print({\"lowest\":min(df['FinalObjectiveValue']),\"highest\": max(df['FinalObjectiveValue'])})\n",
    "        pd.set_option('display.max_colwidth', -1)  # Don't truncate TrainingJobName        \n",
    "    else:\n",
    "        print(\"No training jobs have reported valid results yet.\")\n",
    "        \n",
    "df[0:3]"
   ]
  },
  {
   "cell_type": "code",
   "execution_count": 44,
   "metadata": {},
   "outputs": [
    {
     "data": {
      "text/html": [
       "\n",
       "    <div class=\"bk-root\">\n",
       "        <a href=\"https://bokeh.pydata.org\" target=\"_blank\" class=\"bk-logo bk-logo-small bk-logo-notebook\"></a>\n",
       "        <span id=\"7cbb0255-3b23-4b29-b781-110a617df6dc\">Loading BokehJS ...</span>\n",
       "    </div>"
      ]
     },
     "metadata": {},
     "output_type": "display_data"
    },
    {
     "data": {
      "application/javascript": [
       "\n",
       "(function(root) {\n",
       "  function now() {\n",
       "    return new Date();\n",
       "  }\n",
       "\n",
       "  var force = true;\n",
       "\n",
       "  if (typeof (root._bokeh_onload_callbacks) === \"undefined\" || force === true) {\n",
       "    root._bokeh_onload_callbacks = [];\n",
       "    root._bokeh_is_loading = undefined;\n",
       "  }\n",
       "\n",
       "  var JS_MIME_TYPE = 'application/javascript';\n",
       "  var HTML_MIME_TYPE = 'text/html';\n",
       "  var EXEC_MIME_TYPE = 'application/vnd.bokehjs_exec.v0+json';\n",
       "  var CLASS_NAME = 'output_bokeh rendered_html';\n",
       "\n",
       "  /**\n",
       "   * Render data to the DOM node\n",
       "   */\n",
       "  function render(props, node) {\n",
       "    var script = document.createElement(\"script\");\n",
       "    node.appendChild(script);\n",
       "  }\n",
       "\n",
       "  /**\n",
       "   * Handle when an output is cleared or removed\n",
       "   */\n",
       "  function handleClearOutput(event, handle) {\n",
       "    var cell = handle.cell;\n",
       "\n",
       "    var id = cell.output_area._bokeh_element_id;\n",
       "    var server_id = cell.output_area._bokeh_server_id;\n",
       "    // Clean up Bokeh references\n",
       "    if (id !== undefined) {\n",
       "      Bokeh.index[id].model.document.clear();\n",
       "      delete Bokeh.index[id];\n",
       "    }\n",
       "\n",
       "    if (server_id !== undefined) {\n",
       "      // Clean up Bokeh references\n",
       "      var cmd = \"from bokeh.io.state import curstate; print(curstate().uuid_to_server['\" + server_id + \"'].get_sessions()[0].document.roots[0]._id)\";\n",
       "      cell.notebook.kernel.execute(cmd, {\n",
       "        iopub: {\n",
       "          output: function(msg) {\n",
       "            var element_id = msg.content.text.trim();\n",
       "            Bokeh.index[element_id].model.document.clear();\n",
       "            delete Bokeh.index[element_id];\n",
       "          }\n",
       "        }\n",
       "      });\n",
       "      // Destroy server and session\n",
       "      var cmd = \"import bokeh.io.notebook as ion; ion.destroy_server('\" + server_id + \"')\";\n",
       "      cell.notebook.kernel.execute(cmd);\n",
       "    }\n",
       "  }\n",
       "\n",
       "  /**\n",
       "   * Handle when a new output is added\n",
       "   */\n",
       "  function handleAddOutput(event, handle) {\n",
       "    var output_area = handle.output_area;\n",
       "    var output = handle.output;\n",
       "\n",
       "    // limit handleAddOutput to display_data with EXEC_MIME_TYPE content only\n",
       "    if ((output.output_type != \"display_data\") || (!output.data.hasOwnProperty(EXEC_MIME_TYPE))) {\n",
       "      return\n",
       "    }\n",
       "\n",
       "    var toinsert = output_area.element.find(\".\" + CLASS_NAME.split(' ')[0]);\n",
       "\n",
       "    if (output.metadata[EXEC_MIME_TYPE][\"id\"] !== undefined) {\n",
       "      toinsert[toinsert.length - 1].firstChild.textContent = output.data[JS_MIME_TYPE];\n",
       "      // store reference to embed id on output_area\n",
       "      output_area._bokeh_element_id = output.metadata[EXEC_MIME_TYPE][\"id\"];\n",
       "    }\n",
       "    if (output.metadata[EXEC_MIME_TYPE][\"server_id\"] !== undefined) {\n",
       "      var bk_div = document.createElement(\"div\");\n",
       "      bk_div.innerHTML = output.data[HTML_MIME_TYPE];\n",
       "      var script_attrs = bk_div.children[0].attributes;\n",
       "      for (var i = 0; i < script_attrs.length; i++) {\n",
       "        toinsert[toinsert.length - 1].firstChild.setAttribute(script_attrs[i].name, script_attrs[i].value);\n",
       "      }\n",
       "      // store reference to server id on output_area\n",
       "      output_area._bokeh_server_id = output.metadata[EXEC_MIME_TYPE][\"server_id\"];\n",
       "    }\n",
       "  }\n",
       "\n",
       "  function register_renderer(events, OutputArea) {\n",
       "\n",
       "    function append_mime(data, metadata, element) {\n",
       "      // create a DOM node to render to\n",
       "      var toinsert = this.create_output_subarea(\n",
       "        metadata,\n",
       "        CLASS_NAME,\n",
       "        EXEC_MIME_TYPE\n",
       "      );\n",
       "      this.keyboard_manager.register_events(toinsert);\n",
       "      // Render to node\n",
       "      var props = {data: data, metadata: metadata[EXEC_MIME_TYPE]};\n",
       "      render(props, toinsert[toinsert.length - 1]);\n",
       "      element.append(toinsert);\n",
       "      return toinsert\n",
       "    }\n",
       "\n",
       "    /* Handle when an output is cleared or removed */\n",
       "    events.on('clear_output.CodeCell', handleClearOutput);\n",
       "    events.on('delete.Cell', handleClearOutput);\n",
       "\n",
       "    /* Handle when a new output is added */\n",
       "    events.on('output_added.OutputArea', handleAddOutput);\n",
       "\n",
       "    /**\n",
       "     * Register the mime type and append_mime function with output_area\n",
       "     */\n",
       "    OutputArea.prototype.register_mime_type(EXEC_MIME_TYPE, append_mime, {\n",
       "      /* Is output safe? */\n",
       "      safe: true,\n",
       "      /* Index of renderer in `output_area.display_order` */\n",
       "      index: 0\n",
       "    });\n",
       "  }\n",
       "\n",
       "  // register the mime type if in Jupyter Notebook environment and previously unregistered\n",
       "  if (root.Jupyter !== undefined) {\n",
       "    var events = require('base/js/events');\n",
       "    var OutputArea = require('notebook/js/outputarea').OutputArea;\n",
       "\n",
       "    if (OutputArea.prototype.mime_types().indexOf(EXEC_MIME_TYPE) == -1) {\n",
       "      register_renderer(events, OutputArea);\n",
       "    }\n",
       "  }\n",
       "\n",
       "  \n",
       "  if (typeof (root._bokeh_timeout) === \"undefined\" || force === true) {\n",
       "    root._bokeh_timeout = Date.now() + 5000;\n",
       "    root._bokeh_failed_load = false;\n",
       "  }\n",
       "\n",
       "  var NB_LOAD_WARNING = {'data': {'text/html':\n",
       "     \"<div style='background-color: #fdd'>\\n\"+\n",
       "     \"<p>\\n\"+\n",
       "     \"BokehJS does not appear to have successfully loaded. If loading BokehJS from CDN, this \\n\"+\n",
       "     \"may be due to a slow or bad network connection. Possible fixes:\\n\"+\n",
       "     \"</p>\\n\"+\n",
       "     \"<ul>\\n\"+\n",
       "     \"<li>re-rerun `output_notebook()` to attempt to load from CDN again, or</li>\\n\"+\n",
       "     \"<li>use INLINE resources instead, as so:</li>\\n\"+\n",
       "     \"</ul>\\n\"+\n",
       "     \"<code>\\n\"+\n",
       "     \"from bokeh.resources import INLINE\\n\"+\n",
       "     \"output_notebook(resources=INLINE)\\n\"+\n",
       "     \"</code>\\n\"+\n",
       "     \"</div>\"}};\n",
       "\n",
       "  function display_loaded() {\n",
       "    var el = document.getElementById(\"7cbb0255-3b23-4b29-b781-110a617df6dc\");\n",
       "    if (el != null) {\n",
       "      el.textContent = \"BokehJS is loading...\";\n",
       "    }\n",
       "    if (root.Bokeh !== undefined) {\n",
       "      if (el != null) {\n",
       "        el.textContent = \"BokehJS \" + root.Bokeh.version + \" successfully loaded.\";\n",
       "      }\n",
       "    } else if (Date.now() < root._bokeh_timeout) {\n",
       "      setTimeout(display_loaded, 100)\n",
       "    }\n",
       "  }\n",
       "\n",
       "\n",
       "  function run_callbacks() {\n",
       "    try {\n",
       "      root._bokeh_onload_callbacks.forEach(function(callback) { callback() });\n",
       "    }\n",
       "    finally {\n",
       "      delete root._bokeh_onload_callbacks\n",
       "    }\n",
       "    console.info(\"Bokeh: all callbacks have finished\");\n",
       "  }\n",
       "\n",
       "  function load_libs(js_urls, callback) {\n",
       "    root._bokeh_onload_callbacks.push(callback);\n",
       "    if (root._bokeh_is_loading > 0) {\n",
       "      console.log(\"Bokeh: BokehJS is being loaded, scheduling callback at\", now());\n",
       "      return null;\n",
       "    }\n",
       "    if (js_urls == null || js_urls.length === 0) {\n",
       "      run_callbacks();\n",
       "      return null;\n",
       "    }\n",
       "    console.log(\"Bokeh: BokehJS not loaded, scheduling load and callback at\", now());\n",
       "    root._bokeh_is_loading = js_urls.length;\n",
       "    for (var i = 0; i < js_urls.length; i++) {\n",
       "      var url = js_urls[i];\n",
       "      var s = document.createElement('script');\n",
       "      s.src = url;\n",
       "      s.async = false;\n",
       "      s.onreadystatechange = s.onload = function() {\n",
       "        root._bokeh_is_loading--;\n",
       "        if (root._bokeh_is_loading === 0) {\n",
       "          console.log(\"Bokeh: all BokehJS libraries loaded\");\n",
       "          run_callbacks()\n",
       "        }\n",
       "      };\n",
       "      s.onerror = function() {\n",
       "        console.warn(\"failed to load library \" + url);\n",
       "      };\n",
       "      console.log(\"Bokeh: injecting script tag for BokehJS library: \", url);\n",
       "      document.getElementsByTagName(\"head\")[0].appendChild(s);\n",
       "    }\n",
       "  };var element = document.getElementById(\"7cbb0255-3b23-4b29-b781-110a617df6dc\");\n",
       "  if (element == null) {\n",
       "    console.log(\"Bokeh: ERROR: autoload.js configured with elementid '7cbb0255-3b23-4b29-b781-110a617df6dc' but no matching script tag was found. \")\n",
       "    return false;\n",
       "  }\n",
       "\n",
       "  var js_urls = [\"https://cdn.pydata.org/bokeh/release/bokeh-0.12.16.min.js\", \"https://cdn.pydata.org/bokeh/release/bokeh-widgets-0.12.16.min.js\", \"https://cdn.pydata.org/bokeh/release/bokeh-tables-0.12.16.min.js\", \"https://cdn.pydata.org/bokeh/release/bokeh-gl-0.12.16.min.js\"];\n",
       "\n",
       "  var inline_js = [\n",
       "    function(Bokeh) {\n",
       "      Bokeh.set_log_level(\"info\");\n",
       "    },\n",
       "    \n",
       "    function(Bokeh) {\n",
       "      \n",
       "    },\n",
       "    function(Bokeh) {\n",
       "      console.log(\"Bokeh: injecting CSS: https://cdn.pydata.org/bokeh/release/bokeh-0.12.16.min.css\");\n",
       "      Bokeh.embed.inject_css(\"https://cdn.pydata.org/bokeh/release/bokeh-0.12.16.min.css\");\n",
       "      console.log(\"Bokeh: injecting CSS: https://cdn.pydata.org/bokeh/release/bokeh-widgets-0.12.16.min.css\");\n",
       "      Bokeh.embed.inject_css(\"https://cdn.pydata.org/bokeh/release/bokeh-widgets-0.12.16.min.css\");\n",
       "      console.log(\"Bokeh: injecting CSS: https://cdn.pydata.org/bokeh/release/bokeh-tables-0.12.16.min.css\");\n",
       "      Bokeh.embed.inject_css(\"https://cdn.pydata.org/bokeh/release/bokeh-tables-0.12.16.min.css\");\n",
       "    }\n",
       "  ];\n",
       "\n",
       "  function run_inline_js() {\n",
       "    \n",
       "    if ((root.Bokeh !== undefined) || (force === true)) {\n",
       "      for (var i = 0; i < inline_js.length; i++) {\n",
       "        inline_js[i].call(root, root.Bokeh);\n",
       "      }if (force === true) {\n",
       "        display_loaded();\n",
       "      }} else if (Date.now() < root._bokeh_timeout) {\n",
       "      setTimeout(run_inline_js, 100);\n",
       "    } else if (!root._bokeh_failed_load) {\n",
       "      console.log(\"Bokeh: BokehJS failed to load within specified timeout.\");\n",
       "      root._bokeh_failed_load = true;\n",
       "    } else if (force !== true) {\n",
       "      var cell = $(document.getElementById(\"7cbb0255-3b23-4b29-b781-110a617df6dc\")).parents('.cell').data().cell;\n",
       "      cell.output_area.append_execute_result(NB_LOAD_WARNING)\n",
       "    }\n",
       "\n",
       "  }\n",
       "\n",
       "  if (root._bokeh_is_loading === 0) {\n",
       "    console.log(\"Bokeh: BokehJS loaded, going straight to plotting\");\n",
       "    run_inline_js();\n",
       "  } else {\n",
       "    load_libs(js_urls, function() {\n",
       "      console.log(\"Bokeh: BokehJS plotting callback run at\", now());\n",
       "      run_inline_js();\n",
       "    });\n",
       "  }\n",
       "}(window));"
      ],
      "application/vnd.bokehjs_load.v0+json": "\n(function(root) {\n  function now() {\n    return new Date();\n  }\n\n  var force = true;\n\n  if (typeof (root._bokeh_onload_callbacks) === \"undefined\" || force === true) {\n    root._bokeh_onload_callbacks = [];\n    root._bokeh_is_loading = undefined;\n  }\n\n  \n\n  \n  if (typeof (root._bokeh_timeout) === \"undefined\" || force === true) {\n    root._bokeh_timeout = Date.now() + 5000;\n    root._bokeh_failed_load = false;\n  }\n\n  var NB_LOAD_WARNING = {'data': {'text/html':\n     \"<div style='background-color: #fdd'>\\n\"+\n     \"<p>\\n\"+\n     \"BokehJS does not appear to have successfully loaded. If loading BokehJS from CDN, this \\n\"+\n     \"may be due to a slow or bad network connection. Possible fixes:\\n\"+\n     \"</p>\\n\"+\n     \"<ul>\\n\"+\n     \"<li>re-rerun `output_notebook()` to attempt to load from CDN again, or</li>\\n\"+\n     \"<li>use INLINE resources instead, as so:</li>\\n\"+\n     \"</ul>\\n\"+\n     \"<code>\\n\"+\n     \"from bokeh.resources import INLINE\\n\"+\n     \"output_notebook(resources=INLINE)\\n\"+\n     \"</code>\\n\"+\n     \"</div>\"}};\n\n  function display_loaded() {\n    var el = document.getElementById(\"7cbb0255-3b23-4b29-b781-110a617df6dc\");\n    if (el != null) {\n      el.textContent = \"BokehJS is loading...\";\n    }\n    if (root.Bokeh !== undefined) {\n      if (el != null) {\n        el.textContent = \"BokehJS \" + root.Bokeh.version + \" successfully loaded.\";\n      }\n    } else if (Date.now() < root._bokeh_timeout) {\n      setTimeout(display_loaded, 100)\n    }\n  }\n\n\n  function run_callbacks() {\n    try {\n      root._bokeh_onload_callbacks.forEach(function(callback) { callback() });\n    }\n    finally {\n      delete root._bokeh_onload_callbacks\n    }\n    console.info(\"Bokeh: all callbacks have finished\");\n  }\n\n  function load_libs(js_urls, callback) {\n    root._bokeh_onload_callbacks.push(callback);\n    if (root._bokeh_is_loading > 0) {\n      console.log(\"Bokeh: BokehJS is being loaded, scheduling callback at\", now());\n      return null;\n    }\n    if (js_urls == null || js_urls.length === 0) {\n      run_callbacks();\n      return null;\n    }\n    console.log(\"Bokeh: BokehJS not loaded, scheduling load and callback at\", now());\n    root._bokeh_is_loading = js_urls.length;\n    for (var i = 0; i < js_urls.length; i++) {\n      var url = js_urls[i];\n      var s = document.createElement('script');\n      s.src = url;\n      s.async = false;\n      s.onreadystatechange = s.onload = function() {\n        root._bokeh_is_loading--;\n        if (root._bokeh_is_loading === 0) {\n          console.log(\"Bokeh: all BokehJS libraries loaded\");\n          run_callbacks()\n        }\n      };\n      s.onerror = function() {\n        console.warn(\"failed to load library \" + url);\n      };\n      console.log(\"Bokeh: injecting script tag for BokehJS library: \", url);\n      document.getElementsByTagName(\"head\")[0].appendChild(s);\n    }\n  };var element = document.getElementById(\"7cbb0255-3b23-4b29-b781-110a617df6dc\");\n  if (element == null) {\n    console.log(\"Bokeh: ERROR: autoload.js configured with elementid '7cbb0255-3b23-4b29-b781-110a617df6dc' but no matching script tag was found. \")\n    return false;\n  }\n\n  var js_urls = [\"https://cdn.pydata.org/bokeh/release/bokeh-0.12.16.min.js\", \"https://cdn.pydata.org/bokeh/release/bokeh-widgets-0.12.16.min.js\", \"https://cdn.pydata.org/bokeh/release/bokeh-tables-0.12.16.min.js\", \"https://cdn.pydata.org/bokeh/release/bokeh-gl-0.12.16.min.js\"];\n\n  var inline_js = [\n    function(Bokeh) {\n      Bokeh.set_log_level(\"info\");\n    },\n    \n    function(Bokeh) {\n      \n    },\n    function(Bokeh) {\n      console.log(\"Bokeh: injecting CSS: https://cdn.pydata.org/bokeh/release/bokeh-0.12.16.min.css\");\n      Bokeh.embed.inject_css(\"https://cdn.pydata.org/bokeh/release/bokeh-0.12.16.min.css\");\n      console.log(\"Bokeh: injecting CSS: https://cdn.pydata.org/bokeh/release/bokeh-widgets-0.12.16.min.css\");\n      Bokeh.embed.inject_css(\"https://cdn.pydata.org/bokeh/release/bokeh-widgets-0.12.16.min.css\");\n      console.log(\"Bokeh: injecting CSS: https://cdn.pydata.org/bokeh/release/bokeh-tables-0.12.16.min.css\");\n      Bokeh.embed.inject_css(\"https://cdn.pydata.org/bokeh/release/bokeh-tables-0.12.16.min.css\");\n    }\n  ];\n\n  function run_inline_js() {\n    \n    if ((root.Bokeh !== undefined) || (force === true)) {\n      for (var i = 0; i < inline_js.length; i++) {\n        inline_js[i].call(root, root.Bokeh);\n      }if (force === true) {\n        display_loaded();\n      }} else if (Date.now() < root._bokeh_timeout) {\n      setTimeout(run_inline_js, 100);\n    } else if (!root._bokeh_failed_load) {\n      console.log(\"Bokeh: BokehJS failed to load within specified timeout.\");\n      root._bokeh_failed_load = true;\n    } else if (force !== true) {\n      var cell = $(document.getElementById(\"7cbb0255-3b23-4b29-b781-110a617df6dc\")).parents('.cell').data().cell;\n      cell.output_area.append_execute_result(NB_LOAD_WARNING)\n    }\n\n  }\n\n  if (root._bokeh_is_loading === 0) {\n    console.log(\"Bokeh: BokehJS loaded, going straight to plotting\");\n    run_inline_js();\n  } else {\n    load_libs(js_urls, function() {\n      console.log(\"Bokeh: BokehJS plotting callback run at\", now());\n      run_inline_js();\n    });\n  }\n}(window));"
     },
     "metadata": {},
     "output_type": "display_data"
    },
    {
     "data": {
      "text/html": [
       "\n",
       "<div class=\"bk-root\">\n",
       "    <div class=\"bk-plotdiv\" id=\"8a239040-15f9-4eed-a326-7a7774bf7419\"></div>\n",
       "</div>"
      ]
     },
     "metadata": {},
     "output_type": "display_data"
    },
    {
     "data": {
      "application/javascript": [
       "(function(root) {\n",
       "  function embed_document(root) {\n",
       "    \n",
       "  var docs_json = {\"604beed3-8bcd-471d-b166-cfeb9e8dc99c\":{\"roots\":{\"references\":[{\"attributes\":{\"fill_color\":{\"value\":\"#1f77b4\"},\"line_color\":{\"value\":\"#1f77b4\"},\"x\":{\"field\":\"subsample\"},\"y\":{\"field\":\"FinalObjectiveValue\"}},\"id\":\"24fd570a-5164-43fe-b6f1-50dfcf23bfbe\",\"type\":\"Circle\"},{\"attributes\":{},\"id\":\"793d070a-a1ea-4de9-a512-8590f5271d25\",\"type\":\"LinearScale\"},{\"attributes\":{},\"id\":\"1bcb8e65-8c96-422f-9f37-336be0c30844\",\"type\":\"LinearScale\"},{\"attributes\":{\"plot\":{\"id\":\"3c5ee954-e822-4d29-9117-c9c0f3f98072\",\"subtype\":\"Figure\",\"type\":\"Plot\"},\"ticker\":{\"id\":\"b7b28fe9-48b4-4f80-a429-586428dc72da\",\"type\":\"BasicTicker\"}},\"id\":\"1d130bda-a311-44de-af21-3400bd047910\",\"type\":\"Grid\"},{\"attributes\":{},\"id\":\"0edede8f-4c5c-42fc-8703-d444beb3843b\",\"type\":\"BasicTickFormatter\"},{\"attributes\":{},\"id\":\"d577bf5a-70e5-4fa0-a35c-46c0eac811a8\",\"type\":\"PanTool\"},{\"attributes\":{},\"id\":\"b7b28fe9-48b4-4f80-a429-586428dc72da\",\"type\":\"BasicTicker\"},{\"attributes\":{},\"id\":\"610f1077-fafe-456d-8aa5-bf48b5f49151\",\"type\":\"CrosshairTool\"},{\"attributes\":{},\"id\":\"34b37b1f-1424-47cc-a21c-1af30db28609\",\"type\":\"WheelZoomTool\"},{\"attributes\":{},\"id\":\"7755b97a-1678-470b-8d15-3021bde79cea\",\"type\":\"ZoomInTool\"},{\"attributes\":{\"callback\":null,\"renderers\":\"auto\",\"tooltips\":[[\"FinalObjectiveValue\",\"@FinalObjectiveValue\"],[\"TrainingJobName\",\"@TrainingJobName\"],[\"max_depth\",\"@{max_depth}\"],[\"eta\",\"@{eta}\"],[\"min_child_weight\",\"@{min_child_weight}\"],[\"alpha\",\"@{alpha}\"],[\"subsample\",\"@{subsample}\"]]},\"id\":\"0ae7feae-0e05-468a-8a00-bf90b1f3f744\",\"type\":\"HoverTool\"},{\"attributes\":{},\"id\":\"4d7eca38-7125-413a-bec8-581eb0e3d913\",\"type\":\"ZoomOutTool\"},{\"attributes\":{\"children\":[{\"id\":\"dfbabb28-b102-4ee2-a7ba-57c3329bdea3\",\"subtype\":\"Figure\",\"type\":\"Plot\"},{\"id\":\"fa47a0a9-7e21-40bb-8496-6c3f663bd5f3\",\"subtype\":\"Figure\",\"type\":\"Plot\"},{\"id\":\"2a6ff9ac-2b96-4618-925b-3e69b8265dca\",\"subtype\":\"Figure\",\"type\":\"Plot\"},{\"id\":\"c8b3c87b-f110-41b9-81b8-a83a2ceab6ea\",\"subtype\":\"Figure\",\"type\":\"Plot\"},{\"id\":\"3c5ee954-e822-4d29-9117-c9c0f3f98072\",\"subtype\":\"Figure\",\"type\":\"Plot\"}]},\"id\":\"9e3cc850-c1b9-47c8-9a2d-2f5883441422\",\"type\":\"Column\"},{\"attributes\":{},\"id\":\"4adfdb54-740c-49d7-82a8-a7c4e8e7db1f\",\"type\":\"UndoTool\"},{\"attributes\":{\"callback\":null,\"data\":{\"FinalObjectiveValue\":{\"__ndarray__\":\"AAAAgNqa6j8AAACgB5PqPwAAAOBQhuo/AAAAoK916j8AAAAA7GrqPwAAAED9Z+o/AAAAwBJk6j8AAADALl/qPwAAAODZV+o/AAAAoORV6j8AAABAbVTqPwAAAKBzU+o/AAAA4GU/6j8AAACAQi/qPwAAAADIF+o/AAAAQIH36T8AAABAue3pPwAAAKAt2ek/AAAAAJps6T8AAADAxW7oPw==\",\"dtype\":\"float64\",\"shape\":[20]},\"TrainingElapsedTimeSeconds\":{\"__ndarray__\":\"AAAAAABAVkAAAAAAAEBWQAAAAAAAQFZAAAAAAADAVkAAAAAAAEBXQAAAAAAAAFdAAAAAAAAAVkAAAAAAAABYQAAAAAAAAFdAAAAAAADAVkAAAAAAAABXQAAAAAAAgFZAAAAAAADAV0AAAAAAAIBXQAAAAAAAwFZAAAAAAABAV0AAAAAAAEBVQAAAAAAAwFZAAAAAAAAAV0AAAAAAAIBWQA==\",\"dtype\":\"float64\",\"shape\":[20]},\"TrainingEndTime\":{\"__ndarray__\":\"AID+nrhZdkIAALUIuVl2QgCAY6O4WXZCAIBXpbhZdkIAgJtwuFl2QgAAyzS4WXZCAACXDblZdkIAgF4MuVl2QgAAXXC4WXZCAICc2LhZdkIAgLTUuFl2QgCArW24WXZCAADn1rhZdkIAADgIuVl2QgAASDW4WXZCAAAlo7hZdkIAAOBvuFl2QgAApzq4WXZCAIB0OLhZdkIAgCXXuFl2Qg==\",\"dtype\":\"float64\",\"shape\":[20]},\"TrainingJobName\":[\"xgboost-180902-1816-009-28b39d1e\",\"xgboost-180902-1816-017-19fc219a\",\"xgboost-180902-1816-010-c62b0582\",\"xgboost-180902-1816-011-bc946814\",\"xgboost-180902-1816-008-b4a6051e\",\"xgboost-180902-1816-001-02ab5df3\",\"xgboost-180902-1816-020-ecd37a5f\",\"xgboost-180902-1816-019-baaf1a14\",\"xgboost-180902-1816-006-1f1a0acc\",\"xgboost-180902-1816-016-a38d3fca\",\"xgboost-180902-1816-013-1831df2b\",\"xgboost-180902-1816-005-01378329\",\"xgboost-180902-1816-015-7c49272a\",\"xgboost-180902-1816-018-b515eb8e\",\"xgboost-180902-1816-002-3a4253c0\",\"xgboost-180902-1816-012-f570556f\",\"xgboost-180902-1816-007-ff62d6c5\",\"xgboost-180902-1816-004-dbbea0ae\",\"xgboost-180902-1816-003-3ff114a4\",\"xgboost-180902-1816-014-a0b750ad\"],\"TrainingJobStatus\":[\"Completed\",\"Completed\",\"Completed\",\"Completed\",\"Completed\",\"Completed\",\"Completed\",\"Completed\",\"Completed\",\"Completed\",\"Completed\",\"Completed\",\"Completed\",\"Completed\",\"Completed\",\"Completed\",\"Completed\",\"Completed\",\"Completed\",\"Completed\"],\"TrainingStartTime\":{\"__ndarray__\":\"AABEibhZdkIAgPryuFl2QgAAqY24WXZCAAAgj7hZdkIAAOdZuFl2QgAAVR64WXZCAAAb+LhZdkIAgO70uFl2QgAA51m4WXZCAABlwrhZdkIAgD6+uFl2QgCAtFe4WXZCAIC1v7hZdkIAAEXxuFl2QgCAEB+4WXZCAIBwjLhZdkIAgB9buFl2QgCAbyS4WXZCAID+IbhZdkIAgCzBuFl2Qg==\",\"dtype\":\"float64\",\"shape\":[20]},\"alpha\":{\"__ndarray__\":\"WJxIpiNx7D9YnEimozXsP1icSKajce4/WJxIpiPd5z9YnEimo6DjPwbkKSG4rOc/tCsLnIx84j9YnEimYxDlP1icSKajTOE/WJxIpqNs7T8AAAAAAADwP1icSKYj4eo/czz+0p5s7T+wOJFMR+DfP5xAXUALrt8/WJxIpmPK7z9YnEimowLoP9ylHcNsoeo/IIiGzt1gpj+4c56DY1nsPw==\",\"dtype\":\"float64\",\"shape\":[20]},\"eta\":{\"__ndarray__\":\"NNf47UW7tT8ASIt1JeigPwCQFutKUJo/muEkD7/pqz8BkBbrSrCYP0DFdKWU/J0/muEkD7+9rj9nrvHbi4qgPwGQFutKMJE/f/rSX95IkT801/jtRVO+P6C+9Jc3Drk/ZcKHdLNgij+n40+W1VKiP4exE5TJdbc/mj1fVKxbuj9QX/rLGxHEP9wgLuJZIMY/Vb1fEuGOwz8GZu2wbwyTPg==\",\"dtype\":\"float64\",\"shape\":[20]},\"index\":[11,3,10,9,12,19,0,1,14,4,7,15,5,2,18,8,13,16,17,6],\"max_depth\":{\"__ndarray__\":\"AAAAAAAAAEAAAAAAAAAIQAAAAAAAAAhAAAAAAAAACEAAAAAAAAAIQAAAAAAAAAhAAAAAAAAAAEAAAAAAAAAYQAAAAAAAAAhAAAAAAAAAAEAAAAAAAAAAQAAAAAAAAAhAAAAAAAAAAEAAAAAAAAAcQAAAAAAAABBAAAAAAAAAEEAAAAAAAAAAQAAAAAAAABxAAAAAAAAAHEAAAAAAAAAAQA==\",\"dtype\":\"float64\",\"shape\":[20]},\"min_child_weight\":{\"__ndarray__\":\"JhD/HiwVFkCr+1DX6joXQAAAAAAAACBAJhD/HixcHUAmEP8eDHAdQOgFKHsbRx9ADCBN6a8ECEBU96GudcwAQCYQ/x4MjxNAJhD/HgxXEkAmEP8ebIgdQFT3oa6VjAtAFV0mfgBXEkBU96GuFdwOQALl+HFZNgNAJhD/HpxaG0BKIP49GOMPQLhv8PfdzhxAxACM1np+HUB/fA18hHQXQA==\",\"dtype\":\"float64\",\"shape\":[20]},\"subsample\":{\"__ndarray__\":\"BNtSWCJI7D/2raC6MoXkPwTbUlgihew/nnTs8buZ7z+edOzxuwTvP+Qq4O+QAew/a0G5vgjL7T9dFAchGQPlPwXbUlgiI+8/BdtSWCJj7z/Spx8l727sPwXbUlgiKO0/iT3i85kh7z9rQbm+iCzvP17OPzhxX+o/BdtSWKIA7j9dFAchmSXnP/DJUlK+N+M/YglEshHH5j9JPkVaTFjuPw==\",\"dtype\":\"float64\",\"shape\":[20]}},\"selected\":{\"id\":\"a3a9a619-fcff-46c1-92cc-7eaf10466b83\",\"type\":\"Selection\"},\"selection_policy\":{\"id\":\"db976fff-38e3-4abe-a0cc-b177f24ecec6\",\"type\":\"UnionRenderers\"}},\"id\":\"a0fde7ff-244f-4e9f-9d0a-f33271a5b3b3\",\"type\":\"ColumnDataSource\"},{\"attributes\":{},\"id\":\"952427a1-1fcc-4acd-8362-9bbb305a006d\",\"type\":\"ResetTool\"},{\"attributes\":{},\"id\":\"a5d5e20a-01be-4e54-a573-1abf4f9333e0\",\"type\":\"LinearScale\"},{\"attributes\":{\"axis_label\":\"subsample\",\"formatter\":{\"id\":\"0edede8f-4c5c-42fc-8703-d444beb3843b\",\"type\":\"BasicTickFormatter\"},\"plot\":{\"id\":\"3c5ee954-e822-4d29-9117-c9c0f3f98072\",\"subtype\":\"Figure\",\"type\":\"Plot\"},\"ticker\":{\"id\":\"b7b28fe9-48b4-4f80-a429-586428dc72da\",\"type\":\"BasicTicker\"}},\"id\":\"cf065e6b-47f6-4947-9267-89f87ef7d0b6\",\"type\":\"LinearAxis\"},{\"attributes\":{\"axis_label\":\"validation:auc\",\"formatter\":{\"id\":\"5ebd8724-bb7f-4994-8a1b-2c6a1084f2a8\",\"type\":\"BasicTickFormatter\"},\"plot\":{\"id\":\"3c5ee954-e822-4d29-9117-c9c0f3f98072\",\"subtype\":\"Figure\",\"type\":\"Plot\"},\"ticker\":{\"id\":\"328c25fa-7974-4e38-9a28-a460d21c4f4b\",\"type\":\"BasicTicker\"}},\"id\":\"657f0c19-7d34-42f4-8a93-319e81acadf5\",\"type\":\"LinearAxis\"},{\"attributes\":{},\"id\":\"328c25fa-7974-4e38-9a28-a460d21c4f4b\",\"type\":\"BasicTicker\"},{\"attributes\":{\"dimension\":1,\"plot\":{\"id\":\"3c5ee954-e822-4d29-9117-c9c0f3f98072\",\"subtype\":\"Figure\",\"type\":\"Plot\"},\"ticker\":{\"id\":\"328c25fa-7974-4e38-9a28-a460d21c4f4b\",\"type\":\"BasicTicker\"}},\"id\":\"1d6e1156-c7a5-45ec-af9b-af9268f2617a\",\"type\":\"Grid\"},{\"attributes\":{\"source\":{\"id\":\"a0fde7ff-244f-4e9f-9d0a-f33271a5b3b3\",\"type\":\"ColumnDataSource\"}},\"id\":\"fdc81df9-12c2-4d03-a2c3-eb6b66bd6f14\",\"type\":\"CDSView\"},{\"attributes\":{},\"id\":\"50f87173-9dd0-40ee-ac84-067e5f0edfef\",\"type\":\"Selection\"},{\"attributes\":{},\"id\":\"a3a9a619-fcff-46c1-92cc-7eaf10466b83\",\"type\":\"Selection\"},{\"attributes\":{},\"id\":\"1d438692-9893-412d-b9a8-489b765dad7c\",\"type\":\"UnionRenderers\"},{\"attributes\":{},\"id\":\"be74f96e-11db-44d7-9d3a-7f4f82b96bda\",\"type\":\"BasicTickFormatter\"},{\"attributes\":{},\"id\":\"90951c28-8515-420e-bcd3-a893e90aa1a7\",\"type\":\"PanTool\"},{\"attributes\":{\"active_drag\":\"auto\",\"active_inspect\":\"auto\",\"active_scroll\":\"auto\",\"active_tap\":\"auto\",\"tools\":[{\"id\":\"0ae7feae-0e05-468a-8a00-bf90b1f3f744\",\"type\":\"HoverTool\"},{\"id\":\"02509e2b-0195-4a05-a526-9204469d20cb\",\"type\":\"PanTool\"},{\"id\":\"6a915fc9-1bb3-4036-952c-5551ab4f0fd6\",\"type\":\"CrosshairTool\"},{\"id\":\"2120811b-3faa-47f4-95d2-3cb9947955db\",\"type\":\"WheelZoomTool\"},{\"id\":\"7dd4df52-7d7f-4712-9933-f9239bcccd9f\",\"type\":\"ZoomInTool\"},{\"id\":\"789141ab-17d2-4f3f-be4a-aae4e1cf1419\",\"type\":\"ZoomOutTool\"},{\"id\":\"998dba7f-e8e5-4828-88fa-c4c18c1975b7\",\"type\":\"UndoTool\"},{\"id\":\"0da14ce0-51c3-4586-8bf6-926812202b1b\",\"type\":\"ResetTool\"}]},\"id\":\"c2fb408a-7d64-4fe3-a778-c296b75f8526\",\"type\":\"Toolbar\"},{\"attributes\":{},\"id\":\"3db3c78e-6f78-474e-bcef-8f2ddc9e955c\",\"type\":\"CrosshairTool\"},{\"attributes\":{},\"id\":\"d6a3bf2d-79ab-4bab-9d8d-7782de953e19\",\"type\":\"WheelZoomTool\"},{\"attributes\":{},\"id\":\"6272b79a-add7-4f1b-878b-0be2a5eac9f9\",\"type\":\"LinearScale\"},{\"attributes\":{},\"id\":\"4aa7537f-3740-46ab-8bb5-ad1491dee9d9\",\"type\":\"ZoomInTool\"},{\"attributes\":{\"callback\":null},\"id\":\"6b37a332-ba46-47d6-8d48-f9671976ca66\",\"type\":\"DataRange1d\"},{\"attributes\":{},\"id\":\"dc3721ef-9b3d-421a-864e-328394de3d51\",\"type\":\"ZoomOutTool\"},{\"attributes\":{\"axis_label\":\"max_depth\",\"formatter\":{\"id\":\"be74f96e-11db-44d7-9d3a-7f4f82b96bda\",\"type\":\"BasicTickFormatter\"},\"plot\":{\"id\":\"dfbabb28-b102-4ee2-a7ba-57c3329bdea3\",\"subtype\":\"Figure\",\"type\":\"Plot\"},\"ticker\":{\"id\":\"ee1cb6b5-82bc-48a4-abc8-5e89e87d7b72\",\"type\":\"BasicTicker\"}},\"id\":\"098f8a7e-68fd-499a-a697-318cfff79b4e\",\"type\":\"LinearAxis\"},{\"attributes\":{},\"id\":\"9bdfef61-d2d2-4f17-9610-da3dd809b9fe\",\"type\":\"UndoTool\"},{\"attributes\":{},\"id\":\"f57f54cc-a8d2-49b7-834c-38914768dc69\",\"type\":\"ResetTool\"},{\"attributes\":{},\"id\":\"815d8cdb-e8df-4264-9d40-38c9cba6c014\",\"type\":\"BasicTickFormatter\"},{\"attributes\":{},\"id\":\"5676dec4-5c3e-4ab2-a075-5ef25d365588\",\"type\":\"BasicTickFormatter\"},{\"attributes\":{\"callback\":null},\"id\":\"6374ee55-aba4-492b-9036-a0056071c472\",\"type\":\"DataRange1d\"},{\"attributes\":{},\"id\":\"7582b193-9d45-4bf4-834d-be2892fa62dc\",\"type\":\"BasicTickFormatter\"},{\"attributes\":{},\"id\":\"ee1cb6b5-82bc-48a4-abc8-5e89e87d7b72\",\"type\":\"BasicTicker\"},{\"attributes\":{},\"id\":\"db976fff-38e3-4abe-a0cc-b177f24ecec6\",\"type\":\"UnionRenderers\"},{\"attributes\":{\"below\":[{\"id\":\"098f8a7e-68fd-499a-a697-318cfff79b4e\",\"type\":\"LinearAxis\"}],\"left\":[{\"id\":\"cb0e8d72-ec66-492c-bc27-e474823799f9\",\"type\":\"LinearAxis\"}],\"plot_height\":500,\"plot_width\":500,\"renderers\":[{\"id\":\"098f8a7e-68fd-499a-a697-318cfff79b4e\",\"type\":\"LinearAxis\"},{\"id\":\"c3846988-7a7e-4d97-84fc-f6b0a0267585\",\"type\":\"Grid\"},{\"id\":\"cb0e8d72-ec66-492c-bc27-e474823799f9\",\"type\":\"LinearAxis\"},{\"id\":\"2e047fff-d6a6-47fe-8c67-7d40ee3407aa\",\"type\":\"Grid\"},{\"id\":\"ba1b80b7-9afd-40ee-9397-4699b4a2b080\",\"type\":\"GlyphRenderer\"}],\"title\":{\"id\":\"b2e14ab3-d79a-4b0a-9e18-476b6989d9b6\",\"type\":\"Title\"},\"toolbar\":{\"id\":\"c2fb408a-7d64-4fe3-a778-c296b75f8526\",\"type\":\"Toolbar\"},\"x_range\":{\"id\":\"6374ee55-aba4-492b-9036-a0056071c472\",\"type\":\"DataRange1d\"},\"x_scale\":{\"id\":\"6272b79a-add7-4f1b-878b-0be2a5eac9f9\",\"type\":\"LinearScale\"},\"y_range\":{\"id\":\"6b37a332-ba46-47d6-8d48-f9671976ca66\",\"type\":\"DataRange1d\"},\"y_scale\":{\"id\":\"a5d5e20a-01be-4e54-a573-1abf4f9333e0\",\"type\":\"LinearScale\"}},\"id\":\"dfbabb28-b102-4ee2-a7ba-57c3329bdea3\",\"subtype\":\"Figure\",\"type\":\"Plot\"},{\"attributes\":{},\"id\":\"46903341-eea8-473b-804d-fd434a3f4ff4\",\"type\":\"BasicTickFormatter\"},{\"attributes\":{},\"id\":\"0382a60b-31a5-42dc-9ef2-491fe76e4b74\",\"type\":\"BasicTickFormatter\"},{\"attributes\":{},\"id\":\"cceb638d-f18c-4b28-ae15-1d04a9cf504a\",\"type\":\"BasicTickFormatter\"},{\"attributes\":{\"plot\":null,\"text\":\"Objective vs max_depth\"},\"id\":\"b2e14ab3-d79a-4b0a-9e18-476b6989d9b6\",\"type\":\"Title\"},{\"attributes\":{\"source\":{\"id\":\"283508c4-1189-4e21-a1a9-2db0fb5f9c01\",\"type\":\"ColumnDataSource\"}},\"id\":\"6212c5b1-3ddc-4b3a-995e-6602a1dbbc41\",\"type\":\"CDSView\"},{\"attributes\":{},\"id\":\"003a0164-7a30-40b8-9430-3983b10f897a\",\"type\":\"BasicTickFormatter\"},{\"attributes\":{\"data_source\":{\"id\":\"283508c4-1189-4e21-a1a9-2db0fb5f9c01\",\"type\":\"ColumnDataSource\"},\"glyph\":{\"id\":\"24fd570a-5164-43fe-b6f1-50dfcf23bfbe\",\"type\":\"Circle\"},\"hover_glyph\":null,\"muted_glyph\":null,\"nonselection_glyph\":{\"id\":\"76562722-9d50-4c74-8d80-e59ed82bfdb4\",\"type\":\"Circle\"},\"selection_glyph\":null,\"view\":{\"id\":\"6212c5b1-3ddc-4b3a-995e-6602a1dbbc41\",\"type\":\"CDSView\"}},\"id\":\"51f35259-fcde-426b-b840-f5cec2e78915\",\"type\":\"GlyphRenderer\"},{\"attributes\":{\"fill_alpha\":{\"value\":0.1},\"fill_color\":{\"value\":\"#1f77b4\"},\"line_alpha\":{\"value\":0.1},\"line_color\":{\"value\":\"#1f77b4\"},\"x\":{\"field\":\"subsample\"},\"y\":{\"field\":\"FinalObjectiveValue\"}},\"id\":\"76562722-9d50-4c74-8d80-e59ed82bfdb4\",\"type\":\"Circle\"},{\"attributes\":{},\"id\":\"e6150a06-7b14-4b32-a145-246e6c9f97e7\",\"type\":\"UnionRenderers\"},{\"attributes\":{},\"id\":\"6fb9f279-428b-4b70-a5d9-20c1f59f6155\",\"type\":\"Selection\"},{\"attributes\":{},\"id\":\"26214139-19fc-4346-bb77-baf9ba6a1b89\",\"type\":\"UnionRenderers\"},{\"attributes\":{},\"id\":\"c40cd0bd-6600-460d-831f-fe2c74f15714\",\"type\":\"Selection\"},{\"attributes\":{},\"id\":\"8308db7a-6446-4edd-a2ac-a5f0bbb28d3b\",\"type\":\"Selection\"},{\"attributes\":{},\"id\":\"2c7553f1-6b75-41b8-8465-1fc1b203ddd3\",\"type\":\"UnionRenderers\"},{\"attributes\":{\"plot\":{\"id\":\"dfbabb28-b102-4ee2-a7ba-57c3329bdea3\",\"subtype\":\"Figure\",\"type\":\"Plot\"},\"ticker\":{\"id\":\"ee1cb6b5-82bc-48a4-abc8-5e89e87d7b72\",\"type\":\"BasicTicker\"}},\"id\":\"c3846988-7a7e-4d97-84fc-f6b0a0267585\",\"type\":\"Grid\"},{\"attributes\":{\"axis_label\":\"validation:auc\",\"formatter\":{\"id\":\"003a0164-7a30-40b8-9430-3983b10f897a\",\"type\":\"BasicTickFormatter\"},\"plot\":{\"id\":\"dfbabb28-b102-4ee2-a7ba-57c3329bdea3\",\"subtype\":\"Figure\",\"type\":\"Plot\"},\"ticker\":{\"id\":\"32f0bcf3-ed0b-4a90-bb76-b4a7b30ed45b\",\"type\":\"BasicTicker\"}},\"id\":\"cb0e8d72-ec66-492c-bc27-e474823799f9\",\"type\":\"LinearAxis\"},{\"attributes\":{},\"id\":\"32f0bcf3-ed0b-4a90-bb76-b4a7b30ed45b\",\"type\":\"BasicTicker\"},{\"attributes\":{\"dimension\":1,\"plot\":{\"id\":\"dfbabb28-b102-4ee2-a7ba-57c3329bdea3\",\"subtype\":\"Figure\",\"type\":\"Plot\"},\"ticker\":{\"id\":\"32f0bcf3-ed0b-4a90-bb76-b4a7b30ed45b\",\"type\":\"BasicTicker\"}},\"id\":\"2e047fff-d6a6-47fe-8c67-7d40ee3407aa\",\"type\":\"Grid\"},{\"attributes\":{\"data_source\":{\"id\":\"a0fde7ff-244f-4e9f-9d0a-f33271a5b3b3\",\"type\":\"ColumnDataSource\"},\"glyph\":{\"id\":\"9b091b33-ebe6-432d-b4af-3737656036fc\",\"type\":\"Circle\"},\"hover_glyph\":null,\"muted_glyph\":null,\"nonselection_glyph\":{\"id\":\"c7b72994-936e-43f7-b6f2-f782e2dea3ea\",\"type\":\"Circle\"},\"selection_glyph\":null,\"view\":{\"id\":\"fdc81df9-12c2-4d03-a2c3-eb6b66bd6f14\",\"type\":\"CDSView\"}},\"id\":\"ba1b80b7-9afd-40ee-9397-4699b4a2b080\",\"type\":\"GlyphRenderer\"},{\"attributes\":{\"active_drag\":\"auto\",\"active_inspect\":\"auto\",\"active_scroll\":\"auto\",\"active_tap\":\"auto\",\"tools\":[{\"id\":\"74211aea-4fdf-4602-8564-2aaa934c1ee0\",\"type\":\"HoverTool\"},{\"id\":\"d910fa11-0838-4568-97e7-531ab10e6447\",\"type\":\"PanTool\"},{\"id\":\"3f478417-9975-4947-a7a1-d267517d2550\",\"type\":\"CrosshairTool\"},{\"id\":\"0fd5ba7b-846a-40e7-b11a-d06668763722\",\"type\":\"WheelZoomTool\"},{\"id\":\"fa7644dc-4ac1-49e0-b05b-7c05e63b28a7\",\"type\":\"ZoomInTool\"},{\"id\":\"f204671a-1baa-46e3-8325-ce8b8d7429b2\",\"type\":\"ZoomOutTool\"},{\"id\":\"675160c6-b2ec-4f19-8da5-c92b9e87d128\",\"type\":\"UndoTool\"},{\"id\":\"19f14519-e5c5-49d2-8eda-317f595ee35e\",\"type\":\"ResetTool\"}]},\"id\":\"6f5dc9cd-a7a6-4a02-ae62-a7776f3cb769\",\"type\":\"Toolbar\"},{\"attributes\":{\"below\":[{\"id\":\"990c7779-e1d1-4cf0-933c-ddc92213c344\",\"type\":\"LinearAxis\"}],\"left\":[{\"id\":\"83aa9ce0-679b-4754-87d3-25df5cba3ecf\",\"type\":\"LinearAxis\"}],\"plot_height\":500,\"plot_width\":500,\"renderers\":[{\"id\":\"990c7779-e1d1-4cf0-933c-ddc92213c344\",\"type\":\"LinearAxis\"},{\"id\":\"2562b10d-b758-4713-95da-60a582f503e8\",\"type\":\"Grid\"},{\"id\":\"83aa9ce0-679b-4754-87d3-25df5cba3ecf\",\"type\":\"LinearAxis\"},{\"id\":\"94c54bfa-d9ca-4309-9fbe-1d415ce48847\",\"type\":\"Grid\"},{\"id\":\"f668cb06-b980-4669-99fd-ff942ab01b9a\",\"type\":\"GlyphRenderer\"}],\"title\":{\"id\":\"c8183195-e0e9-4223-8e76-bc52e64cb2e8\",\"type\":\"Title\"},\"toolbar\":{\"id\":\"6f5dc9cd-a7a6-4a02-ae62-a7776f3cb769\",\"type\":\"Toolbar\"},\"x_range\":{\"id\":\"5bfb1da9-0217-4a48-8f2e-f02810811aa3\",\"type\":\"DataRange1d\"},\"x_scale\":{\"id\":\"cd0051f5-d04c-4253-a278-f7a6139587ef\",\"type\":\"LinearScale\"},\"y_range\":{\"id\":\"a11322d6-cefc-4a37-8ba8-34954cda2d66\",\"type\":\"DataRange1d\"},\"y_scale\":{\"id\":\"8cb2ab0d-bdb7-4a2d-96c2-c7b3490cd184\",\"type\":\"LinearScale\"}},\"id\":\"fa47a0a9-7e21-40bb-8496-6c3f663bd5f3\",\"subtype\":\"Figure\",\"type\":\"Plot\"},{\"attributes\":{},\"id\":\"02509e2b-0195-4a05-a526-9204469d20cb\",\"type\":\"PanTool\"},{\"attributes\":{},\"id\":\"6a915fc9-1bb3-4036-952c-5551ab4f0fd6\",\"type\":\"CrosshairTool\"},{\"attributes\":{},\"id\":\"2120811b-3faa-47f4-95d2-3cb9947955db\",\"type\":\"WheelZoomTool\"},{\"attributes\":{},\"id\":\"7dd4df52-7d7f-4712-9933-f9239bcccd9f\",\"type\":\"ZoomInTool\"},{\"attributes\":{},\"id\":\"789141ab-17d2-4f3f-be4a-aae4e1cf1419\",\"type\":\"ZoomOutTool\"},{\"attributes\":{},\"id\":\"998dba7f-e8e5-4828-88fa-c4c18c1975b7\",\"type\":\"UndoTool\"},{\"attributes\":{},\"id\":\"0da14ce0-51c3-4586-8bf6-926812202b1b\",\"type\":\"ResetTool\"},{\"attributes\":{\"plot\":null,\"text\":\"Objective vs eta\"},\"id\":\"c8183195-e0e9-4223-8e76-bc52e64cb2e8\",\"type\":\"Title\"},{\"attributes\":{\"data_source\":{\"id\":\"390c50a9-6287-4873-ae9e-66d2312da0bd\",\"type\":\"ColumnDataSource\"},\"glyph\":{\"id\":\"c8d34246-e6db-4e99-8fdb-d65130d7029e\",\"type\":\"Circle\"},\"hover_glyph\":null,\"muted_glyph\":null,\"nonselection_glyph\":{\"id\":\"aa783cbf-d8d6-413a-b5c8-841df5c145d2\",\"type\":\"Circle\"},\"selection_glyph\":null,\"view\":{\"id\":\"83475867-4656-4357-a739-ec886279671f\",\"type\":\"CDSView\"}},\"id\":\"8da71e11-ac72-4ffe-b6cb-a9a2d051765e\",\"type\":\"GlyphRenderer\"},{\"attributes\":{\"callback\":null},\"id\":\"5bfb1da9-0217-4a48-8f2e-f02810811aa3\",\"type\":\"DataRange1d\"},{\"attributes\":{\"callback\":null,\"data\":{\"FinalObjectiveValue\":{\"__ndarray__\":\"AAAAgNqa6j8AAACgB5PqPwAAAOBQhuo/AAAAoK916j8AAAAA7GrqPwAAAED9Z+o/AAAAwBJk6j8AAADALl/qPwAAAODZV+o/AAAAoORV6j8AAABAbVTqPwAAAKBzU+o/AAAA4GU/6j8AAACAQi/qPwAAAADIF+o/AAAAQIH36T8AAABAue3pPwAAAKAt2ek/AAAAAJps6T8AAADAxW7oPw==\",\"dtype\":\"float64\",\"shape\":[20]},\"TrainingElapsedTimeSeconds\":{\"__ndarray__\":\"AAAAAABAVkAAAAAAAEBWQAAAAAAAQFZAAAAAAADAVkAAAAAAAEBXQAAAAAAAAFdAAAAAAAAAVkAAAAAAAABYQAAAAAAAAFdAAAAAAADAVkAAAAAAAABXQAAAAAAAgFZAAAAAAADAV0AAAAAAAIBXQAAAAAAAwFZAAAAAAABAV0AAAAAAAEBVQAAAAAAAwFZAAAAAAAAAV0AAAAAAAIBWQA==\",\"dtype\":\"float64\",\"shape\":[20]},\"TrainingEndTime\":{\"__ndarray__\":\"AID+nrhZdkIAALUIuVl2QgCAY6O4WXZCAIBXpbhZdkIAgJtwuFl2QgAAyzS4WXZCAACXDblZdkIAgF4MuVl2QgAAXXC4WXZCAICc2LhZdkIAgLTUuFl2QgCArW24WXZCAADn1rhZdkIAADgIuVl2QgAASDW4WXZCAAAlo7hZdkIAAOBvuFl2QgAApzq4WXZCAIB0OLhZdkIAgCXXuFl2Qg==\",\"dtype\":\"float64\",\"shape\":[20]},\"TrainingJobName\":[\"xgboost-180902-1816-009-28b39d1e\",\"xgboost-180902-1816-017-19fc219a\",\"xgboost-180902-1816-010-c62b0582\",\"xgboost-180902-1816-011-bc946814\",\"xgboost-180902-1816-008-b4a6051e\",\"xgboost-180902-1816-001-02ab5df3\",\"xgboost-180902-1816-020-ecd37a5f\",\"xgboost-180902-1816-019-baaf1a14\",\"xgboost-180902-1816-006-1f1a0acc\",\"xgboost-180902-1816-016-a38d3fca\",\"xgboost-180902-1816-013-1831df2b\",\"xgboost-180902-1816-005-01378329\",\"xgboost-180902-1816-015-7c49272a\",\"xgboost-180902-1816-018-b515eb8e\",\"xgboost-180902-1816-002-3a4253c0\",\"xgboost-180902-1816-012-f570556f\",\"xgboost-180902-1816-007-ff62d6c5\",\"xgboost-180902-1816-004-dbbea0ae\",\"xgboost-180902-1816-003-3ff114a4\",\"xgboost-180902-1816-014-a0b750ad\"],\"TrainingJobStatus\":[\"Completed\",\"Completed\",\"Completed\",\"Completed\",\"Completed\",\"Completed\",\"Completed\",\"Completed\",\"Completed\",\"Completed\",\"Completed\",\"Completed\",\"Completed\",\"Completed\",\"Completed\",\"Completed\",\"Completed\",\"Completed\",\"Completed\",\"Completed\"],\"TrainingStartTime\":{\"__ndarray__\":\"AABEibhZdkIAgPryuFl2QgAAqY24WXZCAAAgj7hZdkIAAOdZuFl2QgAAVR64WXZCAAAb+LhZdkIAgO70uFl2QgAA51m4WXZCAABlwrhZdkIAgD6+uFl2QgCAtFe4WXZCAIC1v7hZdkIAAEXxuFl2QgCAEB+4WXZCAIBwjLhZdkIAgB9buFl2QgCAbyS4WXZCAID+IbhZdkIAgCzBuFl2Qg==\",\"dtype\":\"float64\",\"shape\":[20]},\"alpha\":{\"__ndarray__\":\"WJxIpiNx7D9YnEimozXsP1icSKajce4/WJxIpiPd5z9YnEimo6DjPwbkKSG4rOc/tCsLnIx84j9YnEimYxDlP1icSKajTOE/WJxIpqNs7T8AAAAAAADwP1icSKYj4eo/czz+0p5s7T+wOJFMR+DfP5xAXUALrt8/WJxIpmPK7z9YnEimowLoP9ylHcNsoeo/IIiGzt1gpj+4c56DY1nsPw==\",\"dtype\":\"float64\",\"shape\":[20]},\"eta\":{\"__ndarray__\":\"NNf47UW7tT8ASIt1JeigPwCQFutKUJo/muEkD7/pqz8BkBbrSrCYP0DFdKWU/J0/muEkD7+9rj9nrvHbi4qgPwGQFutKMJE/f/rSX95IkT801/jtRVO+P6C+9Jc3Drk/ZcKHdLNgij+n40+W1VKiP4exE5TJdbc/mj1fVKxbuj9QX/rLGxHEP9wgLuJZIMY/Vb1fEuGOwz8GZu2wbwyTPg==\",\"dtype\":\"float64\",\"shape\":[20]},\"index\":[11,3,10,9,12,19,0,1,14,4,7,15,5,2,18,8,13,16,17,6],\"max_depth\":{\"__ndarray__\":\"AAAAAAAAAEAAAAAAAAAIQAAAAAAAAAhAAAAAAAAACEAAAAAAAAAIQAAAAAAAAAhAAAAAAAAAAEAAAAAAAAAYQAAAAAAAAAhAAAAAAAAAAEAAAAAAAAAAQAAAAAAAAAhAAAAAAAAAAEAAAAAAAAAcQAAAAAAAABBAAAAAAAAAEEAAAAAAAAAAQAAAAAAAABxAAAAAAAAAHEAAAAAAAAAAQA==\",\"dtype\":\"float64\",\"shape\":[20]},\"min_child_weight\":{\"__ndarray__\":\"JhD/HiwVFkCr+1DX6joXQAAAAAAAACBAJhD/HixcHUAmEP8eDHAdQOgFKHsbRx9ADCBN6a8ECEBU96GudcwAQCYQ/x4MjxNAJhD/HgxXEkAmEP8ebIgdQFT3oa6VjAtAFV0mfgBXEkBU96GuFdwOQALl+HFZNgNAJhD/HpxaG0BKIP49GOMPQLhv8PfdzhxAxACM1np+HUB/fA18hHQXQA==\",\"dtype\":\"float64\",\"shape\":[20]},\"subsample\":{\"__ndarray__\":\"BNtSWCJI7D/2raC6MoXkPwTbUlgihew/nnTs8buZ7z+edOzxuwTvP+Qq4O+QAew/a0G5vgjL7T9dFAchGQPlPwXbUlgiI+8/BdtSWCJj7z/Spx8l727sPwXbUlgiKO0/iT3i85kh7z9rQbm+iCzvP17OPzhxX+o/BdtSWKIA7j9dFAchmSXnP/DJUlK+N+M/YglEshHH5j9JPkVaTFjuPw==\",\"dtype\":\"float64\",\"shape\":[20]}},\"selected\":{\"id\":\"6fb9f279-428b-4b70-a5d9-20c1f59f6155\",\"type\":\"Selection\"},\"selection_policy\":{\"id\":\"1d438692-9893-412d-b9a8-489b765dad7c\",\"type\":\"UnionRenderers\"}},\"id\":\"92866c8c-253f-4908-acb4-ab2f794773cc\",\"type\":\"ColumnDataSource\"},{\"attributes\":{\"callback\":null,\"renderers\":\"auto\",\"tooltips\":[[\"FinalObjectiveValue\",\"@FinalObjectiveValue\"],[\"TrainingJobName\",\"@TrainingJobName\"],[\"max_depth\",\"@{max_depth}\"],[\"eta\",\"@{eta}\"],[\"min_child_weight\",\"@{min_child_weight}\"],[\"alpha\",\"@{alpha}\"],[\"subsample\",\"@{subsample}\"]]},\"id\":\"946cc807-c4fc-4c25-b0d1-9bf05d46cd5f\",\"type\":\"HoverTool\"},{\"attributes\":{\"callback\":null,\"renderers\":\"auto\",\"tooltips\":[[\"FinalObjectiveValue\",\"@FinalObjectiveValue\"],[\"TrainingJobName\",\"@TrainingJobName\"],[\"max_depth\",\"@{max_depth}\"],[\"eta\",\"@{eta}\"],[\"min_child_weight\",\"@{min_child_weight}\"],[\"alpha\",\"@{alpha}\"],[\"subsample\",\"@{subsample}\"]]},\"id\":\"74211aea-4fdf-4602-8564-2aaa934c1ee0\",\"type\":\"HoverTool\"},{\"attributes\":{\"callback\":null},\"id\":\"a11322d6-cefc-4a37-8ba8-34954cda2d66\",\"type\":\"DataRange1d\"},{\"attributes\":{\"fill_color\":{\"value\":\"#1f77b4\"},\"line_color\":{\"value\":\"#1f77b4\"},\"x\":{\"field\":\"eta\"},\"y\":{\"field\":\"FinalObjectiveValue\"}},\"id\":\"1bfa4012-4877-4039-b5ef-1d47ed742be2\",\"type\":\"Circle\"},{\"attributes\":{},\"id\":\"cd0051f5-d04c-4253-a278-f7a6139587ef\",\"type\":\"LinearScale\"},{\"attributes\":{},\"id\":\"8cb2ab0d-bdb7-4a2d-96c2-c7b3490cd184\",\"type\":\"LinearScale\"},{\"attributes\":{\"plot\":{\"id\":\"fa47a0a9-7e21-40bb-8496-6c3f663bd5f3\",\"subtype\":\"Figure\",\"type\":\"Plot\"},\"ticker\":{\"id\":\"dbe7b8e3-ac48-4245-8897-3b8f461836a4\",\"type\":\"BasicTicker\"}},\"id\":\"2562b10d-b758-4713-95da-60a582f503e8\",\"type\":\"Grid\"},{\"attributes\":{\"axis_label\":\"eta\",\"formatter\":{\"id\":\"5676dec4-5c3e-4ab2-a075-5ef25d365588\",\"type\":\"BasicTickFormatter\"},\"plot\":{\"id\":\"fa47a0a9-7e21-40bb-8496-6c3f663bd5f3\",\"subtype\":\"Figure\",\"type\":\"Plot\"},\"ticker\":{\"id\":\"dbe7b8e3-ac48-4245-8897-3b8f461836a4\",\"type\":\"BasicTicker\"}},\"id\":\"990c7779-e1d1-4cf0-933c-ddc92213c344\",\"type\":\"LinearAxis\"},{\"attributes\":{},\"id\":\"dbe7b8e3-ac48-4245-8897-3b8f461836a4\",\"type\":\"BasicTicker\"},{\"attributes\":{\"axis_label\":\"validation:auc\",\"formatter\":{\"id\":\"cceb638d-f18c-4b28-ae15-1d04a9cf504a\",\"type\":\"BasicTickFormatter\"},\"plot\":{\"id\":\"fa47a0a9-7e21-40bb-8496-6c3f663bd5f3\",\"subtype\":\"Figure\",\"type\":\"Plot\"},\"ticker\":{\"id\":\"fe082b7d-97bf-4749-aa4c-7a6374414f4b\",\"type\":\"BasicTicker\"}},\"id\":\"83aa9ce0-679b-4754-87d3-25df5cba3ecf\",\"type\":\"LinearAxis\"},{\"attributes\":{},\"id\":\"fe082b7d-97bf-4749-aa4c-7a6374414f4b\",\"type\":\"BasicTicker\"},{\"attributes\":{\"dimension\":1,\"plot\":{\"id\":\"fa47a0a9-7e21-40bb-8496-6c3f663bd5f3\",\"subtype\":\"Figure\",\"type\":\"Plot\"},\"ticker\":{\"id\":\"fe082b7d-97bf-4749-aa4c-7a6374414f4b\",\"type\":\"BasicTicker\"}},\"id\":\"94c54bfa-d9ca-4309-9fbe-1d415ce48847\",\"type\":\"Grid\"},{\"attributes\":{},\"id\":\"2e92743b-b94f-4420-8c5c-e76955df5592\",\"type\":\"LinearScale\"},{\"attributes\":{\"callback\":null},\"id\":\"a5b3822e-4bcb-4de0-b099-98f928d1e73d\",\"type\":\"DataRange1d\"},{\"attributes\":{},\"id\":\"d910fa11-0838-4568-97e7-531ab10e6447\",\"type\":\"PanTool\"},{\"attributes\":{},\"id\":\"3f478417-9975-4947-a7a1-d267517d2550\",\"type\":\"CrosshairTool\"},{\"attributes\":{},\"id\":\"0fd5ba7b-846a-40e7-b11a-d06668763722\",\"type\":\"WheelZoomTool\"},{\"attributes\":{},\"id\":\"fa7644dc-4ac1-49e0-b05b-7c05e63b28a7\",\"type\":\"ZoomInTool\"},{\"attributes\":{},\"id\":\"f204671a-1baa-46e3-8325-ce8b8d7429b2\",\"type\":\"ZoomOutTool\"},{\"attributes\":{\"fill_color\":{\"value\":\"#1f77b4\"},\"line_color\":{\"value\":\"#1f77b4\"},\"x\":{\"field\":\"max_depth\"},\"y\":{\"field\":\"FinalObjectiveValue\"}},\"id\":\"9b091b33-ebe6-432d-b4af-3737656036fc\",\"type\":\"Circle\"},{\"attributes\":{},\"id\":\"675160c6-b2ec-4f19-8da5-c92b9e87d128\",\"type\":\"UndoTool\"},{\"attributes\":{},\"id\":\"19f14519-e5c5-49d2-8eda-317f595ee35e\",\"type\":\"ResetTool\"},{\"attributes\":{\"active_drag\":\"auto\",\"active_inspect\":\"auto\",\"active_scroll\":\"auto\",\"active_tap\":\"auto\",\"tools\":[{\"id\":\"b09c2788-43bd-46d5-b4b3-d092f012239e\",\"type\":\"HoverTool\"},{\"id\":\"cfb5cbe7-57a6-4713-93a6-5339ce3b315c\",\"type\":\"PanTool\"},{\"id\":\"ddd78da0-d8bd-4f0c-ad80-f5c233aef1e6\",\"type\":\"CrosshairTool\"},{\"id\":\"c8df0f62-6e2f-4d8a-a174-00d9a54be7f3\",\"type\":\"WheelZoomTool\"},{\"id\":\"3bb77252-6eda-4d5f-9a5f-645fa3bb8a70\",\"type\":\"ZoomInTool\"},{\"id\":\"aac4b0be-ad8c-40c2-8e4e-e1d781bb9397\",\"type\":\"ZoomOutTool\"},{\"id\":\"4d40e48d-98f4-4d09-8541-6f96c5de3feb\",\"type\":\"UndoTool\"},{\"id\":\"edc3a8c9-14f2-44f9-b2e1-4ac55c58c43a\",\"type\":\"ResetTool\"}]},\"id\":\"9e149f59-37be-4e99-b29c-34bfab7c5b3d\",\"type\":\"Toolbar\"},{\"attributes\":{\"below\":[{\"id\":\"d852bb91-6d68-43af-a040-5a2275e76570\",\"type\":\"LinearAxis\"}],\"left\":[{\"id\":\"cb3e9e6c-66ae-4256-8062-7613eb88c642\",\"type\":\"LinearAxis\"}],\"plot_height\":500,\"plot_width\":500,\"renderers\":[{\"id\":\"d852bb91-6d68-43af-a040-5a2275e76570\",\"type\":\"LinearAxis\"},{\"id\":\"3e92e9eb-edf8-43f8-ba61-4f6a501f3859\",\"type\":\"Grid\"},{\"id\":\"cb3e9e6c-66ae-4256-8062-7613eb88c642\",\"type\":\"LinearAxis\"},{\"id\":\"bdaff0d7-2a2b-486a-a4e6-5094662c732d\",\"type\":\"Grid\"},{\"id\":\"187bed0b-a5c8-44d5-a825-66898c89f6c8\",\"type\":\"GlyphRenderer\"}],\"title\":{\"id\":\"21c7ff77-0c4a-4dac-a9fe-af2c19333079\",\"type\":\"Title\"},\"toolbar\":{\"id\":\"9e149f59-37be-4e99-b29c-34bfab7c5b3d\",\"type\":\"Toolbar\"},\"x_range\":{\"id\":\"653dfae5-006c-498d-9200-ddb10c9f2422\",\"type\":\"DataRange1d\"},\"x_scale\":{\"id\":\"ebe6788c-9aab-4bf7-9b84-12ccb5ee2bbf\",\"type\":\"LinearScale\"},\"y_range\":{\"id\":\"a5b3822e-4bcb-4de0-b099-98f928d1e73d\",\"type\":\"DataRange1d\"},\"y_scale\":{\"id\":\"2e92743b-b94f-4420-8c5c-e76955df5592\",\"type\":\"LinearScale\"}},\"id\":\"2a6ff9ac-2b96-4618-925b-3e69b8265dca\",\"subtype\":\"Figure\",\"type\":\"Plot\"},{\"attributes\":{},\"id\":\"ebe6788c-9aab-4bf7-9b84-12ccb5ee2bbf\",\"type\":\"LinearScale\"},{\"attributes\":{\"plot\":null,\"text\":\"Objective vs min_child_weight\"},\"id\":\"21c7ff77-0c4a-4dac-a9fe-af2c19333079\",\"type\":\"Title\"},{\"attributes\":{\"active_drag\":\"auto\",\"active_inspect\":\"auto\",\"active_scroll\":\"auto\",\"active_tap\":\"auto\",\"tools\":[{\"id\":\"946cc807-c4fc-4c25-b0d1-9bf05d46cd5f\",\"type\":\"HoverTool\"},{\"id\":\"90951c28-8515-420e-bcd3-a893e90aa1a7\",\"type\":\"PanTool\"},{\"id\":\"3db3c78e-6f78-474e-bcef-8f2ddc9e955c\",\"type\":\"CrosshairTool\"},{\"id\":\"d6a3bf2d-79ab-4bab-9d8d-7782de953e19\",\"type\":\"WheelZoomTool\"},{\"id\":\"4aa7537f-3740-46ab-8bb5-ad1491dee9d9\",\"type\":\"ZoomInTool\"},{\"id\":\"dc3721ef-9b3d-421a-864e-328394de3d51\",\"type\":\"ZoomOutTool\"},{\"id\":\"9bdfef61-d2d2-4f17-9610-da3dd809b9fe\",\"type\":\"UndoTool\"},{\"id\":\"f57f54cc-a8d2-49b7-834c-38914768dc69\",\"type\":\"ResetTool\"}]},\"id\":\"deec072d-fed1-4caa-afde-355562e82864\",\"type\":\"Toolbar\"},{\"attributes\":{\"fill_color\":{\"value\":\"#1f77b4\"},\"line_color\":{\"value\":\"#1f77b4\"},\"x\":{\"field\":\"alpha\"},\"y\":{\"field\":\"FinalObjectiveValue\"}},\"id\":\"c8d34246-e6db-4e99-8fdb-d65130d7029e\",\"type\":\"Circle\"},{\"attributes\":{\"callback\":null},\"id\":\"653dfae5-006c-498d-9200-ddb10c9f2422\",\"type\":\"DataRange1d\"},{\"attributes\":{\"callback\":null,\"renderers\":\"auto\",\"tooltips\":[[\"FinalObjectiveValue\",\"@FinalObjectiveValue\"],[\"TrainingJobName\",\"@TrainingJobName\"],[\"max_depth\",\"@{max_depth}\"],[\"eta\",\"@{eta}\"],[\"min_child_weight\",\"@{min_child_weight}\"],[\"alpha\",\"@{alpha}\"],[\"subsample\",\"@{subsample}\"]]},\"id\":\"b09c2788-43bd-46d5-b4b3-d092f012239e\",\"type\":\"HoverTool\"},{\"attributes\":{\"source\":{\"id\":\"92866c8c-253f-4908-acb4-ab2f794773cc\",\"type\":\"ColumnDataSource\"}},\"id\":\"c155bd50-897f-4615-81ef-f6c06deaa3cd\",\"type\":\"CDSView\"},{\"attributes\":{},\"id\":\"0e4a5e00-77d2-4987-9f44-319005a25ef1\",\"type\":\"LinearScale\"},{\"attributes\":{\"data_source\":{\"id\":\"92866c8c-253f-4908-acb4-ab2f794773cc\",\"type\":\"ColumnDataSource\"},\"glyph\":{\"id\":\"1bfa4012-4877-4039-b5ef-1d47ed742be2\",\"type\":\"Circle\"},\"hover_glyph\":null,\"muted_glyph\":null,\"nonselection_glyph\":{\"id\":\"ed659182-9a93-4c1b-83a2-007c176b6af4\",\"type\":\"Circle\"},\"selection_glyph\":null,\"view\":{\"id\":\"c155bd50-897f-4615-81ef-f6c06deaa3cd\",\"type\":\"CDSView\"}},\"id\":\"f668cb06-b980-4669-99fd-ff942ab01b9a\",\"type\":\"GlyphRenderer\"},{\"attributes\":{\"fill_alpha\":{\"value\":0.1},\"fill_color\":{\"value\":\"#1f77b4\"},\"line_alpha\":{\"value\":0.1},\"line_color\":{\"value\":\"#1f77b4\"},\"x\":{\"field\":\"eta\"},\"y\":{\"field\":\"FinalObjectiveValue\"}},\"id\":\"ed659182-9a93-4c1b-83a2-007c176b6af4\",\"type\":\"Circle\"},{\"attributes\":{},\"id\":\"5ebd8724-bb7f-4994-8a1b-2c6a1084f2a8\",\"type\":\"BasicTickFormatter\"},{\"attributes\":{\"plot\":{\"id\":\"2a6ff9ac-2b96-4618-925b-3e69b8265dca\",\"subtype\":\"Figure\",\"type\":\"Plot\"},\"ticker\":{\"id\":\"c1f84990-0bf3-4d38-bf9d-10f5f8b88ab2\",\"type\":\"BasicTicker\"}},\"id\":\"3e92e9eb-edf8-43f8-ba61-4f6a501f3859\",\"type\":\"Grid\"},{\"attributes\":{\"fill_alpha\":{\"value\":0.1},\"fill_color\":{\"value\":\"#1f77b4\"},\"line_alpha\":{\"value\":0.1},\"line_color\":{\"value\":\"#1f77b4\"},\"x\":{\"field\":\"alpha\"},\"y\":{\"field\":\"FinalObjectiveValue\"}},\"id\":\"aa783cbf-d8d6-413a-b5c8-841df5c145d2\",\"type\":\"Circle\"},{\"attributes\":{\"axis_label\":\"min_child_weight\",\"formatter\":{\"id\":\"0382a60b-31a5-42dc-9ef2-491fe76e4b74\",\"type\":\"BasicTickFormatter\"},\"plot\":{\"id\":\"2a6ff9ac-2b96-4618-925b-3e69b8265dca\",\"subtype\":\"Figure\",\"type\":\"Plot\"},\"ticker\":{\"id\":\"c1f84990-0bf3-4d38-bf9d-10f5f8b88ab2\",\"type\":\"BasicTicker\"}},\"id\":\"d852bb91-6d68-43af-a040-5a2275e76570\",\"type\":\"LinearAxis\"},{\"attributes\":{\"source\":{\"id\":\"390c50a9-6287-4873-ae9e-66d2312da0bd\",\"type\":\"ColumnDataSource\"}},\"id\":\"83475867-4656-4357-a739-ec886279671f\",\"type\":\"CDSView\"},{\"attributes\":{},\"id\":\"c1f84990-0bf3-4d38-bf9d-10f5f8b88ab2\",\"type\":\"BasicTicker\"},{\"attributes\":{\"axis_label\":\"validation:auc\",\"formatter\":{\"id\":\"815d8cdb-e8df-4264-9d40-38c9cba6c014\",\"type\":\"BasicTickFormatter\"},\"plot\":{\"id\":\"2a6ff9ac-2b96-4618-925b-3e69b8265dca\",\"subtype\":\"Figure\",\"type\":\"Plot\"},\"ticker\":{\"id\":\"4cc5aec6-a8f8-4d6f-8fb2-ac2407497730\",\"type\":\"BasicTicker\"}},\"id\":\"cb3e9e6c-66ae-4256-8062-7613eb88c642\",\"type\":\"LinearAxis\"},{\"attributes\":{},\"id\":\"4cc5aec6-a8f8-4d6f-8fb2-ac2407497730\",\"type\":\"BasicTicker\"},{\"attributes\":{\"dimension\":1,\"plot\":{\"id\":\"2a6ff9ac-2b96-4618-925b-3e69b8265dca\",\"subtype\":\"Figure\",\"type\":\"Plot\"},\"ticker\":{\"id\":\"4cc5aec6-a8f8-4d6f-8fb2-ac2407497730\",\"type\":\"BasicTicker\"}},\"id\":\"bdaff0d7-2a2b-486a-a4e6-5094662c732d\",\"type\":\"Grid\"},{\"attributes\":{\"fill_alpha\":{\"value\":0.1},\"fill_color\":{\"value\":\"#1f77b4\"},\"line_alpha\":{\"value\":0.1},\"line_color\":{\"value\":\"#1f77b4\"},\"x\":{\"field\":\"max_depth\"},\"y\":{\"field\":\"FinalObjectiveValue\"}},\"id\":\"c7b72994-936e-43f7-b6f2-f782e2dea3ea\",\"type\":\"Circle\"},{\"attributes\":{\"below\":[{\"id\":\"cf065e6b-47f6-4947-9267-89f87ef7d0b6\",\"type\":\"LinearAxis\"}],\"left\":[{\"id\":\"657f0c19-7d34-42f4-8a93-319e81acadf5\",\"type\":\"LinearAxis\"}],\"plot_height\":500,\"plot_width\":500,\"renderers\":[{\"id\":\"cf065e6b-47f6-4947-9267-89f87ef7d0b6\",\"type\":\"LinearAxis\"},{\"id\":\"1d130bda-a311-44de-af21-3400bd047910\",\"type\":\"Grid\"},{\"id\":\"657f0c19-7d34-42f4-8a93-319e81acadf5\",\"type\":\"LinearAxis\"},{\"id\":\"1d6e1156-c7a5-45ec-af9b-af9268f2617a\",\"type\":\"Grid\"},{\"id\":\"51f35259-fcde-426b-b840-f5cec2e78915\",\"type\":\"GlyphRenderer\"}],\"title\":{\"id\":\"8387b954-cb00-430f-ae31-42ce8653b76a\",\"type\":\"Title\"},\"toolbar\":{\"id\":\"deec072d-fed1-4caa-afde-355562e82864\",\"type\":\"Toolbar\"},\"x_range\":{\"id\":\"e0a01403-f101-41e4-8a94-817a92120ada\",\"type\":\"DataRange1d\"},\"x_scale\":{\"id\":\"793d070a-a1ea-4de9-a512-8590f5271d25\",\"type\":\"LinearScale\"},\"y_range\":{\"id\":\"0bbef874-b9a9-48c1-9177-4ae645c894b3\",\"type\":\"DataRange1d\"},\"y_scale\":{\"id\":\"1bcb8e65-8c96-422f-9f37-336be0c30844\",\"type\":\"LinearScale\"}},\"id\":\"3c5ee954-e822-4d29-9117-c9c0f3f98072\",\"subtype\":\"Figure\",\"type\":\"Plot\"},{\"attributes\":{\"fill_color\":{\"value\":\"#1f77b4\"},\"line_color\":{\"value\":\"#1f77b4\"},\"x\":{\"field\":\"min_child_weight\"},\"y\":{\"field\":\"FinalObjectiveValue\"}},\"id\":\"221e4538-f5f6-40df-9cf7-5407a61d2d88\",\"type\":\"Circle\"},{\"attributes\":{\"callback\":null},\"id\":\"8dd99fd6-d347-4d1e-9705-3efaffe4981a\",\"type\":\"DataRange1d\"},{\"attributes\":{\"callback\":null,\"data\":{\"FinalObjectiveValue\":{\"__ndarray__\":\"AAAAgNqa6j8AAACgB5PqPwAAAOBQhuo/AAAAoK916j8AAAAA7GrqPwAAAED9Z+o/AAAAwBJk6j8AAADALl/qPwAAAODZV+o/AAAAoORV6j8AAABAbVTqPwAAAKBzU+o/AAAA4GU/6j8AAACAQi/qPwAAAADIF+o/AAAAQIH36T8AAABAue3pPwAAAKAt2ek/AAAAAJps6T8AAADAxW7oPw==\",\"dtype\":\"float64\",\"shape\":[20]},\"TrainingElapsedTimeSeconds\":{\"__ndarray__\":\"AAAAAABAVkAAAAAAAEBWQAAAAAAAQFZAAAAAAADAVkAAAAAAAEBXQAAAAAAAAFdAAAAAAAAAVkAAAAAAAABYQAAAAAAAAFdAAAAAAADAVkAAAAAAAABXQAAAAAAAgFZAAAAAAADAV0AAAAAAAIBXQAAAAAAAwFZAAAAAAABAV0AAAAAAAEBVQAAAAAAAwFZAAAAAAAAAV0AAAAAAAIBWQA==\",\"dtype\":\"float64\",\"shape\":[20]},\"TrainingEndTime\":{\"__ndarray__\":\"AID+nrhZdkIAALUIuVl2QgCAY6O4WXZCAIBXpbhZdkIAgJtwuFl2QgAAyzS4WXZCAACXDblZdkIAgF4MuVl2QgAAXXC4WXZCAICc2LhZdkIAgLTUuFl2QgCArW24WXZCAADn1rhZdkIAADgIuVl2QgAASDW4WXZCAAAlo7hZdkIAAOBvuFl2QgAApzq4WXZCAIB0OLhZdkIAgCXXuFl2Qg==\",\"dtype\":\"float64\",\"shape\":[20]},\"TrainingJobName\":[\"xgboost-180902-1816-009-28b39d1e\",\"xgboost-180902-1816-017-19fc219a\",\"xgboost-180902-1816-010-c62b0582\",\"xgboost-180902-1816-011-bc946814\",\"xgboost-180902-1816-008-b4a6051e\",\"xgboost-180902-1816-001-02ab5df3\",\"xgboost-180902-1816-020-ecd37a5f\",\"xgboost-180902-1816-019-baaf1a14\",\"xgboost-180902-1816-006-1f1a0acc\",\"xgboost-180902-1816-016-a38d3fca\",\"xgboost-180902-1816-013-1831df2b\",\"xgboost-180902-1816-005-01378329\",\"xgboost-180902-1816-015-7c49272a\",\"xgboost-180902-1816-018-b515eb8e\",\"xgboost-180902-1816-002-3a4253c0\",\"xgboost-180902-1816-012-f570556f\",\"xgboost-180902-1816-007-ff62d6c5\",\"xgboost-180902-1816-004-dbbea0ae\",\"xgboost-180902-1816-003-3ff114a4\",\"xgboost-180902-1816-014-a0b750ad\"],\"TrainingJobStatus\":[\"Completed\",\"Completed\",\"Completed\",\"Completed\",\"Completed\",\"Completed\",\"Completed\",\"Completed\",\"Completed\",\"Completed\",\"Completed\",\"Completed\",\"Completed\",\"Completed\",\"Completed\",\"Completed\",\"Completed\",\"Completed\",\"Completed\",\"Completed\"],\"TrainingStartTime\":{\"__ndarray__\":\"AABEibhZdkIAgPryuFl2QgAAqY24WXZCAAAgj7hZdkIAAOdZuFl2QgAAVR64WXZCAAAb+LhZdkIAgO70uFl2QgAA51m4WXZCAABlwrhZdkIAgD6+uFl2QgCAtFe4WXZCAIC1v7hZdkIAAEXxuFl2QgCAEB+4WXZCAIBwjLhZdkIAgB9buFl2QgCAbyS4WXZCAID+IbhZdkIAgCzBuFl2Qg==\",\"dtype\":\"float64\",\"shape\":[20]},\"alpha\":{\"__ndarray__\":\"WJxIpiNx7D9YnEimozXsP1icSKajce4/WJxIpiPd5z9YnEimo6DjPwbkKSG4rOc/tCsLnIx84j9YnEimYxDlP1icSKajTOE/WJxIpqNs7T8AAAAAAADwP1icSKYj4eo/czz+0p5s7T+wOJFMR+DfP5xAXUALrt8/WJxIpmPK7z9YnEimowLoP9ylHcNsoeo/IIiGzt1gpj+4c56DY1nsPw==\",\"dtype\":\"float64\",\"shape\":[20]},\"eta\":{\"__ndarray__\":\"NNf47UW7tT8ASIt1JeigPwCQFutKUJo/muEkD7/pqz8BkBbrSrCYP0DFdKWU/J0/muEkD7+9rj9nrvHbi4qgPwGQFutKMJE/f/rSX95IkT801/jtRVO+P6C+9Jc3Drk/ZcKHdLNgij+n40+W1VKiP4exE5TJdbc/mj1fVKxbuj9QX/rLGxHEP9wgLuJZIMY/Vb1fEuGOwz8GZu2wbwyTPg==\",\"dtype\":\"float64\",\"shape\":[20]},\"index\":[11,3,10,9,12,19,0,1,14,4,7,15,5,2,18,8,13,16,17,6],\"max_depth\":{\"__ndarray__\":\"AAAAAAAAAEAAAAAAAAAIQAAAAAAAAAhAAAAAAAAACEAAAAAAAAAIQAAAAAAAAAhAAAAAAAAAAEAAAAAAAAAYQAAAAAAAAAhAAAAAAAAAAEAAAAAAAAAAQAAAAAAAAAhAAAAAAAAAAEAAAAAAAAAcQAAAAAAAABBAAAAAAAAAEEAAAAAAAAAAQAAAAAAAABxAAAAAAAAAHEAAAAAAAAAAQA==\",\"dtype\":\"float64\",\"shape\":[20]},\"min_child_weight\":{\"__ndarray__\":\"JhD/HiwVFkCr+1DX6joXQAAAAAAAACBAJhD/HixcHUAmEP8eDHAdQOgFKHsbRx9ADCBN6a8ECEBU96GudcwAQCYQ/x4MjxNAJhD/HgxXEkAmEP8ebIgdQFT3oa6VjAtAFV0mfgBXEkBU96GuFdwOQALl+HFZNgNAJhD/HpxaG0BKIP49GOMPQLhv8PfdzhxAxACM1np+HUB/fA18hHQXQA==\",\"dtype\":\"float64\",\"shape\":[20]},\"subsample\":{\"__ndarray__\":\"BNtSWCJI7D/2raC6MoXkPwTbUlgihew/nnTs8buZ7z+edOzxuwTvP+Qq4O+QAew/a0G5vgjL7T9dFAchGQPlPwXbUlgiI+8/BdtSWCJj7z/Spx8l727sPwXbUlgiKO0/iT3i85kh7z9rQbm+iCzvP17OPzhxX+o/BdtSWKIA7j9dFAchmSXnP/DJUlK+N+M/YglEshHH5j9JPkVaTFjuPw==\",\"dtype\":\"float64\",\"shape\":[20]}},\"selected\":{\"id\":\"c40cd0bd-6600-460d-831f-fe2c74f15714\",\"type\":\"Selection\"},\"selection_policy\":{\"id\":\"e6150a06-7b14-4b32-a145-246e6c9f97e7\",\"type\":\"UnionRenderers\"}},\"id\":\"196707d7-def7-4ef0-bed7-7c9eafd44db2\",\"type\":\"ColumnDataSource\"},{\"attributes\":{},\"id\":\"cfb5cbe7-57a6-4713-93a6-5339ce3b315c\",\"type\":\"PanTool\"},{\"attributes\":{},\"id\":\"ddd78da0-d8bd-4f0c-ad80-f5c233aef1e6\",\"type\":\"CrosshairTool\"},{\"attributes\":{},\"id\":\"c8df0f62-6e2f-4d8a-a174-00d9a54be7f3\",\"type\":\"WheelZoomTool\"},{\"attributes\":{},\"id\":\"3bb77252-6eda-4d5f-9a5f-645fa3bb8a70\",\"type\":\"ZoomInTool\"},{\"attributes\":{},\"id\":\"aac4b0be-ad8c-40c2-8e4e-e1d781bb9397\",\"type\":\"ZoomOutTool\"},{\"attributes\":{},\"id\":\"4d40e48d-98f4-4d09-8541-6f96c5de3feb\",\"type\":\"UndoTool\"},{\"attributes\":{},\"id\":\"edc3a8c9-14f2-44f9-b2e1-4ac55c58c43a\",\"type\":\"ResetTool\"},{\"attributes\":{\"active_drag\":\"auto\",\"active_inspect\":\"auto\",\"active_scroll\":\"auto\",\"active_tap\":\"auto\",\"tools\":[{\"id\":\"d00b8d07-6de1-43c1-aee3-dbbd7487b0a6\",\"type\":\"HoverTool\"},{\"id\":\"d577bf5a-70e5-4fa0-a35c-46c0eac811a8\",\"type\":\"PanTool\"},{\"id\":\"610f1077-fafe-456d-8aa5-bf48b5f49151\",\"type\":\"CrosshairTool\"},{\"id\":\"34b37b1f-1424-47cc-a21c-1af30db28609\",\"type\":\"WheelZoomTool\"},{\"id\":\"7755b97a-1678-470b-8d15-3021bde79cea\",\"type\":\"ZoomInTool\"},{\"id\":\"4d7eca38-7125-413a-bec8-581eb0e3d913\",\"type\":\"ZoomOutTool\"},{\"id\":\"4adfdb54-740c-49d7-82a8-a7c4e8e7db1f\",\"type\":\"UndoTool\"},{\"id\":\"952427a1-1fcc-4acd-8362-9bbb305a006d\",\"type\":\"ResetTool\"}]},\"id\":\"245315e8-f782-46b5-941c-665d1aecea2b\",\"type\":\"Toolbar\"},{\"attributes\":{\"below\":[{\"id\":\"6f986b86-5725-4010-ae8d-78bbb46da4f4\",\"type\":\"LinearAxis\"}],\"left\":[{\"id\":\"2265bf78-2b7b-417e-969f-f1f51954701a\",\"type\":\"LinearAxis\"}],\"plot_height\":500,\"plot_width\":500,\"renderers\":[{\"id\":\"6f986b86-5725-4010-ae8d-78bbb46da4f4\",\"type\":\"LinearAxis\"},{\"id\":\"7d72ada3-af65-4570-9461-d6e822cd24c2\",\"type\":\"Grid\"},{\"id\":\"2265bf78-2b7b-417e-969f-f1f51954701a\",\"type\":\"LinearAxis\"},{\"id\":\"9bfe6795-fef9-446f-a559-8b7d2e7de519\",\"type\":\"Grid\"},{\"id\":\"8da71e11-ac72-4ffe-b6cb-a9a2d051765e\",\"type\":\"GlyphRenderer\"}],\"title\":{\"id\":\"21daea65-ed5c-46cc-b1a2-1dcfe5462f9d\",\"type\":\"Title\"},\"toolbar\":{\"id\":\"245315e8-f782-46b5-941c-665d1aecea2b\",\"type\":\"Toolbar\"},\"x_range\":{\"id\":\"a112bc71-c2ec-4322-ad52-a0c3e5115c09\",\"type\":\"DataRange1d\"},\"x_scale\":{\"id\":\"10bfd4f0-17e0-49fa-8a27-c1a28e466af0\",\"type\":\"LinearScale\"},\"y_range\":{\"id\":\"8dd99fd6-d347-4d1e-9705-3efaffe4981a\",\"type\":\"DataRange1d\"},\"y_scale\":{\"id\":\"0e4a5e00-77d2-4987-9f44-319005a25ef1\",\"type\":\"LinearScale\"}},\"id\":\"c8b3c87b-f110-41b9-81b8-a83a2ceab6ea\",\"subtype\":\"Figure\",\"type\":\"Plot\"},{\"attributes\":{\"callback\":null,\"data\":{\"FinalObjectiveValue\":{\"__ndarray__\":\"AAAAgNqa6j8AAACgB5PqPwAAAOBQhuo/AAAAoK916j8AAAAA7GrqPwAAAED9Z+o/AAAAwBJk6j8AAADALl/qPwAAAODZV+o/AAAAoORV6j8AAABAbVTqPwAAAKBzU+o/AAAA4GU/6j8AAACAQi/qPwAAAADIF+o/AAAAQIH36T8AAABAue3pPwAAAKAt2ek/AAAAAJps6T8AAADAxW7oPw==\",\"dtype\":\"float64\",\"shape\":[20]},\"TrainingElapsedTimeSeconds\":{\"__ndarray__\":\"AAAAAABAVkAAAAAAAEBWQAAAAAAAQFZAAAAAAADAVkAAAAAAAEBXQAAAAAAAAFdAAAAAAAAAVkAAAAAAAABYQAAAAAAAAFdAAAAAAADAVkAAAAAAAABXQAAAAAAAgFZAAAAAAADAV0AAAAAAAIBXQAAAAAAAwFZAAAAAAABAV0AAAAAAAEBVQAAAAAAAwFZAAAAAAAAAV0AAAAAAAIBWQA==\",\"dtype\":\"float64\",\"shape\":[20]},\"TrainingEndTime\":{\"__ndarray__\":\"AID+nrhZdkIAALUIuVl2QgCAY6O4WXZCAIBXpbhZdkIAgJtwuFl2QgAAyzS4WXZCAACXDblZdkIAgF4MuVl2QgAAXXC4WXZCAICc2LhZdkIAgLTUuFl2QgCArW24WXZCAADn1rhZdkIAADgIuVl2QgAASDW4WXZCAAAlo7hZdkIAAOBvuFl2QgAApzq4WXZCAIB0OLhZdkIAgCXXuFl2Qg==\",\"dtype\":\"float64\",\"shape\":[20]},\"TrainingJobName\":[\"xgboost-180902-1816-009-28b39d1e\",\"xgboost-180902-1816-017-19fc219a\",\"xgboost-180902-1816-010-c62b0582\",\"xgboost-180902-1816-011-bc946814\",\"xgboost-180902-1816-008-b4a6051e\",\"xgboost-180902-1816-001-02ab5df3\",\"xgboost-180902-1816-020-ecd37a5f\",\"xgboost-180902-1816-019-baaf1a14\",\"xgboost-180902-1816-006-1f1a0acc\",\"xgboost-180902-1816-016-a38d3fca\",\"xgboost-180902-1816-013-1831df2b\",\"xgboost-180902-1816-005-01378329\",\"xgboost-180902-1816-015-7c49272a\",\"xgboost-180902-1816-018-b515eb8e\",\"xgboost-180902-1816-002-3a4253c0\",\"xgboost-180902-1816-012-f570556f\",\"xgboost-180902-1816-007-ff62d6c5\",\"xgboost-180902-1816-004-dbbea0ae\",\"xgboost-180902-1816-003-3ff114a4\",\"xgboost-180902-1816-014-a0b750ad\"],\"TrainingJobStatus\":[\"Completed\",\"Completed\",\"Completed\",\"Completed\",\"Completed\",\"Completed\",\"Completed\",\"Completed\",\"Completed\",\"Completed\",\"Completed\",\"Completed\",\"Completed\",\"Completed\",\"Completed\",\"Completed\",\"Completed\",\"Completed\",\"Completed\",\"Completed\"],\"TrainingStartTime\":{\"__ndarray__\":\"AABEibhZdkIAgPryuFl2QgAAqY24WXZCAAAgj7hZdkIAAOdZuFl2QgAAVR64WXZCAAAb+LhZdkIAgO70uFl2QgAA51m4WXZCAABlwrhZdkIAgD6+uFl2QgCAtFe4WXZCAIC1v7hZdkIAAEXxuFl2QgCAEB+4WXZCAIBwjLhZdkIAgB9buFl2QgCAbyS4WXZCAID+IbhZdkIAgCzBuFl2Qg==\",\"dtype\":\"float64\",\"shape\":[20]},\"alpha\":{\"__ndarray__\":\"WJxIpiNx7D9YnEimozXsP1icSKajce4/WJxIpiPd5z9YnEimo6DjPwbkKSG4rOc/tCsLnIx84j9YnEimYxDlP1icSKajTOE/WJxIpqNs7T8AAAAAAADwP1icSKYj4eo/czz+0p5s7T+wOJFMR+DfP5xAXUALrt8/WJxIpmPK7z9YnEimowLoP9ylHcNsoeo/IIiGzt1gpj+4c56DY1nsPw==\",\"dtype\":\"float64\",\"shape\":[20]},\"eta\":{\"__ndarray__\":\"NNf47UW7tT8ASIt1JeigPwCQFutKUJo/muEkD7/pqz8BkBbrSrCYP0DFdKWU/J0/muEkD7+9rj9nrvHbi4qgPwGQFutKMJE/f/rSX95IkT801/jtRVO+P6C+9Jc3Drk/ZcKHdLNgij+n40+W1VKiP4exE5TJdbc/mj1fVKxbuj9QX/rLGxHEP9wgLuJZIMY/Vb1fEuGOwz8GZu2wbwyTPg==\",\"dtype\":\"float64\",\"shape\":[20]},\"index\":[11,3,10,9,12,19,0,1,14,4,7,15,5,2,18,8,13,16,17,6],\"max_depth\":{\"__ndarray__\":\"AAAAAAAAAEAAAAAAAAAIQAAAAAAAAAhAAAAAAAAACEAAAAAAAAAIQAAAAAAAAAhAAAAAAAAAAEAAAAAAAAAYQAAAAAAAAAhAAAAAAAAAAEAAAAAAAAAAQAAAAAAAAAhAAAAAAAAAAEAAAAAAAAAcQAAAAAAAABBAAAAAAAAAEEAAAAAAAAAAQAAAAAAAABxAAAAAAAAAHEAAAAAAAAAAQA==\",\"dtype\":\"float64\",\"shape\":[20]},\"min_child_weight\":{\"__ndarray__\":\"JhD/HiwVFkCr+1DX6joXQAAAAAAAACBAJhD/HixcHUAmEP8eDHAdQOgFKHsbRx9ADCBN6a8ECEBU96GudcwAQCYQ/x4MjxNAJhD/HgxXEkAmEP8ebIgdQFT3oa6VjAtAFV0mfgBXEkBU96GuFdwOQALl+HFZNgNAJhD/HpxaG0BKIP49GOMPQLhv8PfdzhxAxACM1np+HUB/fA18hHQXQA==\",\"dtype\":\"float64\",\"shape\":[20]},\"subsample\":{\"__ndarray__\":\"BNtSWCJI7D/2raC6MoXkPwTbUlgihew/nnTs8buZ7z+edOzxuwTvP+Qq4O+QAew/a0G5vgjL7T9dFAchGQPlPwXbUlgiI+8/BdtSWCJj7z/Spx8l727sPwXbUlgiKO0/iT3i85kh7z9rQbm+iCzvP17OPzhxX+o/BdtSWKIA7j9dFAchmSXnP/DJUlK+N+M/YglEshHH5j9JPkVaTFjuPw==\",\"dtype\":\"float64\",\"shape\":[20]}},\"selected\":{\"id\":\"8308db7a-6446-4edd-a2ac-a5f0bbb28d3b\",\"type\":\"Selection\"},\"selection_policy\":{\"id\":\"2c7553f1-6b75-41b8-8465-1fc1b203ddd3\",\"type\":\"UnionRenderers\"}},\"id\":\"283508c4-1189-4e21-a1a9-2db0fb5f9c01\",\"type\":\"ColumnDataSource\"},{\"attributes\":{},\"id\":\"10bfd4f0-17e0-49fa-8a27-c1a28e466af0\",\"type\":\"LinearScale\"},{\"attributes\":{\"plot\":null,\"text\":\"Objective vs alpha\"},\"id\":\"21daea65-ed5c-46cc-b1a2-1dcfe5462f9d\",\"type\":\"Title\"},{\"attributes\":{\"callback\":null,\"data\":{\"FinalObjectiveValue\":{\"__ndarray__\":\"AAAAgNqa6j8AAACgB5PqPwAAAOBQhuo/AAAAoK916j8AAAAA7GrqPwAAAED9Z+o/AAAAwBJk6j8AAADALl/qPwAAAODZV+o/AAAAoORV6j8AAABAbVTqPwAAAKBzU+o/AAAA4GU/6j8AAACAQi/qPwAAAADIF+o/AAAAQIH36T8AAABAue3pPwAAAKAt2ek/AAAAAJps6T8AAADAxW7oPw==\",\"dtype\":\"float64\",\"shape\":[20]},\"TrainingElapsedTimeSeconds\":{\"__ndarray__\":\"AAAAAABAVkAAAAAAAEBWQAAAAAAAQFZAAAAAAADAVkAAAAAAAEBXQAAAAAAAAFdAAAAAAAAAVkAAAAAAAABYQAAAAAAAAFdAAAAAAADAVkAAAAAAAABXQAAAAAAAgFZAAAAAAADAV0AAAAAAAIBXQAAAAAAAwFZAAAAAAABAV0AAAAAAAEBVQAAAAAAAwFZAAAAAAAAAV0AAAAAAAIBWQA==\",\"dtype\":\"float64\",\"shape\":[20]},\"TrainingEndTime\":{\"__ndarray__\":\"AID+nrhZdkIAALUIuVl2QgCAY6O4WXZCAIBXpbhZdkIAgJtwuFl2QgAAyzS4WXZCAACXDblZdkIAgF4MuVl2QgAAXXC4WXZCAICc2LhZdkIAgLTUuFl2QgCArW24WXZCAADn1rhZdkIAADgIuVl2QgAASDW4WXZCAAAlo7hZdkIAAOBvuFl2QgAApzq4WXZCAIB0OLhZdkIAgCXXuFl2Qg==\",\"dtype\":\"float64\",\"shape\":[20]},\"TrainingJobName\":[\"xgboost-180902-1816-009-28b39d1e\",\"xgboost-180902-1816-017-19fc219a\",\"xgboost-180902-1816-010-c62b0582\",\"xgboost-180902-1816-011-bc946814\",\"xgboost-180902-1816-008-b4a6051e\",\"xgboost-180902-1816-001-02ab5df3\",\"xgboost-180902-1816-020-ecd37a5f\",\"xgboost-180902-1816-019-baaf1a14\",\"xgboost-180902-1816-006-1f1a0acc\",\"xgboost-180902-1816-016-a38d3fca\",\"xgboost-180902-1816-013-1831df2b\",\"xgboost-180902-1816-005-01378329\",\"xgboost-180902-1816-015-7c49272a\",\"xgboost-180902-1816-018-b515eb8e\",\"xgboost-180902-1816-002-3a4253c0\",\"xgboost-180902-1816-012-f570556f\",\"xgboost-180902-1816-007-ff62d6c5\",\"xgboost-180902-1816-004-dbbea0ae\",\"xgboost-180902-1816-003-3ff114a4\",\"xgboost-180902-1816-014-a0b750ad\"],\"TrainingJobStatus\":[\"Completed\",\"Completed\",\"Completed\",\"Completed\",\"Completed\",\"Completed\",\"Completed\",\"Completed\",\"Completed\",\"Completed\",\"Completed\",\"Completed\",\"Completed\",\"Completed\",\"Completed\",\"Completed\",\"Completed\",\"Completed\",\"Completed\",\"Completed\"],\"TrainingStartTime\":{\"__ndarray__\":\"AABEibhZdkIAgPryuFl2QgAAqY24WXZCAAAgj7hZdkIAAOdZuFl2QgAAVR64WXZCAAAb+LhZdkIAgO70uFl2QgAA51m4WXZCAABlwrhZdkIAgD6+uFl2QgCAtFe4WXZCAIC1v7hZdkIAAEXxuFl2QgCAEB+4WXZCAIBwjLhZdkIAgB9buFl2QgCAbyS4WXZCAID+IbhZdkIAgCzBuFl2Qg==\",\"dtype\":\"float64\",\"shape\":[20]},\"alpha\":{\"__ndarray__\":\"WJxIpiNx7D9YnEimozXsP1icSKajce4/WJxIpiPd5z9YnEimo6DjPwbkKSG4rOc/tCsLnIx84j9YnEimYxDlP1icSKajTOE/WJxIpqNs7T8AAAAAAADwP1icSKYj4eo/czz+0p5s7T+wOJFMR+DfP5xAXUALrt8/WJxIpmPK7z9YnEimowLoP9ylHcNsoeo/IIiGzt1gpj+4c56DY1nsPw==\",\"dtype\":\"float64\",\"shape\":[20]},\"eta\":{\"__ndarray__\":\"NNf47UW7tT8ASIt1JeigPwCQFutKUJo/muEkD7/pqz8BkBbrSrCYP0DFdKWU/J0/muEkD7+9rj9nrvHbi4qgPwGQFutKMJE/f/rSX95IkT801/jtRVO+P6C+9Jc3Drk/ZcKHdLNgij+n40+W1VKiP4exE5TJdbc/mj1fVKxbuj9QX/rLGxHEP9wgLuJZIMY/Vb1fEuGOwz8GZu2wbwyTPg==\",\"dtype\":\"float64\",\"shape\":[20]},\"index\":[11,3,10,9,12,19,0,1,14,4,7,15,5,2,18,8,13,16,17,6],\"max_depth\":{\"__ndarray__\":\"AAAAAAAAAEAAAAAAAAAIQAAAAAAAAAhAAAAAAAAACEAAAAAAAAAIQAAAAAAAAAhAAAAAAAAAAEAAAAAAAAAYQAAAAAAAAAhAAAAAAAAAAEAAAAAAAAAAQAAAAAAAAAhAAAAAAAAAAEAAAAAAAAAcQAAAAAAAABBAAAAAAAAAEEAAAAAAAAAAQAAAAAAAABxAAAAAAAAAHEAAAAAAAAAAQA==\",\"dtype\":\"float64\",\"shape\":[20]},\"min_child_weight\":{\"__ndarray__\":\"JhD/HiwVFkCr+1DX6joXQAAAAAAAACBAJhD/HixcHUAmEP8eDHAdQOgFKHsbRx9ADCBN6a8ECEBU96GudcwAQCYQ/x4MjxNAJhD/HgxXEkAmEP8ebIgdQFT3oa6VjAtAFV0mfgBXEkBU96GuFdwOQALl+HFZNgNAJhD/HpxaG0BKIP49GOMPQLhv8PfdzhxAxACM1np+HUB/fA18hHQXQA==\",\"dtype\":\"float64\",\"shape\":[20]},\"subsample\":{\"__ndarray__\":\"BNtSWCJI7D/2raC6MoXkPwTbUlgihew/nnTs8buZ7z+edOzxuwTvP+Qq4O+QAew/a0G5vgjL7T9dFAchGQPlPwXbUlgiI+8/BdtSWCJj7z/Spx8l727sPwXbUlgiKO0/iT3i85kh7z9rQbm+iCzvP17OPzhxX+o/BdtSWKIA7j9dFAchmSXnP/DJUlK+N+M/YglEshHH5j9JPkVaTFjuPw==\",\"dtype\":\"float64\",\"shape\":[20]}},\"selected\":{\"id\":\"50f87173-9dd0-40ee-ac84-067e5f0edfef\",\"type\":\"Selection\"},\"selection_policy\":{\"id\":\"26214139-19fc-4346-bb77-baf9ba6a1b89\",\"type\":\"UnionRenderers\"}},\"id\":\"390c50a9-6287-4873-ae9e-66d2312da0bd\",\"type\":\"ColumnDataSource\"},{\"attributes\":{\"callback\":null},\"id\":\"a112bc71-c2ec-4322-ad52-a0c3e5115c09\",\"type\":\"DataRange1d\"},{\"attributes\":{\"plot\":null,\"text\":\"Objective vs subsample\"},\"id\":\"8387b954-cb00-430f-ae31-42ce8653b76a\",\"type\":\"Title\"},{\"attributes\":{\"callback\":null,\"renderers\":\"auto\",\"tooltips\":[[\"FinalObjectiveValue\",\"@FinalObjectiveValue\"],[\"TrainingJobName\",\"@TrainingJobName\"],[\"max_depth\",\"@{max_depth}\"],[\"eta\",\"@{eta}\"],[\"min_child_weight\",\"@{min_child_weight}\"],[\"alpha\",\"@{alpha}\"],[\"subsample\",\"@{subsample}\"]]},\"id\":\"d00b8d07-6de1-43c1-aee3-dbbd7487b0a6\",\"type\":\"HoverTool\"},{\"attributes\":{\"source\":{\"id\":\"196707d7-def7-4ef0-bed7-7c9eafd44db2\",\"type\":\"ColumnDataSource\"}},\"id\":\"79abd3f6-2381-410d-8f26-a69013157d7d\",\"type\":\"CDSView\"},{\"attributes\":{\"callback\":null},\"id\":\"e0a01403-f101-41e4-8a94-817a92120ada\",\"type\":\"DataRange1d\"},{\"attributes\":{\"data_source\":{\"id\":\"196707d7-def7-4ef0-bed7-7c9eafd44db2\",\"type\":\"ColumnDataSource\"},\"glyph\":{\"id\":\"221e4538-f5f6-40df-9cf7-5407a61d2d88\",\"type\":\"Circle\"},\"hover_glyph\":null,\"muted_glyph\":null,\"nonselection_glyph\":{\"id\":\"0afd8148-5a43-4221-9818-88112e515e9a\",\"type\":\"Circle\"},\"selection_glyph\":null,\"view\":{\"id\":\"79abd3f6-2381-410d-8f26-a69013157d7d\",\"type\":\"CDSView\"}},\"id\":\"187bed0b-a5c8-44d5-a825-66898c89f6c8\",\"type\":\"GlyphRenderer\"},{\"attributes\":{\"fill_alpha\":{\"value\":0.1},\"fill_color\":{\"value\":\"#1f77b4\"},\"line_alpha\":{\"value\":0.1},\"line_color\":{\"value\":\"#1f77b4\"},\"x\":{\"field\":\"min_child_weight\"},\"y\":{\"field\":\"FinalObjectiveValue\"}},\"id\":\"0afd8148-5a43-4221-9818-88112e515e9a\",\"type\":\"Circle\"},{\"attributes\":{\"callback\":null},\"id\":\"0bbef874-b9a9-48c1-9177-4ae645c894b3\",\"type\":\"DataRange1d\"},{\"attributes\":{\"plot\":{\"id\":\"c8b3c87b-f110-41b9-81b8-a83a2ceab6ea\",\"subtype\":\"Figure\",\"type\":\"Plot\"},\"ticker\":{\"id\":\"932e116e-154f-4c64-831f-ba356c76a819\",\"type\":\"BasicTicker\"}},\"id\":\"7d72ada3-af65-4570-9461-d6e822cd24c2\",\"type\":\"Grid\"},{\"attributes\":{\"axis_label\":\"alpha\",\"formatter\":{\"id\":\"46903341-eea8-473b-804d-fd434a3f4ff4\",\"type\":\"BasicTickFormatter\"},\"plot\":{\"id\":\"c8b3c87b-f110-41b9-81b8-a83a2ceab6ea\",\"subtype\":\"Figure\",\"type\":\"Plot\"},\"ticker\":{\"id\":\"932e116e-154f-4c64-831f-ba356c76a819\",\"type\":\"BasicTicker\"}},\"id\":\"6f986b86-5725-4010-ae8d-78bbb46da4f4\",\"type\":\"LinearAxis\"},{\"attributes\":{},\"id\":\"932e116e-154f-4c64-831f-ba356c76a819\",\"type\":\"BasicTicker\"},{\"attributes\":{\"axis_label\":\"validation:auc\",\"formatter\":{\"id\":\"7582b193-9d45-4bf4-834d-be2892fa62dc\",\"type\":\"BasicTickFormatter\"},\"plot\":{\"id\":\"c8b3c87b-f110-41b9-81b8-a83a2ceab6ea\",\"subtype\":\"Figure\",\"type\":\"Plot\"},\"ticker\":{\"id\":\"dc99ae24-9f95-436d-ac1f-f5f607045c70\",\"type\":\"BasicTicker\"}},\"id\":\"2265bf78-2b7b-417e-969f-f1f51954701a\",\"type\":\"LinearAxis\"},{\"attributes\":{},\"id\":\"dc99ae24-9f95-436d-ac1f-f5f607045c70\",\"type\":\"BasicTicker\"},{\"attributes\":{\"dimension\":1,\"plot\":{\"id\":\"c8b3c87b-f110-41b9-81b8-a83a2ceab6ea\",\"subtype\":\"Figure\",\"type\":\"Plot\"},\"ticker\":{\"id\":\"dc99ae24-9f95-436d-ac1f-f5f607045c70\",\"type\":\"BasicTicker\"}},\"id\":\"9bfe6795-fef9-446f-a559-8b7d2e7de519\",\"type\":\"Grid\"}],\"root_ids\":[\"9e3cc850-c1b9-47c8-9a2d-2f5883441422\"]},\"title\":\"Bokeh Application\",\"version\":\"0.12.16\"}};\n",
       "  var render_items = [{\"docid\":\"604beed3-8bcd-471d-b166-cfeb9e8dc99c\",\"elementid\":\"8a239040-15f9-4eed-a326-7a7774bf7419\",\"modelid\":\"9e3cc850-c1b9-47c8-9a2d-2f5883441422\"}];\n",
       "  root.Bokeh.embed.embed_items_notebook(docs_json, render_items);\n",
       "\n",
       "  }\n",
       "  if (root.Bokeh !== undefined) {\n",
       "    embed_document(root);\n",
       "  } else {\n",
       "    var attempts = 0;\n",
       "    var timer = setInterval(function(root) {\n",
       "      if (root.Bokeh !== undefined) {\n",
       "        embed_document(root);\n",
       "        clearInterval(timer);\n",
       "      }\n",
       "      attempts++;\n",
       "      if (attempts > 100) {\n",
       "        console.log(\"Bokeh: ERROR: Unable to run BokehJS code because BokehJS library is missing\")\n",
       "        clearInterval(timer);\n",
       "      }\n",
       "    }, 10, root)\n",
       "  }\n",
       "})(window);"
      ],
      "application/vnd.bokehjs_exec.v0+json": ""
     },
     "metadata": {
      "application/vnd.bokehjs_exec.v0+json": {
       "id": "9e3cc850-c1b9-47c8-9a2d-2f5883441422"
      }
     },
     "output_type": "display_data"
    }
   ],
   "source": [
    "import bokeh\n",
    "import bokeh.io\n",
    "bokeh.io.output_notebook()\n",
    "from bokeh.plotting import figure, show\n",
    "from bokeh.models import HoverTool\n",
    "\n",
    "class HoverHelper():\n",
    "\n",
    "    def __init__(self, tuning_analytics):\n",
    "        self.tuner = tuning_analytics\n",
    "\n",
    "    def hovertool(self):\n",
    "        tooltips = [\n",
    "            (\"FinalObjectiveValue\", \"@FinalObjectiveValue\"),\n",
    "            (\"TrainingJobName\", \"@TrainingJobName\"),\n",
    "        ]\n",
    "        for k in self.tuner.tuning_ranges.keys():\n",
    "            tooltips.append( (k, \"@{%s}\" % k) )\n",
    "\n",
    "        ht = HoverTool(tooltips=tooltips)\n",
    "        return ht\n",
    "\n",
    "    def tools(self, standard_tools='pan,crosshair,wheel_zoom,zoom_in,zoom_out,undo,reset'):\n",
    "        return [self.hovertool(), standard_tools]\n",
    "\n",
    "hover = HoverHelper(Tuner)\n",
    "\n",
    "ranges = Tuner.tuning_ranges\n",
    "figures = []\n",
    "for hp_name, hp_range in ranges.items():\n",
    "    categorical_args = {}\n",
    "    if hp_range.get('Values'):\n",
    "        # This is marked as categorical.  Check if all options are actually numbers.\n",
    "        def is_num(x):\n",
    "            try:\n",
    "                float(x)\n",
    "                return 1\n",
    "            except:\n",
    "                return 0           \n",
    "        vals = hp_range['Values']\n",
    "        if sum([is_num(x) for x in vals]) == len(vals):\n",
    "            # Bokeh has issues plotting a \"categorical\" range that's actually numeric, so plot as numeric\n",
    "            print(\"Hyperparameter %s is tuned as categorical, but all values are numeric\" % hp_name)\n",
    "        else:\n",
    "            # Set up extra options for plotting categoricals.  A bit tricky when they're actually numbers.\n",
    "            categorical_args['x_range'] = vals\n",
    "\n",
    "    # Now plot it\n",
    "    p = figure(plot_width=500, plot_height=500, \n",
    "               title=\"Objective vs %s\" % hp_name,\n",
    "               tools=hover.tools(),\n",
    "               x_axis_label=hp_name, y_axis_label=objective_name,\n",
    "               **categorical_args)\n",
    "    p.circle(source=df, x=hp_name, y='FinalObjectiveValue')\n",
    "    figures.append(p)\n",
    "show(bokeh.layouts.Column(*figures))"
   ]
  },
  {
   "cell_type": "markdown",
   "metadata": {},
   "source": [
    "# Deploy the best model & do prediction:"
   ]
  },
  {
   "cell_type": "code",
   "execution_count": 45,
   "metadata": {},
   "outputs": [],
   "source": [
    "bestModel_location =r'https://s3.amazonaws.com/roohi-ml-sagemaker/indiansDiabetes/model/'+df.iloc[0][3]+'/output/model.tar.gz'"
   ]
  },
  {
   "cell_type": "code",
   "execution_count": 46,
   "metadata": {},
   "outputs": [],
   "source": [
    "bestModel = sagemaker.model.Model (model_data = bestModel_location, \n",
    "                                  image = containers[boto3.Session().region_name],\n",
    "                                  role = role,\n",
    "                                  sagemaker_session = sess)"
   ]
  },
  {
   "cell_type": "code",
   "execution_count": 47,
   "metadata": {},
   "outputs": [
    {
     "name": "stderr",
     "output_type": "stream",
     "text": [
      "INFO:sagemaker:Creating model with name: xgboost-2018-09-02-18-35-54-945\n",
      "INFO:sagemaker:Creating endpoint with name xgboost-indiansDiabetes-Optimized\n"
     ]
    },
    {
     "name": "stdout",
     "output_type": "stream",
     "text": [
      "---------------------------------------------------------------!"
     ]
    }
   ],
   "source": [
    "bestModel.deploy(initial_instance_count = 1,\n",
    "                 instance_type = 'ml.m4.xlarge',\n",
    "                 endpoint_name = 'xgboost-indiansDiabetes-Optimized')"
   ]
  },
  {
   "cell_type": "code",
   "execution_count": 48,
   "metadata": {},
   "outputs": [],
   "source": [
    "predictor_tuned = sagemaker.predictor.RealTimePredictor(endpoint='xgboost-indiansDiabetes-Optimized',\n",
    "                                                        sagemaker_session=sess)"
   ]
  },
  {
   "cell_type": "code",
   "execution_count": 49,
   "metadata": {},
   "outputs": [],
   "source": [
    "# Run Predictions\n",
    "from sagemaker.predictor import csv_serializer, json_deserializer\n",
    "\n",
    "predictor_tuned.content_type = 'text/csv'\n",
    "predictor_tuned.serializer = csv_serializer\n",
    "predictor_tuned.deserializer = None"
   ]
  },
  {
   "cell_type": "code",
   "execution_count": 50,
   "metadata": {},
   "outputs": [
    {
     "name": "stdout",
     "output_type": "stream",
     "text": [
      "(20, 8)\n",
      "(20, 8)\n",
      "(19, 8)\n",
      "(19, 8)\n",
      "(19, 8)\n",
      "(19, 8)\n",
      "(19, 8)\n",
      "(19, 8)\n",
      "(19, 8)\n",
      "(19, 8)\n"
     ]
    }
   ],
   "source": [
    "# For large number of predictions, we can split the input data and Query the prediction service.\n",
    "# array_split is convenient to specify how many splits are needed\n",
    "probability = []\n",
    "for arr in np.array_split(X_test,10):\n",
    "    result = predictor_tuned.predict(arr)\n",
    "    result = result.decode(\"utf-8\")\n",
    "    result = result.split(',')\n",
    "    print (arr.shape)\n",
    "    probability += [float(r) for r in result]\n",
    "    \n",
    "predictions=[0 if p<0.5 else 1 for p in probability]"
   ]
  },
  {
   "cell_type": "markdown",
   "metadata": {},
   "source": [
    "# Evaluation of best model: "
   ]
  },
  {
   "cell_type": "code",
   "execution_count": 51,
   "metadata": {},
   "outputs": [
    {
     "name": "stdout",
     "output_type": "stream",
     "text": [
      "             precision    recall  f1-score   support\n",
      "\n",
      "          0       0.83      0.74      0.78       125\n",
      "          1       0.60      0.72      0.65        67\n",
      "\n",
      "avg / total       0.75      0.73      0.74       192\n",
      "\n"
     ]
    }
   ],
   "source": [
    "report=classification_report(y_test, predictions)\n",
    "print(report)"
   ]
  },
  {
   "cell_type": "code",
   "execution_count": 52,
   "metadata": {},
   "outputs": [
    {
     "name": "stdout",
     "output_type": "stream",
     "text": [
      "Confusion matrix, without normalization\n",
      "[[93 32]\n",
      " [19 48]]\n",
      "Normalized confusion matrix\n",
      "[[0.74 0.26]\n",
      " [0.28 0.72]]\n"
     ]
    },
    {
     "data": {
      "image/png": "[encoded data removed]",
      "text/plain": [
       "<Figure size 432x288 with 2 Axes>"
      ]
     },
     "metadata": {},
     "output_type": "display_data"
    }
   ],
   "source": [
    "# Compute confusion matrix\n",
    "cm = confusion_matrix(y_test, predictions)\n",
    "np.set_printoptions(precision=2)\n",
    "print('Confusion matrix, without normalization')\n",
    "print(cm)\n",
    "\n",
    "# Normalize the confusion matrix by row (i.e by the number of samples in each class)\n",
    "cm_normalized = cm.astype('float') / cm.sum(axis=1)[:, np.newaxis]\n",
    "print('Normalized confusion matrix')\n",
    "print(cm_normalized)\n",
    "plt.figure()\n",
    "plot_confusion_matrix(cm_normalized, names, title='Normalized confusion matrix')\n",
    "\n",
    "plt.show()"
   ]
  },
  {
   "cell_type": "code",
   "execution_count": 56,
   "metadata": {},
   "outputs": [
    {
     "data": {
      "image/png": "[encoded data removed]",
      "text/plain": [
       "<Figure size 432x288 with 1 Axes>"
      ]
     },
     "metadata": {},
     "output_type": "display_data"
    }
   ],
   "source": [
    "# ROC curve & auc:\n",
    "from  sklearn.metrics import precision_recall_curve, roc_curve, roc_auc_score, average_precision_score\n",
    "\n",
    "fpr, tpr, thresholds=roc_curve(np.array(y_test), probability, pos_label=1)\n",
    "roc_auc=roc_auc_score(np.array(y_test), probability)\n",
    "\n",
    "plt.figure()\n",
    "\n",
    "plt.plot(fpr, tpr, color='darkorange', lw=2, label='ROC curve (auc = %0.2f)' % roc_auc)\n",
    "plt.plot([0, 1], [0, 1], color='navy', alpha=0.4, lw=2, linestyle='--')\n",
    "plt.xlim([0.0, 1.0])\n",
    "plt.ylim([0.0, 1.05])\n",
    "plt.xlabel('False Positive Rate')\n",
    "plt.ylabel('True Positive Rate')\n",
    "plt.title('ROC curve')\n",
    "plt.legend(loc=\"lower right\")\n",
    "\n",
    "plt.plot([cm_normalized[0,1]], [cm_normalized[1,1]], 'or')\n",
    "plt.show()"
   ]
  },
  {
   "cell_type": "code",
   "execution_count": 54,
   "metadata": {},
   "outputs": [
    {
     "data": {
      "image/png": "[encoded data removed]",
      "text/plain": [
       "<Figure size 432x288 with 1 Axes>"
      ]
     },
     "metadata": {},
     "output_type": "display_data"
    }
   ],
   "source": [
    "# Precision-Recall trade-off:\n",
    "precision, recall, thresholds=precision_recall_curve(y_test, probability,  pos_label=1)\n",
    "ave_precision=average_precision_score(y_test, probability)\n",
    "\n",
    "plt.step(recall, precision, color='navy')\n",
    "\n",
    "plt.xlabel('Recall')\n",
    "plt.ylabel('Precision')\n",
    "plt.xlim([0, 1.001])\n",
    "plt.ylim([0, 1.02])\n",
    "plt.title('Precision-Recall curve: AP={0:0.2f}'.format(ave_precision))\n",
    "\n",
    "plt.plot(cm_normalized[1,1], cm[1,1]/(cm[1,1]+cm[0,1]), 'ob')\n",
    "plt.show()"
   ]
  },
  {
   "cell_type": "code",
   "execution_count": 55,
   "metadata": {},
   "outputs": [],
   "source": [
    "# boto3.Session().client('sagemaker').delete_endpoint(EndpointName='xgboost-bikeRental-Optimized')"
   ]
  },
  {
   "cell_type": "code",
   "execution_count": null,
   "metadata": {},
   "outputs": [],
   "source": []
  }
 ],
 "metadata": {
  "kernelspec": {
   "display_name": "Python 3",
   "language": "python",
   "name": "python3"
  },
  "language_info": {
   "codemirror_mode": {
    "name": "ipython",
    "version": 3
   },
   "file_extension": ".py",
   "mimetype": "text/x-python",
   "name": "python",
   "nbconvert_exporter": "python",
   "pygments_lexer": "ipython3",
   "version": "3.6.5"
  }
 },
 "nbformat": 4,
 "nbformat_minor": 2
}
