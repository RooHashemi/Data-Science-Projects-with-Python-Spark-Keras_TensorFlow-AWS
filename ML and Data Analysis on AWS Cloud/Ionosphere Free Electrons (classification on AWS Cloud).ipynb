{
 "cells": [
  {
   "cell_type": "markdown",
   "metadata": {},
   "source": [
    "# Problem statement: \n",
    "This radar data was collected by a system in Goose Bay, Labrador. This system consists of a phased array of 16 high-frequency antennas with a total transmitted power on the order of 6.4 kilowatts. The targets were free electrons in the ionosphere. \"Good\" radar returns are those showing evidence of some type of structure in the ionosphere. \"Bad\" returns are those that do not; their signals pass through the ionosphere. \n",
    "\n",
    "Received signals were processed using an autocorrelation function whose arguments are the time of a pulse and the pulse number. There were 17 pulse numbers for the Goose Bay system. Instances in this databse are described by 2 attributes per pulse number, corresponding to the complex values returned by the function resulting from the complex electromagnetic signal.\n",
    "\n",
    "* Dataset is imbalanced. The data has 351 rows and 34 variables.\n",
    "* This is a binary classification task. The classification goal is to predict whether the signals pass through the Ionosphere or not.\n",
    "\n",
    "# Workflow:\n",
    "- Load the dataset\n",
    "- Basic data processing\n",
    "\n",
    "## 1) Local mode training, by using a subset of large dataset\n",
    "\n",
    "## 2) Training on SageMaker Cloud:\n",
    "   - Prepare data for SageMaker cloud training:\n",
    "       - Convert data to .csv and .recordio types\n",
    "       - Upload training and validation datasets to S3 bucket\n",
    "       \n",
    "   - Specify training algorithm Docker Image\n",
    "   - Build the XGBoost model\n",
    "   - Specify training data location and optionally, validation data location\n",
    "   - Train the model on SageMaker cloud\n",
    "   - Deploy the model, and run real-time predictions\n",
    "   - Evaluate the model (by auc score, confusion matrix, f1 score, roc curve, etc.)   \n"
   ]
  },
  {
   "cell_type": "code",
   "execution_count": 1,
   "metadata": {},
   "outputs": [
    {
     "name": "stdout",
     "output_type": "stream",
     "text": [
      "Solving environment: done\n",
      "\n",
      "\n",
      "==> WARNING: A newer version of conda exists. <==\n",
      "  current version: 4.4.10\n",
      "  latest version: 4.5.11\n",
      "\n",
      "Please update conda by running\n",
      "\n",
      "    $ conda update -n base conda\n",
      "\n",
      "\n",
      "\n",
      "## Package Plan ##\n",
      "\n",
      "  environment location: /home/ec2-user/anaconda3/envs/python3\n",
      "\n",
      "  added / updated specs: \n",
      "    - xgboost\n",
      "\n",
      "\n",
      "The following packages will be downloaded:\n",
      "\n",
      "    package                    |            build\n",
      "    ---------------------------|-----------------\n",
      "    certifi-2018.8.24          |           py36_1         139 KB  conda-forge\n",
      "\n",
      "The following packages will be UPDATED:\n",
      "\n",
      "    ca-certificates: 2018.03.07-0      --> 2018.8.24-ha4d7672_0 conda-forge\n",
      "    certifi:         2018.8.24-py36_1  --> 2018.8.24-py36_1     conda-forge\n",
      "    openssl:         1.0.2p-h14c3975_0 --> 1.0.2p-h470a237_0    conda-forge\n",
      "\n",
      "\n",
      "Downloading and Extracting Packages\n",
      "certifi 2018.8.24: ##################################################### | 100% \n",
      "Preparing transaction: done\n",
      "Verifying transaction: done\n",
      "Executing transaction: done\n",
      "Solving environment: done\n",
      "\n",
      "\n",
      "==> WARNING: A newer version of conda exists. <==\n",
      "  current version: 4.4.10\n",
      "  latest version: 4.5.11\n",
      "\n",
      "Please update conda by running\n",
      "\n",
      "    $ conda update -n base conda\n",
      "\n",
      "\n",
      "\n",
      "## Package Plan ##\n",
      "\n",
      "  environment location: /home/ec2-user/anaconda3/envs/python3\n",
      "\n",
      "  added / updated specs: \n",
      "    - numpy\n",
      "\n",
      "\n",
      "The following packages will be downloaded:\n",
      "\n",
      "    package                    |            build\n",
      "    ---------------------------|-----------------\n",
      "    certifi-2018.8.24          |           py36_1         140 KB\n",
      "\n",
      "The following packages will be UPDATED:\n",
      "\n",
      "    certifi:         2018.8.24-py36_1     conda-forge --> 2018.8.24-py36_1 \n",
      "    openssl:         1.0.2p-h470a237_0    conda-forge --> 1.0.2p-h14c3975_0\n",
      "\n",
      "The following packages will be DOWNGRADED:\n",
      "\n",
      "    ca-certificates: 2018.8.24-ha4d7672_0 conda-forge --> 2018.03.07-0     \n",
      "\n",
      "\n",
      "Downloading and Extracting Packages\n",
      "certifi 2018.8.24: ##################################################### | 100% \n",
      "Preparing transaction: done\n",
      "Verifying transaction: done\n",
      "Executing transaction: done\n"
     ]
    }
   ],
   "source": [
    "# Istall XGBoost package and update numpy (for the local mode):\n",
    "!conda install -y -c conda-forge xgboost\n",
    "!conda update -y numpy"
   ]
  },
  {
   "cell_type": "code",
   "execution_count": 2,
   "metadata": {},
   "outputs": [],
   "source": [
    "import sklearn\n",
    "import xgboost\n",
    "import numpy as np\n",
    "import pandas as pd\n",
    "import matplotlib.pyplot as plt\n",
    "import seaborn as sns\n",
    "from sklearn import preprocessing\n",
    "%matplotlib inline\n",
    "from scipy import stats\n",
    "\n",
    "import warnings\n",
    "warnings.filterwarnings(\"ignore\")\n",
    "\n",
    "import boto3\n",
    "import sagemaker\n",
    "import sagemaker.amazon.common as smac\n",
    "from sagemaker import get_execution_role"
   ]
  },
  {
   "cell_type": "code",
   "execution_count": 3,
   "metadata": {},
   "outputs": [
    {
     "name": "stdout",
     "output_type": "stream",
     "text": [
      "<class 'pandas.core.frame.DataFrame'>\n",
      "RangeIndex: 351 entries, 0 to 350\n",
      "Data columns (total 35 columns):\n",
      "V1       351 non-null int64\n",
      "V2       351 non-null int64\n",
      "V3       351 non-null float64\n",
      "V4       351 non-null float64\n",
      "V5       351 non-null float64\n",
      "V6       351 non-null float64\n",
      "V7       351 non-null float64\n",
      "V8       351 non-null float64\n",
      "V9       351 non-null float64\n",
      "V10      351 non-null float64\n",
      "V11      351 non-null float64\n",
      "V12      351 non-null float64\n",
      "V13      351 non-null float64\n",
      "V14      351 non-null float64\n",
      "V15      351 non-null float64\n",
      "V16      351 non-null float64\n",
      "V17      351 non-null float64\n",
      "V18      351 non-null float64\n",
      "V19      351 non-null float64\n",
      "V20      351 non-null float64\n",
      "V21      351 non-null float64\n",
      "V22      351 non-null float64\n",
      "V23      351 non-null float64\n",
      "V24      351 non-null float64\n",
      "V25      351 non-null float64\n",
      "V26      351 non-null float64\n",
      "V27      351 non-null float64\n",
      "V28      351 non-null float64\n",
      "V29      351 non-null float64\n",
      "V30      351 non-null float64\n",
      "V31      351 non-null float64\n",
      "V32      351 non-null float64\n",
      "V33      351 non-null float64\n",
      "V34      351 non-null float64\n",
      "Class    351 non-null int64\n",
      "dtypes: float64(32), int64(3)\n",
      "memory usage: 96.1 KB\n"
     ]
    }
   ],
   "source": [
    "df=pd.read_csv('IonosphereFreeElectrons_All.csv', sep=',')\n",
    "\n",
    "# To Shuffle the data:\n",
    "np.random.seed(42)\n",
    "df=df.reindex(np.random.permutation(df.index))\n",
    "df.reset_index(inplace=True, drop=True)\n",
    "\n",
    "df.info()"
   ]
  },
  {
   "cell_type": "markdown",
   "metadata": {},
   "source": [
    "# Data Preparation/Cleaning:"
   ]
  },
  {
   "cell_type": "code",
   "execution_count": 4,
   "metadata": {},
   "outputs": [],
   "source": [
    "X=df.drop('Class', axis=1)\n",
    "y=df['Class']\n",
    "\n",
    "# We initially devide data into training & test folds: We do the Grid-Search only on training part  \n",
    "from sklearn.model_selection import train_test_split\n",
    "X_train, X_test, y_train, y_test = train_test_split(X, y, test_size=0.25, random_state=42, shuffle=True)"
   ]
  },
  {
   "cell_type": "code",
   "execution_count": 5,
   "metadata": {},
   "outputs": [],
   "source": [
    "df_train = pd.concat([y_train, X_train], axis=1)\n",
    "df_test = pd.concat([y_test, X_test], axis=1) "
   ]
  },
  {
   "cell_type": "code",
   "execution_count": 6,
   "metadata": {},
   "outputs": [],
   "source": [
    "# Write to SageMaker Notebook Instance: It is saved in the folder where this ipynb was created\n",
    "\n",
    "df_train.to_csv('IonosphereFreeElectrons_train.csv', index=False, header=False)\n",
    "df_test.to_csv('IonosphereFreeElectrons_test.csv', index=False, header=False)"
   ]
  },
  {
   "cell_type": "code",
   "execution_count": 7,
   "metadata": {},
   "outputs": [
    {
     "data": {
      "text/plain": [
       "1    225\n",
       "0    126\n",
       "Name: Class, dtype: int64"
      ]
     },
     "execution_count": 7,
     "metadata": {},
     "output_type": "execute_result"
    }
   ],
   "source": [
    "#Imbalanced Dataset:\n",
    "y.value_counts()"
   ]
  },
  {
   "cell_type": "markdown",
   "metadata": {},
   "source": [
    "#  1) Local Mode Training (usually on a subset of large dataset): "
   ]
  },
  {
   "cell_type": "code",
   "execution_count": 8,
   "metadata": {},
   "outputs": [
    {
     "name": "stdout",
     "output_type": "stream",
     "text": [
      "[0.97213622 0.98606811 0.90557276 0.93343653 1.        ] \n",
      "\n",
      "Accuracy: 0.96 (+/- 0.03)\n"
     ]
    }
   ],
   "source": [
    "# Building the Initial Model & Cross-Validation: \n",
    "import xgboost\n",
    "from xgboost import XGBClassifier\n",
    "from sklearn.model_selection import cross_val_score\n",
    "from sklearn.model_selection import StratifiedKFold\n",
    "\n",
    "model=XGBClassifier(scale_pos_weight=225/126) \n",
    "kfold=StratifiedKFold(n_splits=5, shuffle=True, random_state=42)\n",
    "scores=cross_val_score(model, X_train, y_train, cv=kfold, scoring='roc_auc')\n",
    "\n",
    "print(scores, \"\\n\")\n",
    "print(\"Accuracy: %0.2f (+/- %0.2f)\" % (scores.mean(), scores.std()))"
   ]
  },
  {
   "cell_type": "markdown",
   "metadata": {},
   "source": [
    "# 2)  Training on SageMaker Cloud"
   ]
  },
  {
   "cell_type": "markdown",
   "metadata": {},
   "source": [
    "# preparing data for SageMaker cloud training: \n",
    "    - Converting data to .csv or .recodio types\n",
    "    - Uploading training & validation datasets to S3 bucket"
   ]
  },
  {
   "cell_type": "code",
   "execution_count": 9,
   "metadata": {},
   "outputs": [],
   "source": [
    "# Specify the Keys and Location of Train & Test datasets in S3:\n",
    "bucket_name = 'roohi-ml-sagemaker'\n",
    "training_file_key = 'IonosphereFreeElectrons/Ionosphere_train.csv'\n",
    "test_file_key = 'IonosphereFreeElectrons/Ionosphere_test.csv'\n",
    "\n",
    "s3_model_output_location = r's3://{0}/IonosphereFreeElectrons/model'.format(bucket_name)\n",
    "s3_training_file_location = r's3://{0}/{1}'.format(bucket_name,training_file_key)\n",
    "s3_test_file_location = r's3://{0}/{1}'.format(bucket_name,test_file_key)"
   ]
  },
  {
   "cell_type": "code",
   "execution_count": 10,
   "metadata": {},
   "outputs": [],
   "source": [
    "# Write and Reading from S3 is just as easy\n",
    "# files are referred as objects in S3. File name is referred as key name in S3.\n",
    "# Files stored in S3 are automatically replicated across 3 different availability zones in the region where the bucket was created.\n",
    "# http://boto3.readthedocs.io/en/latest/guide/s3.html\n",
    "\n",
    "def write_to_s3(filename, bucket, key):\n",
    "    with open(filename,'rb') as f: # Read in binary mode\n",
    "        return boto3.Session().resource('s3').Bucket(bucket).Object(key).upload_fileobj(f)"
   ]
  },
  {
   "cell_type": "code",
   "execution_count": 11,
   "metadata": {},
   "outputs": [],
   "source": [
    "write_to_s3('IonosphereFreeElectrons_train.csv', bucket_name, training_file_key)\n",
    "write_to_s3('IonosphereFreeElectrons_test.csv', bucket_name, test_file_key)"
   ]
  },
  {
   "cell_type": "markdown",
   "metadata": {},
   "source": [
    "   # Training Algorithm Docker Image:  \n",
    "    Note: AWS Maintains a separate image for every region and algorithm"
   ]
  },
  {
   "cell_type": "code",
   "execution_count": 12,
   "metadata": {},
   "outputs": [],
   "source": [
    "# Registry Path for algorithms provided by SageMaker\n",
    "#  https://docs.aws.amazon.com/sagemaker/latest/dg/sagemaker-algo-docker-registry-paths.html\n",
    "containers = {'us-west-2': '433757028032.dkr.ecr.us-west-2.amazonaws.com/xgboost:latest',\n",
    "              'us-east-1': '811284229777.dkr.ecr.us-east-1.amazonaws.com/xgboost:latest',\n",
    "              'us-east-2': '825641698319.dkr.ecr.us-east-2.amazonaws.com/xgboost:latest',\n",
    "              'eu-west-1': '685385470294.dkr.ecr.eu-west-1.amazonaws.com/xgboost:latest'}"
   ]
  },
  {
   "cell_type": "code",
   "execution_count": 13,
   "metadata": {},
   "outputs": [
    {
     "name": "stdout",
     "output_type": "stream",
     "text": [
      "arn:aws:iam::928921801380:role/service-role/AmazonSageMaker-ExecutionRole-20180831T120207\n"
     ]
    }
   ],
   "source": [
    "role = get_execution_role()\n",
    "\n",
    "# This role contains the permissions needed to train, deploy models\n",
    "# SageMaker Service is trusted to assume this role\n",
    "print(role)"
   ]
  },
  {
   "cell_type": "markdown",
   "metadata": {},
   "source": [
    "# Build model: "
   ]
  },
  {
   "cell_type": "code",
   "execution_count": 14,
   "metadata": {},
   "outputs": [],
   "source": [
    "sess = sagemaker.Session()"
   ]
  },
  {
   "cell_type": "code",
   "execution_count": 15,
   "metadata": {},
   "outputs": [],
   "source": [
    "# Access appropriate algorithm container image\n",
    "#  Specify how many instances to use for distributed training and what type of machine to use\n",
    "#  Finally, specify where the trained model artifacts needs to be stored\n",
    "#   Reference: http://sagemaker.readthedocs.io/en/latest/estimators.html\n",
    "#    Optionally, give a name to the training job using base_job_name\n",
    "\n",
    "estimator = sagemaker.estimator.Estimator(containers[boto3.Session().region_name],\n",
    "                                       role,\n",
    "                                       train_instance_count=1, \n",
    "                                       train_instance_type='ml.m4.xlarge',\n",
    "                                       output_path=s3_model_output_location,\n",
    "                                       sagemaker_session=sess,\n",
    "                                       base_job_name ='xgboost-IonosphereFreeElectrons-Train')"
   ]
  },
  {
   "cell_type": "code",
   "execution_count": 16,
   "metadata": {},
   "outputs": [
    {
     "data": {
      "text/plain": [
       "{'eval_metric': 'auc',\n",
       " 'objective': 'binary:logistic',\n",
       " 'scale_pos_weight': 1.797872340425532,\n",
       " 'min_child_weight': 1,\n",
       " 'gamma': 0.05,\n",
       " 'max_depth': 2,\n",
       " 'subsample': 0.7,\n",
       " 'num_round': 100}"
      ]
     },
     "execution_count": 16,
     "metadata": {},
     "output_type": "execute_result"
    }
   ],
   "source": [
    "# Specify hyper parameters that appropriate for the training algorithm\n",
    "# Take a look this table for metrics & parameters:   https://docs.aws.amazon.com/sagemaker/latest/dg/xgboost-tuning.html\n",
    "\n",
    "classRatio=df_train['Class'].value_counts()[1]/df_train['Class'].value_counts()[0]\n",
    "\n",
    "param={'eval_metric':'auc', \n",
    "       'objective':'binary:logistic',\n",
    "       'scale_pos_weight': classRatio,\n",
    "       'min_child_weight': 1, \n",
    "       'gamma':0.05,\n",
    "       'max_depth':2,       \n",
    "       'subsample':0.7,\n",
    "       'num_round':100}\n",
    "\n",
    "estimator.set_hyperparameters(**param)\n",
    "\n",
    "estimator.hyperparameters()"
   ]
  },
  {
   "cell_type": "markdown",
   "metadata": {},
   "source": [
    "#    Specify Training Data Location and Optionally, Validation Data Location:"
   ]
  },
  {
   "cell_type": "code",
   "execution_count": 17,
   "metadata": {},
   "outputs": [
    {
     "name": "stdout",
     "output_type": "stream",
     "text": [
      "{'DataSource': {'S3DataSource': {'S3DataDistributionType': 'FullyReplicated', 'S3DataType': 'S3Prefix', 'S3Uri': 's3://roohi-ml-sagemaker/IonosphereFreeElectrons/Ionosphere_train.csv'}}, 'ContentType': 'csv'}\n",
      "{'DataSource': {'S3DataSource': {'S3DataDistributionType': 'FullyReplicated', 'S3DataType': 'S3Prefix', 'S3Uri': 's3://roohi-ml-sagemaker/IonosphereFreeElectrons/Ionosphere_test.csv'}}, 'ContentType': 'csv'}\n"
     ]
    }
   ],
   "source": [
    "# content type can be libsvm or csv for XGBoost\n",
    "training_input_config = sagemaker.session.s3_input(s3_data=s3_training_file_location, content_type=\"csv\")\n",
    "test_input_config = sagemaker.session.s3_input(s3_data=s3_test_file_location, content_type=\"csv\")\n",
    "\n",
    "print(training_input_config.config)\n",
    "print(test_input_config.config)"
   ]
  },
  {
   "cell_type": "markdown",
   "metadata": {},
   "source": [
    "# Train the model on SM cloud:"
   ]
  },
  {
   "cell_type": "code",
   "execution_count": 18,
   "metadata": {},
   "outputs": [
    {
     "name": "stderr",
     "output_type": "stream",
     "text": [
      "INFO:sagemaker:Creating training-job with name: xgboost-IonosphereFreeElectrons-Train-2018-09-04-01-10-32-259\n"
     ]
    },
    {
     "name": "stdout",
     "output_type": "stream",
     "text": [
      "......................\n",
      "\u001b[31mArguments: train\u001b[0m\n",
      "\u001b[31m[2018-09-04:01:14:05:INFO] Running standalone xgboost training.\u001b[0m\n",
      "\u001b[31m[2018-09-04:01:14:05:INFO] File size need to be processed in the node: 0.1mb. Available memory size in the node: 8607.95mb\u001b[0m\n",
      "\u001b[31m[2018-09-04:01:14:05:INFO] Determined delimiter of CSV input is ','\u001b[0m\n",
      "\u001b[31m[01:14:05] S3DistributionType set as FullyReplicated\u001b[0m\n",
      "\u001b[31m[01:14:05] 263x34 matrix with 8942 entries loaded from /opt/ml/input/data/train?format=csv&label_column=0&delimiter=,\u001b[0m\n",
      "\u001b[31m[2018-09-04:01:14:05:INFO] Determined delimiter of CSV input is ','\u001b[0m\n",
      "\u001b[31m[01:14:05] S3DistributionType set as FullyReplicated\u001b[0m\n",
      "\u001b[31m[01:14:05] 88x34 matrix with 2992 entries loaded from /opt/ml/input/data/validation?format=csv&label_column=0&delimiter=,\u001b[0m\n",
      "\u001b[31m[01:14:05] src/tree/updater_prune.cc:74: tree pruning end, 1 roots, 6 extra nodes, 0 pruned nodes, max_depth=2\u001b[0m\n",
      "\u001b[31m[0]#011train-auc:0.911054#011validation-auc:0.913504\u001b[0m\n",
      "\u001b[31m[01:14:05] src/tree/updater_prune.cc:74: tree pruning end, 1 roots, 4 extra nodes, 0 pruned nodes, max_depth=2\u001b[0m\n",
      "\u001b[31m[1]#011train-auc:0.950869#011validation-auc:0.942522\u001b[0m\n",
      "\u001b[31m[01:14:05] src/tree/updater_prune.cc:74: tree pruning end, 1 roots, 4 extra nodes, 0 pruned nodes, max_depth=2\u001b[0m\n",
      "\u001b[31m[2]#011train-auc:0.961287#011validation-auc:0.94308\u001b[0m\n",
      "\u001b[31m[01:14:05] src/tree/updater_prune.cc:74: tree pruning end, 1 roots, 6 extra nodes, 0 pruned nodes, max_depth=2\u001b[0m\n",
      "\u001b[31m[3]#011train-auc:0.961444#011validation-auc:0.941127\u001b[0m\n",
      "\u001b[31m[01:14:05] src/tree/updater_prune.cc:74: tree pruning end, 1 roots, 6 extra nodes, 0 pruned nodes, max_depth=2\u001b[0m\n",
      "\u001b[31m[4]#011train-auc:0.969785#011validation-auc:0.954241\u001b[0m\n",
      "\u001b[31m[01:14:05] src/tree/updater_prune.cc:74: tree pruning end, 1 roots, 6 extra nodes, 0 pruned nodes, max_depth=2\u001b[0m\n",
      "\u001b[31m[5]#011train-auc:0.969092#011validation-auc:0.950056\u001b[0m\n",
      "\u001b[31m[01:14:05] src/tree/updater_prune.cc:74: tree pruning end, 1 roots, 6 extra nodes, 0 pruned nodes, max_depth=2\u001b[0m\n",
      "\u001b[31m[6]#011train-auc:0.969911#011validation-auc:0.947824\u001b[0m\n",
      "\u001b[31m[01:14:05] src/tree/updater_prune.cc:74: tree pruning end, 1 roots, 4 extra nodes, 0 pruned nodes, max_depth=2\u001b[0m\n",
      "\u001b[31m[7]#011train-auc:0.970257#011validation-auc:0.948382\u001b[0m\n",
      "\u001b[31m[01:14:05] src/tree/updater_prune.cc:74: tree pruning end, 1 roots, 6 extra nodes, 0 pruned nodes, max_depth=2\u001b[0m\n",
      "\u001b[31m[8]#011train-auc:0.9859#011validation-auc:0.9375\u001b[0m\n",
      "\u001b[31m[01:14:05] src/tree/updater_prune.cc:74: tree pruning end, 1 roots, 6 extra nodes, 0 pruned nodes, max_depth=2\u001b[0m\n",
      "\u001b[31m[9]#011train-auc:0.988071#011validation-auc:0.936942\u001b[0m\n",
      "\u001b[31m[01:14:05] src/tree/updater_prune.cc:74: tree pruning end, 1 roots, 4 extra nodes, 0 pruned nodes, max_depth=2\u001b[0m\n",
      "\u001b[31m[10]#011train-auc:0.988355#011validation-auc:0.936942\u001b[0m\n",
      "\u001b[31m[01:14:05] src/tree/updater_prune.cc:74: tree pruning end, 1 roots, 4 extra nodes, 0 pruned nodes, max_depth=2\u001b[0m\n",
      "\u001b[31m[11]#011train-auc:0.98719#011validation-auc:0.964565\u001b[0m\n",
      "\u001b[31m[01:14:05] src/tree/updater_prune.cc:74: tree pruning end, 1 roots, 6 extra nodes, 0 pruned nodes, max_depth=2\u001b[0m\n",
      "\u001b[31m[12]#011train-auc:0.991659#011validation-auc:0.961217\u001b[0m\n",
      "\u001b[31m[01:14:05] src/tree/updater_prune.cc:74: tree pruning end, 1 roots, 6 extra nodes, 0 pruned nodes, max_depth=2\u001b[0m\n",
      "\u001b[31m[13]#011train-auc:0.993296#011validation-auc:0.963728\u001b[0m\n",
      "\u001b[31m[01:14:05] src/tree/updater_prune.cc:74: tree pruning end, 1 roots, 6 extra nodes, 0 pruned nodes, max_depth=2\u001b[0m\n",
      "\u001b[31m[14]#011train-auc:0.992918#011validation-auc:0.964286\u001b[0m\n",
      "\u001b[31m[01:14:05] src/tree/updater_prune.cc:74: tree pruning end, 1 roots, 4 extra nodes, 0 pruned nodes, max_depth=2\u001b[0m\n",
      "\u001b[31m[15]#011train-auc:0.992729#011validation-auc:0.964286\u001b[0m\n",
      "\u001b[31m[01:14:05] src/tree/updater_prune.cc:74: tree pruning end, 1 roots, 6 extra nodes, 0 pruned nodes, max_depth=2\u001b[0m\n",
      "\u001b[31m[16]#011train-auc:0.992855#011validation-auc:0.96317\u001b[0m\n",
      "\u001b[31m[01:14:05] src/tree/updater_prune.cc:74: tree pruning end, 1 roots, 6 extra nodes, 0 pruned nodes, max_depth=2\u001b[0m\n",
      "\u001b[31m[17]#011train-auc:0.995436#011validation-auc:0.956194\u001b[0m\n",
      "\u001b[31m[01:14:05] src/tree/updater_prune.cc:74: tree pruning end, 1 roots, 4 extra nodes, 0 pruned nodes, max_depth=2\u001b[0m\n",
      "\u001b[31m[18]#011train-auc:0.994807#011validation-auc:0.967355\u001b[0m\n",
      "\u001b[31m[01:14:05] src/tree/updater_prune.cc:74: tree pruning end, 1 roots, 6 extra nodes, 0 pruned nodes, max_depth=2\u001b[0m\n",
      "\u001b[31m[19]#011train-auc:0.996853#011validation-auc:0.964565\u001b[0m\n",
      "\u001b[31m[01:14:05] src/tree/updater_prune.cc:74: tree pruning end, 1 roots, 6 extra nodes, 0 pruned nodes, max_depth=2\u001b[0m\n",
      "\u001b[31m[20]#011train-auc:0.997167#011validation-auc:0.955357\u001b[0m\n",
      "\u001b[31m[01:14:05] src/tree/updater_prune.cc:74: tree pruning end, 1 roots, 6 extra nodes, 0 pruned nodes, max_depth=2\u001b[0m\n",
      "\u001b[31m[21]#011train-auc:0.997482#011validation-auc:0.960379\u001b[0m\n",
      "\u001b[31m[01:14:05] src/tree/updater_prune.cc:74: tree pruning end, 1 roots, 6 extra nodes, 0 pruned nodes, max_depth=2\u001b[0m\n",
      "\u001b[31m[22]#011train-auc:0.997356#011validation-auc:0.965123\u001b[0m\n",
      "\u001b[31m[01:14:05] src/tree/updater_prune.cc:74: tree pruning end, 1 roots, 6 extra nodes, 0 pruned nodes, max_depth=2\u001b[0m\n",
      "\u001b[31m[23]#011train-auc:0.997923#011validation-auc:0.970145\u001b[0m\n",
      "\u001b[31m[01:14:05] src/tree/updater_prune.cc:74: tree pruning end, 1 roots, 6 extra nodes, 0 pruned nodes, max_depth=2\u001b[0m\n",
      "\u001b[31m[24]#011train-auc:0.99893#011validation-auc:0.967913\u001b[0m\n",
      "\u001b[31m[01:14:05] src/tree/updater_prune.cc:74: tree pruning end, 1 roots, 6 extra nodes, 0 pruned nodes, max_depth=2\u001b[0m\n",
      "\u001b[31m[25]#011train-auc:0.999182#011validation-auc:0.966239\u001b[0m\n",
      "\u001b[31m[01:14:05] src/tree/updater_prune.cc:74: tree pruning end, 1 roots, 6 extra nodes, 0 pruned nodes, max_depth=2\u001b[0m\n",
      "\u001b[31m[26]#011train-auc:0.999119#011validation-auc:0.966797\u001b[0m\n",
      "\u001b[31m[01:14:05] src/tree/updater_prune.cc:74: tree pruning end, 1 roots, 6 extra nodes, 0 pruned nodes, max_depth=2\u001b[0m\n",
      "\u001b[31m[27]#011train-auc:0.999371#011validation-auc:0.965681\u001b[0m\n",
      "\u001b[31m[01:14:05] src/tree/updater_prune.cc:74: tree pruning end, 1 roots, 6 extra nodes, 0 pruned nodes, max_depth=2\u001b[0m\n",
      "\u001b[31m[28]#011train-auc:0.999685#011validation-auc:0.964007\u001b[0m\n",
      "\u001b[31m[01:14:05] src/tree/updater_prune.cc:74: tree pruning end, 1 roots, 6 extra nodes, 0 pruned nodes, max_depth=2\u001b[0m\n",
      "\u001b[31m[29]#011train-auc:0.999811#011validation-auc:0.968192\u001b[0m\n",
      "\u001b[31m[01:14:05] src/tree/updater_prune.cc:74: tree pruning end, 1 roots, 6 extra nodes, 0 pruned nodes, max_depth=2\u001b[0m\n",
      "\u001b[31m[30]#011train-auc:0.999874#011validation-auc:0.975446\u001b[0m\n",
      "\u001b[31m[01:14:05] src/tree/updater_prune.cc:74: tree pruning end, 1 roots, 6 extra nodes, 0 pruned nodes, max_depth=2\u001b[0m\n",
      "\u001b[31m[31]#011train-auc:0.999874#011validation-auc:0.976562\u001b[0m\n",
      "\u001b[31m[01:14:05] src/tree/updater_prune.cc:74: tree pruning end, 1 roots, 6 extra nodes, 0 pruned nodes, max_depth=2\u001b[0m\n",
      "\u001b[31m[32]#011train-auc:0.999874#011validation-auc:0.972656\u001b[0m\n",
      "\u001b[31m[01:14:05] src/tree/updater_prune.cc:74: tree pruning end, 1 roots, 4 extra nodes, 2 pruned nodes, max_depth=2\u001b[0m\n",
      "\u001b[31m[33]#011train-auc:0.999874#011validation-auc:0.96875\u001b[0m\n",
      "\u001b[31m[01:14:05] src/tree/updater_prune.cc:74: tree pruning end, 1 roots, 6 extra nodes, 0 pruned nodes, max_depth=2\u001b[0m\n",
      "\u001b[31m[34]#011train-auc:1#011validation-auc:0.969308\u001b[0m\n",
      "\u001b[31m[01:14:05] src/tree/updater_prune.cc:74: tree pruning end, 1 roots, 6 extra nodes, 0 pruned nodes, max_depth=2\u001b[0m\n",
      "\u001b[31m[35]#011train-auc:1#011validation-auc:0.970424\u001b[0m\n",
      "\u001b[31m[01:14:05] src/tree/updater_prune.cc:74: tree pruning end, 1 roots, 6 extra nodes, 0 pruned nodes, max_depth=2\u001b[0m\n",
      "\u001b[31m[36]#011train-auc:1#011validation-auc:0.96875\u001b[0m\n",
      "\u001b[31m[01:14:05] src/tree/updater_prune.cc:74: tree pruning end, 1 roots, 4 extra nodes, 2 pruned nodes, max_depth=2\u001b[0m\n",
      "\u001b[31m[37]#011train-auc:1#011validation-auc:0.970982\u001b[0m\n",
      "\u001b[31m[01:14:05] src/tree/updater_prune.cc:74: tree pruning end, 1 roots, 6 extra nodes, 0 pruned nodes, max_depth=2\u001b[0m\n",
      "\u001b[31m[38]#011train-auc:1#011validation-auc:0.970982\u001b[0m\n",
      "\u001b[31m[01:14:05] src/tree/updater_prune.cc:74: tree pruning end, 1 roots, 4 extra nodes, 0 pruned nodes, max_depth=2\u001b[0m\n",
      "\u001b[31m[39]#011train-auc:1#011validation-auc:0.973772\u001b[0m\n",
      "\u001b[31m[01:14:05] src/tree/updater_prune.cc:74: tree pruning end, 1 roots, 6 extra nodes, 0 pruned nodes, max_depth=2\u001b[0m\n",
      "\u001b[31m[40]#011train-auc:1#011validation-auc:0.973214\u001b[0m\n",
      "\u001b[31m[01:14:05] src/tree/updater_prune.cc:74: tree pruning end, 1 roots, 6 extra nodes, 0 pruned nodes, max_depth=2\u001b[0m\n",
      "\u001b[31m[41]#011train-auc:1#011validation-auc:0.973214\u001b[0m\n",
      "\u001b[31m[01:14:05] src/tree/updater_prune.cc:74: tree pruning end, 1 roots, 6 extra nodes, 0 pruned nodes, max_depth=2\u001b[0m\n",
      "\u001b[31m[42]#011train-auc:1#011validation-auc:0.969866\u001b[0m\n",
      "\u001b[31m[01:14:05] src/tree/updater_prune.cc:74: tree pruning end, 1 roots, 4 extra nodes, 0 pruned nodes, max_depth=2\u001b[0m\n",
      "\u001b[31m[43]#011train-auc:1#011validation-auc:0.968192\u001b[0m\n",
      "\u001b[31m[01:14:05] src/tree/updater_prune.cc:74: tree pruning end, 1 roots, 4 extra nodes, 0 pruned nodes, max_depth=2\u001b[0m\n",
      "\u001b[31m[44]#011train-auc:1#011validation-auc:0.968192\u001b[0m\n",
      "\u001b[31m[01:14:05] src/tree/updater_prune.cc:74: tree pruning end, 1 roots, 6 extra nodes, 0 pruned nodes, max_depth=2\u001b[0m\n",
      "\u001b[31m[45]#011train-auc:1#011validation-auc:0.970982\u001b[0m\n",
      "\u001b[31m[01:14:05] src/tree/updater_prune.cc:74: tree pruning end, 1 roots, 4 extra nodes, 0 pruned nodes, max_depth=2\u001b[0m\n",
      "\u001b[31m[46]#011train-auc:1#011validation-auc:0.970424\u001b[0m\n",
      "\u001b[31m[01:14:05] src/tree/updater_prune.cc:74: tree pruning end, 1 roots, 6 extra nodes, 0 pruned nodes, max_depth=2\u001b[0m\n",
      "\u001b[31m[47]#011train-auc:1#011validation-auc:0.970982\u001b[0m\n",
      "\u001b[31m[01:14:05] src/tree/updater_prune.cc:74: tree pruning end, 1 roots, 4 extra nodes, 0 pruned nodes, max_depth=2\u001b[0m\n",
      "\u001b[31m[48]#011train-auc:1#011validation-auc:0.974888\u001b[0m\n",
      "\u001b[31m[01:14:05] src/tree/updater_prune.cc:74: tree pruning end, 1 roots, 4 extra nodes, 0 pruned nodes, max_depth=2\u001b[0m\n",
      "\u001b[31m[49]#011train-auc:1#011validation-auc:0.973772\u001b[0m\n",
      "\u001b[31m[01:14:05] src/tree/updater_prune.cc:74: tree pruning end, 1 roots, 6 extra nodes, 0 pruned nodes, max_depth=2\u001b[0m\n",
      "\u001b[31m[50]#011train-auc:1#011validation-auc:0.96875\u001b[0m\n",
      "\u001b[31m[01:14:05] src/tree/updater_prune.cc:74: tree pruning end, 1 roots, 6 extra nodes, 0 pruned nodes, max_depth=2\u001b[0m\n",
      "\u001b[31m[51]#011train-auc:1#011validation-auc:0.973214\u001b[0m\n",
      "\u001b[31m[01:14:05] src/tree/updater_prune.cc:74: tree pruning end, 1 roots, 4 extra nodes, 0 pruned nodes, max_depth=2\u001b[0m\n",
      "\u001b[31m[52]#011train-auc:1#011validation-auc:0.970424\u001b[0m\n",
      "\u001b[31m[01:14:05] src/tree/updater_prune.cc:74: tree pruning end, 1 roots, 6 extra nodes, 0 pruned nodes, max_depth=2\u001b[0m\n",
      "\u001b[31m[53]#011train-auc:1#011validation-auc:0.969866\u001b[0m\n",
      "\u001b[31m[01:14:05] src/tree/updater_prune.cc:74: tree pruning end, 1 roots, 4 extra nodes, 0 pruned nodes, max_depth=2\u001b[0m\n",
      "\u001b[31m[54]#011train-auc:1#011validation-auc:0.969866\u001b[0m\n",
      "\u001b[31m[01:14:05] src/tree/updater_prune.cc:74: tree pruning end, 1 roots, 6 extra nodes, 0 pruned nodes, max_depth=2\u001b[0m\n",
      "\u001b[31m[55]#011train-auc:1#011validation-auc:0.969308\u001b[0m\n",
      "\u001b[31m[01:14:05] src/tree/updater_prune.cc:74: tree pruning end, 1 roots, 4 extra nodes, 0 pruned nodes, max_depth=2\u001b[0m\n",
      "\u001b[31m[56]#011train-auc:1#011validation-auc:0.970982\u001b[0m\n",
      "\u001b[31m[01:14:05] src/tree/updater_prune.cc:74: tree pruning end, 1 roots, 4 extra nodes, 0 pruned nodes, max_depth=2\u001b[0m\n",
      "\u001b[31m[57]#011train-auc:1#011validation-auc:0.972656\u001b[0m\n",
      "\u001b[31m[01:14:05] src/tree/updater_prune.cc:74: tree pruning end, 1 roots, 4 extra nodes, 0 pruned nodes, max_depth=2\u001b[0m\n",
      "\u001b[31m[58]#011train-auc:1#011validation-auc:0.973772\u001b[0m\n",
      "\u001b[31m[01:14:05] src/tree/updater_prune.cc:74: tree pruning end, 1 roots, 4 extra nodes, 0 pruned nodes, max_depth=2\u001b[0m\n",
      "\u001b[31m[59]#011train-auc:1#011validation-auc:0.972656\u001b[0m\n",
      "\u001b[31m[01:14:05] src/tree/updater_prune.cc:74: tree pruning end, 1 roots, 6 extra nodes, 0 pruned nodes, max_depth=2\u001b[0m\n",
      "\u001b[31m[60]#011train-auc:1#011validation-auc:0.972098\u001b[0m\n",
      "\u001b[31m[01:14:05] src/tree/updater_prune.cc:74: tree pruning end, 1 roots, 4 extra nodes, 0 pruned nodes, max_depth=2\u001b[0m\n",
      "\u001b[31m[61]#011train-auc:1#011validation-auc:0.97433\u001b[0m\n",
      "\u001b[31m[01:14:05] src/tree/updater_prune.cc:74: tree pruning end, 1 roots, 4 extra nodes, 0 pruned nodes, max_depth=2\u001b[0m\n",
      "\u001b[31m[62]#011train-auc:1#011validation-auc:0.973772\u001b[0m\n",
      "\u001b[31m[01:14:05] src/tree/updater_prune.cc:74: tree pruning end, 1 roots, 4 extra nodes, 0 pruned nodes, max_depth=2\u001b[0m\n",
      "\u001b[31m[63]#011train-auc:1#011validation-auc:0.973214\u001b[0m\n",
      "\u001b[31m[01:14:05] src/tree/updater_prune.cc:74: tree pruning end, 1 roots, 4 extra nodes, 0 pruned nodes, max_depth=2\u001b[0m\n",
      "\u001b[31m[64]#011train-auc:1#011validation-auc:0.973214\u001b[0m\n",
      "\u001b[31m[01:14:05] src/tree/updater_prune.cc:74: tree pruning end, 1 roots, 2 extra nodes, 2 pruned nodes, max_depth=1\u001b[0m\n",
      "\u001b[31m[65]#011train-auc:1#011validation-auc:0.972656\u001b[0m\n",
      "\u001b[31m[01:14:05] src/tree/updater_prune.cc:74: tree pruning end, 1 roots, 2 extra nodes, 0 pruned nodes, max_depth=1\u001b[0m\n",
      "\u001b[31m[66]#011train-auc:1#011validation-auc:0.970424\u001b[0m\n",
      "\u001b[31m[01:14:05] src/tree/updater_prune.cc:74: tree pruning end, 1 roots, 4 extra nodes, 0 pruned nodes, max_depth=2\u001b[0m\n",
      "\u001b[31m[67]#011train-auc:1#011validation-auc:0.972656\u001b[0m\n",
      "\u001b[31m[01:14:05] src/tree/updater_prune.cc:74: tree pruning end, 1 roots, 4 extra nodes, 0 pruned nodes, max_depth=2\u001b[0m\n",
      "\u001b[31m[68]#011train-auc:1#011validation-auc:0.973214\u001b[0m\n",
      "\u001b[31m[01:14:05] src/tree/updater_prune.cc:74: tree pruning end, 1 roots, 2 extra nodes, 0 pruned nodes, max_depth=1\u001b[0m\n",
      "\u001b[31m[69]#011train-auc:1#011validation-auc:0.973214\u001b[0m\n",
      "\u001b[31m[01:14:05] src/tree/updater_prune.cc:74: tree pruning end, 1 roots, 2 extra nodes, 0 pruned nodes, max_depth=1\u001b[0m\n",
      "\u001b[31m[70]#011train-auc:1#011validation-auc:0.97433\u001b[0m\n",
      "\u001b[31m[01:14:05] src/tree/updater_prune.cc:74: tree pruning end, 1 roots, 4 extra nodes, 0 pruned nodes, max_depth=2\u001b[0m\n",
      "\u001b[31m[71]#011train-auc:1#011validation-auc:0.973772\u001b[0m\n",
      "\u001b[31m[01:14:05] src/tree/updater_prune.cc:74: tree pruning end, 1 roots, 4 extra nodes, 0 pruned nodes, max_depth=2\u001b[0m\n",
      "\u001b[31m[72]#011train-auc:1#011validation-auc:0.973214\u001b[0m\n",
      "\u001b[31m[01:14:05] src/tree/updater_prune.cc:74: tree pruning end, 1 roots, 4 extra nodes, 0 pruned nodes, max_depth=2\u001b[0m\n",
      "\u001b[31m[73]#011train-auc:1#011validation-auc:0.973214\u001b[0m\n",
      "\u001b[31m[01:14:05] src/tree/updater_prune.cc:74: tree pruning end, 1 roots, 4 extra nodes, 0 pruned nodes, max_depth=2\u001b[0m\n",
      "\u001b[31m[74]#011train-auc:1#011validation-auc:0.975446\u001b[0m\n",
      "\u001b[31m[01:14:05] src/tree/updater_prune.cc:74: tree pruning end, 1 roots, 2 extra nodes, 0 pruned nodes, max_depth=1\u001b[0m\n",
      "\u001b[31m[75]#011train-auc:1#011validation-auc:0.975446\u001b[0m\n",
      "\u001b[31m[01:14:05] src/tree/updater_prune.cc:74: tree pruning end, 1 roots, 2 extra nodes, 0 pruned nodes, max_depth=1\u001b[0m\n",
      "\u001b[31m[76]#011train-auc:1#011validation-auc:0.977121\u001b[0m\n",
      "\u001b[31m[01:14:05] src/tree/updater_prune.cc:74: tree pruning end, 1 roots, 4 extra nodes, 0 pruned nodes, max_depth=2\u001b[0m\n",
      "\u001b[31m[77]#011train-auc:1#011validation-auc:0.976562\u001b[0m\n",
      "\u001b[31m[01:14:05] src/tree/updater_prune.cc:74: tree pruning end, 1 roots, 4 extra nodes, 0 pruned nodes, max_depth=2\u001b[0m\n",
      "\u001b[31m[78]#011train-auc:1#011validation-auc:0.978237\u001b[0m\n",
      "\u001b[31m[01:14:05] src/tree/updater_prune.cc:74: tree pruning end, 1 roots, 2 extra nodes, 0 pruned nodes, max_depth=1\u001b[0m\n",
      "\u001b[31m[79]#011train-auc:1#011validation-auc:0.978795\u001b[0m\n",
      "\u001b[31m[01:14:05] src/tree/updater_prune.cc:74: tree pruning end, 1 roots, 4 extra nodes, 0 pruned nodes, max_depth=2\u001b[0m\n",
      "\u001b[31m[80]#011train-auc:1#011validation-auc:0.977121\u001b[0m\n",
      "\u001b[31m[01:14:05] src/tree/updater_prune.cc:74: tree pruning end, 1 roots, 2 extra nodes, 0 pruned nodes, max_depth=1\u001b[0m\n",
      "\u001b[31m[81]#011train-auc:1#011validation-auc:0.976562\u001b[0m\n",
      "\u001b[31m[01:14:05] src/tree/updater_prune.cc:74: tree pruning end, 1 roots, 4 extra nodes, 0 pruned nodes, max_depth=2\u001b[0m\n",
      "\u001b[31m[82]#011train-auc:1#011validation-auc:0.975446\u001b[0m\n",
      "\u001b[31m[01:14:05] src/tree/updater_prune.cc:74: tree pruning end, 1 roots, 4 extra nodes, 0 pruned nodes, max_depth=2\u001b[0m\n",
      "\u001b[31m[83]#011train-auc:1#011validation-auc:0.973772\u001b[0m\n",
      "\u001b[31m[01:14:05] src/tree/updater_prune.cc:74: tree pruning end, 1 roots, 4 extra nodes, 0 pruned nodes, max_depth=2\u001b[0m\n",
      "\u001b[31m[84]#011train-auc:1#011validation-auc:0.976004\u001b[0m\n",
      "\u001b[31m[01:14:05] src/tree/updater_prune.cc:74: tree pruning end, 1 roots, 2 extra nodes, 0 pruned nodes, max_depth=1\u001b[0m\n",
      "\u001b[31m[85]#011train-auc:1#011validation-auc:0.976004\u001b[0m\n",
      "\u001b[31m[01:14:05] src/tree/updater_prune.cc:74: tree pruning end, 1 roots, 2 extra nodes, 2 pruned nodes, max_depth=1\u001b[0m\n",
      "\u001b[31m[86]#011train-auc:1#011validation-auc:0.976004\u001b[0m\n",
      "\u001b[31m[01:14:05] src/tree/updater_prune.cc:74: tree pruning end, 1 roots, 2 extra nodes, 0 pruned nodes, max_depth=1\u001b[0m\n",
      "\u001b[31m[87]#011train-auc:1#011validation-auc:0.973772\u001b[0m\n",
      "\u001b[31m[01:14:05] src/tree/updater_prune.cc:74: tree pruning end, 1 roots, 2 extra nodes, 0 pruned nodes, max_depth=1\u001b[0m\n",
      "\u001b[31m[88]#011train-auc:1#011validation-auc:0.974888\u001b[0m\n",
      "\u001b[31m[01:14:05] src/tree/updater_prune.cc:74: tree pruning end, 1 roots, 2 extra nodes, 0 pruned nodes, max_depth=1\u001b[0m\n",
      "\u001b[31m[89]#011train-auc:1#011validation-auc:0.974888\u001b[0m\n",
      "\u001b[31m[01:14:05] src/tree/updater_prune.cc:74: tree pruning end, 1 roots, 4 extra nodes, 0 pruned nodes, max_depth=2\u001b[0m\n",
      "\u001b[31m[90]#011train-auc:1#011validation-auc:0.973772\u001b[0m\n",
      "\u001b[31m[01:14:05] src/tree/updater_prune.cc:74: tree pruning end, 1 roots, 2 extra nodes, 0 pruned nodes, max_depth=1\u001b[0m\n",
      "\u001b[31m[91]#011train-auc:1#011validation-auc:0.973214\u001b[0m\n",
      "\u001b[31m[01:14:05] src/tree/updater_prune.cc:74: tree pruning end, 1 roots, 2 extra nodes, 0 pruned nodes, max_depth=1\u001b[0m\n",
      "\u001b[31m[92]#011train-auc:1#011validation-auc:0.973214\u001b[0m\n",
      "\u001b[31m[01:14:05] src/tree/updater_prune.cc:74: tree pruning end, 1 roots, 2 extra nodes, 0 pruned nodes, max_depth=1\u001b[0m\n",
      "\u001b[31m[93]#011train-auc:1#011validation-auc:0.972656\u001b[0m\n",
      "\u001b[31m[01:14:05] src/tree/updater_prune.cc:74: tree pruning end, 1 roots, 2 extra nodes, 0 pruned nodes, max_depth=1\u001b[0m\n",
      "\u001b[31m[94]#011train-auc:1#011validation-auc:0.973772\u001b[0m\n",
      "\u001b[31m[01:14:05] src/tree/updater_prune.cc:74: tree pruning end, 1 roots, 2 extra nodes, 0 pruned nodes, max_depth=1\u001b[0m\n",
      "\u001b[31m[95]#011train-auc:1#011validation-auc:0.973214\u001b[0m\n",
      "\u001b[31m[01:14:05] src/tree/updater_prune.cc:74: tree pruning end, 1 roots, 2 extra nodes, 0 pruned nodes, max_depth=1\u001b[0m\n",
      "\u001b[31m[96]#011train-auc:1#011validation-auc:0.970982\u001b[0m\n",
      "\u001b[31m[01:14:05] src/tree/updater_prune.cc:74: tree pruning end, 1 roots, 2 extra nodes, 0 pruned nodes, max_depth=1\u001b[0m\n",
      "\u001b[31m[97]#011train-auc:1#011validation-auc:0.970982\u001b[0m\n",
      "\u001b[31m[01:14:05] src/tree/updater_prune.cc:74: tree pruning end, 1 roots, 2 extra nodes, 0 pruned nodes, max_depth=1\u001b[0m\n",
      "\u001b[31m[98]#011train-auc:1#011validation-auc:0.972656\u001b[0m\n",
      "\u001b[31m[01:14:05] src/tree/updater_prune.cc:74: tree pruning end, 1 roots, 2 extra nodes, 0 pruned nodes, max_depth=1\u001b[0m\n",
      "\u001b[31m[99]#011train-auc:1#011validation-auc:0.974888\u001b[0m\n"
     ]
    },
    {
     "name": "stdout",
     "output_type": "stream",
     "text": [
      "\n",
      "Billable seconds: 96\n"
     ]
    }
   ],
   "source": [
    "# XGBoost supports \"train\", \"validation\" channels\n",
    "# Reference: Supported channels by algorithm    \n",
    "# https://docs.aws.amazon.com/sagemaker/latest/dg/sagemaker-algo-docker-registry-paths.html\n",
    "\n",
    "estimator.fit({'train': training_input_config, 'validation': test_input_config})"
   ]
  },
  {
   "cell_type": "markdown",
   "metadata": {},
   "source": [
    "## Deploy Model & Run Predictions:"
   ]
  },
  {
   "cell_type": "code",
   "execution_count": 19,
   "metadata": {},
   "outputs": [
    {
     "name": "stderr",
     "output_type": "stream",
     "text": [
      "INFO:sagemaker:Creating model with name: xgboost-2018-09-04-01-14-44-875\n",
      "INFO:sagemaker:Creating endpoint with name xgboost-IonosphereFreeElectrons-Train\n"
     ]
    },
    {
     "name": "stdout",
     "output_type": "stream",
     "text": [
      "---------------------------------------------------------------!"
     ]
    }
   ],
   "source": [
    "# Ref: http://sagemaker.readthedocs.io/en/latest/estimators.html\n",
    "predictor = estimator.deploy(initial_instance_count=1,\n",
    "                             instance_type='ml.m4.xlarge',\n",
    "                             endpoint_name = 'xgboost-IonosphereFreeElectrons-Train')"
   ]
  },
  {
   "cell_type": "code",
   "execution_count": 20,
   "metadata": {},
   "outputs": [],
   "source": [
    "# Run Predictions\n",
    "from sagemaker.predictor import csv_serializer, json_deserializer\n",
    "\n",
    "predictor.content_type = 'text/csv'\n",
    "predictor.serializer = csv_serializer\n",
    "predictor.deserializer = None"
   ]
  },
  {
   "cell_type": "code",
   "execution_count": 21,
   "metadata": {},
   "outputs": [],
   "source": [
    "df_test = pd.read_csv('IonosphereFreeElectrons_test.csv', header=None)\n",
    "\n",
    "X_test=df_test.loc[0:, 1:].as_matrix()\n",
    "y_test=df_test.loc[0:, 0].as_matrix()"
   ]
  },
  {
   "cell_type": "code",
   "execution_count": 22,
   "metadata": {},
   "outputs": [
    {
     "name": "stdout",
     "output_type": "stream",
     "text": [
      "(9, 34)\n",
      "(9, 34)\n",
      "(9, 34)\n",
      "(9, 34)\n",
      "(9, 34)\n",
      "(9, 34)\n",
      "(9, 34)\n",
      "(9, 34)\n",
      "(8, 34)\n",
      "(8, 34)\n"
     ]
    }
   ],
   "source": [
    "# For large number of predictions, we can split the input data and Query the prediction service.\n",
    "# array_split is convenient to specify how many splits are needed\n",
    "probability = []\n",
    "for arr in np.array_split(X_test,10):\n",
    "    result = predictor.predict(arr)\n",
    "    result = result.decode(\"utf-8\")\n",
    "    result = result.split(',')\n",
    "    print (arr.shape)\n",
    "    probability += [float(r) for r in result]\n",
    "    \n",
    "predictions=[0 if p<0.5 else 1 for p in probability]"
   ]
  },
  {
   "cell_type": "markdown",
   "metadata": {},
   "source": [
    "# Evaluate the initial model:"
   ]
  },
  {
   "cell_type": "code",
   "execution_count": 23,
   "metadata": {},
   "outputs": [
    {
     "name": "stdout",
     "output_type": "stream",
     "text": [
      "             precision    recall  f1-score   support\n",
      "\n",
      "          0       1.00      0.81      0.90        32\n",
      "          1       0.90      1.00      0.95        56\n",
      "\n",
      "avg / total       0.94      0.93      0.93        88\n",
      "\n"
     ]
    }
   ],
   "source": [
    "# Classification report:\n",
    "from sklearn.metrics import roc_curve, auc, confusion_matrix, classification_report, roc_auc_score\n",
    "\n",
    "report=classification_report(y_test, predictions)\n",
    "print(report)"
   ]
  },
  {
   "cell_type": "code",
   "execution_count": 24,
   "metadata": {},
   "outputs": [
    {
     "name": "stdout",
     "output_type": "stream",
     "text": [
      "Confusion matrix, without normalization\n",
      "[[26  6]\n",
      " [ 0 56]]\n",
      "Normalized confusion matrix\n",
      "[[0.81 0.19]\n",
      " [0.   1.  ]]\n"
     ]
    },
    {
     "data": {
      "image/png": "[encoded data removed]",
      "text/plain": [
       "<Figure size 432x288 with 2 Axes>"
      ]
     },
     "metadata": {},
     "output_type": "display_data"
    }
   ],
   "source": [
    "# Plot a confusion matrix.\n",
    "# cm is the confusion matrix, names are the names of the classes.\n",
    "def plot_confusion_matrix(cm, names, title='Confusion matrix', cmap=plt.cm.Blues):\n",
    "    plt.imshow(cm, interpolation='nearest', cmap=cmap)\n",
    "    plt.title(title)\n",
    "    plt.colorbar()\n",
    "    tick_marks = np.arange(len(names))\n",
    "    plt.xticks(tick_marks, names, rotation=45)\n",
    "    plt.yticks(tick_marks, names)\n",
    "    plt.tight_layout()\n",
    "    plt.ylabel('True label')\n",
    "    plt.xlabel('Predicted label')\n",
    "\n",
    "names = [\"0\", \"1\"]\n",
    "\n",
    "# Compute confusion matrix\n",
    "cm = confusion_matrix(y_test, predictions)\n",
    "np.set_printoptions(precision=2)\n",
    "print('Confusion matrix, without normalization')\n",
    "print(cm)\n",
    "\n",
    "# Normalize the confusion matrix by row (i.e by the number of samples in each class)\n",
    "cm_normalized = cm.astype('float') / cm.sum(axis=1)[:, np.newaxis]\n",
    "print('Normalized confusion matrix')\n",
    "print(cm_normalized)\n",
    "plt.figure()\n",
    "plot_confusion_matrix(cm_normalized, names, title='Normalized confusion matrix')\n",
    "\n",
    "plt.show()"
   ]
  },
  {
   "cell_type": "code",
   "execution_count": 25,
   "metadata": {},
   "outputs": [
    {
     "data": {
      "image/png": "[encoded data removed]",
      "text/plain": [
       "<Figure size 432x288 with 1 Axes>"
      ]
     },
     "metadata": {},
     "output_type": "display_data"
    }
   ],
   "source": [
    "# ROC curve & auc:\n",
    "from  sklearn.metrics import precision_recall_curve, roc_curve, roc_auc_score, average_precision_score\n",
    "\n",
    "fpr, tpr, thresholds=roc_curve(np.array(y_test), probability, pos_label=1)\n",
    "roc_auc=roc_auc_score(np.array(y_test), probability)\n",
    "\n",
    "plt.figure()\n",
    "\n",
    "plt.step(fpr, tpr, color='darkorange', lw=2, label='ROC curve (auc = %0.2f)' % roc_auc)\n",
    "plt.plot([0, 1], [0, 1], color='navy', alpha=0.4, lw=2, linestyle='--')\n",
    "plt.xlim([0.0, 1.0])\n",
    "plt.ylim([0.0, 1.05])\n",
    "plt.xlabel('False Positive Rate')\n",
    "plt.ylabel('True Positive Rate')\n",
    "plt.title('ROC curve')\n",
    "plt.legend(loc=\"lower right\")\n",
    "\n",
    "plt.plot([cm_normalized[0,1]], [cm_normalized[1,1]], 'or')\n",
    "plt.show()"
   ]
  },
  {
   "cell_type": "code",
   "execution_count": 26,
   "metadata": {},
   "outputs": [
    {
     "data": {
      "image/png": "[encoded data removed]",
      "text/plain": [
       "<Figure size 432x288 with 1 Axes>"
      ]
     },
     "metadata": {},
     "output_type": "display_data"
    }
   ],
   "source": [
    "# Precision-Recall trade-off:\n",
    "precision, recall, thresholds=precision_recall_curve(y_test, probability,  pos_label=1)\n",
    "ave_precision=average_precision_score(y_test, probability)\n",
    "\n",
    "plt.step(recall, precision, color='navy')\n",
    "\n",
    "plt.xlabel('Recall')\n",
    "plt.ylabel('Precision')\n",
    "plt.xlim([0, 1.001])\n",
    "plt.ylim([0, 1.02])\n",
    "plt.title('Precision-Recall curve: AP={0:0.2f}'.format(ave_precision))\n",
    "\n",
    "plt.plot(cm_normalized[1,1], cm[1,1]/(cm[1,1]+cm[0,1]), 'ob')\n",
    "plt.show()"
   ]
  },
  {
   "cell_type": "code",
   "execution_count": 27,
   "metadata": {},
   "outputs": [],
   "source": [
    "# boto3.Session().client('sagemaker').delete_endpoint(EndpointName='xgboost-bikeRental-Optimized')"
   ]
  },
  {
   "cell_type": "code",
   "execution_count": null,
   "metadata": {},
   "outputs": [],
   "source": []
  }
 ],
 "metadata": {
  "kernelspec": {
   "display_name": "Python 3",
   "language": "python",
   "name": "python3"
  },
  "language_info": {
   "codemirror_mode": {
    "name": "ipython",
    "version": 3
   },
   "file_extension": ".py",
   "mimetype": "text/x-python",
   "name": "python",
   "nbconvert_exporter": "python",
   "pygments_lexer": "ipython3",
   "version": "3.6.5"
  }
 },
 "nbformat": 4,
 "nbformat_minor": 2
}
