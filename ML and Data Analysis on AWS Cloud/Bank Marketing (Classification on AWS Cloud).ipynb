{
 "cells": [
  {
   "cell_type": "markdown",
   "metadata": {},
   "source": [
    "# Problem statement: \n",
    "   The data is related with direct marketing campaigns of a Portuguese banking institution. The marketing campaigns were based on phone calls. Often, more than one contact to the same client was required, in order to access if the product (bank term deposit) would be ('yes') or not ('no') subscribed. Please check the description at: http://archive.ics.uci.edu/ml/datasets/Bank+Marketing\n",
    "* Dataset is imbalanced. The data has 41188 rows and 20 variables.\n",
    "* This is a classification problem. The classification goal is to predict if the client will subscribe (yes/no) a term deposit (variable y).\n",
    "\n",
    "\n",
    "# Workflow:\n",
    "- Load the dataset\n",
    "- Basic data processing\n",
    "\n",
    "## 1) Local mode training, by using a subset of large dataset\n",
    "\n",
    "## 2) Training on SageMaker Cloud:\n",
    "   - Prepare data for SageMaker cloud training:\n",
    "       - Convert data to .csv and .recordio types\n",
    "       - Upload training and validation datasets to S3 bucket\n",
    "       \n",
    "   - Specify training algorithm Docker Image\n",
    "   - Build the XGBoost model\n",
    "   - Specify training data location and optionally, validation data location\n",
    "   - Train the model on SageMaker cloud\n",
    "   - Deploy the model, and run real-time predictions\n",
    "   - Evaluate the model (by auc score, confusion matrix, f1 score, roc curve, etc.)   \n",
    "\n"
   ]
  },
  {
   "cell_type": "code",
   "execution_count": 1,
   "metadata": {},
   "outputs": [
    {
     "name": "stdout",
     "output_type": "stream",
     "text": [
      "Solving environment: done\n",
      "\n",
      "\n",
      "==> WARNING: A newer version of conda exists. <==\n",
      "  current version: 4.4.10\n",
      "  latest version: 4.5.11\n",
      "\n",
      "Please update conda by running\n",
      "\n",
      "    $ conda update -n base conda\n",
      "\n",
      "\n",
      "\n",
      "## Package Plan ##\n",
      "\n",
      "  environment location: /home/ec2-user/anaconda3/envs/python3\n",
      "\n",
      "  added / updated specs: \n",
      "    - xgboost\n",
      "\n",
      "\n",
      "The following packages will be downloaded:\n",
      "\n",
      "    package                    |            build\n",
      "    ---------------------------|-----------------\n",
      "    ca-certificates-2018.8.24  |       ha4d7672_0         136 KB  conda-forge\n",
      "    numpy-1.14.3               |   py36h28100ab_1          41 KB\n",
      "    xgboost-0.72.1             |   py36hfc679d8_1         1.6 MB  conda-forge\n",
      "    certifi-2018.8.24          |           py36_1         139 KB  conda-forge\n",
      "    openssl-1.0.2p             |       h470a237_0         3.5 MB  conda-forge\n",
      "    ------------------------------------------------------------\n",
      "                                           Total:         5.5 MB\n",
      "\n",
      "The following NEW packages will be INSTALLED:\n",
      "\n",
      "    xgboost:         0.72.1-py36hfc679d8_1                 conda-forge\n",
      "\n",
      "The following packages will be UPDATED:\n",
      "\n",
      "    ca-certificates: 2018.4.16-0                           conda-forge --> 2018.8.24-ha4d7672_0  conda-forge\n",
      "    certifi:         2018.8.13-py36_0                      conda-forge --> 2018.8.24-py36_1      conda-forge\n",
      "    openssl:         1.0.2o-h470a237_1                     conda-forge --> 1.0.2p-h470a237_0     conda-forge\n",
      "\n",
      "The following packages will be DOWNGRADED:\n",
      "\n",
      "    blas:            1.1-openblas                          conda-forge --> 1.0-mkl                          \n",
      "    numpy:           1.15.0-py36_blas_openblashd3ea46f_200 conda-forge [blas_openblas] --> 1.14.3-py36h28100ab_1            \n",
      "    opencv:          3.4.1-py36_blas_openblash829a850_201  conda-forge [blas_openblas] --> 3.4.1-py36h6fd60c2_1             \n",
      "    scikit-learn:    0.19.2-py36_blas_openblasha84fab4_201 conda-forge [blas_openblas] --> 0.19.1-py36h7aa7ec6_0            \n",
      "    scipy:           1.1.0-py36_blas_openblash7943236_201  conda-forge [blas_openblas] --> 1.1.0-py36hfc37229_0             \n",
      "\n",
      "\n",
      "Downloading and Extracting Packages\n",
      "ca-certificates 2018.8.24: ############################################# | 100% \n",
      "numpy 1.14.3: ########################################################## | 100% \n",
      "xgboost 0.72.1: ######################################################## | 100% \n",
      "certifi 2018.8.24: ##################################################### | 100% \n",
      "openssl 1.0.2p: ######################################################## | 100% \n",
      "Preparing transaction: done\n",
      "Verifying transaction: done\n",
      "Executing transaction: done\n",
      "Solving environment: done\n",
      "\n",
      "\n",
      "==> WARNING: A newer version of conda exists. <==\n",
      "  current version: 4.4.10\n",
      "  latest version: 4.5.11\n",
      "\n",
      "Please update conda by running\n",
      "\n",
      "    $ conda update -n base conda\n",
      "\n",
      "\n",
      "\n",
      "## Package Plan ##\n",
      "\n",
      "  environment location: /home/ec2-user/anaconda3/envs/python3\n",
      "\n",
      "  added / updated specs: \n",
      "    - numpy\n",
      "\n",
      "\n",
      "The following packages will be downloaded:\n",
      "\n",
      "    package                    |            build\n",
      "    ---------------------------|-----------------\n",
      "    libgcc-ng-8.2.0            |       hdf63c60_1         7.6 MB\n",
      "    mkl_fft-1.0.4              |   py36h4414c95_1         150 KB\n",
      "    certifi-2018.8.24          |           py36_1         140 KB\n",
      "    mkl-2018.0.3               |                1       198.7 MB\n",
      "    numpy-1.15.1               |   py36h1d66e8a_0          37 KB\n",
      "    numpy-base-1.15.1          |   py36h81de0dd_0         4.2 MB\n",
      "    ------------------------------------------------------------\n",
      "                                           Total:       210.8 MB\n",
      "\n",
      "The following packages will be UPDATED:\n",
      "\n",
      "    certifi:         2018.8.24-py36_1      conda-forge --> 2018.8.24-py36_1     \n",
      "    libgcc-ng:       7.2.0-hdf63c60_3                  --> 8.2.0-hdf63c60_1     \n",
      "    mkl:             2018.0.2-1                        --> 2018.0.3-1           \n",
      "    mkl_fft:         1.0.1-py36h3010b51_0              --> 1.0.4-py36h4414c95_1 \n",
      "    numpy:           1.14.3-py36h28100ab_1             --> 1.15.1-py36h1d66e8a_0\n",
      "    numpy-base:      1.14.3-py36h0ea5e3f_1             --> 1.15.1-py36h81de0dd_0\n",
      "    openssl:         1.0.2p-h470a237_0     conda-forge --> 1.0.2p-h14c3975_0    \n",
      "\n",
      "The following packages will be DOWNGRADED:\n",
      "\n",
      "    ca-certificates: 2018.8.24-ha4d7672_0  conda-forge --> 2018.03.07-0         \n",
      "\n",
      "\n",
      "Downloading and Extracting Packages\n",
      "libgcc-ng 8.2.0: ####################################################### | 100% \n",
      "mkl_fft 1.0.4: ######################################################### | 100% \n",
      "certifi 2018.8.24: ##################################################### | 100% \n",
      "mkl 2018.0.3: ########################################################## | 100% \n",
      "numpy 1.15.1: ########################################################## | 100% \n",
      "numpy-base 1.15.1: ##################################################### | 100% \n",
      "Preparing transaction: done\n",
      "Verifying transaction: done\n",
      "Executing transaction: done\n"
     ]
    }
   ],
   "source": [
    "# Istall XGBoost package and update numpy (for the local mode):\n",
    "!conda install -y -c conda-forge xgboost\n",
    "!conda update -y numpy"
   ]
  },
  {
   "cell_type": "code",
   "execution_count": 2,
   "metadata": {},
   "outputs": [],
   "source": [
    "import sklearn\n",
    "import xgboost\n",
    "import numpy as np\n",
    "import pandas as pd\n",
    "import matplotlib.pyplot as plt\n",
    "import seaborn as sns\n",
    "from sklearn import preprocessing\n",
    "%matplotlib inline\n",
    "from scipy import stats\n",
    "\n",
    "import warnings\n",
    "warnings.filterwarnings(\"ignore\")\n",
    "\n",
    "import boto3\n",
    "import sagemaker\n",
    "import sagemaker.amazon.common as smac\n",
    "from sagemaker import get_execution_role"
   ]
  },
  {
   "cell_type": "code",
   "execution_count": 3,
   "metadata": {},
   "outputs": [
    {
     "name": "stdout",
     "output_type": "stream",
     "text": [
      "<class 'pandas.core.frame.DataFrame'>\n",
      "RangeIndex: 41188 entries, 0 to 41187\n",
      "Data columns (total 21 columns):\n",
      "age               41188 non-null int64\n",
      "job               41188 non-null object\n",
      "marital           41188 non-null object\n",
      "education         41188 non-null object\n",
      "default           41188 non-null object\n",
      "housing           41188 non-null object\n",
      "loan              41188 non-null object\n",
      "contact           41188 non-null object\n",
      "month             41188 non-null object\n",
      "day_of_week       41188 non-null object\n",
      "duration          41188 non-null int64\n",
      "campaign          41188 non-null int64\n",
      "pdays             41188 non-null int64\n",
      "previous          41188 non-null int64\n",
      "poutcome          41188 non-null object\n",
      "emp.var.rate      41188 non-null float64\n",
      "cons.price.idx    41188 non-null float64\n",
      "cons.conf.idx     41188 non-null float64\n",
      "euribor3m         41188 non-null float64\n",
      "nr.employed       41188 non-null float64\n",
      "y                 41188 non-null object\n",
      "dtypes: float64(5), int64(5), object(11)\n",
      "memory usage: 6.6+ MB\n"
     ]
    }
   ],
   "source": [
    "df=pd.read_csv('bankMarketing_All.csv', sep = ';')\n",
    "\n",
    "# To Shuffle the data:\n",
    "np.random.seed(42)\n",
    "df=df.reindex(np.random.permutation(df.index))\n",
    "df.reset_index(inplace=True, drop=True)\n",
    "\n",
    "df.info()"
   ]
  },
  {
   "cell_type": "markdown",
   "metadata": {},
   "source": [
    "# Data Preparation/Cleaning:"
   ]
  },
  {
   "cell_type": "code",
   "execution_count": 4,
   "metadata": {},
   "outputs": [],
   "source": [
    "L_cat=['poutcome', 'job', 'marital', 'education', 'default', 'housing', 'loan', \n",
    "       'contact', 'month', 'day_of_week']\n",
    "L_con=['age', 'duration', 'campaign', 'pdays', 'previous', 'emp.var.rate', 'cons.price.idx',\n",
    "       'cons.conf.idx', 'euribor3m', 'nr.employed']"
   ]
  },
  {
   "cell_type": "code",
   "execution_count": 6,
   "metadata": {},
   "outputs": [
    {
     "data": {
      "text/html": [
       "<div>\n",
       "<style scoped>\n",
       "    .dataframe tbody tr th:only-of-type {\n",
       "        vertical-align: middle;\n",
       "    }\n",
       "\n",
       "    .dataframe tbody tr th {\n",
       "        vertical-align: top;\n",
       "    }\n",
       "\n",
       "    .dataframe thead th {\n",
       "        text-align: right;\n",
       "    }\n",
       "</style>\n",
       "<table border=\"1\" class=\"dataframe\">\n",
       "  <thead>\n",
       "    <tr style=\"text-align: right;\">\n",
       "      <th></th>\n",
       "      <th>age</th>\n",
       "      <th>job</th>\n",
       "      <th>marital</th>\n",
       "      <th>education</th>\n",
       "      <th>default</th>\n",
       "      <th>housing</th>\n",
       "      <th>loan</th>\n",
       "      <th>contact</th>\n",
       "      <th>month</th>\n",
       "      <th>day_of_week</th>\n",
       "      <th>...</th>\n",
       "      <th>campaign</th>\n",
       "      <th>pdays</th>\n",
       "      <th>previous</th>\n",
       "      <th>poutcome</th>\n",
       "      <th>emp.var.rate</th>\n",
       "      <th>cons.price.idx</th>\n",
       "      <th>cons.conf.idx</th>\n",
       "      <th>euribor3m</th>\n",
       "      <th>nr.employed</th>\n",
       "      <th>y</th>\n",
       "    </tr>\n",
       "  </thead>\n",
       "  <tbody>\n",
       "    <tr>\n",
       "      <th>0</th>\n",
       "      <td>56</td>\n",
       "      <td>3</td>\n",
       "      <td>1</td>\n",
       "      <td>0</td>\n",
       "      <td>0</td>\n",
       "      <td>0</td>\n",
       "      <td>0</td>\n",
       "      <td>1</td>\n",
       "      <td>6</td>\n",
       "      <td>1</td>\n",
       "      <td>...</td>\n",
       "      <td>1</td>\n",
       "      <td>999</td>\n",
       "      <td>0</td>\n",
       "      <td>1</td>\n",
       "      <td>1.1</td>\n",
       "      <td>93.994</td>\n",
       "      <td>-36.4</td>\n",
       "      <td>4.857</td>\n",
       "      <td>5191.0</td>\n",
       "      <td>0</td>\n",
       "    </tr>\n",
       "    <tr>\n",
       "      <th>1</th>\n",
       "      <td>57</td>\n",
       "      <td>7</td>\n",
       "      <td>1</td>\n",
       "      <td>3</td>\n",
       "      <td>1</td>\n",
       "      <td>0</td>\n",
       "      <td>0</td>\n",
       "      <td>1</td>\n",
       "      <td>6</td>\n",
       "      <td>1</td>\n",
       "      <td>...</td>\n",
       "      <td>1</td>\n",
       "      <td>999</td>\n",
       "      <td>0</td>\n",
       "      <td>1</td>\n",
       "      <td>1.1</td>\n",
       "      <td>93.994</td>\n",
       "      <td>-36.4</td>\n",
       "      <td>4.857</td>\n",
       "      <td>5191.0</td>\n",
       "      <td>0</td>\n",
       "    </tr>\n",
       "    <tr>\n",
       "      <th>2</th>\n",
       "      <td>37</td>\n",
       "      <td>7</td>\n",
       "      <td>1</td>\n",
       "      <td>3</td>\n",
       "      <td>0</td>\n",
       "      <td>2</td>\n",
       "      <td>0</td>\n",
       "      <td>1</td>\n",
       "      <td>6</td>\n",
       "      <td>1</td>\n",
       "      <td>...</td>\n",
       "      <td>1</td>\n",
       "      <td>999</td>\n",
       "      <td>0</td>\n",
       "      <td>1</td>\n",
       "      <td>1.1</td>\n",
       "      <td>93.994</td>\n",
       "      <td>-36.4</td>\n",
       "      <td>4.857</td>\n",
       "      <td>5191.0</td>\n",
       "      <td>0</td>\n",
       "    </tr>\n",
       "  </tbody>\n",
       "</table>\n",
       "<p>3 rows × 21 columns</p>\n",
       "</div>"
      ],
      "text/plain": [
       "   age  job  marital  education  default  housing  loan  contact  month  \\\n",
       "0   56    3        1          0        0        0     0        1      6   \n",
       "1   57    7        1          3        1        0     0        1      6   \n",
       "2   37    7        1          3        0        2     0        1      6   \n",
       "\n",
       "   day_of_week ...  campaign  pdays  previous  poutcome  emp.var.rate  \\\n",
       "0            1 ...         1    999         0         1           1.1   \n",
       "1            1 ...         1    999         0         1           1.1   \n",
       "2            1 ...         1    999         0         1           1.1   \n",
       "\n",
       "   cons.price.idx  cons.conf.idx  euribor3m  nr.employed  y  \n",
       "0          93.994          -36.4      4.857       5191.0  0  \n",
       "1          93.994          -36.4      4.857       5191.0  0  \n",
       "2          93.994          -36.4      4.857       5191.0  0  \n",
       "\n",
       "[3 rows x 21 columns]"
      ]
     },
     "execution_count": 6,
     "metadata": {},
     "output_type": "execute_result"
    }
   ],
   "source": [
    "from sklearn.preprocessing import LabelEncoder\n",
    "\n",
    "# Encode text values to indexes(i.e. [1],[2],[3] for red,green,blue).\n",
    "def encode_text_index(df, name):\n",
    "    le = preprocessing.LabelEncoder()\n",
    "    df[name] = le.fit_transform(df[name])\n",
    "    return le.classes_\n",
    "\n",
    "\n",
    "encode_text_index(df, 'y')\n",
    "\n",
    "for c in L_cat:\n",
    "    encode_text_index(df, c)\n",
    "    \n",
    "df.head(3)"
   ]
  },
  {
   "cell_type": "code",
   "execution_count": 7,
   "metadata": {},
   "outputs": [],
   "source": [
    "X=df.drop(['y'], axis=1)\n",
    "y=df['y']\n",
    "\n",
    "# We initially devide data into training & test folds: We do the Grid-Search only on training part  \n",
    "from sklearn.model_selection import train_test_split\n",
    "X_train, X_test, y_train, y_test = train_test_split(X, y, test_size=0.3, random_state=42, shuffle=True, stratify=y)"
   ]
  },
  {
   "cell_type": "code",
   "execution_count": 8,
   "metadata": {},
   "outputs": [],
   "source": [
    "df_train = pd.concat([y_train, X_train], axis=1)\n",
    "df_test = pd.concat([y_test, X_test], axis=1) "
   ]
  },
  {
   "cell_type": "code",
   "execution_count": 9,
   "metadata": {},
   "outputs": [],
   "source": [
    "# Write to SageMaker Notebook Instance: It is saved in the folder where this ipynb was created\n",
    "\n",
    "df_train.to_csv('bankMarketing_train.csv', index=False, header=False)\n",
    "df_test.to_csv('bankMarketing_test.csv', index=False, header=False)"
   ]
  },
  {
   "cell_type": "markdown",
   "metadata": {},
   "source": [
    "#  1) Local Mode Training (usually on a subset of large dataset): "
   ]
  },
  {
   "cell_type": "code",
   "execution_count": 11,
   "metadata": {},
   "outputs": [
    {
     "name": "stdout",
     "output_type": "stream",
     "text": [
      "[0.94958122 0.94545511 0.94501575] \n",
      "\n",
      "Accuracy: 0.95 (+/- 0.00)\n"
     ]
    }
   ],
   "source": [
    "# Building the Initial Model & Cross-Validation: \n",
    "import xgboost\n",
    "from xgboost import XGBClassifier\n",
    "from sklearn.model_selection import cross_val_score\n",
    "from sklearn.model_selection import StratifiedKFold\n",
    "\n",
    "hyper_params={'gamma': 0, \n",
    "              'max_depth': 6, \n",
    "              'min_child_weight': 10, \n",
    "              'subsample': 0.7}\n",
    "\n",
    "model=XGBClassifier(**hyper_params, missing=999, scale_pos_weight=36548/4640, seed=42) \n",
    "kfold=StratifiedKFold(n_splits=3, shuffle=True, random_state=42)\n",
    "scores=cross_val_score(model, X_train, y_train, cv=kfold, scoring='roc_auc')\n",
    "\n",
    "print(scores, \"\\n\")\n",
    "print(\"Accuracy: %0.2f (+/- %0.2f)\" % (scores.mean(), scores.std()))"
   ]
  },
  {
   "cell_type": "markdown",
   "metadata": {},
   "source": [
    "# 2)  Training on SageMaker Cloud"
   ]
  },
  {
   "cell_type": "markdown",
   "metadata": {},
   "source": [
    "# preparing data for SageMaker cloud training: \n",
    "    - Converting data to .csv or .recodio types\n",
    "    - Uploading training & validation datasets to S3 bucket"
   ]
  },
  {
   "cell_type": "code",
   "execution_count": 12,
   "metadata": {},
   "outputs": [],
   "source": [
    "# Specify the Keys and Location of Train & Test datasets in S3:\n",
    "bucket_name = 'roohi-ml-sagemaker'\n",
    "training_file_key = 'bankMarketing/bankMarketing_train.csv'\n",
    "test_file_key = 'bankMarketing/bankMarketing_test.csv'\n",
    "\n",
    "s3_model_output_location = r's3://{0}/bankMarketing/model'.format(bucket_name)\n",
    "s3_training_file_location = r's3://{0}/{1}'.format(bucket_name,training_file_key)\n",
    "s3_test_file_location = r's3://{0}/{1}'.format(bucket_name,test_file_key)"
   ]
  },
  {
   "cell_type": "code",
   "execution_count": 13,
   "metadata": {},
   "outputs": [],
   "source": [
    "# Write and Reading from S3 is just as easy\n",
    "# files are referred as objects in S3. File name is referred as key name in S3.\n",
    "# Files stored in S3 are automatically replicated across 3 different availability zones in the region where the bucket was created.\n",
    "# http://boto3.readthedocs.io/en/latest/guide/s3.html\n",
    "\n",
    "def write_to_s3(filename, bucket, key):\n",
    "    with open(filename,'rb') as f: # Read in binary mode\n",
    "        return boto3.Session().resource('s3').Bucket(bucket).Object(key).upload_fileobj(f)"
   ]
  },
  {
   "cell_type": "code",
   "execution_count": 14,
   "metadata": {},
   "outputs": [],
   "source": [
    "write_to_s3('bankMarketing_train.csv', bucket_name, training_file_key)\n",
    "write_to_s3('bankMarketing_test.csv', bucket_name, test_file_key)"
   ]
  },
  {
   "cell_type": "markdown",
   "metadata": {},
   "source": [
    "   # Training Algorithm Docker Image:  \n",
    "    Note: AWS Maintains a separate image for every region and algorithm"
   ]
  },
  {
   "cell_type": "code",
   "execution_count": 15,
   "metadata": {},
   "outputs": [],
   "source": [
    "# Registry Path for algorithms provided by SageMaker\n",
    "#  https://docs.aws.amazon.com/sagemaker/latest/dg/sagemaker-algo-docker-registry-paths.html\n",
    "containers = {'us-west-2': '433757028032.dkr.ecr.us-west-2.amazonaws.com/xgboost:latest',\n",
    "              'us-east-1': '811284229777.dkr.ecr.us-east-1.amazonaws.com/xgboost:latest',\n",
    "              'us-east-2': '825641698319.dkr.ecr.us-east-2.amazonaws.com/xgboost:latest',\n",
    "              'eu-west-1': '685385470294.dkr.ecr.eu-west-1.amazonaws.com/xgboost:latest'}"
   ]
  },
  {
   "cell_type": "code",
   "execution_count": 16,
   "metadata": {},
   "outputs": [
    {
     "name": "stdout",
     "output_type": "stream",
     "text": [
      "arn:aws:iam::928921801380:role/service-role/AmazonSageMaker-ExecutionRole-20180831T120207\n"
     ]
    }
   ],
   "source": [
    "role = get_execution_role()\n",
    "\n",
    "# This role contains the permissions needed to train, deploy models\n",
    "# SageMaker Service is trusted to assume this role\n",
    "print(role)"
   ]
  },
  {
   "cell_type": "markdown",
   "metadata": {},
   "source": [
    "# Build model: "
   ]
  },
  {
   "cell_type": "code",
   "execution_count": 33,
   "metadata": {},
   "outputs": [],
   "source": [
    "sess = sagemaker.Session()"
   ]
  },
  {
   "cell_type": "code",
   "execution_count": 37,
   "metadata": {},
   "outputs": [],
   "source": [
    "# Access appropriate algorithm container image\n",
    "#  Specify how many instances to use for distributed training and what type of machine to use\n",
    "#  Finally, specify where the trained model artifacts needs to be stored\n",
    "#   Reference: http://sagemaker.readthedocs.io/en/latest/estimators.html\n",
    "#    Optionally, give a name to the training job using base_job_name\n",
    "\n",
    "estimator = sagemaker.estimator.Estimator(containers[boto3.Session().region_name],\n",
    "                                       role,\n",
    "                                       train_instance_count=1, \n",
    "                                       train_instance_type='ml.m4.xlarge',\n",
    "                                       output_path=s3_model_output_location,\n",
    "                                       sagemaker_session=sess,\n",
    "                                       base_job_name ='xgboost-bankMarketing-Train')"
   ]
  },
  {
   "cell_type": "code",
   "execution_count": 40,
   "metadata": {},
   "outputs": [
    {
     "data": {
      "text/plain": [
       "{'gamma': 0,\n",
       " 'max_depth': 6,\n",
       " 'min_child_weight': 10,\n",
       " 'subsample': 0.7,\n",
       " 'eval_metric': 'auc',\n",
       " 'objective': 'binary:logistic',\n",
       " 'missing': 999,\n",
       " 'scale_pos_weight': 7.876539408866995,\n",
       " 'seed': 42,\n",
       " 'num_round': 100}"
      ]
     },
     "execution_count": 40,
     "metadata": {},
     "output_type": "execute_result"
    }
   ],
   "source": [
    "# Specify hyper parameters that appropriate for the training algorithm\n",
    "# Take a look this table for metrics & parameters:   https://docs.aws.amazon.com/sagemaker/latest/dg/xgboost-tuning.html\n",
    "\n",
    "classRatio=df_train['y'].value_counts()[0]/df_train['y'].value_counts()[1]\n",
    "\n",
    "hyper_params={'gamma': 0, \n",
    "              'max_depth': 6, \n",
    "              'min_child_weight': 10, \n",
    "              'subsample': 0.7,\n",
    "              'eval_metric':'auc',          \n",
    "              'objective':'binary:logistic',    \n",
    "              'missing':999, \n",
    "              'scale_pos_weight':classRatio, \n",
    "              'seed':42, \n",
    "              'num_round':100}\n",
    "\n",
    "estimator.set_hyperparameters(**hyper_params)\n",
    "\n",
    "estimator.hyperparameters()"
   ]
  },
  {
   "cell_type": "markdown",
   "metadata": {},
   "source": [
    "#    Specify Training Data Location and Optionally, Validation Data Location:"
   ]
  },
  {
   "cell_type": "code",
   "execution_count": 41,
   "metadata": {},
   "outputs": [
    {
     "name": "stdout",
     "output_type": "stream",
     "text": [
      "{'DataSource': {'S3DataSource': {'S3DataDistributionType': 'FullyReplicated', 'S3DataType': 'S3Prefix', 'S3Uri': 's3://roohi-ml-sagemaker/bankMarketing/bankMarketing_train.csv'}}, 'ContentType': 'csv'}\n",
      "{'DataSource': {'S3DataSource': {'S3DataDistributionType': 'FullyReplicated', 'S3DataType': 'S3Prefix', 'S3Uri': 's3://roohi-ml-sagemaker/bankMarketing/bankMarketing_test.csv'}}, 'ContentType': 'csv'}\n"
     ]
    }
   ],
   "source": [
    "# content type can be libsvm or csv for XGBoost\n",
    "training_input_config = sagemaker.session.s3_input(s3_data=s3_training_file_location, content_type=\"csv\")\n",
    "test_input_config = sagemaker.session.s3_input(s3_data=s3_test_file_location, content_type=\"csv\")\n",
    "\n",
    "print(training_input_config.config)\n",
    "print(test_input_config.config)"
   ]
  },
  {
   "cell_type": "markdown",
   "metadata": {},
   "source": [
    "# Train the model on SM cloud:"
   ]
  },
  {
   "cell_type": "code",
   "execution_count": 42,
   "metadata": {},
   "outputs": [
    {
     "name": "stderr",
     "output_type": "stream",
     "text": [
      "INFO:sagemaker:Creating training-job with name: xgboost-bankMarketing-Train-2018-09-03-04-59-38-732\n"
     ]
    },
    {
     "name": "stdout",
     "output_type": "stream",
     "text": [
      "....................\n",
      "\u001b[31mArguments: train\u001b[0m\n",
      "\u001b[31m[2018-09-03:05:02:49:INFO] Running standalone xgboost training.\u001b[0m\n",
      "\u001b[31m[2018-09-03:05:02:49:INFO] File size need to be processed in the node: 2.85mb. Available memory size in the node: 8606.85mb\u001b[0m\n",
      "\u001b[31m[2018-09-03:05:02:49:INFO] Determined delimiter of CSV input is ','\u001b[0m\n",
      "\u001b[31m[05:02:49] S3DistributionType set as FullyReplicated\u001b[0m\n",
      "\u001b[31m[05:02:49] 28831x20 matrix with 576620 entries loaded from /opt/ml/input/data/train?format=csv&label_column=0&delimiter=,\u001b[0m\n",
      "\u001b[31m[2018-09-03:05:02:49:INFO] Determined delimiter of CSV input is ','\u001b[0m\n",
      "\u001b[31m[05:02:49] S3DistributionType set as FullyReplicated\u001b[0m\n",
      "\u001b[31m[05:02:49] 12357x20 matrix with 247140 entries loaded from /opt/ml/input/data/validation?format=csv&label_column=0&delimiter=,\u001b[0m\n",
      "\u001b[31m[05:02:49] src/tree/updater_prune.cc:74: tree pruning end, 1 roots, 104 extra nodes, 0 pruned nodes, max_depth=6\u001b[0m\n",
      "\u001b[31m[0]#011train-auc:0.942132#011validation-auc:0.941644\u001b[0m\n",
      "\u001b[31m[05:02:49] src/tree/updater_prune.cc:74: tree pruning end, 1 roots, 104 extra nodes, 0 pruned nodes, max_depth=6\u001b[0m\n",
      "\u001b[31m[1]#011train-auc:0.945893#011validation-auc:0.943801\u001b[0m\n",
      "\u001b[31m[05:02:49] src/tree/updater_prune.cc:74: tree pruning end, 1 roots, 106 extra nodes, 0 pruned nodes, max_depth=6\u001b[0m\n",
      "\u001b[31m[2]#011train-auc:0.949363#011validation-auc:0.945275\u001b[0m\n",
      "\u001b[31m[05:02:49] src/tree/updater_prune.cc:74: tree pruning end, 1 roots, 100 extra nodes, 0 pruned nodes, max_depth=6\u001b[0m\n",
      "\u001b[31m[3]#011train-auc:0.950094#011validation-auc:0.945959\u001b[0m\n",
      "\u001b[31m[05:02:49] src/tree/updater_prune.cc:74: tree pruning end, 1 roots, 96 extra nodes, 0 pruned nodes, max_depth=6\u001b[0m\n",
      "\u001b[31m[4]#011train-auc:0.951567#011validation-auc:0.946998\u001b[0m\n",
      "\u001b[31m[05:02:49] src/tree/updater_prune.cc:74: tree pruning end, 1 roots, 72 extra nodes, 0 pruned nodes, max_depth=6\u001b[0m\n",
      "\u001b[31m[5]#011train-auc:0.952295#011validation-auc:0.947052\u001b[0m\n",
      "\u001b[31m[05:02:49] src/tree/updater_prune.cc:74: tree pruning end, 1 roots, 68 extra nodes, 0 pruned nodes, max_depth=6\u001b[0m\n",
      "\u001b[31m[6]#011train-auc:0.952915#011validation-auc:0.947637\u001b[0m\n",
      "\u001b[31m[05:02:49] src/tree/updater_prune.cc:74: tree pruning end, 1 roots, 64 extra nodes, 0 pruned nodes, max_depth=6\u001b[0m\n",
      "\u001b[31m[7]#011train-auc:0.953532#011validation-auc:0.947637\u001b[0m\n",
      "\u001b[31m[05:02:49] src/tree/updater_prune.cc:74: tree pruning end, 1 roots, 80 extra nodes, 0 pruned nodes, max_depth=6\u001b[0m\n",
      "\u001b[31m[8]#011train-auc:0.954655#011validation-auc:0.948234\u001b[0m\n",
      "\u001b[31m[05:02:49] src/tree/updater_prune.cc:74: tree pruning end, 1 roots, 86 extra nodes, 0 pruned nodes, max_depth=6\u001b[0m\n",
      "\u001b[31m[9]#011train-auc:0.955214#011validation-auc:0.948349\u001b[0m\n",
      "\u001b[31m[05:02:49] src/tree/updater_prune.cc:74: tree pruning end, 1 roots, 58 extra nodes, 0 pruned nodes, max_depth=6\u001b[0m\n",
      "\u001b[31m[10]#011train-auc:0.955929#011validation-auc:0.948882\u001b[0m\n",
      "\u001b[31m[05:02:50] src/tree/updater_prune.cc:74: tree pruning end, 1 roots, 66 extra nodes, 0 pruned nodes, max_depth=6\u001b[0m\n",
      "\u001b[31m[11]#011train-auc:0.956539#011validation-auc:0.948663\u001b[0m\n",
      "\u001b[31m[05:02:50] src/tree/updater_prune.cc:74: tree pruning end, 1 roots, 62 extra nodes, 0 pruned nodes, max_depth=6\u001b[0m\n",
      "\u001b[31m[12]#011train-auc:0.957349#011validation-auc:0.949325\u001b[0m\n",
      "\u001b[31m[05:02:50] src/tree/updater_prune.cc:74: tree pruning end, 1 roots, 76 extra nodes, 0 pruned nodes, max_depth=6\u001b[0m\n",
      "\u001b[31m[13]#011train-auc:0.958142#011validation-auc:0.94881\u001b[0m\n",
      "\u001b[31m[05:02:50] src/tree/updater_prune.cc:74: tree pruning end, 1 roots, 106 extra nodes, 0 pruned nodes, max_depth=6\u001b[0m\n",
      "\u001b[31m[14]#011train-auc:0.959148#011validation-auc:0.94871\u001b[0m\n",
      "\u001b[31m[05:02:50] src/tree/updater_prune.cc:74: tree pruning end, 1 roots, 30 extra nodes, 0 pruned nodes, max_depth=6\u001b[0m\n",
      "\u001b[31m[15]#011train-auc:0.959291#011validation-auc:0.948676\u001b[0m\n",
      "\u001b[31m[05:02:50] src/tree/updater_prune.cc:74: tree pruning end, 1 roots, 32 extra nodes, 0 pruned nodes, max_depth=6\u001b[0m\n",
      "\u001b[31m[16]#011train-auc:0.95956#011validation-auc:0.948515\u001b[0m\n",
      "\u001b[31m[05:02:50] src/tree/updater_prune.cc:74: tree pruning end, 1 roots, 84 extra nodes, 0 pruned nodes, max_depth=6\u001b[0m\n",
      "\u001b[31m[17]#011train-auc:0.96039#011validation-auc:0.948306\u001b[0m\n",
      "\u001b[31m[05:02:50] src/tree/updater_prune.cc:74: tree pruning end, 1 roots, 80 extra nodes, 0 pruned nodes, max_depth=6\u001b[0m\n",
      "\u001b[31m[18]#011train-auc:0.961274#011validation-auc:0.948283\u001b[0m\n",
      "\u001b[31m[05:02:50] src/tree/updater_prune.cc:74: tree pruning end, 1 roots, 72 extra nodes, 0 pruned nodes, max_depth=6\u001b[0m\n",
      "\u001b[31m[19]#011train-auc:0.961893#011validation-auc:0.948333\u001b[0m\n",
      "\u001b[31m[05:02:50] src/tree/updater_prune.cc:74: tree pruning end, 1 roots, 52 extra nodes, 0 pruned nodes, max_depth=6\u001b[0m\n",
      "\u001b[31m[20]#011train-auc:0.962374#011validation-auc:0.948311\u001b[0m\n",
      "\u001b[31m[05:02:50] src/tree/updater_prune.cc:74: tree pruning end, 1 roots, 112 extra nodes, 0 pruned nodes, max_depth=6\u001b[0m\n",
      "\u001b[31m[21]#011train-auc:0.963325#011validation-auc:0.947635\u001b[0m\n",
      "\u001b[31m[05:02:50] src/tree/updater_prune.cc:74: tree pruning end, 1 roots, 68 extra nodes, 0 pruned nodes, max_depth=6\u001b[0m\n",
      "\u001b[31m[22]#011train-auc:0.963697#011validation-auc:0.947443\u001b[0m\n",
      "\u001b[31m[05:02:50] src/tree/updater_prune.cc:74: tree pruning end, 1 roots, 70 extra nodes, 0 pruned nodes, max_depth=6\u001b[0m\n",
      "\u001b[31m[23]#011train-auc:0.964159#011validation-auc:0.947309\u001b[0m\n",
      "\u001b[31m[05:02:50] src/tree/updater_prune.cc:74: tree pruning end, 1 roots, 56 extra nodes, 0 pruned nodes, max_depth=6\u001b[0m\n",
      "\u001b[31m[24]#011train-auc:0.964532#011validation-auc:0.947332\u001b[0m\n",
      "\u001b[31m[05:02:50] src/tree/updater_prune.cc:74: tree pruning end, 1 roots, 60 extra nodes, 0 pruned nodes, max_depth=6\u001b[0m\n",
      "\u001b[31m[25]#011train-auc:0.964925#011validation-auc:0.947213\u001b[0m\n",
      "\u001b[31m[05:02:50] src/tree/updater_prune.cc:74: tree pruning end, 1 roots, 68 extra nodes, 0 pruned nodes, max_depth=6\u001b[0m\n",
      "\u001b[31m[26]#011train-auc:0.965495#011validation-auc:0.947512\u001b[0m\n",
      "\u001b[31m[05:02:50] src/tree/updater_prune.cc:74: tree pruning end, 1 roots, 56 extra nodes, 0 pruned nodes, max_depth=6\u001b[0m\n",
      "\u001b[31m[27]#011train-auc:0.965824#011validation-auc:0.947435\u001b[0m\n",
      "\u001b[31m[05:02:50] src/tree/updater_prune.cc:74: tree pruning end, 1 roots, 46 extra nodes, 0 pruned nodes, max_depth=6\u001b[0m\n",
      "\u001b[31m[28]#011train-auc:0.966123#011validation-auc:0.947468\u001b[0m\n",
      "\u001b[31m[05:02:50] src/tree/updater_prune.cc:74: tree pruning end, 1 roots, 38 extra nodes, 0 pruned nodes, max_depth=6\u001b[0m\n",
      "\u001b[31m[29]#011train-auc:0.96632#011validation-auc:0.947259\u001b[0m\n",
      "\u001b[31m[05:02:50] src/tree/updater_prune.cc:74: tree pruning end, 1 roots, 64 extra nodes, 0 pruned nodes, max_depth=6\u001b[0m\n",
      "\u001b[31m[30]#011train-auc:0.966741#011validation-auc:0.946983\u001b[0m\n",
      "\u001b[31m[05:02:50] src/tree/updater_prune.cc:74: tree pruning end, 1 roots, 78 extra nodes, 0 pruned nodes, max_depth=6\u001b[0m\n",
      "\u001b[31m[31]#011train-auc:0.967269#011validation-auc:0.947004\u001b[0m\n",
      "\u001b[31m[05:02:50] src/tree/updater_prune.cc:74: tree pruning end, 1 roots, 36 extra nodes, 0 pruned nodes, max_depth=6\u001b[0m\n",
      "\u001b[31m[32]#011train-auc:0.967483#011validation-auc:0.946886\u001b[0m\n",
      "\u001b[31m[05:02:50] src/tree/updater_prune.cc:74: tree pruning end, 1 roots, 34 extra nodes, 0 pruned nodes, max_depth=6\u001b[0m\n",
      "\u001b[31m[33]#011train-auc:0.96771#011validation-auc:0.947105\u001b[0m\n",
      "\u001b[31m[05:02:50] src/tree/updater_prune.cc:74: tree pruning end, 1 roots, 48 extra nodes, 0 pruned nodes, max_depth=6\u001b[0m\n",
      "\u001b[31m[34]#011train-auc:0.967948#011validation-auc:0.94709\u001b[0m\n",
      "\u001b[31m[05:02:50] src/tree/updater_prune.cc:74: tree pruning end, 1 roots, 54 extra nodes, 0 pruned nodes, max_depth=6\u001b[0m\n",
      "\u001b[31m[35]#011train-auc:0.968276#011validation-auc:0.946987\u001b[0m\n",
      "\u001b[31m[05:02:50] src/tree/updater_prune.cc:74: tree pruning end, 1 roots, 56 extra nodes, 0 pruned nodes, max_depth=6\u001b[0m\n",
      "\u001b[31m[36]#011train-auc:0.968534#011validation-auc:0.947016\u001b[0m\n",
      "\u001b[31m[05:02:50] src/tree/updater_prune.cc:74: tree pruning end, 1 roots, 32 extra nodes, 0 pruned nodes, max_depth=6\u001b[0m\n",
      "\u001b[31m[37]#011train-auc:0.968671#011validation-auc:0.947057\u001b[0m\n",
      "\u001b[31m[05:02:50] src/tree/updater_prune.cc:74: tree pruning end, 1 roots, 62 extra nodes, 0 pruned nodes, max_depth=6\u001b[0m\n",
      "\u001b[31m[38]#011train-auc:0.968944#011validation-auc:0.947147\u001b[0m\n",
      "\u001b[31m[05:02:50] src/tree/updater_prune.cc:74: tree pruning end, 1 roots, 60 extra nodes, 0 pruned nodes, max_depth=6\u001b[0m\n",
      "\u001b[31m[39]#011train-auc:0.96932#011validation-auc:0.947057\u001b[0m\n",
      "\u001b[31m[05:02:50] src/tree/updater_prune.cc:74: tree pruning end, 1 roots, 48 extra nodes, 0 pruned nodes, max_depth=6\u001b[0m\n",
      "\u001b[31m[40]#011train-auc:0.969545#011validation-auc:0.947101\u001b[0m\n",
      "\u001b[31m[05:02:50] src/tree/updater_prune.cc:74: tree pruning end, 1 roots, 72 extra nodes, 0 pruned nodes, max_depth=6\u001b[0m\n",
      "\u001b[31m[41]#011train-auc:0.969964#011validation-auc:0.94721\u001b[0m\n",
      "\u001b[31m[05:02:50] src/tree/updater_prune.cc:74: tree pruning end, 1 roots, 70 extra nodes, 0 pruned nodes, max_depth=6\u001b[0m\n",
      "\u001b[31m[42]#011train-auc:0.970171#011validation-auc:0.947168\u001b[0m\n",
      "\u001b[31m[05:02:50] src/tree/updater_prune.cc:74: tree pruning end, 1 roots, 68 extra nodes, 0 pruned nodes, max_depth=6\u001b[0m\n",
      "\u001b[31m[43]#011train-auc:0.970419#011validation-auc:0.94709\u001b[0m\n",
      "\u001b[31m[05:02:50] src/tree/updater_prune.cc:74: tree pruning end, 1 roots, 18 extra nodes, 0 pruned nodes, max_depth=6\u001b[0m\n",
      "\u001b[31m[44]#011train-auc:0.970493#011validation-auc:0.946979\u001b[0m\n",
      "\u001b[31m[05:02:50] src/tree/updater_prune.cc:74: tree pruning end, 1 roots, 74 extra nodes, 0 pruned nodes, max_depth=6\u001b[0m\n",
      "\u001b[31m[45]#011train-auc:0.970815#011validation-auc:0.946785\u001b[0m\n",
      "\u001b[31m[05:02:50] src/tree/updater_prune.cc:74: tree pruning end, 1 roots, 60 extra nodes, 0 pruned nodes, max_depth=6\u001b[0m\n",
      "\u001b[31m[46]#011train-auc:0.971082#011validation-auc:0.946791\u001b[0m\n",
      "\u001b[31m[05:02:51] src/tree/updater_prune.cc:74: tree pruning end, 1 roots, 80 extra nodes, 0 pruned nodes, max_depth=6\u001b[0m\n",
      "\u001b[31m[47]#011train-auc:0.971537#011validation-auc:0.946588\u001b[0m\n",
      "\u001b[31m[05:02:51] src/tree/updater_prune.cc:74: tree pruning end, 1 roots, 82 extra nodes, 0 pruned nodes, max_depth=6\u001b[0m\n",
      "\u001b[31m[48]#011train-auc:0.971805#011validation-auc:0.946574\u001b[0m\n",
      "\u001b[31m[05:02:51] src/tree/updater_prune.cc:74: tree pruning end, 1 roots, 44 extra nodes, 0 pruned nodes, max_depth=6\u001b[0m\n",
      "\u001b[31m[49]#011train-auc:0.971944#011validation-auc:0.946453\u001b[0m\n",
      "\u001b[31m[05:02:51] src/tree/updater_prune.cc:74: tree pruning end, 1 roots, 74 extra nodes, 0 pruned nodes, max_depth=6\u001b[0m\n",
      "\u001b[31m[50]#011train-auc:0.972289#011validation-auc:0.946418\u001b[0m\n",
      "\u001b[31m[05:02:51] src/tree/updater_prune.cc:74: tree pruning end, 1 roots, 36 extra nodes, 0 pruned nodes, max_depth=6\u001b[0m\n",
      "\u001b[31m[51]#011train-auc:0.972429#011validation-auc:0.946402\u001b[0m\n",
      "\u001b[31m[05:02:51] src/tree/updater_prune.cc:74: tree pruning end, 1 roots, 66 extra nodes, 0 pruned nodes, max_depth=6\u001b[0m\n",
      "\u001b[31m[52]#011train-auc:0.97281#011validation-auc:0.946358\u001b[0m\n",
      "\u001b[31m[05:02:51] src/tree/updater_prune.cc:74: tree pruning end, 1 roots, 66 extra nodes, 0 pruned nodes, max_depth=6\u001b[0m\n",
      "\u001b[31m[53]#011train-auc:0.973147#011validation-auc:0.946104\u001b[0m\n",
      "\u001b[31m[05:02:51] src/tree/updater_prune.cc:74: tree pruning end, 1 roots, 56 extra nodes, 0 pruned nodes, max_depth=6\u001b[0m\n",
      "\u001b[31m[54]#011train-auc:0.973347#011validation-auc:0.945916\u001b[0m\n",
      "\u001b[31m[05:02:51] src/tree/updater_prune.cc:74: tree pruning end, 1 roots, 44 extra nodes, 0 pruned nodes, max_depth=6\u001b[0m\n",
      "\u001b[31m[55]#011train-auc:0.973483#011validation-auc:0.945563\u001b[0m\n",
      "\u001b[31m[05:02:51] src/tree/updater_prune.cc:74: tree pruning end, 1 roots, 82 extra nodes, 0 pruned nodes, max_depth=6\u001b[0m\n",
      "\u001b[31m[56]#011train-auc:0.973828#011validation-auc:0.945488\u001b[0m\n",
      "\u001b[31m[05:02:51] src/tree/updater_prune.cc:74: tree pruning end, 1 roots, 58 extra nodes, 0 pruned nodes, max_depth=6\u001b[0m\n",
      "\u001b[31m[57]#011train-auc:0.974085#011validation-auc:0.945642\u001b[0m\n",
      "\u001b[31m[05:02:51] src/tree/updater_prune.cc:74: tree pruning end, 1 roots, 26 extra nodes, 0 pruned nodes, max_depth=6\u001b[0m\n",
      "\u001b[31m[58]#011train-auc:0.974258#011validation-auc:0.945734\u001b[0m\n",
      "\u001b[31m[05:02:51] src/tree/updater_prune.cc:74: tree pruning end, 1 roots, 76 extra nodes, 0 pruned nodes, max_depth=6\u001b[0m\n",
      "\u001b[31m[59]#011train-auc:0.974634#011validation-auc:0.945645\u001b[0m\n",
      "\u001b[31m[05:02:51] src/tree/updater_prune.cc:74: tree pruning end, 1 roots, 82 extra nodes, 0 pruned nodes, max_depth=6\u001b[0m\n",
      "\u001b[31m[60]#011train-auc:0.97501#011validation-auc:0.945669\u001b[0m\n",
      "\u001b[31m[05:02:51] src/tree/updater_prune.cc:74: tree pruning end, 1 roots, 44 extra nodes, 0 pruned nodes, max_depth=6\u001b[0m\n",
      "\u001b[31m[61]#011train-auc:0.975033#011validation-auc:0.945508\u001b[0m\n",
      "\u001b[31m[05:02:51] src/tree/updater_prune.cc:74: tree pruning end, 1 roots, 62 extra nodes, 0 pruned nodes, max_depth=6\u001b[0m\n",
      "\u001b[31m[62]#011train-auc:0.975363#011validation-auc:0.94536\u001b[0m\n",
      "\u001b[31m[05:02:51] src/tree/updater_prune.cc:74: tree pruning end, 1 roots, 44 extra nodes, 0 pruned nodes, max_depth=6\u001b[0m\n",
      "\u001b[31m[63]#011train-auc:0.975553#011validation-auc:0.945315\u001b[0m\n",
      "\u001b[31m[05:02:51] src/tree/updater_prune.cc:74: tree pruning end, 1 roots, 62 extra nodes, 0 pruned nodes, max_depth=6\u001b[0m\n",
      "\u001b[31m[64]#011train-auc:0.975784#011validation-auc:0.945184\u001b[0m\n",
      "\u001b[31m[05:02:51] src/tree/updater_prune.cc:74: tree pruning end, 1 roots, 54 extra nodes, 0 pruned nodes, max_depth=6\u001b[0m\n",
      "\u001b[31m[65]#011train-auc:0.976047#011validation-auc:0.945051\u001b[0m\n",
      "\u001b[31m[05:02:51] src/tree/updater_prune.cc:74: tree pruning end, 1 roots, 68 extra nodes, 0 pruned nodes, max_depth=6\u001b[0m\n",
      "\u001b[31m[66]#011train-auc:0.976373#011validation-auc:0.945084\u001b[0m\n",
      "\u001b[31m[05:02:51] src/tree/updater_prune.cc:74: tree pruning end, 1 roots, 68 extra nodes, 0 pruned nodes, max_depth=6\u001b[0m\n",
      "\u001b[31m[67]#011train-auc:0.976602#011validation-auc:0.944989\u001b[0m\n",
      "\u001b[31m[05:02:51] src/tree/updater_prune.cc:74: tree pruning end, 1 roots, 80 extra nodes, 0 pruned nodes, max_depth=6\u001b[0m\n",
      "\u001b[31m[68]#011train-auc:0.976902#011validation-auc:0.944905\u001b[0m\n",
      "\u001b[31m[05:02:51] src/tree/updater_prune.cc:74: tree pruning end, 1 roots, 82 extra nodes, 0 pruned nodes, max_depth=6\u001b[0m\n",
      "\u001b[31m[69]#011train-auc:0.977367#011validation-auc:0.944679\u001b[0m\n",
      "\u001b[31m[05:02:51] src/tree/updater_prune.cc:74: tree pruning end, 1 roots, 66 extra nodes, 0 pruned nodes, max_depth=6\u001b[0m\n",
      "\u001b[31m[70]#011train-auc:0.977578#011validation-auc:0.944621\u001b[0m\n",
      "\u001b[31m[05:02:51] src/tree/updater_prune.cc:74: tree pruning end, 1 roots, 62 extra nodes, 0 pruned nodes, max_depth=6\u001b[0m\n",
      "\u001b[31m[71]#011train-auc:0.977762#011validation-auc:0.944506\u001b[0m\n",
      "\u001b[31m[05:02:51] src/tree/updater_prune.cc:74: tree pruning end, 1 roots, 38 extra nodes, 0 pruned nodes, max_depth=6\u001b[0m\n",
      "\u001b[31m[72]#011train-auc:0.977854#011validation-auc:0.944331\u001b[0m\n",
      "\u001b[31m[05:02:51] src/tree/updater_prune.cc:74: tree pruning end, 1 roots, 74 extra nodes, 0 pruned nodes, max_depth=6\u001b[0m\n",
      "\u001b[31m[73]#011train-auc:0.97814#011validation-auc:0.944358\u001b[0m\n",
      "\u001b[31m[05:02:51] src/tree/updater_prune.cc:74: tree pruning end, 1 roots, 38 extra nodes, 0 pruned nodes, max_depth=6\u001b[0m\n",
      "\u001b[31m[74]#011train-auc:0.978219#011validation-auc:0.944304\u001b[0m\n",
      "\u001b[31m[05:02:51] src/tree/updater_prune.cc:74: tree pruning end, 1 roots, 60 extra nodes, 0 pruned nodes, max_depth=6\u001b[0m\n",
      "\u001b[31m[75]#011train-auc:0.978527#011validation-auc:0.944046\u001b[0m\n",
      "\u001b[31m[05:02:51] src/tree/updater_prune.cc:74: tree pruning end, 1 roots, 54 extra nodes, 0 pruned nodes, max_depth=6\u001b[0m\n",
      "\u001b[31m[76]#011train-auc:0.978645#011validation-auc:0.944045\u001b[0m\n",
      "\u001b[31m[05:02:51] src/tree/updater_prune.cc:74: tree pruning end, 1 roots, 34 extra nodes, 0 pruned nodes, max_depth=6\u001b[0m\n",
      "\u001b[31m[77]#011train-auc:0.978825#011validation-auc:0.943941\u001b[0m\n",
      "\u001b[31m[05:02:51] src/tree/updater_prune.cc:74: tree pruning end, 1 roots, 86 extra nodes, 0 pruned nodes, max_depth=6\u001b[0m\n",
      "\u001b[31m[78]#011train-auc:0.97924#011validation-auc:0.943659\u001b[0m\n",
      "\u001b[31m[05:02:51] src/tree/updater_prune.cc:74: tree pruning end, 1 roots, 46 extra nodes, 0 pruned nodes, max_depth=6\u001b[0m\n",
      "\u001b[31m[79]#011train-auc:0.979378#011validation-auc:0.943831\u001b[0m\n",
      "\u001b[31m[05:02:51] src/tree/updater_prune.cc:74: tree pruning end, 1 roots, 50 extra nodes, 0 pruned nodes, max_depth=6\u001b[0m\n",
      "\u001b[31m[80]#011train-auc:0.979654#011validation-auc:0.943967\u001b[0m\n",
      "\u001b[31m[05:02:51] src/tree/updater_prune.cc:74: tree pruning end, 1 roots, 80 extra nodes, 0 pruned nodes, max_depth=6\u001b[0m\n",
      "\u001b[31m[81]#011train-auc:0.980066#011validation-auc:0.944099\u001b[0m\n",
      "\u001b[31m[05:02:51] src/tree/updater_prune.cc:74: tree pruning end, 1 roots, 62 extra nodes, 0 pruned nodes, max_depth=6\u001b[0m\n",
      "\u001b[31m[82]#011train-auc:0.980218#011validation-auc:0.944016\u001b[0m\n",
      "\u001b[31m[05:02:51] src/tree/updater_prune.cc:74: tree pruning end, 1 roots, 36 extra nodes, 0 pruned nodes, max_depth=6\u001b[0m\n",
      "\u001b[31m[83]#011train-auc:0.980293#011validation-auc:0.943944\u001b[0m\n",
      "\u001b[31m[05:02:51] src/tree/updater_prune.cc:74: tree pruning end, 1 roots, 70 extra nodes, 0 pruned nodes, max_depth=6\u001b[0m\n",
      "\u001b[31m[84]#011train-auc:0.980461#011validation-auc:0.944087\u001b[0m\n",
      "\u001b[31m[05:02:51] src/tree/updater_prune.cc:74: tree pruning end, 1 roots, 92 extra nodes, 0 pruned nodes, max_depth=6\u001b[0m\n",
      "\u001b[31m[85]#011train-auc:0.980795#011validation-auc:0.943938\u001b[0m\n",
      "\u001b[31m[05:02:52] src/tree/updater_prune.cc:74: tree pruning end, 1 roots, 72 extra nodes, 0 pruned nodes, max_depth=6\u001b[0m\n",
      "\u001b[31m[86]#011train-auc:0.981021#011validation-auc:0.944123\u001b[0m\n",
      "\u001b[31m[05:02:52] src/tree/updater_prune.cc:74: tree pruning end, 1 roots, 68 extra nodes, 0 pruned nodes, max_depth=6\u001b[0m\n",
      "\u001b[31m[87]#011train-auc:0.981278#011validation-auc:0.944015\u001b[0m\n",
      "\u001b[31m[05:02:52] src/tree/updater_prune.cc:74: tree pruning end, 1 roots, 54 extra nodes, 0 pruned nodes, max_depth=6\u001b[0m\n",
      "\u001b[31m[88]#011train-auc:0.981467#011validation-auc:0.943992\u001b[0m\n",
      "\u001b[31m[05:02:52] src/tree/updater_prune.cc:74: tree pruning end, 1 roots, 88 extra nodes, 0 pruned nodes, max_depth=6\u001b[0m\n",
      "\u001b[31m[89]#011train-auc:0.981772#011validation-auc:0.943914\u001b[0m\n",
      "\u001b[31m[05:02:52] src/tree/updater_prune.cc:74: tree pruning end, 1 roots, 50 extra nodes, 0 pruned nodes, max_depth=6\u001b[0m\n",
      "\u001b[31m[90]#011train-auc:0.981955#011validation-auc:0.943813\u001b[0m\n",
      "\u001b[31m[05:02:52] src/tree/updater_prune.cc:74: tree pruning end, 1 roots, 78 extra nodes, 0 pruned nodes, max_depth=6\u001b[0m\n",
      "\u001b[31m[91]#011train-auc:0.982132#011validation-auc:0.943776\u001b[0m\n",
      "\u001b[31m[05:02:52] src/tree/updater_prune.cc:74: tree pruning end, 1 roots, 58 extra nodes, 0 pruned nodes, max_depth=6\u001b[0m\n",
      "\u001b[31m[92]#011train-auc:0.982324#011validation-auc:0.943748\u001b[0m\n",
      "\u001b[31m[05:02:52] src/tree/updater_prune.cc:74: tree pruning end, 1 roots, 88 extra nodes, 0 pruned nodes, max_depth=6\u001b[0m\n",
      "\u001b[31m[93]#011train-auc:0.982515#011validation-auc:0.943613\u001b[0m\n",
      "\u001b[31m[05:02:52] src/tree/updater_prune.cc:74: tree pruning end, 1 roots, 54 extra nodes, 0 pruned nodes, max_depth=6\u001b[0m\n",
      "\u001b[31m[94]#011train-auc:0.982616#011validation-auc:0.943537\u001b[0m\n",
      "\u001b[31m[05:02:52] src/tree/updater_prune.cc:74: tree pruning end, 1 roots, 50 extra nodes, 0 pruned nodes, max_depth=6\u001b[0m\n",
      "\u001b[31m[95]#011train-auc:0.982795#011validation-auc:0.943466\u001b[0m\n",
      "\u001b[31m[05:02:52] src/tree/updater_prune.cc:74: tree pruning end, 1 roots, 46 extra nodes, 0 pruned nodes, max_depth=6\u001b[0m\n",
      "\u001b[31m[96]#011train-auc:0.982888#011validation-auc:0.943716\u001b[0m\n",
      "\u001b[31m[05:02:52] src/tree/updater_prune.cc:74: tree pruning end, 1 roots, 72 extra nodes, 0 pruned nodes, max_depth=6\u001b[0m\n",
      "\u001b[31m[97]#011train-auc:0.983091#011validation-auc:0.943631\u001b[0m\n",
      "\u001b[31m[05:02:52] src/tree/updater_prune.cc:74: tree pruning end, 1 roots, 70 extra nodes, 0 pruned nodes, max_depth=6\u001b[0m\n",
      "\u001b[31m[98]#011train-auc:0.983307#011validation-auc:0.943712\u001b[0m\n",
      "\u001b[31m[05:02:52] src/tree/updater_prune.cc:74: tree pruning end, 1 roots, 32 extra nodes, 0 pruned nodes, max_depth=6\u001b[0m\n",
      "\u001b[31m[99]#011train-auc:0.983375#011validation-auc:0.943656\u001b[0m\n"
     ]
    },
    {
     "name": "stdout",
     "output_type": "stream",
     "text": [
      "\n",
      "Billable seconds: 92\n"
     ]
    }
   ],
   "source": [
    "# XGBoost supports \"train\", \"validation\" channels\n",
    "# Reference: Supported channels by algorithm    \n",
    "# https://docs.aws.amazon.com/sagemaker/latest/dg/sagemaker-algo-docker-registry-paths.html\n",
    "\n",
    "estimator.fit({'train': training_input_config, 'validation': test_input_config})"
   ]
  },
  {
   "cell_type": "markdown",
   "metadata": {},
   "source": [
    "## Deploy Model & Run Real-time Predictions:"
   ]
  },
  {
   "cell_type": "code",
   "execution_count": 43,
   "metadata": {},
   "outputs": [
    {
     "name": "stderr",
     "output_type": "stream",
     "text": [
      "INFO:sagemaker:Creating model with name: xgboost-2018-09-03-05-03-20-910\n",
      "INFO:sagemaker:Creating endpoint with name xgboost-bankMarketing-Train\n"
     ]
    },
    {
     "name": "stdout",
     "output_type": "stream",
     "text": [
      "---------------------------------------------------------------!"
     ]
    }
   ],
   "source": [
    "# Ref: http://sagemaker.readthedocs.io/en/latest/estimators.html\n",
    "predictor = estimator.deploy(initial_instance_count=1,\n",
    "                             instance_type='ml.m4.xlarge',\n",
    "                             endpoint_name = 'xgboost-bankMarketing-Train')"
   ]
  },
  {
   "cell_type": "code",
   "execution_count": 44,
   "metadata": {},
   "outputs": [],
   "source": [
    "# Run Predictions\n",
    "from sagemaker.predictor import csv_serializer, json_deserializer\n",
    "\n",
    "predictor.content_type = 'text/csv'\n",
    "predictor.serializer = csv_serializer\n",
    "predictor.deserializer = None"
   ]
  },
  {
   "cell_type": "code",
   "execution_count": 45,
   "metadata": {},
   "outputs": [],
   "source": [
    "df_test = pd.read_csv('bankMarketing_test.csv', header=None)\n",
    "\n",
    "X_test=df_test.loc[0:, 1:].as_matrix()\n",
    "y_test=df_test.loc[0:, 0].as_matrix()"
   ]
  },
  {
   "cell_type": "code",
   "execution_count": 46,
   "metadata": {},
   "outputs": [
    {
     "name": "stdout",
     "output_type": "stream",
     "text": [
      "(1236, 20)\n",
      "(1236, 20)\n",
      "(1236, 20)\n",
      "(1236, 20)\n",
      "(1236, 20)\n",
      "(1236, 20)\n",
      "(1236, 20)\n",
      "(1235, 20)\n",
      "(1235, 20)\n",
      "(1235, 20)\n"
     ]
    }
   ],
   "source": [
    "# For large number of predictions, we can split the input data and Query the prediction service.\n",
    "# array_split is convenient to specify how many splits are needed\n",
    "probability = []\n",
    "for arr in np.array_split(X_test,10):\n",
    "    result = predictor.predict(arr)\n",
    "    result = result.decode(\"utf-8\")\n",
    "    result = result.split(',')\n",
    "    print (arr.shape)\n",
    "    probability += [float(r) for r in result]\n",
    "    \n",
    "predictions=[0 if p<0.5 else 1 for p in probability]"
   ]
  },
  {
   "cell_type": "markdown",
   "metadata": {},
   "source": [
    "# Evaluate the initial model:"
   ]
  },
  {
   "cell_type": "code",
   "execution_count": 47,
   "metadata": {},
   "outputs": [
    {
     "name": "stdout",
     "output_type": "stream",
     "text": [
      "             precision    recall  f1-score   support\n",
      "\n",
      "          0       0.98      0.89      0.93     10965\n",
      "          1       0.49      0.87      0.63      1392\n",
      "\n",
      "avg / total       0.93      0.88      0.90     12357\n",
      "\n"
     ]
    }
   ],
   "source": [
    "# Classification report:\n",
    "from sklearn.metrics import roc_curve, auc, confusion_matrix, classification_report, roc_auc_score\n",
    "\n",
    "report=classification_report(y_test, predictions)\n",
    "print(report)"
   ]
  },
  {
   "cell_type": "code",
   "execution_count": 48,
   "metadata": {},
   "outputs": [
    {
     "name": "stdout",
     "output_type": "stream",
     "text": [
      "Confusion matrix, without normalization\n",
      "[[9724 1241]\n",
      " [ 187 1205]]\n",
      "Normalized confusion matrix\n",
      "[[0.89 0.11]\n",
      " [0.13 0.87]]\n"
     ]
    },
    {
     "data": {
      "image/png": "[encoded data removed]",
      "text/plain": [
       "<Figure size 432x288 with 2 Axes>"
      ]
     },
     "metadata": {},
     "output_type": "display_data"
    }
   ],
   "source": [
    "# Plot a confusion matrix.\n",
    "# cm is the confusion matrix, names are the names of the classes.\n",
    "def plot_confusion_matrix(cm, names, title='Confusion matrix', cmap=plt.cm.Blues):\n",
    "    plt.imshow(cm, interpolation='nearest', cmap=cmap)\n",
    "    plt.title(title)\n",
    "    plt.colorbar()\n",
    "    tick_marks = np.arange(len(names))\n",
    "    plt.xticks(tick_marks, names, rotation=45)\n",
    "    plt.yticks(tick_marks, names)\n",
    "    plt.tight_layout()\n",
    "    plt.ylabel('True label')\n",
    "    plt.xlabel('Predicted label')\n",
    "\n",
    "names = [\"0\", \"1\"]\n",
    "\n",
    "# Compute confusion matrix\n",
    "cm = confusion_matrix(y_test, predictions)\n",
    "np.set_printoptions(precision=2)\n",
    "print('Confusion matrix, without normalization')\n",
    "print(cm)\n",
    "\n",
    "# Normalize the confusion matrix by row (i.e by the number of samples in each class)\n",
    "cm_normalized = cm.astype('float') / cm.sum(axis=1)[:, np.newaxis]\n",
    "print('Normalized confusion matrix')\n",
    "print(cm_normalized)\n",
    "plt.figure()\n",
    "plot_confusion_matrix(cm_normalized, names, title='Normalized confusion matrix')\n",
    "\n",
    "plt.show()"
   ]
  },
  {
   "cell_type": "code",
   "execution_count": 49,
   "metadata": {},
   "outputs": [
    {
     "data": {
      "image/png": "[encoded data removed]",
      "text/plain": [
       "<Figure size 432x288 with 1 Axes>"
      ]
     },
     "metadata": {},
     "output_type": "display_data"
    }
   ],
   "source": [
    "# ROC curve & auc:\n",
    "from  sklearn.metrics import precision_recall_curve, roc_curve, roc_auc_score, average_precision_score\n",
    "\n",
    "fpr, tpr, thresholds=roc_curve(np.array(y_test), probability, pos_label=1)\n",
    "roc_auc=roc_auc_score(np.array(y_test), probability)\n",
    "\n",
    "plt.figure()\n",
    "\n",
    "plt.step(fpr, tpr, color='darkorange', lw=2, label='ROC curve (auc = %0.2f)' % roc_auc)\n",
    "plt.plot([0, 1], [0, 1], color='navy', alpha=0.4, lw=2, linestyle='--')\n",
    "plt.xlim([0.0, 1.0])\n",
    "plt.ylim([0.0, 1.05])\n",
    "plt.xlabel('False Positive Rate')\n",
    "plt.ylabel('True Positive Rate')\n",
    "plt.title('ROC curve')\n",
    "plt.legend(loc=\"lower right\")\n",
    "\n",
    "plt.plot([cm_normalized[0,1]], [cm_normalized[1,1]], 'or')\n",
    "plt.show()"
   ]
  },
  {
   "cell_type": "code",
   "execution_count": 50,
   "metadata": {},
   "outputs": [
    {
     "data": {
      "image/png": "[encoded data removed]",
      "text/plain": [
       "<Figure size 432x288 with 1 Axes>"
      ]
     },
     "metadata": {},
     "output_type": "display_data"
    }
   ],
   "source": [
    "# Precision-Recall trade-off:\n",
    "precision, recall, thresholds=precision_recall_curve(y_test, probability,  pos_label=1)\n",
    "ave_precision=average_precision_score(y_test, probability)\n",
    "\n",
    "plt.step(recall, precision, color='navy')\n",
    "\n",
    "plt.xlabel('Recall')\n",
    "plt.ylabel('Precision')\n",
    "plt.xlim([0, 1.001])\n",
    "plt.ylim([0, 1.02])\n",
    "plt.title('Precision-Recall curve: AP={0:0.2f}'.format(ave_precision))\n",
    "\n",
    "plt.plot(cm_normalized[1,1], cm[1,1]/(cm[1,1]+cm[0,1]), 'ob')\n",
    "plt.show()"
   ]
  },
  {
   "cell_type": "code",
   "execution_count": 55,
   "metadata": {},
   "outputs": [],
   "source": [
    "# boto3.Session().client('sagemaker').delete_endpoint(EndpointName='xgboost-bikeRental-Optimized')"
   ]
  },
  {
   "cell_type": "code",
   "execution_count": null,
   "metadata": {},
   "outputs": [],
   "source": []
  }
 ],
 "metadata": {
  "kernelspec": {
   "display_name": "Python 3",
   "language": "python",
   "name": "python3"
  },
  "language_info": {
   "codemirror_mode": {
    "name": "ipython",
    "version": 3
   },
   "file_extension": ".py",
   "mimetype": "text/x-python",
   "name": "python",
   "nbconvert_exporter": "python",
   "pygments_lexer": "ipython3",
   "version": "3.6.5"
  }
 },
 "nbformat": 4,
 "nbformat_minor": 2
}
