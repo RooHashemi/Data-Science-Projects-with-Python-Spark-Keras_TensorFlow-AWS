{
 "cells": [
  {
   "cell_type": "markdown",
   "metadata": {},
   "source": [
    "# Problem statement: \n",
    "* The data has 10,000,000 rows and 10 variables.\n",
    "* Dataset is imbalanced: 596014 Fraud vs. 9403986 non-Fraud. \n",
    "* This is a binary classification problem. The classification goal is to detect fraud credit cards.\n",
    "\n",
    "# Workflow:\n",
    "- Load the dataset, and define the required functions (e.g. for detecting the missing values, etc.)\n",
    "- Data Cleaning/Wrangling: Manipulate outliers, missing data or duplicated values, etc. \n",
    "- Basic data exploration\n",
    "- Preparing data for Machine Learning:\n",
    "    - One-hot-encoding of categorical features\n",
    "    - Vector Assembling\n",
    "    - Splitting data into training & test parts (I use the training part for training & hyperparameter tuning of models, test part for the final evaluation of models)\n",
    "    \n",
    " # Model Training: \n",
    "- I separately train following models:\n",
    "     - Logistic Regression (LR)\n",
    "     - Random Forest (RF)\n",
    "     - Gradient Boosting Trees (GBTs)\n",
    "     \n",
    " Note: I use Grid-Search technique to find optimal hyper-parameters of each model. Also, I undersample the majority class to even the imbalances. \n",
    "\n",
    "  # Model Evaluation: \n",
    "- I separately evaluate the best LR, RF and GBT models, by calculating/plotting following mertics on Test dataset:\n",
    "     - roc_auc score\n",
    "     - f1 score\n",
    "     - Confusion matrix\n",
    "     - ROC curve  \n",
    "     - Average precision\n",
    " \n",
    " \n",
    "- Calculating the Feature Importance with RF and GBTs models."
   ]
  },
  {
   "cell_type": "code",
   "execution_count": 1,
   "metadata": {
    "scrolled": false
   },
   "outputs": [],
   "source": [
    "import warnings\n",
    "warnings.filterwarnings(\"ignore\")\n",
    "\n",
    "import findspark \n",
    "findspark.init('/home/rhashemee/spark-2.1.0-bin-hadoop2.7')\n",
    "\n",
    "import pyspark\n",
    "\n",
    "import sklearn\n",
    "import numpy as np\n",
    "from scipy import stats\n",
    "import pandas as pd\n",
    "import imblearn as im\n",
    "import featuretools as ft\n",
    "import matplotlib.pyplot as plt\n",
    "import seaborn as sns\n",
    "%matplotlib inline\n",
    "\n",
    "import warnings\n",
    "warnings.filterwarnings(\"ignore\")"
   ]
  },
  {
   "cell_type": "code",
   "execution_count": 2,
   "metadata": {},
   "outputs": [],
   "source": [
    "from pyspark.sql import SparkSession\n",
    "\n",
    "spark = SparkSession.builder.master(\"local[*]\")\\\n",
    "                            .appName(\"CCFraud\")\\\n",
    "                            .enableHiveSupport()\\\n",
    "                            .getOrCreate()\n",
    "\n",
    "#spark.conf.set('spark.driver.memory','8g')\n",
    "#spark.conf.set('spark.executor.memory', '8g')\n",
    "#spark.conf.set('spark.executor.cores', '6')\n",
    "#spark.conf.set('spark.cores.max', '6')\n",
    "\n",
    "sc = spark.sparkContext"
   ]
  },
  {
   "cell_type": "code",
   "execution_count": 3,
   "metadata": {},
   "outputs": [
    {
     "data": {
      "text/plain": [
       "[('spark.app.id', 'local-1535086048806'),\n",
       " ('spark.sql.catalogImplementation', 'hive'),\n",
       " ('spark.rdd.compress', 'True'),\n",
       " ('hive.metastore.warehouse.dir',\n",
       "  'file:/home/rhashemee/Documents/Spark%20projects/CCFraud/spark-warehouse'),\n",
       " ('spark.serializer.objectStreamReset', '100'),\n",
       " ('spark.master', 'local[*]'),\n",
       " ('spark.executor.id', 'driver'),\n",
       " ('spark.driver.port', '39631'),\n",
       " ('spark.app.name', 'CCFraud'),\n",
       " ('spark.submit.deployMode', 'client'),\n",
       " ('spark.driver.host', '10.0.2.15')]"
      ]
     },
     "execution_count": 3,
     "metadata": {},
     "output_type": "execute_result"
    }
   ],
   "source": [
    "sc.getConf().getAll()"
   ]
  },
  {
   "cell_type": "code",
   "execution_count": 4,
   "metadata": {},
   "outputs": [],
   "source": [
    "# To create a new configuration and use that to create a SparkContext.\n",
    "#conf = pyspark.SparkConf().setAll([('spark.executor.memory', '8g'), ('spark.executor.cores', '3'), ('spark.cores.max', '3'), ('spark.driver.memory','8g')])\n",
    "#sc.stop()\n",
    "#sc = pyspark.SparkContext(conf=conf)"
   ]
  },
  {
   "cell_type": "code",
   "execution_count": 5,
   "metadata": {},
   "outputs": [],
   "source": [
    "# Approach 1: We import dataset directly as a Data Frame\n",
    "fraud_df1=spark.read.csv('ccFraud.csv', header=True, inferSchema=True)"
   ]
  },
  {
   "cell_type": "code",
   "execution_count": 6,
   "metadata": {},
   "outputs": [],
   "source": [
    "# fraud_df1 = fraud_df1.repartition(6)"
   ]
  },
  {
   "cell_type": "code",
   "execution_count": 7,
   "metadata": {},
   "outputs": [
    {
     "name": "stdout",
     "output_type": "stream",
     "text": [
      "+------+------+-----+----------+-------+--------+------------+----------+---------+\n",
      "|custID|gender|state|cardholder|balance|numTrans|numIntlTrans|creditLine|fraudRisk|\n",
      "+------+------+-----+----------+-------+--------+------------+----------+---------+\n",
      "|     1|     1|   35|         1|   3000|       4|          14|         2|        0|\n",
      "+------+------+-----+----------+-------+--------+------------+----------+---------+\n",
      "only showing top 1 row\n",
      "\n"
     ]
    }
   ],
   "source": [
    "fraud_df1.show(1)"
   ]
  },
  {
   "cell_type": "code",
   "execution_count": 8,
   "metadata": {},
   "outputs": [
    {
     "name": "stdout",
     "output_type": "stream",
     "text": [
      "root\n",
      " |-- custID: integer (nullable = true)\n",
      " |-- gender: integer (nullable = true)\n",
      " |-- state: integer (nullable = true)\n",
      " |-- cardholder: integer (nullable = true)\n",
      " |-- balance: integer (nullable = true)\n",
      " |-- numTrans: integer (nullable = true)\n",
      " |-- numIntlTrans: integer (nullable = true)\n",
      " |-- creditLine: integer (nullable = true)\n",
      " |-- fraudRisk: integer (nullable = true)\n",
      "\n"
     ]
    }
   ],
   "source": [
    "fraud_df1.printSchema()"
   ]
  },
  {
   "cell_type": "code",
   "execution_count": 9,
   "metadata": {},
   "outputs": [],
   "source": [
    "# Approach 2: We import dataset initially as a RDD. After some transfomations/actions we convert it to Data Frame\n",
    "fraud_rdd = sc.textFile('ccFraud.csv')"
   ]
  },
  {
   "cell_type": "code",
   "execution_count": 10,
   "metadata": {},
   "outputs": [
    {
     "data": {
      "text/plain": [
       "['\"custID\",\"gender\",\"state\",\"cardholder\",\"balance\",\"numTrans\",\"numIntlTrans\",\"creditLine\",\"fraudRisk\"',\n",
       " '1,1,35,1,3000,4,14,2,0',\n",
       " '2,2,2,1,0,9,0,18,0']"
      ]
     },
     "execution_count": 10,
     "metadata": {},
     "output_type": "execute_result"
    }
   ],
   "source": [
    "fraud_rdd.take(3)"
   ]
  },
  {
   "cell_type": "code",
   "execution_count": 11,
   "metadata": {},
   "outputs": [],
   "source": [
    "header = fraud_rdd.first()\n",
    "fraud_rdd = fraud_rdd.filter(lambda row: row != header)\\\n",
    "        .map(lambda row: [int(elem) for elem in row.split(',')])"
   ]
  },
  {
   "cell_type": "code",
   "execution_count": 12,
   "metadata": {},
   "outputs": [
    {
     "name": "stdout",
     "output_type": "stream",
     "text": [
      "StructType(List(StructField(custID,IntegerType,true),StructField(gender,IntegerType,true),StructField(state,IntegerType,true),StructField(cardholder,IntegerType,true),StructField(balance,IntegerType,true),StructField(numTrans,IntegerType,true),StructField(numIntlTrans,IntegerType,true),StructField(creditLine,IntegerType,true),StructField(fraudRisk,IntegerType,true)))\n"
     ]
    }
   ],
   "source": [
    "# Create schema for DataFrame:\n",
    "from pyspark.sql import types\n",
    "\n",
    "fields = [*[types.StructField(i[1:-1], types.IntegerType(), True)   for i in header.split(',')]]\n",
    "\n",
    "schema = types.StructType(fields)\n",
    "print(schema)"
   ]
  },
  {
   "cell_type": "code",
   "execution_count": 14,
   "metadata": {},
   "outputs": [],
   "source": [
    "# Convert RDD to spark DataFrame:\n",
    "fraud_df2 = spark.createDataFrame(fraud_rdd, schema)"
   ]
  },
  {
   "cell_type": "code",
   "execution_count": 15,
   "metadata": {},
   "outputs": [
    {
     "name": "stdout",
     "output_type": "stream",
     "text": [
      "root\n",
      " |-- custID: integer (nullable = true)\n",
      " |-- gender: integer (nullable = true)\n",
      " |-- state: integer (nullable = true)\n",
      " |-- cardholder: integer (nullable = true)\n",
      " |-- balance: integer (nullable = true)\n",
      " |-- numTrans: integer (nullable = true)\n",
      " |-- numIntlTrans: integer (nullable = true)\n",
      " |-- creditLine: integer (nullable = true)\n",
      " |-- fraudRisk: integer (nullable = true)\n",
      "\n"
     ]
    }
   ],
   "source": [
    "fraud_df2.printSchema()"
   ]
  },
  {
   "cell_type": "code",
   "execution_count": 16,
   "metadata": {},
   "outputs": [],
   "source": [
    "# helpful function to detect the Missing Values:\n",
    "def detect_missing(df):\n",
    "    import pyspark.sql.functions as fn\n",
    "    miss_count=df.agg(*[(fn.count('*')-fn.count(c)).alias(c)   for c in df.columns]).toPandas()\n",
    "    miss_percent=df.agg(*[(1-(fn.count(c)/fn.count('*'))).alias(c)   for c in df.columns]).toPandas()\n",
    "    \n",
    "    summary = pd.concat([miss_count, miss_percent], axis=0)\n",
    "    summary['  '] = ['Count of miss values: ', 'Percentage of miss values: ']\n",
    "    summary.set_index('  ', inplace=True)\n",
    "    return summary\n",
    "\n",
    "# helpful function to detect the Duplicate Values:\n",
    "def detect_duplicates(df):\n",
    "    print('Count of rows: ', df.count())\n",
    "    print('Count of distinct rows: ', df.distinct().count())"
   ]
  },
  {
   "cell_type": "code",
   "execution_count": 17,
   "metadata": {},
   "outputs": [
    {
     "name": "stdout",
     "output_type": "stream",
     "text": [
      "Count of rows:  10000000\n",
      "Count of distinct rows:  10000000\n"
     ]
    }
   ],
   "source": [
    "# Check for Duplicates: \n",
    "detect_duplicates(fraud_df1)\n",
    "\n",
    "# df.dropDuplicates() # Drop duplicate values"
   ]
  },
  {
   "cell_type": "code",
   "execution_count": 18,
   "metadata": {},
   "outputs": [
    {
     "name": "stdout",
     "output_type": "stream",
     "text": [
      "+---------+-------+\n",
      "|fraudRisk|  count|\n",
      "+---------+-------+\n",
      "|        1| 596014|\n",
      "|        0|9403986|\n",
      "+---------+-------+\n",
      "\n"
     ]
    }
   ],
   "source": [
    "# Dataset is Imbalanced:\n",
    "fraud_df1.groupBy('fraudRisk').count().show()"
   ]
  },
  {
   "cell_type": "code",
   "execution_count": 19,
   "metadata": {},
   "outputs": [
    {
     "data": {
      "text/html": [
       "<div>\n",
       "<style scoped>\n",
       "    .dataframe tbody tr th:only-of-type {\n",
       "        vertical-align: middle;\n",
       "    }\n",
       "\n",
       "    .dataframe tbody tr th {\n",
       "        vertical-align: top;\n",
       "    }\n",
       "\n",
       "    .dataframe thead th {\n",
       "        text-align: right;\n",
       "    }\n",
       "</style>\n",
       "<table border=\"1\" class=\"dataframe\">\n",
       "  <thead>\n",
       "    <tr style=\"text-align: right;\">\n",
       "      <th></th>\n",
       "      <th>custID</th>\n",
       "      <th>gender</th>\n",
       "      <th>state</th>\n",
       "      <th>cardholder</th>\n",
       "      <th>balance</th>\n",
       "      <th>numTrans</th>\n",
       "      <th>numIntlTrans</th>\n",
       "      <th>creditLine</th>\n",
       "      <th>fraudRisk</th>\n",
       "    </tr>\n",
       "    <tr>\n",
       "      <th></th>\n",
       "      <th></th>\n",
       "      <th></th>\n",
       "      <th></th>\n",
       "      <th></th>\n",
       "      <th></th>\n",
       "      <th></th>\n",
       "      <th></th>\n",
       "      <th></th>\n",
       "      <th></th>\n",
       "    </tr>\n",
       "  </thead>\n",
       "  <tbody>\n",
       "    <tr>\n",
       "      <th>Count of miss values:</th>\n",
       "      <td>0.0</td>\n",
       "      <td>0.0</td>\n",
       "      <td>0.0</td>\n",
       "      <td>0.0</td>\n",
       "      <td>0.0</td>\n",
       "      <td>0.0</td>\n",
       "      <td>0.0</td>\n",
       "      <td>0.0</td>\n",
       "      <td>0.0</td>\n",
       "    </tr>\n",
       "    <tr>\n",
       "      <th>Percentage of miss values:</th>\n",
       "      <td>0.0</td>\n",
       "      <td>0.0</td>\n",
       "      <td>0.0</td>\n",
       "      <td>0.0</td>\n",
       "      <td>0.0</td>\n",
       "      <td>0.0</td>\n",
       "      <td>0.0</td>\n",
       "      <td>0.0</td>\n",
       "      <td>0.0</td>\n",
       "    </tr>\n",
       "  </tbody>\n",
       "</table>\n",
       "</div>"
      ],
      "text/plain": [
       "                             custID  gender  state  cardholder  balance  \\\n",
       "                                                                          \n",
       "Count of miss values:           0.0     0.0    0.0         0.0      0.0   \n",
       "Percentage of miss values:      0.0     0.0    0.0         0.0      0.0   \n",
       "\n",
       "                             numTrans  numIntlTrans  creditLine  fraudRisk  \n",
       "                                                                            \n",
       "Count of miss values:             0.0           0.0         0.0        0.0  \n",
       "Percentage of miss values:        0.0           0.0         0.0        0.0  "
      ]
     },
     "execution_count": 19,
     "metadata": {},
     "output_type": "execute_result"
    }
   ],
   "source": [
    "detect_missing(fraud_df1)"
   ]
  },
  {
   "cell_type": "markdown",
   "metadata": {},
   "source": [
    "# Preparing Data for Machine Learning:"
   ]
  },
  {
   "cell_type": "code",
   "execution_count": 20,
   "metadata": {},
   "outputs": [],
   "source": [
    "from pyspark.ml.feature import OneHotEncoder, StringIndexer, VectorAssembler\n",
    "\n",
    "# One-Hot-Encoding of Categorical features:\n",
    "categoricalColumns = ['gender', 'state', 'cardholder']     # specify nominal categorical features\n",
    "ordinalColumns = [ ]        # specify ordinal categorical features\n",
    "\n",
    "\n",
    "stages = []\n",
    "\n",
    "for categoricalCol in categoricalColumns:\n",
    "    stringIndexer = StringIndexer(inputCol = categoricalCol, outputCol = categoricalCol + '_Index')\n",
    "    encoder = OneHotEncoder(inputCol=stringIndexer.getOutputCol(), outputCol=categoricalCol + \"_classVec\")\n",
    "    stages += [stringIndexer, encoder]\n",
    "\n",
    "    \n",
    "label_stringIdx = StringIndexer(inputCol = 'fraudRisk', outputCol = 'label')\n",
    "stages += [label_stringIdx]    \n",
    "    \n",
    "# Continuous features: \n",
    "numericCols = ['balance', 'numTrans', 'numIntlTrans', 'creditLine']\n",
    "\n",
    "\n",
    "# Vector assembling:\n",
    "assemblerInputs = [c + \"_classVec\" for c in categoricalColumns] + numericCols\n",
    "        \n",
    "assembler = VectorAssembler(inputCols=assemblerInputs, outputCol=\"features\")\n",
    "stages += [assembler]"
   ]
  },
  {
   "cell_type": "code",
   "execution_count": 21,
   "metadata": {},
   "outputs": [
    {
     "name": "stdout",
     "output_type": "stream",
     "text": [
      "root\n",
      " |-- label: double (nullable = true)\n",
      " |-- features: vector (nullable = true)\n",
      " |-- custID: integer (nullable = true)\n",
      " |-- gender: integer (nullable = true)\n",
      " |-- state: integer (nullable = true)\n",
      " |-- cardholder: integer (nullable = true)\n",
      " |-- balance: integer (nullable = true)\n",
      " |-- numTrans: integer (nullable = true)\n",
      " |-- numIntlTrans: integer (nullable = true)\n",
      " |-- creditLine: integer (nullable = true)\n",
      " |-- fraudRisk: integer (nullable = true)\n",
      "\n"
     ]
    }
   ],
   "source": [
    "# Pipeline: ___________________________________\n",
    "from pyspark.ml import Pipeline\n",
    "\n",
    "cols = fraud_df1.columns\n",
    "pipeline = Pipeline(stages = stages)\n",
    "pipelineModel = pipeline.fit(fraud_df1)\n",
    "df_piped = pipelineModel.transform(fraud_df1)\n",
    "\n",
    "selectedCols = ['label', 'features'] + cols\n",
    "df_piped = df_piped.select(selectedCols)\n",
    "df_piped.printSchema()"
   ]
  },
  {
   "cell_type": "code",
   "execution_count": 24,
   "metadata": {},
   "outputs": [
    {
     "name": "stdout",
     "output_type": "stream",
     "text": [
      "Training Dataset Count: 7000505\n",
      "Test Dataset Count: 2999495\n"
     ]
    }
   ],
   "source": [
    "train, test = df_piped.randomSplit([0.7, 0.3], seed = 42)\n",
    "print(\"Training Dataset Count: \" + str(train.count()))\n",
    "print(\"Test Dataset Count: \" + str(test.count()))"
   ]
  },
  {
   "cell_type": "markdown",
   "metadata": {},
   "source": [
    "# Algorithm 1:   Logistic Regression"
   ]
  },
  {
   "cell_type": "code",
   "execution_count": 25,
   "metadata": {},
   "outputs": [
    {
     "name": "stdout",
     "output_type": "stream",
     "text": [
      "+------------------+-------+\n",
      "|            weight|  count|\n",
      "+------------------+-------+\n",
      "|1.0634333232871451|6582928|\n",
      "|16.764584735270383| 417577|\n",
      "+------------------+-------+\n",
      "\n"
     ]
    }
   ],
   "source": [
    "# To calculate the Calss Weight for Logestic Regression:\n",
    "new_train=train.join(train.groupBy('label').count(), 'label', how='leftouter')\n",
    "train_weight=new_train.withColumn('weight', train.count()/(new_train['count']))\n",
    "\n",
    "train_weight.groupBy('weight').count().show()"
   ]
  },
  {
   "cell_type": "code",
   "execution_count": 13,
   "metadata": {},
   "outputs": [],
   "source": [
    "from pyspark.ml.classification import LogisticRegression\n",
    "lr = LogisticRegression(featuresCol = 'features', labelCol = 'label', \n",
    "                        maxIter = 10, \n",
    "                        regParam = 0,\n",
    "                        elasticNetParam = 0,\n",
    "                        weightCol ='weight')\n",
    "\n",
    "# creating the Evaluator: \n",
    "from  pyspark.ml import evaluation \n",
    "\n",
    "evaluator=evaluation.BinaryClassificationEvaluator(metricName=\"areaUnderROC\")"
   ]
  },
  {
   "cell_type": "code",
   "execution_count": 23,
   "metadata": {},
   "outputs": [],
   "source": [
    "model_lr=lr.fit(train_weight)"
   ]
  },
  {
   "cell_type": "code",
   "execution_count": 24,
   "metadata": {},
   "outputs": [
    {
     "name": "stdout",
     "output_type": "stream",
     "text": [
      "Train roc_auc score:  0.96\n",
      "Test roc_auc score:  0.96 \n",
      "\n",
      "Train f1 score:  0.91\n",
      "Test f1 score:  0.91\n"
     ]
    }
   ],
   "source": [
    "from pyspark.ml.evaluation import BinaryClassificationEvaluator, MulticlassClassificationEvaluator\n",
    "print('Train roc_auc score: ', round(model_lr.evaluate(train).areaUnderROC,2))\n",
    "print('Test roc_auc score: ', round(model_lr.evaluate(test).areaUnderROC,2), '\\n')\n",
    "\n",
    "my_eval= MulticlassClassificationEvaluator(metricName='f1')\n",
    "print('Train f1 score: ', round(my_eval.evaluate(model_lr.transform(train)),2))\n",
    "print('Test f1 score: ', round(my_eval.evaluate(model_lr.transform(test)),2))"
   ]
  },
  {
   "cell_type": "code",
   "execution_count": 25,
   "metadata": {},
   "outputs": [
    {
     "name": "stdout",
     "output_type": "stream",
     "text": [
      "+-----+--------------------+--------------------+----------+\n",
      "|label|       rawPrediction|         probability|prediction|\n",
      "+-----+--------------------+--------------------+----------+\n",
      "|  0.0|[5.05124385730773...|[0.99363935073844...|       0.0|\n",
      "|  0.0|[4.83323411415913...|[0.99210213910021...|       0.0|\n",
      "|  0.0|[5.40335542646144...|[0.99551872097440...|       0.0|\n",
      "|  0.0|[0.41315322199365...|[0.60184372077758...|       0.0|\n",
      "|  0.0|[2.72382846965941...|[0.93841815088658...|       0.0|\n",
      "+-----+--------------------+--------------------+----------+\n",
      "only showing top 5 rows\n",
      "\n"
     ]
    }
   ],
   "source": [
    "test_sampled = test.sampleBy('label', fractions={0: 0.05, 1: 0.05}, seed=42)\n",
    "\n",
    "test_predictions = model_lr.transform(test_sampled)\n",
    "test_predictions.select('label', 'rawPrediction', 'probability', 'prediction').show(5)"
   ]
  },
  {
   "cell_type": "code",
   "execution_count": 26,
   "metadata": {},
   "outputs": [
    {
     "name": "stdout",
     "output_type": "stream",
     "text": [
      "Confusion matrix, without normalization\n",
      "[[124291  17061]\n",
      " [   989   7961]]\n",
      "Normalized confusion matrix\n",
      "[[0.88 0.12]\n",
      " [0.11 0.89]]\n"
     ]
    },
    {
     "data": {
      "image/png": "[encoded data removed]",
      "text/plain": [
       "<Figure size 432x288 with 2 Axes>"
      ]
     },
     "metadata": {},
     "output_type": "display_data"
    }
   ],
   "source": [
    "# Plot a confusion matrix:\n",
    "# cm is the confusion matrix, names are the names of the classes.\n",
    "def plot_confusion_matrix(cm, names, title='Confusion matrix', cmap=plt.cm.Blues):\n",
    "    plt.imshow(cm, interpolation='nearest', cmap=cmap)\n",
    "    plt.title(title)\n",
    "    plt.colorbar()\n",
    "    tick_marks = np.arange(len(names))\n",
    "    plt.xticks(tick_marks, names, rotation=45)\n",
    "    plt.yticks(tick_marks, names)\n",
    "    plt.tight_layout()\n",
    "    plt.ylabel('True label')\n",
    "    plt.xlabel('Predicted label')\n",
    "\n",
    "class_names=[\"0\", \"1\"]\n",
    "    \n",
    "# Compute confusion matrix:\n",
    "from sklearn.metrics import confusion_matrix\n",
    "y_test=test_sampled.select('label')\n",
    "y_pred=test_predictions.select('prediction')\n",
    "\n",
    "y_test = y_test.toPandas()\n",
    "y_pred = y_pred.toPandas()\n",
    "\n",
    "cm = confusion_matrix(y_test, y_pred)\n",
    "\n",
    "np.set_printoptions(precision=2)\n",
    "print('Confusion matrix, without normalization')\n",
    "print(cm)\n",
    "\n",
    "# Normalize the confusion matrix by row (i.e by the number of samples in each class)\n",
    "cm_normalized = cm.astype('float') / cm.sum(axis=1)[:, np.newaxis]\n",
    "print('Normalized confusion matrix')\n",
    "print(cm_normalized)\n",
    "plt.figure()\n",
    "plot_confusion_matrix(cm_normalized, class_names, title='Normalized confusion matrix')\n",
    "\n",
    "plt.show()"
   ]
  },
  {
   "cell_type": "code",
   "execution_count": 27,
   "metadata": {},
   "outputs": [
    {
     "data": {
      "image/png": "[encoded data removed]",
      "text/plain": [
       "<Figure size 576x432 with 1 Axes>"
      ]
     },
     "metadata": {},
     "output_type": "display_data"
    }
   ],
   "source": [
    "# ROC curve:______________________________________\n",
    "validation_accuracy=model_lr.evaluate(test_sampled)\n",
    "roc=validation_accuracy.roc.toPandas()\n",
    "roc_auc=validation_accuracy.areaUnderROC\n",
    "\n",
    "fig, ax = plt.subplots(figsize=(8,6)) \n",
    "\n",
    "plt.step(roc['FPR'],roc['TPR'], color='darkorange', lw=2, label='Validation ROC curve (auc = %0.2f)' % roc_auc)\n",
    "plt.plot([0, 1], [0, 1], color='navy', alpha=0.4, lw=2, linestyle='--')\n",
    "\n",
    "plt.xlim([0.0, 1])\n",
    "plt.ylim([0.0, 1.02])\n",
    "plt.xlabel('FPR')\n",
    "plt.ylabel('TPR')\n",
    "plt.title('ROC Curve')\n",
    "plt.legend(loc=\"lower right\")\n",
    "\n",
    "plt.show()"
   ]
  },
  {
   "cell_type": "markdown",
   "metadata": {},
   "source": [
    "# Algorithm 2:  Random Forest"
   ]
  },
  {
   "cell_type": "code",
   "execution_count": 29,
   "metadata": {},
   "outputs": [
    {
     "name": "stdout",
     "output_type": "stream",
     "text": [
      "+-----+------+\n",
      "|label| count|\n",
      "+-----+------+\n",
      "|  0.0|418548|\n",
      "|  1.0|417577|\n",
      "+-----+------+\n",
      "\n"
     ]
    }
   ],
   "source": [
    "# Undersmapling the majority class:\n",
    "ratio = train.filter(train['label']==1).count() / train.filter(train['label']==0).count()\n",
    "\n",
    "undersampled_train = train.sampleBy('label', fractions={0: ratio, 1: 1.0}, seed=42)\n",
    "\n",
    "undersampled_train.groupby('label').count().show()"
   ]
  },
  {
   "cell_type": "code",
   "execution_count": 30,
   "metadata": {},
   "outputs": [],
   "source": [
    "from pyspark.ml.classification import RandomForestClassifier\n",
    "rf = RandomForestClassifier(featuresCol = 'features', labelCol = 'label',\n",
    "                             maxDepth = 20,\n",
    "                             numTrees = 20,\n",
    "                             maxBins = 64)\n",
    "\n",
    "# creating the Evaluator: \n",
    "from  pyspark.ml import evaluation \n",
    "evaluator=evaluation.BinaryClassificationEvaluator(metricName=\"areaUnderROC\")"
   ]
  },
  {
   "cell_type": "code",
   "execution_count": 31,
   "metadata": {},
   "outputs": [],
   "source": [
    "# fit the model:\n",
    "model_rf = rf.fit(undersampled_train)"
   ]
  },
  {
   "cell_type": "code",
   "execution_count": 32,
   "metadata": {},
   "outputs": [
    {
     "name": "stdout",
     "output_type": "stream",
     "text": [
      "Train roc_auc score:  0.96\n",
      "Test roc_auc score:  0.95 \n",
      "\n",
      "Train f1 score:  0.89\n",
      "Test f1 score:  0.89\n"
     ]
    }
   ],
   "source": [
    "# Evaluation of RF model:\n",
    "my_eval= evaluation.BinaryClassificationEvaluator(metricName='areaUnderROC')\n",
    "print('Train roc_auc score: ', round(my_eval.evaluate(model_rf.transform(undersampled_train)),2))\n",
    "print('Test roc_auc score: ', round(my_eval.evaluate(model_rf.transform(test)),2), '\\n')\n",
    "\n",
    "my_eval= MulticlassClassificationEvaluator(metricName='f1')\n",
    "print('Train f1 score: ', round(my_eval.evaluate(model_rf.transform(undersampled_train)),2))\n",
    "print('Test f1 score: ', round(my_eval.evaluate(model_rf.transform(test)),2))"
   ]
  },
  {
   "cell_type": "code",
   "execution_count": 33,
   "metadata": {},
   "outputs": [
    {
     "name": "stdout",
     "output_type": "stream",
     "text": [
      "+-----+--------------------+--------------------+----------+\n",
      "|label|       rawPrediction|         probability|prediction|\n",
      "+-----+--------------------+--------------------+----------+\n",
      "|  0.0|[18.4516308784378...|[0.92258154392189...|       0.0|\n",
      "|  0.0|[14.5311255998170...|[0.72655627999085...|       0.0|\n",
      "|  0.0|[15.5600800223947...|[0.77800400111973...|       0.0|\n",
      "|  0.0|[8.56879322078727...|[0.42843966103936...|       1.0|\n",
      "|  0.0|[12.6219269470429...|[0.63109634735214...|       0.0|\n",
      "+-----+--------------------+--------------------+----------+\n",
      "only showing top 5 rows\n",
      "\n"
     ]
    }
   ],
   "source": [
    "# Prediction on test dataset:\n",
    "test_sampled = test.sampleBy('label', fractions={0: 0.05, 1: 0.05}, seed=42)\n",
    "\n",
    "test_predictions = model_rf.transform(test_sampled)\n",
    "test_predictions.select('label', 'rawPrediction', 'probability', 'prediction').show(5)"
   ]
  },
  {
   "cell_type": "code",
   "execution_count": 34,
   "metadata": {},
   "outputs": [
    {
     "name": "stdout",
     "output_type": "stream",
     "text": [
      "Confusion matrix, without normalization\n",
      "[[121189  20163]\n",
      " [   765   8185]]\n",
      "Normalized confusion matrix\n",
      "[[0.86 0.14]\n",
      " [0.09 0.91]]\n"
     ]
    },
    {
     "data": {
      "image/png": "[encoded data removed]",
      "text/plain": [
       "<Figure size 432x288 with 2 Axes>"
      ]
     },
     "metadata": {},
     "output_type": "display_data"
    }
   ],
   "source": [
    "# Plot a confusion matrix:\n",
    "# cm is the confusion matrix, names are the names of the classes.\n",
    "\n",
    "class_names=[\"0\", \"1\"]\n",
    "    \n",
    "# Compute confusion matrix:\n",
    "from sklearn.metrics import confusion_matrix\n",
    "y_test=test_sampled.select('label')\n",
    "y_pred=test_predictions.select('prediction')\n",
    "\n",
    "y_test = y_test.toPandas()\n",
    "y_pred = y_pred.toPandas()\n",
    "\n",
    "cm = confusion_matrix(y_test, y_pred)\n",
    "\n",
    "np.set_printoptions(precision=2)\n",
    "print('Confusion matrix, without normalization')\n",
    "print(cm)\n",
    "\n",
    "\n",
    "# Normalize the confusion matrix by row (i.e by the number of samples in each class)\n",
    "cm_normalized = cm.astype('float') / cm.sum(axis=1)[:, np.newaxis]\n",
    "print('Normalized confusion matrix')\n",
    "print(cm_normalized)\n",
    "plt.figure()\n",
    "plot_confusion_matrix(cm_normalized, class_names, title='Normalized confusion matrix')\n",
    "\n",
    "plt.show()"
   ]
  },
  {
   "cell_type": "code",
   "execution_count": 35,
   "metadata": {},
   "outputs": [
    {
     "data": {
      "image/png": "[encoded data removed]",
      "text/plain": [
       "<Figure size 576x432 with 1 Axes>"
      ]
     },
     "metadata": {},
     "output_type": "display_data"
    }
   ],
   "source": [
    "# ROC curve:______________________________________\n",
    "results= test_predictions.select(['probability', 'label']).collect()\n",
    "results = [(i[0][0], 1.0-i[1]) for i in results]\n",
    "\n",
    "from sklearn.metrics import roc_curve, auc\n",
    " \n",
    "fpr= dict()\n",
    "tpr = dict()\n",
    "roc_auc = dict()\n",
    " \n",
    "y_test = [i[1] for i in results]\n",
    "y_score = [i[0] for i in results]\n",
    " \n",
    "fpr, tpr, threshold = roc_curve(y_test, y_score)\n",
    "roc_auc = auc(fpr, tpr)\n",
    "\n",
    "fig, ax = plt.subplots(figsize=(8,6)) \n",
    "\n",
    "plt.step(fpr, tpr, color='darkorange', lw=2, label='Validation ROC curve (auc = %0.2f)' % roc_auc)\n",
    "plt.plot([0, 1], [0, 1], color='navy', alpha=0.4, lw=2, linestyle='--')\n",
    "\n",
    "plt.xlim([0.0, 1])\n",
    "plt.ylim([0.0, 1.02])\n",
    "plt.xlabel('FPR')\n",
    "plt.ylabel('TPR')\n",
    "plt.title('ROC Curve')\n",
    "plt.legend(loc=\"lower right\")\n",
    "\n",
    "\n",
    "plt.show()"
   ]
  },
  {
   "cell_type": "code",
   "execution_count": 36,
   "metadata": {},
   "outputs": [
    {
     "data": {
      "image/png": "[encoded data removed]",
      "text/plain": [
       "<Figure size 1152x432 with 1 Axes>"
      ]
     },
     "metadata": {},
     "output_type": "display_data"
    }
   ],
   "source": [
    "# Feature Importance: \n",
    "im=model_rf.featureImportances\n",
    "\n",
    "# Plot:\n",
    "c1=pd.DataFrame(im.toArray(),  columns=[\"Importance\"])\n",
    "c2=pd.DataFrame(np.arange(im.toArray().shape[0]), columns=[\"Features\"])\n",
    "\n",
    "fig, ax = plt.subplots(figsize=(16, 6)) \n",
    "sns.barplot(x=\"Features\", y=\"Importance\", data=pd.concat([c2,c1], axis=1), color=\"blue\", ax=ax)\n",
    "plt.xticks(rotation=90)\n",
    "plt.show()"
   ]
  },
  {
   "cell_type": "markdown",
   "metadata": {},
   "source": [
    "# Algorithm 3:  Gradient-Boosted Trees"
   ]
  },
  {
   "cell_type": "code",
   "execution_count": 37,
   "metadata": {},
   "outputs": [],
   "source": [
    "from pyspark.ml.classification import GBTClassifier\n",
    "gb = GBTClassifier(featuresCol = 'features', labelCol = 'label',\n",
    "                   maxDepth = 6, \n",
    "                   maxIter = 48,\n",
    "                   maxBins = 64)\n",
    "\n",
    "# creating the Evaluator: \n",
    "from  pyspark.ml import evaluation \n",
    "evaluator=evaluation.MulticlassClassificationEvaluator(metricName='f1')"
   ]
  },
  {
   "cell_type": "code",
   "execution_count": 38,
   "metadata": {},
   "outputs": [],
   "source": [
    "# fit the model on train dataset with Undersampled majority class:\n",
    "model_gb=gb.fit(undersampled_train)"
   ]
  },
  {
   "cell_type": "code",
   "execution_count": 39,
   "metadata": {},
   "outputs": [
    {
     "name": "stdout",
     "output_type": "stream",
     "text": [
      "Train f1 score:   0.89\n",
      "Test f1 score:   0.9\n"
     ]
    }
   ],
   "source": [
    "# Evaluation of GBT model:\n",
    "print(\"Train f1 score:  \", round(evaluator.evaluate(model_gb.transform(undersampled_train)),2))\n",
    "print(\"Test f1 score:  \", round(evaluator.evaluate(model_gb.transform(test)),2))"
   ]
  },
  {
   "cell_type": "code",
   "execution_count": 40,
   "metadata": {},
   "outputs": [
    {
     "name": "stdout",
     "output_type": "stream",
     "text": [
      "+-----+----------+\n",
      "|label|prediction|\n",
      "+-----+----------+\n",
      "|  0.0|       0.0|\n",
      "|  0.0|       0.0|\n",
      "|  0.0|       0.0|\n",
      "|  0.0|       0.0|\n",
      "|  0.0|       0.0|\n",
      "+-----+----------+\n",
      "only showing top 5 rows\n",
      "\n"
     ]
    }
   ],
   "source": [
    "# Prediction on test dataset:\n",
    "test_predictions = model_gb.transform(test_sampled)\n",
    "test_predictions.select('label', 'prediction').show(5)"
   ]
  },
  {
   "cell_type": "code",
   "execution_count": 41,
   "metadata": {},
   "outputs": [
    {
     "name": "stdout",
     "output_type": "stream",
     "text": [
      "Confusion matrix, without normalization\n",
      "[[122941  18411]\n",
      " [   835   8115]]\n",
      "Normalized confusion matrix\n",
      "[[0.87 0.13]\n",
      " [0.09 0.91]]\n"
     ]
    },
    {
     "data": {
      "image/png": "[encoded data removed]",
      "text/plain": [
       "<Figure size 432x288 with 2 Axes>"
      ]
     },
     "metadata": {},
     "output_type": "display_data"
    }
   ],
   "source": [
    "# Plot a confusion matrix:   \n",
    "# Compute confusion matrix:\n",
    "y_test=test_sampled.select('label')\n",
    "y_pred=test_predictions.select('prediction')\n",
    "\n",
    "y_test = y_test.toPandas()\n",
    "y_pred = y_pred.toPandas()\n",
    "\n",
    "cm = confusion_matrix(y_test, y_pred)\n",
    "\n",
    "np.set_printoptions(precision=2)\n",
    "print('Confusion matrix, without normalization')\n",
    "print(cm)\n",
    "\n",
    "\n",
    "# Normalize the confusion matrix by row (i.e by the number of samples in each class)\n",
    "cm_normalized = cm.astype('float') / cm.sum(axis=1)[:, np.newaxis]\n",
    "print('Normalized confusion matrix')\n",
    "print(cm_normalized)\n",
    "plt.figure()\n",
    "plot_confusion_matrix(cm_normalized, class_names, title='Normalized confusion matrix')\n",
    "\n",
    "plt.show()"
   ]
  },
  {
   "cell_type": "code",
   "execution_count": 42,
   "metadata": {},
   "outputs": [
    {
     "data": {
      "image/png": "[encoded data removed]",
      "text/plain": [
       "<Figure size 1152x432 with 1 Axes>"
      ]
     },
     "metadata": {},
     "output_type": "display_data"
    }
   ],
   "source": [
    "# Feature Importance: \n",
    "im=model_gb.featureImportances\n",
    "\n",
    "# Plot:\n",
    "c1=pd.DataFrame(im.toArray(),  columns=[\"Importance\"])\n",
    "c2=pd.DataFrame(np.arange(im.toArray().shape[0]), columns=[\"Features\"])\n",
    "\n",
    "fig, ax = plt.subplots(figsize=(16, 6)) \n",
    "sns.barplot(x=\"Features\", y=\"Importance\", data=pd.concat([c2,c1], axis=1), color=\"blue\", ax=ax)\n",
    "plt.xticks(rotation=90)\n",
    "\n",
    "plt.show()"
   ]
  },
  {
   "cell_type": "code",
   "execution_count": 43,
   "metadata": {},
   "outputs": [],
   "source": [
    "sc.stop()"
   ]
  }
 ],
 "metadata": {
  "kernelspec": {
   "display_name": "Python 3",
   "language": "python",
   "name": "python3"
  },
  "language_info": {
   "codemirror_mode": {
    "name": "ipython",
    "version": 3
   },
   "file_extension": ".py",
   "mimetype": "text/x-python",
   "name": "python",
   "nbconvert_exporter": "python",
   "pygments_lexer": "ipython3",
   "version": "3.6.5"
  }
 },
 "nbformat": 4,
 "nbformat_minor": 2
}
