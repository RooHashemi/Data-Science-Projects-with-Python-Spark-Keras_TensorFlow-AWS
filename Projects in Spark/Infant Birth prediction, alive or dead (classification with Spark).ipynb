{
 "cells": [
  {
   "cell_type": "markdown",
   "metadata": {},
   "source": [
    "# Problem statement: \n",
    "* The data has 45,429 rows and 19 variables.\n",
    "* Dataset is slightly imbalanced: 23349 alive vs. 22080 dead infants at report. \n",
    "* This is a binary classification problem. The classification goal is to predict wheter or not the infant dies at birth.\n",
    "\n",
    "# Workflow:\n",
    "- Load the dataset, and define the required functions (e.g. for detecting the missing values, etc.)\n",
    "- Data Cleaning/Wrangling: Manipulate outliers, missing data or duplicated values, etc. \n",
    "- Basic data exploration\n",
    "- Preparing data for Machine Learning:\n",
    "    - One-hot-encoding of categorical features\n",
    "    - Vector Assembling\n",
    "    - Splitting data into training & test parts (I use the training part for training & hyperparameter tuning of models, test part for the final evaluation of models)\n",
    "    \n",
    " # Model Training: \n",
    "- I separately train following models:\n",
    "     - Logistic Regression (LR)\n",
    "     - Random Forest (RF)\n",
    "     - Gradient Boosting Trees (GBTs)\n",
    "     \n",
    " Note: I use Grid-Search technique to find optimal hyper-parameters of each model. \n",
    "\n",
    "  # Model Evaluation: \n",
    "- I separately evaluate the best LR, RF and GBT models, by calculating/plotting following mertics on Test dataset:\n",
    "     - roc_auc score\n",
    "     - f1 score\n",
    "     - Confusion matrix\n",
    "     - ROC curve  \n",
    "     - Average precision\n",
    " \n",
    " \n",
    "- Calculating the Feature Importance with RF and GBTs models."
   ]
  },
  {
   "cell_type": "code",
   "execution_count": 1,
   "metadata": {
    "scrolled": false
   },
   "outputs": [],
   "source": [
    "import warnings\n",
    "warnings.filterwarnings(\"ignore\")\n",
    "\n",
    "import findspark \n",
    "findspark.init('/home/rhashemee/spark-2.1.0-bin-hadoop2.7')\n",
    "\n",
    "import pyspark\n",
    "\n",
    "import sklearn\n",
    "import numpy as np\n",
    "from scipy import stats\n",
    "import pandas as pd\n",
    "import imblearn as im\n",
    "import featuretools as ft\n",
    "import matplotlib.pyplot as plt\n",
    "import seaborn as sns\n",
    "%matplotlib inline\n",
    "\n",
    "import warnings\n",
    "warnings.filterwarnings(\"ignore\")"
   ]
  },
  {
   "cell_type": "code",
   "execution_count": 2,
   "metadata": {},
   "outputs": [],
   "source": [
    "from pyspark.sql import SparkSession\n",
    "\n",
    "spark = SparkSession.builder.master(\"local[*]\")\\\n",
    "                            .appName(\"Infant_Birth\")\\\n",
    "                            .enableHiveSupport()\\\n",
    "                            .getOrCreate()\n",
    "\n",
    "#spark.conf.set('spark.driver.memory','8g')\n",
    "#spark.conf.set('spark.executor.memory', '8g')\n",
    "#spark.conf.set('spark.executor.cores', '6')\n",
    "#spark.conf.set('spark.cores.max', '6')\n",
    "\n",
    "sc = spark.sparkContext"
   ]
  },
  {
   "cell_type": "code",
   "execution_count": 3,
   "metadata": {},
   "outputs": [
    {
     "data": {
      "text/plain": [
       "[('spark.app.id', 'local-1534972000162'),\n",
       " ('spark.rdd.compress', 'True'),\n",
       " ('hive.metastore.warehouse.dir',\n",
       "  'file:/home/rhashemee/Documents/Spark%20projects/Infant%20Birth/spark-warehouse'),\n",
       " ('spark.serializer.objectStreamReset', '100'),\n",
       " ('spark.app.name', 'Infant_Birth'),\n",
       " ('spark.master', 'local[*]'),\n",
       " ('spark.driver.port', '44649'),\n",
       " ('spark.executor.id', 'driver'),\n",
       " ('spark.submit.deployMode', 'client'),\n",
       " ('spark.driver.host', '10.0.2.15')]"
      ]
     },
     "execution_count": 3,
     "metadata": {},
     "output_type": "execute_result"
    }
   ],
   "source": [
    "sc.getConf().getAll()"
   ]
  },
  {
   "cell_type": "code",
   "execution_count": 4,
   "metadata": {},
   "outputs": [],
   "source": [
    "# To create a new configuration and use that to create a SparkContext.\n",
    "#conf = pyspark.SparkConf().setAll([('spark.executor.memory', '8g'), ('spark.executor.cores', '3'), ('spark.cores.max', '3'), ('spark.driver.memory','8g')])\n",
    "#sc.stop()\n",
    "#sc = pyspark.SparkContext(conf=conf)"
   ]
  },
  {
   "cell_type": "code",
   "execution_count": 5,
   "metadata": {},
   "outputs": [],
   "source": [
    "# Approach 1: We import dataset directly as a Data Frame\n",
    "df=spark.read.csv('births_train.csv.gz', header=True, inferSchema=True)"
   ]
  },
  {
   "cell_type": "code",
   "execution_count": 6,
   "metadata": {},
   "outputs": [],
   "source": [
    "df = df.repartition(4)"
   ]
  },
  {
   "cell_type": "code",
   "execution_count": 7,
   "metadata": {},
   "outputs": [
    {
     "data": {
      "text/plain": [
       "4"
      ]
     },
     "execution_count": 7,
     "metadata": {},
     "output_type": "execute_result"
    }
   ],
   "source": [
    "df.rdd.getNumPartitions()"
   ]
  },
  {
   "cell_type": "code",
   "execution_count": 8,
   "metadata": {},
   "outputs": [
    {
     "name": "stdout",
     "output_type": "stream",
     "text": [
      "root\n",
      " |-- INFANT_ALIVE_AT_REPORT: string (nullable = true)\n",
      " |-- BIRTH_PLACE: integer (nullable = true)\n",
      " |-- MOTHER_AGE_YEARS: integer (nullable = true)\n",
      " |-- FATHER_COMBINED_AGE: integer (nullable = true)\n",
      " |-- CIG_BEFORE: integer (nullable = true)\n",
      " |-- CIG_1_TRI: integer (nullable = true)\n",
      " |-- CIG_2_TRI: integer (nullable = true)\n",
      " |-- CIG_3_TRI: integer (nullable = true)\n",
      " |-- MOTHER_HEIGHT_IN: integer (nullable = true)\n",
      " |-- MOTHER_PRE_WEIGHT: integer (nullable = true)\n",
      " |-- MOTHER_DELIVERY_WEIGHT: integer (nullable = true)\n",
      " |-- MOTHER_WEIGHT_GAIN: integer (nullable = true)\n",
      " |-- DIABETES_PRE: string (nullable = true)\n",
      " |-- DIABETES_GEST: string (nullable = true)\n",
      " |-- HYP_TENS_PRE: string (nullable = true)\n",
      " |-- HYP_TENS_GEST: string (nullable = true)\n",
      " |-- PREV_BIRTH_PRETERM: string (nullable = true)\n",
      "\n"
     ]
    }
   ],
   "source": [
    "# We drop all of the features that relate to the infant: Keep the most important ones\n",
    "selected_features = [\n",
    "    'INFANT_ALIVE_AT_REPORT', \n",
    "    'BIRTH_PLACE', \n",
    "    'MOTHER_AGE_YEARS', \n",
    "    'FATHER_COMBINED_AGE', \n",
    "    'CIG_BEFORE', \n",
    "    'CIG_1_TRI', \n",
    "    'CIG_2_TRI', \n",
    "    'CIG_3_TRI', \n",
    "    'MOTHER_HEIGHT_IN', \n",
    "    'MOTHER_PRE_WEIGHT', \n",
    "    'MOTHER_DELIVERY_WEIGHT', \n",
    "    'MOTHER_WEIGHT_GAIN', \n",
    "    'DIABETES_PRE', \n",
    "    'DIABETES_GEST', \n",
    "    'HYP_TENS_PRE', \n",
    "    'HYP_TENS_GEST', \n",
    "    'PREV_BIRTH_PRETERM']\n",
    "\n",
    "df = df.select(selected_features)\n",
    "df.printSchema()"
   ]
  },
  {
   "cell_type": "code",
   "execution_count": 9,
   "metadata": {},
   "outputs": [
    {
     "data": {
      "text/plain": [
       "45429"
      ]
     },
     "execution_count": 9,
     "metadata": {},
     "output_type": "execute_result"
    }
   ],
   "source": [
    "df.count()"
   ]
  },
  {
   "cell_type": "code",
   "execution_count": 10,
   "metadata": {},
   "outputs": [
    {
     "name": "stdout",
     "output_type": "stream",
     "text": [
      "+----------------------+-----+\n",
      "|INFANT_ALIVE_AT_REPORT|count|\n",
      "+----------------------+-----+\n",
      "|                     Y|23349|\n",
      "|                     N|22080|\n",
      "+----------------------+-----+\n",
      "\n",
      "+-----------+-----+\n",
      "|BIRTH_PLACE|count|\n",
      "+-----------+-----+\n",
      "|          1|44558|\n",
      "|          6|   11|\n",
      "|          3|  224|\n",
      "|          5|   74|\n",
      "|          9|    8|\n",
      "|          4|  327|\n",
      "|          7|   91|\n",
      "|          2|  136|\n",
      "+-----------+-----+\n",
      "\n",
      "+----------------+-----+\n",
      "|MOTHER_AGE_YEARS|count|\n",
      "+----------------+-----+\n",
      "|              31| 2471|\n",
      "|              34| 1925|\n",
      "|              28| 2669|\n",
      "|              27| 2594|\n",
      "|              26| 2617|\n",
      "|              44|  104|\n",
      "|              12|    2|\n",
      "|              22| 2212|\n",
      "|              47|   20|\n",
      "|              13|    8|\n",
      "|              16|  281|\n",
      "|              20| 1712|\n",
      "|              40|  533|\n",
      "|              48|    8|\n",
      "|              19| 1318|\n",
      "|              41|  407|\n",
      "|              43|  204|\n",
      "|              15|  126|\n",
      "|              37| 1120|\n",
      "|              17|  491|\n",
      "+----------------+-----+\n",
      "only showing top 20 rows\n",
      "\n",
      "+-------------------+-----+\n",
      "|FATHER_COMBINED_AGE|count|\n",
      "+-------------------+-----+\n",
      "|                 31| 2178|\n",
      "|                 65|    6|\n",
      "|                 53|   54|\n",
      "|                 34| 1922|\n",
      "|                 28| 1971|\n",
      "|                 27| 1733|\n",
      "|                 26| 1640|\n",
      "|                 44|  358|\n",
      "|                 22| 1069|\n",
      "|                 47|  169|\n",
      "|                 52|   71|\n",
      "|                 13|    1|\n",
      "|                 16|   50|\n",
      "|                 20|  672|\n",
      "|                 40|  831|\n",
      "|                 57|   17|\n",
      "|                 54|   42|\n",
      "|                 48|  149|\n",
      "|                 19|  471|\n",
      "|                 64|    3|\n",
      "+-------------------+-----+\n",
      "only showing top 20 rows\n",
      "\n",
      "+----------+-----+\n",
      "|CIG_BEFORE|count|\n",
      "+----------+-----+\n",
      "|        31|    1|\n",
      "|        28|    1|\n",
      "|        44|    1|\n",
      "|        12|   51|\n",
      "|        22|    3|\n",
      "|         1|  165|\n",
      "|        13|    3|\n",
      "|         6|  171|\n",
      "|        16|    3|\n",
      "|         3|  244|\n",
      "|        20| 1509|\n",
      "|        40|  127|\n",
      "|         5|  504|\n",
      "|        19|    1|\n",
      "|        15|  122|\n",
      "|         9|   12|\n",
      "|        35|    1|\n",
      "|         4|  190|\n",
      "|         8|   88|\n",
      "|        23|    2|\n",
      "+----------+-----+\n",
      "only showing top 20 rows\n",
      "\n",
      "+---------+-----+\n",
      "|CIG_1_TRI|count|\n",
      "+---------+-----+\n",
      "|       12|   31|\n",
      "|        1|  163|\n",
      "|       13|    1|\n",
      "|        6|  131|\n",
      "|        3|  254|\n",
      "|       20|  750|\n",
      "|       40|   40|\n",
      "|        5|  540|\n",
      "|       19|    1|\n",
      "|       15|  111|\n",
      "|       17|    1|\n",
      "|        9|   15|\n",
      "|        4|  176|\n",
      "|        8|   74|\n",
      "|        7|   95|\n",
      "|       10| 1282|\n",
      "|       45|    1|\n",
      "|       80|    3|\n",
      "|       25|    4|\n",
      "|       24|    1|\n",
      "+---------+-----+\n",
      "only showing top 20 rows\n",
      "\n",
      "+---------+-----+\n",
      "|CIG_2_TRI|count|\n",
      "+---------+-----+\n",
      "|       12|   32|\n",
      "|       22|    3|\n",
      "|        1|  150|\n",
      "|       13|    2|\n",
      "|        6|  123|\n",
      "|        3|  241|\n",
      "|       20|  480|\n",
      "|       40|   23|\n",
      "|        5|  496|\n",
      "|       19|    1|\n",
      "|       15|   84|\n",
      "|        9|   13|\n",
      "|        4|  176|\n",
      "|        8|   60|\n",
      "|       23|    2|\n",
      "|        7|   87|\n",
      "|       10| 1120|\n",
      "|       45|    1|\n",
      "|       80|    2|\n",
      "|       25|    3|\n",
      "+---------+-----+\n",
      "only showing top 20 rows\n",
      "\n",
      "+---------+-----+\n",
      "|CIG_3_TRI|count|\n",
      "+---------+-----+\n",
      "|       12|   20|\n",
      "|       22|    1|\n",
      "|        1|  147|\n",
      "|       13|    2|\n",
      "|        6|  112|\n",
      "|        3|  211|\n",
      "|       20|  411|\n",
      "|       40|   17|\n",
      "|        5|  438|\n",
      "|       19|    1|\n",
      "|       15|   47|\n",
      "|        9|    9|\n",
      "|        4|  139|\n",
      "|        8|   40|\n",
      "|        7|   73|\n",
      "|       10|  910|\n",
      "|       80|    2|\n",
      "|       25|    2|\n",
      "|       21|    1|\n",
      "|       98|    9|\n",
      "+---------+-----+\n",
      "only showing top 20 rows\n",
      "\n",
      "+----------------+-----+\n",
      "|MOTHER_HEIGHT_IN|count|\n",
      "+----------------+-----+\n",
      "|              65| 5336|\n",
      "|              53|   20|\n",
      "|              78|   14|\n",
      "|              76|    6|\n",
      "|              52|    4|\n",
      "|              57|  210|\n",
      "|              54|   16|\n",
      "|              48|   10|\n",
      "|              64| 6518|\n",
      "|              61| 3184|\n",
      "|              72|  182|\n",
      "|              59| 1038|\n",
      "|              55|   35|\n",
      "|              49|    8|\n",
      "|              51|    5|\n",
      "|              69| 1426|\n",
      "|              63| 5705|\n",
      "|              77|    9|\n",
      "|              50|    3|\n",
      "|              73|   51|\n",
      "+----------------+-----+\n",
      "only showing top 20 rows\n",
      "\n",
      "+-----------------+-----+\n",
      "|MOTHER_PRE_WEIGHT|count|\n",
      "+-----------------+-----+\n",
      "|              148|  325|\n",
      "|              243|   36|\n",
      "|              137|  281|\n",
      "|               85|   24|\n",
      "|              251|   19|\n",
      "|              255|   80|\n",
      "|              133|  248|\n",
      "|              296|   16|\n",
      "|              322|    1|\n",
      "|              321|    8|\n",
      "|              362|    4|\n",
      "|              375|   25|\n",
      "|              155|  684|\n",
      "|              108|  209|\n",
      "|              193|   92|\n",
      "|              211|   76|\n",
      "|              115|  835|\n",
      "|              126|  242|\n",
      "|              101|   53|\n",
      "|               81|    1|\n",
      "+-----------------+-----+\n",
      "only showing top 20 rows\n",
      "\n",
      "+----------------------+-----+\n",
      "|MOTHER_DELIVERY_WEIGHT|count|\n",
      "+----------------------+-----+\n",
      "|                   148|  435|\n",
      "|                   243|  101|\n",
      "|                   392|    1|\n",
      "|                   137|  230|\n",
      "|                   251|   74|\n",
      "|                   255|  100|\n",
      "|                   133|  166|\n",
      "|                   296|   21|\n",
      "|                   322|   12|\n",
      "|                   321|   11|\n",
      "|                   362|    2|\n",
      "|                   375|    3|\n",
      "|                   155|  556|\n",
      "|                   108|   40|\n",
      "|                   193|  280|\n",
      "|                   211|  200|\n",
      "|                   368|    2|\n",
      "|                   115|  127|\n",
      "|                   126|  147|\n",
      "|                   101|   19|\n",
      "+----------------------+-----+\n",
      "only showing top 20 rows\n",
      "\n",
      "+------------------+-----+\n",
      "|MOTHER_WEIGHT_GAIN|count|\n",
      "+------------------+-----+\n",
      "|                31|  751|\n",
      "|                85|   15|\n",
      "|                65|   78|\n",
      "|                53|  172|\n",
      "|                78|   15|\n",
      "|                34|  720|\n",
      "|                81|    5|\n",
      "|                28|  866|\n",
      "|                76|   20|\n",
      "|                27|  851|\n",
      "|                26|  851|\n",
      "|                44|  391|\n",
      "|                12|  833|\n",
      "|                91|    3|\n",
      "|                22|  912|\n",
      "|                93|    4|\n",
      "|                47|  248|\n",
      "|                 1|  339|\n",
      "|                52|  194|\n",
      "|                13|  750|\n",
      "+------------------+-----+\n",
      "only showing top 20 rows\n",
      "\n",
      "+------------+-----+\n",
      "|DIABETES_PRE|count|\n",
      "+------------+-----+\n",
      "|           Y|  548|\n",
      "|           U|  192|\n",
      "|           N|44689|\n",
      "+------------+-----+\n",
      "\n",
      "+-------------+-----+\n",
      "|DIABETES_GEST|count|\n",
      "+-------------+-----+\n",
      "|            Y| 1978|\n",
      "|            U|  192|\n",
      "|            N|43259|\n",
      "+-------------+-----+\n",
      "\n",
      "+------------+-----+\n",
      "|HYP_TENS_PRE|count|\n",
      "+------------+-----+\n",
      "|           Y| 1081|\n",
      "|           U|  192|\n",
      "|           N|44156|\n",
      "+------------+-----+\n",
      "\n",
      "+-------------+-----+\n",
      "|HYP_TENS_GEST|count|\n",
      "+-------------+-----+\n",
      "|            Y| 2127|\n",
      "|            U|  192|\n",
      "|            N|43110|\n",
      "+-------------+-----+\n",
      "\n",
      "+------------------+-----+\n",
      "|PREV_BIRTH_PRETERM|count|\n",
      "+------------------+-----+\n",
      "|                 Y| 2341|\n",
      "|                 U|  192|\n",
      "|                 N|42896|\n",
      "+------------------+-----+\n",
      "\n"
     ]
    }
   ],
   "source": [
    "for c in selected_features:\n",
    "    df.groupBy(c).count().show()"
   ]
  },
  {
   "cell_type": "code",
   "execution_count": 11,
   "metadata": {},
   "outputs": [],
   "source": [
    "# Correct the features related to the number of smoked cigarettes:\n",
    "from pyspark.sql.functions import when\n",
    "for c in ['CIG_BEFORE', 'CIG_1_TRI', 'CIG_2_TRI', 'CIG_3_TRI']:\n",
    "       df = df.withColumn(c, when(df[c] == 99, 0)\\\n",
    "                             .otherwise(df[c]))"
   ]
  },
  {
   "cell_type": "code",
   "execution_count": 12,
   "metadata": {},
   "outputs": [],
   "source": [
    "# helpful function to detect the Missing Values:\n",
    "def detect_missing(df):\n",
    "    import pyspark.sql.functions as fn\n",
    "    miss_count=df.agg(*[(fn.count('*')-fn.count(c)).alias(c)   for c in df.columns]).toPandas()\n",
    "    miss_percent=df.agg(*[(1-(fn.count(c)/fn.count('*'))).alias(c)   for c in df.columns]).toPandas()\n",
    "    \n",
    "    summary = pd.concat([miss_count, miss_percent], axis=0)\n",
    "    summary['  '] = ['Count of miss values: ', 'Percentage of miss values: ']\n",
    "    summary.set_index('  ', inplace=True)\n",
    "    return summary\n",
    "\n",
    "# helpful function to detect the Duplicate Values:\n",
    "def detect_duplicates(df):\n",
    "    print('Count of rows: ', df.count())\n",
    "    print('Count of distinct rows: ', df.distinct().count())"
   ]
  },
  {
   "cell_type": "code",
   "execution_count": 13,
   "metadata": {},
   "outputs": [
    {
     "data": {
      "text/html": [
       "<div>\n",
       "<style scoped>\n",
       "    .dataframe tbody tr th:only-of-type {\n",
       "        vertical-align: middle;\n",
       "    }\n",
       "\n",
       "    .dataframe tbody tr th {\n",
       "        vertical-align: top;\n",
       "    }\n",
       "\n",
       "    .dataframe thead th {\n",
       "        text-align: right;\n",
       "    }\n",
       "</style>\n",
       "<table border=\"1\" class=\"dataframe\">\n",
       "  <thead>\n",
       "    <tr style=\"text-align: right;\">\n",
       "      <th></th>\n",
       "      <th>INFANT_ALIVE_AT_REPORT</th>\n",
       "      <th>BIRTH_PLACE</th>\n",
       "      <th>MOTHER_AGE_YEARS</th>\n",
       "      <th>FATHER_COMBINED_AGE</th>\n",
       "      <th>CIG_BEFORE</th>\n",
       "      <th>CIG_1_TRI</th>\n",
       "      <th>CIG_2_TRI</th>\n",
       "      <th>CIG_3_TRI</th>\n",
       "      <th>MOTHER_HEIGHT_IN</th>\n",
       "      <th>MOTHER_PRE_WEIGHT</th>\n",
       "      <th>MOTHER_DELIVERY_WEIGHT</th>\n",
       "      <th>MOTHER_WEIGHT_GAIN</th>\n",
       "      <th>DIABETES_PRE</th>\n",
       "      <th>DIABETES_GEST</th>\n",
       "      <th>HYP_TENS_PRE</th>\n",
       "      <th>HYP_TENS_GEST</th>\n",
       "      <th>PREV_BIRTH_PRETERM</th>\n",
       "    </tr>\n",
       "    <tr>\n",
       "      <th></th>\n",
       "      <th></th>\n",
       "      <th></th>\n",
       "      <th></th>\n",
       "      <th></th>\n",
       "      <th></th>\n",
       "      <th></th>\n",
       "      <th></th>\n",
       "      <th></th>\n",
       "      <th></th>\n",
       "      <th></th>\n",
       "      <th></th>\n",
       "      <th></th>\n",
       "      <th></th>\n",
       "      <th></th>\n",
       "      <th></th>\n",
       "      <th></th>\n",
       "      <th></th>\n",
       "    </tr>\n",
       "  </thead>\n",
       "  <tbody>\n",
       "    <tr>\n",
       "      <th>Count of miss values:</th>\n",
       "      <td>0.0</td>\n",
       "      <td>0.0</td>\n",
       "      <td>0.0</td>\n",
       "      <td>0.0</td>\n",
       "      <td>0.0</td>\n",
       "      <td>0.0</td>\n",
       "      <td>0.0</td>\n",
       "      <td>0.0</td>\n",
       "      <td>0.0</td>\n",
       "      <td>0.0</td>\n",
       "      <td>0.0</td>\n",
       "      <td>0.0</td>\n",
       "      <td>0.0</td>\n",
       "      <td>0.0</td>\n",
       "      <td>0.0</td>\n",
       "      <td>0.0</td>\n",
       "      <td>0.0</td>\n",
       "    </tr>\n",
       "    <tr>\n",
       "      <th>Percentage of miss values:</th>\n",
       "      <td>0.0</td>\n",
       "      <td>0.0</td>\n",
       "      <td>0.0</td>\n",
       "      <td>0.0</td>\n",
       "      <td>0.0</td>\n",
       "      <td>0.0</td>\n",
       "      <td>0.0</td>\n",
       "      <td>0.0</td>\n",
       "      <td>0.0</td>\n",
       "      <td>0.0</td>\n",
       "      <td>0.0</td>\n",
       "      <td>0.0</td>\n",
       "      <td>0.0</td>\n",
       "      <td>0.0</td>\n",
       "      <td>0.0</td>\n",
       "      <td>0.0</td>\n",
       "      <td>0.0</td>\n",
       "    </tr>\n",
       "  </tbody>\n",
       "</table>\n",
       "</div>"
      ],
      "text/plain": [
       "                             INFANT_ALIVE_AT_REPORT  BIRTH_PLACE  \\\n",
       "                                                                   \n",
       "Count of miss values:                           0.0          0.0   \n",
       "Percentage of miss values:                      0.0          0.0   \n",
       "\n",
       "                             MOTHER_AGE_YEARS  FATHER_COMBINED_AGE  \\\n",
       "                                                                     \n",
       "Count of miss values:                     0.0                  0.0   \n",
       "Percentage of miss values:                0.0                  0.0   \n",
       "\n",
       "                             CIG_BEFORE  CIG_1_TRI  CIG_2_TRI  CIG_3_TRI  \\\n",
       "                                                                           \n",
       "Count of miss values:               0.0        0.0        0.0        0.0   \n",
       "Percentage of miss values:          0.0        0.0        0.0        0.0   \n",
       "\n",
       "                             MOTHER_HEIGHT_IN  MOTHER_PRE_WEIGHT  \\\n",
       "                                                                   \n",
       "Count of miss values:                     0.0                0.0   \n",
       "Percentage of miss values:                0.0                0.0   \n",
       "\n",
       "                             MOTHER_DELIVERY_WEIGHT  MOTHER_WEIGHT_GAIN  \\\n",
       "                                                                          \n",
       "Count of miss values:                           0.0                 0.0   \n",
       "Percentage of miss values:                      0.0                 0.0   \n",
       "\n",
       "                             DIABETES_PRE  DIABETES_GEST  HYP_TENS_PRE  \\\n",
       "                                                                         \n",
       "Count of miss values:                 0.0            0.0           0.0   \n",
       "Percentage of miss values:            0.0            0.0           0.0   \n",
       "\n",
       "                             HYP_TENS_GEST  PREV_BIRTH_PRETERM  \n",
       "                                                                \n",
       "Count of miss values:                  0.0                 0.0  \n",
       "Percentage of miss values:             0.0                 0.0  "
      ]
     },
     "execution_count": 13,
     "metadata": {},
     "output_type": "execute_result"
    }
   ],
   "source": [
    "# Check for Missing values:\n",
    "detect_missing(df)"
   ]
  },
  {
   "cell_type": "code",
   "execution_count": 14,
   "metadata": {},
   "outputs": [
    {
     "name": "stdout",
     "output_type": "stream",
     "text": [
      "Count of rows:  45429\n",
      "Count of distinct rows:  43826\n"
     ]
    }
   ],
   "source": [
    "# Check for Duplicates: \n",
    "detect_duplicates(df)\n",
    "\n",
    "#df.dropDuplicates() # Drop duplicate values"
   ]
  },
  {
   "cell_type": "code",
   "execution_count": 15,
   "metadata": {},
   "outputs": [
    {
     "name": "stdout",
     "output_type": "stream",
     "text": [
      "+----------------------+-----+\n",
      "|INFANT_ALIVE_AT_REPORT|count|\n",
      "+----------------------+-----+\n",
      "|                     Y|23349|\n",
      "|                     N|22080|\n",
      "+----------------------+-----+\n",
      "\n"
     ]
    }
   ],
   "source": [
    "# Dataset is almost balanced:\n",
    "df.groupBy('INFANT_ALIVE_AT_REPORT').count().show()"
   ]
  },
  {
   "cell_type": "markdown",
   "metadata": {},
   "source": [
    "# Preparing Data for Machine Learning:"
   ]
  },
  {
   "cell_type": "code",
   "execution_count": 16,
   "metadata": {},
   "outputs": [],
   "source": [
    "from pyspark.ml.feature import OneHotEncoder, StringIndexer, VectorAssembler\n",
    "\n",
    "# One-Hot-Encoding of Categorical features:\n",
    "categoricalColumns = ['BIRTH_PLACE', 'DIABETES_PRE', 'DIABETES_GEST', \n",
    "                      'HYP_TENS_PRE', 'HYP_TENS_GEST', 'PREV_BIRTH_PRETERM']   # specify nominal categorical features\n",
    "ordinalColumns = [ ]     # specify ordinal categorical features\n",
    "\n",
    "\n",
    "stages = []\n",
    "\n",
    "for categoricalCol in categoricalColumns:\n",
    "    stringIndexer = StringIndexer(inputCol = categoricalCol, outputCol = categoricalCol + '_Index')\n",
    "    encoder = OneHotEncoder(inputCol=stringIndexer.getOutputCol(), outputCol=categoricalCol + \"_classVec\")\n",
    "    stages += [stringIndexer, encoder]\n",
    "\n",
    "    \n",
    "label_stringIdx = StringIndexer(inputCol = 'INFANT_ALIVE_AT_REPORT', outputCol = 'label')\n",
    "stages += [label_stringIdx]    \n",
    "    \n",
    "# Continuous features: \n",
    "numericCols = ['MOTHER_AGE_YEARS', 'FATHER_COMBINED_AGE', 'CIG_BEFORE', 'CIG_1_TRI',\n",
    "               'CIG_2_TRI', 'CIG_3_TRI', 'MOTHER_HEIGHT_IN', 'MOTHER_PRE_WEIGHT', 'MOTHER_DELIVERY_WEIGHT',\n",
    "               'MOTHER_WEIGHT_GAIN']\n",
    "\n",
    "\n",
    "# Vector assembling:\n",
    "assemblerInputs = [c + \"_classVec\" for c in categoricalColumns]+ numericCols\n",
    "        \n",
    "assembler = VectorAssembler(inputCols=assemblerInputs, outputCol=\"features\")\n",
    "stages += [assembler]"
   ]
  },
  {
   "cell_type": "code",
   "execution_count": 17,
   "metadata": {},
   "outputs": [
    {
     "name": "stdout",
     "output_type": "stream",
     "text": [
      "root\n",
      " |-- label: double (nullable = true)\n",
      " |-- features: vector (nullable = true)\n",
      " |-- INFANT_ALIVE_AT_REPORT: string (nullable = true)\n",
      " |-- BIRTH_PLACE: integer (nullable = true)\n",
      " |-- MOTHER_AGE_YEARS: integer (nullable = true)\n",
      " |-- FATHER_COMBINED_AGE: integer (nullable = true)\n",
      " |-- CIG_BEFORE: integer (nullable = true)\n",
      " |-- CIG_1_TRI: integer (nullable = true)\n",
      " |-- CIG_2_TRI: integer (nullable = true)\n",
      " |-- CIG_3_TRI: integer (nullable = true)\n",
      " |-- MOTHER_HEIGHT_IN: integer (nullable = true)\n",
      " |-- MOTHER_PRE_WEIGHT: integer (nullable = true)\n",
      " |-- MOTHER_DELIVERY_WEIGHT: integer (nullable = true)\n",
      " |-- MOTHER_WEIGHT_GAIN: integer (nullable = true)\n",
      " |-- DIABETES_PRE: string (nullable = true)\n",
      " |-- DIABETES_GEST: string (nullable = true)\n",
      " |-- HYP_TENS_PRE: string (nullable = true)\n",
      " |-- HYP_TENS_GEST: string (nullable = true)\n",
      " |-- PREV_BIRTH_PRETERM: string (nullable = true)\n",
      "\n"
     ]
    }
   ],
   "source": [
    "# Pipeline: ___________________________________\n",
    "from pyspark.ml import Pipeline\n",
    "\n",
    "cols = df.columns\n",
    "pipeline = Pipeline(stages = stages)\n",
    "pipelineModel = pipeline.fit(df)\n",
    "df_piped = pipelineModel.transform(df)\n",
    "\n",
    "selectedCols = ['label', 'features'] + cols\n",
    "df_piped = df_piped.select(selectedCols)\n",
    "df_piped.printSchema()"
   ]
  },
  {
   "cell_type": "code",
   "execution_count": 18,
   "metadata": {},
   "outputs": [
    {
     "name": "stdout",
     "output_type": "stream",
     "text": [
      "Training Dataset Count: 34119\n",
      "Test Dataset Count: 11310\n"
     ]
    }
   ],
   "source": [
    "train, test = df_piped.randomSplit([0.75, 0.25], seed = 42)\n",
    "print(\"Training Dataset Count: \" + str(train.count()))\n",
    "print(\"Test Dataset Count: \" + str(test.count()))"
   ]
  },
  {
   "cell_type": "markdown",
   "metadata": {},
   "source": [
    "# Algorithm 1:   Logistic Regression"
   ]
  },
  {
   "cell_type": "code",
   "execution_count": 19,
   "metadata": {},
   "outputs": [
    {
     "name": "stdout",
     "output_type": "stream",
     "text": [
      "+------------------+-----+\n",
      "|            weight|count|\n",
      "+------------------+-----+\n",
      "|2.0618201595358956|16548|\n",
      "| 1.941779067782141|17571|\n",
      "+------------------+-----+\n",
      "\n"
     ]
    }
   ],
   "source": [
    "# To calculate the Calss Weight for Logestic Regression:\n",
    "new_train=train.join(train.groupBy('label').count(), 'label', how='leftouter')\n",
    "train_weight=new_train.withColumn('weight', train.count()/(new_train['count']))\n",
    "\n",
    "train_weight.groupBy('weight').count().show()"
   ]
  },
  {
   "cell_type": "code",
   "execution_count": 20,
   "metadata": {},
   "outputs": [],
   "source": [
    "from pyspark.ml.classification import LogisticRegression\n",
    "lr = LogisticRegression(featuresCol = 'features', labelCol = 'label', maxIter=10, \n",
    "                         weightCol ='weight')\n",
    "\n",
    "# creating the Evaluator: \n",
    "from  pyspark.ml import evaluation \n",
    "\n",
    "evaluator=evaluation.BinaryClassificationEvaluator(metricName=\"areaUnderROC\")\n",
    "\n",
    "# creating the Grid of Parameters: \n",
    "from pyspark.ml import tuning\n",
    "\n",
    "grid=tuning.ParamGridBuilder()\n",
    "grid=grid.addGrid(lr.regParam, [0, 0.01, 0.1])\n",
    "grid=grid.addGrid(lr.elasticNetParam, [0, 1])\n",
    "grid=grid.build()\n",
    "\n",
    "# making the Validator:\n",
    "cv=tuning.CrossValidator(estimator=lr,\n",
    "                         estimatorParamMaps=grid,\n",
    "                         evaluator=evaluator,\n",
    "                         numFolds=2,\n",
    "                         seed=42)"
   ]
  },
  {
   "cell_type": "code",
   "execution_count": 21,
   "metadata": {},
   "outputs": [
    {
     "name": "stdout",
     "output_type": "stream",
     "text": [
      "Best hyper-parameters:  {'regParam': 0.0, 'elasticNetParam': 1.0}\n",
      "Best cross-validation score:   0.74\n"
     ]
    }
   ],
   "source": [
    "# fit the model:\n",
    "models=cv.fit(train_weight)\n",
    "best_lr=models.bestModel\n",
    "\n",
    "# Best hyper-parameters: \n",
    "java_model = best_lr._java_obj\n",
    "print(\"Best hyper-parameters: \",  {param.name: java_model.getOrDefault(java_model.getParam(param.name)) \n",
    "                                                                                 for param in grid[0]})\n",
    "print(\"Best cross-validation score:  \", round(max(models.avgMetrics), 2)) "
   ]
  },
  {
   "cell_type": "code",
   "execution_count": 22,
   "metadata": {},
   "outputs": [
    {
     "name": "stdout",
     "output_type": "stream",
     "text": [
      "Test roc_auc score:  0.74 \n",
      "\n",
      "Test average precision:  0.72 \n",
      "\n",
      "Test f1 score:  0.69\n"
     ]
    }
   ],
   "source": [
    "from pyspark.ml.evaluation import BinaryClassificationEvaluator, MulticlassClassificationEvaluator\n",
    "print('Test roc_auc score: ', round(best_lr.evaluate(test).areaUnderROC,2), '\\n')\n",
    "\n",
    "print('Test average precision: ', round(evaluator.evaluate(best_lr.transform(test), {evaluator.metricName: 'areaUnderPR'}), 2), '\\n')\n",
    "\n",
    "my_eval= MulticlassClassificationEvaluator(metricName='f1')\n",
    "print('Test f1 score: ', round(my_eval.evaluate(best_lr.transform(test)),2))"
   ]
  },
  {
   "cell_type": "code",
   "execution_count": 23,
   "metadata": {},
   "outputs": [
    {
     "name": "stdout",
     "output_type": "stream",
     "text": [
      "+-----+--------------------+--------------------+----------+\n",
      "|label|       rawPrediction|         probability|prediction|\n",
      "+-----+--------------------+--------------------+----------+\n",
      "|  0.0|[-1.3203529760877...|[0.21075957344950...|       1.0|\n",
      "|  0.0|[-1.4795825576186...|[0.18549047977814...|       1.0|\n",
      "|  0.0|[-0.5435162682837...|[0.36736998843080...|       1.0|\n",
      "|  0.0|[-1.5329733861023...|[0.17755906036817...|       1.0|\n",
      "|  0.0|[1.05268724630763...|[0.74129059025902...|       0.0|\n",
      "+-----+--------------------+--------------------+----------+\n",
      "only showing top 5 rows\n",
      "\n"
     ]
    }
   ],
   "source": [
    "# Prediction on test dataset:\n",
    "test_predictions = best_lr.transform(test)\n",
    "test_predictions.select('label', 'rawPrediction', 'probability', 'prediction').show(5)"
   ]
  },
  {
   "cell_type": "code",
   "execution_count": 24,
   "metadata": {},
   "outputs": [
    {
     "name": "stdout",
     "output_type": "stream",
     "text": [
      "Confusion matrix, without normalization\n",
      "[[4152 1626]\n",
      " [1861 3671]]\n",
      "Normalized confusion matrix\n",
      "[[0.72 0.28]\n",
      " [0.34 0.66]]\n"
     ]
    },
    {
     "data": {
      "image/png": "[encoded data removed]",
      "text/plain": [
       "<Figure size 432x288 with 2 Axes>"
      ]
     },
     "metadata": {},
     "output_type": "display_data"
    }
   ],
   "source": [
    "# Plot a confusion matrix:\n",
    "# cm is the confusion matrix, names are the names of the classes.\n",
    "def plot_confusion_matrix(cm, names, title='Confusion matrix', cmap=plt.cm.Blues):\n",
    "    plt.imshow(cm, interpolation='nearest', cmap=cmap)\n",
    "    plt.title(title)\n",
    "    plt.colorbar()\n",
    "    tick_marks = np.arange(len(names))\n",
    "    plt.xticks(tick_marks, names, rotation=45)\n",
    "    plt.yticks(tick_marks, names)\n",
    "    plt.tight_layout()\n",
    "    plt.ylabel('True label')\n",
    "    plt.xlabel('Predicted label')\n",
    "\n",
    "class_names=[\"0\", \"1\"]\n",
    "    \n",
    "# Compute confusion matrix:\n",
    "from sklearn.metrics import confusion_matrix\n",
    "y_test=test.select('label')\n",
    "y_pred=test_predictions.select('prediction')\n",
    "\n",
    "y_test = y_test.toPandas()\n",
    "y_pred = y_pred.toPandas()\n",
    "\n",
    "cm = confusion_matrix(y_test, y_pred)\n",
    "\n",
    "np.set_printoptions(precision=2)\n",
    "print('Confusion matrix, without normalization')\n",
    "print(cm)\n",
    "\n",
    "# Normalize the confusion matrix by row (i.e by the number of samples in each class)\n",
    "cm_normalized = cm.astype('float') / cm.sum(axis=1)[:, np.newaxis]\n",
    "print('Normalized confusion matrix')\n",
    "print(cm_normalized)\n",
    "plt.figure()\n",
    "plot_confusion_matrix(cm_normalized, class_names, title='Normalized confusion matrix')\n",
    "\n",
    "plt.show()"
   ]
  },
  {
   "cell_type": "code",
   "execution_count": 25,
   "metadata": {},
   "outputs": [
    {
     "data": {
      "image/png": "[encoded data removed]",
      "text/plain": [
       "<Figure size 576x432 with 1 Axes>"
      ]
     },
     "metadata": {},
     "output_type": "display_data"
    }
   ],
   "source": [
    "# ROC curve:______________________________________\n",
    "validation_accuracy=best_lr.evaluate(test)\n",
    "roc=validation_accuracy.roc.toPandas()\n",
    "roc_auc=validation_accuracy.areaUnderROC\n",
    "\n",
    "fig, ax = plt.subplots(figsize=(8,6)) \n",
    "\n",
    "plt.step(roc['FPR'],roc['TPR'], color='darkorange', lw=2, label='Validation ROC curve (auc = %0.2f)' % roc_auc)\n",
    "plt.plot([0, 1], [0, 1], color='navy', alpha=0.4, lw=2, linestyle='--')\n",
    "\n",
    "plt.xlim([0.0, 1])\n",
    "plt.ylim([0.0, 1.02])\n",
    "plt.xlabel('FPR')\n",
    "plt.ylabel('TPR')\n",
    "plt.title('ROC Curve')\n",
    "plt.legend(loc=\"lower right\")\n",
    "\n",
    "recall=validation_accuracy.recallByThreshold.toPandas()\n",
    "recall=recall[np.round(recall['threshold'], 2)==0.5]['recall']\n",
    "roc=validation_accuracy.roc.toPandas().iloc[recall.index[0]+1]\n",
    "plt.plot(roc[0], roc[1], 'or')\n",
    "\n",
    "plt.show()"
   ]
  },
  {
   "cell_type": "markdown",
   "metadata": {},
   "source": [
    "# Algorithm 2: Random Forest"
   ]
  },
  {
   "cell_type": "code",
   "execution_count": 26,
   "metadata": {},
   "outputs": [],
   "source": [
    "from pyspark.ml.classification import RandomForestClassifier\n",
    "rf = RandomForestClassifier(featuresCol = 'features', labelCol = 'label')\n",
    "\n",
    "# creating the Evaluator: \n",
    "from  pyspark.ml import evaluation \n",
    "\n",
    "evaluator=evaluation.BinaryClassificationEvaluator(metricName=\"areaUnderROC\")\n",
    "\n",
    "# creating the Grid of Parameters: \n",
    "from pyspark.ml import tuning\n",
    "\n",
    "grid=tuning.ParamGridBuilder()\n",
    "grid=grid.addGrid(rf.maxDepth, [15, 30])\n",
    "grid=grid.addGrid(rf.numTrees, [50])\n",
    "grid=grid.addGrid(rf.maxBins, [32, 64])\n",
    "\n",
    "grid=grid.build()\n",
    "\n",
    "# making the Validator:\n",
    "cv=tuning.CrossValidator(estimator=rf,\n",
    "                         estimatorParamMaps=grid,\n",
    "                         evaluator=evaluator,\n",
    "                         numFolds=2,\n",
    "                         seed=42)"
   ]
  },
  {
   "cell_type": "code",
   "execution_count": 27,
   "metadata": {},
   "outputs": [
    {
     "name": "stdout",
     "output_type": "stream",
     "text": [
      "Best hyper-parameters:  {'numTrees': 50, 'maxBins': 64, 'maxDepth': 15}\n",
      "Best cross-validation score:   0.78\n"
     ]
    }
   ],
   "source": [
    "# fit the model:\n",
    "models=cv.fit(train)\n",
    "best_rf=models.bestModel\n",
    "\n",
    "# Best hyper-parameters: \n",
    "java_model = best_rf._java_obj\n",
    "print(\"Best hyper-parameters: \",  {param.name: java_model.getOrDefault(java_model.getParam(param.name)) \n",
    "                                                                                 for param in grid[0]})\n",
    "print(\"Best cross-validation score:  \", round(max(models.avgMetrics), 2)) "
   ]
  },
  {
   "cell_type": "code",
   "execution_count": 28,
   "metadata": {},
   "outputs": [
    {
     "name": "stdout",
     "output_type": "stream",
     "text": [
      "Test roc_auc score:  0.79 \n",
      "\n",
      "Test average precision:  0.78 \n",
      "\n",
      "Test f1 score:  0.73\n"
     ]
    }
   ],
   "source": [
    "my_eval= BinaryClassificationEvaluator(metricName='areaUnderROC')\n",
    "print('Test roc_auc score: ', round(my_eval.evaluate(best_rf.transform(test)),2), '\\n')\n",
    "\n",
    "print('Test average precision: ', round(evaluator.evaluate(best_rf.transform(test), {evaluator.metricName: 'areaUnderPR'}), 2), '\\n')\n",
    "\n",
    "my_eval= MulticlassClassificationEvaluator(metricName='f1')\n",
    "print('Test f1 score: ', round(my_eval.evaluate(best_rf.transform(test)),2))"
   ]
  },
  {
   "cell_type": "code",
   "execution_count": 29,
   "metadata": {},
   "outputs": [
    {
     "name": "stdout",
     "output_type": "stream",
     "text": [
      "+-----+--------------------+--------------------+----------+\n",
      "|label|       rawPrediction|         probability|prediction|\n",
      "+-----+--------------------+--------------------+----------+\n",
      "|  0.0|[8.93147968359194...|[0.17862959367183...|       1.0|\n",
      "|  0.0|[13.6859585657017...|[0.27371917131403...|       1.0|\n",
      "|  0.0|[16.0897290518683...|[0.32179458103736...|       1.0|\n",
      "|  0.0|[16.7176677023078...|[0.33435335404615...|       1.0|\n",
      "|  0.0|[35.1884646605082...|[0.70376929321016...|       0.0|\n",
      "+-----+--------------------+--------------------+----------+\n",
      "only showing top 5 rows\n",
      "\n"
     ]
    }
   ],
   "source": [
    "# Prediction on test dataset:\n",
    "test_predictions = best_rf.transform(test)\n",
    "test_predictions.select('label', 'rawPrediction', 'probability', 'prediction').show(5)"
   ]
  },
  {
   "cell_type": "code",
   "execution_count": 30,
   "metadata": {},
   "outputs": [
    {
     "name": "stdout",
     "output_type": "stream",
     "text": [
      "Confusion matrix, without normalization\n",
      "[[4408 1370]\n",
      " [1712 3820]]\n",
      "Normalized confusion matrix\n",
      "[[0.76 0.24]\n",
      " [0.31 0.69]]\n"
     ]
    },
    {
     "data": {
      "image/png": "[encoded data removed]",
      "text/plain": [
       "<Figure size 432x288 with 2 Axes>"
      ]
     },
     "metadata": {},
     "output_type": "display_data"
    }
   ],
   "source": [
    "# Plot a confusion matrix:\n",
    "# cm is the confusion matrix, names are the names of the classes.\n",
    "\n",
    "class_names=[\"0\", \"1\"]\n",
    "    \n",
    "# Compute confusion matrix:\n",
    "from sklearn.metrics import confusion_matrix\n",
    "y_test=test.select('label')\n",
    "y_pred=test_predictions.select('prediction')\n",
    "\n",
    "y_test = y_test.toPandas()\n",
    "y_pred = y_pred.toPandas()\n",
    "\n",
    "cm = confusion_matrix(y_test, y_pred)\n",
    "\n",
    "np.set_printoptions(precision=2)\n",
    "print('Confusion matrix, without normalization')\n",
    "print(cm)\n",
    "\n",
    "\n",
    "# Normalize the confusion matrix by row (i.e by the number of samples in each class)\n",
    "cm_normalized = cm.astype('float') / cm.sum(axis=1)[:, np.newaxis]\n",
    "print('Normalized confusion matrix')\n",
    "print(cm_normalized)\n",
    "plt.figure()\n",
    "plot_confusion_matrix(cm_normalized, class_names, title='Normalized confusion matrix')\n",
    "\n",
    "plt.show()"
   ]
  },
  {
   "cell_type": "code",
   "execution_count": 31,
   "metadata": {},
   "outputs": [
    {
     "data": {
      "image/png": "[encoded data removed]",
      "text/plain": [
       "<Figure size 576x432 with 1 Axes>"
      ]
     },
     "metadata": {},
     "output_type": "display_data"
    }
   ],
   "source": [
    "# ROC curve:______________________________________\n",
    "prediction = best_rf.transform(test)\n",
    "results= prediction.select(['probability', 'label']).collect()\n",
    "results = [(i[0][0], 1.0-i[1]) for i in results]\n",
    "\n",
    "from sklearn.metrics import roc_curve, auc\n",
    " \n",
    "fpr= dict()\n",
    "tpr = dict()\n",
    "roc_auc = dict()\n",
    " \n",
    "y_test = [i[1] for i in results]\n",
    "y_score = [i[0] for i in results]\n",
    " \n",
    "fpr, tpr, threshold = roc_curve(y_test, y_score)\n",
    "roc_auc = auc(fpr, tpr)\n",
    "\n",
    "fig, ax = plt.subplots(figsize=(8,6)) \n",
    "\n",
    "plt.step(fpr, tpr, color='darkorange', lw=2, label='Validation ROC curve (auc = %0.2f)' % roc_auc)\n",
    "plt.plot([0, 1], [0, 1], color='navy', alpha=0.4, lw=2, linestyle='--')\n",
    "\n",
    "plt.xlim([0.0, 1])\n",
    "plt.ylim([0.0, 1.02])\n",
    "plt.xlabel('FPR')\n",
    "plt.ylabel('TPR')\n",
    "plt.title('ROC Curve')\n",
    "plt.legend(loc=\"lower right\")\n",
    "\n",
    "\n",
    "plt.show()"
   ]
  },
  {
   "cell_type": "code",
   "execution_count": 32,
   "metadata": {},
   "outputs": [
    {
     "data": {
      "image/png": "[encoded data removed]",
      "text/plain": [
       "<Figure size 1152x432 with 1 Axes>"
      ]
     },
     "metadata": {},
     "output_type": "display_data"
    }
   ],
   "source": [
    "# Feature Importance: \n",
    "im=best_rf.featureImportances\n",
    "\n",
    "# Plot:\n",
    "c1=pd.DataFrame(im.toArray(),  columns=[\"Importance\"])\n",
    "c2=pd.DataFrame(np.arange(im.toArray().shape[0]), columns=[\"Features\"])\n",
    "\n",
    "fig, ax = plt.subplots(figsize=(16, 6)) \n",
    "sns.barplot(x=\"Features\", y=\"Importance\", data=pd.concat([c2,c1], axis=1), color=\"blue\", ax=ax)\n",
    "plt.xticks(rotation=90)\n",
    "plt.show()"
   ]
  },
  {
   "cell_type": "markdown",
   "metadata": {},
   "source": [
    "# Algorithm 3: Gradient Boosted Trees"
   ]
  },
  {
   "cell_type": "code",
   "execution_count": 33,
   "metadata": {},
   "outputs": [],
   "source": [
    "from pyspark.ml.classification import GBTClassifier\n",
    "gb = GBTClassifier(featuresCol = 'features', labelCol = 'label')\n",
    "\n",
    "# creating the Evaluator: \n",
    "from  pyspark.ml import evaluation \n",
    "\n",
    "evaluator=evaluation.MulticlassClassificationEvaluator(metricName='f1')\n",
    "\n",
    "# creating the Grid of Parameters: \n",
    "from pyspark.ml import tuning\n",
    "\n",
    "grid=tuning.ParamGridBuilder()\n",
    "grid=grid.addGrid(gb.maxDepth, [4, 6])\n",
    "grid=grid.addGrid(gb.maxIter, [64])\n",
    "grid=grid.addGrid(gb.maxBins, [16, 48])\n",
    "\n",
    "grid=grid.build()\n",
    "\n",
    "# making the Validator:\n",
    "cv=tuning.CrossValidator(estimator=gb,\n",
    "                         estimatorParamMaps=grid,\n",
    "                         evaluator=evaluator,\n",
    "                         numFolds=2,\n",
    "                         seed=42)"
   ]
  },
  {
   "cell_type": "code",
   "execution_count": 34,
   "metadata": {},
   "outputs": [
    {
     "name": "stdout",
     "output_type": "stream",
     "text": [
      "Best hyper-parameters:  {'maxBins': 16, 'maxDepth': 4, 'maxIter': 64}\n",
      "Best cross-validation score:   0.72\n"
     ]
    }
   ],
   "source": [
    "# fit the model:\n",
    "models=cv.fit(train)\n",
    "best_gb=models.bestModel\n",
    "\n",
    "# Best hyper-parameters: \n",
    "java_model = best_gb._java_obj\n",
    "print(\"Best hyper-parameters: \",  {param.name: java_model.getOrDefault(java_model.getParam(param.name)) \n",
    "                                                                                 for param in grid[0]})\n",
    "print(\"Best cross-validation score:  \", round(max(models.avgMetrics), 2)) "
   ]
  },
  {
   "cell_type": "code",
   "execution_count": 35,
   "metadata": {},
   "outputs": [
    {
     "name": "stdout",
     "output_type": "stream",
     "text": [
      "Test f1 score:   0.73\n"
     ]
    }
   ],
   "source": [
    "print(\"Test f1 score:  \", round(evaluator.evaluate(best_gb.transform(test)),2))"
   ]
  },
  {
   "cell_type": "code",
   "execution_count": 36,
   "metadata": {},
   "outputs": [
    {
     "name": "stdout",
     "output_type": "stream",
     "text": [
      "+-----+----------+\n",
      "|label|prediction|\n",
      "+-----+----------+\n",
      "|  0.0|       1.0|\n",
      "|  0.0|       1.0|\n",
      "|  0.0|       1.0|\n",
      "|  0.0|       1.0|\n",
      "|  0.0|       0.0|\n",
      "+-----+----------+\n",
      "only showing top 5 rows\n",
      "\n"
     ]
    }
   ],
   "source": [
    "# Prediction on test dataset:\n",
    "test_predictions = best_gb.transform(test)\n",
    "test_predictions.select('label', 'prediction').show(5)"
   ]
  },
  {
   "cell_type": "code",
   "execution_count": 37,
   "metadata": {},
   "outputs": [
    {
     "name": "stdout",
     "output_type": "stream",
     "text": [
      "Confusion matrix, without normalization\n",
      "[[4489 1289]\n",
      " [1793 3739]]\n",
      "Normalized confusion matrix\n",
      "[[0.78 0.22]\n",
      " [0.32 0.68]]\n"
     ]
    },
    {
     "data": {
      "image/png": "[encoded data removed]",
      "text/plain": [
       "<Figure size 432x288 with 2 Axes>"
      ]
     },
     "metadata": {},
     "output_type": "display_data"
    }
   ],
   "source": [
    "# Plot a confusion matrix:\n",
    "# cm is the confusion matrix, names are the names of the classes.\n",
    "\n",
    "class_names=[\"0\", \"1\"]\n",
    "    \n",
    "# Compute confusion matrix:\n",
    "from sklearn.metrics import confusion_matrix\n",
    "y_test=test.select('label')\n",
    "y_pred=test_predictions.select('prediction')\n",
    "\n",
    "y_test = y_test.toPandas()\n",
    "y_pred = y_pred.toPandas()\n",
    "\n",
    "cm = confusion_matrix(y_test, y_pred)\n",
    "\n",
    "np.set_printoptions(precision=2)\n",
    "print('Confusion matrix, without normalization')\n",
    "print(cm)\n",
    "\n",
    "\n",
    "# Normalize the confusion matrix by row (i.e by the number of samples in each class)\n",
    "cm_normalized = cm.astype('float') / cm.sum(axis=1)[:, np.newaxis]\n",
    "print('Normalized confusion matrix')\n",
    "print(cm_normalized)\n",
    "plt.figure()\n",
    "plot_confusion_matrix(cm_normalized, class_names, title='Normalized confusion matrix')\n",
    "\n",
    "plt.show()"
   ]
  },
  {
   "cell_type": "code",
   "execution_count": 38,
   "metadata": {},
   "outputs": [
    {
     "data": {
      "image/png": "[encoded data removed]",
      "text/plain": [
       "<Figure size 1152x432 with 1 Axes>"
      ]
     },
     "metadata": {},
     "output_type": "display_data"
    }
   ],
   "source": [
    "# Feature Importance: \n",
    "im=best_gb.featureImportances\n",
    "\n",
    "# Plot:\n",
    "c1=pd.DataFrame(im.toArray(),  columns=[\"Importance\"])\n",
    "c2=pd.DataFrame(np.arange(im.toArray().shape[0]), columns=[\"Features\"])\n",
    "\n",
    "fig, ax = plt.subplots(figsize=(16, 6)) \n",
    "sns.barplot(x=\"Features\", y=\"Importance\", data=pd.concat([c2,c1], axis=1), color=\"blue\", ax=ax)\n",
    "plt.xticks(rotation=90)\n",
    "\n",
    "plt.show()"
   ]
  },
  {
   "cell_type": "code",
   "execution_count": 39,
   "metadata": {},
   "outputs": [],
   "source": [
    "sc.stop()"
   ]
  },
  {
   "cell_type": "code",
   "execution_count": null,
   "metadata": {},
   "outputs": [],
   "source": []
  }
 ],
 "metadata": {
  "kernelspec": {
   "display_name": "Python 3",
   "language": "python",
   "name": "python3"
  },
  "language_info": {
   "codemirror_mode": {
    "name": "ipython",
    "version": 3
   },
   "file_extension": ".py",
   "mimetype": "text/x-python",
   "name": "python",
   "nbconvert_exporter": "python",
   "pygments_lexer": "ipython3",
   "version": "3.6.5"
  }
 },
 "nbformat": 4,
 "nbformat_minor": 2
}
