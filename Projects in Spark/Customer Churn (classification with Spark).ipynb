{
 "cells": [
  {
   "cell_type": "markdown",
   "metadata": {},
   "source": [
    "# Problem statement: \n",
    "Suppose that a marketing agency has many customers that use their service to produce ads for the client/customer websites. They've noticed that they have quite a bit of churn in clients. They basically randomly assign account managers right now, but want you to create a machine learning model that will help predict which customers will churn (stop buying their service) so that they can correctly assign the customers most at risk to churn an account manager. Luckily they have some historical data, can you help them out. \n",
    "In this project, I create 3 different classification algorithm that will help classify whether or not a customer churned. \n",
    "\n",
    "* The data has 900 rows and 10 variables.\n",
    "* Dataset is imbalanced: 150 customers churn, vs. 750 customers do not churn\n",
    "* This is a binary classification problem. The classification goal is to predict whether or not a customer will churn.\n",
    "\n",
    "# Workflow:\n",
    "- Load the dataset, and define the required functions (e.g. for detecting the missing values, etc.)\n",
    "- Data Cleaning/Wrangling: Manipulate outliers, missing data or duplicated values, etc. \n",
    "- Basic data exploration\n",
    "- Preparing data for Machine Learning:\n",
    "    - One-hot-encoding of categorical features\n",
    "    - Vector Assembling\n",
    "    - Splitting data into training & test parts (I use the training part for training & hyperparameter tuning of models, test part for the final evaluation of models)\n",
    "    \n",
    " # Model Training: \n",
    "- I separately train following models:\n",
    "     - Logistic Regression (LR)\n",
    "     - Random Forest (RF)\n",
    "     - Gradient Boosting Trees (GBTs)\n",
    "     \n",
    " Note: I use Grid-Search technique to find optimal hyper-parameters of each model. Also, I undersample the majority class to even the imbalances. \n",
    "\n",
    "  # Model Evaluation: \n",
    "- I separately evaluate the best LR, RF and GBT models, by calculating/plotting following mertics on Test dataset:\n",
    "     - roc_auc score\n",
    "     - f1 score\n",
    "     - Confusion matrix\n",
    "     - ROC curve  \n",
    "     - Average precision\n",
    " \n",
    " \n",
    "- Calculating the Feature Importance with RF and GBTs models."
   ]
  },
  {
   "cell_type": "code",
   "execution_count": 1,
   "metadata": {
    "scrolled": false
   },
   "outputs": [],
   "source": [
    "import warnings\n",
    "warnings.filterwarnings(\"ignore\")\n",
    "\n",
    "import findspark \n",
    "findspark.init('/home/rhashemee/spark-2.1.0-bin-hadoop2.7')\n",
    "\n",
    "import pyspark\n",
    "\n",
    "import sklearn\n",
    "import numpy as np\n",
    "import pandas as pd\n",
    "import imblearn as im\n",
    "import featuretools as ft\n",
    "import matplotlib.pyplot as plt\n",
    "import seaborn as sns"
   ]
  },
  {
   "cell_type": "code",
   "execution_count": 2,
   "metadata": {},
   "outputs": [],
   "source": [
    "# helpful function to detect the Missing Values:\n",
    "def detect_missing(df):\n",
    "    import pyspark.sql.functions as fn\n",
    "    miss_count=df.agg(*[(fn.count('*')-fn.count(c)).alias(c)   for c in df.columns]).toPandas()\n",
    "    miss_percent=df.agg(*[(1-(fn.count(c)/fn.count('*'))).alias(c)   for c in df.columns]).toPandas()\n",
    "    \n",
    "    summary = pd.concat([miss_count, miss_percent], axis=0)\n",
    "    summary['  '] = ['Count of miss values: ', 'Percentage of miss values: ']\n",
    "    summary.set_index('  ', inplace=True)\n",
    "    return summary\n",
    "\n",
    "# helpful function to detect the Duplicate Values:\n",
    "def detect_duplicates(df):\n",
    "    print('Count of rows: ', df.count())\n",
    "    print('Count of distinct rows: ', df.distinct().count())"
   ]
  },
  {
   "cell_type": "code",
   "execution_count": 3,
   "metadata": {},
   "outputs": [],
   "source": [
    "from pyspark.sql import SparkSession\n",
    "my_spark=SparkSession.builder.appName('customer_churn').getOrCreate()"
   ]
  },
  {
   "cell_type": "code",
   "execution_count": 4,
   "metadata": {},
   "outputs": [],
   "source": [
    "df=my_spark.read.csv('customer_churn.csv', header=True, inferSchema=True)"
   ]
  },
  {
   "cell_type": "code",
   "execution_count": 5,
   "metadata": {},
   "outputs": [
    {
     "name": "stdout",
     "output_type": "stream",
     "text": [
      "root\n",
      " |-- Names: string (nullable = true)\n",
      " |-- Age: double (nullable = true)\n",
      " |-- Total_Purchase: double (nullable = true)\n",
      " |-- Account_Manager: integer (nullable = true)\n",
      " |-- Years: double (nullable = true)\n",
      " |-- Num_Sites: double (nullable = true)\n",
      " |-- Onboard_date: timestamp (nullable = true)\n",
      " |-- Location: string (nullable = true)\n",
      " |-- Company: string (nullable = true)\n",
      " |-- Churn: integer (nullable = true)\n",
      "\n"
     ]
    }
   ],
   "source": [
    "df.printSchema()"
   ]
  },
  {
   "cell_type": "code",
   "execution_count": 6,
   "metadata": {},
   "outputs": [
    {
     "data": {
      "text/html": [
       "<div>\n",
       "<style scoped>\n",
       "    .dataframe tbody tr th:only-of-type {\n",
       "        vertical-align: middle;\n",
       "    }\n",
       "\n",
       "    .dataframe tbody tr th {\n",
       "        vertical-align: top;\n",
       "    }\n",
       "\n",
       "    .dataframe thead th {\n",
       "        text-align: right;\n",
       "    }\n",
       "</style>\n",
       "<table border=\"1\" class=\"dataframe\">\n",
       "  <thead>\n",
       "    <tr style=\"text-align: right;\">\n",
       "      <th></th>\n",
       "      <th>Names</th>\n",
       "      <th>Age</th>\n",
       "      <th>Total_Purchase</th>\n",
       "      <th>Account_Manager</th>\n",
       "      <th>Years</th>\n",
       "      <th>Num_Sites</th>\n",
       "      <th>Onboard_date</th>\n",
       "      <th>Location</th>\n",
       "      <th>Company</th>\n",
       "      <th>Churn</th>\n",
       "    </tr>\n",
       "  </thead>\n",
       "  <tbody>\n",
       "    <tr>\n",
       "      <th>0</th>\n",
       "      <td>Cameron Williams</td>\n",
       "      <td>42.0</td>\n",
       "      <td>11066.80</td>\n",
       "      <td>0</td>\n",
       "      <td>7.22</td>\n",
       "      <td>8.0</td>\n",
       "      <td>2013-08-30 07:00:40</td>\n",
       "      <td>10265 Elizabeth Mission Barkerburgh, AK 89518</td>\n",
       "      <td>Harvey LLC</td>\n",
       "      <td>1</td>\n",
       "    </tr>\n",
       "    <tr>\n",
       "      <th>1</th>\n",
       "      <td>Kevin Mueller</td>\n",
       "      <td>41.0</td>\n",
       "      <td>11916.22</td>\n",
       "      <td>0</td>\n",
       "      <td>6.50</td>\n",
       "      <td>11.0</td>\n",
       "      <td>2013-08-13 00:38:46</td>\n",
       "      <td>6157 Frank Gardens Suite 019 Carloshaven, RI 1...</td>\n",
       "      <td>Wilson PLC</td>\n",
       "      <td>1</td>\n",
       "    </tr>\n",
       "    <tr>\n",
       "      <th>2</th>\n",
       "      <td>Eric Lozano</td>\n",
       "      <td>38.0</td>\n",
       "      <td>12884.75</td>\n",
       "      <td>0</td>\n",
       "      <td>6.67</td>\n",
       "      <td>12.0</td>\n",
       "      <td>2016-06-29 06:20:07</td>\n",
       "      <td>1331 Keith Court Alyssahaven, DE 90114</td>\n",
       "      <td>Miller, Johnson and Wallace</td>\n",
       "      <td>1</td>\n",
       "    </tr>\n",
       "  </tbody>\n",
       "</table>\n",
       "</div>"
      ],
      "text/plain": [
       "              Names   Age  Total_Purchase  Account_Manager  Years  Num_Sites  \\\n",
       "0  Cameron Williams  42.0        11066.80                0   7.22        8.0   \n",
       "1     Kevin Mueller  41.0        11916.22                0   6.50       11.0   \n",
       "2       Eric Lozano  38.0        12884.75                0   6.67       12.0   \n",
       "\n",
       "         Onboard_date                                           Location  \\\n",
       "0 2013-08-30 07:00:40      10265 Elizabeth Mission Barkerburgh, AK 89518   \n",
       "1 2013-08-13 00:38:46  6157 Frank Gardens Suite 019 Carloshaven, RI 1...   \n",
       "2 2016-06-29 06:20:07             1331 Keith Court Alyssahaven, DE 90114   \n",
       "\n",
       "                       Company  Churn  \n",
       "0                   Harvey LLC      1  \n",
       "1                   Wilson PLC      1  \n",
       "2  Miller, Johnson and Wallace      1  "
      ]
     },
     "execution_count": 6,
     "metadata": {},
     "output_type": "execute_result"
    }
   ],
   "source": [
    "pd.DataFrame(df.take(3), columns=df.columns)"
   ]
  },
  {
   "cell_type": "code",
   "execution_count": 7,
   "metadata": {},
   "outputs": [],
   "source": [
    "# df.describe().toPandas()"
   ]
  },
  {
   "cell_type": "code",
   "execution_count": 8,
   "metadata": {},
   "outputs": [
    {
     "name": "stdout",
     "output_type": "stream",
     "text": [
      "+-----+-----+\n",
      "|Churn|count|\n",
      "+-----+-----+\n",
      "|    1|  150|\n",
      "|    0|  750|\n",
      "+-----+-----+\n",
      "\n"
     ]
    }
   ],
   "source": [
    "df.groupBy('Churn').count().show()"
   ]
  },
  {
   "cell_type": "code",
   "execution_count": 9,
   "metadata": {},
   "outputs": [
    {
     "name": "stdout",
     "output_type": "stream",
     "text": [
      "+--------------+-----+\n",
      "|       Company|count|\n",
      "+--------------+-----+\n",
      "|Anderson Group|    4|\n",
      "|    Wilson PLC|    3|\n",
      "|  Williams PLC|    3|\n",
      "|      Soto PLC|    2|\n",
      "|     Ortiz Ltd|    2|\n",
      "+--------------+-----+\n",
      "only showing top 5 rows\n",
      "\n"
     ]
    }
   ],
   "source": [
    "company_count=df.groupBy('Company').count()\n",
    "company_count.orderBy(company_count['count'].desc()).show(5)"
   ]
  },
  {
   "cell_type": "code",
   "execution_count": 10,
   "metadata": {},
   "outputs": [
    {
     "data": {
      "text/html": [
       "<div>\n",
       "<style scoped>\n",
       "    .dataframe tbody tr th:only-of-type {\n",
       "        vertical-align: middle;\n",
       "    }\n",
       "\n",
       "    .dataframe tbody tr th {\n",
       "        vertical-align: top;\n",
       "    }\n",
       "\n",
       "    .dataframe thead th {\n",
       "        text-align: right;\n",
       "    }\n",
       "</style>\n",
       "<table border=\"1\" class=\"dataframe\">\n",
       "  <thead>\n",
       "    <tr style=\"text-align: right;\">\n",
       "      <th></th>\n",
       "      <th>Names</th>\n",
       "      <th>Age</th>\n",
       "      <th>Total_Purchase</th>\n",
       "      <th>Account_Manager</th>\n",
       "      <th>Years</th>\n",
       "      <th>Num_Sites</th>\n",
       "      <th>Onboard_date</th>\n",
       "      <th>Location</th>\n",
       "      <th>Company</th>\n",
       "      <th>Churn</th>\n",
       "    </tr>\n",
       "    <tr>\n",
       "      <th></th>\n",
       "      <th></th>\n",
       "      <th></th>\n",
       "      <th></th>\n",
       "      <th></th>\n",
       "      <th></th>\n",
       "      <th></th>\n",
       "      <th></th>\n",
       "      <th></th>\n",
       "      <th></th>\n",
       "      <th></th>\n",
       "    </tr>\n",
       "  </thead>\n",
       "  <tbody>\n",
       "    <tr>\n",
       "      <th>Count of miss values:</th>\n",
       "      <td>0.0</td>\n",
       "      <td>0.0</td>\n",
       "      <td>0.0</td>\n",
       "      <td>0.0</td>\n",
       "      <td>0.0</td>\n",
       "      <td>0.0</td>\n",
       "      <td>0.0</td>\n",
       "      <td>0.0</td>\n",
       "      <td>0.0</td>\n",
       "      <td>0.0</td>\n",
       "    </tr>\n",
       "    <tr>\n",
       "      <th>Percentage of miss values:</th>\n",
       "      <td>0.0</td>\n",
       "      <td>0.0</td>\n",
       "      <td>0.0</td>\n",
       "      <td>0.0</td>\n",
       "      <td>0.0</td>\n",
       "      <td>0.0</td>\n",
       "      <td>0.0</td>\n",
       "      <td>0.0</td>\n",
       "      <td>0.0</td>\n",
       "      <td>0.0</td>\n",
       "    </tr>\n",
       "  </tbody>\n",
       "</table>\n",
       "</div>"
      ],
      "text/plain": [
       "                             Names  Age  Total_Purchase  Account_Manager  \\\n",
       "                                                                           \n",
       "Count of miss values:          0.0  0.0             0.0              0.0   \n",
       "Percentage of miss values:     0.0  0.0             0.0              0.0   \n",
       "\n",
       "                             Years  Num_Sites  Onboard_date  Location  \\\n",
       "                                                                        \n",
       "Count of miss values:          0.0        0.0           0.0       0.0   \n",
       "Percentage of miss values:     0.0        0.0           0.0       0.0   \n",
       "\n",
       "                             Company  Churn  \n",
       "                                             \n",
       "Count of miss values:            0.0    0.0  \n",
       "Percentage of miss values:       0.0    0.0  "
      ]
     },
     "execution_count": 10,
     "metadata": {},
     "output_type": "execute_result"
    }
   ],
   "source": [
    "# Check for missing Values\n",
    "detect_missing(df)"
   ]
  },
  {
   "cell_type": "code",
   "execution_count": 11,
   "metadata": {},
   "outputs": [
    {
     "name": "stdout",
     "output_type": "stream",
     "text": [
      "Count of rows:  900\n",
      "Count of distinct rows:  900\n"
     ]
    }
   ],
   "source": [
    "# Check for Duplicates: \n",
    "detect_duplicates(df)\n",
    "\n",
    "# df.dropDuplicates() # Drop duplicate values"
   ]
  },
  {
   "cell_type": "code",
   "execution_count": 12,
   "metadata": {},
   "outputs": [],
   "source": [
    "# select label + informative features:\n",
    "df_selected = df.select('Age', 'Total_Purchase', 'Years', 'Num_Sites', 'Churn')"
   ]
  },
  {
   "cell_type": "code",
   "execution_count": 13,
   "metadata": {},
   "outputs": [
    {
     "name": "stdout",
     "output_type": "stream",
     "text": [
      "root\n",
      " |-- Age: double (nullable = true)\n",
      " |-- Total_Purchase: double (nullable = true)\n",
      " |-- Years: double (nullable = true)\n",
      " |-- Num_Sites: double (nullable = true)\n",
      " |-- Churn: integer (nullable = true)\n",
      "\n"
     ]
    }
   ],
   "source": [
    "df_selected.printSchema()"
   ]
  },
  {
   "cell_type": "code",
   "execution_count": 14,
   "metadata": {},
   "outputs": [],
   "source": [
    "# Preparing Data for Machine Learning: ___________________________\n",
    "\n",
    "from pyspark.ml.feature import OneHotEncoder, StringIndexer, VectorAssembler\n",
    "\n",
    "# One-Hot-Encoding of Categorical features:\n",
    "categoricalColumns = [] # ['Company']\n",
    "stages = []\n",
    "\n",
    "for categoricalCol in categoricalColumns:\n",
    "    \n",
    "    stringIndexer = StringIndexer(inputCol = categoricalCol, outputCol = categoricalCol + '_Index')\n",
    "    encoder = OneHotEncoder(inputCol=stringIndexer.getOutputCol(), outputCol=categoricalCol + \"_classVec\")\n",
    "    stages += [stringIndexer, encoder]\n",
    "\n",
    "# Label:    \n",
    "label_stringIdx = StringIndexer(inputCol = 'Churn', outputCol = 'label')\n",
    "\n",
    "stages += [label_stringIdx]\n",
    "\n",
    "# Continuous features: \n",
    "numericCols = ['Age', 'Total_Purchase', 'Years', 'Num_Sites']\n",
    "\n",
    "# Vector assembling:\n",
    "assemblerInputs = [c + \"_classVec\" for c in categoricalColumns] + numericCols\n",
    "assembler = VectorAssembler(inputCols=assemblerInputs, outputCol=\"features\")\n",
    "stages += [assembler]"
   ]
  },
  {
   "cell_type": "code",
   "execution_count": 15,
   "metadata": {},
   "outputs": [
    {
     "name": "stdout",
     "output_type": "stream",
     "text": [
      "root\n",
      " |-- label: double (nullable = true)\n",
      " |-- features: vector (nullable = true)\n",
      " |-- Age: double (nullable = true)\n",
      " |-- Total_Purchase: double (nullable = true)\n",
      " |-- Years: double (nullable = true)\n",
      " |-- Num_Sites: double (nullable = true)\n",
      " |-- Churn: integer (nullable = true)\n",
      "\n"
     ]
    }
   ],
   "source": [
    "# Pipeline: ___________________________________\n",
    "from pyspark.ml import Pipeline\n",
    "\n",
    "cols = df_selected.columns\n",
    "pipeline = Pipeline(stages = stages)\n",
    "pipelineModel = pipeline.fit(df_selected)\n",
    "df_piped = pipelineModel.transform(df_selected)\n",
    "\n",
    "selectedCols = ['label', 'features'] + cols\n",
    "df_piped = df_piped.select(selectedCols)\n",
    "df_piped.printSchema()"
   ]
  },
  {
   "cell_type": "code",
   "execution_count": 16,
   "metadata": {},
   "outputs": [
    {
     "name": "stdout",
     "output_type": "stream",
     "text": [
      "Training Dataset Count: 624\n",
      "Test Dataset Count: 276\n"
     ]
    }
   ],
   "source": [
    "train, test = df_piped.randomSplit([0.7, 0.3], seed = 42)\n",
    "print(\"Training Dataset Count: \" + str(train.count()))\n",
    "print(\"Test Dataset Count: \" + str(test.count()))"
   ]
  },
  {
   "cell_type": "markdown",
   "metadata": {},
   "source": [
    "# 1) Logistic Regression Model: "
   ]
  },
  {
   "cell_type": "code",
   "execution_count": 17,
   "metadata": {},
   "outputs": [
    {
     "name": "stdout",
     "output_type": "stream",
     "text": [
      "+------------------+-----+\n",
      "|            weight|count|\n",
      "+------------------+-----+\n",
      "|1.1795841209829867|  529|\n",
      "| 6.568421052631579|   95|\n",
      "+------------------+-----+\n",
      "\n"
     ]
    }
   ],
   "source": [
    "# To calculate the Calss Weight for Logestic Regression:\n",
    "new_train=train.join(train.groupBy('label').count(), 'label', how='leftouter')\n",
    "train_weight=new_train.withColumn('weight', train.count()/(new_train['count']))\n",
    "\n",
    "train_weight.groupBy('weight').count().show()"
   ]
  },
  {
   "cell_type": "code",
   "execution_count": 18,
   "metadata": {},
   "outputs": [],
   "source": [
    "from pyspark.ml.classification import LogisticRegression\n",
    "lr = LogisticRegression(featuresCol = 'features', labelCol = 'label', maxIter=10, \n",
    "                                                            weightCol ='weight',\n",
    "                                                            standardization=True)\n",
    "\n",
    "# creating the Evaluator: \n",
    "from  pyspark.ml import evaluation \n",
    "\n",
    "evaluator=evaluation.BinaryClassificationEvaluator(metricName=\"areaUnderROC\")\n",
    "\n",
    "# creating the Grid of Parameters: \n",
    "from pyspark.ml import tuning\n",
    "\n",
    "grid=tuning.ParamGridBuilder()\n",
    "grid=grid.addGrid(lr.regParam, [0, 1, 50, 100])\n",
    "grid=grid.addGrid(lr.elasticNetParam, [0, 0.5, 1])\n",
    "grid=grid.build()\n",
    "\n",
    "# making the Validator:\n",
    "cv=tuning.CrossValidator(estimator=lr,\n",
    "                         estimatorParamMaps=grid,\n",
    "                         evaluator=evaluator,\n",
    "                         numFolds=3,\n",
    "                         seed=42)"
   ]
  },
  {
   "cell_type": "code",
   "execution_count": 19,
   "metadata": {},
   "outputs": [
    {
     "name": "stdout",
     "output_type": "stream",
     "text": [
      "Best hyper-parameters:  {'regParam': 50.0, 'elasticNetParam': 0.0}\n"
     ]
    }
   ],
   "source": [
    "# fit the model:\n",
    "models=cv.fit(train_weight)\n",
    "best_lr=models.bestModel\n",
    "\n",
    "# Best hyper-parameters: \n",
    "java_model = best_lr._java_obj\n",
    "print(\"Best hyper-parameters: \",  {param.name: java_model.getOrDefault(java_model.getParam(param.name)) \n",
    "                                                                                 for param in grid[0]})"
   ]
  },
  {
   "cell_type": "code",
   "execution_count": 20,
   "metadata": {},
   "outputs": [
    {
     "name": "stdout",
     "output_type": "stream",
     "text": [
      "+-----+--------------------+--------------------+----------+\n",
      "|label|       rawPrediction|         probability|prediction|\n",
      "+-----+--------------------+--------------------+----------+\n",
      "|  0.0|[0.01057917086854...|[0.50264476805056...|       0.0|\n",
      "|  0.0|[0.01628826171084...|[0.50407197540098...|       0.0|\n",
      "|  0.0|[0.01409355261174...|[0.50352332983373...|       0.0|\n",
      "|  0.0|[0.01270276012261...|[0.50317564732886...|       0.0|\n",
      "|  0.0|[0.01140636972026...|[0.50285156151320...|       0.0|\n",
      "+-----+--------------------+--------------------+----------+\n",
      "only showing top 5 rows\n",
      "\n"
     ]
    }
   ],
   "source": [
    "# Prediction on test dataset:\n",
    "test_predictions = best_lr.transform(test)\n",
    "test_predictions.select('label', 'rawPrediction', 'probability', 'prediction').show(5)"
   ]
  },
  {
   "cell_type": "code",
   "execution_count": 21,
   "metadata": {},
   "outputs": [
    {
     "name": "stdout",
     "output_type": "stream",
     "text": [
      "Training roc_auc score:  0.91\n",
      "Validation roc_auc score:  0.89 \n",
      "\n",
      "Training average precision:  0.71\n",
      "Validation average precision:  0.67 \n",
      "\n",
      "Training f1 score:  0.89\n",
      "Validation f1 score:  0.85\n"
     ]
    }
   ],
   "source": [
    "from pyspark.ml.evaluation import BinaryClassificationEvaluator, MulticlassClassificationEvaluator\n",
    "\n",
    "print('Training roc_auc score: ', round(best_lr.evaluate(train).areaUnderROC, 2))\n",
    "print('Validation roc_auc score: ', round(best_lr.evaluate(test).areaUnderROC,2), '\\n')\n",
    "\n",
    "print('Training average precision: ', round(evaluator.evaluate(best_lr.transform(train), {evaluator.metricName: 'areaUnderPR'}), 2))\n",
    "print('Validation average precision: ', round(evaluator.evaluate(best_lr.transform(test), {evaluator.metricName: 'areaUnderPR'}), 2), '\\n')\n",
    "\n",
    "my_eval= MulticlassClassificationEvaluator(metricName='f1')\n",
    "print('Training f1 score: ', round(my_eval.evaluate(best_lr.transform(train)),2))\n",
    "print('Validation f1 score: ', round(my_eval.evaluate(best_lr.transform(test)),2))"
   ]
  },
  {
   "cell_type": "code",
   "execution_count": 22,
   "metadata": {},
   "outputs": [
    {
     "name": "stdout",
     "output_type": "stream",
     "text": [
      "Confusion matrix, without normalization\n",
      "[[197  24]\n",
      " [ 19  36]]\n",
      "Normalized confusion matrix\n",
      "[[0.89 0.11]\n",
      " [0.35 0.65]]\n"
     ]
    },
    {
     "data": {
      "image/png": "[encoded data removed]",
      "text/plain": [
       "<Figure size 432x288 with 2 Axes>"
      ]
     },
     "metadata": {},
     "output_type": "display_data"
    }
   ],
   "source": [
    "# Plot a confusion matrix:\n",
    "# cm is the confusion matrix, names are the names of the classes.\n",
    "def plot_confusion_matrix(cm, names, title='Confusion matrix', cmap=plt.cm.Blues):\n",
    "    plt.imshow(cm, interpolation='nearest', cmap=cmap)\n",
    "    plt.title(title)\n",
    "    plt.colorbar()\n",
    "    tick_marks = np.arange(len(names))\n",
    "    plt.xticks(tick_marks, names, rotation=45)\n",
    "    plt.yticks(tick_marks, names)\n",
    "    plt.tight_layout()\n",
    "    plt.ylabel('True label')\n",
    "    plt.xlabel('Predicted label')\n",
    "\n",
    "class_names=[\"0\", \"1\"]\n",
    "    \n",
    "# Compute confusion matrix:\n",
    "from sklearn.metrics import confusion_matrix\n",
    "y_test=test.select('label')\n",
    "y_pred=test_predictions.select('prediction')\n",
    "\n",
    "y_test = y_test.toPandas()\n",
    "y_pred = y_pred.toPandas()\n",
    "\n",
    "cm = confusion_matrix(y_test, y_pred)\n",
    "\n",
    "np.set_printoptions(precision=2)\n",
    "print('Confusion matrix, without normalization')\n",
    "print(cm)\n",
    "\n",
    "# Normalize the confusion matrix by row (i.e by the number of samples in each class)\n",
    "cm_normalized = cm.astype('float') / cm.sum(axis=1)[:, np.newaxis]\n",
    "print('Normalized confusion matrix')\n",
    "print(cm_normalized)\n",
    "plt.figure()\n",
    "plot_confusion_matrix(cm_normalized, class_names, title='Normalized confusion matrix')\n",
    "\n",
    "plt.show()"
   ]
  },
  {
   "cell_type": "code",
   "execution_count": 23,
   "metadata": {},
   "outputs": [
    {
     "data": {
      "image/png": "[encoded data removed]",
      "text/plain": [
       "<Figure size 576x432 with 1 Axes>"
      ]
     },
     "metadata": {},
     "output_type": "display_data"
    }
   ],
   "source": [
    "# ROC curve:______________________________________\n",
    "validation_accuracy=best_lr.evaluate(test)\n",
    "roc=validation_accuracy.roc.toPandas()\n",
    "roc_auc=validation_accuracy.areaUnderROC\n",
    "\n",
    "fig, ax = plt.subplots(figsize=(8,6)) \n",
    "\n",
    "plt.step(roc['FPR'],roc['TPR'], color='darkorange', lw=2, label='Validation ROC curve (auc = %0.2f)' % roc_auc)\n",
    "plt.plot([0, 1], [0, 1], color='navy', alpha=0.4, lw=2, linestyle='--')\n",
    "\n",
    "plt.xlim([-0.01, 1])\n",
    "plt.ylim([0.0, 1.02])\n",
    "plt.xlabel('FPR')\n",
    "plt.ylabel('TPR')\n",
    "plt.title('ROC Curve')\n",
    "plt.legend(loc=\"lower right\")\n",
    "\n",
    "recall=validation_accuracy.recallByThreshold.toPandas()\n",
    "recall=recall[np.round(recall['threshold'], 4)==0.5]['recall']\n",
    "roc=validation_accuracy.roc.toPandas().iloc[recall.index[0]+1]\n",
    "plt.plot(roc[0], roc[1], 'or')\n",
    "\n",
    "plt.show()"
   ]
  },
  {
   "cell_type": "code",
   "execution_count": 24,
   "metadata": {},
   "outputs": [
    {
     "data": {
      "image/png": "[encoded data removed]",
      "text/plain": [
       "<Figure size 576x432 with 1 Axes>"
      ]
     },
     "metadata": {},
     "output_type": "display_data"
    }
   ],
   "source": [
    "# Precision-Recall curve: ____________________________________________\n",
    "validation_accuracy=best_lr.evaluate(test)\n",
    "pr_test=validation_accuracy.pr.toPandas()\n",
    "\n",
    "from pyspark.ml.evaluation import BinaryClassificationEvaluator\n",
    "my_eval=BinaryClassificationEvaluator(metricName='areaUnderPR')\n",
    "apr_test=my_eval.evaluate(best_lr.transform(test))\n",
    "\n",
    "fig, ax = plt.subplots(figsize=(8,6)) \n",
    "\n",
    "plt.step(pr_test['recall'],pr_test['precision'], color='darkblue', lw=2, label='Validation (Ave. Precision = %0.2f)' % apr_test)\n",
    "\n",
    "plt.xlim([0, 1.01])\n",
    "plt.ylabel('Precision')\n",
    "plt.xlabel('Recall')\n",
    "plt.title('Precision-Recall Curve')\n",
    "plt.legend(loc=\"lower left\")\n",
    "\n",
    "p_test=validation_accuracy.precisionByThreshold.toPandas()\n",
    "r_test=validation_accuracy.recallByThreshold.toPandas()\n",
    "p_test=p_test[np.round(p_test['threshold'], 5)==0.5]['precision']\n",
    "r_test=r_test[np.round(r_test['threshold'], 5)==0.5]['recall']\n",
    "plt.plot(r_test, p_test, 'ob')\n",
    "\n",
    "plt.show()"
   ]
  },
  {
   "cell_type": "markdown",
   "metadata": {},
   "source": [
    "# 2) Random Forest Model: "
   ]
  },
  {
   "cell_type": "code",
   "execution_count": 25,
   "metadata": {},
   "outputs": [],
   "source": [
    "from pyspark.ml.classification import RandomForestClassifier\n",
    "rf = RandomForestClassifier(featuresCol = 'features', labelCol = 'label')\n",
    "\n",
    "# creating the Evaluator: \n",
    "from  pyspark.ml import evaluation \n",
    "\n",
    "evaluator=evaluation.BinaryClassificationEvaluator(metricName=\"areaUnderROC\")\n",
    "#evaluator=evaluation.MulticlassClassificationEvaluator(metricName=\"accuracy\")\n",
    "\n",
    "# creating the Grid of Parameters: \n",
    "from pyspark.ml import tuning\n",
    "\n",
    "grid=tuning.ParamGridBuilder()\n",
    "grid=grid.addGrid(rf.maxDepth, [3, 5, 10])\n",
    "grid=grid.addGrid(rf.numTrees, [70])\n",
    "grid=grid.addGrid(rf.maxBins, [4, 8, 16, 32])\n",
    "\n",
    "grid=grid.build()\n",
    "\n",
    "# making the Validator:\n",
    "cv=tuning.CrossValidator(estimator=rf,\n",
    "                         estimatorParamMaps=grid,\n",
    "                         evaluator=evaluator,\n",
    "                         numFolds=3,\n",
    "                         seed=42)"
   ]
  },
  {
   "cell_type": "code",
   "execution_count": 26,
   "metadata": {},
   "outputs": [
    {
     "name": "stdout",
     "output_type": "stream",
     "text": [
      "Best hyper-parameters:  {'numTrees': 70, 'maxBins': 32, 'maxDepth': 3}\n"
     ]
    }
   ],
   "source": [
    "# fit the model:\n",
    "models=cv.fit(train)\n",
    "best_rf=models.bestModel\n",
    "\n",
    "# Best hyper-parameters: \n",
    "java_model = best_rf._java_obj\n",
    "print(\"Best hyper-parameters: \",  {param.name: java_model.getOrDefault(java_model.getParam(param.name)) \n",
    "                                                                                 for param in grid[0]})"
   ]
  },
  {
   "cell_type": "code",
   "execution_count": 27,
   "metadata": {},
   "outputs": [
    {
     "name": "stdout",
     "output_type": "stream",
     "text": [
      "+-----+--------------------+--------------------+----------+\n",
      "|label|       rawPrediction|         probability|prediction|\n",
      "+-----+--------------------+--------------------+----------+\n",
      "|  0.0|[65.6977869940298...|[0.93853981420042...|       0.0|\n",
      "|  0.0|[68.3421428564501...|[0.97631632652071...|       0.0|\n",
      "|  0.0|[66.0659372144968...|[0.94379910306424...|       0.0|\n",
      "|  0.0|[68.4731253735471...|[0.97818750533638...|       0.0|\n",
      "|  0.0|[68.3660082406264...|[0.97665726058037...|       0.0|\n",
      "+-----+--------------------+--------------------+----------+\n",
      "only showing top 5 rows\n",
      "\n"
     ]
    }
   ],
   "source": [
    "# Prediction on test dataset:\n",
    "test_predictions = best_rf.transform(test)\n",
    "test_predictions.select('label', 'rawPrediction', 'probability', 'prediction').show(5)"
   ]
  },
  {
   "cell_type": "code",
   "execution_count": 28,
   "metadata": {},
   "outputs": [
    {
     "name": "stdout",
     "output_type": "stream",
     "text": [
      "Training roc_auc score:  0.92\n",
      "Validation roc_auc score:  0.88 \n",
      "\n",
      "Training average precision:  0.77\n",
      "Validation average precision:  0.68 \n",
      "\n",
      "Training f1 score:  0.91\n",
      "Validation f1 score:  0.85\n"
     ]
    }
   ],
   "source": [
    "my_eval= BinaryClassificationEvaluator(metricName='areaUnderROC')\n",
    "print('Training roc_auc score: ', round(my_eval.evaluate(best_rf.transform(train)),2))\n",
    "print('Validation roc_auc score: ', round(my_eval.evaluate(best_rf.transform(test)),2), '\\n')\n",
    "\n",
    "print('Training average precision: ', round(evaluator.evaluate(best_rf.transform(train), {evaluator.metricName: 'areaUnderPR'}), 2))\n",
    "print('Validation average precision: ', round(evaluator.evaluate(best_rf.transform(test), {evaluator.metricName: 'areaUnderPR'}), 2), '\\n')\n",
    "\n",
    "my_eval= MulticlassClassificationEvaluator(metricName='f1')\n",
    "print('Training f1 score: ', round(my_eval.evaluate(best_rf.transform(train)),2))\n",
    "print('Validation f1 score: ', round(my_eval.evaluate(best_rf.transform(test)),2))"
   ]
  },
  {
   "cell_type": "code",
   "execution_count": 29,
   "metadata": {},
   "outputs": [
    {
     "name": "stdout",
     "output_type": "stream",
     "text": [
      "+-----+--------------------+--------------------+----------+\n",
      "|label|       rawPrediction|         probability|prediction|\n",
      "+-----+--------------------+--------------------+----------+\n",
      "|  0.0|[65.6977869940298...|[0.93853981420042...|       0.0|\n",
      "|  0.0|[68.3421428564501...|[0.97631632652071...|       0.0|\n",
      "|  0.0|[66.0659372144968...|[0.94379910306424...|       0.0|\n",
      "|  0.0|[68.4731253735471...|[0.97818750533638...|       0.0|\n",
      "|  0.0|[68.3660082406264...|[0.97665726058037...|       0.0|\n",
      "+-----+--------------------+--------------------+----------+\n",
      "only showing top 5 rows\n",
      "\n"
     ]
    }
   ],
   "source": [
    "# Prediction on test dataset:\n",
    "test_predictions = best_rf.transform(test)\n",
    "test_predictions.select('label', 'rawPrediction', 'probability', 'prediction').show(5)"
   ]
  },
  {
   "cell_type": "code",
   "execution_count": 30,
   "metadata": {},
   "outputs": [
    {
     "name": "stdout",
     "output_type": "stream",
     "text": [
      "Confusion matrix, without normalization\n",
      "[[212   9]\n",
      " [ 28  27]]\n",
      "Normalized confusion matrix\n",
      "[[0.96 0.04]\n",
      " [0.51 0.49]]\n"
     ]
    },
    {
     "data": {
      "image/png": "[encoded data removed]",
      "text/plain": [
       "<Figure size 432x288 with 2 Axes>"
      ]
     },
     "metadata": {},
     "output_type": "display_data"
    }
   ],
   "source": [
    "# Plot a confusion matrix:\n",
    "# cm is the confusion matrix, names are the names of the classes.\n",
    "class_names=[\"0\", \"1\"]\n",
    "    \n",
    "# Compute confusion matrix:\n",
    "from sklearn.metrics import confusion_matrix\n",
    "y_test=test.select('label')\n",
    "y_pred=test_predictions.select('prediction')\n",
    "\n",
    "y_test = y_test.toPandas()\n",
    "y_pred = y_pred.toPandas()\n",
    "\n",
    "cm = confusion_matrix(y_test, y_pred)\n",
    "\n",
    "np.set_printoptions(precision=2)\n",
    "print('Confusion matrix, without normalization')\n",
    "print(cm)\n",
    "\n",
    "\n",
    "# Normalize the confusion matrix by row (i.e by the number of samples in each class)\n",
    "cm_normalized = cm.astype('float') / cm.sum(axis=1)[:, np.newaxis]\n",
    "print('Normalized confusion matrix')\n",
    "print(cm_normalized)\n",
    "plt.figure()\n",
    "plot_confusion_matrix(cm_normalized, class_names, title='Normalized confusion matrix')\n",
    "\n",
    "plt.show()"
   ]
  },
  {
   "cell_type": "markdown",
   "metadata": {},
   "source": [
    "# Undersampling the majority class to balance the dataset for RF model:\n",
    "    - Note: RF model doesn't get the \"weightCol\" parameter for the imbalanced dataset.\n",
    "            So, we need to Undersample the majority class to improve Recall & Precision for minority class."
   ]
  },
  {
   "cell_type": "code",
   "execution_count": 31,
   "metadata": {},
   "outputs": [
    {
     "name": "stdout",
     "output_type": "stream",
     "text": [
      "+-----+-----+\n",
      "|Churn|count|\n",
      "+-----+-----+\n",
      "|    1|   95|\n",
      "|    0|   91|\n",
      "+-----+-----+\n",
      "\n"
     ]
    }
   ],
   "source": [
    "# Class 1 is majority here\n",
    "ratio = train.filter(train['Churn']==1).count() / train.filter(train['Churn']==0).count()\n",
    "\n",
    "undersampled_train = train.sampleBy('Churn', fractions={0: ratio, 1: 1.0}, seed=42)\n",
    "\n",
    "undersampled_train.groupby('Churn').count().show()"
   ]
  },
  {
   "cell_type": "code",
   "execution_count": 32,
   "metadata": {},
   "outputs": [
    {
     "name": "stdout",
     "output_type": "stream",
     "text": [
      "Best hyper-parameters:  {'numTrees': 70, 'maxBins': 4, 'maxDepth': 3}\n"
     ]
    }
   ],
   "source": [
    "# fit the model on train dataset with Undersampled majority class:\n",
    "models=cv.fit(undersampled_train)\n",
    "best_rf=models.bestModel\n",
    "\n",
    "# Best hyper-parameters: \n",
    "java_model = best_rf._java_obj\n",
    "print(\"Best hyper-parameters: \",  {param.name: java_model.getOrDefault(java_model.getParam(param.name)) \n",
    "                                                                                 for param in grid[0]})"
   ]
  },
  {
   "cell_type": "code",
   "execution_count": 33,
   "metadata": {},
   "outputs": [
    {
     "name": "stdout",
     "output_type": "stream",
     "text": [
      "Training roc_auc score:  0.91\n",
      "Validation roc_auc score:  0.88 \n",
      "\n",
      "Training average precision:  0.69\n",
      "Validation average precision:  0.62 \n",
      "\n",
      "Training f1 score:  0.88\n",
      "Validation f1 score:  0.84\n"
     ]
    }
   ],
   "source": [
    "my_eval= BinaryClassificationEvaluator(metricName='areaUnderROC')\n",
    "print('Training roc_auc score: ', round(my_eval.evaluate(best_rf.transform(train)),2))\n",
    "print('Validation roc_auc score: ', round(my_eval.evaluate(best_rf.transform(test)),2), '\\n')\n",
    "\n",
    "print('Training average precision: ', round(evaluator.evaluate(best_rf.transform(train), {evaluator.metricName: 'areaUnderPR'}), 2))\n",
    "print('Validation average precision: ', round(evaluator.evaluate(best_rf.transform(test), {evaluator.metricName: 'areaUnderPR'}), 2), '\\n')\n",
    "\n",
    "my_eval= MulticlassClassificationEvaluator(metricName='f1')\n",
    "print('Training f1 score: ', round(my_eval.evaluate(best_rf.transform(train)),2))\n",
    "print('Validation f1 score: ', round(my_eval.evaluate(best_rf.transform(test)),2))"
   ]
  },
  {
   "cell_type": "code",
   "execution_count": 34,
   "metadata": {},
   "outputs": [
    {
     "name": "stdout",
     "output_type": "stream",
     "text": [
      "+-----+--------------------+--------------------+----------+\n",
      "|label|       rawPrediction|         probability|prediction|\n",
      "+-----+--------------------+--------------------+----------+\n",
      "|  0.0|[55.8456975322322...|[0.79779567903188...|       0.0|\n",
      "|  0.0|[64.2515282978933...|[0.91787897568419...|       0.0|\n",
      "|  0.0|[57.9265496832266...|[0.82752213833180...|       0.0|\n",
      "|  0.0|[63.8034903266925...|[0.91147843323846...|       0.0|\n",
      "|  0.0|[58.2367553777862...|[0.83195364825408...|       0.0|\n",
      "+-----+--------------------+--------------------+----------+\n",
      "only showing top 5 rows\n",
      "\n"
     ]
    }
   ],
   "source": [
    "# Prediction on test dataset:\n",
    "test_predictions = best_rf.transform(test)\n",
    "test_predictions.select('label', 'rawPrediction', 'probability', 'prediction').show(5)"
   ]
  },
  {
   "cell_type": "code",
   "execution_count": 35,
   "metadata": {},
   "outputs": [
    {
     "name": "stdout",
     "output_type": "stream",
     "text": [
      "Confusion matrix, without normalization\n",
      "[[189  32]\n",
      " [ 14  41]]\n",
      "Normalized confusion matrix\n",
      "[[0.86 0.14]\n",
      " [0.25 0.75]]\n"
     ]
    },
    {
     "data": {
      "image/png": "[encoded data removed]",
      "text/plain": [
       "<Figure size 432x288 with 2 Axes>"
      ]
     },
     "metadata": {},
     "output_type": "display_data"
    }
   ],
   "source": [
    "# Plot a confusion matrix:   \n",
    "y_test=test.select('label')\n",
    "y_pred=test_predictions.select('prediction')\n",
    "\n",
    "y_test = y_test.toPandas()\n",
    "y_pred = y_pred.toPandas()\n",
    "\n",
    "cm = confusion_matrix(y_test, y_pred)\n",
    "\n",
    "np.set_printoptions(precision=2)\n",
    "print('Confusion matrix, without normalization')\n",
    "print(cm)\n",
    "\n",
    "\n",
    "# Normalize the confusion matrix by row (i.e by the number of samples in each class)\n",
    "cm_normalized = cm.astype('float') / cm.sum(axis=1)[:, np.newaxis]\n",
    "print('Normalized confusion matrix')\n",
    "print(cm_normalized)\n",
    "plt.figure()\n",
    "plot_confusion_matrix(cm_normalized, class_names, title='Normalized confusion matrix')\n",
    "\n",
    "plt.show()"
   ]
  },
  {
   "cell_type": "code",
   "execution_count": 36,
   "metadata": {},
   "outputs": [
    {
     "data": {
      "image/png": "[encoded data removed]",
      "text/plain": [
       "<Figure size 576x432 with 1 Axes>"
      ]
     },
     "metadata": {},
     "output_type": "display_data"
    }
   ],
   "source": [
    "# ROC curve:______________________________________\n",
    "prediction = best_rf.transform(test)\n",
    "results= prediction.select(['probability', 'label']).collect()\n",
    "results = [(i[0][0], 1.0-i[1]) for i in results]\n",
    "\n",
    "from sklearn.metrics import roc_curve, auc\n",
    " \n",
    "fpr= dict()\n",
    "tpr = dict()\n",
    "roc_auc = dict()\n",
    " \n",
    "y_test = [i[1] for i in results]\n",
    "y_score = [i[0] for i in results]\n",
    " \n",
    "fpr, tpr, threshold = roc_curve(y_test, y_score)\n",
    "roc_auc = auc(fpr, tpr)\n",
    "\n",
    "fig, ax = plt.subplots(figsize=(8,6)) \n",
    "\n",
    "plt.step(fpr, tpr, color='darkorange', lw=2, label='Validation ROC curve (auc = %0.2f)' % roc_auc)\n",
    "plt.plot([0, 1], [0, 1], color='navy', alpha=0.4, lw=2, linestyle='--')\n",
    "\n",
    "plt.xlim([-.01, 1])\n",
    "plt.ylim([0.0, 1.02])\n",
    "plt.xlabel('FPR')\n",
    "plt.ylabel('TPR')\n",
    "plt.title('ROC Curve')\n",
    "plt.legend(loc=\"lower right\")\n",
    "\n",
    "\n",
    "plt.show()"
   ]
  },
  {
   "cell_type": "code",
   "execution_count": 37,
   "metadata": {},
   "outputs": [
    {
     "data": {
      "image/png": "[encoded data removed]",
      "text/plain": [
       "<Figure size 1152x432 with 1 Axes>"
      ]
     },
     "metadata": {},
     "output_type": "display_data"
    }
   ],
   "source": [
    "# Feature Importance: \n",
    "im=best_rf.featureImportances\n",
    "\n",
    "# Plot:\n",
    "c1=pd.DataFrame(im.toArray(),  columns=[\"Importance\"])\n",
    "c2=pd.DataFrame(np.arange(im.toArray().shape[0]), columns=[\"Features\"])\n",
    "\n",
    "fig, ax = plt.subplots(figsize=(16, 6)) \n",
    "sns.barplot(x=\"Features\", y=\"Importance\", data=pd.concat([c2,c1], axis=1), color=\"blue\", ax=ax)\n",
    "\n",
    "plt.show()"
   ]
  },
  {
   "cell_type": "markdown",
   "metadata": {},
   "source": [
    "# 3) Gradient-Boosted Trees:"
   ]
  },
  {
   "cell_type": "code",
   "execution_count": 38,
   "metadata": {},
   "outputs": [],
   "source": [
    "from pyspark.ml.classification import GBTClassifier\n",
    "gb = GBTClassifier(featuresCol = 'features', labelCol = 'label')\n",
    "\n",
    "# creating the Evaluator: \n",
    "from  pyspark.ml import evaluation \n",
    "\n",
    "evaluator=evaluation.MulticlassClassificationEvaluator(metricName='f1')\n",
    "\n",
    "# creating the Grid of Parameters: \n",
    "from pyspark.ml import tuning\n",
    "\n",
    "grid=tuning.ParamGridBuilder()\n",
    "grid=grid.addGrid(gb.maxDepth, [2, 4, 6])\n",
    "grid=grid.addGrid(gb.maxIter, [10, 20])\n",
    "grid=grid.addGrid(gb.maxBins, [8, 16, 24, 32])\n",
    "\n",
    "grid=grid.build()\n",
    "\n",
    "# making the Validator:\n",
    "cv=tuning.CrossValidator(estimator=gb,\n",
    "                         estimatorParamMaps=grid,\n",
    "                         evaluator=evaluator,\n",
    "                         numFolds=3,\n",
    "                         seed=42)"
   ]
  },
  {
   "cell_type": "code",
   "execution_count": 39,
   "metadata": {},
   "outputs": [
    {
     "name": "stdout",
     "output_type": "stream",
     "text": [
      "Best hyper-parameters:  {'maxBins': 32, 'maxDepth': 2, 'maxIter': 10}\n"
     ]
    }
   ],
   "source": [
    "# fit the model:\n",
    "models=cv.fit(train)\n",
    "best_gb=models.bestModel\n",
    "\n",
    "# Best hyper-parameters: \n",
    "java_model = best_gb._java_obj\n",
    "print(\"Best hyper-parameters: \",  {param.name: java_model.getOrDefault(java_model.getParam(param.name)) \n",
    "                                                                                 for param in grid[0]})"
   ]
  },
  {
   "cell_type": "code",
   "execution_count": 40,
   "metadata": {},
   "outputs": [
    {
     "name": "stdout",
     "output_type": "stream",
     "text": [
      "Training f1 score:   0.9\n",
      "Validation f1 score:   0.85\n"
     ]
    }
   ],
   "source": [
    "print(\"Training f1 score:  \", round(evaluator.evaluate(best_gb.transform(train)),2))\n",
    "print(\"Validation f1 score:  \", round(evaluator.evaluate(best_gb.transform(test)),2))"
   ]
  },
  {
   "cell_type": "code",
   "execution_count": 41,
   "metadata": {},
   "outputs": [
    {
     "name": "stdout",
     "output_type": "stream",
     "text": [
      "+-----+----------+\n",
      "|label|prediction|\n",
      "+-----+----------+\n",
      "|  0.0|       0.0|\n",
      "|  0.0|       0.0|\n",
      "|  0.0|       0.0|\n",
      "|  0.0|       0.0|\n",
      "|  0.0|       0.0|\n",
      "+-----+----------+\n",
      "only showing top 5 rows\n",
      "\n"
     ]
    }
   ],
   "source": [
    "# Prediction on test dataset:\n",
    "test_predictions = best_gb.transform(test)\n",
    "test_predictions.select('label', 'prediction').show(5)"
   ]
  },
  {
   "cell_type": "code",
   "execution_count": 42,
   "metadata": {},
   "outputs": [
    {
     "name": "stdout",
     "output_type": "stream",
     "text": [
      "Confusion matrix, without normalization\n",
      "[[213   8]\n",
      " [ 29  26]]\n",
      "Normalized confusion matrix\n",
      "[[0.96 0.04]\n",
      " [0.53 0.47]]\n"
     ]
    },
    {
     "data": {
      "image/png": "[encoded data removed]",
      "text/plain": [
       "<Figure size 432x288 with 2 Axes>"
      ]
     },
     "metadata": {},
     "output_type": "display_data"
    }
   ],
   "source": [
    "# Plot a confusion matrix:\n",
    "# cm is the confusion matrix, names are the names of the classes.\n",
    "class_names=[\"0\", \"1\"]\n",
    "    \n",
    "# Compute confusion matrix:\n",
    "from sklearn.metrics import confusion_matrix\n",
    "y_test=test.select('label')\n",
    "y_pred=test_predictions.select('prediction')\n",
    "\n",
    "y_test = y_test.toPandas()\n",
    "y_pred = y_pred.toPandas()\n",
    "\n",
    "cm = confusion_matrix(y_test, y_pred)\n",
    "\n",
    "np.set_printoptions(precision=2)\n",
    "print('Confusion matrix, without normalization')\n",
    "print(cm)\n",
    "\n",
    "\n",
    "# Normalize the confusion matrix by row (i.e by the number of samples in each class)\n",
    "cm_normalized = cm.astype('float') / cm.sum(axis=1)[:, np.newaxis]\n",
    "print('Normalized confusion matrix')\n",
    "print(cm_normalized)\n",
    "plt.figure()\n",
    "plot_confusion_matrix(cm_normalized, class_names, title='Normalized confusion matrix')\n",
    "\n",
    "plt.show()"
   ]
  },
  {
   "cell_type": "markdown",
   "metadata": {},
   "source": [
    "# Undersampling the majority class to balance the dataset for GBT model:\n",
    "    - Note: Gradient-Boosted Trees model doesn't get the \"weightCol\" parameter for the imbalanced dataset.\n",
    "            So, we need to Undersample the majority class to improve Recall & Precision for minority class."
   ]
  },
  {
   "cell_type": "code",
   "execution_count": 43,
   "metadata": {},
   "outputs": [
    {
     "name": "stdout",
     "output_type": "stream",
     "text": [
      "Best hyper-parameters:  {'maxBins': 8, 'maxDepth': 2, 'maxIter': 10}\n"
     ]
    }
   ],
   "source": [
    "# fit the model on train dataset with Undersampled majority class:\n",
    "models=cv.fit(undersampled_train)\n",
    "best_gb=models.bestModel\n",
    "\n",
    "# Best hyper-parameters: \n",
    "java_model = best_gb._java_obj\n",
    "print(\"Best hyper-parameters: \",  {param.name: java_model.getOrDefault(java_model.getParam(param.name)) \n",
    "                                                                                 for param in grid[0]})"
   ]
  },
  {
   "cell_type": "code",
   "execution_count": 44,
   "metadata": {},
   "outputs": [
    {
     "name": "stdout",
     "output_type": "stream",
     "text": [
      "+-----+----------+\n",
      "|label|prediction|\n",
      "+-----+----------+\n",
      "|  0.0|       0.0|\n",
      "|  0.0|       0.0|\n",
      "|  0.0|       0.0|\n",
      "|  0.0|       0.0|\n",
      "|  0.0|       0.0|\n",
      "+-----+----------+\n",
      "only showing top 5 rows\n",
      "\n"
     ]
    }
   ],
   "source": [
    "# Prediction on test dataset:\n",
    "test_predictions = best_gb.transform(test)\n",
    "test_predictions.select('label', 'prediction').show(5)"
   ]
  },
  {
   "cell_type": "code",
   "execution_count": 45,
   "metadata": {},
   "outputs": [
    {
     "name": "stdout",
     "output_type": "stream",
     "text": [
      "Training f1 score:   0.84\n",
      "Validation f1 score:   0.83\n"
     ]
    }
   ],
   "source": [
    "print(\"Training f1 score:  \", round(evaluator.evaluate(best_gb.transform(train)),2))\n",
    "print(\"Validation f1 score:  \", round(evaluator.evaluate(best_gb.transform(test)),2))"
   ]
  },
  {
   "cell_type": "code",
   "execution_count": 46,
   "metadata": {},
   "outputs": [
    {
     "name": "stdout",
     "output_type": "stream",
     "text": [
      "Confusion matrix, without normalization\n",
      "[[184  37]\n",
      " [ 12  43]]\n",
      "Normalized confusion matrix\n",
      "[[0.83 0.17]\n",
      " [0.22 0.78]]\n"
     ]
    },
    {
     "data": {
      "image/png": "[encoded data removed]",
      "text/plain": [
       "<Figure size 432x288 with 2 Axes>"
      ]
     },
     "metadata": {},
     "output_type": "display_data"
    }
   ],
   "source": [
    "# Plot a confusion matrix:  \n",
    "y_test=test.select('label')\n",
    "y_pred=test_predictions.select('prediction')\n",
    "\n",
    "y_test = y_test.toPandas()\n",
    "y_pred = y_pred.toPandas()\n",
    "\n",
    "cm = confusion_matrix(y_test, y_pred)\n",
    "\n",
    "np.set_printoptions(precision=2)\n",
    "print('Confusion matrix, without normalization')\n",
    "print(cm)\n",
    "\n",
    "\n",
    "# Normalize the confusion matrix by row (i.e by the number of samples in each class)\n",
    "cm_normalized = cm.astype('float') / cm.sum(axis=1)[:, np.newaxis]\n",
    "print('Normalized confusion matrix')\n",
    "print(cm_normalized)\n",
    "plt.figure()\n",
    "plot_confusion_matrix(cm_normalized, class_names, title='Normalized confusion matrix')\n",
    "\n",
    "plt.show()"
   ]
  },
  {
   "cell_type": "code",
   "execution_count": 47,
   "metadata": {},
   "outputs": [
    {
     "data": {
      "image/png": "[encoded data removed]",
      "text/plain": [
       "<Figure size 1152x432 with 1 Axes>"
      ]
     },
     "metadata": {},
     "output_type": "display_data"
    }
   ],
   "source": [
    "# Feature Importance: \n",
    "im=best_gb.featureImportances\n",
    "\n",
    "# Plot:\n",
    "c1=pd.DataFrame(im.toArray(),  columns=[\"Importance\"])\n",
    "c2=pd.DataFrame(np.arange(im.toArray().shape[0]), columns=[\"Features\"])\n",
    "\n",
    "fig, ax = plt.subplots(figsize=(16, 6)) \n",
    "sns.barplot(x=\"Features\", y=\"Importance\", data=pd.concat([c2,c1], axis=1), color=\"blue\", ax=ax)\n",
    "\n",
    "plt.show()"
   ]
  },
  {
   "cell_type": "code",
   "execution_count": null,
   "metadata": {},
   "outputs": [],
   "source": []
  }
 ],
 "metadata": {
  "kernelspec": {
   "display_name": "Python 3",
   "language": "python",
   "name": "python3"
  },
  "language_info": {
   "codemirror_mode": {
    "name": "ipython",
    "version": 3
   },
   "file_extension": ".py",
   "mimetype": "text/x-python",
   "name": "python",
   "nbconvert_exporter": "python",
   "pygments_lexer": "ipython3",
   "version": "3.6.5"
  }
 },
 "nbformat": 4,
 "nbformat_minor": 2
}
