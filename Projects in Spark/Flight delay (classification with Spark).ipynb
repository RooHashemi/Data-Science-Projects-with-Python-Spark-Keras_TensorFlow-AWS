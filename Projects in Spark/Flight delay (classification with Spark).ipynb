{
 "cells": [
  {
   "cell_type": "markdown",
   "metadata": {},
   "source": [
    "# Problem statement: \n",
    "* The data has 9303 rows and 7 variables. Dataset is imbalanced: 3496 Delayed vs. 5807 On-time. \n",
    "* This is a binary classification problem. The classification goal is to predict whether a given flight has delay or not.\n",
    "\n",
    "\n",
    "# Workflow:\n",
    "- Load the dataset, and define the required functions (e.g. for detecting the missing values, etc.)\n",
    "- Data Cleaning/Wrangling: Manipulate outliers, missing data or duplicated values, etc. \n",
    "- Basic data exploration\n",
    "- Preparing data for Machine Learning:\n",
    "    - One-hot-encoding of categorical features\n",
    "    - Vector Assembling\n",
    "    - Splitting data into training & test parts (I use the training part for training & hyperparameter tuning of models, test part for the final evaluation of models)\n",
    "    \n",
    " # Model Training: \n",
    "- I separately train following models:\n",
    "     - Logistic Regression (LR)\n",
    "     - Random Forest (RF)\n",
    "     - Gradient Boosting Trees (GBTs)\n",
    "     \n",
    " Note: I use Grid-Search technique to find optimal hyper-parameters of each model. Also, I undersample the majority-class data points to even the imbalances. \n",
    "\n",
    "  # Model Evaluation: \n",
    "- I separately evaluate the best LR, RF and GBT models, by calculating/plotting following mertics on Test dataset:\n",
    "     - roc_auc score\n",
    "     - f1 score\n",
    "     - Confusion matrix\n",
    "     - ROC curve  \n",
    "     - Average precision\n",
    " \n",
    " \n",
    "- Calculating the Feature Importance with RF and GBTs models."
   ]
  },
  {
   "cell_type": "code",
   "execution_count": 2,
   "metadata": {
    "scrolled": false
   },
   "outputs": [],
   "source": [
    "import warnings\n",
    "warnings.filterwarnings(\"ignore\")\n",
    "\n",
    "import findspark \n",
    "findspark.init('/home/rhashemee/spark-2.1.0-bin-hadoop2.7')\n",
    "\n",
    "import pyspark\n",
    "\n",
    "import sklearn\n",
    "import numpy as np\n",
    "import pandas as pd\n",
    "import imblearn as im\n",
    "import featuretools as ft\n",
    "import matplotlib.pyplot as plt\n",
    "import seaborn as sns"
   ]
  },
  {
   "cell_type": "code",
   "execution_count": 3,
   "metadata": {},
   "outputs": [],
   "source": [
    "from pyspark.sql import SparkSession\n",
    "\n",
    "spark = SparkSession.builder.master(\"local[*]\")\\\n",
    "                            .appName(\"Flight_Delay\")\\\n",
    "                            .enableHiveSupport()\\\n",
    "                            .getOrCreate()\n",
    "\n",
    "#spark.conf.set('spark.driver.memory','8g')\n",
    "#spark.conf.set('spark.executor.memory', '8g')\n",
    "#spark.conf.set('spark.executor.cores', '6')\n",
    "#spark.conf.set('spark.cores.max', '6')\n",
    "\n",
    "sc = spark.sparkContext"
   ]
  },
  {
   "cell_type": "code",
   "execution_count": 4,
   "metadata": {},
   "outputs": [],
   "source": [
    "# helpful function to detect the Missing Values:\n",
    "def detect_missing(df):\n",
    "    import pyspark.sql.functions as fn\n",
    "    miss_count=df.agg(*[(fn.count('*')-fn.count(c)).alias(c)   for c in df.columns]).toPandas()\n",
    "    miss_percent=df.agg(*[(1-(fn.count(c)/fn.count('*'))).alias(c)   for c in df.columns]).toPandas()\n",
    "    \n",
    "    summary = pd.concat([miss_count, miss_percent], axis=0)\n",
    "    summary['  '] = ['Count of miss values: ', 'Percentage of miss values: ']\n",
    "    summary.set_index('  ', inplace=True)\n",
    "    return summary"
   ]
  },
  {
   "cell_type": "code",
   "execution_count": 5,
   "metadata": {},
   "outputs": [],
   "source": [
    "df_flights=spark.read.csv('flights_small.csv', header=True, inferSchema=True)\n",
    "df_airports=spark.read.csv('airports.csv', header=True, inferSchema=True)\n",
    "df_planes=spark.read.csv('planes.csv', header=True, inferSchema=True)"
   ]
  },
  {
   "cell_type": "code",
   "execution_count": 6,
   "metadata": {},
   "outputs": [],
   "source": [
    "# Rename the columne name 'year' in 'plane' df:\n",
    "df_planes=df_planes.withColumnRenamed('year', 'manufact_year')"
   ]
  },
  {
   "cell_type": "code",
   "execution_count": 7,
   "metadata": {},
   "outputs": [],
   "source": [
    "# Join the 'flights' and 'planes' datasets, on 'tailnum':\n",
    "df = df_flights.join(df_planes, on='tailnum', how='leftouter')"
   ]
  },
  {
   "cell_type": "code",
   "execution_count": 8,
   "metadata": {},
   "outputs": [],
   "source": [
    "# Convert appropriate columns of df to 'integer' type:\n",
    "for c in ['dep_time', 'dep_delay', 'arr_time', 'arr_delay', 'air_time', 'hour', 'minute', 'manufact_year', 'speed']:\n",
    "    df= df.withColumn(c, df[c].cast('integer'))"
   ]
  },
  {
   "cell_type": "code",
   "execution_count": 9,
   "metadata": {},
   "outputs": [],
   "source": [
    "# build a new columne for \"plane_age\":\n",
    "df=df.withColumn('plane_age', (df.year)-(df.manufact_year))"
   ]
  },
  {
   "cell_type": "code",
   "execution_count": 10,
   "metadata": {},
   "outputs": [],
   "source": [
    "# create the \"label\":\n",
    "df=df.withColumn('is_late', df['arr_delay']>0)\n",
    "df=df.withColumn('is_lateIndex', df['is_late'].cast('integer'))"
   ]
  },
  {
   "cell_type": "code",
   "execution_count": 11,
   "metadata": {},
   "outputs": [],
   "source": [
    "df = df.repartition(4)"
   ]
  },
  {
   "cell_type": "code",
   "execution_count": 12,
   "metadata": {},
   "outputs": [
    {
     "name": "stdout",
     "output_type": "stream",
     "text": [
      "root\n",
      " |-- tailnum: string (nullable = true)\n",
      " |-- year: integer (nullable = true)\n",
      " |-- month: integer (nullable = true)\n",
      " |-- day: integer (nullable = true)\n",
      " |-- dep_time: integer (nullable = true)\n",
      " |-- dep_delay: integer (nullable = true)\n",
      " |-- arr_time: integer (nullable = true)\n",
      " |-- arr_delay: integer (nullable = true)\n",
      " |-- carrier: string (nullable = true)\n",
      " |-- flight: integer (nullable = true)\n",
      " |-- origin: string (nullable = true)\n",
      " |-- dest: string (nullable = true)\n",
      " |-- air_time: integer (nullable = true)\n",
      " |-- distance: integer (nullable = true)\n",
      " |-- hour: integer (nullable = true)\n",
      " |-- minute: integer (nullable = true)\n",
      " |-- manufact_year: integer (nullable = true)\n",
      " |-- type: string (nullable = true)\n",
      " |-- manufacturer: string (nullable = true)\n",
      " |-- model: string (nullable = true)\n",
      " |-- engines: integer (nullable = true)\n",
      " |-- seats: integer (nullable = true)\n",
      " |-- speed: integer (nullable = true)\n",
      " |-- engine: string (nullable = true)\n",
      " |-- plane_age: integer (nullable = true)\n",
      " |-- is_late: boolean (nullable = true)\n",
      " |-- is_lateIndex: integer (nullable = true)\n",
      "\n"
     ]
    }
   ],
   "source": [
    "df.printSchema()"
   ]
  },
  {
   "cell_type": "code",
   "execution_count": 13,
   "metadata": {},
   "outputs": [],
   "source": [
    "# select label + informative features:\n",
    "df=df.select('plane_age', 'air_time', 'month', 'carrier', 'dest', 'origin', 'is_lateIndex')"
   ]
  },
  {
   "cell_type": "code",
   "execution_count": 14,
   "metadata": {},
   "outputs": [
    {
     "data": {
      "text/html": [
       "<div>\n",
       "<style scoped>\n",
       "    .dataframe tbody tr th:only-of-type {\n",
       "        vertical-align: middle;\n",
       "    }\n",
       "\n",
       "    .dataframe tbody tr th {\n",
       "        vertical-align: top;\n",
       "    }\n",
       "\n",
       "    .dataframe thead th {\n",
       "        text-align: right;\n",
       "    }\n",
       "</style>\n",
       "<table border=\"1\" class=\"dataframe\">\n",
       "  <thead>\n",
       "    <tr style=\"text-align: right;\">\n",
       "      <th></th>\n",
       "      <th>plane_age</th>\n",
       "      <th>air_time</th>\n",
       "      <th>month</th>\n",
       "      <th>carrier</th>\n",
       "      <th>dest</th>\n",
       "      <th>origin</th>\n",
       "      <th>is_lateIndex</th>\n",
       "    </tr>\n",
       "    <tr>\n",
       "      <th></th>\n",
       "      <th></th>\n",
       "      <th></th>\n",
       "      <th></th>\n",
       "      <th></th>\n",
       "      <th></th>\n",
       "      <th></th>\n",
       "      <th></th>\n",
       "    </tr>\n",
       "  </thead>\n",
       "  <tbody>\n",
       "    <tr>\n",
       "      <th>Count of miss values:</th>\n",
       "      <td>646.0000</td>\n",
       "      <td>75.0000</td>\n",
       "      <td>0.0</td>\n",
       "      <td>0.0</td>\n",
       "      <td>0.0</td>\n",
       "      <td>0.0</td>\n",
       "      <td>75.0000</td>\n",
       "    </tr>\n",
       "    <tr>\n",
       "      <th>Percentage of miss values:</th>\n",
       "      <td>0.0646</td>\n",
       "      <td>0.0075</td>\n",
       "      <td>0.0</td>\n",
       "      <td>0.0</td>\n",
       "      <td>0.0</td>\n",
       "      <td>0.0</td>\n",
       "      <td>0.0075</td>\n",
       "    </tr>\n",
       "  </tbody>\n",
       "</table>\n",
       "</div>"
      ],
      "text/plain": [
       "                             plane_age  air_time  month  carrier  dest  \\\n",
       "                                                                         \n",
       "Count of miss values:         646.0000   75.0000    0.0      0.0   0.0   \n",
       "Percentage of miss values:      0.0646    0.0075    0.0      0.0   0.0   \n",
       "\n",
       "                             origin  is_lateIndex  \n",
       "                                                   \n",
       "Count of miss values:           0.0       75.0000  \n",
       "Percentage of miss values:      0.0        0.0075  "
      ]
     },
     "execution_count": 14,
     "metadata": {},
     "output_type": "execute_result"
    }
   ],
   "source": [
    "detect_missing(df)"
   ]
  },
  {
   "cell_type": "code",
   "execution_count": 15,
   "metadata": {},
   "outputs": [],
   "source": [
    "# Drop all missing values:\n",
    "df=df.na.drop(subset=['plane_age', 'air_time', 'is_lateIndex'])"
   ]
  },
  {
   "cell_type": "code",
   "execution_count": 16,
   "metadata": {},
   "outputs": [
    {
     "data": {
      "text/html": [
       "<div>\n",
       "<style scoped>\n",
       "    .dataframe tbody tr th:only-of-type {\n",
       "        vertical-align: middle;\n",
       "    }\n",
       "\n",
       "    .dataframe tbody tr th {\n",
       "        vertical-align: top;\n",
       "    }\n",
       "\n",
       "    .dataframe thead th {\n",
       "        text-align: right;\n",
       "    }\n",
       "</style>\n",
       "<table border=\"1\" class=\"dataframe\">\n",
       "  <thead>\n",
       "    <tr style=\"text-align: right;\">\n",
       "      <th></th>\n",
       "      <th>plane_age</th>\n",
       "      <th>air_time</th>\n",
       "      <th>month</th>\n",
       "      <th>carrier</th>\n",
       "      <th>dest</th>\n",
       "      <th>origin</th>\n",
       "      <th>is_lateIndex</th>\n",
       "    </tr>\n",
       "    <tr>\n",
       "      <th></th>\n",
       "      <th></th>\n",
       "      <th></th>\n",
       "      <th></th>\n",
       "      <th></th>\n",
       "      <th></th>\n",
       "      <th></th>\n",
       "      <th></th>\n",
       "    </tr>\n",
       "  </thead>\n",
       "  <tbody>\n",
       "    <tr>\n",
       "      <th>Count of miss values:</th>\n",
       "      <td>0.0</td>\n",
       "      <td>0.0</td>\n",
       "      <td>0.0</td>\n",
       "      <td>0.0</td>\n",
       "      <td>0.0</td>\n",
       "      <td>0.0</td>\n",
       "      <td>0.0</td>\n",
       "    </tr>\n",
       "    <tr>\n",
       "      <th>Percentage of miss values:</th>\n",
       "      <td>0.0</td>\n",
       "      <td>0.0</td>\n",
       "      <td>0.0</td>\n",
       "      <td>0.0</td>\n",
       "      <td>0.0</td>\n",
       "      <td>0.0</td>\n",
       "      <td>0.0</td>\n",
       "    </tr>\n",
       "  </tbody>\n",
       "</table>\n",
       "</div>"
      ],
      "text/plain": [
       "                             plane_age  air_time  month  carrier  dest  \\\n",
       "                                                                         \n",
       "Count of miss values:              0.0       0.0    0.0      0.0   0.0   \n",
       "Percentage of miss values:         0.0       0.0    0.0      0.0   0.0   \n",
       "\n",
       "                             origin  is_lateIndex  \n",
       "                                                   \n",
       "Count of miss values:           0.0           0.0  \n",
       "Percentage of miss values:      0.0           0.0  "
      ]
     },
     "execution_count": 16,
     "metadata": {},
     "output_type": "execute_result"
    }
   ],
   "source": [
    "detect_missing(df)"
   ]
  },
  {
   "cell_type": "code",
   "execution_count": 17,
   "metadata": {},
   "outputs": [
    {
     "data": {
      "text/plain": [
       "9303"
      ]
     },
     "execution_count": 17,
     "metadata": {},
     "output_type": "execute_result"
    }
   ],
   "source": [
    "df.count()"
   ]
  },
  {
   "cell_type": "code",
   "execution_count": 18,
   "metadata": {},
   "outputs": [
    {
     "name": "stdout",
     "output_type": "stream",
     "text": [
      "+------------+-----+\n",
      "|is_lateIndex|count|\n",
      "+------------+-----+\n",
      "|           1| 3496|\n",
      "|           0| 5807|\n",
      "+------------+-----+\n",
      "\n"
     ]
    }
   ],
   "source": [
    "df.groupBy('is_lateIndex').count().show()"
   ]
  },
  {
   "cell_type": "markdown",
   "metadata": {},
   "source": [
    "# Preparing Data for Machine Learning:"
   ]
  },
  {
   "cell_type": "code",
   "execution_count": 18,
   "metadata": {},
   "outputs": [],
   "source": [
    "from pyspark.ml.feature import OneHotEncoder, StringIndexer, VectorAssembler\n",
    "\n",
    "# One-Hot-Encoding of Categorical features:\n",
    "categoricalColumns = ['carrier', 'dest', 'origin']\n",
    "stages = []\n",
    "\n",
    "for categoricalCol in categoricalColumns:\n",
    "    stringIndexer = StringIndexer(inputCol = categoricalCol, outputCol = categoricalCol + '_Index')\n",
    "    encoder = OneHotEncoder(inputCol=stringIndexer.getOutputCol(), outputCol=categoricalCol + \"_classVec\")\n",
    "    stages += [stringIndexer, encoder]\n",
    "\n",
    "label_stringIdx = StringIndexer(inputCol = 'is_lateIndex', outputCol = 'label')\n",
    "\n",
    "stages += [label_stringIdx]\n",
    "\n",
    "# Continuous features: \n",
    "numericCols = ['plane_age', 'air_time', 'month']\n",
    "\n",
    "# Vector assembling:\n",
    "assemblerInputs = [c + \"_classVec\" for c in categoricalColumns] + numericCols\n",
    "assembler = VectorAssembler(inputCols=assemblerInputs, outputCol=\"features\")\n",
    "stages += [assembler]"
   ]
  },
  {
   "cell_type": "code",
   "execution_count": 19,
   "metadata": {},
   "outputs": [
    {
     "name": "stdout",
     "output_type": "stream",
     "text": [
      "root\n",
      " |-- label: double (nullable = true)\n",
      " |-- features: vector (nullable = true)\n",
      " |-- plane_age: integer (nullable = true)\n",
      " |-- air_time: integer (nullable = true)\n",
      " |-- month: integer (nullable = true)\n",
      " |-- carrier: string (nullable = true)\n",
      " |-- dest: string (nullable = true)\n",
      " |-- origin: string (nullable = true)\n",
      " |-- is_lateIndex: integer (nullable = true)\n",
      "\n"
     ]
    }
   ],
   "source": [
    "# Pipeline: ___________________________________\n",
    "from pyspark.ml import Pipeline\n",
    "\n",
    "cols = df.columns\n",
    "pipeline = Pipeline(stages = stages)\n",
    "pipelineModel = pipeline.fit(df)\n",
    "df_piped = pipelineModel.transform(df)\n",
    "\n",
    "selectedCols = ['label', 'features'] + cols\n",
    "df_piped = df_piped.select(selectedCols)\n",
    "df_piped.printSchema()"
   ]
  },
  {
   "cell_type": "code",
   "execution_count": 20,
   "metadata": {},
   "outputs": [
    {
     "name": "stdout",
     "output_type": "stream",
     "text": [
      "Training Dataset Count: 6482\n",
      "Test Dataset Count: 2821\n"
     ]
    }
   ],
   "source": [
    "train, test = df_piped.randomSplit([0.7, 0.3], seed = 42)\n",
    "print(\"Training Dataset Count: \" + str(train.count()))\n",
    "print(\"Test Dataset Count: \" + str(test.count()))"
   ]
  },
  {
   "cell_type": "markdown",
   "metadata": {},
   "source": [
    "# 1) Logistic Regression Model: "
   ]
  },
  {
   "cell_type": "code",
   "execution_count": 21,
   "metadata": {},
   "outputs": [
    {
     "name": "stdout",
     "output_type": "stream",
     "text": [
      "+-----------------+-----+\n",
      "|           weight|count|\n",
      "+-----------------+-----+\n",
      "|1.618881118881119| 4004|\n",
      "|2.615819209039548| 2478|\n",
      "+-----------------+-----+\n",
      "\n"
     ]
    }
   ],
   "source": [
    "# To calculate the Calss Weight for Logestic Regression:\n",
    "new_train=train.join(train.groupBy('label').count(), 'label', how='leftouter')\n",
    "train_weight=new_train.withColumn('weight', train.count()/(new_train['count']))\n",
    "\n",
    "train_weight.groupBy('weight').count().show()"
   ]
  },
  {
   "cell_type": "code",
   "execution_count": 22,
   "metadata": {},
   "outputs": [],
   "source": [
    "from pyspark.ml.classification import LogisticRegression\n",
    "lr = LogisticRegression(featuresCol = 'features', labelCol = 'label', maxIter=10, \n",
    "                         weightCol ='weight')\n",
    "\n",
    "# creating the Evaluator: \n",
    "from  pyspark.ml import evaluation \n",
    "\n",
    "evaluator=evaluation.BinaryClassificationEvaluator(metricName=\"areaUnderROC\")\n",
    "\n",
    "# creating the Grid of Parameters: \n",
    "from pyspark.ml import tuning\n",
    "\n",
    "grid=tuning.ParamGridBuilder()\n",
    "grid=grid.addGrid(lr.regParam, [0, 0.001, 10])\n",
    "grid=grid.addGrid(lr.elasticNetParam, [0, 0.05, 0.1, 0.2])\n",
    "grid=grid.build()\n",
    "\n",
    "# making the Validator:\n",
    "cv=tuning.CrossValidator(estimator=lr,\n",
    "                         estimatorParamMaps=grid,\n",
    "                         evaluator=evaluator,\n",
    "                         numFolds=3,\n",
    "                         seed=42)"
   ]
  },
  {
   "cell_type": "code",
   "execution_count": 23,
   "metadata": {},
   "outputs": [
    {
     "name": "stdout",
     "output_type": "stream",
     "text": [
      "Best hyper-parameters:  {'regParam': 0.0, 'elasticNetParam': 0.0}\n",
      "Best cross-validation score:   0.66\n"
     ]
    }
   ],
   "source": [
    "# fit the model:\n",
    "models=cv.fit(train_weight)\n",
    "best_lr=models.bestModel\n",
    "\n",
    "# Best hyper-parameters: \n",
    "java_model = best_lr._java_obj\n",
    "print(\"Best hyper-parameters: \",  {param.name: java_model.getOrDefault(java_model.getParam(param.name)) \n",
    "                                                                                 for param in grid[0]})\n",
    "print(\"Best cross-validation score:  \", round(max(models.avgMetrics), 2)) "
   ]
  },
  {
   "cell_type": "code",
   "execution_count": 24,
   "metadata": {},
   "outputs": [
    {
     "name": "stdout",
     "output_type": "stream",
     "text": [
      "Test roc_auc score:  0.64 \n",
      "\n",
      "Test average precision:  0.5 \n",
      "\n",
      "Test f1 score:  0.62\n"
     ]
    }
   ],
   "source": [
    "from pyspark.ml.evaluation import BinaryClassificationEvaluator, MulticlassClassificationEvaluator\n",
    "print('Test roc_auc score: ', round(best_lr.evaluate(test).areaUnderROC,2), '\\n')\n",
    "\n",
    "print('Test average precision: ', round(evaluator.evaluate(best_lr.transform(test), {evaluator.metricName: 'areaUnderPR'}), 2), '\\n')\n",
    "\n",
    "my_eval= MulticlassClassificationEvaluator(metricName='f1')\n",
    "print('Test f1 score: ', round(my_eval.evaluate(best_lr.transform(test)),2))"
   ]
  },
  {
   "cell_type": "code",
   "execution_count": 25,
   "metadata": {},
   "outputs": [
    {
     "name": "stdout",
     "output_type": "stream",
     "text": [
      "+-----+--------------------+--------------------+----------+\n",
      "|label|       rawPrediction|         probability|prediction|\n",
      "+-----+--------------------+--------------------+----------+\n",
      "|  0.0|[-0.1880666743327...|[0.45312142102971...|       1.0|\n",
      "|  0.0|[-0.2677801827107...|[0.43345213789439...|       1.0|\n",
      "|  0.0|[-0.7290283274749...|[0.32540799047166...|       1.0|\n",
      "|  0.0|[-0.4821736735766...|[0.38173897540909...|       1.0|\n",
      "|  0.0|[-0.5402735426843...|[0.36812395155856...|       1.0|\n",
      "+-----+--------------------+--------------------+----------+\n",
      "only showing top 5 rows\n",
      "\n"
     ]
    }
   ],
   "source": [
    "# Prediction on test dataset:\n",
    "test_predictions = best_lr.transform(test)\n",
    "test_predictions.select('label', 'rawPrediction', 'probability', 'prediction').show(5)"
   ]
  },
  {
   "cell_type": "code",
   "execution_count": 26,
   "metadata": {},
   "outputs": [
    {
     "name": "stdout",
     "output_type": "stream",
     "text": [
      "Confusion matrix, without normalization\n",
      "[[1109  694]\n",
      " [ 399  619]]\n",
      "Normalized confusion matrix\n",
      "[[0.62 0.38]\n",
      " [0.39 0.61]]\n"
     ]
    },
    {
     "data": {
      "image/png": "[encoded data removed]",
      "text/plain": [
       "<Figure size 432x288 with 2 Axes>"
      ]
     },
     "metadata": {},
     "output_type": "display_data"
    }
   ],
   "source": [
    "# Plot a confusion matrix:\n",
    "# cm is the confusion matrix, names are the names of the classes.\n",
    "def plot_confusion_matrix(cm, names, title='Confusion matrix', cmap=plt.cm.Blues):\n",
    "    plt.imshow(cm, interpolation='nearest', cmap=cmap)\n",
    "    plt.title(title)\n",
    "    plt.colorbar()\n",
    "    tick_marks = np.arange(len(names))\n",
    "    plt.xticks(tick_marks, names, rotation=45)\n",
    "    plt.yticks(tick_marks, names)\n",
    "    plt.tight_layout()\n",
    "    plt.ylabel('True label')\n",
    "    plt.xlabel('Predicted label')\n",
    "\n",
    "class_names=[\"0\", \"1\"]\n",
    "    \n",
    "# Compute confusion matrix:\n",
    "from sklearn.metrics import confusion_matrix\n",
    "y_test=test.select('label')\n",
    "y_pred=test_predictions.select('prediction')\n",
    "\n",
    "y_test = y_test.toPandas()\n",
    "y_pred = y_pred.toPandas()\n",
    "\n",
    "cm = confusion_matrix(y_test, y_pred)\n",
    "\n",
    "np.set_printoptions(precision=2)\n",
    "print('Confusion matrix, without normalization')\n",
    "print(cm)\n",
    "\n",
    "# Normalize the confusion matrix by row (i.e by the number of samples in each class)\n",
    "cm_normalized = cm.astype('float') / cm.sum(axis=1)[:, np.newaxis]\n",
    "print('Normalized confusion matrix')\n",
    "print(cm_normalized)\n",
    "plt.figure()\n",
    "plot_confusion_matrix(cm_normalized, class_names, title='Normalized confusion matrix')\n",
    "\n",
    "plt.show()"
   ]
  },
  {
   "cell_type": "code",
   "execution_count": 27,
   "metadata": {},
   "outputs": [
    {
     "data": {
      "image/png": "[encoded data removed]",
      "text/plain": [
       "<Figure size 576x432 with 1 Axes>"
      ]
     },
     "metadata": {},
     "output_type": "display_data"
    }
   ],
   "source": [
    "# ROC curve:______________________________________\n",
    "validation_accuracy=best_lr.evaluate(test)\n",
    "roc=validation_accuracy.roc.toPandas()\n",
    "roc_auc=validation_accuracy.areaUnderROC\n",
    "\n",
    "fig, ax = plt.subplots(figsize=(8,6)) \n",
    "\n",
    "plt.step(roc['FPR'],roc['TPR'], color='darkorange', lw=2, label='Validation ROC curve (auc = %0.2f)' % roc_auc)\n",
    "plt.plot([0, 1], [0, 1], color='navy', alpha=0.4, lw=2, linestyle='--')\n",
    "\n",
    "plt.xlim([0.0, 1])\n",
    "plt.ylim([0.0, 1.02])\n",
    "plt.xlabel('FPR')\n",
    "plt.ylabel('TPR')\n",
    "plt.title('ROC Curve')\n",
    "plt.legend(loc=\"lower right\")\n",
    "\n",
    "recall=validation_accuracy.recallByThreshold.toPandas()\n",
    "recall=recall[np.round(recall['threshold'], 2)==0.5]['recall']\n",
    "roc=validation_accuracy.roc.toPandas().iloc[recall.index[0]+1]\n",
    "plt.plot(roc[0], roc[1], 'or')\n",
    "\n",
    "plt.show()"
   ]
  },
  {
   "cell_type": "markdown",
   "metadata": {},
   "source": [
    "# 2) Random Forest Model: "
   ]
  },
  {
   "cell_type": "code",
   "execution_count": 29,
   "metadata": {},
   "outputs": [],
   "source": [
    "from pyspark.ml.classification import RandomForestClassifier\n",
    "rf = RandomForestClassifier(featuresCol = 'features', labelCol = 'label')\n",
    "\n",
    "# creating the Evaluator: \n",
    "from  pyspark.ml import evaluation \n",
    "\n",
    "evaluator=evaluation.BinaryClassificationEvaluator(metricName=\"areaUnderROC\")\n",
    "\n",
    "# creating the Grid of Parameters: \n",
    "from pyspark.ml import tuning\n",
    "\n",
    "grid=tuning.ParamGridBuilder()\n",
    "grid=grid.addGrid(rf.maxDepth, [30])\n",
    "grid=grid.addGrid(rf.numTrees, [80])\n",
    "grid=grid.addGrid(rf.maxBins, [32, 48])\n",
    "\n",
    "grid=grid.build()\n",
    "\n",
    "# making the Validator:\n",
    "cv=tuning.CrossValidator(estimator=rf,\n",
    "                         estimatorParamMaps=grid,\n",
    "                         evaluator=evaluator,\n",
    "                         numFolds=3,\n",
    "                         seed=42)"
   ]
  },
  {
   "cell_type": "code",
   "execution_count": 30,
   "metadata": {},
   "outputs": [
    {
     "name": "stdout",
     "output_type": "stream",
     "text": [
      "Best hyper-parameters:  {'maxBins': 48, 'numTrees': 80, 'maxDepth': 30}\n",
      "Best cross-validation score:   0.64\n"
     ]
    }
   ],
   "source": [
    "# fit the model:\n",
    "models=cv.fit(train)\n",
    "best_rf=models.bestModel\n",
    "\n",
    "# Best hyper-parameters: \n",
    "java_model = best_rf._java_obj\n",
    "print(\"Best hyper-parameters: \",  {param.name: java_model.getOrDefault(java_model.getParam(param.name)) \n",
    "                                                                                 for param in grid[0]})\n",
    "print(\"Best cross-validation score:  \", round(max(models.avgMetrics), 2)) "
   ]
  },
  {
   "cell_type": "code",
   "execution_count": 31,
   "metadata": {},
   "outputs": [
    {
     "name": "stdout",
     "output_type": "stream",
     "text": [
      "Test roc_auc score:  0.67 \n",
      "\n",
      "Test average precision:  0.53 \n",
      "\n",
      "Test f1 score:  0.62\n"
     ]
    }
   ],
   "source": [
    "my_eval= BinaryClassificationEvaluator(metricName='areaUnderROC')\n",
    "print('Test roc_auc score: ', round(my_eval.evaluate(best_rf.transform(test)),2), '\\n')\n",
    "\n",
    "print('Test average precision: ', round(evaluator.evaluate(best_rf.transform(test), {evaluator.metricName: 'areaUnderPR'}), 2), '\\n')\n",
    "\n",
    "my_eval= MulticlassClassificationEvaluator(metricName='f1')\n",
    "print('Test f1 score: ', round(my_eval.evaluate(best_rf.transform(test)),2))"
   ]
  },
  {
   "cell_type": "code",
   "execution_count": 32,
   "metadata": {},
   "outputs": [
    {
     "name": "stdout",
     "output_type": "stream",
     "text": [
      "+-----+--------------------+--------------------+----------+\n",
      "|label|       rawPrediction|         probability|prediction|\n",
      "+-----+--------------------+--------------------+----------+\n",
      "|  0.0|[53.0127421948454...|[0.66265927743556...|       0.0|\n",
      "|  0.0|[48.9755327145514...|[0.61219415893189...|       0.0|\n",
      "|  0.0|[44.1223243236715...|[0.55152905404589...|       0.0|\n",
      "|  0.0|[51.8196565003470...|[0.64774570625433...|       0.0|\n",
      "|  0.0|[43.9022766284530...|[0.54877845785566...|       0.0|\n",
      "+-----+--------------------+--------------------+----------+\n",
      "only showing top 5 rows\n",
      "\n"
     ]
    }
   ],
   "source": [
    "# Prediction on test dataset:\n",
    "test_predictions = best_rf.transform(test)\n",
    "test_predictions.select('label', 'rawPrediction', 'probability', 'prediction').show(5)"
   ]
  },
  {
   "cell_type": "code",
   "execution_count": 33,
   "metadata": {},
   "outputs": [
    {
     "name": "stdout",
     "output_type": "stream",
     "text": [
      "Confusion matrix, without normalization\n",
      "[[1644  159]\n",
      " [ 783  235]]\n",
      "Normalized confusion matrix\n",
      "[[0.91 0.09]\n",
      " [0.77 0.23]]\n"
     ]
    },
    {
     "data": {
      "image/png": "[encoded data removed]",
      "text/plain": [
       "<Figure size 432x288 with 2 Axes>"
      ]
     },
     "metadata": {},
     "output_type": "display_data"
    }
   ],
   "source": [
    "# Plot a confusion matrix:\n",
    "# cm is the confusion matrix, names are the names of the classes.\n",
    "\n",
    "class_names=[\"0\", \"1\"]\n",
    "    \n",
    "# Compute confusion matrix:\n",
    "from sklearn.metrics import confusion_matrix\n",
    "y_test=test.select('label')\n",
    "y_pred=test_predictions.select('prediction')\n",
    "\n",
    "y_test = y_test.toPandas()\n",
    "y_pred = y_pred.toPandas()\n",
    "\n",
    "cm = confusion_matrix(y_test, y_pred)\n",
    "\n",
    "np.set_printoptions(precision=2)\n",
    "print('Confusion matrix, without normalization')\n",
    "print(cm)\n",
    "\n",
    "\n",
    "# Normalize the confusion matrix by row (i.e by the number of samples in each class)\n",
    "cm_normalized = cm.astype('float') / cm.sum(axis=1)[:, np.newaxis]\n",
    "print('Normalized confusion matrix')\n",
    "print(cm_normalized)\n",
    "plt.figure()\n",
    "plot_confusion_matrix(cm_normalized, class_names, title='Normalized confusion matrix')\n",
    "\n",
    "plt.show()"
   ]
  },
  {
   "cell_type": "markdown",
   "metadata": {},
   "source": [
    "# Undersampling the majority class to balance the dataset for RF model:\n",
    "    - Note: RF model doesn't get the \"weightCol\" parameter for the imbalanced dataset.\n",
    "            So, we need to Undersample the majority class to improve Recall & Precision for minority class."
   ]
  },
  {
   "cell_type": "code",
   "execution_count": 34,
   "metadata": {},
   "outputs": [
    {
     "name": "stdout",
     "output_type": "stream",
     "text": [
      "+------------+-----+\n",
      "|is_lateIndex|count|\n",
      "+------------+-----+\n",
      "|           1| 2478|\n",
      "|           0| 2451|\n",
      "+------------+-----+\n",
      "\n"
     ]
    }
   ],
   "source": [
    "# Undersmapling the majority class:\n",
    "ratio = train.filter(train['is_lateIndex']==1).count() / train.filter(train['is_lateIndex']==0).count()\n",
    "\n",
    "undersampled_train = train.sampleBy('is_lateIndex', fractions={0: ratio, 1: 1.0}, seed=42)\n",
    "\n",
    "undersampled_train.groupby('is_lateIndex').count().show()"
   ]
  },
  {
   "cell_type": "code",
   "execution_count": 35,
   "metadata": {},
   "outputs": [
    {
     "name": "stdout",
     "output_type": "stream",
     "text": [
      "Best hyper-parameters:  {'maxBins': 48, 'numTrees': 80, 'maxDepth': 30}\n",
      "Best cross-validation score:   0.64\n"
     ]
    }
   ],
   "source": [
    "# fit the model on train dataset with Undersampled majority class:\n",
    "models=cv.fit(undersampled_train)\n",
    "best_rf=models.bestModel\n",
    "\n",
    "# Best hyper-parameters: \n",
    "java_model = best_rf._java_obj\n",
    "print(\"Best hyper-parameters: \",  {param.name: java_model.getOrDefault(java_model.getParam(param.name)) \n",
    "                                                                                 for param in grid[0]})\n",
    "print(\"Best cross-validation score:  \", round(max(models.avgMetrics), 2)) "
   ]
  },
  {
   "cell_type": "code",
   "execution_count": 36,
   "metadata": {},
   "outputs": [
    {
     "name": "stdout",
     "output_type": "stream",
     "text": [
      "Test roc_auc score:  0.66 \n",
      "\n",
      "Test average precision:  0.5 \n",
      "\n",
      "Test f1 score:  0.63\n"
     ]
    }
   ],
   "source": [
    "my_eval= BinaryClassificationEvaluator(metricName='areaUnderROC')\n",
    "print('Test roc_auc score: ', round(my_eval.evaluate(best_rf.transform(test)),2), '\\n')\n",
    "\n",
    "print('Test average precision: ', round(evaluator.evaluate(best_rf.transform(test), {evaluator.metricName: 'areaUnderPR'}), 2), '\\n')\n",
    "\n",
    "my_eval= MulticlassClassificationEvaluator(metricName='f1')\n",
    "print('Test f1 score: ', round(my_eval.evaluate(best_rf.transform(test)),2))"
   ]
  },
  {
   "cell_type": "code",
   "execution_count": 37,
   "metadata": {},
   "outputs": [
    {
     "name": "stdout",
     "output_type": "stream",
     "text": [
      "+-----+--------------------+--------------------+----------+\n",
      "|label|       rawPrediction|         probability|prediction|\n",
      "+-----+--------------------+--------------------+----------+\n",
      "|  0.0|[42.1453364864161...|[0.52681670608020...|       0.0|\n",
      "|  0.0|[42.5995456717694...|[0.53249432089711...|       0.0|\n",
      "|  0.0|[33.3781483454742...|[0.41722685431842...|       1.0|\n",
      "|  0.0|[49.4018698321290...|[0.61752337290161...|       0.0|\n",
      "|  0.0|[37.3446918151348...|[0.46680864768918...|       1.0|\n",
      "+-----+--------------------+--------------------+----------+\n",
      "only showing top 5 rows\n",
      "\n"
     ]
    }
   ],
   "source": [
    "# Prediction on test dataset:\n",
    "test_predictions = best_rf.transform(test)\n",
    "test_predictions.select('label', 'rawPrediction', 'probability', 'prediction').show(5)"
   ]
  },
  {
   "cell_type": "code",
   "execution_count": 38,
   "metadata": {},
   "outputs": [
    {
     "name": "stdout",
     "output_type": "stream",
     "text": [
      "Confusion matrix, without normalization\n",
      "[[1126  677]\n",
      " [ 378  640]]\n",
      "Normalized confusion matrix\n",
      "[[0.62 0.38]\n",
      " [0.37 0.63]]\n"
     ]
    },
    {
     "data": {
      "image/png": "[encoded data removed]",
      "text/plain": [
       "<Figure size 432x288 with 2 Axes>"
      ]
     },
     "metadata": {},
     "output_type": "display_data"
    }
   ],
   "source": [
    "# Plot a confusion matrix:\n",
    "# cm is the confusion matrix, names are the names of the classes.\n",
    "\n",
    "class_names=[\"0\", \"1\"]\n",
    "    \n",
    "# Compute confusion matrix:\n",
    "from sklearn.metrics import confusion_matrix\n",
    "y_test=test.select('label')\n",
    "y_pred=test_predictions.select('prediction')\n",
    "\n",
    "y_test = y_test.toPandas()\n",
    "y_pred = y_pred.toPandas()\n",
    "\n",
    "cm = confusion_matrix(y_test, y_pred)\n",
    "\n",
    "np.set_printoptions(precision=2)\n",
    "print('Confusion matrix, without normalization')\n",
    "print(cm)\n",
    "\n",
    "\n",
    "# Normalize the confusion matrix by row (i.e by the number of samples in each class)\n",
    "cm_normalized = cm.astype('float') / cm.sum(axis=1)[:, np.newaxis]\n",
    "print('Normalized confusion matrix')\n",
    "print(cm_normalized)\n",
    "plt.figure()\n",
    "plot_confusion_matrix(cm_normalized, class_names, title='Normalized confusion matrix')\n",
    "\n",
    "plt.show()"
   ]
  },
  {
   "cell_type": "code",
   "execution_count": 39,
   "metadata": {},
   "outputs": [
    {
     "data": {
      "image/png": "[encoded data removed]",
      "text/plain": [
       "<Figure size 576x432 with 1 Axes>"
      ]
     },
     "metadata": {},
     "output_type": "display_data"
    }
   ],
   "source": [
    "# ROC curve:______________________________________\n",
    "prediction = best_rf.transform(test)\n",
    "results= prediction.select(['probability', 'label']).collect()\n",
    "results = [(i[0][0], 1.0-i[1]) for i in results]\n",
    "\n",
    "from sklearn.metrics import roc_curve, auc\n",
    " \n",
    "fpr= dict()\n",
    "tpr = dict()\n",
    "roc_auc = dict()\n",
    " \n",
    "y_test = [i[1] for i in results]\n",
    "y_score = [i[0] for i in results]\n",
    " \n",
    "fpr, tpr, threshold = roc_curve(y_test, y_score)\n",
    "roc_auc = auc(fpr, tpr)\n",
    "\n",
    "fig, ax = plt.subplots(figsize=(8,6)) \n",
    "\n",
    "plt.step(fpr, tpr, color='darkorange', lw=2, label='Validation ROC curve (auc = %0.2f)' % roc_auc)\n",
    "plt.plot([0, 1], [0, 1], color='navy', alpha=0.4, lw=2, linestyle='--')\n",
    "\n",
    "plt.xlim([0.0, 1])\n",
    "plt.ylim([0.0, 1.02])\n",
    "plt.xlabel('FPR')\n",
    "plt.ylabel('TPR')\n",
    "plt.title('ROC Curve')\n",
    "plt.legend(loc=\"lower right\")\n",
    "\n",
    "\n",
    "plt.show()"
   ]
  },
  {
   "cell_type": "code",
   "execution_count": 40,
   "metadata": {},
   "outputs": [
    {
     "data": {
      "image/png": "[encoded data removed]",
      "text/plain": [
       "<Figure size 1152x432 with 1 Axes>"
      ]
     },
     "metadata": {},
     "output_type": "display_data"
    }
   ],
   "source": [
    "# Feature Importance: \n",
    "im=best_rf.featureImportances\n",
    "\n",
    "# Plot:\n",
    "c1=pd.DataFrame(im.toArray(),  columns=[\"Importance\"])\n",
    "c2=pd.DataFrame(np.arange(im.toArray().shape[0]), columns=[\"Features\"])\n",
    "\n",
    "fig, ax = plt.subplots(figsize=(16, 6)) \n",
    "sns.barplot(x=\"Features\", y=\"Importance\", data=pd.concat([c2,c1], axis=1), color=\"blue\", ax=ax)\n",
    "plt.xticks(rotation=90)\n",
    "plt.show()"
   ]
  },
  {
   "cell_type": "markdown",
   "metadata": {},
   "source": [
    "# 3) Gradient-Boosted Trees:"
   ]
  },
  {
   "cell_type": "code",
   "execution_count": 41,
   "metadata": {},
   "outputs": [],
   "source": [
    "from pyspark.ml.classification import GBTClassifier\n",
    "gb = GBTClassifier(featuresCol = 'features', labelCol = 'label')\n",
    "\n",
    "# creating the Evaluator: \n",
    "from  pyspark.ml import evaluation \n",
    "\n",
    "evaluator=evaluation.MulticlassClassificationEvaluator(metricName='f1')\n",
    "\n",
    "# creating the Grid of Parameters: \n",
    "from pyspark.ml import tuning\n",
    "\n",
    "grid=tuning.ParamGridBuilder()\n",
    "grid=grid.addGrid(gb.maxDepth, [4, 6])\n",
    "grid=grid.addGrid(gb.maxIter, [128])\n",
    "grid=grid.addGrid(gb.maxBins, [16, 48])\n",
    "\n",
    "grid=grid.build()\n",
    "\n",
    "# making the Validator:\n",
    "cv=tuning.CrossValidator(estimator=gb,\n",
    "                         estimatorParamMaps=grid,\n",
    "                         evaluator=evaluator,\n",
    "                         numFolds=3,\n",
    "                         seed=42)"
   ]
  },
  {
   "cell_type": "code",
   "execution_count": 42,
   "metadata": {},
   "outputs": [
    {
     "name": "stdout",
     "output_type": "stream",
     "text": [
      "Best hyper-parameters:  {'maxBins': 48, 'maxDepth': 4, 'maxIter': 128}\n",
      "Best cross-validation score:   0.63\n"
     ]
    }
   ],
   "source": [
    "# fit the model:\n",
    "models=cv.fit(train)\n",
    "best_gb=models.bestModel\n",
    "\n",
    "# Best hyper-parameters: \n",
    "java_model = best_gb._java_obj\n",
    "print(\"Best hyper-parameters: \",  {param.name: java_model.getOrDefault(java_model.getParam(param.name)) \n",
    "                                                                                 for param in grid[0]})\n",
    "print(\"Best cross-validation score:  \", round(max(models.avgMetrics), 2)) "
   ]
  },
  {
   "cell_type": "code",
   "execution_count": 43,
   "metadata": {},
   "outputs": [
    {
     "name": "stdout",
     "output_type": "stream",
     "text": [
      "Test f1 score:   0.65\n"
     ]
    }
   ],
   "source": [
    "print(\"Test f1 score:  \", round(evaluator.evaluate(best_gb.transform(test)),2))"
   ]
  },
  {
   "cell_type": "code",
   "execution_count": 44,
   "metadata": {},
   "outputs": [
    {
     "name": "stdout",
     "output_type": "stream",
     "text": [
      "+-----+----------+\n",
      "|label|prediction|\n",
      "+-----+----------+\n",
      "|  0.0|       0.0|\n",
      "|  0.0|       0.0|\n",
      "|  0.0|       0.0|\n",
      "|  0.0|       0.0|\n",
      "|  0.0|       0.0|\n",
      "+-----+----------+\n",
      "only showing top 5 rows\n",
      "\n"
     ]
    }
   ],
   "source": [
    "# Prediction on test dataset:\n",
    "test_predictions = best_gb.transform(test)\n",
    "test_predictions.select('label', 'prediction').show(5)"
   ]
  },
  {
   "cell_type": "code",
   "execution_count": 45,
   "metadata": {},
   "outputs": [
    {
     "name": "stdout",
     "output_type": "stream",
     "text": [
      "Confusion matrix, without normalization\n",
      "[[1567  236]\n",
      " [ 667  351]]\n",
      "Normalized confusion matrix\n",
      "[[0.87 0.13]\n",
      " [0.66 0.34]]\n"
     ]
    },
    {
     "data": {
      "image/png": "[encoded data removed]",
      "text/plain": [
       "<Figure size 432x288 with 2 Axes>"
      ]
     },
     "metadata": {},
     "output_type": "display_data"
    }
   ],
   "source": [
    "# Plot a confusion matrix:\n",
    "# cm is the confusion matrix, names are the names of the classes.\n",
    "\n",
    "class_names=[\"0\", \"1\"]\n",
    "    \n",
    "# Compute confusion matrix:\n",
    "from sklearn.metrics import confusion_matrix\n",
    "y_test=test.select('label')\n",
    "y_pred=test_predictions.select('prediction')\n",
    "\n",
    "y_test = y_test.toPandas()\n",
    "y_pred = y_pred.toPandas()\n",
    "\n",
    "cm = confusion_matrix(y_test, y_pred)\n",
    "\n",
    "np.set_printoptions(precision=2)\n",
    "print('Confusion matrix, without normalization')\n",
    "print(cm)\n",
    "\n",
    "\n",
    "# Normalize the confusion matrix by row (i.e by the number of samples in each class)\n",
    "cm_normalized = cm.astype('float') / cm.sum(axis=1)[:, np.newaxis]\n",
    "print('Normalized confusion matrix')\n",
    "print(cm_normalized)\n",
    "plt.figure()\n",
    "plot_confusion_matrix(cm_normalized, class_names, title='Normalized confusion matrix')\n",
    "\n",
    "plt.show()"
   ]
  },
  {
   "cell_type": "markdown",
   "metadata": {},
   "source": [
    "#  Undersampling the majority class to balance the dataset for GBT model:\n",
    "    - Note: Gradient-Boosted Trees model doesn't get the \"weightCol\" parameter for the imbalanced dataset.\n",
    "            So, we need to Undersample the majority class to improve Recall & Precision for minority class."
   ]
  },
  {
   "cell_type": "code",
   "execution_count": 46,
   "metadata": {},
   "outputs": [
    {
     "name": "stdout",
     "output_type": "stream",
     "text": [
      "Best hyper-parameters:  {'maxBins': 48, 'maxDepth': 4, 'maxIter': 128}\n",
      "Best cross-validation score:   0.62\n"
     ]
    }
   ],
   "source": [
    "# fit the model on train dataset with Undersampled majority class:\n",
    "models=cv.fit(undersampled_train)\n",
    "best_gb=models.bestModel\n",
    "\n",
    "# Best hyper-parameters: \n",
    "java_model = best_gb._java_obj\n",
    "print(\"Best hyper-parameters: \",  {param.name: java_model.getOrDefault(java_model.getParam(param.name)) \n",
    "                                                                                 for param in grid[0]})\n",
    "print(\"Best cross-validation score:  \", round(max(models.avgMetrics), 2)) "
   ]
  },
  {
   "cell_type": "code",
   "execution_count": 47,
   "metadata": {},
   "outputs": [
    {
     "name": "stdout",
     "output_type": "stream",
     "text": [
      "Test f1 score:   0.64\n"
     ]
    }
   ],
   "source": [
    "print(\"Test f1 score:  \", round(evaluator.evaluate(best_gb.transform(test)),2))"
   ]
  },
  {
   "cell_type": "code",
   "execution_count": 48,
   "metadata": {},
   "outputs": [
    {
     "name": "stdout",
     "output_type": "stream",
     "text": [
      "+-----+----------+\n",
      "|label|prediction|\n",
      "+-----+----------+\n",
      "|  0.0|       0.0|\n",
      "|  0.0|       0.0|\n",
      "|  0.0|       1.0|\n",
      "|  0.0|       0.0|\n",
      "|  0.0|       1.0|\n",
      "+-----+----------+\n",
      "only showing top 5 rows\n",
      "\n"
     ]
    }
   ],
   "source": [
    "# Prediction on test dataset:\n",
    "test_predictions = best_gb.transform(test)\n",
    "test_predictions.select('label', 'prediction').show(5)"
   ]
  },
  {
   "cell_type": "code",
   "execution_count": 49,
   "metadata": {},
   "outputs": [
    {
     "name": "stdout",
     "output_type": "stream",
     "text": [
      "Confusion matrix, without normalization\n",
      "[[1186  617]\n",
      " [ 401  617]]\n",
      "Normalized confusion matrix\n",
      "[[0.66 0.34]\n",
      " [0.39 0.61]]\n"
     ]
    },
    {
     "data": {
      "image/png": "[encoded data removed]",
      "text/plain": [
       "<Figure size 432x288 with 2 Axes>"
      ]
     },
     "metadata": {},
     "output_type": "display_data"
    }
   ],
   "source": [
    "# Plot a confusion matrix:   \n",
    "# Compute confusion matrix:\n",
    "y_test=test.select('label')\n",
    "y_pred=test_predictions.select('prediction')\n",
    "\n",
    "y_test = y_test.toPandas()\n",
    "y_pred = y_pred.toPandas()\n",
    "\n",
    "cm = confusion_matrix(y_test, y_pred)\n",
    "\n",
    "np.set_printoptions(precision=2)\n",
    "print('Confusion matrix, without normalization')\n",
    "print(cm)\n",
    "\n",
    "\n",
    "# Normalize the confusion matrix by row (i.e by the number of samples in each class)\n",
    "cm_normalized = cm.astype('float') / cm.sum(axis=1)[:, np.newaxis]\n",
    "print('Normalized confusion matrix')\n",
    "print(cm_normalized)\n",
    "plt.figure()\n",
    "plot_confusion_matrix(cm_normalized, class_names, title='Normalized confusion matrix')\n",
    "\n",
    "plt.show()"
   ]
  },
  {
   "cell_type": "code",
   "execution_count": 50,
   "metadata": {},
   "outputs": [
    {
     "data": {
      "image/png": "[encoded data removed]",
      "text/plain": [
       "<Figure size 1152x432 with 1 Axes>"
      ]
     },
     "metadata": {},
     "output_type": "display_data"
    }
   ],
   "source": [
    "# Feature Importance: \n",
    "im=best_gb.featureImportances\n",
    "\n",
    "# Plot:\n",
    "c1=pd.DataFrame(im.toArray(),  columns=[\"Importance\"])\n",
    "c2=pd.DataFrame(np.arange(im.toArray().shape[0]), columns=[\"Features\"])\n",
    "\n",
    "fig, ax = plt.subplots(figsize=(16, 6)) \n",
    "sns.barplot(x=\"Features\", y=\"Importance\", data=pd.concat([c2,c1], axis=1), color=\"blue\", ax=ax)\n",
    "plt.xticks(rotation=90)\n",
    "\n",
    "plt.show()"
   ]
  },
  {
   "cell_type": "code",
   "execution_count": 51,
   "metadata": {},
   "outputs": [],
   "source": [
    "sc.stop()"
   ]
  },
  {
   "cell_type": "code",
   "execution_count": null,
   "metadata": {},
   "outputs": [],
   "source": []
  }
 ],
 "metadata": {
  "kernelspec": {
   "display_name": "Python 3",
   "language": "python",
   "name": "python3"
  },
  "language_info": {
   "codemirror_mode": {
    "name": "ipython",
    "version": 3
   },
   "file_extension": ".py",
   "mimetype": "text/x-python",
   "name": "python",
   "nbconvert_exporter": "python",
   "pygments_lexer": "ipython3",
   "version": "3.6.5"
  }
 },
 "nbformat": 4,
 "nbformat_minor": 2
}
