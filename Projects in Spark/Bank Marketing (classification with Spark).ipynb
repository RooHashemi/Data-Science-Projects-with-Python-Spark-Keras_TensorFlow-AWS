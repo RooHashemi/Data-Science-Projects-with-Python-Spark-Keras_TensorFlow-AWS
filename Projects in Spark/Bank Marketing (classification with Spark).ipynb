{
 "cells": [
  {
   "cell_type": "markdown",
   "metadata": {},
   "source": [
    "# Data description & Problem statement: \n",
    "The data is related with direct marketing campaigns of a Portuguese banking institution. The marketing campaigns were based on phone calls. Often, more than one contact to the same client was required, in order to access if the product (bank term deposit) would be ('yes') or not ('no') subscribed. Please check the description at: http://archive.ics.uci.edu/ml/datasets/Bank+Marketing\n",
    "\n",
    "* This dataset is subset of original dataset. It's slightly imbalanced. The data has 11,162 rows and 17 columns.\n",
    "* This is a classification problem. The classification goal is to predict if the client will subscribe (yes/no) a term deposit (variable y).\n",
    "\n",
    "# Workflow:\n",
    "- Load the dataset, and define the required functions (e.g. for detecting the missing values, etc.)\n",
    "- Data Cleaning/Wrangling: Manipulate outliers, missing data or duplicated values, etc. \n",
    "- Basic data exploration\n",
    "- Preparing data for Machine Learning:\n",
    "    - One-hot-encoding of categorical features\n",
    "    - Vector Assembling\n",
    "    - Splitting data into training & test parts (I use the training part for training & hyperparameter tuning of models, test part for the final evaluation of models)\n",
    "      \n",
    " # Model Training: \n",
    "- I separately train following models:\n",
    "     - Logistic Regression (LR)\n",
    "     - Random Forest (RF)\n",
    "     - Gradient Boosting Trees (GBTs)\n",
    "     \n",
    " Note: I use Grid-Search technique to find optimal hyper-parameters of each model.\n",
    "\n",
    " # Model Evaluation: \n",
    "- I separately evaluate the best LR, RF and GBT models, by calculating/plotting following mertics on Test dataset:\n",
    "     - roc_auc score\n",
    "     - f1 score\n",
    "     - Confusion matrix\n",
    "     - ROC curve  \n",
    "     - Precision-Recall curve \n",
    "     - Average precision\n",
    " \n",
    " \n",
    "- Calculating the Feature Importance with RF and GBTs models."
   ]
  },
  {
   "cell_type": "code",
   "execution_count": 1,
   "metadata": {
    "scrolled": false
   },
   "outputs": [],
   "source": [
    "import warnings\n",
    "warnings.filterwarnings(\"ignore\")\n",
    "\n",
    "import findspark \n",
    "findspark.init('/home/rhashemee/spark-2.1.0-bin-hadoop2.7')\n",
    "\n",
    "import pyspark\n",
    "import sklearn\n",
    "import numpy as np\n",
    "import pandas as pd\n",
    "import imblearn as im\n",
    "import featuretools as ft\n",
    "import matplotlib.pyplot as plt\n",
    "import seaborn as sns"
   ]
  },
  {
   "cell_type": "code",
   "execution_count": 2,
   "metadata": {},
   "outputs": [],
   "source": [
    "from pyspark.sql import SparkSession\n",
    "my_spark=SparkSession.builder.appName('bank_deposit').getOrCreate()"
   ]
  },
  {
   "cell_type": "code",
   "execution_count": 3,
   "metadata": {},
   "outputs": [],
   "source": [
    "df=my_spark.read.csv('bank.csv', header=True, inferSchema=True)"
   ]
  },
  {
   "cell_type": "code",
   "execution_count": 4,
   "metadata": {},
   "outputs": [
    {
     "name": "stdout",
     "output_type": "stream",
     "text": [
      "root\n",
      " |-- age: integer (nullable = true)\n",
      " |-- job: string (nullable = true)\n",
      " |-- marital: string (nullable = true)\n",
      " |-- education: string (nullable = true)\n",
      " |-- default: string (nullable = true)\n",
      " |-- balance: integer (nullable = true)\n",
      " |-- housing: string (nullable = true)\n",
      " |-- loan: string (nullable = true)\n",
      " |-- contact: string (nullable = true)\n",
      " |-- day: integer (nullable = true)\n",
      " |-- month: string (nullable = true)\n",
      " |-- duration: integer (nullable = true)\n",
      " |-- campaign: integer (nullable = true)\n",
      " |-- pdays: integer (nullable = true)\n",
      " |-- previous: integer (nullable = true)\n",
      " |-- poutcome: string (nullable = true)\n",
      " |-- deposit: string (nullable = true)\n",
      "\n"
     ]
    }
   ],
   "source": [
    "df.printSchema()"
   ]
  },
  {
   "cell_type": "code",
   "execution_count": 5,
   "metadata": {},
   "outputs": [
    {
     "data": {
      "text/html": [
       "<div>\n",
       "<style scoped>\n",
       "    .dataframe tbody tr th:only-of-type {\n",
       "        vertical-align: middle;\n",
       "    }\n",
       "\n",
       "    .dataframe tbody tr th {\n",
       "        vertical-align: top;\n",
       "    }\n",
       "\n",
       "    .dataframe thead th {\n",
       "        text-align: right;\n",
       "    }\n",
       "</style>\n",
       "<table border=\"1\" class=\"dataframe\">\n",
       "  <thead>\n",
       "    <tr style=\"text-align: right;\">\n",
       "      <th></th>\n",
       "      <th>age</th>\n",
       "      <th>job</th>\n",
       "      <th>marital</th>\n",
       "      <th>education</th>\n",
       "      <th>default</th>\n",
       "      <th>balance</th>\n",
       "      <th>housing</th>\n",
       "      <th>loan</th>\n",
       "      <th>contact</th>\n",
       "      <th>day</th>\n",
       "      <th>month</th>\n",
       "      <th>duration</th>\n",
       "      <th>campaign</th>\n",
       "      <th>pdays</th>\n",
       "      <th>previous</th>\n",
       "      <th>poutcome</th>\n",
       "      <th>deposit</th>\n",
       "    </tr>\n",
       "  </thead>\n",
       "  <tbody>\n",
       "    <tr>\n",
       "      <th>0</th>\n",
       "      <td>59</td>\n",
       "      <td>admin.</td>\n",
       "      <td>married</td>\n",
       "      <td>secondary</td>\n",
       "      <td>no</td>\n",
       "      <td>2343</td>\n",
       "      <td>yes</td>\n",
       "      <td>no</td>\n",
       "      <td>unknown</td>\n",
       "      <td>5</td>\n",
       "      <td>may</td>\n",
       "      <td>1042</td>\n",
       "      <td>1</td>\n",
       "      <td>-1</td>\n",
       "      <td>0</td>\n",
       "      <td>unknown</td>\n",
       "      <td>yes</td>\n",
       "    </tr>\n",
       "    <tr>\n",
       "      <th>1</th>\n",
       "      <td>56</td>\n",
       "      <td>admin.</td>\n",
       "      <td>married</td>\n",
       "      <td>secondary</td>\n",
       "      <td>no</td>\n",
       "      <td>45</td>\n",
       "      <td>no</td>\n",
       "      <td>no</td>\n",
       "      <td>unknown</td>\n",
       "      <td>5</td>\n",
       "      <td>may</td>\n",
       "      <td>1467</td>\n",
       "      <td>1</td>\n",
       "      <td>-1</td>\n",
       "      <td>0</td>\n",
       "      <td>unknown</td>\n",
       "      <td>yes</td>\n",
       "    </tr>\n",
       "    <tr>\n",
       "      <th>2</th>\n",
       "      <td>41</td>\n",
       "      <td>technician</td>\n",
       "      <td>married</td>\n",
       "      <td>secondary</td>\n",
       "      <td>no</td>\n",
       "      <td>1270</td>\n",
       "      <td>yes</td>\n",
       "      <td>no</td>\n",
       "      <td>unknown</td>\n",
       "      <td>5</td>\n",
       "      <td>may</td>\n",
       "      <td>1389</td>\n",
       "      <td>1</td>\n",
       "      <td>-1</td>\n",
       "      <td>0</td>\n",
       "      <td>unknown</td>\n",
       "      <td>yes</td>\n",
       "    </tr>\n",
       "    <tr>\n",
       "      <th>3</th>\n",
       "      <td>55</td>\n",
       "      <td>services</td>\n",
       "      <td>married</td>\n",
       "      <td>secondary</td>\n",
       "      <td>no</td>\n",
       "      <td>2476</td>\n",
       "      <td>yes</td>\n",
       "      <td>no</td>\n",
       "      <td>unknown</td>\n",
       "      <td>5</td>\n",
       "      <td>may</td>\n",
       "      <td>579</td>\n",
       "      <td>1</td>\n",
       "      <td>-1</td>\n",
       "      <td>0</td>\n",
       "      <td>unknown</td>\n",
       "      <td>yes</td>\n",
       "    </tr>\n",
       "    <tr>\n",
       "      <th>4</th>\n",
       "      <td>54</td>\n",
       "      <td>admin.</td>\n",
       "      <td>married</td>\n",
       "      <td>tertiary</td>\n",
       "      <td>no</td>\n",
       "      <td>184</td>\n",
       "      <td>no</td>\n",
       "      <td>no</td>\n",
       "      <td>unknown</td>\n",
       "      <td>5</td>\n",
       "      <td>may</td>\n",
       "      <td>673</td>\n",
       "      <td>2</td>\n",
       "      <td>-1</td>\n",
       "      <td>0</td>\n",
       "      <td>unknown</td>\n",
       "      <td>yes</td>\n",
       "    </tr>\n",
       "  </tbody>\n",
       "</table>\n",
       "</div>"
      ],
      "text/plain": [
       "   age         job  marital  education default  balance housing loan  contact  \\\n",
       "0   59      admin.  married  secondary      no     2343     yes   no  unknown   \n",
       "1   56      admin.  married  secondary      no       45      no   no  unknown   \n",
       "2   41  technician  married  secondary      no     1270     yes   no  unknown   \n",
       "3   55    services  married  secondary      no     2476     yes   no  unknown   \n",
       "4   54      admin.  married   tertiary      no      184      no   no  unknown   \n",
       "\n",
       "   day month  duration  campaign  pdays  previous poutcome deposit  \n",
       "0    5   may      1042         1     -1         0  unknown     yes  \n",
       "1    5   may      1467         1     -1         0  unknown     yes  \n",
       "2    5   may      1389         1     -1         0  unknown     yes  \n",
       "3    5   may       579         1     -1         0  unknown     yes  \n",
       "4    5   may       673         2     -1         0  unknown     yes  "
      ]
     },
     "execution_count": 5,
     "metadata": {},
     "output_type": "execute_result"
    }
   ],
   "source": [
    "pd.DataFrame(df.take(5), columns=df.columns)"
   ]
  },
  {
   "cell_type": "code",
   "execution_count": 6,
   "metadata": {},
   "outputs": [
    {
     "name": "stdout",
     "output_type": "stream",
     "text": [
      "+-------+-----+\n",
      "|deposit|count|\n",
      "+-------+-----+\n",
      "|     no| 5873|\n",
      "|    yes| 5289|\n",
      "+-------+-----+\n",
      "\n"
     ]
    }
   ],
   "source": [
    "df.groupBy('deposit').count().show()"
   ]
  },
  {
   "cell_type": "code",
   "execution_count": 7,
   "metadata": {},
   "outputs": [
    {
     "name": "stdout",
     "output_type": "stream",
     "text": [
      "root\n",
      " |-- age: integer (nullable = true)\n",
      " |-- job: string (nullable = true)\n",
      " |-- marital: string (nullable = true)\n",
      " |-- education: string (nullable = true)\n",
      " |-- default: string (nullable = true)\n",
      " |-- balance: integer (nullable = true)\n",
      " |-- housing: string (nullable = true)\n",
      " |-- loan: string (nullable = true)\n",
      " |-- contact: string (nullable = true)\n",
      " |-- duration: integer (nullable = true)\n",
      " |-- campaign: integer (nullable = true)\n",
      " |-- pdays: integer (nullable = true)\n",
      " |-- previous: integer (nullable = true)\n",
      " |-- poutcome: string (nullable = true)\n",
      " |-- deposit: string (nullable = true)\n",
      "\n"
     ]
    }
   ],
   "source": [
    "df = df.drop('day', 'month')\n",
    "cols = df.columns\n",
    "df.printSchema()"
   ]
  },
  {
   "cell_type": "code",
   "execution_count": 8,
   "metadata": {},
   "outputs": [],
   "source": [
    "# Preparing Data for Machine Learning: ___________________________\n",
    "\n",
    "from pyspark.ml.feature import OneHotEncoder, StringIndexer, VectorAssembler\n",
    "\n",
    "# One-Hot-Encoding of Categorical features:\n",
    "categoricalColumns = ['job', 'marital', 'education', 'default', 'housing', 'loan', 'contact', 'poutcome']\n",
    "stages = []\n",
    "\n",
    "for categoricalCol in categoricalColumns:\n",
    "    \n",
    "    stringIndexer = StringIndexer(inputCol = categoricalCol, outputCol = categoricalCol + '_Index')\n",
    "    encoder = OneHotEncoder(inputCol=stringIndexer.getOutputCol(), outputCol=categoricalCol + \"_classVec\")\n",
    "    stages += [stringIndexer, encoder]\n",
    "\n",
    "label_stringIdx = StringIndexer(inputCol = 'deposit', outputCol = 'label')\n",
    "\n",
    "stages += [label_stringIdx]\n",
    "\n",
    "# Continuous features: \n",
    "numericCols = ['age', 'balance', 'duration', 'campaign', 'pdays', 'previous']\n",
    "\n",
    "# Vector assembling:\n",
    "assemblerInputs = [c + \"_classVec\" for c in categoricalColumns] + numericCols\n",
    "assembler = VectorAssembler(inputCols=assemblerInputs, outputCol=\"features\")\n",
    "stages += [assembler]"
   ]
  },
  {
   "cell_type": "code",
   "execution_count": 9,
   "metadata": {},
   "outputs": [
    {
     "name": "stdout",
     "output_type": "stream",
     "text": [
      "root\n",
      " |-- label: double (nullable = true)\n",
      " |-- features: vector (nullable = true)\n",
      " |-- age: integer (nullable = true)\n",
      " |-- job: string (nullable = true)\n",
      " |-- marital: string (nullable = true)\n",
      " |-- education: string (nullable = true)\n",
      " |-- default: string (nullable = true)\n",
      " |-- balance: integer (nullable = true)\n",
      " |-- housing: string (nullable = true)\n",
      " |-- loan: string (nullable = true)\n",
      " |-- contact: string (nullable = true)\n",
      " |-- duration: integer (nullable = true)\n",
      " |-- campaign: integer (nullable = true)\n",
      " |-- pdays: integer (nullable = true)\n",
      " |-- previous: integer (nullable = true)\n",
      " |-- poutcome: string (nullable = true)\n",
      " |-- deposit: string (nullable = true)\n",
      "\n"
     ]
    }
   ],
   "source": [
    "# Pipeline: ___________________________________\n",
    "from pyspark.ml import Pipeline\n",
    "\n",
    "pipeline = Pipeline(stages = stages)\n",
    "pipelineModel = pipeline.fit(df)\n",
    "df_piped = pipelineModel.transform(df)\n",
    "\n",
    "selectedCols = ['label', 'features'] + cols\n",
    "df_piped = df_piped.select(selectedCols)\n",
    "df_piped.printSchema()"
   ]
  },
  {
   "cell_type": "code",
   "execution_count": 10,
   "metadata": {},
   "outputs": [
    {
     "name": "stdout",
     "output_type": "stream",
     "text": [
      "Training Dataset Count: 7827\n",
      "Test Dataset Count: 3335\n"
     ]
    }
   ],
   "source": [
    "train, test = df_piped.randomSplit([0.7, 0.3], seed = 42)\n",
    "print(\"Training Dataset Count: \" + str(train.count()))\n",
    "print(\"Test Dataset Count: \" + str(test.count()))"
   ]
  },
  {
   "cell_type": "markdown",
   "metadata": {},
   "source": [
    "# 1) Logistic Regression Model: "
   ]
  },
  {
   "cell_type": "code",
   "execution_count": 11,
   "metadata": {},
   "outputs": [],
   "source": [
    "from pyspark.ml.classification import LogisticRegression\n",
    "lr = LogisticRegression(featuresCol = 'features', labelCol = 'label', maxIter=10)\n",
    "\n",
    "# creating the Evaluator: \n",
    "from  pyspark.ml import evaluation \n",
    "\n",
    "evaluator=evaluation.BinaryClassificationEvaluator(metricName=\"areaUnderROC\")\n",
    "\n",
    "# creating the Grid of Parameters: \n",
    "from pyspark.ml import tuning\n",
    "\n",
    "grid=tuning.ParamGridBuilder()\n",
    "grid=grid.addGrid(lr.regParam, [0, 0.1, 1, 10, 100])\n",
    "grid=grid.addGrid(lr.elasticNetParam, [0, 0.1, 1])\n",
    "grid=grid.build()\n",
    "\n",
    "# making the Validator:\n",
    "cv=tuning.CrossValidator(estimator=lr,\n",
    "                         estimatorParamMaps=grid,\n",
    "                         evaluator=evaluator,\n",
    "                         numFolds=3,\n",
    "                         seed=42)"
   ]
  },
  {
   "cell_type": "code",
   "execution_count": 12,
   "metadata": {},
   "outputs": [
    {
     "name": "stdout",
     "output_type": "stream",
     "text": [
      "Best hyper-parameters:  {'regParam': 0.0, 'elasticNetParam': 0.0}\n"
     ]
    }
   ],
   "source": [
    "# fit the model:\n",
    "models=cv.fit(train)\n",
    "best_lr=models.bestModel\n",
    "\n",
    "# Best hyper-parameters: \n",
    "java_model = best_lr._java_obj\n",
    "print(\"Best hyper-parameters: \",  {param.name: java_model.getOrDefault(java_model.getParam(param.name)) \n",
    "                                                                                 for param in grid[0]})"
   ]
  },
  {
   "cell_type": "code",
   "execution_count": 13,
   "metadata": {},
   "outputs": [
    {
     "name": "stdout",
     "output_type": "stream",
     "text": [
      "+-----+--------------------+--------------------+----------+\n",
      "|label|       rawPrediction|         probability|prediction|\n",
      "+-----+--------------------+--------------------+----------+\n",
      "|  0.0|[0.25295905421680...|[0.56290469047491...|       0.0|\n",
      "|  0.0|[2.00330981424455...|[0.88114414948791...|       0.0|\n",
      "|  0.0|[1.09310344940380...|[0.74896567076532...|       0.0|\n",
      "|  0.0|[0.22763160968371...|[0.55666344002016...|       0.0|\n",
      "|  0.0|[2.73828748035356...|[0.93924845242235...|       0.0|\n",
      "+-----+--------------------+--------------------+----------+\n",
      "only showing top 5 rows\n",
      "\n"
     ]
    }
   ],
   "source": [
    "# Prediction on test dataset:\n",
    "test_predictions = best_lr.transform(test)\n",
    "test_predictions.select('label', 'rawPrediction', 'probability', 'prediction').show(5)"
   ]
  },
  {
   "cell_type": "code",
   "execution_count": 14,
   "metadata": {},
   "outputs": [
    {
     "name": "stdout",
     "output_type": "stream",
     "text": [
      "Training roc_auc score:  0.89\n",
      "Validation roc_auc score:  0.88 \n",
      "\n",
      "Training average precision:  0.85\n",
      "Validation average precision:  0.86 \n",
      "\n",
      "Training f1 score:  0.8\n",
      "Validation f1 score:  0.8\n"
     ]
    }
   ],
   "source": [
    "from pyspark.ml.evaluation import BinaryClassificationEvaluator, MulticlassClassificationEvaluator\n",
    "print('Training roc_auc score: ', round(best_lr.summary.areaUnderROC, 2))\n",
    "print('Validation roc_auc score: ', round(best_lr.evaluate(test).areaUnderROC,2), '\\n')\n",
    "\n",
    "print('Training average precision: ', round(evaluator.evaluate(best_lr.transform(train), {evaluator.metricName: 'areaUnderPR'}), 2))\n",
    "print('Validation average precision: ', round(evaluator.evaluate(best_lr.transform(test), {evaluator.metricName: 'areaUnderPR'}), 2), '\\n')\n",
    "\n",
    "my_eval= MulticlassClassificationEvaluator(metricName='f1')\n",
    "print('Training f1 score: ', round(my_eval.evaluate(best_lr.transform(train)),2))\n",
    "print('Validation f1 score: ', round(my_eval.evaluate(best_lr.transform(test)),2))"
   ]
  },
  {
   "cell_type": "code",
   "execution_count": 15,
   "metadata": {},
   "outputs": [
    {
     "name": "stdout",
     "output_type": "stream",
     "text": [
      "Confusion matrix, without normalization\n",
      "[[1457  271]\n",
      " [ 385 1222]]\n",
      "Normalized confusion matrix\n",
      "[[0.84 0.16]\n",
      " [0.24 0.76]]\n"
     ]
    },
    {
     "data": {
      "image/png": "[encoded data removed]",
      "text/plain": [
       "<Figure size 432x288 with 2 Axes>"
      ]
     },
     "metadata": {},
     "output_type": "display_data"
    }
   ],
   "source": [
    "# Plot a confusion matrix:\n",
    "# cm is the confusion matrix, names are the names of the classes.\n",
    "def plot_confusion_matrix(cm, names, title='Confusion matrix', cmap=plt.cm.Blues):\n",
    "    plt.imshow(cm, interpolation='nearest', cmap=cmap)\n",
    "    plt.title(title)\n",
    "    plt.colorbar()\n",
    "    tick_marks = np.arange(len(names))\n",
    "    plt.xticks(tick_marks, names, rotation=45)\n",
    "    plt.yticks(tick_marks, names)\n",
    "    plt.tight_layout()\n",
    "    plt.ylabel('True label')\n",
    "    plt.xlabel('Predicted label')\n",
    "\n",
    "class_names=[\"0\", \"1\"]\n",
    "    \n",
    "# Compute confusion matrix:\n",
    "from sklearn.metrics import confusion_matrix\n",
    "y_test=test.select('label')\n",
    "y_pred=test_predictions.select('prediction')\n",
    "\n",
    "y_test = y_test.toPandas()\n",
    "y_pred = y_pred.toPandas()\n",
    "\n",
    "cm = confusion_matrix(y_test, y_pred)\n",
    "\n",
    "np.set_printoptions(precision=2)\n",
    "print('Confusion matrix, without normalization')\n",
    "print(cm)\n",
    "\n",
    "# Normalize the confusion matrix by row (i.e by the number of samples in each class)\n",
    "cm_normalized = cm.astype('float') / cm.sum(axis=1)[:, np.newaxis]\n",
    "print('Normalized confusion matrix')\n",
    "print(cm_normalized)\n",
    "plt.figure()\n",
    "plot_confusion_matrix(cm_normalized, class_names, title='Normalized confusion matrix')\n",
    "\n",
    "plt.show()"
   ]
  },
  {
   "cell_type": "code",
   "execution_count": 16,
   "metadata": {},
   "outputs": [
    {
     "data": {
      "image/png": "[encoded data removed]",
      "text/plain": [
       "<Figure size 576x432 with 1 Axes>"
      ]
     },
     "metadata": {},
     "output_type": "display_data"
    }
   ],
   "source": [
    "# ROC curve:______________________________________\n",
    "validation_accuracy=best_lr.evaluate(test)\n",
    "roc=validation_accuracy.roc.toPandas()\n",
    "roc_auc=validation_accuracy.areaUnderROC\n",
    "\n",
    "fig, ax = plt.subplots(figsize=(8,6)) \n",
    "\n",
    "plt.step(roc['FPR'],roc['TPR'], color='darkorange', lw=2, label='Validation ROC curve (auc = %0.2f)' % roc_auc)\n",
    "plt.plot([0, 1], [0, 1], color='navy', alpha=0.4, lw=2, linestyle='--')\n",
    "\n",
    "plt.xlim([0.0, 1])\n",
    "plt.ylim([0.0, 1.02])\n",
    "plt.xlabel('FPR')\n",
    "plt.ylabel('TPR')\n",
    "plt.title('ROC Curve')\n",
    "plt.legend(loc=\"lower right\")\n",
    "\n",
    "recall=validation_accuracy.recallByThreshold.toPandas()\n",
    "recall=recall[np.round(recall['threshold'], 2)==0.5]['recall']\n",
    "roc=validation_accuracy.roc.toPandas().iloc[recall.index[0]+1]\n",
    "plt.plot(roc[0], roc[1], 'or')\n",
    "\n",
    "plt.show()"
   ]
  },
  {
   "cell_type": "code",
   "execution_count": 17,
   "metadata": {},
   "outputs": [
    {
     "data": {
      "image/png": "[encoded data removed]",
      "text/plain": [
       "<Figure size 576x432 with 1 Axes>"
      ]
     },
     "metadata": {},
     "output_type": "display_data"
    }
   ],
   "source": [
    "# Precision-Recall curve: ____________________________________________\n",
    "validation_accuracy=best_lr.evaluate(test)\n",
    "pr_test=validation_accuracy.pr.toPandas()\n",
    "\n",
    "from pyspark.ml.evaluation import BinaryClassificationEvaluator\n",
    "my_eval=BinaryClassificationEvaluator(metricName='areaUnderPR')\n",
    "apr_test=my_eval.evaluate(best_lr.transform(test))\n",
    "\n",
    "fig, ax = plt.subplots(figsize=(8,6)) \n",
    "\n",
    "plt.step(pr_test['recall'],pr_test['precision'], color='darkblue', lw=2, label='Validation (Ave. Precision = %0.2f)' % apr_test)\n",
    "\n",
    "plt.xlim([0, 1.01])\n",
    "plt.ylabel('Precision')\n",
    "plt.xlabel('Recall')\n",
    "plt.title('Precision-Recall Curve')\n",
    "plt.legend(loc=\"lower left\")\n",
    "\n",
    "p_test=validation_accuracy.precisionByThreshold.toPandas()\n",
    "r_test=validation_accuracy.recallByThreshold.toPandas()\n",
    "p_test=p_test[np.round(p_test['threshold'], 2)==0.5]['precision']\n",
    "r_test=r_test[np.round(r_test['threshold'], 2)==0.5]['recall']\n",
    "plt.plot(r_test, p_test, 'ob')\n",
    "\n",
    "plt.show()"
   ]
  },
  {
   "cell_type": "markdown",
   "metadata": {},
   "source": [
    "# 2) Random Forest Model: "
   ]
  },
  {
   "cell_type": "code",
   "execution_count": 18,
   "metadata": {},
   "outputs": [],
   "source": [
    "from pyspark.ml.classification import RandomForestClassifier\n",
    "rf = RandomForestClassifier(featuresCol = 'features', labelCol = 'label')\n",
    "\n",
    "# creating the Evaluator: \n",
    "from  pyspark.ml import evaluation \n",
    "\n",
    "evaluator=evaluation.BinaryClassificationEvaluator(metricName=\"areaUnderROC\")\n",
    "\n",
    "# creating the Grid of Parameters: \n",
    "from pyspark.ml import tuning\n",
    "\n",
    "grid=tuning.ParamGridBuilder()\n",
    "grid=grid.addGrid(rf.maxDepth, [6])\n",
    "grid=grid.addGrid(rf.numTrees, [50])\n",
    "grid=grid.addGrid(rf.maxBins, [4, 8])\n",
    "\n",
    "grid=grid.build()\n",
    "\n",
    "# making the Validator:\n",
    "cv=tuning.CrossValidator(estimator=rf,\n",
    "                         estimatorParamMaps=grid,\n",
    "                         evaluator=evaluator,\n",
    "                         numFolds=3,\n",
    "                         seed=42)"
   ]
  },
  {
   "cell_type": "code",
   "execution_count": 19,
   "metadata": {},
   "outputs": [
    {
     "name": "stdout",
     "output_type": "stream",
     "text": [
      "Best hyper-parameters:  {'maxDepth': 6, 'maxBins': 8, 'numTrees': 50}\n"
     ]
    }
   ],
   "source": [
    "# fit the model:\n",
    "models=cv.fit(train)\n",
    "best_rf=models.bestModel\n",
    "\n",
    "# Best hyper-parameters: \n",
    "java_model = best_rf._java_obj\n",
    "print(\"Best hyper-parameters: \",  {param.name: java_model.getOrDefault(java_model.getParam(param.name)) \n",
    "                                                                                 for param in grid[0]})"
   ]
  },
  {
   "cell_type": "code",
   "execution_count": 20,
   "metadata": {},
   "outputs": [
    {
     "name": "stdout",
     "output_type": "stream",
     "text": [
      "+-----+--------------------+--------------------+----------+\n",
      "|label|       rawPrediction|         probability|prediction|\n",
      "+-----+--------------------+--------------------+----------+\n",
      "|  0.0|[27.2994448883136...|[0.54598889776627...|       0.0|\n",
      "|  0.0|[28.9099476649431...|[0.57819895329886...|       0.0|\n",
      "|  0.0|[35.7351552374171...|[0.71470310474834...|       0.0|\n",
      "|  0.0|[25.8870462957745...|[0.51774092591549...|       0.0|\n",
      "|  0.0|[39.1562493946171...|[0.78312498789234...|       0.0|\n",
      "+-----+--------------------+--------------------+----------+\n",
      "only showing top 5 rows\n",
      "\n"
     ]
    }
   ],
   "source": [
    "# Prediction on test dataset:\n",
    "test_predictions = best_rf.transform(test)\n",
    "test_predictions.select('label', 'rawPrediction', 'probability', 'prediction').show(5)"
   ]
  },
  {
   "cell_type": "code",
   "execution_count": 21,
   "metadata": {},
   "outputs": [
    {
     "name": "stdout",
     "output_type": "stream",
     "text": [
      "Training roc_auc score:  0.9\n",
      "Validation roc_auc score:  0.89 \n",
      "\n",
      "Training average precision:  0.88\n",
      "Validation average precision:  0.86 \n",
      "\n",
      "Training f1 score:  0.82\n",
      "Validation f1 score:  0.82\n"
     ]
    }
   ],
   "source": [
    "from pyspark.ml.evaluation import BinaryClassificationEvaluator, MulticlassClassificationEvaluator\n",
    "\n",
    "my_eval= BinaryClassificationEvaluator(metricName='areaUnderROC')\n",
    "print('Training roc_auc score: ', round(my_eval.evaluate(best_rf.transform(train)),2))\n",
    "print('Validation roc_auc score: ', round(my_eval.evaluate(best_rf.transform(test)),2), '\\n')\n",
    "\n",
    "print('Training average precision: ', round(evaluator.evaluate(best_rf.transform(train), {evaluator.metricName: 'areaUnderPR'}), 2))\n",
    "print('Validation average precision: ', round(evaluator.evaluate(best_rf.transform(test), {evaluator.metricName: 'areaUnderPR'}), 2), '\\n')\n",
    "\n",
    "my_eval= MulticlassClassificationEvaluator(metricName='f1')\n",
    "print('Training f1 score: ', round(my_eval.evaluate(best_rf.transform(train)),2))\n",
    "print('Validation f1 score: ', round(my_eval.evaluate(best_rf.transform(test)),2))"
   ]
  },
  {
   "cell_type": "code",
   "execution_count": 22,
   "metadata": {},
   "outputs": [
    {
     "name": "stdout",
     "output_type": "stream",
     "text": [
      "Confusion matrix, without normalization\n",
      "[[1408  320]\n",
      " [ 282 1325]]\n",
      "Normalized confusion matrix\n",
      "[[0.81 0.19]\n",
      " [0.18 0.82]]\n"
     ]
    },
    {
     "data": {
      "image/png": "[encoded data removed]",
      "text/plain": [
       "<Figure size 432x288 with 2 Axes>"
      ]
     },
     "metadata": {},
     "output_type": "display_data"
    }
   ],
   "source": [
    "# Plot a confusion matrix:\n",
    "# cm is the confusion matrix, names are the names of the classes.\n",
    "\n",
    "class_names=[\"0\", \"1\"]\n",
    "    \n",
    "# Compute confusion matrix:\n",
    "from sklearn.metrics import confusion_matrix\n",
    "y_test=test.select('label')\n",
    "y_pred=test_predictions.select('prediction')\n",
    "\n",
    "y_test = y_test.toPandas()\n",
    "y_pred = y_pred.toPandas()\n",
    "\n",
    "cm = confusion_matrix(y_test, y_pred)\n",
    "\n",
    "np.set_printoptions(precision=2)\n",
    "print('Confusion matrix, without normalization')\n",
    "print(cm)\n",
    "\n",
    "\n",
    "# Normalize the confusion matrix by row (i.e by the number of samples in each class)\n",
    "cm_normalized = cm.astype('float') / cm.sum(axis=1)[:, np.newaxis]\n",
    "print('Normalized confusion matrix')\n",
    "print(cm_normalized)\n",
    "plt.figure()\n",
    "plot_confusion_matrix(cm_normalized, class_names, title='Normalized confusion matrix')\n",
    "\n",
    "plt.show()"
   ]
  },
  {
   "cell_type": "code",
   "execution_count": 23,
   "metadata": {},
   "outputs": [
    {
     "data": {
      "image/png": "[encoded data removed]",
      "text/plain": [
       "<Figure size 576x432 with 1 Axes>"
      ]
     },
     "metadata": {},
     "output_type": "display_data"
    }
   ],
   "source": [
    "# ROC curve:______________________________________\n",
    "prediction = best_rf.transform(test)\n",
    "results= prediction.select(['probability', 'label']).collect()\n",
    "results = [(i[0][0], 1.0-i[1]) for i in results]\n",
    "\n",
    "from sklearn.metrics import roc_curve, auc\n",
    " \n",
    "fpr= dict()\n",
    "tpr = dict()\n",
    "roc_auc = dict()\n",
    " \n",
    "y_test = [i[1] for i in results]\n",
    "y_score = [i[0] for i in results]\n",
    " \n",
    "fpr, tpr, threshold = roc_curve(y_test, y_score)\n",
    "roc_auc = auc(fpr, tpr)\n",
    "\n",
    "fig, ax = plt.subplots(figsize=(8,6)) \n",
    "\n",
    "plt.step(fpr, tpr, color='darkorange', lw=2, label='Validation ROC curve (auc = %0.2f)' % roc_auc)\n",
    "plt.plot([0, 1], [0, 1], color='navy', alpha=0.4, lw=2, linestyle='--')\n",
    "\n",
    "plt.xlim([0.0, 1])\n",
    "plt.ylim([0.0, 1.02])\n",
    "plt.xlabel('FPR')\n",
    "plt.ylabel('TPR')\n",
    "plt.title('ROC Curve')\n",
    "plt.legend(loc=\"lower right\")\n",
    "\n",
    "\n",
    "plt.show()"
   ]
  },
  {
   "cell_type": "code",
   "execution_count": 24,
   "metadata": {},
   "outputs": [
    {
     "data": {
      "image/png": "[encoded data removed]",
      "text/plain": [
       "<Figure size 1152x432 with 1 Axes>"
      ]
     },
     "metadata": {},
     "output_type": "display_data"
    }
   ],
   "source": [
    "# Feature Importance: \n",
    "im=best_rf.featureImportances\n",
    "\n",
    "# Plot:\n",
    "c1=pd.DataFrame(im.toArray(),  columns=[\"Importance\"])\n",
    "c2=pd.DataFrame(np.arange(im.toArray().shape[0]), columns=[\"Features\"])\n",
    "\n",
    "fig, ax = plt.subplots(figsize=(16, 6)) \n",
    "sns.barplot(x=\"Features\", y=\"Importance\", data=pd.concat([c2,c1], axis=1), color=\"blue\", ax=ax)\n",
    "\n",
    "plt.show()"
   ]
  },
  {
   "cell_type": "markdown",
   "metadata": {},
   "source": [
    "# 3) Gradient-Boosted Trees:"
   ]
  },
  {
   "cell_type": "code",
   "execution_count": 25,
   "metadata": {},
   "outputs": [],
   "source": [
    "from pyspark.ml.classification import GBTClassifier\n",
    "gb = GBTClassifier(featuresCol = 'features', labelCol = 'label')\n",
    "\n",
    "# creating the Evaluator: \n",
    "from  pyspark.ml import evaluation \n",
    "\n",
    "evaluator=evaluation.MulticlassClassificationEvaluator(metricName='f1')\n",
    "\n",
    "# creating the Grid of Parameters: \n",
    "from pyspark.ml import tuning\n",
    "\n",
    "grid=tuning.ParamGridBuilder()\n",
    "\n",
    "grid=grid.addGrid(gb.maxDepth, [2, 4, 6])\n",
    "grid=grid.addGrid(gb.maxIter, [10, 20])\n",
    "grid=grid.addGrid(gb.maxBins, [24, 64])\n",
    "\n",
    "grid=grid.build()\n",
    "\n",
    "# making the Validator:\n",
    "cv=tuning.CrossValidator(estimator=gb,\n",
    "                         estimatorParamMaps=grid,\n",
    "                         evaluator=evaluator,\n",
    "                         numFolds=3,\n",
    "                         seed=42)"
   ]
  },
  {
   "cell_type": "code",
   "execution_count": 26,
   "metadata": {},
   "outputs": [
    {
     "name": "stdout",
     "output_type": "stream",
     "text": [
      "Best hyper-parameters:  {'maxIter': 20, 'maxBins': 64, 'maxDepth': 4}\n"
     ]
    }
   ],
   "source": [
    "# fit the model:\n",
    "models=cv.fit(train)\n",
    "best_gb=models.bestModel\n",
    "\n",
    "# Best hyper-parameters: \n",
    "java_model = best_gb._java_obj\n",
    "print(\"Best hyper-parameters: \",  {param.name: java_model.getOrDefault(java_model.getParam(param.name)) \n",
    "                                                                                 for param in grid[0]})"
   ]
  },
  {
   "cell_type": "code",
   "execution_count": 27,
   "metadata": {},
   "outputs": [
    {
     "name": "stdout",
     "output_type": "stream",
     "text": [
      "Training f1 score:   0.83\n",
      "Validation f1 score:   0.82\n"
     ]
    }
   ],
   "source": [
    "print(\"Training f1 score:  \", round(evaluator.evaluate(best_gb.transform(train)),2))\n",
    "print(\"Validation f1 score:  \", round(evaluator.evaluate(best_gb.transform(test)),2))"
   ]
  },
  {
   "cell_type": "code",
   "execution_count": 28,
   "metadata": {},
   "outputs": [
    {
     "name": "stdout",
     "output_type": "stream",
     "text": [
      "+-----+----------+\n",
      "|label|prediction|\n",
      "+-----+----------+\n",
      "|  0.0|       0.0|\n",
      "|  0.0|       0.0|\n",
      "|  0.0|       0.0|\n",
      "|  0.0|       1.0|\n",
      "|  0.0|       0.0|\n",
      "+-----+----------+\n",
      "only showing top 5 rows\n",
      "\n"
     ]
    }
   ],
   "source": [
    "# Prediction on test dataset:\n",
    "test_predictions = best_gb.transform(test)\n",
    "test_predictions.select('label', 'prediction').show(5)"
   ]
  },
  {
   "cell_type": "code",
   "execution_count": 29,
   "metadata": {},
   "outputs": [
    {
     "name": "stdout",
     "output_type": "stream",
     "text": [
      "Confusion matrix, without normalization\n",
      "[[1426  302]\n",
      " [ 291 1316]]\n",
      "Normalized confusion matrix\n",
      "[[0.83 0.17]\n",
      " [0.18 0.82]]\n"
     ]
    },
    {
     "data": {
      "image/png": "[encoded data removed]",
      "text/plain": [
       "<Figure size 432x288 with 2 Axes>"
      ]
     },
     "metadata": {},
     "output_type": "display_data"
    }
   ],
   "source": [
    "# Plot a confusion matrix:\n",
    "\n",
    "class_names=[\"0\", \"1\"]\n",
    "    \n",
    "# Compute confusion matrix:\n",
    "from sklearn.metrics import confusion_matrix\n",
    "y_test=test.select('label')\n",
    "y_pred=test_predictions.select('prediction')\n",
    "\n",
    "y_test = y_test.toPandas()\n",
    "y_pred = y_pred.toPandas()\n",
    "\n",
    "cm = confusion_matrix(y_test, y_pred)\n",
    "\n",
    "np.set_printoptions(precision=2)\n",
    "print('Confusion matrix, without normalization')\n",
    "print(cm)\n",
    "\n",
    "\n",
    "# Normalize the confusion matrix by row (i.e by the number of samples in each class)\n",
    "cm_normalized = cm.astype('float') / cm.sum(axis=1)[:, np.newaxis]\n",
    "print('Normalized confusion matrix')\n",
    "print(cm_normalized)\n",
    "plt.figure()\n",
    "plot_confusion_matrix(cm_normalized, class_names, title='Normalized confusion matrix')\n",
    "\n",
    "plt.show()"
   ]
  },
  {
   "cell_type": "code",
   "execution_count": 31,
   "metadata": {},
   "outputs": [
    {
     "data": {
      "image/png": "[encoded data removed]",
      "text/plain": [
       "<Figure size 1152x432 with 1 Axes>"
      ]
     },
     "metadata": {},
     "output_type": "display_data"
    }
   ],
   "source": [
    "# Feature Importance: \n",
    "im=best_gb.featureImportances\n",
    "\n",
    "# Plot:\n",
    "c1=pd.DataFrame(im.toArray(),  columns=[\"Importance\"])\n",
    "c2=pd.DataFrame(np.arange(im.toArray().shape[0]), columns=[\"Features\"])\n",
    "\n",
    "fig, ax = plt.subplots(figsize=(16, 6)) \n",
    "sns.barplot(x=\"Features\", y=\"Importance\", data=pd.concat([c2,c1], axis=1), color=\"blue\", ax=ax)\n",
    "\n",
    "plt.show()"
   ]
  },
  {
   "cell_type": "code",
   "execution_count": null,
   "metadata": {},
   "outputs": [],
   "source": []
  }
 ],
 "metadata": {
  "kernelspec": {
   "display_name": "Python 3",
   "language": "python",
   "name": "python3"
  },
  "language_info": {
   "codemirror_mode": {
    "name": "ipython",
    "version": 3
   },
   "file_extension": ".py",
   "mimetype": "text/x-python",
   "name": "python",
   "nbconvert_exporter": "python",
   "pygments_lexer": "ipython3",
   "version": "3.6.5"
  }
 },
 "nbformat": 4,
 "nbformat_minor": 2
}
