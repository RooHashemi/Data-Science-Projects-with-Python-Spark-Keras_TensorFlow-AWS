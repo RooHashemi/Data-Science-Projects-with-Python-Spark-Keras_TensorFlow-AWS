{
 "cells": [
  {
   "cell_type": "markdown",
   "metadata": {},
   "source": [
    "# Data description & Problem statement: \n",
    "This data set is collected from recordings of 30 human subjects captured via smartphones enabled with embedded inertial sensors.\n",
    "In this project, we calculate a model by which a smartphone can detect its owner’s activity precisely. For the dataset, 30 people were used to perform 6 different activities. Each of them was wearing a Samsung Galaxy SII on their waist. Using the smartphone’s embedded sensors (the accelerometer and the gyroscope), the user’s speed and acceleration were measured in 3-axial directions. We use the sensor’s data to predict user’s activity.\n",
    "\n",
    "* Dataset is imbalanced. The data has 10299 rows and 561 columns.\n",
    "* This is a Multiclass-classification problem. \n",
    "\n",
    "# Workflow:\n",
    "- Load the dataset, and define the required functions (e.g. for detecting the outliers)\n",
    "- Data Cleaning/Wrangling: Manipulate outliers, missing data or duplicate values, Encode categorical variables, etc.\n",
    "- Split data into training & test parts (utilize the training part for training & hyperparameter tuning of model, and test part for the final evaluation of model)\n",
    "   #  Model Training:\n",
    "- Build an Random Forest model, and evaluate it via C-V approach\n",
    "\n",
    "   # Model Evaluation: \n",
    "- Evaluate the RF model with optimized hyperparameters on Test Dataset, by calculating:\n",
    "     - f1_weighted\n",
    "     - Confusion matrix"
   ]
  },
  {
   "cell_type": "code",
   "execution_count": 1,
   "metadata": {},
   "outputs": [],
   "source": [
    "import sklearn\n",
    "import tensorflow as tf\n",
    "import numpy as np\n",
    "import pandas as pd\n",
    "import matplotlib.pyplot as plt\n",
    "import seaborn as sns\n",
    "from sklearn import preprocessing\n",
    "%matplotlib inline\n",
    "\n",
    "from scipy import stats\n",
    "\n",
    "import warnings\n",
    "warnings.filterwarnings(\"ignore\")"
   ]
  },
  {
   "cell_type": "code",
   "execution_count": 2,
   "metadata": {},
   "outputs": [
    {
     "data": {
      "text/html": [
       "<div>\n",
       "<style scoped>\n",
       "    .dataframe tbody tr th:only-of-type {\n",
       "        vertical-align: middle;\n",
       "    }\n",
       "\n",
       "    .dataframe tbody tr th {\n",
       "        vertical-align: top;\n",
       "    }\n",
       "\n",
       "    .dataframe thead th {\n",
       "        text-align: right;\n",
       "    }\n",
       "</style>\n",
       "<table border=\"1\" class=\"dataframe\">\n",
       "  <thead>\n",
       "    <tr style=\"text-align: right;\">\n",
       "      <th></th>\n",
       "      <th>Label</th>\n",
       "      <th>0</th>\n",
       "      <th>1</th>\n",
       "      <th>2</th>\n",
       "      <th>3</th>\n",
       "      <th>4</th>\n",
       "      <th>5</th>\n",
       "      <th>6</th>\n",
       "      <th>7</th>\n",
       "      <th>8</th>\n",
       "      <th>...</th>\n",
       "      <th>551</th>\n",
       "      <th>552</th>\n",
       "      <th>553</th>\n",
       "      <th>554</th>\n",
       "      <th>555</th>\n",
       "      <th>556</th>\n",
       "      <th>557</th>\n",
       "      <th>558</th>\n",
       "      <th>559</th>\n",
       "      <th>560</th>\n",
       "    </tr>\n",
       "  </thead>\n",
       "  <tbody>\n",
       "    <tr>\n",
       "      <th>0</th>\n",
       "      <td>3</td>\n",
       "      <td>0.283203</td>\n",
       "      <td>-0.047024</td>\n",
       "      <td>-0.168986</td>\n",
       "      <td>0.384949</td>\n",
       "      <td>0.176898</td>\n",
       "      <td>-0.310332</td>\n",
       "      <td>0.381757</td>\n",
       "      <td>0.122611</td>\n",
       "      <td>-0.332984</td>\n",
       "      <td>...</td>\n",
       "      <td>0.454181</td>\n",
       "      <td>-0.730593</td>\n",
       "      <td>-0.932568</td>\n",
       "      <td>-0.034924</td>\n",
       "      <td>0.558036</td>\n",
       "      <td>0.258975</td>\n",
       "      <td>-0.854858</td>\n",
       "      <td>-0.784330</td>\n",
       "      <td>0.222960</td>\n",
       "      <td>-0.066506</td>\n",
       "    </tr>\n",
       "    <tr>\n",
       "      <th>1</th>\n",
       "      <td>3</td>\n",
       "      <td>0.256904</td>\n",
       "      <td>-0.036623</td>\n",
       "      <td>-0.133856</td>\n",
       "      <td>0.201409</td>\n",
       "      <td>-0.154142</td>\n",
       "      <td>0.344183</td>\n",
       "      <td>0.092771</td>\n",
       "      <td>-0.182114</td>\n",
       "      <td>0.291899</td>\n",
       "      <td>...</td>\n",
       "      <td>0.190745</td>\n",
       "      <td>-0.032958</td>\n",
       "      <td>-0.338095</td>\n",
       "      <td>0.017986</td>\n",
       "      <td>-0.475545</td>\n",
       "      <td>0.942947</td>\n",
       "      <td>-0.567147</td>\n",
       "      <td>-0.665156</td>\n",
       "      <td>0.178975</td>\n",
       "      <td>0.243362</td>\n",
       "    </tr>\n",
       "    <tr>\n",
       "      <th>2</th>\n",
       "      <td>1</td>\n",
       "      <td>0.291316</td>\n",
       "      <td>-0.001065</td>\n",
       "      <td>-0.072461</td>\n",
       "      <td>-0.336609</td>\n",
       "      <td>-0.279162</td>\n",
       "      <td>-0.303323</td>\n",
       "      <td>-0.381421</td>\n",
       "      <td>-0.253026</td>\n",
       "      <td>-0.337381</td>\n",
       "      <td>...</td>\n",
       "      <td>0.299767</td>\n",
       "      <td>-0.351997</td>\n",
       "      <td>-0.698254</td>\n",
       "      <td>-0.044663</td>\n",
       "      <td>-0.551806</td>\n",
       "      <td>-0.680774</td>\n",
       "      <td>0.161405</td>\n",
       "      <td>-0.857202</td>\n",
       "      <td>0.192929</td>\n",
       "      <td>0.046716</td>\n",
       "    </tr>\n",
       "  </tbody>\n",
       "</table>\n",
       "<p>3 rows × 562 columns</p>\n",
       "</div>"
      ],
      "text/plain": [
       "   Label         0         1         2         3         4         5  \\\n",
       "0      3  0.283203 -0.047024 -0.168986  0.384949  0.176898 -0.310332   \n",
       "1      3  0.256904 -0.036623 -0.133856  0.201409 -0.154142  0.344183   \n",
       "2      1  0.291316 -0.001065 -0.072461 -0.336609 -0.279162 -0.303323   \n",
       "\n",
       "          6         7         8    ...          551       552       553  \\\n",
       "0  0.381757  0.122611 -0.332984    ...     0.454181 -0.730593 -0.932568   \n",
       "1  0.092771 -0.182114  0.291899    ...     0.190745 -0.032958 -0.338095   \n",
       "2 -0.381421 -0.253026 -0.337381    ...     0.299767 -0.351997 -0.698254   \n",
       "\n",
       "        554       555       556       557       558       559       560  \n",
       "0 -0.034924  0.558036  0.258975 -0.854858 -0.784330  0.222960 -0.066506  \n",
       "1  0.017986 -0.475545  0.942947 -0.567147 -0.665156  0.178975  0.243362  \n",
       "2 -0.044663 -0.551806 -0.680774  0.161405 -0.857202  0.192929  0.046716  \n",
       "\n",
       "[3 rows x 562 columns]"
      ]
     },
     "execution_count": 2,
     "metadata": {},
     "output_type": "execute_result"
    }
   ],
   "source": [
    "df_X=pd.read_csv('C:/Users/rhash/Documents/Datasets/Human activity recognition/UCI HAR Dataset/train/X_train.txt' \n",
    "                                ,delim_whitespace=True, header = None) \n",
    "\n",
    "df_y=pd.read_csv('C:/Users/rhash/Documents/Datasets/Human activity recognition/UCI HAR Dataset/train/y_train.txt' \n",
    "                                ,delim_whitespace=True, header = None, names=['Label']) \n",
    "\n",
    "df = pd.concat([df_y, df_X], axis=1)  \n",
    "\n",
    "# To Shuffle the data:\n",
    "np.random.seed(42)\n",
    "df=df.reindex(np.random.permutation(df.index))\n",
    "df.reset_index(inplace=True, drop=True)\n",
    "\n",
    "df.head(3)"
   ]
  },
  {
   "cell_type": "code",
   "execution_count": null,
   "metadata": {},
   "outputs": [],
   "source": []
  },
  {
   "cell_type": "code",
   "execution_count": 3,
   "metadata": {},
   "outputs": [],
   "source": [
    "X=df.drop('Label', axis=1)\n",
    "y=df['Label']"
   ]
  },
  {
   "cell_type": "code",
   "execution_count": 4,
   "metadata": {},
   "outputs": [],
   "source": [
    "# We initially devide data into training & test folds:\n",
    "from sklearn.model_selection import train_test_split\n",
    "X_train, X_test, y_train, y_test = train_test_split(X, y, test_size=0.25, random_state=42, stratify = y)"
   ]
  },
  {
   "cell_type": "code",
   "execution_count": 5,
   "metadata": {},
   "outputs": [],
   "source": [
    "# Build and fit the RF model:\n",
    "from sklearn.ensemble import RandomForestClassifier\n",
    "\n",
    "RF = RandomForestClassifier(max_features=560, n_estimators=100, max_depth=30,  random_state=42, class_weight='balanced')\n",
    "model = RF.fit(X_train, y_train)"
   ]
  },
  {
   "cell_type": "code",
   "execution_count": 8,
   "metadata": {},
   "outputs": [
    {
     "name": "stdout",
     "output_type": "stream",
     "text": [
      "Confusion matrix, without normalization\n",
      "[[296   5   6   0   0   0]\n",
      " [  2 260   6   0   0   0]\n",
      " [  5   4 237   0   0   0]\n",
      " [  0   0   0 299  23   0]\n",
      " [  0   0   0  18 325   0]\n",
      " [  0   0   0   0   0 352]]\n",
      "Normalized confusion matrix\n",
      "[[0.96 0.02 0.02 0.   0.   0.  ]\n",
      " [0.01 0.97 0.02 0.   0.   0.  ]\n",
      " [0.02 0.02 0.96 0.   0.   0.  ]\n",
      " [0.   0.   0.   0.93 0.07 0.  ]\n",
      " [0.   0.   0.   0.05 0.95 0.  ]\n",
      " [0.   0.   0.   0.   0.   1.  ]]\n"
     ]
    },
    {
     "data": {
      "image/png": "[encoded data removed]",
      "text/plain": [
       "<Figure size 576x576 with 2 Axes>"
      ]
     },
     "metadata": {},
     "output_type": "display_data"
    }
   ],
   "source": [
    "from sklearn.metrics import roc_curve, auc, confusion_matrix, classification_report\n",
    "\n",
    "# Plot a confusion matrix.\n",
    "# cm is the confusion matrix, names are the names of the classes.\n",
    "def plot_confusion_matrix(cm, names, title='Confusion matrix', cmap=plt.cm.Blues):\n",
    "    fig, ax = plt.subplots(1,1,figsize=(8,8))\n",
    "    plt.imshow(cm, interpolation='nearest', cmap=cmap)\n",
    "    plt.title(title)\n",
    "    plt.colorbar()\n",
    "    tick_marks = np.arange(len(names))\n",
    "    plt.xticks(tick_marks, names, rotation=90)\n",
    "    plt.yticks(tick_marks, names)\n",
    "    plt.tight_layout()\n",
    "    plt.ylabel('True label')\n",
    "    plt.xlabel('Predicted label')\n",
    "    plt.show()\n",
    "\n",
    "names = [\"WALKING\", \"WALKING_UPSTAIRS\", \"WALKING_DOWNSTAIRS\", \"SITTING\", \"STANDING\", \"LAYING\"]\n",
    "\n",
    "# Compute confusion matrix\n",
    "cm = confusion_matrix(y_test, model.predict(X_test))\n",
    "np.set_printoptions(precision=2)\n",
    "print('Confusion matrix, without normalization')\n",
    "print(cm)\n",
    "\n",
    "# Normalize the confusion matrix by row (i.e by the number of samples in each class)\n",
    "cm_normalized = cm.astype('float') / cm.sum(axis=1)[:, np.newaxis]\n",
    "print('Normalized confusion matrix')\n",
    "print(cm_normalized)\n",
    "\n",
    "plot_confusion_matrix(cm_normalized, names, title='Normalized confusion matrix')"
   ]
  },
  {
   "cell_type": "code",
   "execution_count": 9,
   "metadata": {},
   "outputs": [
    {
     "name": "stdout",
     "output_type": "stream",
     "text": [
      "             precision    recall  f1-score   support\n",
      "\n",
      "          1       0.98      0.96      0.97       307\n",
      "          2       0.97      0.97      0.97       268\n",
      "          3       0.95      0.96      0.96       246\n",
      "          4       0.94      0.93      0.94       322\n",
      "          5       0.93      0.95      0.94       343\n",
      "          6       1.00      1.00      1.00       352\n",
      "\n",
      "avg / total       0.96      0.96      0.96      1838\n",
      "\n"
     ]
    }
   ],
   "source": [
    "# Classification report:\n",
    "report=classification_report(y_test, model.predict(X_test))\n",
    "print(report)"
   ]
  },
  {
   "cell_type": "code",
   "execution_count": null,
   "metadata": {},
   "outputs": [],
   "source": []
  }
 ],
 "metadata": {
  "kernelspec": {
   "display_name": "Python 3",
   "language": "python",
   "name": "python3"
  },
  "language_info": {
   "codemirror_mode": {
    "name": "ipython",
    "version": 3
   },
   "file_extension": ".py",
   "mimetype": "text/x-python",
   "name": "python",
   "nbconvert_exporter": "python",
   "pygments_lexer": "ipython3",
   "version": "3.6.5"
  }
 },
 "nbformat": 4,
 "nbformat_minor": 2
}
