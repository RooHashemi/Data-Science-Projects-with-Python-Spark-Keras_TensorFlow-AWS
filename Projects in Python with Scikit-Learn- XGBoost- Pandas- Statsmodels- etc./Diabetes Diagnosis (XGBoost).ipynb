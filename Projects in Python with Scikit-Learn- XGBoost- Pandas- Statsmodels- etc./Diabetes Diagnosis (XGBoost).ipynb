{
 "cells": [
  {
   "cell_type": "markdown",
   "metadata": {},
   "source": [
    "# Data description & Problem statement: \n",
    "This dataset is originally from the National Institute of Diabetes and Digestive and Kidney Diseases. The objective of the dataset is to diagnostically predict whether or not a patient has diabetes, based on certain diagnostic measurements included in the dataset. Several constraints were placed on the selection of these instances from a larger database. In particular, all patients here are females at least 21 years old of Pima Indian heritage.\n",
    "\n",
    "The type of dataset and problem is a classic supervised binary classification. Given a number of elements all with certain characteristics (features), we want to build a machine learning model to identify people affected by type 2 diabetes.\n",
    "\n",
    "\n",
    "# Workflow:\n",
    "- Load the dataset, and define the required functions (e.g. for detecting the outliers)\n",
    "- Data Cleaning/Wrangling: Manipulate outliers, missing data or duplicate values, Encode categorical variables, etc.\n",
    "- Split data into training & test parts (utilize the training part for training & hyperparameter tuning of model, and test part for the final evaluation of model)\n",
    "   #  Model Training:\n",
    "- Build an initial XGBoost model, and evaluate it via C-V approach\n",
    "- Use grid-search along with C-V approach to find the best hyperparameters of XGBoost model: Find the best XGBoost model (Note: I've utilized SMOTE technique via imblearn toolbox to synthetically over-sample the minority category and even the dataset imbalances.)\n",
    "   # Model Evaluation: \n",
    "- Evaluate the best XGBoost model with optimized hyperparameters on Test Dataset, by calculating:\n",
    "     - AUC score\n",
    "     - Confusion matrix\n",
    "     - ROC curve  \n",
    "     - Precision-Recall curve \n",
    "     - Average precision\n",
    "     \n",
    "Finally, calculate the Feature Importance. "
   ]
  },
  {
   "cell_type": "code",
   "execution_count": 1,
   "metadata": {},
   "outputs": [],
   "source": [
    "import sklearn\n",
    "import numpy as np\n",
    "import pandas as pd\n",
    "import matplotlib.pyplot as plt\n",
    "import seaborn as sns\n",
    "from sklearn import preprocessing\n",
    "%matplotlib inline\n",
    "\n",
    "from scipy import stats\n",
    "\n",
    "import warnings\n",
    "warnings.filterwarnings(\"ignore\")"
   ]
  },
  {
   "cell_type": "code",
   "execution_count": 2,
   "metadata": {},
   "outputs": [],
   "source": [
    "# Function to remove outliers (all rows) by Z-score: \n",
    "def remove_outliers(X, y, name, thresh=3):\n",
    "    L=[]\n",
    "    for name in name:\n",
    "        drop_rows = X.index[(np.abs(X[name] - X[name].mean()) >= (thresh * X[name].std()))]\n",
    "        L.extend(list(drop_rows))\n",
    "        \n",
    "    X.drop(np.array(list(set(L))), axis=0, inplace=True)\n",
    "    y.drop(np.array(list(set(L))), axis=0, inplace=True)\n",
    "    print('number of outliers removed :  ' , len(L))"
   ]
  },
  {
   "cell_type": "code",
   "execution_count": 3,
   "metadata": {},
   "outputs": [
    {
     "name": "stdout",
     "output_type": "stream",
     "text": [
      "<class 'pandas.core.frame.DataFrame'>\n",
      "RangeIndex: 768 entries, 0 to 767\n",
      "Data columns (total 9 columns):\n",
      "NP       768 non-null int64\n",
      "GC       768 non-null int64\n",
      "BP       768 non-null int64\n",
      "ST       768 non-null int64\n",
      "I        768 non-null int64\n",
      "BMI      768 non-null float64\n",
      "PF       768 non-null float64\n",
      "Age      768 non-null int64\n",
      "Class    768 non-null int64\n",
      "dtypes: float64(2), int64(7)\n",
      "memory usage: 54.1 KB\n"
     ]
    }
   ],
   "source": [
    "df=pd.read_csv('C:/Users/rhash/Documents/Datasets/pima-indian-diabetes/indians-diabetes.csv') \n",
    "\n",
    "df.columns=['NP', 'GC', 'BP', 'ST', 'I',  'BMI', 'PF', 'Age', 'Class']\n",
    "\n",
    "# To Shuffle the data:\n",
    "np.random.seed(42)\n",
    "df=df.reindex(np.random.permutation(df.index))\n",
    "df.reset_index(inplace=True, drop=True)\n",
    "\n",
    "df.info()"
   ]
  },
  {
   "cell_type": "code",
   "execution_count": 4,
   "metadata": {},
   "outputs": [],
   "source": [
    "df['ST'].replace(0, df[df['ST']!=0]['ST'].mean(), inplace=True)\n",
    "df['GC'].replace(0, df[df['GC']!=0]['GC'].mean(), inplace=True)\n",
    "df['BP'].replace(0, df[df['BP']!=0]['BP'].mean(), inplace=True)\n",
    "df['BMI'].replace(0, df[df['BMI']!=0]['BMI'].mean(), inplace=True)\n",
    "df['I'].replace(0, df[df['I']!=0]['I'].mean(), inplace=True)"
   ]
  },
  {
   "cell_type": "code",
   "execution_count": 5,
   "metadata": {},
   "outputs": [
    {
     "data": {
      "text/html": [
       "<div>\n",
       "<style scoped>\n",
       "    .dataframe tbody tr th:only-of-type {\n",
       "        vertical-align: middle;\n",
       "    }\n",
       "\n",
       "    .dataframe tbody tr th {\n",
       "        vertical-align: top;\n",
       "    }\n",
       "\n",
       "    .dataframe thead th {\n",
       "        text-align: right;\n",
       "    }\n",
       "</style>\n",
       "<table border=\"1\" class=\"dataframe\">\n",
       "  <thead>\n",
       "    <tr style=\"text-align: right;\">\n",
       "      <th></th>\n",
       "      <th>NP</th>\n",
       "      <th>GC</th>\n",
       "      <th>BP</th>\n",
       "      <th>ST</th>\n",
       "      <th>I</th>\n",
       "      <th>BMI</th>\n",
       "      <th>PF</th>\n",
       "      <th>Age</th>\n",
       "      <th>Class</th>\n",
       "    </tr>\n",
       "  </thead>\n",
       "  <tbody>\n",
       "    <tr>\n",
       "      <th>0</th>\n",
       "      <td>6</td>\n",
       "      <td>148.0</td>\n",
       "      <td>72.0</td>\n",
       "      <td>35.00000</td>\n",
       "      <td>155.548223</td>\n",
       "      <td>33.6</td>\n",
       "      <td>0.627</td>\n",
       "      <td>50</td>\n",
       "      <td>1</td>\n",
       "    </tr>\n",
       "    <tr>\n",
       "      <th>1</th>\n",
       "      <td>1</td>\n",
       "      <td>85.0</td>\n",
       "      <td>66.0</td>\n",
       "      <td>29.00000</td>\n",
       "      <td>155.548223</td>\n",
       "      <td>26.6</td>\n",
       "      <td>0.351</td>\n",
       "      <td>31</td>\n",
       "      <td>0</td>\n",
       "    </tr>\n",
       "    <tr>\n",
       "      <th>2</th>\n",
       "      <td>8</td>\n",
       "      <td>183.0</td>\n",
       "      <td>64.0</td>\n",
       "      <td>29.15342</td>\n",
       "      <td>155.548223</td>\n",
       "      <td>23.3</td>\n",
       "      <td>0.672</td>\n",
       "      <td>32</td>\n",
       "      <td>1</td>\n",
       "    </tr>\n",
       "    <tr>\n",
       "      <th>3</th>\n",
       "      <td>1</td>\n",
       "      <td>89.0</td>\n",
       "      <td>66.0</td>\n",
       "      <td>23.00000</td>\n",
       "      <td>94.000000</td>\n",
       "      <td>28.1</td>\n",
       "      <td>0.167</td>\n",
       "      <td>21</td>\n",
       "      <td>0</td>\n",
       "    </tr>\n",
       "    <tr>\n",
       "      <th>4</th>\n",
       "      <td>0</td>\n",
       "      <td>137.0</td>\n",
       "      <td>40.0</td>\n",
       "      <td>35.00000</td>\n",
       "      <td>168.000000</td>\n",
       "      <td>43.1</td>\n",
       "      <td>2.288</td>\n",
       "      <td>33</td>\n",
       "      <td>1</td>\n",
       "    </tr>\n",
       "  </tbody>\n",
       "</table>\n",
       "</div>"
      ],
      "text/plain": [
       "   NP     GC    BP        ST           I   BMI     PF  Age  Class\n",
       "0   6  148.0  72.0  35.00000  155.548223  33.6  0.627   50      1\n",
       "1   1   85.0  66.0  29.00000  155.548223  26.6  0.351   31      0\n",
       "2   8  183.0  64.0  29.15342  155.548223  23.3  0.672   32      1\n",
       "3   1   89.0  66.0  23.00000   94.000000  28.1  0.167   21      0\n",
       "4   0  137.0  40.0  35.00000  168.000000  43.1  2.288   33      1"
      ]
     },
     "execution_count": 5,
     "metadata": {},
     "output_type": "execute_result"
    }
   ],
   "source": [
    "df.head()"
   ]
  },
  {
   "cell_type": "code",
   "execution_count": 6,
   "metadata": {},
   "outputs": [],
   "source": [
    "X=df.drop('Class', axis=1)\n",
    "y=df['Class']\n",
    "\n",
    "# We initially devide data into training & test folds: We do the Grid-Search only on training part  \n",
    "from sklearn.model_selection import train_test_split\n",
    "X_train, X_test, y_train, y_test = train_test_split(X, y, test_size=0.25, random_state=42, stratify=y)\n",
    "\n",
    "#remove_outliers(X_train, y_train, ['NP', 'GC', 'BP', 'ST', 'I',  'BMI', 'PF', 'Age'], thresh=5)"
   ]
  },
  {
   "cell_type": "code",
   "execution_count": 7,
   "metadata": {},
   "outputs": [
    {
     "name": "stdout",
     "output_type": "stream",
     "text": [
      "[0.75172414 0.77083333 0.76388889 0.79020979] \n",
      "\n",
      "Accuracy: 0.77 (+/- 0.01)\n"
     ]
    }
   ],
   "source": [
    "# Building the Initial Model & Cross-Validation: \n",
    "import xgboost\n",
    "from xgboost import XGBClassifier\n",
    "from sklearn.model_selection import cross_val_score\n",
    "from sklearn.model_selection import StratifiedKFold\n",
    "\n",
    "model=XGBClassifier() \n",
    "kfold=StratifiedKFold(n_splits=4, shuffle=True, random_state=42)\n",
    "scores=cross_val_score(model, X_train, y_train, cv=kfold)\n",
    "\n",
    "print(scores, \"\\n\")\n",
    "print(\"Accuracy: %0.2f (+/- %0.2f)\" % (scores.mean(), scores.std()))"
   ]
  },
  {
   "cell_type": "code",
   "execution_count": 8,
   "metadata": {},
   "outputs": [
    {
     "data": {
      "text/html": [
       "<div>\n",
       "<style scoped>\n",
       "    .dataframe tbody tr th:only-of-type {\n",
       "        vertical-align: middle;\n",
       "    }\n",
       "\n",
       "    .dataframe tbody tr th {\n",
       "        vertical-align: top;\n",
       "    }\n",
       "\n",
       "    .dataframe thead th {\n",
       "        text-align: right;\n",
       "    }\n",
       "</style>\n",
       "<table border=\"1\" class=\"dataframe\">\n",
       "  <thead>\n",
       "    <tr style=\"text-align: right;\">\n",
       "      <th></th>\n",
       "      <th>mean_fit_time</th>\n",
       "      <th>std_fit_time</th>\n",
       "      <th>mean_score_time</th>\n",
       "      <th>std_score_time</th>\n",
       "      <th>param_gamma</th>\n",
       "      <th>param_max_depth</th>\n",
       "      <th>param_min_child_weight</th>\n",
       "      <th>param_subsample</th>\n",
       "      <th>params</th>\n",
       "      <th>split0_test_score</th>\n",
       "      <th>split1_test_score</th>\n",
       "      <th>split2_test_score</th>\n",
       "      <th>mean_test_score</th>\n",
       "      <th>std_test_score</th>\n",
       "      <th>rank_test_score</th>\n",
       "      <th>split0_train_score</th>\n",
       "      <th>split1_train_score</th>\n",
       "      <th>split2_train_score</th>\n",
       "      <th>mean_train_score</th>\n",
       "      <th>std_train_score</th>\n",
       "    </tr>\n",
       "  </thead>\n",
       "  <tbody>\n",
       "    <tr>\n",
       "      <th>1</th>\n",
       "      <td>0.024303</td>\n",
       "      <td>0.000701</td>\n",
       "      <td>0.002315</td>\n",
       "      <td>4.676057e-04</td>\n",
       "      <td>0</td>\n",
       "      <td>2</td>\n",
       "      <td>1</td>\n",
       "      <td>1</td>\n",
       "      <td>{'gamma': 0, 'max_depth': 2, 'min_child_weight...</td>\n",
       "      <td>0.813254</td>\n",
       "      <td>0.805373</td>\n",
       "      <td>0.855761</td>\n",
       "      <td>0.824796</td>\n",
       "      <td>0.022131</td>\n",
       "      <td>1</td>\n",
       "      <td>0.951254</td>\n",
       "      <td>0.953612</td>\n",
       "      <td>0.93997</td>\n",
       "      <td>0.948279</td>\n",
       "      <td>0.005953</td>\n",
       "    </tr>\n",
       "    <tr>\n",
       "      <th>49</th>\n",
       "      <td>0.024965</td>\n",
       "      <td>0.000619</td>\n",
       "      <td>0.002480</td>\n",
       "      <td>2.247832e-07</td>\n",
       "      <td>0.1</td>\n",
       "      <td>2</td>\n",
       "      <td>1</td>\n",
       "      <td>1</td>\n",
       "      <td>{'gamma': 0.1, 'max_depth': 2, 'min_child_weig...</td>\n",
       "      <td>0.813254</td>\n",
       "      <td>0.805373</td>\n",
       "      <td>0.855761</td>\n",
       "      <td>0.824796</td>\n",
       "      <td>0.022131</td>\n",
       "      <td>1</td>\n",
       "      <td>0.951254</td>\n",
       "      <td>0.953612</td>\n",
       "      <td>0.93997</td>\n",
       "      <td>0.948279</td>\n",
       "      <td>0.005953</td>\n",
       "    </tr>\n",
       "    <tr>\n",
       "      <th>25</th>\n",
       "      <td>0.024965</td>\n",
       "      <td>0.000468</td>\n",
       "      <td>0.002315</td>\n",
       "      <td>2.337748e-04</td>\n",
       "      <td>0.05</td>\n",
       "      <td>2</td>\n",
       "      <td>1</td>\n",
       "      <td>1</td>\n",
       "      <td>{'gamma': 0.05, 'max_depth': 2, 'min_child_wei...</td>\n",
       "      <td>0.813254</td>\n",
       "      <td>0.805373</td>\n",
       "      <td>0.855761</td>\n",
       "      <td>0.824796</td>\n",
       "      <td>0.022131</td>\n",
       "      <td>1</td>\n",
       "      <td>0.951254</td>\n",
       "      <td>0.953612</td>\n",
       "      <td>0.93997</td>\n",
       "      <td>0.948279</td>\n",
       "      <td>0.005953</td>\n",
       "    </tr>\n",
       "  </tbody>\n",
       "</table>\n",
       "</div>"
      ],
      "text/plain": [
       "    mean_fit_time  std_fit_time  mean_score_time  std_score_time param_gamma  \\\n",
       "1        0.024303      0.000701         0.002315    4.676057e-04           0   \n",
       "49       0.024965      0.000619         0.002480    2.247832e-07         0.1   \n",
       "25       0.024965      0.000468         0.002315    2.337748e-04        0.05   \n",
       "\n",
       "   param_max_depth param_min_child_weight param_subsample  \\\n",
       "1                2                      1               1   \n",
       "49               2                      1               1   \n",
       "25               2                      1               1   \n",
       "\n",
       "                                               params  split0_test_score  \\\n",
       "1   {'gamma': 0, 'max_depth': 2, 'min_child_weight...           0.813254   \n",
       "49  {'gamma': 0.1, 'max_depth': 2, 'min_child_weig...           0.813254   \n",
       "25  {'gamma': 0.05, 'max_depth': 2, 'min_child_wei...           0.813254   \n",
       "\n",
       "    split1_test_score  split2_test_score  mean_test_score  std_test_score  \\\n",
       "1            0.805373           0.855761         0.824796        0.022131   \n",
       "49           0.805373           0.855761         0.824796        0.022131   \n",
       "25           0.805373           0.855761         0.824796        0.022131   \n",
       "\n",
       "    rank_test_score  split0_train_score  split1_train_score  \\\n",
       "1                 1            0.951254            0.953612   \n",
       "49                1            0.951254            0.953612   \n",
       "25                1            0.951254            0.953612   \n",
       "\n",
       "    split2_train_score  mean_train_score  std_train_score  \n",
       "1              0.93997          0.948279         0.005953  \n",
       "49             0.93997          0.948279         0.005953  \n",
       "25             0.93997          0.948279         0.005953  "
      ]
     },
     "execution_count": 8,
     "metadata": {},
     "output_type": "execute_result"
    }
   ],
   "source": [
    "# Grid-Search for the best model parameters: \n",
    "\n",
    "# We create a sample_weight list for this imbalanced dataset:\n",
    "from sklearn.utils.class_weight import compute_sample_weight\n",
    "sw=compute_sample_weight(class_weight='balanced', y=y_train)\n",
    "\n",
    "\n",
    "from sklearn.model_selection import GridSearchCV\n",
    "param={'max_depth':[2, 4, 6, 8], 'min_child_weight':[1, 2, 3], 'gamma': [ 0, 0.05, 0.1], 'subsample':[0.7, 1]}\n",
    "\n",
    "kfold=StratifiedKFold(n_splits=3, shuffle=True, random_state=42)\n",
    "grid_search=GridSearchCV(XGBClassifier(), param, cv=kfold, n_jobs=-1, scoring=\"roc_auc\")\n",
    "grid_search.fit(X_train, y_train, sample_weight=sw)\n",
    "\n",
    "# Grid-Search report: \n",
    "G=pd.DataFrame(grid_search.cv_results_).sort_values(\"rank_test_score\")\n",
    "G.head(3)"
   ]
  },
  {
   "cell_type": "code",
   "execution_count": 9,
   "metadata": {},
   "outputs": [
    {
     "name": "stdout",
     "output_type": "stream",
     "text": [
      "Best parameters:  {'gamma': 0, 'max_depth': 2, 'min_child_weight': 1, 'subsample': 1}\n",
      "Best validation accuracy:  0.82 (+/- 0.02)\n",
      "Test score:  0.82\n"
     ]
    }
   ],
   "source": [
    "print(\"Best parameters: \", grid_search.best_params_)\n",
    "print(\"Best validation accuracy:  %0.2f (+/- %0.2f)\" % (np.round(grid_search.best_score_, decimals=2), np.round(G.loc[grid_search.best_index_,\"std_test_score\" ], decimals=2)))\n",
    "print(\"Test score: \", np.round(grid_search.score(X_test, y_test),2))"
   ]
  },
  {
   "cell_type": "code",
   "execution_count": 10,
   "metadata": {},
   "outputs": [
    {
     "name": "stdout",
     "output_type": "stream",
     "text": [
      "Confusion matrix, without normalization\n",
      "[[92 33]\n",
      " [22 45]]\n",
      "Normalized confusion matrix\n",
      "[[0.74 0.26]\n",
      " [0.33 0.67]]\n"
     ]
    },
    {
     "data": {
      "image/png": "[encoded data removed]",
      "text/plain": [
       "<Figure size 432x288 with 2 Axes>"
      ]
     },
     "metadata": {},
     "output_type": "display_data"
    }
   ],
   "source": [
    "from sklearn.metrics import roc_curve, auc, confusion_matrix, classification_report\n",
    "\n",
    "# Plot a confusion matrix.\n",
    "# cm is the confusion matrix, names are the names of the classes.\n",
    "def plot_confusion_matrix(cm, names, title='Confusion matrix', cmap=plt.cm.Blues):\n",
    "    plt.imshow(cm, interpolation='nearest', cmap=cmap)\n",
    "    plt.title(title)\n",
    "    plt.colorbar()\n",
    "    tick_marks = np.arange(len(names))\n",
    "    plt.xticks(tick_marks, names, rotation=45)\n",
    "    plt.yticks(tick_marks, names)\n",
    "    plt.tight_layout()\n",
    "    plt.ylabel('True label')\n",
    "    plt.xlabel('Predicted label')\n",
    "\n",
    "names = [\"0\", \"1\"]\n",
    "\n",
    "# Compute confusion matrix\n",
    "cm = confusion_matrix(y_test, grid_search.predict(X_test))\n",
    "np.set_printoptions(precision=2)\n",
    "print('Confusion matrix, without normalization')\n",
    "print(cm)\n",
    "\n",
    "# Normalize the confusion matrix by row (i.e by the number of samples in each class)\n",
    "cm_normalized = cm.astype('float') / cm.sum(axis=1)[:, np.newaxis]\n",
    "print('Normalized confusion matrix')\n",
    "print(cm_normalized)\n",
    "plt.figure()\n",
    "plot_confusion_matrix(cm_normalized, names, title='Normalized confusion matrix')\n",
    "\n",
    "plt.show()"
   ]
  },
  {
   "cell_type": "code",
   "execution_count": 11,
   "metadata": {},
   "outputs": [
    {
     "name": "stdout",
     "output_type": "stream",
     "text": [
      "             precision    recall  f1-score   support\n",
      "\n",
      "          0       0.81      0.74      0.77       125\n",
      "          1       0.58      0.67      0.62        67\n",
      "\n",
      "avg / total       0.73      0.71      0.72       192\n",
      "\n"
     ]
    }
   ],
   "source": [
    "# Classification report:\n",
    "report=classification_report(y_test, grid_search.predict(X_test))\n",
    "print(report)"
   ]
  },
  {
   "cell_type": "code",
   "execution_count": 12,
   "metadata": {},
   "outputs": [
    {
     "data": {
      "image/png": "[encoded data removed]",
      "text/plain": [
       "<Figure size 432x288 with 1 Axes>"
      ]
     },
     "metadata": {},
     "output_type": "display_data"
    }
   ],
   "source": [
    "# ROC curve & auc:\n",
    "from  sklearn.metrics import precision_recall_curve, roc_curve, roc_auc_score, average_precision_score\n",
    "\n",
    "fpr, tpr, thresholds=roc_curve(np.array(y_test),grid_search.predict_proba(X_test)[:, 1] , pos_label=1)\n",
    "roc_auc=roc_auc_score(np.array(y_test), grid_search.predict_proba(X_test)[:, 1])\n",
    "\n",
    "plt.figure()\n",
    "\n",
    "plt.step(fpr, tpr, color='darkorange', lw=2, label='ROC curve (auc = %0.2f)' % roc_auc)\n",
    "plt.plot([0, 1], [0, 1], color='navy', alpha=0.4, lw=2, linestyle='--')\n",
    "plt.xlim([0.0, 1.0])\n",
    "plt.ylim([0.0, 1.05])\n",
    "plt.xlabel('False Positive Rate')\n",
    "plt.ylabel('True Positive Rate')\n",
    "plt.title('ROC curve')\n",
    "plt.legend(loc=\"lower right\")\n",
    "\n",
    "plt.plot([cm_normalized[0,1]], [cm_normalized[1,1]], 'or')\n",
    "plt.show()"
   ]
  },
  {
   "cell_type": "code",
   "execution_count": 13,
   "metadata": {},
   "outputs": [
    {
     "data": {
      "image/png": "[encoded data removed]",
      "text/plain": [
       "<Figure size 432x288 with 1 Axes>"
      ]
     },
     "metadata": {},
     "output_type": "display_data"
    }
   ],
   "source": [
    "# Precision-Recall trade-off:\n",
    "precision, recall, thresholds=precision_recall_curve(y_test,grid_search.predict_proba(X_test)[:, 1],  pos_label=1)\n",
    "ave_precision=average_precision_score(y_test,grid_search.predict_proba(X_test)[:, 1])\n",
    "\n",
    "plt.step(recall, precision, color='navy')\n",
    "\n",
    "plt.xlabel('Recall')\n",
    "plt.ylabel('Precision')\n",
    "plt.xlim([0, 1.001])\n",
    "plt.ylim([0, 1.02])\n",
    "plt.title('Precision-Recall curve: AP={0:0.2f}'.format(ave_precision))\n",
    "\n",
    "plt.plot([cm_normalized[1,1]], [cm[1,1]/(cm[1,1]+cm[0,1])], 'ob')\n",
    "plt.show()"
   ]
  },
  {
   "cell_type": "code",
   "execution_count": 14,
   "metadata": {},
   "outputs": [
    {
     "name": "stdout",
     "output_type": "stream",
     "text": [
      "('PF', 0.18965517)\n",
      "('GC', 0.18275861)\n",
      "('BMI', 0.1724138)\n",
      "('I', 0.13103448)\n",
      "('Age', 0.112068966)\n",
      "('NP', 0.0862069)\n",
      "('ST', 0.077586204)\n",
      "('BP', 0.048275862)\n"
     ]
    },
    {
     "data": {
      "text/plain": [
       "<matplotlib.axes._subplots.AxesSubplot at 0x1c10cf9f588>"
      ]
     },
     "execution_count": 14,
     "metadata": {},
     "output_type": "execute_result"
    },
    {
     "data": {
      "image/png": "[encoded data removed]",
      "text/plain": [
       "<Figure size 576x432 with 1 Axes>"
      ]
     },
     "metadata": {},
     "output_type": "display_data"
    }
   ],
   "source": [
    "# Feature Importance:\n",
    "im=XGBClassifier().fit(X,y).feature_importances_\n",
    "\n",
    "# Sort & Plot:\n",
    "d=dict(zip(np.array(X.columns), im))\n",
    "k=sorted(d,key=lambda i: d[i], reverse= True)\n",
    "[print((i,d[i])) for i in k]\n",
    "\n",
    "# Plot:\n",
    "c1=pd.DataFrame(np.array(im),  columns=[\"Importance\"])\n",
    "c2=pd.DataFrame(np.array(X.columns[0:8]),columns=[\"Feature\"])\n",
    "\n",
    "fig, ax = plt.subplots(figsize=(8,6)) \n",
    "sns.barplot(x=\"Feature\", y=\"Importance\", data=pd.concat([c2,c1], axis=1), color=\"blue\", ax=ax)"
   ]
  }
 ],
 "metadata": {
  "kernelspec": {
   "display_name": "Python 3",
   "language": "python",
   "name": "python3"
  },
  "language_info": {
   "codemirror_mode": {
    "name": "ipython",
    "version": 3
   },
   "file_extension": ".py",
   "mimetype": "text/x-python",
   "name": "python",
   "nbconvert_exporter": "python",
   "pygments_lexer": "ipython3",
   "version": "3.6.5"
  }
 },
 "nbformat": 4,
 "nbformat_minor": 2
}
