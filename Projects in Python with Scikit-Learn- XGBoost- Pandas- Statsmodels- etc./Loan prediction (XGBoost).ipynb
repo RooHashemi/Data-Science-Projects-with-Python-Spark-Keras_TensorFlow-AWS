{
 "cells": [
  {
   "cell_type": "markdown",
   "metadata": {},
   "source": [
    "# Data description & Problem statement: \n",
    "   The dataset is related with a mortgage loan and challenge is to predict approval status of loan (Approved/Reject). Needless to mention that, among all industries, the insurance domain has one of the largest uses of analytics & data science methods. \n",
    "* Dataset is imbalanced. The data has 615 rows and 13 columns.\n",
    "* This is a classification problem. I will predict if a loan will get approved or not.\n",
    "\n",
    "# Workflow:\n",
    "- Load the dataset, and define the required functions (e.g. for detecting the outliers)\n",
    "- Data Cleaning/Wrangling: Manipulate outliers, missing data or duplicate values, Encode categorical variables, etc.\n",
    "- Split data into training & test parts (utilize the training part for training & hyperparameter tuning of model, and test part for the final evaluation of model)\n",
    "   #  Model Training:\n",
    "- Build an initial XGBoost model, and evaluate it via C-V approach\n",
    "- Use grid-search along with C-V approach to find the best hyperparameters of XGBoost model: Find the best XGBoost model (Note: I've utilized SMOTE technique via imblearn toolbox to synthetically over-sample the minority category and even the dataset imbalances.)\n",
    "   # Model Evaluation: \n",
    "- Evaluate the best XGBoost model with optimized hyperparameters on Test Dataset, by calculating:\n",
    "     - AUC score:  0.84\n",
    "     - Confusion matrix\n",
    "     - ROC curve  \n",
    "     - Precision-Recall curve \n",
    "     - Average precision:  0.91\n",
    "     \n",
    "Finally, calculate the Feature Importance for the features "
   ]
  },
  {
   "cell_type": "code",
   "execution_count": 1,
   "metadata": {},
   "outputs": [],
   "source": [
    "import sklearn\n",
    "import numpy as np\n",
    "import pandas as pd\n",
    "import matplotlib.pyplot as plt\n",
    "import seaborn as sns\n",
    "from sklearn import preprocessing\n",
    "%matplotlib inline\n",
    "\n",
    "from scipy import stats\n",
    "\n",
    "import warnings\n",
    "warnings.filterwarnings(\"ignore\")"
   ]
  },
  {
   "cell_type": "code",
   "execution_count": 2,
   "metadata": {},
   "outputs": [],
   "source": [
    "# Function to remove outliers (all rows) by Z-score: \n",
    "def remove_outliers(X, y, name, thresh=3):\n",
    "    L=[]\n",
    "    for name in name:\n",
    "        drop_rows = X.index[(np.abs(X[name] - X[name].mean()) >= (thresh * X[name].std()))]\n",
    "        L.extend(list(drop_rows))\n",
    "        \n",
    "    X.drop(np.array(list(set(L))), axis=0, inplace=True)\n",
    "    y.drop(np.array(list(set(L))), axis=0, inplace=True)\n",
    "    print('number of outliers removed :  ' , len(L))"
   ]
  },
  {
   "cell_type": "code",
   "execution_count": 3,
   "metadata": {},
   "outputs": [
    {
     "data": {
      "text/html": [
       "<div>\n",
       "<style scoped>\n",
       "    .dataframe tbody tr th:only-of-type {\n",
       "        vertical-align: middle;\n",
       "    }\n",
       "\n",
       "    .dataframe tbody tr th {\n",
       "        vertical-align: top;\n",
       "    }\n",
       "\n",
       "    .dataframe thead th {\n",
       "        text-align: right;\n",
       "    }\n",
       "</style>\n",
       "<table border=\"1\" class=\"dataframe\">\n",
       "  <thead>\n",
       "    <tr style=\"text-align: right;\">\n",
       "      <th></th>\n",
       "      <th>Gender</th>\n",
       "      <th>Married</th>\n",
       "      <th>Dependents</th>\n",
       "      <th>Education</th>\n",
       "      <th>Self_Employed</th>\n",
       "      <th>ApplicantIncome</th>\n",
       "      <th>CoapplicantIncome</th>\n",
       "      <th>LoanAmount</th>\n",
       "      <th>Loan_Amount_Term</th>\n",
       "      <th>Credit_History</th>\n",
       "      <th>Property_Area</th>\n",
       "      <th>Loan_Status</th>\n",
       "    </tr>\n",
       "  </thead>\n",
       "  <tbody>\n",
       "    <tr>\n",
       "      <th>0</th>\n",
       "      <td>Male</td>\n",
       "      <td>Yes</td>\n",
       "      <td>0</td>\n",
       "      <td>Graduate</td>\n",
       "      <td>No</td>\n",
       "      <td>9083</td>\n",
       "      <td>0.0</td>\n",
       "      <td>228.0</td>\n",
       "      <td>360.0</td>\n",
       "      <td>1.0</td>\n",
       "      <td>Semiurban</td>\n",
       "      <td>Y</td>\n",
       "    </tr>\n",
       "    <tr>\n",
       "      <th>1</th>\n",
       "      <td>Male</td>\n",
       "      <td>Yes</td>\n",
       "      <td>0</td>\n",
       "      <td>Graduate</td>\n",
       "      <td>No</td>\n",
       "      <td>4310</td>\n",
       "      <td>0.0</td>\n",
       "      <td>130.0</td>\n",
       "      <td>360.0</td>\n",
       "      <td>NaN</td>\n",
       "      <td>Semiurban</td>\n",
       "      <td>Y</td>\n",
       "    </tr>\n",
       "    <tr>\n",
       "      <th>2</th>\n",
       "      <td>Male</td>\n",
       "      <td>Yes</td>\n",
       "      <td>2</td>\n",
       "      <td>Graduate</td>\n",
       "      <td>No</td>\n",
       "      <td>4167</td>\n",
       "      <td>1447.0</td>\n",
       "      <td>158.0</td>\n",
       "      <td>360.0</td>\n",
       "      <td>1.0</td>\n",
       "      <td>Rural</td>\n",
       "      <td>Y</td>\n",
       "    </tr>\n",
       "  </tbody>\n",
       "</table>\n",
       "</div>"
      ],
      "text/plain": [
       "  Gender Married Dependents Education Self_Employed  ApplicantIncome  \\\n",
       "0   Male     Yes          0  Graduate            No             9083   \n",
       "1   Male     Yes          0  Graduate            No             4310   \n",
       "2   Male     Yes          2  Graduate            No             4167   \n",
       "\n",
       "   CoapplicantIncome  LoanAmount  Loan_Amount_Term  Credit_History  \\\n",
       "0                0.0       228.0             360.0             1.0   \n",
       "1                0.0       130.0             360.0             NaN   \n",
       "2             1447.0       158.0             360.0             1.0   \n",
       "\n",
       "  Property_Area Loan_Status  \n",
       "0     Semiurban           Y  \n",
       "1     Semiurban           Y  \n",
       "2         Rural           Y  "
      ]
     },
     "execution_count": 3,
     "metadata": {},
     "output_type": "execute_result"
    }
   ],
   "source": [
    "df=pd.read_csv('C:/Users/rhash/Documents/Datasets/Loan prediction/train_loanPrediction.csv')\n",
    "\n",
    "df.drop('Loan_ID', axis=1, inplace=True)\n",
    "\n",
    "L_c=['Gender', 'Married', 'Dependents', 'Education', 'Self_Employed', 'Credit_History', 'Property_Area', 'Loan_Status' ]\n",
    "L_n=['ApplicantIncome', 'CoapplicantIncome', 'LoanAmount', 'Loan_Amount_Term']\n",
    "\n",
    "# To Shuffle the data:\n",
    "np.random.seed(42)\n",
    "df=df.reindex(np.random.permutation(df.index))\n",
    "df.reset_index(inplace=True, drop=True)\n",
    "\n",
    "df.head(3)"
   ]
  },
  {
   "cell_type": "code",
   "execution_count": 4,
   "metadata": {},
   "outputs": [
    {
     "data": {
      "text/plain": [
       "(543, 6)"
      ]
     },
     "execution_count": 4,
     "metadata": {},
     "output_type": "execute_result"
    }
   ],
   "source": [
    "df_selected=df[['Credit_History', 'ApplicantIncome', 'LoanAmount', 'CoapplicantIncome' ,'Property_Area', 'Loan_Status']]\n",
    "\n",
    "#df_selected['LoanAmount'].fillna(value=df['LoanAmount'].median(), inplace=True)\n",
    "\n",
    "df_selected.dropna( axis=0, inplace=True)\n",
    "df_selected.shape"
   ]
  },
  {
   "cell_type": "code",
   "execution_count": 5,
   "metadata": {},
   "outputs": [
    {
     "data": {
      "text/html": [
       "<div>\n",
       "<style scoped>\n",
       "    .dataframe tbody tr th:only-of-type {\n",
       "        vertical-align: middle;\n",
       "    }\n",
       "\n",
       "    .dataframe tbody tr th {\n",
       "        vertical-align: top;\n",
       "    }\n",
       "\n",
       "    .dataframe thead th {\n",
       "        text-align: right;\n",
       "    }\n",
       "</style>\n",
       "<table border=\"1\" class=\"dataframe\">\n",
       "  <thead>\n",
       "    <tr style=\"text-align: right;\">\n",
       "      <th></th>\n",
       "      <th>Credit_History</th>\n",
       "      <th>ApplicantIncome</th>\n",
       "      <th>LoanAmount</th>\n",
       "      <th>CoapplicantIncome</th>\n",
       "      <th>Property_Area</th>\n",
       "      <th>Loan_Status</th>\n",
       "    </tr>\n",
       "  </thead>\n",
       "  <tbody>\n",
       "    <tr>\n",
       "      <th>0</th>\n",
       "      <td>1.0</td>\n",
       "      <td>9083</td>\n",
       "      <td>228.0</td>\n",
       "      <td>0.0</td>\n",
       "      <td>1</td>\n",
       "      <td>1</td>\n",
       "    </tr>\n",
       "    <tr>\n",
       "      <th>2</th>\n",
       "      <td>1.0</td>\n",
       "      <td>4167</td>\n",
       "      <td>158.0</td>\n",
       "      <td>1447.0</td>\n",
       "      <td>0</td>\n",
       "      <td>1</td>\n",
       "    </tr>\n",
       "    <tr>\n",
       "      <th>3</th>\n",
       "      <td>1.0</td>\n",
       "      <td>2900</td>\n",
       "      <td>71.0</td>\n",
       "      <td>0.0</td>\n",
       "      <td>0</td>\n",
       "      <td>1</td>\n",
       "    </tr>\n",
       "  </tbody>\n",
       "</table>\n",
       "</div>"
      ],
      "text/plain": [
       "   Credit_History  ApplicantIncome  LoanAmount  CoapplicantIncome  \\\n",
       "0             1.0             9083       228.0                0.0   \n",
       "2             1.0             4167       158.0             1447.0   \n",
       "3             1.0             2900        71.0                0.0   \n",
       "\n",
       "   Property_Area  Loan_Status  \n",
       "0              1            1  \n",
       "2              0            1  \n",
       "3              0            1  "
      ]
     },
     "execution_count": 5,
     "metadata": {},
     "output_type": "execute_result"
    }
   ],
   "source": [
    "# Encode text values to indexes(i.e. [1],[2],[3] for red,green,blue).\n",
    "def encode_text_index(df, name):\n",
    "    le = preprocessing.LabelEncoder()\n",
    "    df[name] = le.fit_transform(df[name])\n",
    "    return le.classes_\n",
    "\n",
    "#for i in ['Gender', 'Married', 'Dependents', 'Education', 'Self_Employed', 'Property_Area', 'Loan_Status' ]:\n",
    "#    encode_text_index(df, i)\n",
    "\n",
    "for i in ['Property_Area', 'Loan_Status' ]:\n",
    "    encode_text_index(df_selected, i)\n",
    "df_selected.head(3)"
   ]
  },
  {
   "cell_type": "code",
   "execution_count": 6,
   "metadata": {},
   "outputs": [
    {
     "data": {
      "text/plain": [
       "Credit_History       0\n",
       "ApplicantIncome      0\n",
       "LoanAmount           0\n",
       "CoapplicantIncome    0\n",
       "Property_Area        0\n",
       "Loan_Status          0\n",
       "dtype: int64"
      ]
     },
     "execution_count": 6,
     "metadata": {},
     "output_type": "execute_result"
    }
   ],
   "source": [
    "df_selected.isnull().sum()"
   ]
  },
  {
   "cell_type": "code",
   "execution_count": 7,
   "metadata": {},
   "outputs": [
    {
     "name": "stdout",
     "output_type": "stream",
     "text": [
      "number of outliers removed :   8\n"
     ]
    }
   ],
   "source": [
    "X=df_selected.drop(['Loan_Status'], axis=1)\n",
    "y=df_selected['Loan_Status']\n",
    "\n",
    "# We initially devide data into training & test folds: We do the Grid-Search only on training part  \n",
    "from sklearn.model_selection import train_test_split\n",
    "X_train, X_test, y_train, y_test = train_test_split(X, y, test_size=0.25, random_state=42, stratify=y)\n",
    "\n",
    "remove_outliers(X_train, y_train, ['ApplicantIncome', 'CoapplicantIncome', 'LoanAmount'], thresh=5)"
   ]
  },
  {
   "cell_type": "code",
   "execution_count": 8,
   "metadata": {},
   "outputs": [
    {
     "name": "stdout",
     "output_type": "stream",
     "text": [
      "[0.83 0.78 0.79 0.84] \n",
      "\n",
      "Accuracy: 0.81 (+/- 0.03)\n"
     ]
    }
   ],
   "source": [
    "# Building the Initial Model & Cross-Validation: \n",
    "import xgboost\n",
    "from xgboost import XGBClassifier\n",
    "from sklearn.model_selection import cross_val_score\n",
    "from sklearn.model_selection import StratifiedKFold\n",
    "\n",
    "model=XGBClassifier() \n",
    "kfold=StratifiedKFold(n_splits=4, shuffle=True, random_state=42)\n",
    "scores=cross_val_score(model, X_train, y_train, cv=kfold)\n",
    "\n",
    "print(scores, \"\\n\")\n",
    "print(\"Accuracy: %0.2f (+/- %0.2f)\" % (scores.mean(), scores.std()))"
   ]
  },
  {
   "cell_type": "code",
   "execution_count": 9,
   "metadata": {},
   "outputs": [
    {
     "data": {
      "text/html": [
       "<div>\n",
       "<style scoped>\n",
       "    .dataframe tbody tr th:only-of-type {\n",
       "        vertical-align: middle;\n",
       "    }\n",
       "\n",
       "    .dataframe tbody tr th {\n",
       "        vertical-align: top;\n",
       "    }\n",
       "\n",
       "    .dataframe thead th {\n",
       "        text-align: right;\n",
       "    }\n",
       "</style>\n",
       "<table border=\"1\" class=\"dataframe\">\n",
       "  <thead>\n",
       "    <tr style=\"text-align: right;\">\n",
       "      <th></th>\n",
       "      <th>mean_fit_time</th>\n",
       "      <th>std_fit_time</th>\n",
       "      <th>mean_score_time</th>\n",
       "      <th>std_score_time</th>\n",
       "      <th>param_gamma</th>\n",
       "      <th>param_max_depth</th>\n",
       "      <th>param_min_child_weight</th>\n",
       "      <th>params</th>\n",
       "      <th>split0_test_score</th>\n",
       "      <th>split1_test_score</th>\n",
       "      <th>split2_test_score</th>\n",
       "      <th>mean_test_score</th>\n",
       "      <th>std_test_score</th>\n",
       "      <th>rank_test_score</th>\n",
       "      <th>split0_train_score</th>\n",
       "      <th>split1_train_score</th>\n",
       "      <th>split2_train_score</th>\n",
       "      <th>mean_train_score</th>\n",
       "      <th>std_train_score</th>\n",
       "    </tr>\n",
       "  </thead>\n",
       "  <tbody>\n",
       "    <tr>\n",
       "      <th>21</th>\n",
       "      <td>0.089383</td>\n",
       "      <td>0.002965</td>\n",
       "      <td>0.004000</td>\n",
       "      <td>4.495664e-07</td>\n",
       "      <td>0.01</td>\n",
       "      <td>7</td>\n",
       "      <td>1</td>\n",
       "      <td>{'gamma': 0.01, 'max_depth': 7, 'min_child_wei...</td>\n",
       "      <td>0.880317</td>\n",
       "      <td>0.899811</td>\n",
       "      <td>0.900165</td>\n",
       "      <td>0.893431</td>\n",
       "      <td>0.009274</td>\n",
       "      <td>1</td>\n",
       "      <td>0.999586</td>\n",
       "      <td>0.999675</td>\n",
       "      <td>0.999852</td>\n",
       "      <td>0.999705</td>\n",
       "      <td>0.000111</td>\n",
       "    </tr>\n",
       "    <tr>\n",
       "      <th>9</th>\n",
       "      <td>0.088353</td>\n",
       "      <td>0.002366</td>\n",
       "      <td>0.004000</td>\n",
       "      <td>2.973602e-07</td>\n",
       "      <td>0</td>\n",
       "      <td>7</td>\n",
       "      <td>1</td>\n",
       "      <td>{'gamma': 0, 'max_depth': 7, 'min_child_weight...</td>\n",
       "      <td>0.880907</td>\n",
       "      <td>0.901583</td>\n",
       "      <td>0.897448</td>\n",
       "      <td>0.893313</td>\n",
       "      <td>0.008933</td>\n",
       "      <td>2</td>\n",
       "      <td>0.999557</td>\n",
       "      <td>0.999675</td>\n",
       "      <td>0.999734</td>\n",
       "      <td>0.999655</td>\n",
       "      <td>0.000074</td>\n",
       "    </tr>\n",
       "    <tr>\n",
       "      <th>33</th>\n",
       "      <td>0.122079</td>\n",
       "      <td>0.011227</td>\n",
       "      <td>0.003955</td>\n",
       "      <td>6.507503e-05</td>\n",
       "      <td>0.05</td>\n",
       "      <td>7</td>\n",
       "      <td>1</td>\n",
       "      <td>{'gamma': 0.05, 'max_depth': 7, 'min_child_wei...</td>\n",
       "      <td>0.877599</td>\n",
       "      <td>0.900756</td>\n",
       "      <td>0.897212</td>\n",
       "      <td>0.891856</td>\n",
       "      <td>0.010184</td>\n",
       "      <td>3</td>\n",
       "      <td>0.999557</td>\n",
       "      <td>0.999631</td>\n",
       "      <td>0.999793</td>\n",
       "      <td>0.999660</td>\n",
       "      <td>0.000099</td>\n",
       "    </tr>\n",
       "  </tbody>\n",
       "</table>\n",
       "</div>"
      ],
      "text/plain": [
       "    mean_fit_time  std_fit_time  mean_score_time  std_score_time param_gamma  \\\n",
       "21       0.089383      0.002965         0.004000    4.495664e-07        0.01   \n",
       "9        0.088353      0.002366         0.004000    2.973602e-07           0   \n",
       "33       0.122079      0.011227         0.003955    6.507503e-05        0.05   \n",
       "\n",
       "   param_max_depth param_min_child_weight  \\\n",
       "21               7                      1   \n",
       "9                7                      1   \n",
       "33               7                      1   \n",
       "\n",
       "                                               params  split0_test_score  \\\n",
       "21  {'gamma': 0.01, 'max_depth': 7, 'min_child_wei...           0.880317   \n",
       "9   {'gamma': 0, 'max_depth': 7, 'min_child_weight...           0.880907   \n",
       "33  {'gamma': 0.05, 'max_depth': 7, 'min_child_wei...           0.877599   \n",
       "\n",
       "    split1_test_score  split2_test_score  mean_test_score  std_test_score  \\\n",
       "21           0.899811           0.900165         0.893431        0.009274   \n",
       "9            0.901583           0.897448         0.893313        0.008933   \n",
       "33           0.900756           0.897212         0.891856        0.010184   \n",
       "\n",
       "    rank_test_score  split0_train_score  split1_train_score  \\\n",
       "21                1            0.999586            0.999675   \n",
       "9                 2            0.999557            0.999675   \n",
       "33                3            0.999557            0.999631   \n",
       "\n",
       "    split2_train_score  mean_train_score  std_train_score  \n",
       "21            0.999852          0.999705         0.000111  \n",
       "9             0.999734          0.999655         0.000074  \n",
       "33            0.999793          0.999660         0.000099  "
      ]
     },
     "execution_count": 9,
     "metadata": {},
     "output_type": "execute_result"
    }
   ],
   "source": [
    "# Grid-Search for the best model parameters: \n",
    "\n",
    "# Resampling:\n",
    "from imblearn.over_sampling import SMOTE, ADASYN, RandomOverSampler\n",
    "\n",
    "#X_r, y_r=X_train, y_train\n",
    "#X_r, y_r = SMOTE(random_state=42, kind='svm').fit_sample(X_train, y_train)\n",
    "X_r, y_r = RandomOverSampler(random_state=42).fit_sample(X_train, y_train)\n",
    "\n",
    "# We create a sample_weight list for this imbalanced dataset:\n",
    "from sklearn.utils.class_weight import compute_sample_weight\n",
    "sw=compute_sample_weight(class_weight='balanced', y=y_r)\n",
    "\n",
    "\n",
    "from sklearn.model_selection import GridSearchCV\n",
    "param={'max_depth':[2, 3, 5, 7], 'min_child_weight':[1, 2, 3], 'gamma': [ 0, 0.01, 0.05, 0.1]}\n",
    "\n",
    "kfold=StratifiedKFold(n_splits=3, shuffle=True, random_state=42)\n",
    "grid_search=GridSearchCV(XGBClassifier(), param, cv=kfold, n_jobs=-1, scoring=\"roc_auc\")\n",
    "grid_search.fit(X_r, y_r, sample_weight=sw)\n",
    "\n",
    "# Grid-Search report: \n",
    "G=pd.DataFrame(grid_search.cv_results_).sort_values(\"rank_test_score\")\n",
    "G.head(3)"
   ]
  },
  {
   "cell_type": "code",
   "execution_count": 10,
   "metadata": {},
   "outputs": [
    {
     "name": "stdout",
     "output_type": "stream",
     "text": [
      "Best parameters:  {'gamma': 0.01, 'max_depth': 7, 'min_child_weight': 1}\n",
      "Best validation accuracy:  0.89 (+/- 0.01)\n",
      "Test score:  0.84\n"
     ]
    }
   ],
   "source": [
    "print(\"Best parameters: \", grid_search.best_params_)\n",
    "print(\"Best validation accuracy:  %0.2f (+/- %0.2f)\" % (np.round(grid_search.best_score_, decimals=2), np.round(G.loc[grid_search.best_index_,\"std_test_score\" ], decimals=2)))\n",
    "print(\"Test score: \", np.round(grid_search.score(np.array(X_test), np.array(y_test)),2))"
   ]
  },
  {
   "cell_type": "code",
   "execution_count": 11,
   "metadata": {},
   "outputs": [
    {
     "name": "stdout",
     "output_type": "stream",
     "text": [
      "Confusion matrix, without normalization\n",
      "[[26 16]\n",
      " [13 81]]\n",
      "Normalized confusion matrix\n",
      "[[0.62 0.38]\n",
      " [0.14 0.86]]\n"
     ]
    },
    {
     "data": {
      "image/png": "[encoded data removed]",
      "text/plain": [
       "<Figure size 432x288 with 2 Axes>"
      ]
     },
     "metadata": {},
     "output_type": "display_data"
    }
   ],
   "source": [
    "from sklearn.metrics import roc_curve, auc, confusion_matrix, classification_report\n",
    "\n",
    "# Plot a confusion matrix.\n",
    "# cm is the confusion matrix, names are the names of the classes.\n",
    "def plot_confusion_matrix(cm, names, title='Confusion matrix', cmap=plt.cm.Blues):\n",
    "    plt.imshow(cm, interpolation='nearest', cmap=cmap)\n",
    "    plt.title(title)\n",
    "    plt.colorbar()\n",
    "    tick_marks = np.arange(len(names))\n",
    "    plt.xticks(tick_marks, names, rotation=45)\n",
    "    plt.yticks(tick_marks, names)\n",
    "    plt.tight_layout()\n",
    "    plt.ylabel('True label')\n",
    "    plt.xlabel('Predicted label')\n",
    "\n",
    "names = [\"0\", \"1\"]\n",
    "\n",
    "# Compute confusion matrix\n",
    "cm = confusion_matrix(y_test, grid_search.predict(np.array(X_test)))\n",
    "np.set_printoptions(precision=2)\n",
    "print('Confusion matrix, without normalization')\n",
    "print(cm)\n",
    "\n",
    "# Normalize the confusion matrix by row (i.e by the number of samples in each class)\n",
    "cm_normalized = cm.astype('float') / cm.sum(axis=1)[:, np.newaxis]\n",
    "print('Normalized confusion matrix')\n",
    "print(cm_normalized)\n",
    "plt.figure()\n",
    "plot_confusion_matrix(cm_normalized, names, title='Normalized confusion matrix')\n",
    "\n",
    "plt.show()"
   ]
  },
  {
   "cell_type": "code",
   "execution_count": 12,
   "metadata": {},
   "outputs": [
    {
     "name": "stdout",
     "output_type": "stream",
     "text": [
      "             precision    recall  f1-score   support\n",
      "\n",
      "          0       0.67      0.62      0.64        42\n",
      "          1       0.84      0.86      0.85        94\n",
      "\n",
      "avg / total       0.78      0.79      0.78       136\n",
      "\n"
     ]
    }
   ],
   "source": [
    "# Classification report:\n",
    "report=classification_report(y_test, grid_search.predict(np.array(X_test)))\n",
    "print(report)"
   ]
  },
  {
   "cell_type": "code",
   "execution_count": 13,
   "metadata": {},
   "outputs": [
    {
     "data": {
      "image/png": "[encoded data removed]",
      "text/plain": [
       "<Figure size 432x288 with 1 Axes>"
      ]
     },
     "metadata": {},
     "output_type": "display_data"
    }
   ],
   "source": [
    "# ROC curve & auc:\n",
    "from  sklearn.metrics import precision_recall_curve, roc_curve, roc_auc_score, average_precision_score\n",
    "\n",
    "fpr, tpr, thresholds=roc_curve(np.array(y_test),grid_search.predict_proba(np.array(X_test))[:, 1] , pos_label=1)\n",
    "roc_auc=roc_auc_score(np.array(y_test), grid_search.predict_proba(np.array(X_test))[:, 1])\n",
    "\n",
    "plt.figure()\n",
    "\n",
    "plt.step(fpr, tpr, color='darkorange', lw=2, label='ROC curve (auc = %0.2f)' % roc_auc)\n",
    "plt.plot([0, 1], [0, 1], color='navy', alpha=0.4, lw=2, linestyle='--')\n",
    "plt.xlim([0.0, 1.0])\n",
    "plt.ylim([0.0, 1.05])\n",
    "plt.xlabel('False Positive Rate')\n",
    "plt.ylabel('True Positive Rate')\n",
    "plt.title('ROC curve')\n",
    "plt.legend(loc=\"lower right\")\n",
    "\n",
    "plt.plot([cm_normalized[0,1]], [cm_normalized[1,1]], 'or')\n",
    "plt.show()"
   ]
  },
  {
   "cell_type": "code",
   "execution_count": 15,
   "metadata": {},
   "outputs": [
    {
     "data": {
      "image/png": "[encoded data removed]",
      "text/plain": [
       "<Figure size 432x288 with 1 Axes>"
      ]
     },
     "metadata": {},
     "output_type": "display_data"
    }
   ],
   "source": [
    "# Precision-Recall trade-off:\n",
    "precision, recall, thresholds=precision_recall_curve(y_test,grid_search.predict_proba(np.array(X_test))[:, 1],  pos_label=1)\n",
    "ave_precision=average_precision_score(y_test,grid_search.predict_proba(np.array(X_test))[:, 1])\n",
    "\n",
    "plt.step(recall, precision, color='navy')\n",
    "\n",
    "plt.xlabel('Recall')\n",
    "plt.ylabel('Precision')\n",
    "plt.xlim([0, 1.001])\n",
    "plt.ylim([0, 1.02])\n",
    "plt.title('Precision-Recall curve: AP={0:0.2f}'.format(ave_precision))\n",
    "\n",
    "plt.plot([cm_normalized[1,1]], [cm[1,1]/(cm[1,1]+cm[0,1])], 'ob')\n",
    "plt.show()"
   ]
  },
  {
   "cell_type": "code",
   "execution_count": 16,
   "metadata": {},
   "outputs": [
    {
     "name": "stdout",
     "output_type": "stream",
     "text": [
      "('ApplicantIncome', 0.3615257)\n",
      "('LoanAmount', 0.2835821)\n",
      "('CoapplicantIncome', 0.18905473)\n",
      "('Property_Area', 0.086235486)\n",
      "('Credit_History', 0.07960199)\n"
     ]
    },
    {
     "data": {
      "image/png": "[encoded data removed]",
      "text/plain": [
       "<Figure size 576x432 with 1 Axes>"
      ]
     },
     "metadata": {},
     "output_type": "display_data"
    }
   ],
   "source": [
    "# Feature Importance:\n",
    "im=XGBClassifier().fit(X,y).feature_importances_\n",
    "\n",
    "# Sort & Plot:\n",
    "d=dict(zip(np.array(X.columns), im))\n",
    "k=sorted(d,key=lambda i: d[i], reverse= True)\n",
    "[print((i,d[i])) for i in k]\n",
    "\n",
    "# Plot:\n",
    "c1=pd.DataFrame(np.array(im),  columns=[\"Importance\"])\n",
    "c2=pd.DataFrame(np.array(X.columns[0:8]),columns=[\"Feature\"])\n",
    "\n",
    "fig, ax = plt.subplots(figsize=(8,6)) \n",
    "sns.barplot(x=\"Feature\", y=\"Importance\", data=pd.concat([c2,c1], axis=1), color=\"blue\", ax=ax)\n",
    "plt.show()"
   ]
  },
  {
   "cell_type": "code",
   "execution_count": null,
   "metadata": {},
   "outputs": [],
   "source": []
  }
 ],
 "metadata": {
  "kernelspec": {
   "display_name": "Python 3",
   "language": "python",
   "name": "python3"
  },
  "language_info": {
   "codemirror_mode": {
    "name": "ipython",
    "version": 3
   },
   "file_extension": ".py",
   "mimetype": "text/x-python",
   "name": "python",
   "nbconvert_exporter": "python",
   "pygments_lexer": "ipython3",
   "version": "3.6.5"
  }
 },
 "nbformat": 4,
 "nbformat_minor": 2
}
