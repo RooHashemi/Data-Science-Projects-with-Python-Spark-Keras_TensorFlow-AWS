{
 "cells": [
  {
   "cell_type": "markdown",
   "metadata": {},
   "source": [
    "# Data description & Problem statement: \n",
    "The MNIST (\"Modified National Institute of Standards and Technology\") dataset contains gray-scale images of hand-drawn digits, from zero through nine. Each image is 28 pixels in height and 28 pixels in width, for a total of 784 pixels in total. Each pixel has a single pixel-value associated with it, indicating the lightness or darkness of that pixel, with higher numbers meaning darker. This pixel-value is an integer between 0 and 255, inclusive.\n",
    "\n",
    "* Dataset is slightly imbalanced. The data has 28x28 variables (or pixels) in total.\n",
    "* This is a multi-class classification task. The classification goal is to correctly identify digits from a dataset of tens of thousands of handwritten images.\n",
    "\n",
    "# Workflow:\n",
    "- Load the dataset\n",
    "- Data Cleaning/Wrangling: Encode categorical variables, etc.\n",
    "- Split data into training & test parts (utilize the training part for training & hyperparameter tuning of model, and test part for the final evaluation of model)\n",
    "   #  Model Training:\n",
    "- Build an initial XGBoost model, and evaluate it via C-V approach\n",
    "- Use grid-search along with C-V approach to find the best hyperparameters of XGBoost model: Find the best XGBoost model \n",
    "\n",
    "   # Model Evaluation: \n",
    "- Evaluate the XGBoost model with optimized hyperparameters on Test Dataset, by calculating:\n",
    "     - f1 score\n",
    "     - Confusion matrix\n",
    "\n",
    "Finally, calculate the Feature Importance. "
   ]
  },
  {
   "cell_type": "code",
   "execution_count": 1,
   "metadata": {},
   "outputs": [],
   "source": [
    "import sklearn\n",
    "import tensorflow as tf\n",
    "import numpy as np\n",
    "import pandas as pd\n",
    "import matplotlib.pyplot as plt\n",
    "import seaborn as sns\n",
    "from sklearn import preprocessing\n",
    "%matplotlib inline\n",
    "\n",
    "from scipy import stats\n",
    "\n",
    "import warnings\n",
    "warnings.filterwarnings(\"ignore\")"
   ]
  },
  {
   "cell_type": "code",
   "execution_count": 2,
   "metadata": {},
   "outputs": [],
   "source": [
    "df=pd.read_csv('C:/Users/rhash/Documents/Datasets/mnist.csv')\n",
    "\n",
    "# To Shuffle the data:\n",
    "np.random.seed(42)\n",
    "df=df.reindex(np.random.permutation(df.index))\n",
    "df.reset_index(inplace=True, drop=True)\n",
    "\n",
    "X=df.drop(['5'], axis=1)\n",
    "y=df['5']"
   ]
  },
  {
   "cell_type": "code",
   "execution_count": 3,
   "metadata": {},
   "outputs": [
    {
     "name": "stdout",
     "output_type": "stream",
     "text": [
      "[0.87896825 0.878      0.88777555 0.89336016] \n",
      "\n",
      "Accuracy: 0.88 (+/- 0.01)\n"
     ]
    }
   ],
   "source": [
    "# Building the Initial Model & Cross-Validation: \n",
    "import xgboost\n",
    "from xgboost import XGBClassifier\n",
    "from sklearn.model_selection import cross_val_score\n",
    "from sklearn.model_selection import StratifiedKFold\n",
    "\n",
    "model=XGBClassifier() \n",
    "kfold=StratifiedKFold(n_splits=4, shuffle=True, random_state=42)\n",
    "scores=cross_val_score(model, X, y, cv=kfold)\n",
    "\n",
    "print(scores, \"\\n\")\n",
    "print(\"Accuracy: %0.2f (+/- %0.2f)\" % (scores.mean(), scores.std()))"
   ]
  },
  {
   "cell_type": "code",
   "execution_count": 4,
   "metadata": {},
   "outputs": [
    {
     "data": {
      "text/html": [
       "<div>\n",
       "<style scoped>\n",
       "    .dataframe tbody tr th:only-of-type {\n",
       "        vertical-align: middle;\n",
       "    }\n",
       "\n",
       "    .dataframe tbody tr th {\n",
       "        vertical-align: top;\n",
       "    }\n",
       "\n",
       "    .dataframe thead th {\n",
       "        text-align: right;\n",
       "    }\n",
       "</style>\n",
       "<table border=\"1\" class=\"dataframe\">\n",
       "  <thead>\n",
       "    <tr style=\"text-align: right;\">\n",
       "      <th></th>\n",
       "      <th>mean_fit_time</th>\n",
       "      <th>std_fit_time</th>\n",
       "      <th>mean_score_time</th>\n",
       "      <th>std_score_time</th>\n",
       "      <th>param_gamma</th>\n",
       "      <th>param_max_depth</th>\n",
       "      <th>param_min_child_weight</th>\n",
       "      <th>params</th>\n",
       "      <th>split0_test_score</th>\n",
       "      <th>split1_test_score</th>\n",
       "      <th>split2_test_score</th>\n",
       "      <th>mean_test_score</th>\n",
       "      <th>std_test_score</th>\n",
       "      <th>rank_test_score</th>\n",
       "      <th>split0_train_score</th>\n",
       "      <th>split1_train_score</th>\n",
       "      <th>split2_train_score</th>\n",
       "      <th>mean_train_score</th>\n",
       "      <th>std_train_score</th>\n",
       "    </tr>\n",
       "  </thead>\n",
       "  <tbody>\n",
       "    <tr>\n",
       "      <th>0</th>\n",
       "      <td>34.894569</td>\n",
       "      <td>0.301807</td>\n",
       "      <td>0.087099</td>\n",
       "      <td>0.014934</td>\n",
       "      <td>0</td>\n",
       "      <td>4</td>\n",
       "      <td>1</td>\n",
       "      <td>{'gamma': 0, 'max_depth': 4, 'min_child_weight...</td>\n",
       "      <td>0.874502</td>\n",
       "      <td>0.884</td>\n",
       "      <td>0.845382</td>\n",
       "      <td>0.868000</td>\n",
       "      <td>0.016411</td>\n",
       "      <td>1</td>\n",
       "      <td>1.0</td>\n",
       "      <td>1.0</td>\n",
       "      <td>1.0</td>\n",
       "      <td>1.0</td>\n",
       "      <td>0.0</td>\n",
       "    </tr>\n",
       "    <tr>\n",
       "      <th>4</th>\n",
       "      <td>36.053717</td>\n",
       "      <td>0.427333</td>\n",
       "      <td>0.067693</td>\n",
       "      <td>0.007364</td>\n",
       "      <td>0.05</td>\n",
       "      <td>4</td>\n",
       "      <td>1</td>\n",
       "      <td>{'gamma': 0.05, 'max_depth': 4, 'min_child_wei...</td>\n",
       "      <td>0.870518</td>\n",
       "      <td>0.886</td>\n",
       "      <td>0.847390</td>\n",
       "      <td>0.868000</td>\n",
       "      <td>0.015848</td>\n",
       "      <td>1</td>\n",
       "      <td>1.0</td>\n",
       "      <td>1.0</td>\n",
       "      <td>1.0</td>\n",
       "      <td>1.0</td>\n",
       "      <td>0.0</td>\n",
       "    </tr>\n",
       "    <tr>\n",
       "      <th>6</th>\n",
       "      <td>41.794211</td>\n",
       "      <td>0.327287</td>\n",
       "      <td>0.072900</td>\n",
       "      <td>0.007363</td>\n",
       "      <td>0.05</td>\n",
       "      <td>5</td>\n",
       "      <td>1</td>\n",
       "      <td>{'gamma': 0.05, 'max_depth': 5, 'min_child_wei...</td>\n",
       "      <td>0.866534</td>\n",
       "      <td>0.900</td>\n",
       "      <td>0.833333</td>\n",
       "      <td>0.866667</td>\n",
       "      <td>0.027189</td>\n",
       "      <td>3</td>\n",
       "      <td>1.0</td>\n",
       "      <td>1.0</td>\n",
       "      <td>1.0</td>\n",
       "      <td>1.0</td>\n",
       "      <td>0.0</td>\n",
       "    </tr>\n",
       "  </tbody>\n",
       "</table>\n",
       "</div>"
      ],
      "text/plain": [
       "   mean_fit_time  std_fit_time  mean_score_time  std_score_time param_gamma  \\\n",
       "0      34.894569      0.301807         0.087099        0.014934           0   \n",
       "4      36.053717      0.427333         0.067693        0.007364        0.05   \n",
       "6      41.794211      0.327287         0.072900        0.007363        0.05   \n",
       "\n",
       "  param_max_depth param_min_child_weight  \\\n",
       "0               4                      1   \n",
       "4               4                      1   \n",
       "6               5                      1   \n",
       "\n",
       "                                              params  split0_test_score  \\\n",
       "0  {'gamma': 0, 'max_depth': 4, 'min_child_weight...           0.874502   \n",
       "4  {'gamma': 0.05, 'max_depth': 4, 'min_child_wei...           0.870518   \n",
       "6  {'gamma': 0.05, 'max_depth': 5, 'min_child_wei...           0.866534   \n",
       "\n",
       "   split1_test_score  split2_test_score  mean_test_score  std_test_score  \\\n",
       "0              0.884           0.845382         0.868000        0.016411   \n",
       "4              0.886           0.847390         0.868000        0.015848   \n",
       "6              0.900           0.833333         0.866667        0.027189   \n",
       "\n",
       "   rank_test_score  split0_train_score  split1_train_score  \\\n",
       "0                1                 1.0                 1.0   \n",
       "4                1                 1.0                 1.0   \n",
       "6                3                 1.0                 1.0   \n",
       "\n",
       "   split2_train_score  mean_train_score  std_train_score  \n",
       "0                 1.0               1.0              0.0  \n",
       "4                 1.0               1.0              0.0  \n",
       "6                 1.0               1.0              0.0  "
      ]
     },
     "execution_count": 4,
     "metadata": {},
     "output_type": "execute_result"
    }
   ],
   "source": [
    "# Grid-Search for the best model parameters: \n",
    "\n",
    "# We initially devide data into training & test folds: We do the Grid-Search only on training part  \n",
    "from sklearn.model_selection import train_test_split\n",
    "X_train, X_test, y_train, y_test = train_test_split(X, y, test_size=0.25, random_state=42)\n",
    "\n",
    "from sklearn.model_selection import GridSearchCV\n",
    "param={'max_depth':[4, 5], 'min_child_weight':[1, 2], 'gamma': [ 0, 0.05, 0.1]}\n",
    "\n",
    "kfold=StratifiedKFold(n_splits=3, shuffle=True, random_state=42)\n",
    "grid_search=GridSearchCV(XGBClassifier(), param, cv=kfold, n_jobs=-1)\n",
    "grid_search.fit(X_train, y_train)\n",
    "\n",
    "# Grid-Search report: \n",
    "G=pd.DataFrame(grid_search.cv_results_).sort_values(\"rank_test_score\")\n",
    "G.head(3)"
   ]
  },
  {
   "cell_type": "code",
   "execution_count": 5,
   "metadata": {},
   "outputs": [
    {
     "name": "stdout",
     "output_type": "stream",
     "text": [
      "Best parameters:  {'gamma': 0, 'max_depth': 4, 'min_child_weight': 1}\n",
      "Best validation accuracy:  0.87 (+/- 0.02)\n",
      "Test score:  0.9\n",
      "Log-loss:  0.3325772646912374\n"
     ]
    }
   ],
   "source": [
    "print(\"Best parameters: \", grid_search.best_params_)\n",
    "print(\"Best validation accuracy:  %0.2f (+/- %0.2f)\" % (np.round(grid_search.best_score_, decimals=2), np.round(G.loc[grid_search.best_index_,\"std_test_score\" ], decimals=2)))\n",
    "print(\"Test score: \", np.round(grid_search.score(X_test, y_test),2))\n",
    "print(\"Log-loss: \", sklearn.metrics.log_loss(y_test, grid_search.predict_proba(X_test)))"
   ]
  },
  {
   "cell_type": "code",
   "execution_count": 6,
   "metadata": {},
   "outputs": [
    {
     "name": "stdout",
     "output_type": "stream",
     "text": [
      "Confusion matrix, without normalization\n",
      "[[47  0  0  0  0  0  0  0  0  1]\n",
      " [ 0 48  0  0  0  0  0  0  0  0]\n",
      " [ 1  2 35  0  1  0  4  1  0  0]\n",
      " [ 0  1  1 52  0  1  1  0  1  0]\n",
      " [ 0  0  0  0 52  0  1  0  1  4]\n",
      " [ 1  1  0  1  1 26  0  0  2  0]\n",
      " [ 0  1  2  0  0  2 48  0  0  0]\n",
      " [ 1  1  0  0  0  0  0 40  0  1]\n",
      " [ 0  0  0  2  2  1  0  0 46  4]\n",
      " [ 1  0  0  1  2  0  1  1  0 56]]\n",
      "Normalized confusion matrix\n",
      "[[0.98 0.   0.   0.   0.   0.   0.   0.   0.   0.02]\n",
      " [0.   1.   0.   0.   0.   0.   0.   0.   0.   0.  ]\n",
      " [0.02 0.05 0.8  0.   0.02 0.   0.09 0.02 0.   0.  ]\n",
      " [0.   0.02 0.02 0.91 0.   0.02 0.02 0.   0.02 0.  ]\n",
      " [0.   0.   0.   0.   0.9  0.   0.02 0.   0.02 0.07]\n",
      " [0.03 0.03 0.   0.03 0.03 0.81 0.   0.   0.06 0.  ]\n",
      " [0.   0.02 0.04 0.   0.   0.04 0.91 0.   0.   0.  ]\n",
      " [0.02 0.02 0.   0.   0.   0.   0.   0.93 0.   0.02]\n",
      " [0.   0.   0.   0.04 0.04 0.02 0.   0.   0.84 0.07]\n",
      " [0.02 0.   0.   0.02 0.03 0.   0.02 0.02 0.   0.9 ]]\n"
     ]
    },
    {
     "data": {
      "image/png": "[encoded data removed]",
      "text/plain": [
       "<Figure size 432x288 with 2 Axes>"
      ]
     },
     "metadata": {},
     "output_type": "display_data"
    },
    {
     "data": {
      "image/png": "[encoded data removed]",
      "text/plain": [
       "<Figure size 432x288 with 2 Axes>"
      ]
     },
     "metadata": {},
     "output_type": "display_data"
    }
   ],
   "source": [
    "from sklearn.metrics import roc_curve, auc, confusion_matrix, classification_report\n",
    "\n",
    "# Plot a confusion matrix.\n",
    "# cm is the confusion matrix, names are the names of the classes.\n",
    "def plot_confusion_matrix(cm, names, title='Confusion matrix', cmap=plt.cm.Blues):\n",
    "    plt.imshow(cm, interpolation='nearest', cmap=cmap)\n",
    "    plt.title(title)\n",
    "    plt.colorbar()\n",
    "    tick_marks = np.arange(len(names))\n",
    "    plt.xticks(tick_marks, names, rotation=45)\n",
    "    plt.yticks(tick_marks, names)\n",
    "    plt.tight_layout()\n",
    "    plt.ylabel('True label')\n",
    "    plt.xlabel('Predicted label')\n",
    "\n",
    "names = [\"0\", \"1\", \"2\", \"3\", \"4\", \"5\", \"6\", \"7\", \"8\", \"9\"]\n",
    "    \n",
    "# Compute confusion matrix\n",
    "cm = confusion_matrix(y_test, grid_search.predict(X_test))\n",
    "np.set_printoptions(precision=2)\n",
    "print('Confusion matrix, without normalization')\n",
    "print(cm)\n",
    "plt.figure()\n",
    "plot_confusion_matrix(cm, names)\n",
    "\n",
    "# Normalize the confusion matrix by row (i.e by the number of samples in each class)\n",
    "cm_normalized = cm.astype('float') / cm.sum(axis=1)[:, np.newaxis]\n",
    "print('Normalized confusion matrix')\n",
    "print(cm_normalized)\n",
    "plt.figure()\n",
    "plot_confusion_matrix(cm_normalized, names, title='Normalized confusion matrix')\n",
    "\n",
    "plt.show()"
   ]
  },
  {
   "cell_type": "code",
   "execution_count": 7,
   "metadata": {},
   "outputs": [
    {
     "name": "stdout",
     "output_type": "stream",
     "text": [
      "             precision    recall  f1-score   support\n",
      "\n",
      "          0       0.92      0.98      0.95        48\n",
      "          1       0.89      1.00      0.94        48\n",
      "          2       0.92      0.80      0.85        44\n",
      "          3       0.93      0.91      0.92        57\n",
      "          4       0.90      0.90      0.90        58\n",
      "          5       0.87      0.81      0.84        32\n",
      "          6       0.87      0.91      0.89        53\n",
      "          7       0.95      0.93      0.94        43\n",
      "          8       0.92      0.84      0.88        55\n",
      "          9       0.85      0.90      0.88        62\n",
      "\n",
      "avg / total       0.90      0.90      0.90       500\n",
      "\n"
     ]
    }
   ],
   "source": [
    "# Classification report:\n",
    "report=classification_report(y_test, grid_search.predict(X_test))\n",
    "print(report)"
   ]
  },
  {
   "cell_type": "code",
   "execution_count": null,
   "metadata": {},
   "outputs": [],
   "source": []
  }
 ],
 "metadata": {
  "kernelspec": {
   "display_name": "Python 3",
   "language": "python",
   "name": "python3"
  },
  "language_info": {
   "codemirror_mode": {
    "name": "ipython",
    "version": 3
   },
   "file_extension": ".py",
   "mimetype": "text/x-python",
   "name": "python",
   "nbconvert_exporter": "python",
   "pygments_lexer": "ipython3",
   "version": "3.6.5"
  }
 },
 "nbformat": 4,
 "nbformat_minor": 2
}
