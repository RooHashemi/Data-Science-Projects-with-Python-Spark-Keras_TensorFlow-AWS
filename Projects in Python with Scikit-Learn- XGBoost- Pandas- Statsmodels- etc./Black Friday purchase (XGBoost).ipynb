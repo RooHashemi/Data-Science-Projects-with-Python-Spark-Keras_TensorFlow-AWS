{
 "cells": [
  {
   "cell_type": "markdown",
   "metadata": {},
   "source": [
    "# Data description & Problem statement: \n",
    "The dataset here is a sample of the transactions made in a retail store. The store wants to know better the customer purchase behaviour against different products. Specifically, here the problem is a Regression problem where we are trying to predict the dependent variable (the amount of purchase) with the help of the information contained in the other variables. The data set has 550067 rows and 11 variables.\n",
    "\n",
    "# Workflow:\n",
    "- Load the dataset, and define the required functions (e.g. for detecting the outliers)\n",
    "- Data Cleaning/Wrangling: Manipulate outliers, missing data or duplicate values, Encode categorical variables, etc.\n",
    "- Split data into training & test parts (utilize the training part for training & hyperparameter tuning of model, and test part for the final evaluation of model)\n",
    "   #  Model Training:\n",
    "- Build an initial XGBoost model, and evaluate it via C-V approach\n",
    "- Use grid-search along with C-V approach to find the best hyperparameters of XGBoost model: Find the best XGBoost model \n",
    "   # Model Evaluation: \n",
    "- Evaluate the best XGBoost model with optimized hyperparameters on Test Dataset, by calculating:\n",
    "     - r2 (determination factor)\n",
    "     - Lift chart\n",
    "     - RMSE \n",
    "     - Box-plot for prediction Vs. actual values \n",
    "     - Distribution plot of error/residuals\n",
    "     \n",
    "Finally, calculate the Feature Importance."
   ]
  },
  {
   "cell_type": "code",
   "execution_count": 1,
   "metadata": {},
   "outputs": [],
   "source": [
    "import sklearn\n",
    "import tensorflow as tf\n",
    "import numpy as np\n",
    "import pandas as pd\n",
    "import matplotlib.pyplot as plt\n",
    "import seaborn as sns\n",
    "from sklearn import preprocessing\n",
    "%matplotlib inline\n",
    "\n",
    "from scipy import stats\n",
    "\n",
    "import warnings\n",
    "warnings.filterwarnings(\"ignore\")"
   ]
  },
  {
   "cell_type": "code",
   "execution_count": 2,
   "metadata": {},
   "outputs": [
    {
     "name": "stdout",
     "output_type": "stream",
     "text": [
      "<class 'pandas.core.frame.DataFrame'>\n",
      "RangeIndex: 550068 entries, 0 to 550067\n",
      "Data columns (total 12 columns):\n",
      "User_ID                       550068 non-null int64\n",
      "Product_ID                    550068 non-null object\n",
      "Gender                        550068 non-null object\n",
      "Age                           550068 non-null object\n",
      "Occupation                    550068 non-null int64\n",
      "City_Category                 550068 non-null object\n",
      "Stay_In_Current_City_Years    550068 non-null object\n",
      "Marital_Status                550068 non-null int64\n",
      "Product_Category_1            550068 non-null int64\n",
      "Product_Category_2            376430 non-null float64\n",
      "Product_Category_3            166821 non-null float64\n",
      "Purchase                      550068 non-null int64\n",
      "dtypes: float64(2), int64(5), object(5)\n",
      "memory usage: 50.4+ MB\n"
     ]
    }
   ],
   "source": [
    "df=pd.read_csv('train.csv')\n",
    "\n",
    "# To Shuffle the data:\n",
    "np.random.seed(42)\n",
    "df=df.reindex(np.random.permutation(df.index))\n",
    "df.reset_index(inplace=True, drop=True)\n",
    "\n",
    "df.info()"
   ]
  },
  {
   "cell_type": "code",
   "execution_count": 3,
   "metadata": {},
   "outputs": [],
   "source": [
    "df.drop(['Product_Category_3' ], axis=1, inplace=True)\n",
    "\n",
    "#Replace missing values with -999\n",
    "df.fillna(-999, inplace=True)"
   ]
  },
  {
   "cell_type": "code",
   "execution_count": 4,
   "metadata": {},
   "outputs": [],
   "source": [
    "# Encode text values to indexes(i.e. [1],[2],[3] for red,green,blue).\n",
    "def encode_text_index(df, name):\n",
    "    le = preprocessing.LabelEncoder()\n",
    "    df[name] = le.fit_transform(df[name])\n",
    "    return le.classes_\n",
    "\n",
    "for i in ['User_ID', 'Product_ID', 'Age', 'Occupation', 'City_Category', 'Stay_In_Current_City_Years',\n",
    "          'Gender', 'Marital_Status', 'Product_Category_1', 'Product_Category_2' ]:\n",
    "    encode_text_index(df, i)"
   ]
  },
  {
   "cell_type": "code",
   "execution_count": 5,
   "metadata": {},
   "outputs": [
    {
     "data": {
      "text/html": [
       "<div>\n",
       "<style scoped>\n",
       "    .dataframe tbody tr th:only-of-type {\n",
       "        vertical-align: middle;\n",
       "    }\n",
       "\n",
       "    .dataframe tbody tr th {\n",
       "        vertical-align: top;\n",
       "    }\n",
       "\n",
       "    .dataframe thead th {\n",
       "        text-align: right;\n",
       "    }\n",
       "</style>\n",
       "<table border=\"1\" class=\"dataframe\">\n",
       "  <thead>\n",
       "    <tr style=\"text-align: right;\">\n",
       "      <th></th>\n",
       "      <th>User_ID</th>\n",
       "      <th>Product_ID</th>\n",
       "      <th>Gender</th>\n",
       "      <th>Age</th>\n",
       "      <th>Occupation</th>\n",
       "      <th>City_Category</th>\n",
       "      <th>Stay_In_Current_City_Years</th>\n",
       "      <th>Marital_Status</th>\n",
       "      <th>Product_Category_1</th>\n",
       "      <th>Product_Category_2</th>\n",
       "      <th>Purchase</th>\n",
       "    </tr>\n",
       "  </thead>\n",
       "  <tbody>\n",
       "    <tr>\n",
       "      <th>0</th>\n",
       "      <td>0</td>\n",
       "      <td>672</td>\n",
       "      <td>0</td>\n",
       "      <td>0</td>\n",
       "      <td>10</td>\n",
       "      <td>0</td>\n",
       "      <td>2</td>\n",
       "      <td>0</td>\n",
       "      <td>2</td>\n",
       "      <td>0</td>\n",
       "      <td>8370</td>\n",
       "    </tr>\n",
       "    <tr>\n",
       "      <th>1</th>\n",
       "      <td>0</td>\n",
       "      <td>2376</td>\n",
       "      <td>0</td>\n",
       "      <td>0</td>\n",
       "      <td>10</td>\n",
       "      <td>0</td>\n",
       "      <td>2</td>\n",
       "      <td>0</td>\n",
       "      <td>0</td>\n",
       "      <td>5</td>\n",
       "      <td>15200</td>\n",
       "    </tr>\n",
       "    <tr>\n",
       "      <th>2</th>\n",
       "      <td>0</td>\n",
       "      <td>852</td>\n",
       "      <td>0</td>\n",
       "      <td>0</td>\n",
       "      <td>10</td>\n",
       "      <td>0</td>\n",
       "      <td>2</td>\n",
       "      <td>0</td>\n",
       "      <td>11</td>\n",
       "      <td>0</td>\n",
       "      <td>1422</td>\n",
       "    </tr>\n",
       "    <tr>\n",
       "      <th>3</th>\n",
       "      <td>0</td>\n",
       "      <td>828</td>\n",
       "      <td>0</td>\n",
       "      <td>0</td>\n",
       "      <td>10</td>\n",
       "      <td>0</td>\n",
       "      <td>2</td>\n",
       "      <td>0</td>\n",
       "      <td>11</td>\n",
       "      <td>13</td>\n",
       "      <td>1057</td>\n",
       "    </tr>\n",
       "    <tr>\n",
       "      <th>4</th>\n",
       "      <td>1</td>\n",
       "      <td>2734</td>\n",
       "      <td>1</td>\n",
       "      <td>6</td>\n",
       "      <td>16</td>\n",
       "      <td>2</td>\n",
       "      <td>4</td>\n",
       "      <td>0</td>\n",
       "      <td>7</td>\n",
       "      <td>0</td>\n",
       "      <td>7969</td>\n",
       "    </tr>\n",
       "  </tbody>\n",
       "</table>\n",
       "</div>"
      ],
      "text/plain": [
       "   User_ID  Product_ID  Gender  Age  Occupation  City_Category  \\\n",
       "0        0         672       0    0          10              0   \n",
       "1        0        2376       0    0          10              0   \n",
       "2        0         852       0    0          10              0   \n",
       "3        0         828       0    0          10              0   \n",
       "4        1        2734       1    6          16              2   \n",
       "\n",
       "   Stay_In_Current_City_Years  Marital_Status  Product_Category_1  \\\n",
       "0                           2               0                   2   \n",
       "1                           2               0                   0   \n",
       "2                           2               0                  11   \n",
       "3                           2               0                  11   \n",
       "4                           4               0                   7   \n",
       "\n",
       "   Product_Category_2  Purchase  \n",
       "0                   0      8370  \n",
       "1                   5     15200  \n",
       "2                   0      1422  \n",
       "3                  13      1057  \n",
       "4                   0      7969  "
      ]
     },
     "execution_count": 5,
     "metadata": {},
     "output_type": "execute_result"
    }
   ],
   "source": [
    "df.head(5)"
   ]
  },
  {
   "cell_type": "code",
   "execution_count": 6,
   "metadata": {},
   "outputs": [],
   "source": [
    "X=df.drop(['Purchase'], axis=1)\n",
    "y=df['Purchase']\n",
    "\n",
    "# We initially devide data into training & test folds: We do the Grid-Search only on training part  \n",
    "from sklearn.model_selection import train_test_split\n",
    "X_train, X_test, y_train, y_test = train_test_split(X, y, test_size=0.3, random_state=42, shuffle=True)\n",
    "\n",
    "# Re-scaling & Polynomial Interactions:\n",
    "from sklearn.preprocessing import StandardScaler, MinMaxScaler, PolynomialFeatures\n",
    "\n",
    "scaler_y=MinMaxScaler().fit(pd.DataFrame(y_train))\n",
    "y_train=scaler_y.transform(pd.DataFrame(y_train))\n",
    "y_test=scaler_y.transform(pd.DataFrame(y_test))"
   ]
  },
  {
   "cell_type": "code",
   "execution_count": 7,
   "metadata": {},
   "outputs": [
    {
     "data": {
      "text/plain": [
       "GridSearchCV(cv=2, error_score='raise',\n",
       "       estimator=XGBRegressor(base_score=0.5, booster='gbtree', colsample_bylevel=1,\n",
       "       colsample_bytree=1, gamma=0, learning_rate=0.1, max_delta_step=0,\n",
       "       max_depth=3, min_child_weight=1, missing=-999, n_estimators=100,\n",
       "       n_jobs=-1, nthread=None, objective='reg:linear', random_state=0,\n",
       "       reg_alpha=0, reg_lambda=1, scale_pos_weight=1, seed=None,\n",
       "       silent=True, subsample=1),\n",
       "       fit_params=None, iid=True, n_jobs=-1,\n",
       "       param_grid={'max_depth': [12], 'subsample': [0.7], 'n_estimators': [400]},\n",
       "       pre_dispatch='2*n_jobs', refit=True, return_train_score='warn',\n",
       "       scoring=None, verbose=0)"
      ]
     },
     "execution_count": 7,
     "metadata": {},
     "output_type": "execute_result"
    }
   ],
   "source": [
    "# Grid-Search for the best model parameters: \n",
    "import xgboost\n",
    "from xgboost import XGBRegressor\n",
    "from sklearn.model_selection import GridSearchCV\n",
    "\n",
    "param={'max_depth':[12], 'subsample': [0.7], 'n_estimators': [400]}\n",
    "\n",
    "grid_search=GridSearchCV(XGBRegressor(n_jobs=-1, missing=-999), param, cv=2, n_jobs=-1)\n",
    "grid_search.fit(X_train, y_train)"
   ]
  },
  {
   "cell_type": "code",
   "execution_count": 8,
   "metadata": {},
   "outputs": [
    {
     "data": {
      "text/html": [
       "<div>\n",
       "<style scoped>\n",
       "    .dataframe tbody tr th:only-of-type {\n",
       "        vertical-align: middle;\n",
       "    }\n",
       "\n",
       "    .dataframe tbody tr th {\n",
       "        vertical-align: top;\n",
       "    }\n",
       "\n",
       "    .dataframe thead th {\n",
       "        text-align: right;\n",
       "    }\n",
       "</style>\n",
       "<table border=\"1\" class=\"dataframe\">\n",
       "  <thead>\n",
       "    <tr style=\"text-align: right;\">\n",
       "      <th></th>\n",
       "      <th>mean_fit_time</th>\n",
       "      <th>std_fit_time</th>\n",
       "      <th>mean_score_time</th>\n",
       "      <th>std_score_time</th>\n",
       "      <th>param_max_depth</th>\n",
       "      <th>param_n_estimators</th>\n",
       "      <th>param_subsample</th>\n",
       "      <th>params</th>\n",
       "      <th>split0_test_score</th>\n",
       "      <th>split1_test_score</th>\n",
       "      <th>mean_test_score</th>\n",
       "      <th>std_test_score</th>\n",
       "      <th>rank_test_score</th>\n",
       "      <th>split0_train_score</th>\n",
       "      <th>split1_train_score</th>\n",
       "      <th>mean_train_score</th>\n",
       "      <th>std_train_score</th>\n",
       "    </tr>\n",
       "  </thead>\n",
       "  <tbody>\n",
       "    <tr>\n",
       "      <th>0</th>\n",
       "      <td>557.174167</td>\n",
       "      <td>0.697811</td>\n",
       "      <td>75.768376</td>\n",
       "      <td>0.064825</td>\n",
       "      <td>12</td>\n",
       "      <td>400</td>\n",
       "      <td>0.7</td>\n",
       "      <td>{'max_depth': 12, 'n_estimators': 400, 'subsam...</td>\n",
       "      <td>0.729795</td>\n",
       "      <td>0.731435</td>\n",
       "      <td>0.730615</td>\n",
       "      <td>0.00082</td>\n",
       "      <td>1</td>\n",
       "      <td>0.926683</td>\n",
       "      <td>0.924687</td>\n",
       "      <td>0.925685</td>\n",
       "      <td>0.000998</td>\n",
       "    </tr>\n",
       "  </tbody>\n",
       "</table>\n",
       "</div>"
      ],
      "text/plain": [
       "   mean_fit_time  std_fit_time  mean_score_time  std_score_time  \\\n",
       "0     557.174167      0.697811        75.768376        0.064825   \n",
       "\n",
       "  param_max_depth param_n_estimators param_subsample  \\\n",
       "0              12                400             0.7   \n",
       "\n",
       "                                              params  split0_test_score  \\\n",
       "0  {'max_depth': 12, 'n_estimators': 400, 'subsam...           0.729795   \n",
       "\n",
       "   split1_test_score  mean_test_score  std_test_score  rank_test_score  \\\n",
       "0           0.731435         0.730615         0.00082                1   \n",
       "\n",
       "   split0_train_score  split1_train_score  mean_train_score  std_train_score  \n",
       "0            0.926683            0.924687          0.925685         0.000998  "
      ]
     },
     "execution_count": 8,
     "metadata": {},
     "output_type": "execute_result"
    }
   ],
   "source": [
    "# Grid-Search report: \n",
    "G=pd.DataFrame(grid_search.cv_results_).sort_values(\"rank_test_score\")\n",
    "G.head(3)"
   ]
  },
  {
   "cell_type": "code",
   "execution_count": 9,
   "metadata": {},
   "outputs": [
    {
     "name": "stdout",
     "output_type": "stream",
     "text": [
      "Best parameters:  {'max_depth': 12, 'n_estimators': 400, 'subsample': 0.7}\n",
      "Best validation accuracy:  0.73 (+/- 0.00)\n",
      "Test score:  0.74\n"
     ]
    }
   ],
   "source": [
    "print(\"Best parameters: \", grid_search.best_params_)\n",
    "print(\"Best validation accuracy:  %0.2f (+/- %0.2f)\" % (np.round(grid_search.best_score_, decimals=2), np.round(G.loc[grid_search.best_index_,\"std_test_score\" ], decimals=2)))\n",
    "print(\"Test score: \", np.round(grid_search.score(X_test, y_test),2))"
   ]
  },
  {
   "cell_type": "code",
   "execution_count": 10,
   "metadata": {},
   "outputs": [
    {
     "data": {
      "image/png": "[encoded data removed]",
      "text/plain": [
       "<Figure size 432x288 with 1 Axes>"
      ]
     },
     "metadata": {},
     "output_type": "display_data"
    }
   ],
   "source": [
    "# Plot the Lift Chart:\n",
    "\n",
    "# Regression chart.\n",
    "def chart_regression(pred,y,sort=True):\n",
    "    t = pd.DataFrame({'pred' : pred, 'y' : y.flatten()})\n",
    "    if sort:\n",
    "        t.sort_values(by=['y'],inplace=True)\n",
    "        plt.plot(t['pred'].tolist(),label='prediction')\n",
    "        plt.plot(t['y'].tolist(),label='expected')\n",
    "        plt.ylabel('output')\n",
    "    plt.legend()\n",
    "    plt.show()\n",
    "\n",
    "pred=grid_search.predict(X_test)\n",
    "chart_regression(pred.flatten(), np.array(y_test), sort=True)"
   ]
  },
  {
   "cell_type": "code",
   "execution_count": 11,
   "metadata": {},
   "outputs": [
    {
     "name": "stdout",
     "output_type": "stream",
     "text": [
      "Test RMSE:  2545.6819276675797\n"
     ]
    }
   ],
   "source": [
    "from sklearn.metrics import mean_squared_error\n",
    "from math import sqrt\n",
    "\n",
    "pred_inv=scaler_y.inverse_transform(pd.DataFrame(pred))\n",
    "y_test_inv=scaler_y.inverse_transform(y_test)\n",
    "\n",
    "rmse = sqrt(mean_squared_error(y_test_inv, pred_inv))\n",
    "print('Test RMSE: ', rmse)"
   ]
  },
  {
   "cell_type": "code",
   "execution_count": 12,
   "metadata": {},
   "outputs": [
    {
     "data": {
      "image/png": "[encoded data removed]",
      "text/plain": [
       "<Figure size 432x288 with 1 Axes>"
      ]
     },
     "metadata": {},
     "output_type": "display_data"
    }
   ],
   "source": [
    "plt.boxplot([y_test_inv.ravel(), pred_inv.ravel()], labels=['actual','predicted'])\n",
    "plt.title('Box Plot - Actual, Predicted')\n",
    "plt.ylabel('Target')\n",
    "plt.grid(True)"
   ]
  },
  {
   "cell_type": "code",
   "execution_count": 13,
   "metadata": {},
   "outputs": [
    {
     "data": {
      "image/png": "[encoded data removed]",
      "text/plain": [
       "<Figure size 432x288 with 1 Axes>"
      ]
     },
     "metadata": {},
     "output_type": "display_data"
    }
   ],
   "source": [
    "# Over prediction and Under Prediction needs to be balanced:\n",
    "# Training Data Residuals\n",
    "residuals = y_test_inv.ravel()-pred_inv.ravel()\n",
    "\n",
    "plt.hist(residuals)\n",
    "plt.grid(True)\n",
    "plt.xlabel('(Predicted - Actual)')\n",
    "plt.ylabel('Count')\n",
    "plt.title('Residuals Distribution')\n",
    "plt.axvline(color='g')\n",
    "plt.show()"
   ]
  },
  {
   "cell_type": "code",
   "execution_count": 14,
   "metadata": {},
   "outputs": [
    {
     "name": "stdout",
     "output_type": "stream",
     "text": [
      "('User_ID', 0.2918802)\n",
      "('Product_ID', 0.267206)\n",
      "('Occupation', 0.11008222)\n",
      "('Product_Category_2', 0.06799196)\n",
      "('Age', 0.06772009)\n",
      "('Stay_In_Current_City_Years', 0.05909443)\n",
      "('Product_Category_1', 0.052445997)\n",
      "('City_Category', 0.037452012)\n",
      "('Marital_Status', 0.023833847)\n",
      "('Gender', 0.022293257)\n"
     ]
    },
    {
     "data": {
      "image/png": "[encoded data removed]",
      "text/plain": [
       "<Figure size 864x432 with 1 Axes>"
      ]
     },
     "metadata": {},
     "output_type": "display_data"
    }
   ],
   "source": [
    "im=XGBRegressor(max_depth= 12, subsample=0.7, min_child_weight= 10, n_estimators=100).fit(X, y).feature_importances_\n",
    "\n",
    "# Sort & Plot:\n",
    "d=dict(zip(np.array(X.columns), im))\n",
    "k=sorted(d,key=lambda i: d[i], reverse= True)\n",
    "[print((i,d[i])) for i in k]\n",
    "\n",
    "# Plot:\n",
    "c1=pd.DataFrame(np.array(im),  columns=[\"Importance\"])\n",
    "c2=pd.DataFrame(np.array(X.columns),columns=[\"Feature\"])\n",
    "\n",
    "fig, ax = plt.subplots(figsize=(12,6)) \n",
    "sns.barplot(x=\"Feature\", y=\"Importance\", data=pd.concat([c2,c1], axis=1), color=\"blue\", ax=ax)\n",
    "plt.xticks(rotation=-90)\n",
    "plt.show()"
   ]
  },
  {
   "cell_type": "code",
   "execution_count": null,
   "metadata": {},
   "outputs": [],
   "source": []
  }
 ],
 "metadata": {
  "kernelspec": {
   "display_name": "Python 3",
   "language": "python",
   "name": "python3"
  },
  "language_info": {
   "codemirror_mode": {
    "name": "ipython",
    "version": 3
   },
   "file_extension": ".py",
   "mimetype": "text/x-python",
   "name": "python",
   "nbconvert_exporter": "python",
   "pygments_lexer": "ipython3",
   "version": "3.6.5"
  }
 },
 "nbformat": 4,
 "nbformat_minor": 2
}
