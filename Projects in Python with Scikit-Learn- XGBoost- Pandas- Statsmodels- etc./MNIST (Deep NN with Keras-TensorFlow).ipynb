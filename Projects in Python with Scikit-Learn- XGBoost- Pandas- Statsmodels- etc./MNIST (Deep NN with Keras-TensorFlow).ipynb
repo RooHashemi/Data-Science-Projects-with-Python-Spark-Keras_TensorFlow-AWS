{
 "cells": [
  {
   "cell_type": "markdown",
   "metadata": {},
   "source": [
    "# Data description & Problem statement: \n",
    "The MNIST (\"Modified National Institute of Standards and Technology\") dataset contains gray-scale images of hand-drawn digits, from zero through nine. Each image is 28 pixels in height and 28 pixels in width, for a total of 784 pixels in total. Each pixel has a single pixel-value associated with it, indicating the lightness or darkness of that pixel, with higher numbers meaning darker. This pixel-value is an integer between 0 and 255, inclusive.\n",
    "\n",
    "* Dataset is slightly imbalanced. The data has 28x28 variables (or pixels) in total.\n",
    "* This is a multi-class classification task. The classification goal is to correctly identify digits from a dataset of tens of thousands of handwritten images. \n",
    "\n",
    "# Workflow:\n",
    "- Load the dataset\n",
    "- Data Cleaning/Wrangling: Encode categorical variables, etc.\n",
    "- Split data into training & test parts (utilize the training part for training & hyperparameter tuning of model, and test part for the final evaluation of model)\n",
    "   #  Model Training:\n",
    "- Build a Deep Neural Network with Keras/TensorFlow.\n",
    "\n",
    "   # Model Evaluation: \n",
    "- Evaluate the Deep Neural Network model with optimized hyperparameters on Test Dataset, by calculating:\n",
    "     - Accuracy\n",
    "     - f1 Score\n",
    "     - Confusion matrix"
   ]
  },
  {
   "cell_type": "code",
   "execution_count": 1,
   "metadata": {},
   "outputs": [],
   "source": [
    "import sklearn\n",
    "import tensorflow as tf\n",
    "import numpy as np\n",
    "import pandas as pd\n",
    "import matplotlib.pyplot as plt\n",
    "import seaborn as sns\n",
    "from sklearn.metrics import *\n",
    "%matplotlib inline\n",
    "\n",
    "from scipy import stats\n",
    "\n",
    "import warnings\n",
    "warnings.filterwarnings(\"ignore\")"
   ]
  },
  {
   "cell_type": "code",
   "execution_count": 2,
   "metadata": {},
   "outputs": [
    {
     "name": "stderr",
     "output_type": "stream",
     "text": [
      "Using TensorFlow backend.\n"
     ]
    }
   ],
   "source": [
    "from keras.datasets import mnist"
   ]
  },
  {
   "cell_type": "code",
   "execution_count": 3,
   "metadata": {},
   "outputs": [],
   "source": [
    "data=mnist.load_data()[0][0]\n",
    "target=mnist.load_data()[0][1]\n",
    "\n",
    "X=pd.DataFrame(data.reshape(60000,784))\n",
    "\n",
    "# Re-scaling of data:\n",
    "#from sklearn.preprocessing import StandardScaler, MinMaxScaler\n",
    "#X=StandardScaler().fit(X).transform(X)\n",
    "\n",
    "# Decode the target: \n",
    "from keras.utils import to_categorical\n",
    "y=to_categorical(target)\n",
    "\n",
    "from sklearn.model_selection import train_test_split\n",
    "X_train, X_test, y_train, y_test = train_test_split(X, y, test_size=0.2, random_state=42)"
   ]
  },
  {
   "cell_type": "code",
   "execution_count": 4,
   "metadata": {},
   "outputs": [
    {
     "name": "stdout",
     "output_type": "stream",
     "text": [
      "Train on 48000 samples, validate on 12000 samples\n",
      "Epoch 1/200\n",
      "48000/48000 [==============================] - 20s 413us/step - loss: 0.4655 - acc: 0.8569 - val_loss: 0.1976 - val_acc: 0.9397\n",
      "\n",
      "Epoch 00001: val_acc improved from -inf to 0.93967, saving model to best_weights.hdf5\n",
      "Epoch 2/200\n",
      "48000/48000 [==============================] - 19s 401us/step - loss: 0.2176 - acc: 0.9330 - val_loss: 0.1461 - val_acc: 0.9556\n",
      "\n",
      "Epoch 00002: val_acc improved from 0.93967 to 0.95558, saving model to best_weights.hdf5\n",
      "Epoch 3/200\n",
      "48000/48000 [==============================] - 19s 403us/step - loss: 0.1807 - acc: 0.9444 - val_loss: 0.1242 - val_acc: 0.9630\n",
      "\n",
      "Epoch 00003: val_acc improved from 0.95558 to 0.96300, saving model to best_weights.hdf5\n",
      "Epoch 4/200\n",
      "48000/48000 [==============================] - 19s 397us/step - loss: 0.1555 - acc: 0.9530 - val_loss: 0.1170 - val_acc: 0.9649\n",
      "\n",
      "Epoch 00004: val_acc improved from 0.96300 to 0.96492, saving model to best_weights.hdf5\n",
      "Epoch 5/200\n",
      "48000/48000 [==============================] - 19s 388us/step - loss: 0.1368 - acc: 0.9580 - val_loss: 0.1085 - val_acc: 0.9688\n",
      "\n",
      "Epoch 00005: val_acc improved from 0.96492 to 0.96883, saving model to best_weights.hdf5\n",
      "Epoch 6/200\n",
      "48000/48000 [==============================] - 18s 383us/step - loss: 0.1258 - acc: 0.9604 - val_loss: 0.1071 - val_acc: 0.9695\n",
      "\n",
      "Epoch 00006: val_acc improved from 0.96883 to 0.96950, saving model to best_weights.hdf5\n",
      "Epoch 7/200\n",
      "48000/48000 [==============================] - 19s 388us/step - loss: 0.1152 - acc: 0.9639 - val_loss: 0.1065 - val_acc: 0.9685\n",
      "\n",
      "Epoch 00007: val_acc did not improve from 0.96950\n",
      "Epoch 8/200\n",
      "48000/48000 [==============================] - 19s 399us/step - loss: 0.1066 - acc: 0.9672 - val_loss: 0.0964 - val_acc: 0.9724\n",
      "\n",
      "Epoch 00008: val_acc improved from 0.96950 to 0.97242, saving model to best_weights.hdf5\n",
      "Epoch 9/200\n",
      "48000/48000 [==============================] - 19s 395us/step - loss: 0.1022 - acc: 0.9679 - val_loss: 0.0923 - val_acc: 0.9737\n",
      "\n",
      "Epoch 00009: val_acc improved from 0.97242 to 0.97367, saving model to best_weights.hdf5\n",
      "Epoch 10/200\n",
      "48000/48000 [==============================] - 19s 386us/step - loss: 0.0918 - acc: 0.9709 - val_loss: 0.0929 - val_acc: 0.9739\n",
      "\n",
      "Epoch 00010: val_acc improved from 0.97367 to 0.97392, saving model to best_weights.hdf5\n",
      "Epoch 11/200\n",
      "48000/48000 [==============================] - 18s 379us/step - loss: 0.0887 - acc: 0.9725 - val_loss: 0.0911 - val_acc: 0.9741\n",
      "\n",
      "Epoch 00011: val_acc improved from 0.97392 to 0.97408, saving model to best_weights.hdf5\n",
      "Epoch 12/200\n",
      "48000/48000 [==============================] - 18s 380us/step - loss: 0.0857 - acc: 0.9732 - val_loss: 0.0927 - val_acc: 0.9742\n",
      "\n",
      "Epoch 00012: val_acc improved from 0.97408 to 0.97417, saving model to best_weights.hdf5\n"
     ]
    }
   ],
   "source": [
    "# Keras Neural Networks: ___________________\n",
    "n_input=X.shape[1]\n",
    "\n",
    "from keras.models import Sequential\n",
    "from keras.layers import Dense, Dropout\n",
    "from keras.callbacks import EarlyStopping, ModelCheckpoint\n",
    "\n",
    "model=Sequential()\n",
    "\n",
    "model.add(Dense(200, activation=\"relu\", input_shape=(n_input, )))\n",
    "model.add(Dropout(0.25))\n",
    "model.add(Dense(500, activation=\"sigmoid\"))\n",
    "model.add(Dense(200, activation=\"relu\"))\n",
    "model.add(Dense(10, activation=\"softmax\"))\n",
    "\n",
    "model.compile(optimizer=\"adagrad\", loss=\"categorical_crossentropy\", metrics=['accuracy'])\n",
    "\n",
    "monitor=EarlyStopping(monitor='val_acc', min_delta=1e-3, patience=3, mode=\"auto\")\n",
    "checkpointer = ModelCheckpoint(filepath=\"best_weights.hdf5\", monitor='val_acc', verbose=1, save_best_only=True) # save best model\n",
    "\n",
    "history=model.fit(X_train,y_train, epochs=200, validation_data=(X_test, y_test), callbacks=[monitor, checkpointer])\n",
    "model.load_weights('best_weights.hdf5') # load weights from best model"
   ]
  },
  {
   "cell_type": "code",
   "execution_count": 5,
   "metadata": {},
   "outputs": [
    {
     "name": "stdout",
     "output_type": "stream",
     "text": [
      "Training Accuracy =  0.9867291666666667 \n",
      "\n",
      "Training loss: 0.043317345545995825 \n",
      "\n",
      "Test Accuracy =  0.9741666666666666 \n",
      "\n",
      "Test loss: 0.09271473877861475 \n",
      "\n"
     ]
    }
   ],
   "source": [
    "model.load_weights('best_weights.hdf5') # load weights from best model\n",
    "print(\"Training Accuracy = \", model.evaluate(X_train, y_train, verbose=0)[1],\"\\n\")\n",
    "print('Training loss: {}'.format(model.evaluate(X_train, y_train, verbose=0)[0]),\"\\n\")\n",
    "print(\"Test Accuracy = \", model.evaluate(X_test, y_test, verbose=0)[1] ,\"\\n\")\n",
    "print('Test loss: {}'.format(model.evaluate(X_test, y_test, verbose=0)[0]),\"\\n\")"
   ]
  },
  {
   "cell_type": "code",
   "execution_count": 6,
   "metadata": {},
   "outputs": [
    {
     "name": "stdout",
     "output_type": "stream",
     "text": [
      "dict_keys(['val_loss', 'val_acc', 'loss', 'acc'])\n"
     ]
    },
    {
     "data": {
      "image/png": "[encoded data removed]",
      "text/plain": [
       "<Figure size 432x288 with 1 Axes>"
      ]
     },
     "metadata": {},
     "output_type": "display_data"
    },
    {
     "data": {
      "image/png": "[encoded data removed]",
      "text/plain": [
       "<Figure size 432x288 with 1 Axes>"
      ]
     },
     "metadata": {},
     "output_type": "display_data"
    }
   ],
   "source": [
    "# list all data in history\n",
    "print(history.history.keys())\n",
    "\n",
    "# summarize history for accuracy\n",
    "plt.plot(history.history['acc'])\n",
    "plt.plot(history.history['val_acc'])\n",
    "plt.title('model accuracy')\n",
    "plt.ylabel('accuracy')\n",
    "plt.xlabel('epoch')\n",
    "plt.legend(['train', 'test'], loc='upper left')\n",
    "plt.show()\n",
    "\n",
    "# summarize history for loss\n",
    "plt.plot(history.history['loss'])\n",
    "plt.plot(history.history['val_loss'])\n",
    "plt.title('model loss')\n",
    "plt.ylabel('loss')\n",
    "plt.xlabel('epoch')\n",
    "plt.legend(['train', 'test'], loc='upper left')\n",
    "plt.show()"
   ]
  },
  {
   "cell_type": "code",
   "execution_count": 7,
   "metadata": {},
   "outputs": [
    {
     "name": "stdout",
     "output_type": "stream",
     "text": [
      "Confusion matrix, without normalization\n",
      "[[1157    0    5    1    3    2    3    1    2    1]\n",
      " [   0 1316    3    0    1    0    1    0    1    0]\n",
      " [   0    6 1145    3    2    1    0   11    5    1]\n",
      " [   2    1   17 1156    0   15    0    7   14    7]\n",
      " [   1    1    1    1 1153    1    6    1    0   11]\n",
      " [   5    1    2    8    3 1068    6    3    4    4]\n",
      " [   4    3    1    0    2    4 1161    0    2    0]\n",
      " [   0   10   10    1    3    1    0 1271    1    2]\n",
      " [   4    7    5    6    5    8    3    2 1115    5]\n",
      " [   4    2    2    1   16    2    2   13    4 1148]]\n",
      "Normalized confusion matrix\n",
      "[[9.85e-01 0.00e+00 4.26e-03 8.51e-04 2.55e-03 1.70e-03 2.55e-03 8.51e-04\n",
      "  1.70e-03 8.51e-04]\n",
      " [0.00e+00 9.95e-01 2.27e-03 0.00e+00 7.56e-04 0.00e+00 7.56e-04 0.00e+00\n",
      "  7.56e-04 0.00e+00]\n",
      " [0.00e+00 5.11e-03 9.75e-01 2.56e-03 1.70e-03 8.52e-04 0.00e+00 9.37e-03\n",
      "  4.26e-03 8.52e-04]\n",
      " [1.64e-03 8.20e-04 1.39e-02 9.48e-01 0.00e+00 1.23e-02 0.00e+00 5.74e-03\n",
      "  1.15e-02 5.74e-03]\n",
      " [8.50e-04 8.50e-04 8.50e-04 8.50e-04 9.80e-01 8.50e-04 5.10e-03 8.50e-04\n",
      "  0.00e+00 9.35e-03]\n",
      " [4.53e-03 9.06e-04 1.81e-03 7.25e-03 2.72e-03 9.67e-01 5.43e-03 2.72e-03\n",
      "  3.62e-03 3.62e-03]\n",
      " [3.40e-03 2.55e-03 8.50e-04 0.00e+00 1.70e-03 3.40e-03 9.86e-01 0.00e+00\n",
      "  1.70e-03 0.00e+00]\n",
      " [0.00e+00 7.70e-03 7.70e-03 7.70e-04 2.31e-03 7.70e-04 0.00e+00 9.78e-01\n",
      "  7.70e-04 1.54e-03]\n",
      " [3.45e-03 6.03e-03 4.31e-03 5.17e-03 4.31e-03 6.90e-03 2.59e-03 1.72e-03\n",
      "  9.61e-01 4.31e-03]\n",
      " [3.35e-03 1.68e-03 1.68e-03 8.38e-04 1.34e-02 1.68e-03 1.68e-03 1.09e-02\n",
      "  3.35e-03 9.61e-01]]\n"
     ]
    },
    {
     "data": {
      "image/png": "[encoded data removed]",
      "text/plain": [
       "<Figure size 432x288 with 2 Axes>"
      ]
     },
     "metadata": {},
     "output_type": "display_data"
    },
    {
     "data": {
      "image/png": "[encoded data removed]",
      "text/plain": [
       "<Figure size 432x288 with 2 Axes>"
      ]
     },
     "metadata": {},
     "output_type": "display_data"
    }
   ],
   "source": [
    "from sklearn.metrics import roc_curve, auc, confusion_matrix, classification_report\n",
    "\n",
    "# Plot a confusion matrix.\n",
    "# cm is the confusion matrix, names are the names of the classes.\n",
    "def plot_confusion_matrix(cm, names, title='Confusion matrix', cmap=plt.cm.Blues):\n",
    "    plt.imshow(cm, interpolation='nearest', cmap=cmap)\n",
    "    plt.title(title)\n",
    "    plt.colorbar()\n",
    "    tick_marks = np.arange(len(names))\n",
    "    plt.xticks(tick_marks, names, rotation=45)\n",
    "    plt.yticks(tick_marks, names)\n",
    "    plt.tight_layout()\n",
    "    plt.ylabel('True label')\n",
    "    plt.xlabel('Predicted label')\n",
    "    \n",
    "names = [\"0\", \"1\", \"2\", \"3\", \"4\", \"5\", \"6\", \"7\", \"8\", \"9\"]\n",
    "    \n",
    "# Compute confusion matrix\n",
    "cm = confusion_matrix(np.argmax(y_test, axis=1), np.argmax(model.predict(X_test), axis=1))\n",
    "np.set_printoptions(precision=2)\n",
    "print('Confusion matrix, without normalization')\n",
    "print(cm)\n",
    "plt.figure()\n",
    "plot_confusion_matrix(cm, names)\n",
    "\n",
    "# Normalize the confusion matrix by row (i.e by the number of samples in each class)\n",
    "cm_normalized = cm.astype('float') / cm.sum(axis=1)[:, np.newaxis]\n",
    "print('Normalized confusion matrix')\n",
    "print(cm_normalized)\n",
    "plt.figure()\n",
    "plot_confusion_matrix(cm_normalized, names, title='Normalized confusion matrix')\n",
    "\n",
    "plt.show()"
   ]
  },
  {
   "cell_type": "code",
   "execution_count": 8,
   "metadata": {},
   "outputs": [
    {
     "name": "stdout",
     "output_type": "stream",
     "text": [
      "             precision    recall  f1-score   support\n",
      "\n",
      "          0       0.98      0.98      0.98      1175\n",
      "          1       0.98      1.00      0.99      1322\n",
      "          2       0.96      0.98      0.97      1174\n",
      "          3       0.98      0.95      0.96      1219\n",
      "          4       0.97      0.98      0.98      1176\n",
      "          5       0.97      0.97      0.97      1104\n",
      "          6       0.98      0.99      0.98      1177\n",
      "          7       0.97      0.98      0.97      1299\n",
      "          8       0.97      0.96      0.97      1160\n",
      "          9       0.97      0.96      0.97      1194\n",
      "\n",
      "avg / total       0.97      0.97      0.97     12000\n",
      "\n"
     ]
    }
   ],
   "source": [
    "# Classification report:\n",
    "report=classification_report(np.argmax(y_test, axis=1), np.argmax(model.predict(X_test), axis=1))\n",
    "print(report)"
   ]
  },
  {
   "cell_type": "code",
   "execution_count": 9,
   "metadata": {},
   "outputs": [
    {
     "data": {
      "text/plain": [
       "<matplotlib.axes._subplots.AxesSubplot at 0x21d1b34cfd0>"
      ]
     },
     "execution_count": 9,
     "metadata": {},
     "output_type": "execute_result"
    },
    {
     "data": {
      "image/png": "[encoded data removed]",
      "text/plain": [
       "<Figure size 432x288 with 2 Axes>"
      ]
     },
     "metadata": {},
     "output_type": "display_data"
    }
   ],
   "source": [
    "sns.heatmap(np.array(X)[900,:].reshape(28,28))"
   ]
  }
 ],
 "metadata": {
  "kernelspec": {
   "display_name": "Python 3",
   "language": "python",
   "name": "python3"
  },
  "language_info": {
   "codemirror_mode": {
    "name": "ipython",
    "version": 3
   },
   "file_extension": ".py",
   "mimetype": "text/x-python",
   "name": "python",
   "nbconvert_exporter": "python",
   "pygments_lexer": "ipython3",
   "version": "3.6.5"
  }
 },
 "nbformat": 4,
 "nbformat_minor": 2
}
