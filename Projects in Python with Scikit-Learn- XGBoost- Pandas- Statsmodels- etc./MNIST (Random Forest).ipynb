{
 "cells": [
  {
   "cell_type": "markdown",
   "metadata": {},
   "source": [
    "# Data description & Problem statement: \n",
    "The MNIST (\"Modified National Institute of Standards and Technology\") dataset contains gray-scale images of hand-drawn digits, from zero through nine. Each image is 28 pixels in height and 28 pixels in width, for a total of 784 pixels in total. Each pixel has a single pixel-value associated with it, indicating the lightness or darkness of that pixel, with higher numbers meaning darker. This pixel-value is an integer between 0 and 255, inclusive.\n",
    "\n",
    "* Dataset is slightly imbalanced. The data has 28x28 variables (or pixels) in total.\n",
    "* This is a multi-class classification task. The classification goal is to correctly identify digits from a dataset of tens of thousands of handwritten images.\n",
    "\n",
    "# Workflow:\n",
    "- Load the dataset\n",
    "- Data Cleaning/Wrangling: Encode categorical variables, etc.\n",
    "- Split data into training & test parts (utilize the training part for training & hyperparameter tuning of model, and test part for the final evaluation of model)\n",
    "\n",
    "   #  Model Training:\n",
    "- Build an Random Forest model, and evaluate it via C-V approach\n",
    "\n",
    "   # Model Evaluation: \n",
    "- Evaluate the RF model with optimized hyperparameters on Test Dataset, by calculating:\n",
    "     - f1_weighted\n",
    "     - Confusion matrix\n",
    "\n",
    "Finally, calculate the Feature Importance. "
   ]
  },
  {
   "cell_type": "code",
   "execution_count": 1,
   "metadata": {},
   "outputs": [],
   "source": [
    "import sklearn\n",
    "import tensorflow as tf\n",
    "import numpy as np\n",
    "import pandas as pd\n",
    "import matplotlib.pyplot as plt\n",
    "import seaborn as sns\n",
    "from sklearn import preprocessing\n",
    "%matplotlib inline\n",
    "\n",
    "from scipy import stats\n",
    "\n",
    "import warnings\n",
    "warnings.filterwarnings(\"ignore\")"
   ]
  },
  {
   "cell_type": "code",
   "execution_count": 2,
   "metadata": {},
   "outputs": [],
   "source": [
    "df=pd.read_csv('C:/Users/rhash/Documents/Datasets/mnist.csv')\n",
    "\n",
    "# To Shuffle the data:\n",
    "np.random.seed(42)\n",
    "df=df.reindex(np.random.permutation(df.index))\n",
    "df.reset_index(inplace=True, drop=True)"
   ]
  },
  {
   "cell_type": "code",
   "execution_count": 3,
   "metadata": {},
   "outputs": [],
   "source": [
    "X=df.drop(['5'], axis=1)\n",
    "y=df['5']"
   ]
  },
  {
   "cell_type": "code",
   "execution_count": 4,
   "metadata": {},
   "outputs": [
    {
     "name": "stdout",
     "output_type": "stream",
     "text": [
      "[0.59653465 0.62686567 0.5825     0.57788945 0.5959596 ] \n",
      "\n",
      "Accuracy: 0.60 (+/- 0.02)\n"
     ]
    }
   ],
   "source": [
    "# Building the Initial Model & Cross-Validation: \n",
    "from sklearn.ensemble import RandomForestClassifier\n",
    "from sklearn.model_selection import cross_val_score\n",
    "from sklearn.model_selection import StratifiedKFold\n",
    "\n",
    "model=RandomForestClassifier(max_features=3, n_estimators=10, max_depth=3,  random_state=42)\n",
    "kfold=StratifiedKFold(n_splits=5, shuffle=True, random_state=42)\n",
    "scores=cross_val_score(model, X, y, cv=kfold)\n",
    "\n",
    "print(scores, \"\\n\")\n",
    "print(\"Accuracy: %0.2f (+/- %0.2f)\" % (scores.mean(), scores.std()))"
   ]
  },
  {
   "cell_type": "code",
   "execution_count": 5,
   "metadata": {},
   "outputs": [
    {
     "data": {
      "text/html": [
       "<div>\n",
       "<style scoped>\n",
       "    .dataframe tbody tr th:only-of-type {\n",
       "        vertical-align: middle;\n",
       "    }\n",
       "\n",
       "    .dataframe tbody tr th {\n",
       "        vertical-align: top;\n",
       "    }\n",
       "\n",
       "    .dataframe thead th {\n",
       "        text-align: right;\n",
       "    }\n",
       "</style>\n",
       "<table border=\"1\" class=\"dataframe\">\n",
       "  <thead>\n",
       "    <tr style=\"text-align: right;\">\n",
       "      <th></th>\n",
       "      <th>mean_fit_time</th>\n",
       "      <th>std_fit_time</th>\n",
       "      <th>mean_score_time</th>\n",
       "      <th>std_score_time</th>\n",
       "      <th>param_max_depth</th>\n",
       "      <th>param_max_features</th>\n",
       "      <th>param_n_estimators</th>\n",
       "      <th>params</th>\n",
       "      <th>split0_test_score</th>\n",
       "      <th>split1_test_score</th>\n",
       "      <th>...</th>\n",
       "      <th>mean_test_score</th>\n",
       "      <th>std_test_score</th>\n",
       "      <th>rank_test_score</th>\n",
       "      <th>split0_train_score</th>\n",
       "      <th>split1_train_score</th>\n",
       "      <th>split2_train_score</th>\n",
       "      <th>split3_train_score</th>\n",
       "      <th>split4_train_score</th>\n",
       "      <th>mean_train_score</th>\n",
       "      <th>std_train_score</th>\n",
       "    </tr>\n",
       "  </thead>\n",
       "  <tbody>\n",
       "    <tr>\n",
       "      <th>26</th>\n",
       "      <td>0.919584</td>\n",
       "      <td>0.008466</td>\n",
       "      <td>0.037899</td>\n",
       "      <td>0.000630</td>\n",
       "      <td>15</td>\n",
       "      <td>8</td>\n",
       "      <td>200</td>\n",
       "      <td>{'max_depth': 15, 'max_features': 8, 'n_estima...</td>\n",
       "      <td>0.878689</td>\n",
       "      <td>0.923841</td>\n",
       "      <td>...</td>\n",
       "      <td>0.909333</td>\n",
       "      <td>0.020315</td>\n",
       "      <td>1</td>\n",
       "      <td>1.0</td>\n",
       "      <td>1.0</td>\n",
       "      <td>1.0</td>\n",
       "      <td>1.0</td>\n",
       "      <td>1.0</td>\n",
       "      <td>1.0</td>\n",
       "      <td>0.0</td>\n",
       "    </tr>\n",
       "    <tr>\n",
       "      <th>41</th>\n",
       "      <td>0.933445</td>\n",
       "      <td>0.008609</td>\n",
       "      <td>0.038762</td>\n",
       "      <td>0.004413</td>\n",
       "      <td>20</td>\n",
       "      <td>8</td>\n",
       "      <td>200</td>\n",
       "      <td>{'max_depth': 20, 'max_features': 8, 'n_estima...</td>\n",
       "      <td>0.872131</td>\n",
       "      <td>0.920530</td>\n",
       "      <td>...</td>\n",
       "      <td>0.908667</td>\n",
       "      <td>0.022633</td>\n",
       "      <td>2</td>\n",
       "      <td>1.0</td>\n",
       "      <td>1.0</td>\n",
       "      <td>1.0</td>\n",
       "      <td>1.0</td>\n",
       "      <td>1.0</td>\n",
       "      <td>1.0</td>\n",
       "      <td>0.0</td>\n",
       "    </tr>\n",
       "    <tr>\n",
       "      <th>29</th>\n",
       "      <td>0.993543</td>\n",
       "      <td>0.057930</td>\n",
       "      <td>0.042087</td>\n",
       "      <td>0.005759</td>\n",
       "      <td>15</td>\n",
       "      <td>9</td>\n",
       "      <td>200</td>\n",
       "      <td>{'max_depth': 15, 'max_features': 9, 'n_estima...</td>\n",
       "      <td>0.888525</td>\n",
       "      <td>0.920530</td>\n",
       "      <td>...</td>\n",
       "      <td>0.908667</td>\n",
       "      <td>0.016026</td>\n",
       "      <td>2</td>\n",
       "      <td>1.0</td>\n",
       "      <td>1.0</td>\n",
       "      <td>1.0</td>\n",
       "      <td>1.0</td>\n",
       "      <td>1.0</td>\n",
       "      <td>1.0</td>\n",
       "      <td>0.0</td>\n",
       "    </tr>\n",
       "  </tbody>\n",
       "</table>\n",
       "<p>3 rows × 23 columns</p>\n",
       "</div>"
      ],
      "text/plain": [
       "    mean_fit_time  std_fit_time  mean_score_time  std_score_time  \\\n",
       "26       0.919584      0.008466         0.037899        0.000630   \n",
       "41       0.933445      0.008609         0.038762        0.004413   \n",
       "29       0.993543      0.057930         0.042087        0.005759   \n",
       "\n",
       "   param_max_depth param_max_features param_n_estimators  \\\n",
       "26              15                  8                200   \n",
       "41              20                  8                200   \n",
       "29              15                  9                200   \n",
       "\n",
       "                                               params  split0_test_score  \\\n",
       "26  {'max_depth': 15, 'max_features': 8, 'n_estima...           0.878689   \n",
       "41  {'max_depth': 20, 'max_features': 8, 'n_estima...           0.872131   \n",
       "29  {'max_depth': 15, 'max_features': 9, 'n_estima...           0.888525   \n",
       "\n",
       "    split1_test_score       ...         mean_test_score  std_test_score  \\\n",
       "26           0.923841       ...                0.909333        0.020315   \n",
       "41           0.920530       ...                0.908667        0.022633   \n",
       "29           0.920530       ...                0.908667        0.016026   \n",
       "\n",
       "    rank_test_score  split0_train_score  split1_train_score  \\\n",
       "26                1                 1.0                 1.0   \n",
       "41                2                 1.0                 1.0   \n",
       "29                2                 1.0                 1.0   \n",
       "\n",
       "    split2_train_score  split3_train_score  split4_train_score  \\\n",
       "26                 1.0                 1.0                 1.0   \n",
       "41                 1.0                 1.0                 1.0   \n",
       "29                 1.0                 1.0                 1.0   \n",
       "\n",
       "    mean_train_score  std_train_score  \n",
       "26               1.0              0.0  \n",
       "41               1.0              0.0  \n",
       "29               1.0              0.0  \n",
       "\n",
       "[3 rows x 23 columns]"
      ]
     },
     "execution_count": 5,
     "metadata": {},
     "output_type": "execute_result"
    }
   ],
   "source": [
    "# Grid-Search for the best model parameters: \n",
    "\n",
    "# We initially devide data into training & test folds: We do the Grid-Search only on training part  \n",
    "from sklearn.model_selection import train_test_split\n",
    "X_train, X_test, y_train, y_test = train_test_split(X, y, test_size=0.25, random_state=42)\n",
    "\n",
    "from sklearn.model_selection import GridSearchCV\n",
    "\n",
    "param={'max_features':[3, 4, 5, 8, 9], 'n_estimators': [ 100, 150, 200], 'max_depth':[10, 15, 20, 25, 30]}\n",
    "\n",
    "kfold=StratifiedKFold(n_splits=5, shuffle=True, random_state=42)\n",
    "grid_search=GridSearchCV(RandomForestClassifier(random_state=42), param, cv=kfold, n_jobs=-1)\n",
    "grid_search.fit(X_train, y_train)\n",
    "\n",
    "# Grid-Search report: \n",
    "G=pd.DataFrame(grid_search.cv_results_).sort_values(\"rank_test_score\")\n",
    "G.head(3)"
   ]
  },
  {
   "cell_type": "code",
   "execution_count": 49,
   "metadata": {},
   "outputs": [
    {
     "name": "stdout",
     "output_type": "stream",
     "text": [
      "Best parameters:  {'max_depth': 15, 'max_features': 8, 'n_estimators': 200}\n",
      "Best validation accuracy:  0.91 (+/- 0.02)\n",
      "Test score:  0.91\n",
      "Log-loss:  0.7152765307578431\n"
     ]
    }
   ],
   "source": [
    "print(\"Best parameters: \", grid_search.best_params_)\n",
    "print(\"Best validation accuracy:  %0.2f (+/- %0.2f)\" % (np.round(grid_search.best_score_, decimals=2), np.round(G.loc[grid_search.best_index_,\"std_test_score\" ], decimals=2)))\n",
    "print(\"Test score: \", np.round(grid_search.score(X_test, y_test),2))\n",
    "print(\"Log-loss: \", sklearn.metrics.log_loss(y_test, grid_search.predict_proba(X_test)))"
   ]
  },
  {
   "cell_type": "code",
   "execution_count": 50,
   "metadata": {},
   "outputs": [
    {
     "name": "stdout",
     "output_type": "stream",
     "text": [
      "Confusion matrix, without normalization\n",
      "[[45  0  0  0  0  3  0  0  0  0]\n",
      " [ 0 48  0  0  0  0  0  0  0  0]\n",
      " [ 0  3 37  1  1  0  1  1  0  0]\n",
      " [ 0  1  3 50  0  0  1  1  1  0]\n",
      " [ 0  1  0  0 51  0  1  0  0  5]\n",
      " [ 1  1  0  1  0 28  1  0  0  0]\n",
      " [ 1  0  1  0  0  1 50  0  0  0]\n",
      " [ 1  0  0  0  0  0  0 41  0  1]\n",
      " [ 0  0  0  4  1  1  0  0 47  2]\n",
      " [ 1  0  0  0  2  0  1  1  0 57]]\n",
      "Normalized confusion matrix\n",
      "[[0.94 0.   0.   0.   0.   0.06 0.   0.   0.   0.  ]\n",
      " [0.   1.   0.   0.   0.   0.   0.   0.   0.   0.  ]\n",
      " [0.   0.07 0.84 0.02 0.02 0.   0.02 0.02 0.   0.  ]\n",
      " [0.   0.02 0.05 0.88 0.   0.   0.02 0.02 0.02 0.  ]\n",
      " [0.   0.02 0.   0.   0.88 0.   0.02 0.   0.   0.09]\n",
      " [0.03 0.03 0.   0.03 0.   0.88 0.03 0.   0.   0.  ]\n",
      " [0.02 0.   0.02 0.   0.   0.02 0.94 0.   0.   0.  ]\n",
      " [0.02 0.   0.   0.   0.   0.   0.   0.95 0.   0.02]\n",
      " [0.   0.   0.   0.07 0.02 0.02 0.   0.   0.85 0.04]\n",
      " [0.02 0.   0.   0.   0.03 0.   0.02 0.02 0.   0.92]]\n"
     ]
    },
    {
     "data": {
      "image/png": "[encoded data removed]",
      "text/plain": [
       "<Figure size 432x288 with 2 Axes>"
      ]
     },
     "metadata": {},
     "output_type": "display_data"
    },
    {
     "data": {
      "image/png": "[encoded data removed]",
      "text/plain": [
       "<Figure size 432x288 with 2 Axes>"
      ]
     },
     "metadata": {},
     "output_type": "display_data"
    }
   ],
   "source": [
    "from sklearn.metrics import roc_curve, auc, confusion_matrix, classification_report\n",
    "\n",
    "# Plot a confusion matrix.\n",
    "# cm is the confusion matrix, names are the names of the classes.\n",
    "def plot_confusion_matrix(cm, names, title='Confusion matrix', cmap=plt.cm.Blues):\n",
    "    plt.imshow(cm, interpolation='nearest', cmap=cmap)\n",
    "    plt.title(title)\n",
    "    plt.colorbar()\n",
    "    tick_marks = np.arange(len(names))\n",
    "    plt.xticks(tick_marks, names, rotation=45)\n",
    "    plt.yticks(tick_marks, names)\n",
    "    plt.tight_layout()\n",
    "    plt.ylabel('True label')\n",
    "    plt.xlabel('Predicted label')\n",
    "\n",
    "names = [\"0\", \"1\", \"2\", \"3\", \"4\", \"5\", \"6\", \"7\", \"8\", \"9\"]\n",
    "    \n",
    "# Compute confusion matrix\n",
    "cm = confusion_matrix(y_test, grid_search.predict(X_test))\n",
    "np.set_printoptions(precision=2)\n",
    "print('Confusion matrix, without normalization')\n",
    "print(cm)\n",
    "plt.figure()\n",
    "plot_confusion_matrix(cm, names)\n",
    "\n",
    "# Normalize the confusion matrix by row (i.e by the number of samples in each class)\n",
    "cm_normalized = cm.astype('float') / cm.sum(axis=1)[:, np.newaxis]\n",
    "print('Normalized confusion matrix')\n",
    "print(cm_normalized)\n",
    "plt.figure()\n",
    "plot_confusion_matrix(cm_normalized, names, title='Normalized confusion matrix')\n",
    "\n",
    "plt.show()"
   ]
  },
  {
   "cell_type": "code",
   "execution_count": 51,
   "metadata": {},
   "outputs": [
    {
     "name": "stdout",
     "output_type": "stream",
     "text": [
      "             precision    recall  f1-score   support\n",
      "\n",
      "          0       0.92      0.94      0.93        48\n",
      "          1       0.89      1.00      0.94        48\n",
      "          2       0.90      0.84      0.87        44\n",
      "          3       0.89      0.88      0.88        57\n",
      "          4       0.93      0.88      0.90        58\n",
      "          5       0.85      0.88      0.86        32\n",
      "          6       0.91      0.94      0.93        53\n",
      "          7       0.93      0.95      0.94        43\n",
      "          8       0.98      0.85      0.91        55\n",
      "          9       0.88      0.92      0.90        62\n",
      "\n",
      "avg / total       0.91      0.91      0.91       500\n",
      "\n"
     ]
    }
   ],
   "source": [
    "# Classification report:\n",
    "report=classification_report(y_test, grid_search.predict(X_test))\n",
    "print(report)"
   ]
  }
 ],
 "metadata": {
  "kernelspec": {
   "display_name": "Python 3",
   "language": "python",
   "name": "python3"
  },
  "language_info": {
   "codemirror_mode": {
    "name": "ipython",
    "version": 3
   },
   "file_extension": ".py",
   "mimetype": "text/x-python",
   "name": "python",
   "nbconvert_exporter": "python",
   "pygments_lexer": "ipython3",
   "version": "3.6.5"
  }
 },
 "nbformat": 4,
 "nbformat_minor": 2
}
