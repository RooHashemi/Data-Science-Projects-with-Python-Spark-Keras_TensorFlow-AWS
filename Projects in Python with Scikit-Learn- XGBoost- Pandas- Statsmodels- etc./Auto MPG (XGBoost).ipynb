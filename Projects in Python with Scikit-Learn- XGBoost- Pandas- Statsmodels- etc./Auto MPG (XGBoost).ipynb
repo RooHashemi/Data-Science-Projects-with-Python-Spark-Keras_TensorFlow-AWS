{
 "cells": [
  {
   "cell_type": "markdown",
   "metadata": {},
   "source": [
    "# Data description & Problem statement: \n",
    "The data concerns city-cycle fuel consumption in miles per gallon, to be predicted in terms of 3 multivalued discrete and 5 continuous attributes. Please check the description at: https://archive.ics.uci.edu/ml/datasets/auto+mpg\n",
    "\n",
    "* The data has 398 rows and 9 variables.\n",
    "* This is a Regression problem. We predict the Auto MPG.\n",
    "\n",
    "# Workflow:\n",
    "- Load the dataset, and define the required functions (e.g. for detecting the outliers)\n",
    "- Data Cleaning/Wrangling: Manipulate outliers, missing data or duplicate values, Encode categorical variables, etc.\n",
    "- Split data into training & test parts (utilize the training part for training & hyperparameter tuning of model, and test part for the final evaluation of model)\n",
    "   #  Model Training:\n",
    "- Build an initial XGBoost model, and evaluate it via C-V approach\n",
    "- Use grid-search along with C-V approach to find the best hyperparameters of XGBoost model: Find the best XGBoost model (Note: I've utilized SMOTE technique via imblearn toolbox to synthetically over-sample the minority category and even the dataset imbalances.)\n",
    "   # Model Evaluation: \n",
    "- Evaluate the best XGBoost model with optimized hyperparameters on Test Dataset, by calculating:\n",
    "     - AUC score\n",
    "     - Confusion matrix\n",
    "     - ROC curve  \n",
    "     - Precision-Recall curve \n",
    "     - Average precision\n",
    "     \n",
    "Finally, calculate the Feature Importance. "
   ]
  },
  {
   "cell_type": "code",
   "execution_count": 1,
   "metadata": {},
   "outputs": [],
   "source": [
    "import sklearn\n",
    "import tensorflow as tf\n",
    "import numpy as np\n",
    "import pandas as pd\n",
    "import matplotlib.pyplot as plt\n",
    "import seaborn as sns\n",
    "from sklearn import preprocessing\n",
    "%matplotlib inline\n",
    "\n",
    "from scipy import stats\n",
    "\n",
    "import warnings\n",
    "warnings.filterwarnings(\"ignore\")"
   ]
  },
  {
   "cell_type": "code",
   "execution_count": 2,
   "metadata": {},
   "outputs": [
    {
     "name": "stdout",
     "output_type": "stream",
     "text": [
      "<class 'pandas.core.frame.DataFrame'>\n",
      "RangeIndex: 398 entries, 0 to 397\n",
      "Data columns (total 9 columns):\n",
      "mpg             398 non-null float64\n",
      "cylinders       398 non-null int64\n",
      "displacement    398 non-null float64\n",
      "horsepower      398 non-null object\n",
      "weight          398 non-null int64\n",
      "acceleration    398 non-null float64\n",
      "model_year      398 non-null int64\n",
      "origin          398 non-null int64\n",
      "name            398 non-null object\n",
      "dtypes: float64(3), int64(4), object(2)\n",
      "memory usage: 28.1+ KB\n"
     ]
    }
   ],
   "source": [
    "df=pd.read_csv('C:/Users/rhash/Documents/Datasets/mpg/mpg.csv')\n",
    "\n",
    "# To Shuffle the data:\n",
    "np.random.seed(42)\n",
    "df=df.reindex(np.random.permutation(df.index))\n",
    "df.reset_index(inplace=True, drop=True)\n",
    "\n",
    "df.info()"
   ]
  },
  {
   "cell_type": "code",
   "execution_count": 3,
   "metadata": {},
   "outputs": [],
   "source": [
    "df['horsepower'] = df['horsepower'].apply(pd.to_numeric, errors='coerce')\n",
    "df.dropna(inplace=True)\n",
    "df.drop(['name' ], axis=1, inplace=True)"
   ]
  },
  {
   "cell_type": "code",
   "execution_count": 4,
   "metadata": {},
   "outputs": [
    {
     "data": {
      "text/html": [
       "<div>\n",
       "<style scoped>\n",
       "    .dataframe tbody tr th:only-of-type {\n",
       "        vertical-align: middle;\n",
       "    }\n",
       "\n",
       "    .dataframe tbody tr th {\n",
       "        vertical-align: top;\n",
       "    }\n",
       "\n",
       "    .dataframe thead th {\n",
       "        text-align: right;\n",
       "    }\n",
       "</style>\n",
       "<table border=\"1\" class=\"dataframe\">\n",
       "  <thead>\n",
       "    <tr style=\"text-align: right;\">\n",
       "      <th></th>\n",
       "      <th>mpg</th>\n",
       "      <th>cylinders</th>\n",
       "      <th>displacement</th>\n",
       "      <th>horsepower</th>\n",
       "      <th>weight</th>\n",
       "      <th>acceleration</th>\n",
       "      <th>model_year</th>\n",
       "      <th>origin-1</th>\n",
       "      <th>origin-2</th>\n",
       "      <th>origin-3</th>\n",
       "    </tr>\n",
       "  </thead>\n",
       "  <tbody>\n",
       "    <tr>\n",
       "      <th>0</th>\n",
       "      <td>18.0</td>\n",
       "      <td>8</td>\n",
       "      <td>307.0</td>\n",
       "      <td>130.0</td>\n",
       "      <td>3504</td>\n",
       "      <td>12.0</td>\n",
       "      <td>70</td>\n",
       "      <td>1</td>\n",
       "      <td>0</td>\n",
       "      <td>0</td>\n",
       "    </tr>\n",
       "    <tr>\n",
       "      <th>1</th>\n",
       "      <td>15.0</td>\n",
       "      <td>8</td>\n",
       "      <td>350.0</td>\n",
       "      <td>165.0</td>\n",
       "      <td>3693</td>\n",
       "      <td>11.5</td>\n",
       "      <td>70</td>\n",
       "      <td>1</td>\n",
       "      <td>0</td>\n",
       "      <td>0</td>\n",
       "    </tr>\n",
       "    <tr>\n",
       "      <th>2</th>\n",
       "      <td>18.0</td>\n",
       "      <td>8</td>\n",
       "      <td>318.0</td>\n",
       "      <td>150.0</td>\n",
       "      <td>3436</td>\n",
       "      <td>11.0</td>\n",
       "      <td>70</td>\n",
       "      <td>1</td>\n",
       "      <td>0</td>\n",
       "      <td>0</td>\n",
       "    </tr>\n",
       "    <tr>\n",
       "      <th>3</th>\n",
       "      <td>16.0</td>\n",
       "      <td>8</td>\n",
       "      <td>304.0</td>\n",
       "      <td>150.0</td>\n",
       "      <td>3433</td>\n",
       "      <td>12.0</td>\n",
       "      <td>70</td>\n",
       "      <td>1</td>\n",
       "      <td>0</td>\n",
       "      <td>0</td>\n",
       "    </tr>\n",
       "    <tr>\n",
       "      <th>4</th>\n",
       "      <td>17.0</td>\n",
       "      <td>8</td>\n",
       "      <td>302.0</td>\n",
       "      <td>140.0</td>\n",
       "      <td>3449</td>\n",
       "      <td>10.5</td>\n",
       "      <td>70</td>\n",
       "      <td>1</td>\n",
       "      <td>0</td>\n",
       "      <td>0</td>\n",
       "    </tr>\n",
       "  </tbody>\n",
       "</table>\n",
       "</div>"
      ],
      "text/plain": [
       "    mpg  cylinders  displacement  horsepower  weight  acceleration  \\\n",
       "0  18.0          8         307.0       130.0    3504          12.0   \n",
       "1  15.0          8         350.0       165.0    3693          11.5   \n",
       "2  18.0          8         318.0       150.0    3436          11.0   \n",
       "3  16.0          8         304.0       150.0    3433          12.0   \n",
       "4  17.0          8         302.0       140.0    3449          10.5   \n",
       "\n",
       "   model_year  origin-1  origin-2  origin-3  \n",
       "0          70         1         0         0  \n",
       "1          70         1         0         0  \n",
       "2          70         1         0         0  \n",
       "3          70         1         0         0  \n",
       "4          70         1         0         0  "
      ]
     },
     "execution_count": 4,
     "metadata": {},
     "output_type": "execute_result"
    }
   ],
   "source": [
    "# Encode text values to dummy variables(i.e. [1,0,0],[0,1,0],[0,0,1] for red,green,blue)\n",
    "def encode_text_dummy(df, name):\n",
    "    dummies = pd.get_dummies(df[name])\n",
    "    for x in dummies.columns:\n",
    "        dummy_name = \"{}-{}\".format(name, x)\n",
    "        df[dummy_name] = dummies[x]\n",
    "    df.drop(name, axis=1, inplace=True)\n",
    "    \n",
    "for name in ['origin']:\n",
    "    encode_text_dummy(df, name)\n",
    "    \n",
    "df.head(5)"
   ]
  },
  {
   "cell_type": "code",
   "execution_count": 5,
   "metadata": {},
   "outputs": [],
   "source": [
    "X=df.drop(['mpg'], axis=1)\n",
    "y=np.log(df['mpg'])\n",
    "\n",
    "# We initially devide data into training & test folds: We do the Grid-Search only on training part  \n",
    "from sklearn.model_selection import train_test_split\n",
    "X_train, X_test, y_train, y_test = train_test_split(X, y, test_size=0.25, random_state=42, shuffle=True)\n",
    "\n",
    "# Re-scaling & Polynomial Interactions:\n",
    "from sklearn.preprocessing import StandardScaler, MinMaxScaler, PolynomialFeatures\n",
    "\n",
    "scalor_X=MinMaxScaler().fit(pd.DataFrame(X_train))\n",
    "X_train=scalor_X.transform(pd.DataFrame(X_train))\n",
    "X_test=scalor_X.transform(pd.DataFrame(X_test))\n",
    "\n",
    "scaler_y=MinMaxScaler().fit(pd.DataFrame(y_train))\n",
    "y_train=scaler_y.transform(pd.DataFrame(y_train))\n",
    "y_test=scaler_y.transform(pd.DataFrame(y_test))"
   ]
  },
  {
   "cell_type": "code",
   "execution_count": 6,
   "metadata": {},
   "outputs": [
    {
     "name": "stdout",
     "output_type": "stream",
     "text": [
      "[0.87773566 0.85444808 0.87122946 0.88404971 0.92225803] \n",
      "\n",
      "Accuracy: 0.88 (+/- 0.02)\n"
     ]
    }
   ],
   "source": [
    "# Building the Initial Model & Cross-Validation: \n",
    "import xgboost\n",
    "from xgboost import XGBRegressor\n",
    "from sklearn.model_selection import cross_val_score\n",
    "from sklearn.model_selection import KFold\n",
    "\n",
    "model=XGBRegressor() \n",
    "kfold=KFold(n_splits=5, shuffle=True, random_state=42)\n",
    "scores=cross_val_score(model, X_train, y_train, cv=kfold)\n",
    "\n",
    "print(scores, \"\\n\")\n",
    "print(\"Accuracy: %0.2f (+/- %0.2f)\" % (scores.mean(), scores.std()))"
   ]
  },
  {
   "cell_type": "code",
   "execution_count": 30,
   "metadata": {},
   "outputs": [
    {
     "data": {
      "text/html": [
       "<div>\n",
       "<style scoped>\n",
       "    .dataframe tbody tr th:only-of-type {\n",
       "        vertical-align: middle;\n",
       "    }\n",
       "\n",
       "    .dataframe tbody tr th {\n",
       "        vertical-align: top;\n",
       "    }\n",
       "\n",
       "    .dataframe thead th {\n",
       "        text-align: right;\n",
       "    }\n",
       "</style>\n",
       "<table border=\"1\" class=\"dataframe\">\n",
       "  <thead>\n",
       "    <tr style=\"text-align: right;\">\n",
       "      <th></th>\n",
       "      <th>mean_fit_time</th>\n",
       "      <th>std_fit_time</th>\n",
       "      <th>mean_score_time</th>\n",
       "      <th>std_score_time</th>\n",
       "      <th>param_gamma</th>\n",
       "      <th>param_max_depth</th>\n",
       "      <th>param_min_child_weight</th>\n",
       "      <th>param_subsample</th>\n",
       "      <th>params</th>\n",
       "      <th>split0_test_score</th>\n",
       "      <th>split1_test_score</th>\n",
       "      <th>split2_test_score</th>\n",
       "      <th>mean_test_score</th>\n",
       "      <th>std_test_score</th>\n",
       "      <th>rank_test_score</th>\n",
       "      <th>split0_train_score</th>\n",
       "      <th>split1_train_score</th>\n",
       "      <th>split2_train_score</th>\n",
       "      <th>mean_train_score</th>\n",
       "      <th>std_train_score</th>\n",
       "    </tr>\n",
       "  </thead>\n",
       "  <tbody>\n",
       "    <tr>\n",
       "      <th>14</th>\n",
       "      <td>0.041223</td>\n",
       "      <td>3.291267e-03</td>\n",
       "      <td>0.000997</td>\n",
       "      <td>3.371748e-07</td>\n",
       "      <td>0</td>\n",
       "      <td>6</td>\n",
       "      <td>2</td>\n",
       "      <td>0.7</td>\n",
       "      <td>{'gamma': 0, 'max_depth': 6, 'min_child_weight...</td>\n",
       "      <td>0.867968</td>\n",
       "      <td>0.879424</td>\n",
       "      <td>0.895381</td>\n",
       "      <td>0.880924</td>\n",
       "      <td>0.011241</td>\n",
       "      <td>1</td>\n",
       "      <td>0.998051</td>\n",
       "      <td>0.998048</td>\n",
       "      <td>0.998057</td>\n",
       "      <td>0.998052</td>\n",
       "      <td>0.000004</td>\n",
       "    </tr>\n",
       "    <tr>\n",
       "      <th>7</th>\n",
       "      <td>0.043217</td>\n",
       "      <td>1.673515e-02</td>\n",
       "      <td>0.004988</td>\n",
       "      <td>4.952194e-03</td>\n",
       "      <td>0</td>\n",
       "      <td>4</td>\n",
       "      <td>1</td>\n",
       "      <td>1</td>\n",
       "      <td>{'gamma': 0, 'max_depth': 4, 'min_child_weight...</td>\n",
       "      <td>0.860756</td>\n",
       "      <td>0.882366</td>\n",
       "      <td>0.898116</td>\n",
       "      <td>0.880413</td>\n",
       "      <td>0.015315</td>\n",
       "      <td>2</td>\n",
       "      <td>0.992368</td>\n",
       "      <td>0.992299</td>\n",
       "      <td>0.992502</td>\n",
       "      <td>0.992390</td>\n",
       "      <td>0.000084</td>\n",
       "    </tr>\n",
       "    <tr>\n",
       "      <th>16</th>\n",
       "      <td>0.034907</td>\n",
       "      <td>8.104673e-07</td>\n",
       "      <td>0.001329</td>\n",
       "      <td>4.705843e-04</td>\n",
       "      <td>0</td>\n",
       "      <td>6</td>\n",
       "      <td>3</td>\n",
       "      <td>0.7</td>\n",
       "      <td>{'gamma': 0, 'max_depth': 6, 'min_child_weight...</td>\n",
       "      <td>0.869579</td>\n",
       "      <td>0.876125</td>\n",
       "      <td>0.891886</td>\n",
       "      <td>0.879197</td>\n",
       "      <td>0.009362</td>\n",
       "      <td>3</td>\n",
       "      <td>0.996221</td>\n",
       "      <td>0.996556</td>\n",
       "      <td>0.996605</td>\n",
       "      <td>0.996461</td>\n",
       "      <td>0.000171</td>\n",
       "    </tr>\n",
       "  </tbody>\n",
       "</table>\n",
       "</div>"
      ],
      "text/plain": [
       "    mean_fit_time  std_fit_time  mean_score_time  std_score_time param_gamma  \\\n",
       "14       0.041223  3.291267e-03         0.000997    3.371748e-07           0   \n",
       "7        0.043217  1.673515e-02         0.004988    4.952194e-03           0   \n",
       "16       0.034907  8.104673e-07         0.001329    4.705843e-04           0   \n",
       "\n",
       "   param_max_depth param_min_child_weight param_subsample  \\\n",
       "14               6                      2             0.7   \n",
       "7                4                      1               1   \n",
       "16               6                      3             0.7   \n",
       "\n",
       "                                               params  split0_test_score  \\\n",
       "14  {'gamma': 0, 'max_depth': 6, 'min_child_weight...           0.867968   \n",
       "7   {'gamma': 0, 'max_depth': 4, 'min_child_weight...           0.860756   \n",
       "16  {'gamma': 0, 'max_depth': 6, 'min_child_weight...           0.869579   \n",
       "\n",
       "    split1_test_score  split2_test_score  mean_test_score  std_test_score  \\\n",
       "14           0.879424           0.895381         0.880924        0.011241   \n",
       "7            0.882366           0.898116         0.880413        0.015315   \n",
       "16           0.876125           0.891886         0.879197        0.009362   \n",
       "\n",
       "    rank_test_score  split0_train_score  split1_train_score  \\\n",
       "14                1            0.998051            0.998048   \n",
       "7                 2            0.992368            0.992299   \n",
       "16                3            0.996221            0.996556   \n",
       "\n",
       "    split2_train_score  mean_train_score  std_train_score  \n",
       "14            0.998057          0.998052         0.000004  \n",
       "7             0.992502          0.992390         0.000084  \n",
       "16            0.996605          0.996461         0.000171  "
      ]
     },
     "execution_count": 30,
     "metadata": {},
     "output_type": "execute_result"
    }
   ],
   "source": [
    "# Grid-Search for the best model parameters: \n",
    "from sklearn.model_selection import GridSearchCV\n",
    "\n",
    "param={'max_depth':[2, 4, 6], 'min_child_weight':[1, 2, 3], 'gamma': [ 0, 0.05, 0.1], 'subsample':[0.7, 1]}\n",
    "\n",
    "kfold=KFold(n_splits=3, shuffle=True, random_state=42)\n",
    "grid_search=GridSearchCV(XGBRegressor(), param, cv=kfold, n_jobs=-1)\n",
    "grid_search.fit(X_train, y_train)\n",
    "\n",
    "# Grid-Search report: \n",
    "G=pd.DataFrame(grid_search.cv_results_).sort_values(\"rank_test_score\")\n",
    "G.head(3)"
   ]
  },
  {
   "cell_type": "code",
   "execution_count": 31,
   "metadata": {},
   "outputs": [
    {
     "name": "stdout",
     "output_type": "stream",
     "text": [
      "Best parameters:  {'gamma': 0, 'max_depth': 6, 'min_child_weight': 2, 'subsample': 0.7}\n",
      "Best validation accuracy:  0.88 (+/- 0.01)\n",
      "Test score:  0.91\n"
     ]
    }
   ],
   "source": [
    "print(\"Best parameters: \", grid_search.best_params_)\n",
    "print(\"Best validation accuracy:  %0.2f (+/- %0.2f)\" % (np.round(grid_search.best_score_, decimals=2), np.round(G.loc[grid_search.best_index_,\"std_test_score\" ], decimals=2)))\n",
    "print(\"Test score: \", np.round(grid_search.score(X_test, y_test),2))"
   ]
  },
  {
   "cell_type": "code",
   "execution_count": 32,
   "metadata": {},
   "outputs": [
    {
     "data": {
      "image/png": "[encoded data removed]",
      "text/plain": [
       "<Figure size 432x288 with 1 Axes>"
      ]
     },
     "metadata": {},
     "output_type": "display_data"
    }
   ],
   "source": [
    "# Plot the Lift Chart:\n",
    "\n",
    "# Regression chart.\n",
    "def chart_regression(pred,y,sort=True):\n",
    "    t = pd.DataFrame({'pred' : pred, 'y' : y.flatten()})\n",
    "    if sort:\n",
    "        t.sort_values(by=['y'],inplace=True)\n",
    "    a = plt.plot(t['y'].tolist(),label='expected')\n",
    "    b = plt.plot(t['pred'].tolist(),label='prediction')\n",
    "    plt.ylabel('output')\n",
    "    plt.legend()\n",
    "    plt.show()\n",
    "\n",
    "pred=grid_search.predict(X_test)\n",
    "chart_regression(pred.flatten(), np.array(y_test), sort=True)"
   ]
  },
  {
   "cell_type": "code",
   "execution_count": 33,
   "metadata": {},
   "outputs": [
    {
     "name": "stdout",
     "output_type": "stream",
     "text": [
      "Test rmse:  2.3973966962847957\n"
     ]
    }
   ],
   "source": [
    "from sklearn.metrics import mean_squared_error\n",
    "from math import sqrt\n",
    "\n",
    "pred_inv=scaler_y.inverse_transform(pd.DataFrame(pred))\n",
    "y_test_inv=scaler_y.inverse_transform(y_test)\n",
    "\n",
    "rmse = sqrt(mean_squared_error(np.e**y_test_inv, np.e**pred_inv))\n",
    "print('Test rmse: ', rmse)"
   ]
  },
  {
   "cell_type": "code",
   "execution_count": 34,
   "metadata": {},
   "outputs": [
    {
     "data": {
      "image/png": "[encoded data removed]",
      "text/plain": [
       "<Figure size 432x288 with 1 Axes>"
      ]
     },
     "metadata": {},
     "output_type": "display_data"
    }
   ],
   "source": [
    "plt.boxplot([y_test_inv.ravel(), pred_inv.ravel()], labels=['actual','predicted'])\n",
    "plt.title('Box Plot - Actual, Predicted')\n",
    "plt.ylabel('Target')\n",
    "plt.grid(True)"
   ]
  },
  {
   "cell_type": "code",
   "execution_count": 35,
   "metadata": {},
   "outputs": [
    {
     "data": {
      "image/png": "[encoded data removed]",
      "text/plain": [
       "<Figure size 432x288 with 1 Axes>"
      ]
     },
     "metadata": {},
     "output_type": "display_data"
    }
   ],
   "source": [
    "# Over prediction and Under Prediction needs to be balanced:\n",
    "# Training Data Residuals\n",
    "residuals = y_test_inv.ravel()-pred_inv.ravel()\n",
    "\n",
    "plt.hist(residuals)\n",
    "plt.grid(True)\n",
    "plt.xlabel('(Predicted - Actual)')\n",
    "plt.ylabel('Count')\n",
    "plt.title('Residuals Distribution')\n",
    "plt.axvline(color='g')\n",
    "plt.show()"
   ]
  },
  {
   "cell_type": "code",
   "execution_count": 36,
   "metadata": {},
   "outputs": [
    {
     "name": "stdout",
     "output_type": "stream",
     "text": [
      "('weight', 0.2177264)\n",
      "('horsepower', 0.19460501)\n",
      "('model_year', 0.18111753)\n",
      "('acceleration', 0.16570328)\n",
      "('displacement', 0.14450867)\n",
      "('cylinders', 0.055876687)\n",
      "('origin-1', 0.019267824)\n",
      "('origin-2', 0.015414258)\n",
      "('origin-3', 0.0057803467)\n"
     ]
    },
    {
     "data": {
      "image/png": "[encoded data removed]",
      "text/plain": [
       "<Figure size 864x432 with 1 Axes>"
      ]
     },
     "metadata": {},
     "output_type": "display_data"
    }
   ],
   "source": [
    "im=XGBRegressor().fit(X, y).feature_importances_\n",
    "\n",
    "# Sort & Plot:\n",
    "d=dict(zip(np.array(X.columns), im))\n",
    "k=sorted(d,key=lambda i: d[i], reverse= True)\n",
    "[print((i,d[i])) for i in k]\n",
    "\n",
    "# Plot:\n",
    "c1=pd.DataFrame(np.array(im),  columns=[\"Importance\"])\n",
    "c2=pd.DataFrame(np.array(X.columns),columns=[\"Feature\"])\n",
    "\n",
    "fig, ax = plt.subplots(figsize=(12,6)) \n",
    "sns.barplot(x=\"Feature\", y=\"Importance\", data=pd.concat([c2,c1], axis=1), color=\"blue\", ax=ax)\n",
    "plt.xticks(rotation=-60)\n",
    "plt.show()"
   ]
  },
  {
   "cell_type": "code",
   "execution_count": null,
   "metadata": {},
   "outputs": [],
   "source": []
  }
 ],
 "metadata": {
  "kernelspec": {
   "display_name": "Python 3",
   "language": "python",
   "name": "python3"
  },
  "language_info": {
   "codemirror_mode": {
    "name": "ipython",
    "version": 3
   },
   "file_extension": ".py",
   "mimetype": "text/x-python",
   "name": "python",
   "nbconvert_exporter": "python",
   "pygments_lexer": "ipython3",
   "version": "3.6.5"
  }
 },
 "nbformat": 4,
 "nbformat_minor": 2
}
