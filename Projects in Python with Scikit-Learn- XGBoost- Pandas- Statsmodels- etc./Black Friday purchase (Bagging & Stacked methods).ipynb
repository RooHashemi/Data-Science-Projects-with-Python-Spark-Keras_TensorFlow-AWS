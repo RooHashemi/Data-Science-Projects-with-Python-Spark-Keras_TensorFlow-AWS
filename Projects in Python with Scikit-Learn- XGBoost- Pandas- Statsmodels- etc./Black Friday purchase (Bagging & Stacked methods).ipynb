{
 "cells": [
  {
   "cell_type": "markdown",
   "metadata": {},
   "source": [
    "# Data description & Problem statement: \n",
    "The dataset here is a sample of the transactions made in a retail store. The store wants to know better the customer purchase behaviour against different products. Specifically, here the problem is a Regression problem where we are trying to predict the dependent variable (the amount of purchase) with the help of the information contained in the other variables. The data set has 550067 rows and 11 variables.\n",
    "\n",
    "# Workflow:\n",
    "- Load the dataset, and define the required functions (e.g. for detecting the outliers)\n",
    "- Data Cleaning/Wrangling: Manipulate outliers, missing data or duplicate values, Encode categorical variables, etc. \n",
    "- Split data into training & test parts (utilize the training part for training & hyperparameter tuning of model, and test part for the final evaluation of model)\n",
    "   #  Model Training:\n",
    "- Build the ensemble method (i.e. Bagging model and Stacked model) individually\n",
    "   # Model Evaluation: \n",
    "- Evaluate the Ensemble models with Cross-Validation technique, by calculating:\n",
    "     - r2 (determination factor)\n",
    "     - Lift chart\n",
    "     - RMSE "
   ]
  },
  {
   "cell_type": "code",
   "execution_count": 1,
   "metadata": {},
   "outputs": [],
   "source": [
    "import sklearn\n",
    "import tensorflow as tf\n",
    "import numpy as np\n",
    "import pandas as pd\n",
    "import matplotlib.pyplot as plt\n",
    "import seaborn as sns\n",
    "from sklearn import preprocessing\n",
    "%matplotlib inline\n",
    "\n",
    "from scipy import stats\n",
    "\n",
    "import warnings\n",
    "warnings.filterwarnings(\"ignore\")"
   ]
  },
  {
   "cell_type": "code",
   "execution_count": 2,
   "metadata": {},
   "outputs": [
    {
     "name": "stdout",
     "output_type": "stream",
     "text": [
      "<class 'pandas.core.frame.DataFrame'>\n",
      "RangeIndex: 550068 entries, 0 to 550067\n",
      "Data columns (total 12 columns):\n",
      "User_ID                       550068 non-null int64\n",
      "Product_ID                    550068 non-null object\n",
      "Gender                        550068 non-null object\n",
      "Age                           550068 non-null object\n",
      "Occupation                    550068 non-null int64\n",
      "City_Category                 550068 non-null object\n",
      "Stay_In_Current_City_Years    550068 non-null object\n",
      "Marital_Status                550068 non-null int64\n",
      "Product_Category_1            550068 non-null int64\n",
      "Product_Category_2            376430 non-null float64\n",
      "Product_Category_3            166821 non-null float64\n",
      "Purchase                      550068 non-null int64\n",
      "dtypes: float64(2), int64(5), object(5)\n",
      "memory usage: 50.4+ MB\n"
     ]
    }
   ],
   "source": [
    "df=pd.read_csv('train.csv')\n",
    "\n",
    "# To Shuffle the data:\n",
    "np.random.seed(42)\n",
    "df=df.reindex(np.random.permutation(df.index))\n",
    "df.reset_index(inplace=True, drop=True)\n",
    "\n",
    "df.info()"
   ]
  },
  {
   "cell_type": "code",
   "execution_count": 3,
   "metadata": {},
   "outputs": [],
   "source": [
    "df.fillna(999, inplace=True)"
   ]
  },
  {
   "cell_type": "code",
   "execution_count": 4,
   "metadata": {},
   "outputs": [],
   "source": [
    "# Encode text values to indexes(i.e. [1],[2],[3] for red,green,blue).\n",
    "def encode_text_index(df, name):\n",
    "    le = preprocessing.LabelEncoder()\n",
    "    df[name] = le.fit_transform(df[name])\n",
    "    return le.classes_\n",
    "\n",
    "# for i in ['User_ID', 'Product_ID', 'Age', 'Occupation', 'City_Category', 'Stay_In_Current_City_Years']:\n",
    "for i in ['User_ID', 'Product_ID', 'Age', 'Occupation', 'City_Category', 'Stay_In_Current_City_Years',\n",
    "          'Gender', 'Marital_Status', 'Product_Category_1', 'Product_Category_2', 'Product_Category_3' ]:\n",
    "    encode_text_index(df, i)"
   ]
  },
  {
   "cell_type": "code",
   "execution_count": 5,
   "metadata": {},
   "outputs": [
    {
     "data": {
      "text/html": [
       "<div>\n",
       "<style scoped>\n",
       "    .dataframe tbody tr th:only-of-type {\n",
       "        vertical-align: middle;\n",
       "    }\n",
       "\n",
       "    .dataframe tbody tr th {\n",
       "        vertical-align: top;\n",
       "    }\n",
       "\n",
       "    .dataframe thead th {\n",
       "        text-align: right;\n",
       "    }\n",
       "</style>\n",
       "<table border=\"1\" class=\"dataframe\">\n",
       "  <thead>\n",
       "    <tr style=\"text-align: right;\">\n",
       "      <th></th>\n",
       "      <th>User_ID</th>\n",
       "      <th>Product_ID</th>\n",
       "      <th>Gender</th>\n",
       "      <th>Age</th>\n",
       "      <th>Occupation</th>\n",
       "      <th>City_Category</th>\n",
       "      <th>Stay_In_Current_City_Years</th>\n",
       "      <th>Marital_Status</th>\n",
       "      <th>Product_Category_1</th>\n",
       "      <th>Product_Category_2</th>\n",
       "      <th>Product_Category_3</th>\n",
       "      <th>Purchase</th>\n",
       "    </tr>\n",
       "  </thead>\n",
       "  <tbody>\n",
       "    <tr>\n",
       "      <th>0</th>\n",
       "      <td>1026</td>\n",
       "      <td>3372</td>\n",
       "      <td>1</td>\n",
       "      <td>5</td>\n",
       "      <td>19</td>\n",
       "      <td>2</td>\n",
       "      <td>3</td>\n",
       "      <td>0</td>\n",
       "      <td>0</td>\n",
       "      <td>0</td>\n",
       "      <td>12</td>\n",
       "      <td>19142</td>\n",
       "    </tr>\n",
       "    <tr>\n",
       "      <th>1</th>\n",
       "      <td>5043</td>\n",
       "      <td>2263</td>\n",
       "      <td>0</td>\n",
       "      <td>3</td>\n",
       "      <td>11</td>\n",
       "      <td>1</td>\n",
       "      <td>1</td>\n",
       "      <td>0</td>\n",
       "      <td>0</td>\n",
       "      <td>13</td>\n",
       "      <td>12</td>\n",
       "      <td>15513</td>\n",
       "    </tr>\n",
       "    <tr>\n",
       "      <th>2</th>\n",
       "      <td>407</td>\n",
       "      <td>1071</td>\n",
       "      <td>0</td>\n",
       "      <td>3</td>\n",
       "      <td>0</td>\n",
       "      <td>0</td>\n",
       "      <td>2</td>\n",
       "      <td>1</td>\n",
       "      <td>7</td>\n",
       "      <td>13</td>\n",
       "      <td>15</td>\n",
       "      <td>7802</td>\n",
       "    </tr>\n",
       "    <tr>\n",
       "      <th>3</th>\n",
       "      <td>484</td>\n",
       "      <td>162</td>\n",
       "      <td>1</td>\n",
       "      <td>1</td>\n",
       "      <td>4</td>\n",
       "      <td>0</td>\n",
       "      <td>3</td>\n",
       "      <td>0</td>\n",
       "      <td>0</td>\n",
       "      <td>13</td>\n",
       "      <td>12</td>\n",
       "      <td>15455</td>\n",
       "    </tr>\n",
       "    <tr>\n",
       "      <th>4</th>\n",
       "      <td>1953</td>\n",
       "      <td>21</td>\n",
       "      <td>1</td>\n",
       "      <td>1</td>\n",
       "      <td>4</td>\n",
       "      <td>1</td>\n",
       "      <td>0</td>\n",
       "      <td>0</td>\n",
       "      <td>5</td>\n",
       "      <td>6</td>\n",
       "      <td>12</td>\n",
       "      <td>4492</td>\n",
       "    </tr>\n",
       "  </tbody>\n",
       "</table>\n",
       "</div>"
      ],
      "text/plain": [
       "   User_ID  Product_ID  Gender  Age  Occupation  City_Category  \\\n",
       "0     1026        3372       1    5          19              2   \n",
       "1     5043        2263       0    3          11              1   \n",
       "2      407        1071       0    3           0              0   \n",
       "3      484         162       1    1           4              0   \n",
       "4     1953          21       1    1           4              1   \n",
       "\n",
       "   Stay_In_Current_City_Years  Marital_Status  Product_Category_1  \\\n",
       "0                           3               0                   0   \n",
       "1                           1               0                   0   \n",
       "2                           2               1                   7   \n",
       "3                           3               0                   0   \n",
       "4                           0               0                   5   \n",
       "\n",
       "   Product_Category_2  Product_Category_3  Purchase  \n",
       "0                   0                  12     19142  \n",
       "1                  13                  12     15513  \n",
       "2                  13                  15      7802  \n",
       "3                  13                  12     15455  \n",
       "4                   6                  12      4492  "
      ]
     },
     "execution_count": 5,
     "metadata": {},
     "output_type": "execute_result"
    }
   ],
   "source": [
    "df.head(5)"
   ]
  },
  {
   "cell_type": "code",
   "execution_count": 6,
   "metadata": {},
   "outputs": [],
   "source": [
    "X=df.drop(['Purchase'], axis=1)\n",
    "y=np.log(df['Purchase'])\n",
    "\n",
    "# We initially devide data into training & test folds: We do the Grid-Search only on training part  \n",
    "from sklearn.model_selection import train_test_split\n",
    "X_train, X_test, y_train, y_test = train_test_split(X, y, test_size=0.3, random_state=42, shuffle=True)\n",
    "\n",
    "# Re-scaling & Polynomial Interactions:\n",
    "from sklearn.preprocessing import StandardScaler, MinMaxScaler, PolynomialFeatures\n",
    "\n",
    "#scalor_X=MinMaxScaler().fit(pd.DataFrame(X_train))\n",
    "#X_train=scalor_X.transform(pd.DataFrame(X_train))\n",
    "#X_test=scalor_X.transform(pd.DataFrame(X_test))\n",
    "\n",
    "scaler_y=MinMaxScaler().fit(pd.DataFrame(y_train))\n",
    "y_train=scaler_y.transform(pd.DataFrame(y_train))\n",
    "y_test=scaler_y.transform(pd.DataFrame(y_test))"
   ]
  },
  {
   "cell_type": "markdown",
   "metadata": {},
   "source": [
    "# 1)  Bagging meta-estimator with XGBoost:"
   ]
  },
  {
   "cell_type": "code",
   "execution_count": 6,
   "metadata": {},
   "outputs": [
    {
     "name": "stdout",
     "output_type": "stream",
     "text": [
      "[0.86880861 0.87332533 0.90963991 0.90171472] \n",
      "\n",
      "AUC Accuracy: 0.89 (+/- 0.02)\n"
     ]
    }
   ],
   "source": [
    "import xgboost\n",
    "from xgboost import XGBRegressor\n",
    "from sklearn.model_selection import cross_val_score, KFold\n",
    "from sklearn.ensemble import BaggingRegressor\n",
    "\n",
    "model=XGBRegressor(gamma= 0, max_depth= 3, min_child_weight= 1)\n",
    "\n",
    "bag=BaggingRegressor(model, n_estimators = 100, max_samples=0.9, max_features=0.9, random_state=42)\n",
    "kfold=KFold(n_splits=4, shuffle=True, random_state=42)\n",
    "scores=cross_val_score(bag, X_train, y_train, cv=kfold)\n",
    "\n",
    "print(scores, \"\\n\")\n",
    "print(\"AUC Accuracy: %0.2f (+/- %0.2f)\" % (scores.mean(), scores.std()))"
   ]
  },
  {
   "cell_type": "code",
   "execution_count": 7,
   "metadata": {},
   "outputs": [
    {
     "data": {
      "text/html": [
       "<div>\n",
       "<style scoped>\n",
       "    .dataframe tbody tr th:only-of-type {\n",
       "        vertical-align: middle;\n",
       "    }\n",
       "\n",
       "    .dataframe tbody tr th {\n",
       "        vertical-align: top;\n",
       "    }\n",
       "\n",
       "    .dataframe thead th {\n",
       "        text-align: right;\n",
       "    }\n",
       "</style>\n",
       "<table border=\"1\" class=\"dataframe\">\n",
       "  <thead>\n",
       "    <tr style=\"text-align: right;\">\n",
       "      <th></th>\n",
       "      <th>mean_fit_time</th>\n",
       "      <th>std_fit_time</th>\n",
       "      <th>mean_score_time</th>\n",
       "      <th>std_score_time</th>\n",
       "      <th>param_max_features</th>\n",
       "      <th>param_max_samples</th>\n",
       "      <th>params</th>\n",
       "      <th>split0_test_score</th>\n",
       "      <th>split1_test_score</th>\n",
       "      <th>split2_test_score</th>\n",
       "      <th>split3_test_score</th>\n",
       "      <th>mean_test_score</th>\n",
       "      <th>std_test_score</th>\n",
       "      <th>rank_test_score</th>\n",
       "      <th>split0_train_score</th>\n",
       "      <th>split1_train_score</th>\n",
       "      <th>split2_train_score</th>\n",
       "      <th>split3_train_score</th>\n",
       "      <th>mean_train_score</th>\n",
       "      <th>std_train_score</th>\n",
       "    </tr>\n",
       "  </thead>\n",
       "  <tbody>\n",
       "    <tr>\n",
       "      <th>12</th>\n",
       "      <td>1.942675</td>\n",
       "      <td>0.005850</td>\n",
       "      <td>0.034841</td>\n",
       "      <td>0.001925</td>\n",
       "      <td>0.9</td>\n",
       "      <td>0.8</td>\n",
       "      <td>{'max_features': 0.9, 'max_samples': 0.8}</td>\n",
       "      <td>0.871666</td>\n",
       "      <td>0.878615</td>\n",
       "      <td>0.909368</td>\n",
       "      <td>0.901571</td>\n",
       "      <td>0.890202</td>\n",
       "      <td>0.015607</td>\n",
       "      <td>1</td>\n",
       "      <td>0.963712</td>\n",
       "      <td>0.958644</td>\n",
       "      <td>0.954332</td>\n",
       "      <td>0.955940</td>\n",
       "      <td>0.958157</td>\n",
       "      <td>0.003558</td>\n",
       "    </tr>\n",
       "    <tr>\n",
       "      <th>13</th>\n",
       "      <td>1.970059</td>\n",
       "      <td>0.010512</td>\n",
       "      <td>0.035559</td>\n",
       "      <td>0.002778</td>\n",
       "      <td>0.9</td>\n",
       "      <td>0.9</td>\n",
       "      <td>{'max_features': 0.9, 'max_samples': 0.9}</td>\n",
       "      <td>0.871076</td>\n",
       "      <td>0.876845</td>\n",
       "      <td>0.910993</td>\n",
       "      <td>0.902037</td>\n",
       "      <td>0.890127</td>\n",
       "      <td>0.016706</td>\n",
       "      <td>2</td>\n",
       "      <td>0.965880</td>\n",
       "      <td>0.960757</td>\n",
       "      <td>0.957741</td>\n",
       "      <td>0.959062</td>\n",
       "      <td>0.960860</td>\n",
       "      <td>0.003089</td>\n",
       "    </tr>\n",
       "    <tr>\n",
       "      <th>11</th>\n",
       "      <td>1.941488</td>\n",
       "      <td>0.016813</td>\n",
       "      <td>0.037520</td>\n",
       "      <td>0.003982</td>\n",
       "      <td>0.9</td>\n",
       "      <td>0.7</td>\n",
       "      <td>{'max_features': 0.9, 'max_samples': 0.7}</td>\n",
       "      <td>0.870101</td>\n",
       "      <td>0.879970</td>\n",
       "      <td>0.908406</td>\n",
       "      <td>0.901772</td>\n",
       "      <td>0.889960</td>\n",
       "      <td>0.015605</td>\n",
       "      <td>3</td>\n",
       "      <td>0.961141</td>\n",
       "      <td>0.955889</td>\n",
       "      <td>0.950807</td>\n",
       "      <td>0.952220</td>\n",
       "      <td>0.955014</td>\n",
       "      <td>0.003994</td>\n",
       "    </tr>\n",
       "  </tbody>\n",
       "</table>\n",
       "</div>"
      ],
      "text/plain": [
       "    mean_fit_time  std_fit_time  mean_score_time  std_score_time  \\\n",
       "12       1.942675      0.005850         0.034841        0.001925   \n",
       "13       1.970059      0.010512         0.035559        0.002778   \n",
       "11       1.941488      0.016813         0.037520        0.003982   \n",
       "\n",
       "   param_max_features param_max_samples  \\\n",
       "12                0.9               0.8   \n",
       "13                0.9               0.9   \n",
       "11                0.9               0.7   \n",
       "\n",
       "                                       params  split0_test_score  \\\n",
       "12  {'max_features': 0.9, 'max_samples': 0.8}           0.871666   \n",
       "13  {'max_features': 0.9, 'max_samples': 0.9}           0.871076   \n",
       "11  {'max_features': 0.9, 'max_samples': 0.7}           0.870101   \n",
       "\n",
       "    split1_test_score  split2_test_score  split3_test_score  mean_test_score  \\\n",
       "12           0.878615           0.909368           0.901571         0.890202   \n",
       "13           0.876845           0.910993           0.902037         0.890127   \n",
       "11           0.879970           0.908406           0.901772         0.889960   \n",
       "\n",
       "    std_test_score  rank_test_score  split0_train_score  split1_train_score  \\\n",
       "12        0.015607                1            0.963712            0.958644   \n",
       "13        0.016706                2            0.965880            0.960757   \n",
       "11        0.015605                3            0.961141            0.955889   \n",
       "\n",
       "    split2_train_score  split3_train_score  mean_train_score  std_train_score  \n",
       "12            0.954332            0.955940          0.958157         0.003558  \n",
       "13            0.957741            0.959062          0.960860         0.003089  \n",
       "11            0.950807            0.952220          0.955014         0.003994  "
      ]
     },
     "execution_count": 7,
     "metadata": {},
     "output_type": "execute_result"
    }
   ],
   "source": [
    "# Grid-Search for the best Bagging parameters: \n",
    "\n",
    "from sklearn.model_selection import GridSearchCV\n",
    "param={'max_samples':[0.5, 0.7, 0.8, 0.9, 1], 'max_features':[0.5, 0.7, 0.9, 1]}\n",
    "\n",
    "kfold=KFold(n_splits=4, shuffle=True, random_state=42)\n",
    "grid_search=GridSearchCV(BaggingRegressor(model, n_estimators = 50, random_state=42), param, cv=kfold, n_jobs=-1)\n",
    "grid_search.fit(X_train, y_train)\n",
    "\n",
    "# Grid-Search report: \n",
    "G=pd.DataFrame(grid_search.cv_results_).sort_values(\"rank_test_score\")\n",
    "G.head(3)"
   ]
  },
  {
   "cell_type": "code",
   "execution_count": 8,
   "metadata": {},
   "outputs": [
    {
     "name": "stdout",
     "output_type": "stream",
     "text": [
      "Best parameters:  {'max_features': 0.9, 'max_samples': 0.8}\n",
      "Best validation accuracy:  0.89 (+/- 0.02)\n",
      "Test score:  0.89\n"
     ]
    }
   ],
   "source": [
    "print(\"Best parameters: \", grid_search.best_params_)\n",
    "print(\"Best validation accuracy:  %0.2f (+/- %0.2f)\" % (np.round(grid_search.best_score_, decimals=2), np.round(G.loc[grid_search.best_index_,\"std_test_score\" ], decimals=2)))\n",
    "print(\"Test score: \", np.round(grid_search.score(X_test, y_test),2))"
   ]
  },
  {
   "cell_type": "code",
   "execution_count": 9,
   "metadata": {},
   "outputs": [
    {
     "data": {
      "image/png": "[encoded data removed]",
      "text/plain": [
       "<Figure size 432x288 with 1 Axes>"
      ]
     },
     "metadata": {},
     "output_type": "display_data"
    }
   ],
   "source": [
    "# Plot the Lift Chart:\n",
    "\n",
    "# Regression chart.\n",
    "def chart_regression(pred,y,sort=True):\n",
    "    t = pd.DataFrame({'pred' : pred, 'y' : y.flatten()})\n",
    "    if sort:\n",
    "        t.sort_values(by=['y'],inplace=True)\n",
    "    a = plt.plot(t['y'].tolist(),label='expected')\n",
    "    b = plt.plot(t['pred'].tolist(),label='prediction')\n",
    "    plt.ylabel('output')\n",
    "    plt.legend()\n",
    "    plt.show()\n",
    "\n",
    "pred=grid_search.predict(X_test)\n",
    "chart_regression(pred.flatten(), np.array(y_test), sort=True)"
   ]
  },
  {
   "cell_type": "code",
   "execution_count": 10,
   "metadata": {},
   "outputs": [
    {
     "name": "stdout",
     "output_type": "stream",
     "text": [
      "Test rmse:  2.76164627400196\n"
     ]
    }
   ],
   "source": [
    "from sklearn.metrics import mean_squared_error\n",
    "from math import sqrt\n",
    "\n",
    "pred_inv=scaler_y.inverse_transform(pd.DataFrame(pred))\n",
    "y_test_inv=scaler_y.inverse_transform(y_test)\n",
    "\n",
    "rmse = sqrt(mean_squared_error(np.e**y_test_inv, np.e**pred_inv))\n",
    "print('Test rmse: ', rmse)"
   ]
  },
  {
   "cell_type": "markdown",
   "metadata": {},
   "source": [
    "# 2) Stacked Regressor with XGBoost:"
   ]
  },
  {
   "cell_type": "code",
   "execution_count": 7,
   "metadata": {},
   "outputs": [
    {
     "name": "stdout",
     "output_type": "stream",
     "text": [
      "[0.7847752  0.78362    0.78646803] \n",
      "\n",
      "Accuracy: 0.78 (+/- 0.00)\n"
     ]
    }
   ],
   "source": [
    "import xgboost\n",
    "from xgboost import XGBRegressor\n",
    "from mlxtend.regressor import StackingRegressor\n",
    "from sklearn.linear_model import Lasso, Ridge, ElasticNet\n",
    "from sklearn.ensemble import RandomForestRegressor\n",
    "from sklearn.model_selection import cross_val_score, KFold\n",
    "\n",
    "reg_1=XGBRegressor(max_depth= 12, min_child_weight=10, subsample=0.7, n_estimators=100)\n",
    "reg_2=XGBRegressor(max_depth= 8, min_child_weight=10, subsample=0.7, n_estimators=200)\n",
    "reg_3=XGBRegressor(max_depth= 6, min_child_weight=10, subsample=0.7, n_estimators=300)\n",
    "\n",
    "meta_reg=XGBRegressor(max_depth= 12, min_child_weight=5, subsample=0.7, n_estimators=200)\n",
    "\n",
    "stack=StackingRegressor(regressors=[reg_1, reg_2, reg_3], meta_regressor= meta_reg, use_features_in_secondary=True)\n",
    "\n",
    "scores=cross_val_score(stack, X_train, y_train)\n",
    "\n",
    "print(scores, \"\\n\")\n",
    "print(\"Accuracy: %0.2f (+/- %0.2f)\" % (scores.mean(), scores.std()))"
   ]
  },
  {
   "cell_type": "code",
   "execution_count": 9,
   "metadata": {},
   "outputs": [
    {
     "data": {
      "text/plain": [
       "StackingRegressor(meta_regressor=XGBRegressor(base_score=0.5, booster='gbtree', colsample_bylevel=1,\n",
       "       colsample_bytree=1, gamma=0, learning_rate=0.1, max_delta_step=0,\n",
       "       max_depth=12, min_child_weight=5, missing=None, n_estimators=200,\n",
       "       n_jobs=1, nthread=None, objective='reg:linear', random_state=0,\n",
       "       reg_alpha=0, reg_lambda=1, scale_pos_weight=1, seed=None,\n",
       "       silent=True, subsample=0.7),\n",
       "         refit=True,\n",
       "         regressors=[XGBRegressor(base_score=0.5, booster='gbtree', colsample_bylevel=1,\n",
       "       colsample_bytree=1, gamma=0, learning_rate=0.1, max_delta_step=0,\n",
       "       max_depth=12, min_child_weight=10, missing=None, n_estimators=100,\n",
       "       n_jobs=1, nthread=None, objective='reg:linear', random_state=0,\n",
       "  ...       reg_alpha=0, reg_lambda=1, scale_pos_weight=1, seed=None,\n",
       "       silent=True, subsample=0.7)],\n",
       "         store_train_meta_features=False, use_features_in_secondary=True,\n",
       "         verbose=0)"
      ]
     },
     "execution_count": 9,
     "metadata": {},
     "output_type": "execute_result"
    }
   ],
   "source": [
    "stack.fit(X_train, y_train)"
   ]
  },
  {
   "cell_type": "code",
   "execution_count": 10,
   "metadata": {},
   "outputs": [
    {
     "data": {
      "image/png": "[encoded data removed]",
      "text/plain": [
       "<Figure size 432x288 with 1 Axes>"
      ]
     },
     "metadata": {},
     "output_type": "display_data"
    }
   ],
   "source": [
    "# Plot the Lift Chart:\n",
    "# Regression chart.\n",
    "def chart_regression(pred,y,sort=True):\n",
    "    t = pd.DataFrame({'pred' : pred, 'y' : y.flatten()})\n",
    "    if sort:\n",
    "        t.sort_values(by=['y'],inplace=True)\n",
    "    a = plt.plot(t['y'].tolist(),label='expected')\n",
    "    b = plt.plot(t['pred'].tolist(),label='prediction')\n",
    "    plt.ylabel('output')\n",
    "    plt.legend()\n",
    "    plt.show()\n",
    "\n",
    "pred=stack.predict(X_test)\n",
    "chart_regression(pred.flatten(), np.array(y_test), sort=True)"
   ]
  },
  {
   "cell_type": "code",
   "execution_count": 11,
   "metadata": {},
   "outputs": [
    {
     "name": "stdout",
     "output_type": "stream",
     "text": [
      "Test rmse:  2636.5354431419178\n"
     ]
    }
   ],
   "source": [
    "from sklearn.metrics import mean_squared_error\n",
    "from math import sqrt\n",
    "\n",
    "pred_inv=scaler_y.inverse_transform(pd.DataFrame(pred))\n",
    "y_test_inv=scaler_y.inverse_transform(y_test)\n",
    "\n",
    "rmse = sqrt(mean_squared_error(np.e**y_test_inv, np.e**pred_inv))\n",
    "print('Test rmse: ', rmse)"
   ]
  },
  {
   "cell_type": "code",
   "execution_count": 12,
   "metadata": {},
   "outputs": [
    {
     "data": {
      "text/html": [
       "<div>\n",
       "<style scoped>\n",
       "    .dataframe tbody tr th:only-of-type {\n",
       "        vertical-align: middle;\n",
       "    }\n",
       "\n",
       "    .dataframe tbody tr th {\n",
       "        vertical-align: top;\n",
       "    }\n",
       "\n",
       "    .dataframe thead th {\n",
       "        text-align: right;\n",
       "    }\n",
       "</style>\n",
       "<table border=\"1\" class=\"dataframe\">\n",
       "  <thead>\n",
       "    <tr style=\"text-align: right;\">\n",
       "      <th></th>\n",
       "      <th>mean_fit_time</th>\n",
       "      <th>std_fit_time</th>\n",
       "      <th>mean_score_time</th>\n",
       "      <th>std_score_time</th>\n",
       "      <th>param_meta-ridge__alpha</th>\n",
       "      <th>params</th>\n",
       "      <th>split0_test_score</th>\n",
       "      <th>split1_test_score</th>\n",
       "      <th>split2_test_score</th>\n",
       "      <th>split3_test_score</th>\n",
       "      <th>...</th>\n",
       "      <th>mean_test_score</th>\n",
       "      <th>std_test_score</th>\n",
       "      <th>rank_test_score</th>\n",
       "      <th>split0_train_score</th>\n",
       "      <th>split1_train_score</th>\n",
       "      <th>split2_train_score</th>\n",
       "      <th>split3_train_score</th>\n",
       "      <th>split4_train_score</th>\n",
       "      <th>mean_train_score</th>\n",
       "      <th>std_train_score</th>\n",
       "    </tr>\n",
       "  </thead>\n",
       "  <tbody>\n",
       "    <tr>\n",
       "      <th>5</th>\n",
       "      <td>0.146101</td>\n",
       "      <td>0.002646</td>\n",
       "      <td>0.005820</td>\n",
       "      <td>0.001818</td>\n",
       "      <td>1</td>\n",
       "      <td>{'meta-ridge__alpha': 1}</td>\n",
       "      <td>0.860384</td>\n",
       "      <td>0.879283</td>\n",
       "      <td>0.903379</td>\n",
       "      <td>0.880925</td>\n",
       "      <td>...</td>\n",
       "      <td>0.887986</td>\n",
       "      <td>0.019631</td>\n",
       "      <td>1</td>\n",
       "      <td>0.976794</td>\n",
       "      <td>0.975742</td>\n",
       "      <td>0.973366</td>\n",
       "      <td>0.975252</td>\n",
       "      <td>0.972579</td>\n",
       "      <td>0.974746</td>\n",
       "      <td>0.001552</td>\n",
       "    </tr>\n",
       "    <tr>\n",
       "      <th>4</th>\n",
       "      <td>0.153816</td>\n",
       "      <td>0.006850</td>\n",
       "      <td>0.005802</td>\n",
       "      <td>0.002233</td>\n",
       "      <td>0.5</td>\n",
       "      <td>{'meta-ridge__alpha': 0.5}</td>\n",
       "      <td>0.854796</td>\n",
       "      <td>0.880561</td>\n",
       "      <td>0.895593</td>\n",
       "      <td>0.882475</td>\n",
       "      <td>...</td>\n",
       "      <td>0.886704</td>\n",
       "      <td>0.021423</td>\n",
       "      <td>2</td>\n",
       "      <td>0.981636</td>\n",
       "      <td>0.980933</td>\n",
       "      <td>0.979368</td>\n",
       "      <td>0.979075</td>\n",
       "      <td>0.979297</td>\n",
       "      <td>0.980062</td>\n",
       "      <td>0.001027</td>\n",
       "    </tr>\n",
       "    <tr>\n",
       "      <th>3</th>\n",
       "      <td>0.153419</td>\n",
       "      <td>0.008415</td>\n",
       "      <td>0.005556</td>\n",
       "      <td>0.002004</td>\n",
       "      <td>0.1</td>\n",
       "      <td>{'meta-ridge__alpha': 0.1}</td>\n",
       "      <td>0.833876</td>\n",
       "      <td>0.872018</td>\n",
       "      <td>0.885271</td>\n",
       "      <td>0.884816</td>\n",
       "      <td>...</td>\n",
       "      <td>0.877331</td>\n",
       "      <td>0.025208</td>\n",
       "      <td>3</td>\n",
       "      <td>0.989314</td>\n",
       "      <td>0.985638</td>\n",
       "      <td>0.985957</td>\n",
       "      <td>0.987929</td>\n",
       "      <td>0.988202</td>\n",
       "      <td>0.987408</td>\n",
       "      <td>0.001398</td>\n",
       "    </tr>\n",
       "  </tbody>\n",
       "</table>\n",
       "<p>3 rows × 21 columns</p>\n",
       "</div>"
      ],
      "text/plain": [
       "   mean_fit_time  std_fit_time  mean_score_time  std_score_time  \\\n",
       "5       0.146101      0.002646         0.005820        0.001818   \n",
       "4       0.153816      0.006850         0.005802        0.002233   \n",
       "3       0.153419      0.008415         0.005556        0.002004   \n",
       "\n",
       "  param_meta-ridge__alpha                      params  split0_test_score  \\\n",
       "5                       1    {'meta-ridge__alpha': 1}           0.860384   \n",
       "4                     0.5  {'meta-ridge__alpha': 0.5}           0.854796   \n",
       "3                     0.1  {'meta-ridge__alpha': 0.1}           0.833876   \n",
       "\n",
       "   split1_test_score  split2_test_score  split3_test_score       ...         \\\n",
       "5           0.879283           0.903379           0.880925       ...          \n",
       "4           0.880561           0.895593           0.882475       ...          \n",
       "3           0.872018           0.885271           0.884816       ...          \n",
       "\n",
       "   mean_test_score  std_test_score  rank_test_score  split0_train_score  \\\n",
       "5         0.887986        0.019631                1            0.976794   \n",
       "4         0.886704        0.021423                2            0.981636   \n",
       "3         0.877331        0.025208                3            0.989314   \n",
       "\n",
       "   split1_train_score  split2_train_score  split3_train_score  \\\n",
       "5            0.975742            0.973366            0.975252   \n",
       "4            0.980933            0.979368            0.979075   \n",
       "3            0.985638            0.985957            0.987929   \n",
       "\n",
       "   split4_train_score  mean_train_score  std_train_score  \n",
       "5            0.972579          0.974746         0.001552  \n",
       "4            0.979297          0.980062         0.001027  \n",
       "3            0.988202          0.987408         0.001398  \n",
       "\n",
       "[3 rows x 21 columns]"
      ]
     },
     "execution_count": 12,
     "metadata": {},
     "output_type": "execute_result"
    }
   ],
   "source": [
    "# Grid-Search for the best model parameters: \n",
    "\n",
    "from sklearn.model_selection import GridSearchCV\n",
    "\n",
    "param={'meta-ridge__alpha': [0.0001, 0.001, 0.01, 0.1, 0.5, 1, 5, 10, 100, 1000]}\n",
    "#param={'meta-xgbregressor__max_depth':[2, 3, 4, 5], 'meta-xgbregressor__min_child_weight':[1, 2, 3, 4], \n",
    "#      'meta-xgbregressor__gamma': [ 0, 0.01, 0.05, 0.1]}\n",
    "\n",
    "kfold=KFold(n_splits=5, shuffle=True, random_state=42)\n",
    "grid_search=GridSearchCV(StackingRegressor([reg1, reg2, reg3], meta_regressor= meta_reg), param, cv=kfold) \n",
    "\n",
    "grid_search.fit(X_train, y_train)\n",
    "\n",
    "# Grid-Search report: \n",
    "G=pd.DataFrame(grid_search.cv_results_).sort_values(\"rank_test_score\")\n",
    "G.head(3)"
   ]
  },
  {
   "cell_type": "code",
   "execution_count": 13,
   "metadata": {},
   "outputs": [
    {
     "name": "stdout",
     "output_type": "stream",
     "text": [
      "Best parameters:  {'meta-ridge__alpha': 1}\n",
      "Best validation accuracy:  0.89 (+/- 0.02)\n",
      "Test score:  0.91\n"
     ]
    }
   ],
   "source": [
    "print(\"Best parameters: \", grid_search.best_params_)\n",
    "print(\"Best validation accuracy:  %0.2f (+/- %0.2f)\" % (np.round(grid_search.best_score_, decimals=2), np.round(G.loc[grid_search.best_index_,\"std_test_score\" ], decimals=2)))\n",
    "print(\"Test score: \", np.round(grid_search.score(X_test, y_test),2))"
   ]
  },
  {
   "cell_type": "code",
   "execution_count": 14,
   "metadata": {},
   "outputs": [
    {
     "data": {
      "image/png": "[encoded data removed]",
      "text/plain": [
       "<Figure size 432x288 with 1 Axes>"
      ]
     },
     "metadata": {},
     "output_type": "display_data"
    }
   ],
   "source": [
    "# Plot the Lift Chart:\n",
    "\n",
    "# Regression chart.\n",
    "def chart_regression(pred,y,sort=True):\n",
    "    t = pd.DataFrame({'pred' : pred, 'y' : y.flatten()})\n",
    "    if sort:\n",
    "        t.sort_values(by=['y'],inplace=True)\n",
    "    a = plt.plot(t['y'].tolist(),label='expected')\n",
    "    b = plt.plot(t['pred'].tolist(),label='prediction')\n",
    "    plt.ylabel('output')\n",
    "    plt.legend()\n",
    "    plt.show()\n",
    "\n",
    "pred=grid_search.predict(X_test)\n",
    "chart_regression(pred.flatten(), np.array(y_test), sort=True)"
   ]
  },
  {
   "cell_type": "code",
   "execution_count": 15,
   "metadata": {},
   "outputs": [
    {
     "name": "stdout",
     "output_type": "stream",
     "text": [
      "Test rmse:  2.640357548516481\n"
     ]
    }
   ],
   "source": [
    "from sklearn.metrics import mean_squared_error\n",
    "from math import sqrt\n",
    "\n",
    "pred_inv=scaler_y.inverse_transform(pd.DataFrame(pred))\n",
    "y_test_inv=scaler_y.inverse_transform(y_test)\n",
    "\n",
    "rmse = sqrt(mean_squared_error(np.e**y_test_inv, np.e**pred_inv))\n",
    "print('Test rmse: ', rmse)"
   ]
  },
  {
   "cell_type": "code",
   "execution_count": null,
   "metadata": {},
   "outputs": [],
   "source": []
  }
 ],
 "metadata": {
  "kernelspec": {
   "display_name": "Python 3",
   "language": "python",
   "name": "python3"
  },
  "language_info": {
   "codemirror_mode": {
    "name": "ipython",
    "version": 3
   },
   "file_extension": ".py",
   "mimetype": "text/x-python",
   "name": "python",
   "nbconvert_exporter": "python",
   "pygments_lexer": "ipython3",
   "version": "3.6.5"
  }
 },
 "nbformat": 4,
 "nbformat_minor": 2
}
